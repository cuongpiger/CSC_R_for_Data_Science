{
 "cells": [
  {
   "cell_type": "markdown",
   "id": "a02430b8-3932-41cc-94db-2462ed873bf4",
   "metadata": {},
   "source": [
    "![](images/15_03.png)"
   ]
  },
  {
   "cell_type": "markdown",
   "id": "ebdd10f7-00de-495b-8e15-9aa75de18b6f",
   "metadata": {},
   "source": [
    "# Vấn đề 1"
   ]
  },
  {
   "cell_type": "code",
   "execution_count": 1,
   "id": "992bef2f-ac0c-4ad7-bf79-671cccb98c2e",
   "metadata": {},
   "outputs": [
    {
     "data": {
      "text/html": [
       "0.13287555072"
      ],
      "text/latex": [
       "0.13287555072"
      ],
      "text/markdown": [
       "0.13287555072"
      ],
      "text/plain": [
       "[1] 0.1328756"
      ]
     },
     "metadata": {},
     "output_type": "display_data"
    }
   ],
   "source": [
    "dbinom(4, 12, 0.2)"
   ]
  },
  {
   "cell_type": "code",
   "execution_count": null,
   "id": "3361165d-ffdc-4e55-b870-d0cc7996fe78",
   "metadata": {},
   "outputs": [],
   "source": []
  },
  {
   "cell_type": "code",
   "execution_count": 2,
   "id": "eec3688c-736e-4033-bea7-a1c0d1bd374a",
   "metadata": {},
   "outputs": [
    {
     "data": {
      "text/html": [
       "0.92744450048"
      ],
      "text/latex": [
       "0.92744450048"
      ],
      "text/markdown": [
       "0.92744450048"
      ],
      "text/plain": [
       "[1] 0.9274445"
      ]
     },
     "metadata": {},
     "output_type": "display_data"
    }
   ],
   "source": [
    "pbinom(4, 12, 0.2)"
   ]
  },
  {
   "cell_type": "markdown",
   "id": "31c192de-839f-4efe-9261-6f498fa61872",
   "metadata": {},
   "source": [
    "# Vấn đề 2"
   ]
  },
  {
   "cell_type": "code",
   "execution_count": 3,
   "id": "7d63b3d1-5aab-4af7-8005-5dd8592a846d",
   "metadata": {},
   "outputs": [
    {
     "data": {
      "text/html": [
       "0.201326592"
      ],
      "text/latex": [
       "0.201326592"
      ],
      "text/markdown": [
       "0.201326592"
      ],
      "text/plain": [
       "[1] 0.2013266"
      ]
     },
     "metadata": {},
     "output_type": "display_data"
    }
   ],
   "source": [
    "dbinom(7, 10, 0.8)"
   ]
  },
  {
   "cell_type": "markdown",
   "id": "16bd1382-0c37-45e2-bc51-3e816595069d",
   "metadata": {},
   "source": [
    "# Vấn đề 3"
   ]
  },
  {
   "cell_type": "code",
   "execution_count": 4,
   "id": "3a94cfa0-db45-4d3b-a789-733d8f445628",
   "metadata": {},
   "outputs": [
    {
     "data": {
      "text/html": [
       "0.8153726976"
      ],
      "text/latex": [
       "0.8153726976"
      ],
      "text/markdown": [
       "0.8153726976"
      ],
      "text/plain": [
       "[1] 0.8153727"
      ]
     },
     "metadata": {},
     "output_type": "display_data"
    }
   ],
   "source": [
    "dbinom(0, 5, 0.04) # ko có ng chết"
   ]
  },
  {
   "cell_type": "code",
   "execution_count": null,
   "id": "fb7a9ee2-6f02-4f01-a2e9-33191739574b",
   "metadata": {},
   "outputs": [],
   "source": []
  }
 ],
 "metadata": {
  "kernelspec": {
   "display_name": "R",
   "language": "R",
   "name": "ir"
  },
  "language_info": {
   "codemirror_mode": "r",
   "file_extension": ".r",
   "mimetype": "text/x-r-source",
   "name": "R",
   "pygments_lexer": "r",
   "version": "4.1.0"
  }
 },
 "nbformat": 4,
 "nbformat_minor": 5
}
