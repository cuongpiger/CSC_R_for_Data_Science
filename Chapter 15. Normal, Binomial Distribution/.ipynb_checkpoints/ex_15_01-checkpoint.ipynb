{
 "cells": [
  {
   "cell_type": "markdown",
   "id": "779cef9a-bdf5-4017-b875-9b0982df23ad",
   "metadata": {},
   "source": [
    "![](images/15_00.png)"
   ]
  },
  {
   "cell_type": "code",
   "execution_count": 1,
   "id": "07ccfb65-892f-4cef-93e9-8fe786edead4",
   "metadata": {},
   "outputs": [
    {
     "data": {
      "text/html": [
       "0.29647548"
      ],
      "text/latex": [
       "0.29647548"
      ],
      "text/markdown": [
       "0.29647548"
      ],
      "text/plain": [
       "[1] 0.2964755"
      ]
     },
     "metadata": {},
     "output_type": "display_data"
    }
   ],
   "source": [
    "dbinom(2, 8, 0.3)"
   ]
  },
  {
   "cell_type": "code",
   "execution_count": null,
   "id": "758cc8c5-d1ca-45eb-bcdc-9292393010e3",
   "metadata": {},
   "outputs": [],
   "source": []
  },
  {
   "cell_type": "code",
   "execution_count": 2,
   "id": "e9563783-5e64-48d4-8dcd-9f022655b084",
   "metadata": {},
   "outputs": [
    {
     "data": {
      "text/html": [
       "0.00122472"
      ],
      "text/latex": [
       "0.00122472"
      ],
      "text/markdown": [
       "0.00122472"
      ],
      "text/plain": [
       "[1] 0.00122472"
      ]
     },
     "metadata": {},
     "output_type": "display_data"
    }
   ],
   "source": [
    "dbinom(7, 8, .3)"
   ]
  },
  {
   "cell_type": "code",
   "execution_count": null,
   "id": "07f1702d-8f69-4375-9437-7089ea9b42a9",
   "metadata": {},
   "outputs": [],
   "source": []
  },
  {
   "cell_type": "code",
   "execution_count": 3,
   "id": "bde63c10-6c5c-4d83-afae-e438ba29bc4b",
   "metadata": {},
   "outputs": [
    {
     "data": {
      "text/html": [
       "0.74470167"
      ],
      "text/latex": [
       "0.74470167"
      ],
      "text/markdown": [
       "0.74470167"
      ],
      "text/plain": [
       "[1] 0.7447017"
      ]
     },
     "metadata": {},
     "output_type": "display_data"
    }
   ],
   "source": [
    "1 - pbinom(1, 8, .3)"
   ]
  },
  {
   "cell_type": "code",
   "execution_count": null,
   "id": "da54f034-6de5-45e7-b827-dc1fe16d7169",
   "metadata": {},
   "outputs": [],
   "source": []
  }
 ],
 "metadata": {
  "kernelspec": {
   "display_name": "R",
   "language": "R",
   "name": "ir"
  },
  "language_info": {
   "codemirror_mode": "r",
   "file_extension": ".r",
   "mimetype": "text/x-r-source",
   "name": "R",
   "pygments_lexer": "r",
   "version": "4.1.0"
  }
 },
 "nbformat": 4,
 "nbformat_minor": 5
}
