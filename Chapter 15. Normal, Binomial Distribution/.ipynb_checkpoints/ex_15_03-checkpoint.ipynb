{
 "cells": [
  {
   "cell_type": "markdown",
   "id": "b131659c-da65-4b88-be81-f52430504cdb",
   "metadata": {},
   "source": [
    "![](images/15_02.png)"
   ]
  },
  {
   "cell_type": "code",
   "execution_count": 1,
   "id": "3c71c3d2-6466-4a51-98fe-c227b373245f",
   "metadata": {},
   "outputs": [],
   "source": [
    "normal_samples = rnorm(500, mean = 35, sd = 0.1)"
   ]
  },
  {
   "cell_type": "code",
   "execution_count": null,
   "id": "abc2a96d-ba05-4661-8031-8acbb871064b",
   "metadata": {},
   "outputs": [],
   "source": []
  },
  {
   "cell_type": "code",
   "execution_count": 2,
   "id": "7e002373-5e7c-4110-8783-ae5c7419a641",
   "metadata": {},
   "outputs": [
    {
     "data": {
      "text/html": [
       "<style>\n",
       ".list-inline {list-style: none; margin:0; padding: 0}\n",
       ".list-inline>li {display: inline-block}\n",
       ".list-inline>li:not(:last-child)::after {content: \"\\00b7\"; padding: 0 .5ex}\n",
       "</style>\n",
       "<ol class=list-inline><li>34.8806835575453</li><li>35.1156094361945</li><li>34.9690348932192</li><li>35.0078117693174</li><li>35.0029389439496</li><li>34.9937403649678</li><li>34.9195771640194</li><li>35.0653889898171</li><li>34.9503934232981</li><li>35.0457498778884</li></ol>\n"
      ],
      "text/latex": [
       "\\begin{enumerate*}\n",
       "\\item 34.8806835575453\n",
       "\\item 35.1156094361945\n",
       "\\item 34.9690348932192\n",
       "\\item 35.0078117693174\n",
       "\\item 35.0029389439496\n",
       "\\item 34.9937403649678\n",
       "\\item 34.9195771640194\n",
       "\\item 35.0653889898171\n",
       "\\item 34.9503934232981\n",
       "\\item 35.0457498778884\n",
       "\\end{enumerate*}\n"
      ],
      "text/markdown": [
       "1. 34.8806835575453\n",
       "2. 35.1156094361945\n",
       "3. 34.9690348932192\n",
       "4. 35.0078117693174\n",
       "5. 35.0029389439496\n",
       "6. 34.9937403649678\n",
       "7. 34.9195771640194\n",
       "8. 35.0653889898171\n",
       "9. 34.9503934232981\n",
       "10. 35.0457498778884\n",
       "\n",
       "\n"
      ],
      "text/plain": [
       " [1] 34.88068 35.11561 34.96903 35.00781 35.00294 34.99374 34.91958 35.06539\n",
       " [9] 34.95039 35.04575"
      ]
     },
     "metadata": {},
     "output_type": "display_data"
    }
   ],
   "source": [
    "head(normal_samples, 10)"
   ]
  },
  {
   "cell_type": "code",
   "execution_count": null,
   "id": "e9310936-f909-4ac0-83c0-8109bc945faa",
   "metadata": {},
   "outputs": [],
   "source": []
  },
  {
   "cell_type": "code",
   "execution_count": 3,
   "id": "e0526baa-5831-4794-982f-62c617be11b0",
   "metadata": {},
   "outputs": [
    {
     "data": {
      "image/png": "[encoded data removed]",
      "text/plain": [
       "Plot with title “Histogram of normal_samples”"
      ]
     },
     "metadata": {
      "image/png": {
       "height": 420,
       "width": 420
      }
     },
     "output_type": "display_data"
    }
   ],
   "source": [
    "hist(normal_samples, breaks = 50)"
   ]
  },
  {
   "cell_type": "code",
   "execution_count": null,
   "id": "75efa0f6-41f0-4b43-82fe-b5e65cf62037",
   "metadata": {},
   "outputs": [],
   "source": []
  },
  {
   "cell_type": "code",
   "execution_count": 4,
   "id": "8ded984d-2b12-43a1-b8ef-728d1c8042ec",
   "metadata": {},
   "outputs": [],
   "source": [
    "new_mean = mean(normal_samples)\n",
    "new_sd = sd(normal_samples)"
   ]
  },
  {
   "cell_type": "code",
   "execution_count": 5,
   "id": "3be5ae88-dec8-40a3-8abf-7bbff7357648",
   "metadata": {},
   "outputs": [
    {
     "data": {
      "text/html": [
       "34.9893001659253"
      ],
      "text/latex": [
       "34.9893001659253"
      ],
      "text/markdown": [
       "34.9893001659253"
      ],
      "text/plain": [
       "[1] 34.9893"
      ]
     },
     "metadata": {},
     "output_type": "display_data"
    }
   ],
   "source": [
    "new_mean"
   ]
  },
  {
   "cell_type": "code",
   "execution_count": 6,
   "id": "2159f897-e767-4fea-8c76-744521a10a66",
   "metadata": {},
   "outputs": [
    {
     "data": {
      "text/html": [
       "0.102604362871705"
      ],
      "text/latex": [
       "0.102604362871705"
      ],
      "text/markdown": [
       "0.102604362871705"
      ],
      "text/plain": [
       "[1] 0.1026044"
      ]
     },
     "metadata": {},
     "output_type": "display_data"
    }
   ],
   "source": [
    "new_sd"
   ]
  },
  {
   "cell_type": "code",
   "execution_count": null,
   "id": "7718336a-a9ff-4204-b1e3-de5457e7d437",
   "metadata": {},
   "outputs": [],
   "source": []
  }
 ],
 "metadata": {
  "kernelspec": {
   "display_name": "R",
   "language": "R",
   "name": "ir"
  },
  "language_info": {
   "codemirror_mode": "r",
   "file_extension": ".r",
   "mimetype": "text/x-r-source",
   "name": "R",
   "pygments_lexer": "r",
   "version": "4.1.0"
  }
 },
 "nbformat": 4,
 "nbformat_minor": 5
}
