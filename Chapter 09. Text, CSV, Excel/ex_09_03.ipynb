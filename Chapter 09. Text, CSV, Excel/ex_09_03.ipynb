{
 "cells": [
  {
   "cell_type": "markdown",
   "id": "ef6acdd8-2e58-4dea-9ac3-453a0c4a2da6",
   "metadata": {},
   "source": [
    "![](images/09_02.png)"
   ]
  },
  {
   "cell_type": "code",
   "execution_count": 2,
   "id": "2eb0252b-5c46-4107-8dfe-876c984013f1",
   "metadata": {},
   "outputs": [],
   "source": [
    "df = read.table(\"./data/Table6.txt\", skip=1,\n",
    "               header = TRUE,\n",
    "               flush = TRUE,\n",
    "               comment.char = '@',\n",
    "               stringsAsFactors = FALSE)"
   ]
  },
  {
   "cell_type": "code",
   "execution_count": 3,
   "id": "fdb5a9bc-a815-4f3c-a0a2-0b831164074e",
   "metadata": {},
   "outputs": [
    {
     "data": {
      "text/html": [
       "<table class=\"dataframe\">\n",
       "<caption>A data.frame: 6 × 5</caption>\n",
       "<thead>\n",
       "\t<tr><th></th><th scope=col>Name</th><th scope=col>Age</th><th scope=col>Height</th><th scope=col>Weight</th><th scope=col>Sex</th></tr>\n",
       "\t<tr><th></th><th scope=col>&lt;chr&gt;</th><th scope=col>&lt;int&gt;</th><th scope=col>&lt;int&gt;</th><th scope=col>&lt;int&gt;</th><th scope=col>&lt;chr&gt;</th></tr>\n",
       "</thead>\n",
       "<tbody>\n",
       "\t<tr><th scope=row>1</th><td>Alex  </td><td>25</td><td>177</td><td>57</td><td>F</td></tr>\n",
       "\t<tr><th scope=row>2</th><td>Lilly </td><td>31</td><td>163</td><td>69</td><td>F</td></tr>\n",
       "\t<tr><th scope=row>3</th><td>Mark  </td><td>23</td><td>190</td><td>83</td><td>M</td></tr>\n",
       "\t<tr><th scope=row>4</th><td>Oliver</td><td>52</td><td>179</td><td>75</td><td>M</td></tr>\n",
       "\t<tr><th scope=row>5</th><td>Martha</td><td>76</td><td>163</td><td>70</td><td>F</td></tr>\n",
       "\t<tr><th scope=row>6</th><td>Lucas </td><td>49</td><td>183</td><td>83</td><td>M</td></tr>\n",
       "</tbody>\n",
       "</table>\n"
      ],
      "text/latex": [
       "A data.frame: 6 × 5\n",
       "\\begin{tabular}{r|lllll}\n",
       "  & Name & Age & Height & Weight & Sex\\\\\n",
       "  & <chr> & <int> & <int> & <int> & <chr>\\\\\n",
       "\\hline\n",
       "\t1 & Alex   & 25 & 177 & 57 & F\\\\\n",
       "\t2 & Lilly  & 31 & 163 & 69 & F\\\\\n",
       "\t3 & Mark   & 23 & 190 & 83 & M\\\\\n",
       "\t4 & Oliver & 52 & 179 & 75 & M\\\\\n",
       "\t5 & Martha & 76 & 163 & 70 & F\\\\\n",
       "\t6 & Lucas  & 49 & 183 & 83 & M\\\\\n",
       "\\end{tabular}\n"
      ],
      "text/markdown": [
       "\n",
       "A data.frame: 6 × 5\n",
       "\n",
       "| <!--/--> | Name &lt;chr&gt; | Age &lt;int&gt; | Height &lt;int&gt; | Weight &lt;int&gt; | Sex &lt;chr&gt; |\n",
       "|---|---|---|---|---|---|\n",
       "| 1 | Alex   | 25 | 177 | 57 | F |\n",
       "| 2 | Lilly  | 31 | 163 | 69 | F |\n",
       "| 3 | Mark   | 23 | 190 | 83 | M |\n",
       "| 4 | Oliver | 52 | 179 | 75 | M |\n",
       "| 5 | Martha | 76 | 163 | 70 | F |\n",
       "| 6 | Lucas  | 49 | 183 | 83 | M |\n",
       "\n"
      ],
      "text/plain": [
       "  Name   Age Height Weight Sex\n",
       "1 Alex   25  177    57     F  \n",
       "2 Lilly  31  163    69     F  \n",
       "3 Mark   23  190    83     M  \n",
       "4 Oliver 52  179    75     M  \n",
       "5 Martha 76  163    70     F  \n",
       "6 Lucas  49  183    83     M  "
      ]
     },
     "metadata": {},
     "output_type": "display_data"
    }
   ],
   "source": [
    "head(df)"
   ]
  },
  {
   "cell_type": "code",
   "execution_count": null,
   "id": "e83fe215-be43-4781-9c37-b87738f06c1c",
   "metadata": {},
   "outputs": [],
   "source": []
  },
  {
   "cell_type": "code",
   "execution_count": 4,
   "id": "ceaea38f-dfc1-4045-895b-e5b95367a2ae",
   "metadata": {},
   "outputs": [
    {
     "name": "stderr",
     "output_type": "stream",
     "text": [
      "── \u001b[1mAttaching packages\u001b[22m ─────────────────────────────────────── tidyverse 1.3.1 ──\n",
      "\n",
      "\u001b[32m✔\u001b[39m \u001b[34mggplot2\u001b[39m 3.3.5     \u001b[32m✔\u001b[39m \u001b[34mpurrr  \u001b[39m 0.3.4\n",
      "\u001b[32m✔\u001b[39m \u001b[34mtibble \u001b[39m 3.1.2     \u001b[32m✔\u001b[39m \u001b[34mdplyr  \u001b[39m 1.0.7\n",
      "\u001b[32m✔\u001b[39m \u001b[34mtidyr  \u001b[39m 1.1.3     \u001b[32m✔\u001b[39m \u001b[34mstringr\u001b[39m 1.4.0\n",
      "\u001b[32m✔\u001b[39m \u001b[34mreadr  \u001b[39m 1.4.0     \u001b[32m✔\u001b[39m \u001b[34mforcats\u001b[39m 0.5.1\n",
      "\n",
      "── \u001b[1mConflicts\u001b[22m ────────────────────────────────────────── tidyverse_conflicts() ──\n",
      "\u001b[31m✖\u001b[39m \u001b[34mdplyr\u001b[39m::\u001b[32mfilter()\u001b[39m masks \u001b[34mstats\u001b[39m::filter()\n",
      "\u001b[31m✖\u001b[39m \u001b[34mdplyr\u001b[39m::\u001b[32mlag()\u001b[39m    masks \u001b[34mstats\u001b[39m::lag()\n",
      "\n"
     ]
    }
   ],
   "source": [
    "library('tidyverse')"
   ]
  },
  {
   "cell_type": "code",
   "execution_count": 5,
   "id": "53320037-b2a5-49e5-9f50-3941016ba21a",
   "metadata": {},
   "outputs": [],
   "source": [
    "df = df %>% unique()"
   ]
  },
  {
   "cell_type": "code",
   "execution_count": 6,
   "id": "30d4cb64-6676-41b0-bdd3-9d528b95043a",
   "metadata": {},
   "outputs": [
    {
     "data": {
      "text/html": [
       "<table class=\"dataframe\">\n",
       "<caption>A data.frame: 7 × 5</caption>\n",
       "<thead>\n",
       "\t<tr><th></th><th scope=col>Name</th><th scope=col>Age</th><th scope=col>Height</th><th scope=col>Weight</th><th scope=col>Sex</th></tr>\n",
       "\t<tr><th></th><th scope=col>&lt;chr&gt;</th><th scope=col>&lt;int&gt;</th><th scope=col>&lt;int&gt;</th><th scope=col>&lt;int&gt;</th><th scope=col>&lt;chr&gt;</th></tr>\n",
       "</thead>\n",
       "<tbody>\n",
       "\t<tr><th scope=row>1</th><td>Alex    </td><td>25</td><td>177</td><td>57</td><td>F</td></tr>\n",
       "\t<tr><th scope=row>2</th><td>Lilly   </td><td>31</td><td>163</td><td>69</td><td>F</td></tr>\n",
       "\t<tr><th scope=row>3</th><td>Mark    </td><td>23</td><td>190</td><td>83</td><td>M</td></tr>\n",
       "\t<tr><th scope=row>4</th><td>Oliver  </td><td>52</td><td>179</td><td>75</td><td>M</td></tr>\n",
       "\t<tr><th scope=row>5</th><td>Martha  </td><td>76</td><td>163</td><td>70</td><td>F</td></tr>\n",
       "\t<tr><th scope=row>6</th><td>Lucas   </td><td>49</td><td>183</td><td>83</td><td>M</td></tr>\n",
       "\t<tr><th scope=row>7</th><td>Caroline</td><td>26</td><td>164</td><td>53</td><td>F</td></tr>\n",
       "</tbody>\n",
       "</table>\n"
      ],
      "text/latex": [
       "A data.frame: 7 × 5\n",
       "\\begin{tabular}{r|lllll}\n",
       "  & Name & Age & Height & Weight & Sex\\\\\n",
       "  & <chr> & <int> & <int> & <int> & <chr>\\\\\n",
       "\\hline\n",
       "\t1 & Alex     & 25 & 177 & 57 & F\\\\\n",
       "\t2 & Lilly    & 31 & 163 & 69 & F\\\\\n",
       "\t3 & Mark     & 23 & 190 & 83 & M\\\\\n",
       "\t4 & Oliver   & 52 & 179 & 75 & M\\\\\n",
       "\t5 & Martha   & 76 & 163 & 70 & F\\\\\n",
       "\t6 & Lucas    & 49 & 183 & 83 & M\\\\\n",
       "\t7 & Caroline & 26 & 164 & 53 & F\\\\\n",
       "\\end{tabular}\n"
      ],
      "text/markdown": [
       "\n",
       "A data.frame: 7 × 5\n",
       "\n",
       "| <!--/--> | Name &lt;chr&gt; | Age &lt;int&gt; | Height &lt;int&gt; | Weight &lt;int&gt; | Sex &lt;chr&gt; |\n",
       "|---|---|---|---|---|---|\n",
       "| 1 | Alex     | 25 | 177 | 57 | F |\n",
       "| 2 | Lilly    | 31 | 163 | 69 | F |\n",
       "| 3 | Mark     | 23 | 190 | 83 | M |\n",
       "| 4 | Oliver   | 52 | 179 | 75 | M |\n",
       "| 5 | Martha   | 76 | 163 | 70 | F |\n",
       "| 6 | Lucas    | 49 | 183 | 83 | M |\n",
       "| 7 | Caroline | 26 | 164 | 53 | F |\n",
       "\n"
      ],
      "text/plain": [
       "  Name     Age Height Weight Sex\n",
       "1 Alex     25  177    57     F  \n",
       "2 Lilly    31  163    69     F  \n",
       "3 Mark     23  190    83     M  \n",
       "4 Oliver   52  179    75     M  \n",
       "5 Martha   76  163    70     F  \n",
       "6 Lucas    49  183    83     M  \n",
       "7 Caroline 26  164    53     F  "
      ]
     },
     "metadata": {},
     "output_type": "display_data"
    }
   ],
   "source": [
    "df"
   ]
  },
  {
   "cell_type": "code",
   "execution_count": null,
   "id": "50d43d54-2979-42f6-a4da-e0e4fa6ac139",
   "metadata": {},
   "outputs": [],
   "source": []
  },
  {
   "cell_type": "code",
   "execution_count": 9,
   "id": "a5d60b2f-b903-4981-8a50-376204cb031a",
   "metadata": {},
   "outputs": [],
   "source": [
    "rownames(df) = df$Name\n",
    "df$Name = NULL"
   ]
  },
  {
   "cell_type": "code",
   "execution_count": 10,
   "id": "c32b6b2d-8abb-46a7-b9a3-0f428478fec5",
   "metadata": {},
   "outputs": [
    {
     "data": {
      "text/html": [
       "<table class=\"dataframe\">\n",
       "<caption>A data.frame: 7 × 4</caption>\n",
       "<thead>\n",
       "\t<tr><th></th><th scope=col>Age</th><th scope=col>Height</th><th scope=col>Weight</th><th scope=col>Sex</th></tr>\n",
       "\t<tr><th></th><th scope=col>&lt;int&gt;</th><th scope=col>&lt;int&gt;</th><th scope=col>&lt;int&gt;</th><th scope=col>&lt;chr&gt;</th></tr>\n",
       "</thead>\n",
       "<tbody>\n",
       "\t<tr><th scope=row>Alex</th><td>25</td><td>177</td><td>57</td><td>F</td></tr>\n",
       "\t<tr><th scope=row>Lilly</th><td>31</td><td>163</td><td>69</td><td>F</td></tr>\n",
       "\t<tr><th scope=row>Mark</th><td>23</td><td>190</td><td>83</td><td>M</td></tr>\n",
       "\t<tr><th scope=row>Oliver</th><td>52</td><td>179</td><td>75</td><td>M</td></tr>\n",
       "\t<tr><th scope=row>Martha</th><td>76</td><td>163</td><td>70</td><td>F</td></tr>\n",
       "\t<tr><th scope=row>Lucas</th><td>49</td><td>183</td><td>83</td><td>M</td></tr>\n",
       "\t<tr><th scope=row>Caroline</th><td>26</td><td>164</td><td>53</td><td>F</td></tr>\n",
       "</tbody>\n",
       "</table>\n"
      ],
      "text/latex": [
       "A data.frame: 7 × 4\n",
       "\\begin{tabular}{r|llll}\n",
       "  & Age & Height & Weight & Sex\\\\\n",
       "  & <int> & <int> & <int> & <chr>\\\\\n",
       "\\hline\n",
       "\tAlex & 25 & 177 & 57 & F\\\\\n",
       "\tLilly & 31 & 163 & 69 & F\\\\\n",
       "\tMark & 23 & 190 & 83 & M\\\\\n",
       "\tOliver & 52 & 179 & 75 & M\\\\\n",
       "\tMartha & 76 & 163 & 70 & F\\\\\n",
       "\tLucas & 49 & 183 & 83 & M\\\\\n",
       "\tCaroline & 26 & 164 & 53 & F\\\\\n",
       "\\end{tabular}\n"
      ],
      "text/markdown": [
       "\n",
       "A data.frame: 7 × 4\n",
       "\n",
       "| <!--/--> | Age &lt;int&gt; | Height &lt;int&gt; | Weight &lt;int&gt; | Sex &lt;chr&gt; |\n",
       "|---|---|---|---|---|\n",
       "| Alex | 25 | 177 | 57 | F |\n",
       "| Lilly | 31 | 163 | 69 | F |\n",
       "| Mark | 23 | 190 | 83 | M |\n",
       "| Oliver | 52 | 179 | 75 | M |\n",
       "| Martha | 76 | 163 | 70 | F |\n",
       "| Lucas | 49 | 183 | 83 | M |\n",
       "| Caroline | 26 | 164 | 53 | F |\n",
       "\n"
      ],
      "text/plain": [
       "         Age Height Weight Sex\n",
       "Alex     25  177    57     F  \n",
       "Lilly    31  163    69     F  \n",
       "Mark     23  190    83     M  \n",
       "Oliver   52  179    75     M  \n",
       "Martha   76  163    70     F  \n",
       "Lucas    49  183    83     M  \n",
       "Caroline 26  164    53     F  "
      ]
     },
     "metadata": {},
     "output_type": "display_data"
    }
   ],
   "source": [
    "df"
   ]
  },
  {
   "cell_type": "code",
   "execution_count": null,
   "id": "bd6b50a5-36b3-4419-82f1-ce06068aa96b",
   "metadata": {},
   "outputs": [],
   "source": []
  },
  {
   "cell_type": "code",
   "execution_count": 11,
   "id": "5e7621be-bf2d-4e81-b0a7-1127d647959e",
   "metadata": {},
   "outputs": [],
   "source": [
    "write.table(df, file=\"./data/Table6_new.txt\", sep=\"\\t\")"
   ]
  },
  {
   "cell_type": "code",
   "execution_count": 13,
   "id": "d8edc81b-f77f-4a45-9e2c-e3dd809303cb",
   "metadata": {},
   "outputs": [],
   "source": [
    "df_new = read.table(\"./data/Table6_new.txt\")"
   ]
  },
  {
   "cell_type": "code",
   "execution_count": 14,
   "id": "ed990709-49c9-4ef0-9e99-8a51594b7fee",
   "metadata": {},
   "outputs": [
    {
     "data": {
      "text/html": [
       "<table class=\"dataframe\">\n",
       "<caption>A data.frame: 7 × 4</caption>\n",
       "<thead>\n",
       "\t<tr><th></th><th scope=col>Age</th><th scope=col>Height</th><th scope=col>Weight</th><th scope=col>Sex</th></tr>\n",
       "\t<tr><th></th><th scope=col>&lt;int&gt;</th><th scope=col>&lt;int&gt;</th><th scope=col>&lt;int&gt;</th><th scope=col>&lt;chr&gt;</th></tr>\n",
       "</thead>\n",
       "<tbody>\n",
       "\t<tr><th scope=row>Alex</th><td>25</td><td>177</td><td>57</td><td>F</td></tr>\n",
       "\t<tr><th scope=row>Lilly</th><td>31</td><td>163</td><td>69</td><td>F</td></tr>\n",
       "\t<tr><th scope=row>Mark</th><td>23</td><td>190</td><td>83</td><td>M</td></tr>\n",
       "\t<tr><th scope=row>Oliver</th><td>52</td><td>179</td><td>75</td><td>M</td></tr>\n",
       "\t<tr><th scope=row>Martha</th><td>76</td><td>163</td><td>70</td><td>F</td></tr>\n",
       "\t<tr><th scope=row>Lucas</th><td>49</td><td>183</td><td>83</td><td>M</td></tr>\n",
       "\t<tr><th scope=row>Caroline</th><td>26</td><td>164</td><td>53</td><td>F</td></tr>\n",
       "</tbody>\n",
       "</table>\n"
      ],
      "text/latex": [
       "A data.frame: 7 × 4\n",
       "\\begin{tabular}{r|llll}\n",
       "  & Age & Height & Weight & Sex\\\\\n",
       "  & <int> & <int> & <int> & <chr>\\\\\n",
       "\\hline\n",
       "\tAlex & 25 & 177 & 57 & F\\\\\n",
       "\tLilly & 31 & 163 & 69 & F\\\\\n",
       "\tMark & 23 & 190 & 83 & M\\\\\n",
       "\tOliver & 52 & 179 & 75 & M\\\\\n",
       "\tMartha & 76 & 163 & 70 & F\\\\\n",
       "\tLucas & 49 & 183 & 83 & M\\\\\n",
       "\tCaroline & 26 & 164 & 53 & F\\\\\n",
       "\\end{tabular}\n"
      ],
      "text/markdown": [
       "\n",
       "A data.frame: 7 × 4\n",
       "\n",
       "| <!--/--> | Age &lt;int&gt; | Height &lt;int&gt; | Weight &lt;int&gt; | Sex &lt;chr&gt; |\n",
       "|---|---|---|---|---|\n",
       "| Alex | 25 | 177 | 57 | F |\n",
       "| Lilly | 31 | 163 | 69 | F |\n",
       "| Mark | 23 | 190 | 83 | M |\n",
       "| Oliver | 52 | 179 | 75 | M |\n",
       "| Martha | 76 | 163 | 70 | F |\n",
       "| Lucas | 49 | 183 | 83 | M |\n",
       "| Caroline | 26 | 164 | 53 | F |\n",
       "\n"
      ],
      "text/plain": [
       "         Age Height Weight Sex\n",
       "Alex     25  177    57     F  \n",
       "Lilly    31  163    69     F  \n",
       "Mark     23  190    83     M  \n",
       "Oliver   52  179    75     M  \n",
       "Martha   76  163    70     F  \n",
       "Lucas    49  183    83     M  \n",
       "Caroline 26  164    53     F  "
      ]
     },
     "metadata": {},
     "output_type": "display_data"
    }
   ],
   "source": [
    "df_new"
   ]
  },
  {
   "cell_type": "code",
   "execution_count": null,
   "id": "a9ed9f2b-0e9b-4e34-b435-c655d0e71add",
   "metadata": {},
   "outputs": [],
   "source": []
  }
 ],
 "metadata": {
  "kernelspec": {
   "display_name": "R",
   "language": "R",
   "name": "ir"
  },
  "language_info": {
   "codemirror_mode": "r",
   "file_extension": ".r",
   "mimetype": "text/x-r-source",
   "name": "R",
   "pygments_lexer": "r",
   "version": "4.1.0"
  }
 },
 "nbformat": 4,
 "nbformat_minor": 5
}
