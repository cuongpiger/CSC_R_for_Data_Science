{
 "cells": [
  {
   "cell_type": "markdown",
   "id": "4bc379d1-2db3-4b36-8dd0-3ed9b4417425",
   "metadata": {},
   "source": [
    "![](images/09_00.png)"
   ]
  },
  {
   "cell_type": "code",
   "execution_count": 1,
   "id": "b3eaa466-4c06-4acc-9096-a063aa846db0",
   "metadata": {},
   "outputs": [],
   "source": [
    "content = readLines(\"./data/SampleTextFile_10kb.txt\")"
   ]
  },
  {
   "cell_type": "code",
   "execution_count": null,
   "id": "5889bb2b-70a1-45b7-a845-6dcf2e002ed4",
   "metadata": {},
   "outputs": [],
   "source": []
  },
  {
   "cell_type": "code",
   "execution_count": 2,
   "id": "a380665a-0426-4415-ae39-9c62adf2fb77",
   "metadata": {},
   "outputs": [
    {
     "data": {
      "text/html": [
       "'Lorem ipsum dolor sit amet, consectetur adipiscing elit. Vivamus condimentum sagittis lacus, laoreet luctus ligula laoreet ut. Vestibulum ullamcorper accumsan velit vel vehicula. Proin tempor lacus arcu. Nunc at elit condimentum, semper nisi et, condimentum mi. In venenatis blandit nibh at sollicitudin. Vestibulum dapibus mauris at orci maximus pellentesque. Nullam id elementum ipsum. Suspendisse cursus lobortis viverra. Proin et erat at mauris tincidunt porttitor vitae ac dui.'"
      ],
      "text/latex": [
       "'Lorem ipsum dolor sit amet, consectetur adipiscing elit. Vivamus condimentum sagittis lacus, laoreet luctus ligula laoreet ut. Vestibulum ullamcorper accumsan velit vel vehicula. Proin tempor lacus arcu. Nunc at elit condimentum, semper nisi et, condimentum mi. In venenatis blandit nibh at sollicitudin. Vestibulum dapibus mauris at orci maximus pellentesque. Nullam id elementum ipsum. Suspendisse cursus lobortis viverra. Proin et erat at mauris tincidunt porttitor vitae ac dui.'"
      ],
      "text/markdown": [
       "'Lorem ipsum dolor sit amet, consectetur adipiscing elit. Vivamus condimentum sagittis lacus, laoreet luctus ligula laoreet ut. Vestibulum ullamcorper accumsan velit vel vehicula. Proin tempor lacus arcu. Nunc at elit condimentum, semper nisi et, condimentum mi. In venenatis blandit nibh at sollicitudin. Vestibulum dapibus mauris at orci maximus pellentesque. Nullam id elementum ipsum. Suspendisse cursus lobortis viverra. Proin et erat at mauris tincidunt porttitor vitae ac dui.'"
      ],
      "text/plain": [
       "[1] \"Lorem ipsum dolor sit amet, consectetur adipiscing elit. Vivamus condimentum sagittis lacus, laoreet luctus ligula laoreet ut. Vestibulum ullamcorper accumsan velit vel vehicula. Proin tempor lacus arcu. Nunc at elit condimentum, semper nisi et, condimentum mi. In venenatis blandit nibh at sollicitudin. Vestibulum dapibus mauris at orci maximus pellentesque. Nullam id elementum ipsum. Suspendisse cursus lobortis viverra. Proin et erat at mauris tincidunt porttitor vitae ac dui.\""
      ]
     },
     "metadata": {},
     "output_type": "display_data"
    }
   ],
   "source": [
    "content[1]"
   ]
  },
  {
   "cell_type": "code",
   "execution_count": null,
   "id": "9e93011d-a0e5-4fca-a85d-d93af45c1a0a",
   "metadata": {},
   "outputs": [],
   "source": []
  },
  {
   "cell_type": "code",
   "execution_count": 4,
   "id": "447f2534-7dcd-4583-88ab-28866df3ee87",
   "metadata": {},
   "outputs": [
    {
     "data": {
      "text/html": [
       "27"
      ],
      "text/latex": [
       "27"
      ],
      "text/markdown": [
       "27"
      ],
      "text/plain": [
       "[1] 27"
      ]
     },
     "metadata": {},
     "output_type": "display_data"
    }
   ],
   "source": [
    "length(content)"
   ]
  },
  {
   "cell_type": "code",
   "execution_count": null,
   "id": "a93309cc-8ce0-44e1-8b34-fb44152ca805",
   "metadata": {},
   "outputs": [],
   "source": []
  },
  {
   "cell_type": "code",
   "execution_count": 12,
   "id": "6bc0de6f-ce5d-47c1-9552-14ec4bde6faa",
   "metadata": {},
   "outputs": [
    {
     "name": "stdout",
     "output_type": "stream",
     "text": [
      "482\n",
      "0\n",
      "931\n",
      "0\n",
      "878\n",
      "0\n",
      "601\n",
      "0\n",
      "645\n",
      "0\n",
      "730\n",
      "0\n",
      "437\n",
      "0\n",
      "434\n",
      "0\n",
      "944\n",
      "0\n",
      "629\n",
      "0\n",
      "772\n",
      "0\n",
      "615\n",
      "0\n",
      "449\n",
      "0\n",
      "909\n"
     ]
    }
   ],
   "source": [
    "for (text in content) {\n",
    "    writeLines(sprintf(\"%d\", nchar(text)))\n",
    "}"
   ]
  },
  {
   "cell_type": "code",
   "execution_count": null,
   "id": "9ec982e0-1a4b-4675-98d3-961751a1dc68",
   "metadata": {},
   "outputs": [],
   "source": []
  }
 ],
 "metadata": {
  "kernelspec": {
   "display_name": "R",
   "language": "R",
   "name": "ir"
  },
  "language_info": {
   "codemirror_mode": "r",
   "file_extension": ".r",
   "mimetype": "text/x-r-source",
   "name": "R",
   "pygments_lexer": "r",
   "version": "4.1.0"
  }
 },
 "nbformat": 4,
 "nbformat_minor": 5
}
