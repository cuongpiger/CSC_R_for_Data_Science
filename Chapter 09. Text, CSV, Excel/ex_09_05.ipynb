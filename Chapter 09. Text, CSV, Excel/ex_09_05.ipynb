{
 "cells": [
  {
   "cell_type": "markdown",
   "id": "8c80da2d-8f47-4491-a594-2626f3e50319",
   "metadata": {},
   "source": [
    "![](images/09_04.png)"
   ]
  },
  {
   "cell_type": "code",
   "execution_count": 1,
   "id": "dfc4db5e-fdf2-4d4a-8cf4-b95d5cd39397",
   "metadata": {},
   "outputs": [
    {
     "name": "stderr",
     "output_type": "stream",
     "text": [
      "── \u001b[1mAttaching packages\u001b[22m ─────────────────────────────────────── tidyverse 1.3.1 ──\n",
      "\n",
      "\u001b[32m✔\u001b[39m \u001b[34mggplot2\u001b[39m 3.3.5     \u001b[32m✔\u001b[39m \u001b[34mpurrr  \u001b[39m 0.3.4\n",
      "\u001b[32m✔\u001b[39m \u001b[34mtibble \u001b[39m 3.1.2     \u001b[32m✔\u001b[39m \u001b[34mdplyr  \u001b[39m 1.0.7\n",
      "\u001b[32m✔\u001b[39m \u001b[34mtidyr  \u001b[39m 1.1.3     \u001b[32m✔\u001b[39m \u001b[34mstringr\u001b[39m 1.4.0\n",
      "\u001b[32m✔\u001b[39m \u001b[34mreadr  \u001b[39m 1.4.0     \u001b[32m✔\u001b[39m \u001b[34mforcats\u001b[39m 0.5.1\n",
      "\n",
      "── \u001b[1mConflicts\u001b[22m ────────────────────────────────────────── tidyverse_conflicts() ──\n",
      "\u001b[31m✖\u001b[39m \u001b[34mdplyr\u001b[39m::\u001b[32mfilter()\u001b[39m masks \u001b[34mstats\u001b[39m::filter()\n",
      "\u001b[31m✖\u001b[39m \u001b[34mdplyr\u001b[39m::\u001b[32mlag()\u001b[39m    masks \u001b[34mstats\u001b[39m::lag()\n",
      "\n"
     ]
    }
   ],
   "source": [
    "library(\"tidyverse\")\n",
    "library(\"xlsx\")"
   ]
  },
  {
   "cell_type": "code",
   "execution_count": 2,
   "id": "b3d2ee31-fb6b-4c38-8598-b47203b8d888",
   "metadata": {},
   "outputs": [],
   "source": [
    "data = read.csv(\"./data/medals.csv\")"
   ]
  },
  {
   "cell_type": "code",
   "execution_count": 3,
   "id": "b66399a1-ad22-47c6-9caf-ae39632f1b4f",
   "metadata": {},
   "outputs": [
    {
     "data": {
      "text/html": [
       "<table class=\"dataframe\">\n",
       "<caption>A data.frame: 6 × 8</caption>\n",
       "<thead>\n",
       "\t<tr><th></th><th scope=col>Year</th><th scope=col>City</th><th scope=col>Sport</th><th scope=col>Discipline</th><th scope=col>NOC</th><th scope=col>Event</th><th scope=col>Event.gender</th><th scope=col>Medal</th></tr>\n",
       "\t<tr><th></th><th scope=col>&lt;chr&gt;</th><th scope=col>&lt;chr&gt;</th><th scope=col>&lt;chr&gt;</th><th scope=col>&lt;chr&gt;</th><th scope=col>&lt;chr&gt;</th><th scope=col>&lt;chr&gt;</th><th scope=col>&lt;chr&gt;</th><th scope=col>&lt;chr&gt;</th></tr>\n",
       "</thead>\n",
       "<tbody>\n",
       "\t<tr><th scope=row>1</th><td>1924</td><td>Chamonix</td><td>Skating   </td><td>Figure skating</td><td>AUT</td><td>individual     </td><td>M</td><td>Silver</td></tr>\n",
       "\t<tr><th scope=row>2</th><td>1924</td><td>Chamonix</td><td>Skating   </td><td>Figure skating</td><td>AUT</td><td>individual     </td><td>W</td><td>Gold  </td></tr>\n",
       "\t<tr><th scope=row>3</th><td>1924</td><td>Chamonix</td><td>Skating   </td><td>Figure skating</td><td>AUT</td><td>pairs          </td><td>X</td><td>Gold  </td></tr>\n",
       "\t<tr><th scope=row>4</th><td>1924</td><td>Chamonix</td><td>Bobsleigh </td><td>Bobsleigh     </td><td>BEL</td><td>four-man       </td><td>M</td><td>Bronze</td></tr>\n",
       "\t<tr><th scope=row>5</th><td>1924</td><td>Chamonix</td><td>Ice Hockey</td><td>Ice Hockey    </td><td>CAN</td><td>ice hockey     </td><td>M</td><td>Gold  </td></tr>\n",
       "\t<tr><th scope=row>6</th><td>1924</td><td>Chamonix</td><td>Biathlon  </td><td>Biathlon      </td><td>FIN</td><td>military patrol</td><td>M</td><td>Silver</td></tr>\n",
       "</tbody>\n",
       "</table>\n"
      ],
      "text/latex": [
       "A data.frame: 6 × 8\n",
       "\\begin{tabular}{r|llllllll}\n",
       "  & Year & City & Sport & Discipline & NOC & Event & Event.gender & Medal\\\\\n",
       "  & <chr> & <chr> & <chr> & <chr> & <chr> & <chr> & <chr> & <chr>\\\\\n",
       "\\hline\n",
       "\t1 & 1924 & Chamonix & Skating    & Figure skating & AUT & individual      & M & Silver\\\\\n",
       "\t2 & 1924 & Chamonix & Skating    & Figure skating & AUT & individual      & W & Gold  \\\\\n",
       "\t3 & 1924 & Chamonix & Skating    & Figure skating & AUT & pairs           & X & Gold  \\\\\n",
       "\t4 & 1924 & Chamonix & Bobsleigh  & Bobsleigh      & BEL & four-man        & M & Bronze\\\\\n",
       "\t5 & 1924 & Chamonix & Ice Hockey & Ice Hockey     & CAN & ice hockey      & M & Gold  \\\\\n",
       "\t6 & 1924 & Chamonix & Biathlon   & Biathlon       & FIN & military patrol & M & Silver\\\\\n",
       "\\end{tabular}\n"
      ],
      "text/markdown": [
       "\n",
       "A data.frame: 6 × 8\n",
       "\n",
       "| <!--/--> | Year &lt;chr&gt; | City &lt;chr&gt; | Sport &lt;chr&gt; | Discipline &lt;chr&gt; | NOC &lt;chr&gt; | Event &lt;chr&gt; | Event.gender &lt;chr&gt; | Medal &lt;chr&gt; |\n",
       "|---|---|---|---|---|---|---|---|---|\n",
       "| 1 | 1924 | Chamonix | Skating    | Figure skating | AUT | individual      | M | Silver |\n",
       "| 2 | 1924 | Chamonix | Skating    | Figure skating | AUT | individual      | W | Gold   |\n",
       "| 3 | 1924 | Chamonix | Skating    | Figure skating | AUT | pairs           | X | Gold   |\n",
       "| 4 | 1924 | Chamonix | Bobsleigh  | Bobsleigh      | BEL | four-man        | M | Bronze |\n",
       "| 5 | 1924 | Chamonix | Ice Hockey | Ice Hockey     | CAN | ice hockey      | M | Gold   |\n",
       "| 6 | 1924 | Chamonix | Biathlon   | Biathlon       | FIN | military patrol | M | Silver |\n",
       "\n"
      ],
      "text/plain": [
       "  Year City     Sport      Discipline     NOC Event           Event.gender\n",
       "1 1924 Chamonix Skating    Figure skating AUT individual      M           \n",
       "2 1924 Chamonix Skating    Figure skating AUT individual      W           \n",
       "3 1924 Chamonix Skating    Figure skating AUT pairs           X           \n",
       "4 1924 Chamonix Bobsleigh  Bobsleigh      BEL four-man        M           \n",
       "5 1924 Chamonix Ice Hockey Ice Hockey     CAN ice hockey      M           \n",
       "6 1924 Chamonix Biathlon   Biathlon       FIN military patrol M           \n",
       "  Medal \n",
       "1 Silver\n",
       "2 Gold  \n",
       "3 Gold  \n",
       "4 Bronze\n",
       "5 Gold  \n",
       "6 Silver"
      ]
     },
     "metadata": {},
     "output_type": "display_data"
    }
   ],
   "source": [
    "head(data)"
   ]
  },
  {
   "cell_type": "code",
   "execution_count": 4,
   "id": "dbd39bb7-12ee-4c50-ba45-1377ee60af05",
   "metadata": {},
   "outputs": [
    {
     "name": "stdout",
     "output_type": "stream",
     "text": [
      "'data.frame':\t2314 obs. of  8 variables:\n",
      " $ Year        : chr  \"1924\" \"1924\" \"1924\" \"1924\" ...\n",
      " $ City        : chr  \"Chamonix\" \"Chamonix\" \"Chamonix\" \"Chamonix\" ...\n",
      " $ Sport       : chr  \"Skating\" \"Skating\" \"Skating\" \"Bobsleigh\" ...\n",
      " $ Discipline  : chr  \"Figure skating\" \"Figure skating\" \"Figure skating\" \"Bobsleigh\" ...\n",
      " $ NOC         : chr  \"AUT\" \"AUT\" \"AUT\" \"BEL\" ...\n",
      " $ Event       : chr  \"individual\" \"individual\" \"pairs\" \"four-man\" ...\n",
      " $ Event.gender: chr  \"M\" \"W\" \"X\" \"M\" ...\n",
      " $ Medal       : chr  \"Silver\" \"Gold\" \"Gold\" \"Bronze\" ...\n"
     ]
    }
   ],
   "source": [
    "str(data)"
   ]
  },
  {
   "cell_type": "code",
   "execution_count": 5,
   "id": "cf83a1c3-96cb-4ff9-8e0e-c222b82e72c3",
   "metadata": {},
   "outputs": [
    {
     "data": {
      "text/html": [
       "'data.frame'"
      ],
      "text/latex": [
       "'data.frame'"
      ],
      "text/markdown": [
       "'data.frame'"
      ],
      "text/plain": [
       "[1] \"data.frame\""
      ]
     },
     "metadata": {},
     "output_type": "display_data"
    }
   ],
   "source": [
    "class(data)"
   ]
  },
  {
   "cell_type": "code",
   "execution_count": 6,
   "id": "1fc95be7-8735-4d55-93fc-d2e9fd24665c",
   "metadata": {},
   "outputs": [
    {
     "data": {
      "text/html": [
       "8"
      ],
      "text/latex": [
       "8"
      ],
      "text/markdown": [
       "8"
      ],
      "text/plain": [
       "[1] 8"
      ]
     },
     "metadata": {},
     "output_type": "display_data"
    }
   ],
   "source": [
    "ncol(data)"
   ]
  },
  {
   "cell_type": "code",
   "execution_count": 7,
   "id": "13df1fb9-87e9-465a-901c-866182bd6c98",
   "metadata": {},
   "outputs": [
    {
     "data": {
      "text/html": [
       "2314"
      ],
      "text/latex": [
       "2314"
      ],
      "text/markdown": [
       "2314"
      ],
      "text/plain": [
       "[1] 2314"
      ]
     },
     "metadata": {},
     "output_type": "display_data"
    }
   ],
   "source": [
    "nrow(data)"
   ]
  },
  {
   "cell_type": "code",
   "execution_count": 8,
   "id": "35d725e5-520b-46e0-a8ac-d5f478665fc3",
   "metadata": {},
   "outputs": [
    {
     "data": {
      "text/html": [
       "<style>\n",
       ".list-inline {list-style: none; margin:0; padding: 0}\n",
       ".list-inline>li {display: inline-block}\n",
       ".list-inline>li:not(:last-child)::after {content: \"\\00b7\"; padding: 0 .5ex}\n",
       "</style>\n",
       "<ol class=list-inline><li>2314</li><li>8</li></ol>\n"
      ],
      "text/latex": [
       "\\begin{enumerate*}\n",
       "\\item 2314\n",
       "\\item 8\n",
       "\\end{enumerate*}\n"
      ],
      "text/markdown": [
       "1. 2314\n",
       "2. 8\n",
       "\n",
       "\n"
      ],
      "text/plain": [
       "[1] 2314    8"
      ]
     },
     "metadata": {},
     "output_type": "display_data"
    }
   ],
   "source": [
    "dim(data)"
   ]
  },
  {
   "cell_type": "code",
   "execution_count": 9,
   "id": "afcd2595-4cb6-459d-967e-a4d68ae7abef",
   "metadata": {},
   "outputs": [
    {
     "data": {
      "text/html": [
       "<style>\n",
       ".list-inline {list-style: none; margin:0; padding: 0}\n",
       ".list-inline>li {display: inline-block}\n",
       ".list-inline>li:not(:last-child)::after {content: \"\\00b7\"; padding: 0 .5ex}\n",
       "</style>\n",
       "<ol class=list-inline><li>'Year'</li><li>'City'</li><li>'Sport'</li><li>'Discipline'</li><li>'NOC'</li><li>'Event'</li><li>'Event.gender'</li><li>'Medal'</li></ol>\n"
      ],
      "text/latex": [
       "\\begin{enumerate*}\n",
       "\\item 'Year'\n",
       "\\item 'City'\n",
       "\\item 'Sport'\n",
       "\\item 'Discipline'\n",
       "\\item 'NOC'\n",
       "\\item 'Event'\n",
       "\\item 'Event.gender'\n",
       "\\item 'Medal'\n",
       "\\end{enumerate*}\n"
      ],
      "text/markdown": [
       "1. 'Year'\n",
       "2. 'City'\n",
       "3. 'Sport'\n",
       "4. 'Discipline'\n",
       "5. 'NOC'\n",
       "6. 'Event'\n",
       "7. 'Event.gender'\n",
       "8. 'Medal'\n",
       "\n",
       "\n"
      ],
      "text/plain": [
       "[1] \"Year\"         \"City\"         \"Sport\"        \"Discipline\"   \"NOC\"         \n",
       "[6] \"Event\"        \"Event.gender\" \"Medal\"       "
      ]
     },
     "metadata": {},
     "output_type": "display_data"
    }
   ],
   "source": [
    "names(data)"
   ]
  },
  {
   "cell_type": "code",
   "execution_count": null,
   "id": "ed6d43d3-4eb7-4dfe-ab27-b2d8da580bc7",
   "metadata": {},
   "outputs": [],
   "source": []
  },
  {
   "cell_type": "code",
   "execution_count": 10,
   "id": "00c45cfa-0a10-4660-b1e4-f4807a458a9a",
   "metadata": {},
   "outputs": [],
   "source": [
    "data_1932_skiing = subset(data, Year == 1932 & Sport == 'Skiing')"
   ]
  },
  {
   "cell_type": "code",
   "execution_count": 11,
   "id": "f372b2aa-4530-4756-a375-d8a84c96c7a0",
   "metadata": {},
   "outputs": [
    {
     "data": {
      "text/html": [
       "<table class=\"dataframe\">\n",
       "<caption>A data.frame: 12 × 8</caption>\n",
       "<thead>\n",
       "\t<tr><th></th><th scope=col>Year</th><th scope=col>City</th><th scope=col>Sport</th><th scope=col>Discipline</th><th scope=col>NOC</th><th scope=col>Event</th><th scope=col>Event.gender</th><th scope=col>Medal</th></tr>\n",
       "\t<tr><th></th><th scope=col>&lt;chr&gt;</th><th scope=col>&lt;chr&gt;</th><th scope=col>&lt;chr&gt;</th><th scope=col>&lt;chr&gt;</th><th scope=col>&lt;chr&gt;</th><th scope=col>&lt;chr&gt;</th><th scope=col>&lt;chr&gt;</th><th scope=col>&lt;chr&gt;</th></tr>\n",
       "</thead>\n",
       "<tbody>\n",
       "\t<tr><th scope=row>100</th><td>1932</td><td>Lake Placid</td><td>Skiing</td><td>Cross Country S</td><td>FIN</td><td>18km                </td><td>M</td><td>Bronze</td></tr>\n",
       "\t<tr><th scope=row>101</th><td>1932</td><td>Lake Placid</td><td>Skiing</td><td>Cross Country S</td><td>FIN</td><td>50km                </td><td>M</td><td>Gold  </td></tr>\n",
       "\t<tr><th scope=row>102</th><td>1932</td><td>Lake Placid</td><td>Skiing</td><td>Cross Country S</td><td>FIN</td><td>50km                </td><td>M</td><td>Silver</td></tr>\n",
       "\t<tr><th scope=row>110</th><td>1932</td><td>Lake Placid</td><td>Skiing</td><td>Cross Country S</td><td>NOR</td><td>50km                </td><td>M</td><td>Bronze</td></tr>\n",
       "\t<tr><th scope=row>111</th><td>1932</td><td>Lake Placid</td><td>Skiing</td><td>Nordic Combined</td><td>NOR</td><td>individual          </td><td>M</td><td>Bronze</td></tr>\n",
       "\t<tr><th scope=row>112</th><td>1932</td><td>Lake Placid</td><td>Skiing</td><td>Nordic Combined</td><td>NOR</td><td>individual          </td><td>M</td><td>Gold  </td></tr>\n",
       "\t<tr><th scope=row>113</th><td>1932</td><td>Lake Placid</td><td>Skiing</td><td>Nordic Combined</td><td>NOR</td><td>individual          </td><td>M</td><td>Silver</td></tr>\n",
       "\t<tr><th scope=row>114</th><td>1932</td><td>Lake Placid</td><td>Skiing</td><td>Ski Jumping    </td><td>NOR</td><td>K90 individual (70m)</td><td>M</td><td>Bronze</td></tr>\n",
       "\t<tr><th scope=row>115</th><td>1932</td><td>Lake Placid</td><td>Skiing</td><td>Ski Jumping    </td><td>NOR</td><td>K90 individual (70m)</td><td>M</td><td>Gold  </td></tr>\n",
       "\t<tr><th scope=row>116</th><td>1932</td><td>Lake Placid</td><td>Skiing</td><td>Ski Jumping    </td><td>NOR</td><td>K90 individual (70m)</td><td>M</td><td>Silver</td></tr>\n",
       "\t<tr><th scope=row>119</th><td>1932</td><td>Lake Placid</td><td>Skiing</td><td>Cross Country S</td><td>SWE</td><td>18km                </td><td>M</td><td>Gold  </td></tr>\n",
       "\t<tr><th scope=row>120</th><td>1932</td><td>Lake Placid</td><td>Skiing</td><td>Cross Country S</td><td>SWE</td><td>18km                </td><td>M</td><td>Silver</td></tr>\n",
       "</tbody>\n",
       "</table>\n"
      ],
      "text/latex": [
       "A data.frame: 12 × 8\n",
       "\\begin{tabular}{r|llllllll}\n",
       "  & Year & City & Sport & Discipline & NOC & Event & Event.gender & Medal\\\\\n",
       "  & <chr> & <chr> & <chr> & <chr> & <chr> & <chr> & <chr> & <chr>\\\\\n",
       "\\hline\n",
       "\t100 & 1932 & Lake Placid & Skiing & Cross Country S & FIN & 18km                 & M & Bronze\\\\\n",
       "\t101 & 1932 & Lake Placid & Skiing & Cross Country S & FIN & 50km                 & M & Gold  \\\\\n",
       "\t102 & 1932 & Lake Placid & Skiing & Cross Country S & FIN & 50km                 & M & Silver\\\\\n",
       "\t110 & 1932 & Lake Placid & Skiing & Cross Country S & NOR & 50km                 & M & Bronze\\\\\n",
       "\t111 & 1932 & Lake Placid & Skiing & Nordic Combined & NOR & individual           & M & Bronze\\\\\n",
       "\t112 & 1932 & Lake Placid & Skiing & Nordic Combined & NOR & individual           & M & Gold  \\\\\n",
       "\t113 & 1932 & Lake Placid & Skiing & Nordic Combined & NOR & individual           & M & Silver\\\\\n",
       "\t114 & 1932 & Lake Placid & Skiing & Ski Jumping     & NOR & K90 individual (70m) & M & Bronze\\\\\n",
       "\t115 & 1932 & Lake Placid & Skiing & Ski Jumping     & NOR & K90 individual (70m) & M & Gold  \\\\\n",
       "\t116 & 1932 & Lake Placid & Skiing & Ski Jumping     & NOR & K90 individual (70m) & M & Silver\\\\\n",
       "\t119 & 1932 & Lake Placid & Skiing & Cross Country S & SWE & 18km                 & M & Gold  \\\\\n",
       "\t120 & 1932 & Lake Placid & Skiing & Cross Country S & SWE & 18km                 & M & Silver\\\\\n",
       "\\end{tabular}\n"
      ],
      "text/markdown": [
       "\n",
       "A data.frame: 12 × 8\n",
       "\n",
       "| <!--/--> | Year &lt;chr&gt; | City &lt;chr&gt; | Sport &lt;chr&gt; | Discipline &lt;chr&gt; | NOC &lt;chr&gt; | Event &lt;chr&gt; | Event.gender &lt;chr&gt; | Medal &lt;chr&gt; |\n",
       "|---|---|---|---|---|---|---|---|---|\n",
       "| 100 | 1932 | Lake Placid | Skiing | Cross Country S | FIN | 18km                 | M | Bronze |\n",
       "| 101 | 1932 | Lake Placid | Skiing | Cross Country S | FIN | 50km                 | M | Gold   |\n",
       "| 102 | 1932 | Lake Placid | Skiing | Cross Country S | FIN | 50km                 | M | Silver |\n",
       "| 110 | 1932 | Lake Placid | Skiing | Cross Country S | NOR | 50km                 | M | Bronze |\n",
       "| 111 | 1932 | Lake Placid | Skiing | Nordic Combined | NOR | individual           | M | Bronze |\n",
       "| 112 | 1932 | Lake Placid | Skiing | Nordic Combined | NOR | individual           | M | Gold   |\n",
       "| 113 | 1932 | Lake Placid | Skiing | Nordic Combined | NOR | individual           | M | Silver |\n",
       "| 114 | 1932 | Lake Placid | Skiing | Ski Jumping     | NOR | K90 individual (70m) | M | Bronze |\n",
       "| 115 | 1932 | Lake Placid | Skiing | Ski Jumping     | NOR | K90 individual (70m) | M | Gold   |\n",
       "| 116 | 1932 | Lake Placid | Skiing | Ski Jumping     | NOR | K90 individual (70m) | M | Silver |\n",
       "| 119 | 1932 | Lake Placid | Skiing | Cross Country S | SWE | 18km                 | M | Gold   |\n",
       "| 120 | 1932 | Lake Placid | Skiing | Cross Country S | SWE | 18km                 | M | Silver |\n",
       "\n"
      ],
      "text/plain": [
       "    Year City        Sport  Discipline      NOC Event               \n",
       "100 1932 Lake Placid Skiing Cross Country S FIN 18km                \n",
       "101 1932 Lake Placid Skiing Cross Country S FIN 50km                \n",
       "102 1932 Lake Placid Skiing Cross Country S FIN 50km                \n",
       "110 1932 Lake Placid Skiing Cross Country S NOR 50km                \n",
       "111 1932 Lake Placid Skiing Nordic Combined NOR individual          \n",
       "112 1932 Lake Placid Skiing Nordic Combined NOR individual          \n",
       "113 1932 Lake Placid Skiing Nordic Combined NOR individual          \n",
       "114 1932 Lake Placid Skiing Ski Jumping     NOR K90 individual (70m)\n",
       "115 1932 Lake Placid Skiing Ski Jumping     NOR K90 individual (70m)\n",
       "116 1932 Lake Placid Skiing Ski Jumping     NOR K90 individual (70m)\n",
       "119 1932 Lake Placid Skiing Cross Country S SWE 18km                \n",
       "120 1932 Lake Placid Skiing Cross Country S SWE 18km                \n",
       "    Event.gender Medal \n",
       "100 M            Bronze\n",
       "101 M            Gold  \n",
       "102 M            Silver\n",
       "110 M            Bronze\n",
       "111 M            Bronze\n",
       "112 M            Gold  \n",
       "113 M            Silver\n",
       "114 M            Bronze\n",
       "115 M            Gold  \n",
       "116 M            Silver\n",
       "119 M            Gold  \n",
       "120 M            Silver"
      ]
     },
     "metadata": {},
     "output_type": "display_data"
    }
   ],
   "source": [
    "data_1932_skiing"
   ]
  },
  {
   "cell_type": "code",
   "execution_count": null,
   "id": "69fd84c8-7bbf-4374-a14d-f01082739523",
   "metadata": {},
   "outputs": [],
   "source": []
  },
  {
   "cell_type": "code",
   "execution_count": 13,
   "id": "19b57d40-ecb3-45d4-a2b8-997804faf2c7",
   "metadata": {},
   "outputs": [],
   "source": [
    "write.xlsx(data_1932_skiing, file = \"./data/medals_new.xlsx\",\n",
    "          sheetName = \"1932_skiing\", append = FALSE)"
   ]
  },
  {
   "cell_type": "code",
   "execution_count": null,
   "id": "f29720c6-9c3b-4ad0-af85-c450b76bff39",
   "metadata": {},
   "outputs": [],
   "source": []
  }
 ],
 "metadata": {
  "kernelspec": {
   "display_name": "R",
   "language": "R",
   "name": "ir"
  },
  "language_info": {
   "codemirror_mode": "r",
   "file_extension": ".r",
   "mimetype": "text/x-r-source",
   "name": "R",
   "pygments_lexer": "r",
   "version": "4.1.0"
  }
 },
 "nbformat": 4,
 "nbformat_minor": 5
}
