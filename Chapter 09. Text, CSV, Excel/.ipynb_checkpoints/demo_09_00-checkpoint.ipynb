{
 "cells": [
  {
   "cell_type": "markdown",
   "id": "502c2e96-a1d4-45e1-a360-41934d02ef5b",
   "metadata": {},
   "source": [
    "# 1. Text \n",
    "## 1.1. Lấy và in thư mục hiện hành"
   ]
  },
  {
   "cell_type": "code",
   "execution_count": 2,
   "id": "0e1c5934-06fb-4df5-acf4-a9ffc803fdbc",
   "metadata": {},
   "outputs": [
    {
     "data": {
      "text/html": [
       "'/home/manhcuong/Documents/CSC_R_for_Data_Science/Chapter 09. Text, CSV, Excel'"
      ],
      "text/latex": [
       "'/home/manhcuong/Documents/CSC\\_R\\_for\\_Data\\_Science/Chapter 09. Text, CSV, Excel'"
      ],
      "text/markdown": [
       "'/home/manhcuong/Documents/CSC_R_for_Data_Science/Chapter 09. Text, CSV, Excel'"
      ],
      "text/plain": [
       "[1] \"/home/manhcuong/Documents/CSC_R_for_Data_Science/Chapter 09. Text, CSV, Excel\""
      ]
     },
     "metadata": {},
     "output_type": "display_data"
    }
   ],
   "source": [
    "getwd()"
   ]
  },
  {
   "cell_type": "markdown",
   "id": "9ef47cc2-6155-4309-a775-162f012cfab6",
   "metadata": {},
   "source": [
    "## 1.2. Thay đổi thư mục hiện hành"
   ]
  },
  {
   "cell_type": "code",
   "execution_count": 3,
   "id": "911cae1b-58b3-4b2c-ab99-311dd3b302a0",
   "metadata": {},
   "outputs": [],
   "source": [
    "# setwd(<đường dẫn>)"
   ]
  },
  {
   "cell_type": "markdown",
   "id": "b5d8f6c3-be69-4229-bf99-2a09fe7d9676",
   "metadata": {},
   "source": [
    "## 1.3. Đọc file text bằng `readLines()`"
   ]
  },
  {
   "cell_type": "code",
   "execution_count": 4,
   "id": "5b827e33-f8db-41ff-95de-87afe1b90c49",
   "metadata": {},
   "outputs": [
    {
     "data": {
      "text/html": [
       "<style>\n",
       ".list-inline {list-style: none; margin:0; padding: 0}\n",
       ".list-inline>li {display: inline-block}\n",
       ".list-inline>li:not(:last-child)::after {content: \"\\00b7\"; padding: 0 .5ex}\n",
       "</style>\n",
       "<ol class=list-inline><li>'These data files are derived by splitting up the data set downloaded from:'</li><li>'https://www.ontario.ca/data/ontario-public-schools-enrolment'</li><li>'under the Open Government License - Ontario:'</li><li>'https://www.ontario.ca/page/open-government-licence-ontario'</li></ol>\n"
      ],
      "text/latex": [
       "\\begin{enumerate*}\n",
       "\\item 'These data files are derived by splitting up the data set downloaded from:'\n",
       "\\item 'https://www.ontario.ca/data/ontario-public-schools-enrolment'\n",
       "\\item 'under the Open Government License - Ontario:'\n",
       "\\item 'https://www.ontario.ca/page/open-government-licence-ontario'\n",
       "\\end{enumerate*}\n"
      ],
      "text/markdown": [
       "1. 'These data files are derived by splitting up the data set downloaded from:'\n",
       "2. 'https://www.ontario.ca/data/ontario-public-schools-enrolment'\n",
       "3. 'under the Open Government License - Ontario:'\n",
       "4. 'https://www.ontario.ca/page/open-government-licence-ontario'\n",
       "\n",
       "\n"
      ],
      "text/plain": [
       "[1] \"These data files are derived by splitting up the data set downloaded from:\"\n",
       "[2] \"https://www.ontario.ca/data/ontario-public-schools-enrolment\"              \n",
       "[3] \"under the Open Government License - Ontario:\"                              \n",
       "[4] \"https://www.ontario.ca/page/open-government-licence-ontario\"               "
      ]
     },
     "metadata": {},
     "output_type": "display_data"
    }
   ],
   "source": [
    "content = readLines(\"./data//license.txt\")\n",
    "\n",
    "content"
   ]
  },
  {
   "cell_type": "markdown",
   "id": "4c7b7261-029b-452b-b3ad-eb2ce4db9d81",
   "metadata": {},
   "source": [
    "* Nếu tập tin có dạng UTF-8 thì sử dụng thuộc tính `encoding`"
   ]
  },
  {
   "cell_type": "code",
   "execution_count": 5,
   "id": "516b44db-2f02-4a43-a7b6-4de884e65dc8",
   "metadata": {},
   "outputs": [
    {
     "data": {
      "text/html": [
       "<style>\n",
       ".list-inline {list-style: none; margin:0; padding: 0}\n",
       ".list-inline>li {display: inline-block}\n",
       ".list-inline>li:not(:last-child)::after {content: \"\\00b7\"; padding: 0 .5ex}\n",
       "</style>\n",
       "<ol class=list-inline><li>'Mùa xuân là Tết trồng cây'</li><li>'Làm cho đất nước càng ngày càng xuân'</li><li>''</li></ol>\n"
      ],
      "text/latex": [
       "\\begin{enumerate*}\n",
       "\\item 'Mùa xuân là Tết trồng cây'\n",
       "\\item 'Làm cho đất nước càng ngày càng xuân'\n",
       "\\item ''\n",
       "\\end{enumerate*}\n"
      ],
      "text/markdown": [
       "1. 'Mùa xuân là Tết trồng cây'\n",
       "2. 'Làm cho đất nước càng ngày càng xuân'\n",
       "3. ''\n",
       "\n",
       "\n"
      ],
      "text/plain": [
       "[1] \"Mùa xuân là Tết trồng cây\"           \n",
       "[2] \"Làm cho đất nước càng ngày càng xuân\"\n",
       "[3] \"\"                                    "
      ]
     },
     "metadata": {},
     "output_type": "display_data"
    }
   ],
   "source": [
    "content = readLines(\"./data/bai_tho.txt\", encoding=\"utf-8\")\n",
    "\n",
    "content"
   ]
  },
  {
   "cell_type": "code",
   "execution_count": 6,
   "id": "cf3902ef-d821-4080-85c8-ae96371e87a5",
   "metadata": {},
   "outputs": [
    {
     "data": {
      "text/html": [
       "'Mùa xuân là Tết trồng cây'"
      ],
      "text/latex": [
       "'Mùa xuân là Tết trồng cây'"
      ],
      "text/markdown": [
       "'Mùa xuân là Tết trồng cây'"
      ],
      "text/plain": [
       "[1] \"Mùa xuân là Tết trồng cây\""
      ]
     },
     "metadata": {},
     "output_type": "display_data"
    }
   ],
   "source": [
    "content[1]"
   ]
  },
  {
   "cell_type": "markdown",
   "id": "839eace2-4aba-4b24-afe0-0c6a7fb446bf",
   "metadata": {},
   "source": [
    "## 1.4. Các phương thức\n",
    "### 1.4.1. Đếm số lượng các element trong vector bằng `length()`"
   ]
  },
  {
   "cell_type": "code",
   "execution_count": 7,
   "id": "c6fa6641-013b-401c-84f4-1bff708c6a17",
   "metadata": {},
   "outputs": [
    {
     "data": {
      "text/html": [
       "4"
      ],
      "text/latex": [
       "4"
      ],
      "text/markdown": [
       "4"
      ],
      "text/plain": [
       "[1] 4"
      ]
     },
     "metadata": {},
     "output_type": "display_data"
    }
   ],
   "source": [
    "content = readLines(\"./data//license.txt\")\n",
    "\n",
    "length(content)"
   ]
  },
  {
   "cell_type": "markdown",
   "id": "4520f7a9-ca53-4427-87d4-1be8c3f5e5e4",
   "metadata": {},
   "source": [
    "### 1.4.2. Đếm số kí tự của từng element trong vector bằng `nchar()`"
   ]
  },
  {
   "cell_type": "code",
   "execution_count": 9,
   "id": "d9efbfd8-78c6-4cbf-a6b8-c5805e380090",
   "metadata": {},
   "outputs": [
    {
     "data": {
      "text/html": [
       "74"
      ],
      "text/latex": [
       "74"
      ],
      "text/markdown": [
       "74"
      ],
      "text/plain": [
       "[1] 74"
      ]
     },
     "metadata": {},
     "output_type": "display_data"
    }
   ],
   "source": [
    "content = readLines(\"./data//license.txt\")\n",
    "\n",
    "nchar(content[1])"
   ]
  },
  {
   "cell_type": "code",
   "execution_count": 11,
   "id": "cea858b6-fb66-42ad-ba6d-286010fbd95f",
   "metadata": {},
   "outputs": [
    {
     "data": {
      "text/html": [
       "<style>\n",
       ".list-inline {list-style: none; margin:0; padding: 0}\n",
       ".list-inline>li {display: inline-block}\n",
       ".list-inline>li:not(:last-child)::after {content: \"\\00b7\"; padding: 0 .5ex}\n",
       "</style>\n",
       "<ol class=list-inline><li>74</li><li>60</li><li>44</li><li>59</li></ol>\n"
      ],
      "text/latex": [
       "\\begin{enumerate*}\n",
       "\\item 74\n",
       "\\item 60\n",
       "\\item 44\n",
       "\\item 59\n",
       "\\end{enumerate*}\n"
      ],
      "text/markdown": [
       "1. 74\n",
       "2. 60\n",
       "3. 44\n",
       "4. 59\n",
       "\n",
       "\n"
      ],
      "text/plain": [
       "[1] 74 60 44 59"
      ]
     },
     "metadata": {},
     "output_type": "display_data"
    }
   ],
   "source": [
    "nchar(content)"
   ]
  },
  {
   "cell_type": "markdown",
   "id": "2af4a260-0ed4-4416-86fc-a94f80f6d591",
   "metadata": {},
   "source": [
    "### 1.4.3. Kích thước file tính theo `bytes` dùng `file.size()`"
   ]
  },
  {
   "cell_type": "code",
   "execution_count": 12,
   "id": "de874dc6-b6d3-40a2-bc8a-110c0fa66d65",
   "metadata": {},
   "outputs": [
    {
     "data": {
      "text/html": [
       "242"
      ],
      "text/latex": [
       "242"
      ],
      "text/markdown": [
       "242"
      ],
      "text/plain": [
       "[1] 242"
      ]
     },
     "metadata": {},
     "output_type": "display_data"
    }
   ],
   "source": [
    "file.size(\"./data/license.txt\")"
   ]
  },
  {
   "cell_type": "markdown",
   "id": "09e444de-b473-4221-8ee0-87ca42f278b9",
   "metadata": {},
   "source": [
    "### 1.5. Đọc file text với `scan()`"
   ]
  },
  {
   "cell_type": "code",
   "execution_count": 24,
   "id": "2bca58c3-eb81-4a2e-8c30-5f7d3ea7e392",
   "metadata": {},
   "outputs": [
    {
     "data": {
      "text/html": [
       "<style>\n",
       ".list-inline {list-style: none; margin:0; padding: 0}\n",
       ".list-inline>li {display: inline-block}\n",
       ".list-inline>li:not(:last-child)::after {content: \"\\00b7\"; padding: 0 .5ex}\n",
       "</style>\n",
       "<ol class=list-inline><li>'These'</li><li>'data'</li><li>'files'</li><li>'are'</li><li>'derived'</li><li>'by'</li><li>'splitting'</li><li>'up'</li><li>'the'</li><li>'data'</li><li>'set'</li><li>'downloaded'</li><li>'from:'</li><li>'https://www.ontario.ca/data/ontario-public-schools-enrolment'</li><li>'under'</li><li>'the'</li><li>'Open'</li><li>'Government'</li><li>'License'</li><li>'-'</li><li>'Ontario:'</li><li>'https://www.ontario.ca/page/open-government-licence-ontario'</li></ol>\n"
      ],
      "text/latex": [
       "\\begin{enumerate*}\n",
       "\\item 'These'\n",
       "\\item 'data'\n",
       "\\item 'files'\n",
       "\\item 'are'\n",
       "\\item 'derived'\n",
       "\\item 'by'\n",
       "\\item 'splitting'\n",
       "\\item 'up'\n",
       "\\item 'the'\n",
       "\\item 'data'\n",
       "\\item 'set'\n",
       "\\item 'downloaded'\n",
       "\\item 'from:'\n",
       "\\item 'https://www.ontario.ca/data/ontario-public-schools-enrolment'\n",
       "\\item 'under'\n",
       "\\item 'the'\n",
       "\\item 'Open'\n",
       "\\item 'Government'\n",
       "\\item 'License'\n",
       "\\item '-'\n",
       "\\item 'Ontario:'\n",
       "\\item 'https://www.ontario.ca/page/open-government-licence-ontario'\n",
       "\\end{enumerate*}\n"
      ],
      "text/markdown": [
       "1. 'These'\n",
       "2. 'data'\n",
       "3. 'files'\n",
       "4. 'are'\n",
       "5. 'derived'\n",
       "6. 'by'\n",
       "7. 'splitting'\n",
       "8. 'up'\n",
       "9. 'the'\n",
       "10. 'data'\n",
       "11. 'set'\n",
       "12. 'downloaded'\n",
       "13. 'from:'\n",
       "14. 'https://www.ontario.ca/data/ontario-public-schools-enrolment'\n",
       "15. 'under'\n",
       "16. 'the'\n",
       "17. 'Open'\n",
       "18. 'Government'\n",
       "19. 'License'\n",
       "20. '-'\n",
       "21. 'Ontario:'\n",
       "22. 'https://www.ontario.ca/page/open-government-licence-ontario'\n",
       "\n",
       "\n"
      ],
      "text/plain": [
       " [1] \"These\"                                                       \n",
       " [2] \"data\"                                                        \n",
       " [3] \"files\"                                                       \n",
       " [4] \"are\"                                                         \n",
       " [5] \"derived\"                                                     \n",
       " [6] \"by\"                                                          \n",
       " [7] \"splitting\"                                                   \n",
       " [8] \"up\"                                                          \n",
       " [9] \"the\"                                                         \n",
       "[10] \"data\"                                                        \n",
       "[11] \"set\"                                                         \n",
       "[12] \"downloaded\"                                                  \n",
       "[13] \"from:\"                                                       \n",
       "[14] \"https://www.ontario.ca/data/ontario-public-schools-enrolment\"\n",
       "[15] \"under\"                                                       \n",
       "[16] \"the\"                                                         \n",
       "[17] \"Open\"                                                        \n",
       "[18] \"Government\"                                                  \n",
       "[19] \"License\"                                                     \n",
       "[20] \"-\"                                                           \n",
       "[21] \"Ontario:\"                                                    \n",
       "[22] \"https://www.ontario.ca/page/open-government-licence-ontario\" "
      ]
     },
     "metadata": {},
     "output_type": "display_data"
    }
   ],
   "source": [
    "content = scan(\"./data/license.txt\", \"\")\n",
    "\n",
    "content"
   ]
  },
  {
   "cell_type": "markdown",
   "id": "16042964-0584-45a3-a683-a6d8595cc408",
   "metadata": {},
   "source": [
    "## 1.6. Đọc file text có cấu trúc table"
   ]
  },
  {
   "cell_type": "code",
   "execution_count": 25,
   "id": "4df8da31-2c4d-43ae-b9c4-25cabd57b3f0",
   "metadata": {},
   "outputs": [
    {
     "data": {
      "text/html": [
       "<table class=\"dataframe\">\n",
       "<caption>A data.frame: 7 × 5</caption>\n",
       "<thead>\n",
       "\t<tr><th scope=col>V1</th><th scope=col>V2</th><th scope=col>V3</th><th scope=col>V4</th><th scope=col>V5</th></tr>\n",
       "\t<tr><th scope=col>&lt;chr&gt;</th><th scope=col>&lt;int&gt;</th><th scope=col>&lt;int&gt;</th><th scope=col>&lt;int&gt;</th><th scope=col>&lt;chr&gt;</th></tr>\n",
       "</thead>\n",
       "<tbody>\n",
       "\t<tr><td>Alex    </td><td>25</td><td>177</td><td>57</td><td>F</td></tr>\n",
       "\t<tr><td>Lilly   </td><td>31</td><td>163</td><td>69</td><td>F</td></tr>\n",
       "\t<tr><td>Mark    </td><td>23</td><td>190</td><td>83</td><td>M</td></tr>\n",
       "\t<tr><td>Oliver  </td><td>52</td><td>179</td><td>75</td><td>M</td></tr>\n",
       "\t<tr><td>Martha  </td><td>76</td><td>163</td><td>70</td><td>F</td></tr>\n",
       "\t<tr><td>Lucas   </td><td>49</td><td>183</td><td>83</td><td>M</td></tr>\n",
       "\t<tr><td>Caroline</td><td>26</td><td>164</td><td>53</td><td>F</td></tr>\n",
       "</tbody>\n",
       "</table>\n"
      ],
      "text/latex": [
       "A data.frame: 7 × 5\n",
       "\\begin{tabular}{lllll}\n",
       " V1 & V2 & V3 & V4 & V5\\\\\n",
       " <chr> & <int> & <int> & <int> & <chr>\\\\\n",
       "\\hline\n",
       "\t Alex     & 25 & 177 & 57 & F\\\\\n",
       "\t Lilly    & 31 & 163 & 69 & F\\\\\n",
       "\t Mark     & 23 & 190 & 83 & M\\\\\n",
       "\t Oliver   & 52 & 179 & 75 & M\\\\\n",
       "\t Martha   & 76 & 163 & 70 & F\\\\\n",
       "\t Lucas    & 49 & 183 & 83 & M\\\\\n",
       "\t Caroline & 26 & 164 & 53 & F\\\\\n",
       "\\end{tabular}\n"
      ],
      "text/markdown": [
       "\n",
       "A data.frame: 7 × 5\n",
       "\n",
       "| V1 &lt;chr&gt; | V2 &lt;int&gt; | V3 &lt;int&gt; | V4 &lt;int&gt; | V5 &lt;chr&gt; |\n",
       "|---|---|---|---|---|\n",
       "| Alex     | 25 | 177 | 57 | F |\n",
       "| Lilly    | 31 | 163 | 69 | F |\n",
       "| Mark     | 23 | 190 | 83 | M |\n",
       "| Oliver   | 52 | 179 | 75 | M |\n",
       "| Martha   | 76 | 163 | 70 | F |\n",
       "| Lucas    | 49 | 183 | 83 | M |\n",
       "| Caroline | 26 | 164 | 53 | F |\n",
       "\n"
      ],
      "text/plain": [
       "  V1       V2 V3  V4 V5\n",
       "1 Alex     25 177 57 F \n",
       "2 Lilly    31 163 69 F \n",
       "3 Mark     23 190 83 M \n",
       "4 Oliver   52 179 75 M \n",
       "5 Martha   76 163 70 F \n",
       "6 Lucas    49 183 83 M \n",
       "7 Caroline 26 164 53 F "
      ]
     },
     "metadata": {},
     "output_type": "display_data"
    }
   ],
   "source": [
    "df = read.table(\"./data/Table0.txt\")\n",
    "\n",
    "df"
   ]
  },
  {
   "cell_type": "markdown",
   "id": "a8a80b08-3725-49e5-be54-dd7ab2dcadc6",
   "metadata": {},
   "source": [
    "## 1.7. Ghi chuổi ra file `.txt`"
   ]
  },
  {
   "cell_type": "code",
   "execution_count": 1,
   "id": "28f9e368-50b7-4406-97c8-16ca43eca643",
   "metadata": {},
   "outputs": [],
   "source": [
    "content = \"Dương Mạnh Cường\"\n",
    "file_name = file(description=\"./data/_text.txt\", open='a', encoding='utf-8')\n",
    "write(content, file=file_name)"
   ]
  },
  {
   "cell_type": "code",
   "execution_count": 2,
   "id": "e96e0b4f-ad63-4ee6-8ed4-65a79e625f83",
   "metadata": {},
   "outputs": [
    {
     "data": {
      "text/html": [
       "'Dương Mạnh Cường'"
      ],
      "text/latex": [
       "'Dương Mạnh Cường'"
      ],
      "text/markdown": [
       "'Dương Mạnh Cường'"
      ],
      "text/plain": [
       "[1] \"Dương Mạnh Cường\""
      ]
     },
     "metadata": {},
     "output_type": "display_data"
    }
   ],
   "source": [
    "reading_content = readLines(\"./data/_text.txt\")\n",
    "\n",
    "reading_content"
   ]
  },
  {
   "cell_type": "code",
   "execution_count": null,
   "id": "41a7b806-cf54-4dcb-8f31-f6675d3d97fb",
   "metadata": {},
   "outputs": [],
   "source": []
  },
  {
   "cell_type": "code",
   "execution_count": 3,
   "id": "737364d4-01e9-4258-b392-93f68ceff949",
   "metadata": {},
   "outputs": [],
   "source": [
    "content = matrix(1:9, nrow=3, ncol=3)\n",
    "write(content, file=\"./data/_matrix.txt\", ncolumns=3, sep=\" \")"
   ]
  },
  {
   "cell_type": "code",
   "execution_count": 4,
   "id": "7539add4-6330-410e-b295-833a700c213c",
   "metadata": {},
   "outputs": [
    {
     "data": {
      "text/html": [
       "<style>\n",
       ".list-inline {list-style: none; margin:0; padding: 0}\n",
       ".list-inline>li {display: inline-block}\n",
       ".list-inline>li:not(:last-child)::after {content: \"\\00b7\"; padding: 0 .5ex}\n",
       "</style>\n",
       "<ol class=list-inline><li>'1 2 3'</li><li>'4 5 6'</li><li>'7 8 9'</li></ol>\n"
      ],
      "text/latex": [
       "\\begin{enumerate*}\n",
       "\\item '1 2 3'\n",
       "\\item '4 5 6'\n",
       "\\item '7 8 9'\n",
       "\\end{enumerate*}\n"
      ],
      "text/markdown": [
       "1. '1 2 3'\n",
       "2. '4 5 6'\n",
       "3. '7 8 9'\n",
       "\n",
       "\n"
      ],
      "text/plain": [
       "[1] \"1 2 3\" \"4 5 6\" \"7 8 9\""
      ]
     },
     "metadata": {},
     "output_type": "display_data"
    }
   ],
   "source": [
    "content = readLines(\"./data/_matrix.txt\")\n",
    "\n",
    "content"
   ]
  },
  {
   "cell_type": "markdown",
   "id": "44f4feb6-c9db-48e9-a9c5-ba4d7cb5a078",
   "metadata": {},
   "source": [
    "## 1.8. Ghi dữ liệu text có cấu trúc"
   ]
  },
  {
   "cell_type": "code",
   "execution_count": 5,
   "id": "50cfc6e0-8ed8-40be-8975-2d98e84b5c8f",
   "metadata": {},
   "outputs": [
    {
     "data": {
      "text/html": [
       "<table class=\"dataframe\">\n",
       "<caption>A data.frame: 7 × 5</caption>\n",
       "<thead>\n",
       "\t<tr><th scope=col>V1</th><th scope=col>V2</th><th scope=col>V3</th><th scope=col>V4</th><th scope=col>V5</th></tr>\n",
       "\t<tr><th scope=col>&lt;chr&gt;</th><th scope=col>&lt;int&gt;</th><th scope=col>&lt;int&gt;</th><th scope=col>&lt;int&gt;</th><th scope=col>&lt;chr&gt;</th></tr>\n",
       "</thead>\n",
       "<tbody>\n",
       "\t<tr><td>Alex    </td><td>25</td><td>177</td><td>57</td><td>F</td></tr>\n",
       "\t<tr><td>Lilly   </td><td>31</td><td>163</td><td>69</td><td>F</td></tr>\n",
       "\t<tr><td>Mark    </td><td>23</td><td>190</td><td>83</td><td>M</td></tr>\n",
       "\t<tr><td>Oliver  </td><td>52</td><td>179</td><td>75</td><td>M</td></tr>\n",
       "\t<tr><td>Martha  </td><td>76</td><td>163</td><td>70</td><td>F</td></tr>\n",
       "\t<tr><td>Lucas   </td><td>49</td><td>183</td><td>83</td><td>M</td></tr>\n",
       "\t<tr><td>Caroline</td><td>26</td><td>164</td><td>53</td><td>F</td></tr>\n",
       "</tbody>\n",
       "</table>\n"
      ],
      "text/latex": [
       "A data.frame: 7 × 5\n",
       "\\begin{tabular}{lllll}\n",
       " V1 & V2 & V3 & V4 & V5\\\\\n",
       " <chr> & <int> & <int> & <int> & <chr>\\\\\n",
       "\\hline\n",
       "\t Alex     & 25 & 177 & 57 & F\\\\\n",
       "\t Lilly    & 31 & 163 & 69 & F\\\\\n",
       "\t Mark     & 23 & 190 & 83 & M\\\\\n",
       "\t Oliver   & 52 & 179 & 75 & M\\\\\n",
       "\t Martha   & 76 & 163 & 70 & F\\\\\n",
       "\t Lucas    & 49 & 183 & 83 & M\\\\\n",
       "\t Caroline & 26 & 164 & 53 & F\\\\\n",
       "\\end{tabular}\n"
      ],
      "text/markdown": [
       "\n",
       "A data.frame: 7 × 5\n",
       "\n",
       "| V1 &lt;chr&gt; | V2 &lt;int&gt; | V3 &lt;int&gt; | V4 &lt;int&gt; | V5 &lt;chr&gt; |\n",
       "|---|---|---|---|---|\n",
       "| Alex     | 25 | 177 | 57 | F |\n",
       "| Lilly    | 31 | 163 | 69 | F |\n",
       "| Mark     | 23 | 190 | 83 | M |\n",
       "| Oliver   | 52 | 179 | 75 | M |\n",
       "| Martha   | 76 | 163 | 70 | F |\n",
       "| Lucas    | 49 | 183 | 83 | M |\n",
       "| Caroline | 26 | 164 | 53 | F |\n",
       "\n"
      ],
      "text/plain": [
       "  V1       V2 V3  V4 V5\n",
       "1 Alex     25 177 57 F \n",
       "2 Lilly    31 163 69 F \n",
       "3 Mark     23 190 83 M \n",
       "4 Oliver   52 179 75 M \n",
       "5 Martha   76 163 70 F \n",
       "6 Lucas    49 183 83 M \n",
       "7 Caroline 26 164 53 F "
      ]
     },
     "metadata": {},
     "output_type": "display_data"
    }
   ],
   "source": [
    "df = read.table(\"./data/Table0.txt\")\n",
    "\n",
    "df"
   ]
  },
  {
   "cell_type": "code",
   "execution_count": 6,
   "id": "2aa26c6a-ce44-4e5e-bd79-89b900fdee0c",
   "metadata": {},
   "outputs": [],
   "source": [
    "write.table(df, file=\"./data/_matrix0.txt\", sep=\"\\t\")"
   ]
  },
  {
   "cell_type": "code",
   "execution_count": 8,
   "id": "b37c5d60-1109-41ed-818b-aaae1ff51b1d",
   "metadata": {},
   "outputs": [
    {
     "data": {
      "text/html": [
       "<table class=\"dataframe\">\n",
       "<caption>A data.frame: 7 × 5</caption>\n",
       "<thead>\n",
       "\t<tr><th></th><th scope=col>V1</th><th scope=col>V2</th><th scope=col>V3</th><th scope=col>V4</th><th scope=col>V5</th></tr>\n",
       "\t<tr><th></th><th scope=col>&lt;chr&gt;</th><th scope=col>&lt;int&gt;</th><th scope=col>&lt;int&gt;</th><th scope=col>&lt;int&gt;</th><th scope=col>&lt;chr&gt;</th></tr>\n",
       "</thead>\n",
       "<tbody>\n",
       "\t<tr><th scope=row>1</th><td>Alex    </td><td>25</td><td>177</td><td>57</td><td>F</td></tr>\n",
       "\t<tr><th scope=row>2</th><td>Lilly   </td><td>31</td><td>163</td><td>69</td><td>F</td></tr>\n",
       "\t<tr><th scope=row>3</th><td>Mark    </td><td>23</td><td>190</td><td>83</td><td>M</td></tr>\n",
       "\t<tr><th scope=row>4</th><td>Oliver  </td><td>52</td><td>179</td><td>75</td><td>M</td></tr>\n",
       "\t<tr><th scope=row>5</th><td>Martha  </td><td>76</td><td>163</td><td>70</td><td>F</td></tr>\n",
       "\t<tr><th scope=row>6</th><td>Lucas   </td><td>49</td><td>183</td><td>83</td><td>M</td></tr>\n",
       "\t<tr><th scope=row>7</th><td>Caroline</td><td>26</td><td>164</td><td>53</td><td>F</td></tr>\n",
       "</tbody>\n",
       "</table>\n"
      ],
      "text/latex": [
       "A data.frame: 7 × 5\n",
       "\\begin{tabular}{r|lllll}\n",
       "  & V1 & V2 & V3 & V4 & V5\\\\\n",
       "  & <chr> & <int> & <int> & <int> & <chr>\\\\\n",
       "\\hline\n",
       "\t1 & Alex     & 25 & 177 & 57 & F\\\\\n",
       "\t2 & Lilly    & 31 & 163 & 69 & F\\\\\n",
       "\t3 & Mark     & 23 & 190 & 83 & M\\\\\n",
       "\t4 & Oliver   & 52 & 179 & 75 & M\\\\\n",
       "\t5 & Martha   & 76 & 163 & 70 & F\\\\\n",
       "\t6 & Lucas    & 49 & 183 & 83 & M\\\\\n",
       "\t7 & Caroline & 26 & 164 & 53 & F\\\\\n",
       "\\end{tabular}\n"
      ],
      "text/markdown": [
       "\n",
       "A data.frame: 7 × 5\n",
       "\n",
       "| <!--/--> | V1 &lt;chr&gt; | V2 &lt;int&gt; | V3 &lt;int&gt; | V4 &lt;int&gt; | V5 &lt;chr&gt; |\n",
       "|---|---|---|---|---|---|\n",
       "| 1 | Alex     | 25 | 177 | 57 | F |\n",
       "| 2 | Lilly    | 31 | 163 | 69 | F |\n",
       "| 3 | Mark     | 23 | 190 | 83 | M |\n",
       "| 4 | Oliver   | 52 | 179 | 75 | M |\n",
       "| 5 | Martha   | 76 | 163 | 70 | F |\n",
       "| 6 | Lucas    | 49 | 183 | 83 | M |\n",
       "| 7 | Caroline | 26 | 164 | 53 | F |\n",
       "\n"
      ],
      "text/plain": [
       "  V1       V2 V3  V4 V5\n",
       "1 Alex     25 177 57 F \n",
       "2 Lilly    31 163 69 F \n",
       "3 Mark     23 190 83 M \n",
       "4 Oliver   52 179 75 M \n",
       "5 Martha   76 163 70 F \n",
       "6 Lucas    49 183 83 M \n",
       "7 Caroline 26 164 53 F "
      ]
     },
     "metadata": {},
     "output_type": "display_data"
    }
   ],
   "source": [
    "content = read.table(\"./data/_matrix0.txt\")\n",
    "\n",
    "content"
   ]
  },
  {
   "cell_type": "markdown",
   "id": "c607de3c-c5e5-40a2-a37b-cf5dc287aa2f",
   "metadata": {},
   "source": [
    "# 2. CSV\n",
    "## 2.1. Đọc file CSV"
   ]
  },
  {
   "cell_type": "code",
   "execution_count": 9,
   "id": "f1be0094-e5c9-4f0f-ae32-1262b63bf342",
   "metadata": {},
   "outputs": [
    {
     "data": {
      "text/html": [
       "<table class=\"dataframe\">\n",
       "<caption>A data.frame: 8 × 5</caption>\n",
       "<thead>\n",
       "\t<tr><th scope=col>id</th><th scope=col>name</th><th scope=col>salary</th><th scope=col>start_date</th><th scope=col>dept</th></tr>\n",
       "\t<tr><th scope=col>&lt;int&gt;</th><th scope=col>&lt;chr&gt;</th><th scope=col>&lt;dbl&gt;</th><th scope=col>&lt;chr&gt;</th><th scope=col>&lt;chr&gt;</th></tr>\n",
       "</thead>\n",
       "<tbody>\n",
       "\t<tr><td> 1</td><td>Rick    </td><td>623.30</td><td>2012-01-01</td><td>IT        </td></tr>\n",
       "\t<tr><td> 2</td><td>Dan     </td><td>515.20</td><td>2013-09-23</td><td>Operations</td></tr>\n",
       "\t<tr><td> 3</td><td>Michelle</td><td>611.00</td><td>2014-11-15</td><td>IT        </td></tr>\n",
       "\t<tr><td> 4</td><td>Ryan    </td><td>729.00</td><td>2014-05-11</td><td>HR        </td></tr>\n",
       "\t<tr><td>NA</td><td>Gary    </td><td>843.25</td><td>2015-03-27</td><td>Finance   </td></tr>\n",
       "\t<tr><td> 6</td><td>Nina    </td><td>578.00</td><td>2013-05-21</td><td>IT        </td></tr>\n",
       "\t<tr><td> 7</td><td>Simon   </td><td>632.80</td><td>2013-07-30</td><td>Operations</td></tr>\n",
       "\t<tr><td> 8</td><td>Guru    </td><td>722.50</td><td>2014-06-17</td><td>Finance   </td></tr>\n",
       "</tbody>\n",
       "</table>\n"
      ],
      "text/latex": [
       "A data.frame: 8 × 5\n",
       "\\begin{tabular}{lllll}\n",
       " id & name & salary & start\\_date & dept\\\\\n",
       " <int> & <chr> & <dbl> & <chr> & <chr>\\\\\n",
       "\\hline\n",
       "\t  1 & Rick     & 623.30 & 2012-01-01 & IT        \\\\\n",
       "\t  2 & Dan      & 515.20 & 2013-09-23 & Operations\\\\\n",
       "\t  3 & Michelle & 611.00 & 2014-11-15 & IT        \\\\\n",
       "\t  4 & Ryan     & 729.00 & 2014-05-11 & HR        \\\\\n",
       "\t NA & Gary     & 843.25 & 2015-03-27 & Finance   \\\\\n",
       "\t  6 & Nina     & 578.00 & 2013-05-21 & IT        \\\\\n",
       "\t  7 & Simon    & 632.80 & 2013-07-30 & Operations\\\\\n",
       "\t  8 & Guru     & 722.50 & 2014-06-17 & Finance   \\\\\n",
       "\\end{tabular}\n"
      ],
      "text/markdown": [
       "\n",
       "A data.frame: 8 × 5\n",
       "\n",
       "| id &lt;int&gt; | name &lt;chr&gt; | salary &lt;dbl&gt; | start_date &lt;chr&gt; | dept &lt;chr&gt; |\n",
       "|---|---|---|---|---|\n",
       "|  1 | Rick     | 623.30 | 2012-01-01 | IT         |\n",
       "|  2 | Dan      | 515.20 | 2013-09-23 | Operations |\n",
       "|  3 | Michelle | 611.00 | 2014-11-15 | IT         |\n",
       "|  4 | Ryan     | 729.00 | 2014-05-11 | HR         |\n",
       "| NA | Gary     | 843.25 | 2015-03-27 | Finance    |\n",
       "|  6 | Nina     | 578.00 | 2013-05-21 | IT         |\n",
       "|  7 | Simon    | 632.80 | 2013-07-30 | Operations |\n",
       "|  8 | Guru     | 722.50 | 2014-06-17 | Finance    |\n",
       "\n"
      ],
      "text/plain": [
       "  id name     salary start_date dept      \n",
       "1  1 Rick     623.30 2012-01-01 IT        \n",
       "2  2 Dan      515.20 2013-09-23 Operations\n",
       "3  3 Michelle 611.00 2014-11-15 IT        \n",
       "4  4 Ryan     729.00 2014-05-11 HR        \n",
       "5 NA Gary     843.25 2015-03-27 Finance   \n",
       "6  6 Nina     578.00 2013-05-21 IT        \n",
       "7  7 Simon    632.80 2013-07-30 Operations\n",
       "8  8 Guru     722.50 2014-06-17 Finance   "
      ]
     },
     "metadata": {},
     "output_type": "display_data"
    }
   ],
   "source": [
    "data = read.csv(\"./data/emp.csv\")\n",
    "\n",
    "data"
   ]
  },
  {
   "cell_type": "markdown",
   "id": "4fb374a6-1e2d-4a1a-a1e2-cbf3b0ee5d3d",
   "metadata": {},
   "source": [
    "## 2.2. Phân tích dữ liệu trong file"
   ]
  },
  {
   "cell_type": "code",
   "execution_count": 14,
   "id": "31d64eff-6e95-411b-964d-3436d28e3ae2",
   "metadata": {},
   "outputs": [
    {
     "data": {
      "text/html": [
       "<table class=\"dataframe\">\n",
       "<caption>A data.frame: 8 × 5</caption>\n",
       "<thead>\n",
       "\t<tr><th scope=col>id</th><th scope=col>name</th><th scope=col>salary</th><th scope=col>start_date</th><th scope=col>dept</th></tr>\n",
       "\t<tr><th scope=col>&lt;int&gt;</th><th scope=col>&lt;chr&gt;</th><th scope=col>&lt;dbl&gt;</th><th scope=col>&lt;chr&gt;</th><th scope=col>&lt;chr&gt;</th></tr>\n",
       "</thead>\n",
       "<tbody>\n",
       "\t<tr><td> 1</td><td>Rick    </td><td>623.30</td><td>2012-01-01</td><td>IT        </td></tr>\n",
       "\t<tr><td> 2</td><td>Dan     </td><td>515.20</td><td>2013-09-23</td><td>Operations</td></tr>\n",
       "\t<tr><td> 3</td><td>Michelle</td><td>611.00</td><td>2014-11-15</td><td>IT        </td></tr>\n",
       "\t<tr><td> 4</td><td>Ryan    </td><td>729.00</td><td>2014-05-11</td><td>HR        </td></tr>\n",
       "\t<tr><td>NA</td><td>Gary    </td><td>843.25</td><td>2015-03-27</td><td>Finance   </td></tr>\n",
       "\t<tr><td> 6</td><td>Nina    </td><td>578.00</td><td>2013-05-21</td><td>IT        </td></tr>\n",
       "\t<tr><td> 7</td><td>Simon   </td><td>632.80</td><td>2013-07-30</td><td>Operations</td></tr>\n",
       "\t<tr><td> 8</td><td>Guru    </td><td>722.50</td><td>2014-06-17</td><td>Finance   </td></tr>\n",
       "</tbody>\n",
       "</table>\n"
      ],
      "text/latex": [
       "A data.frame: 8 × 5\n",
       "\\begin{tabular}{lllll}\n",
       " id & name & salary & start\\_date & dept\\\\\n",
       " <int> & <chr> & <dbl> & <chr> & <chr>\\\\\n",
       "\\hline\n",
       "\t  1 & Rick     & 623.30 & 2012-01-01 & IT        \\\\\n",
       "\t  2 & Dan      & 515.20 & 2013-09-23 & Operations\\\\\n",
       "\t  3 & Michelle & 611.00 & 2014-11-15 & IT        \\\\\n",
       "\t  4 & Ryan     & 729.00 & 2014-05-11 & HR        \\\\\n",
       "\t NA & Gary     & 843.25 & 2015-03-27 & Finance   \\\\\n",
       "\t  6 & Nina     & 578.00 & 2013-05-21 & IT        \\\\\n",
       "\t  7 & Simon    & 632.80 & 2013-07-30 & Operations\\\\\n",
       "\t  8 & Guru     & 722.50 & 2014-06-17 & Finance   \\\\\n",
       "\\end{tabular}\n"
      ],
      "text/markdown": [
       "\n",
       "A data.frame: 8 × 5\n",
       "\n",
       "| id &lt;int&gt; | name &lt;chr&gt; | salary &lt;dbl&gt; | start_date &lt;chr&gt; | dept &lt;chr&gt; |\n",
       "|---|---|---|---|---|\n",
       "|  1 | Rick     | 623.30 | 2012-01-01 | IT         |\n",
       "|  2 | Dan      | 515.20 | 2013-09-23 | Operations |\n",
       "|  3 | Michelle | 611.00 | 2014-11-15 | IT         |\n",
       "|  4 | Ryan     | 729.00 | 2014-05-11 | HR         |\n",
       "| NA | Gary     | 843.25 | 2015-03-27 | Finance    |\n",
       "|  6 | Nina     | 578.00 | 2013-05-21 | IT         |\n",
       "|  7 | Simon    | 632.80 | 2013-07-30 | Operations |\n",
       "|  8 | Guru     | 722.50 | 2014-06-17 | Finance    |\n",
       "\n"
      ],
      "text/plain": [
       "  id name     salary start_date dept      \n",
       "1  1 Rick     623.30 2012-01-01 IT        \n",
       "2  2 Dan      515.20 2013-09-23 Operations\n",
       "3  3 Michelle 611.00 2014-11-15 IT        \n",
       "4  4 Ryan     729.00 2014-05-11 HR        \n",
       "5 NA Gary     843.25 2015-03-27 Finance   \n",
       "6  6 Nina     578.00 2013-05-21 IT        \n",
       "7  7 Simon    632.80 2013-07-30 Operations\n",
       "8  8 Guru     722.50 2014-06-17 Finance   "
      ]
     },
     "metadata": {},
     "output_type": "display_data"
    }
   ],
   "source": [
    "data = read.csv(\"./data/emp.csv\")\n",
    "\n",
    "data"
   ]
  },
  {
   "cell_type": "markdown",
   "id": "7165510a-c00a-40fb-9edd-a16932d81fa8",
   "metadata": {},
   "source": [
    "### 2.2.1. `is.data.frame(<file name>)` kiểm tra file có phải là dataframe hay ko"
   ]
  },
  {
   "cell_type": "code",
   "execution_count": 10,
   "id": "d6925052-3de3-4413-b96e-1e484789d1f6",
   "metadata": {},
   "outputs": [
    {
     "data": {
      "text/html": [
       "TRUE"
      ],
      "text/latex": [
       "TRUE"
      ],
      "text/markdown": [
       "TRUE"
      ],
      "text/plain": [
       "[1] TRUE"
      ]
     },
     "metadata": {},
     "output_type": "display_data"
    }
   ],
   "source": [
    "is.data.frame(data)"
   ]
  },
  {
   "cell_type": "markdown",
   "id": "6d3ec8e4-1f51-427b-8b74-01367752ed65",
   "metadata": {},
   "source": [
    "### 2.2.2. Lấy số cột, số dòng"
   ]
  },
  {
   "cell_type": "code",
   "execution_count": 11,
   "id": "d47327ca-ccf6-4f74-a54c-3a3fea36a51b",
   "metadata": {},
   "outputs": [
    {
     "data": {
      "text/html": [
       "5"
      ],
      "text/latex": [
       "5"
      ],
      "text/markdown": [
       "5"
      ],
      "text/plain": [
       "[1] 5"
      ]
     },
     "metadata": {},
     "output_type": "display_data"
    }
   ],
   "source": [
    "ncol(data)"
   ]
  },
  {
   "cell_type": "code",
   "execution_count": 12,
   "id": "1ab84603-341d-4374-823f-d87990a39ba1",
   "metadata": {},
   "outputs": [
    {
     "data": {
      "text/html": [
       "8"
      ],
      "text/latex": [
       "8"
      ],
      "text/markdown": [
       "8"
      ],
      "text/plain": [
       "[1] 8"
      ]
     },
     "metadata": {},
     "output_type": "display_data"
    }
   ],
   "source": [
    "nrow(data)"
   ]
  },
  {
   "cell_type": "markdown",
   "id": "2a48c203-bd85-4132-8bc6-57a7517fd21e",
   "metadata": {},
   "source": [
    "### 2.2.3. `max()`"
   ]
  },
  {
   "cell_type": "code",
   "execution_count": 15,
   "id": "af62fbf1-168c-4561-b289-0d36361bf61d",
   "metadata": {},
   "outputs": [
    {
     "data": {
      "text/html": [
       "843.25"
      ],
      "text/latex": [
       "843.25"
      ],
      "text/markdown": [
       "843.25"
      ],
      "text/plain": [
       "[1] 843.25"
      ]
     },
     "metadata": {},
     "output_type": "display_data"
    }
   ],
   "source": [
    "max(data$salary)"
   ]
  },
  {
   "cell_type": "markdown",
   "id": "f53ab673-fabd-4b04-af37-58750e52c553",
   "metadata": {},
   "source": [
    "### 2.2.4. `mean()`"
   ]
  },
  {
   "cell_type": "code",
   "execution_count": 16,
   "id": "a977824a-7f58-4f51-8836-02e3f7245186",
   "metadata": {},
   "outputs": [
    {
     "data": {
      "text/html": [
       "656.88125"
      ],
      "text/latex": [
       "656.88125"
      ],
      "text/markdown": [
       "656.88125"
      ],
      "text/plain": [
       "[1] 656.8813"
      ]
     },
     "metadata": {},
     "output_type": "display_data"
    }
   ],
   "source": [
    "mean(data$salary)"
   ]
  },
  {
   "cell_type": "markdown",
   "id": "0e49f461-b769-41a6-94e8-446bc19911b5",
   "metadata": {},
   "source": [
    "### 2.2.5. `subset()`"
   ]
  },
  {
   "cell_type": "code",
   "execution_count": 17,
   "id": "725c8508-9163-4e9d-849f-4a8c07bd4df4",
   "metadata": {},
   "outputs": [
    {
     "data": {
      "text/html": [
       "<table class=\"dataframe\">\n",
       "<caption>A data.frame: 1 × 5</caption>\n",
       "<thead>\n",
       "\t<tr><th></th><th scope=col>id</th><th scope=col>name</th><th scope=col>salary</th><th scope=col>start_date</th><th scope=col>dept</th></tr>\n",
       "\t<tr><th></th><th scope=col>&lt;int&gt;</th><th scope=col>&lt;chr&gt;</th><th scope=col>&lt;dbl&gt;</th><th scope=col>&lt;chr&gt;</th><th scope=col>&lt;chr&gt;</th></tr>\n",
       "</thead>\n",
       "<tbody>\n",
       "\t<tr><th scope=row>5</th><td>NA</td><td>Gary</td><td>843.25</td><td>2015-03-27</td><td>Finance</td></tr>\n",
       "</tbody>\n",
       "</table>\n"
      ],
      "text/latex": [
       "A data.frame: 1 × 5\n",
       "\\begin{tabular}{r|lllll}\n",
       "  & id & name & salary & start\\_date & dept\\\\\n",
       "  & <int> & <chr> & <dbl> & <chr> & <chr>\\\\\n",
       "\\hline\n",
       "\t5 & NA & Gary & 843.25 & 2015-03-27 & Finance\\\\\n",
       "\\end{tabular}\n"
      ],
      "text/markdown": [
       "\n",
       "A data.frame: 1 × 5\n",
       "\n",
       "| <!--/--> | id &lt;int&gt; | name &lt;chr&gt; | salary &lt;dbl&gt; | start_date &lt;chr&gt; | dept &lt;chr&gt; |\n",
       "|---|---|---|---|---|---|\n",
       "| 5 | NA | Gary | 843.25 | 2015-03-27 | Finance |\n",
       "\n"
      ],
      "text/plain": [
       "  id name salary start_date dept   \n",
       "5 NA Gary 843.25 2015-03-27 Finance"
      ]
     },
     "metadata": {},
     "output_type": "display_data"
    }
   ],
   "source": [
    "subset(data, salary == max(data$salary))"
   ]
  },
  {
   "cell_type": "code",
   "execution_count": null,
   "id": "7d84dadc-ca65-48af-80f8-440c1b45b51e",
   "metadata": {},
   "outputs": [],
   "source": []
  },
  {
   "cell_type": "code",
   "execution_count": 18,
   "id": "4cb7e608-b24d-40c3-8bc1-bd4396fb0321",
   "metadata": {},
   "outputs": [
    {
     "data": {
      "text/html": [
       "<table class=\"dataframe\">\n",
       "<caption>A data.frame: 3 × 5</caption>\n",
       "<thead>\n",
       "\t<tr><th></th><th scope=col>id</th><th scope=col>name</th><th scope=col>salary</th><th scope=col>start_date</th><th scope=col>dept</th></tr>\n",
       "\t<tr><th></th><th scope=col>&lt;int&gt;</th><th scope=col>&lt;chr&gt;</th><th scope=col>&lt;dbl&gt;</th><th scope=col>&lt;chr&gt;</th><th scope=col>&lt;chr&gt;</th></tr>\n",
       "</thead>\n",
       "<tbody>\n",
       "\t<tr><th scope=row>1</th><td>1</td><td>Rick    </td><td>623.3</td><td>2012-01-01</td><td>IT</td></tr>\n",
       "\t<tr><th scope=row>3</th><td>3</td><td>Michelle</td><td>611.0</td><td>2014-11-15</td><td>IT</td></tr>\n",
       "\t<tr><th scope=row>6</th><td>6</td><td>Nina    </td><td>578.0</td><td>2013-05-21</td><td>IT</td></tr>\n",
       "</tbody>\n",
       "</table>\n"
      ],
      "text/latex": [
       "A data.frame: 3 × 5\n",
       "\\begin{tabular}{r|lllll}\n",
       "  & id & name & salary & start\\_date & dept\\\\\n",
       "  & <int> & <chr> & <dbl> & <chr> & <chr>\\\\\n",
       "\\hline\n",
       "\t1 & 1 & Rick     & 623.3 & 2012-01-01 & IT\\\\\n",
       "\t3 & 3 & Michelle & 611.0 & 2014-11-15 & IT\\\\\n",
       "\t6 & 6 & Nina     & 578.0 & 2013-05-21 & IT\\\\\n",
       "\\end{tabular}\n"
      ],
      "text/markdown": [
       "\n",
       "A data.frame: 3 × 5\n",
       "\n",
       "| <!--/--> | id &lt;int&gt; | name &lt;chr&gt; | salary &lt;dbl&gt; | start_date &lt;chr&gt; | dept &lt;chr&gt; |\n",
       "|---|---|---|---|---|---|\n",
       "| 1 | 1 | Rick     | 623.3 | 2012-01-01 | IT |\n",
       "| 3 | 3 | Michelle | 611.0 | 2014-11-15 | IT |\n",
       "| 6 | 6 | Nina     | 578.0 | 2013-05-21 | IT |\n",
       "\n"
      ],
      "text/plain": [
       "  id name     salary start_date dept\n",
       "1 1  Rick     623.3  2012-01-01 IT  \n",
       "3 3  Michelle 611.0  2014-11-15 IT  \n",
       "6 6  Nina     578.0  2013-05-21 IT  "
      ]
     },
     "metadata": {},
     "output_type": "display_data"
    }
   ],
   "source": [
    "retval = subset(data, dept=='IT')\n",
    "\n",
    "retval"
   ]
  },
  {
   "cell_type": "code",
   "execution_count": null,
   "id": "63e93f57-489b-401e-918d-cf8e59fcdb62",
   "metadata": {},
   "outputs": [],
   "source": []
  },
  {
   "cell_type": "code",
   "execution_count": 19,
   "id": "6e218b67-06ab-4cb4-8b4b-b1972c511b03",
   "metadata": {},
   "outputs": [
    {
     "data": {
      "text/html": [
       "<table class=\"dataframe\">\n",
       "<caption>A data.frame: 2 × 5</caption>\n",
       "<thead>\n",
       "\t<tr><th></th><th scope=col>id</th><th scope=col>name</th><th scope=col>salary</th><th scope=col>start_date</th><th scope=col>dept</th></tr>\n",
       "\t<tr><th></th><th scope=col>&lt;int&gt;</th><th scope=col>&lt;chr&gt;</th><th scope=col>&lt;dbl&gt;</th><th scope=col>&lt;chr&gt;</th><th scope=col>&lt;chr&gt;</th></tr>\n",
       "</thead>\n",
       "<tbody>\n",
       "\t<tr><th scope=row>1</th><td>1</td><td>Rick    </td><td>623.3</td><td>2012-01-01</td><td>IT</td></tr>\n",
       "\t<tr><th scope=row>3</th><td>3</td><td>Michelle</td><td>611.0</td><td>2014-11-15</td><td>IT</td></tr>\n",
       "</tbody>\n",
       "</table>\n"
      ],
      "text/latex": [
       "A data.frame: 2 × 5\n",
       "\\begin{tabular}{r|lllll}\n",
       "  & id & name & salary & start\\_date & dept\\\\\n",
       "  & <int> & <chr> & <dbl> & <chr> & <chr>\\\\\n",
       "\\hline\n",
       "\t1 & 1 & Rick     & 623.3 & 2012-01-01 & IT\\\\\n",
       "\t3 & 3 & Michelle & 611.0 & 2014-11-15 & IT\\\\\n",
       "\\end{tabular}\n"
      ],
      "text/markdown": [
       "\n",
       "A data.frame: 2 × 5\n",
       "\n",
       "| <!--/--> | id &lt;int&gt; | name &lt;chr&gt; | salary &lt;dbl&gt; | start_date &lt;chr&gt; | dept &lt;chr&gt; |\n",
       "|---|---|---|---|---|---|\n",
       "| 1 | 1 | Rick     | 623.3 | 2012-01-01 | IT |\n",
       "| 3 | 3 | Michelle | 611.0 | 2014-11-15 | IT |\n",
       "\n"
      ],
      "text/plain": [
       "  id name     salary start_date dept\n",
       "1 1  Rick     623.3  2012-01-01 IT  \n",
       "3 3  Michelle 611.0  2014-11-15 IT  "
      ]
     },
     "metadata": {},
     "output_type": "display_data"
    }
   ],
   "source": [
    "info = subset(data, salary > 600 & dept == 'IT')\n",
    "\n",
    "info"
   ]
  },
  {
   "cell_type": "code",
   "execution_count": null,
   "id": "2f81a899-dce6-4281-9a00-569fd8608072",
   "metadata": {},
   "outputs": [],
   "source": []
  },
  {
   "cell_type": "code",
   "execution_count": 21,
   "id": "ff3202ad-3a1a-4913-adb1-6d73c6fbcb54",
   "metadata": {},
   "outputs": [
    {
     "data": {
      "text/html": [
       "<table class=\"dataframe\">\n",
       "<caption>A data.frame: 4 × 5</caption>\n",
       "<thead>\n",
       "\t<tr><th></th><th scope=col>id</th><th scope=col>name</th><th scope=col>salary</th><th scope=col>start_date</th><th scope=col>dept</th></tr>\n",
       "\t<tr><th></th><th scope=col>&lt;int&gt;</th><th scope=col>&lt;chr&gt;</th><th scope=col>&lt;dbl&gt;</th><th scope=col>&lt;chr&gt;</th><th scope=col>&lt;chr&gt;</th></tr>\n",
       "</thead>\n",
       "<tbody>\n",
       "\t<tr><th scope=row>3</th><td> 3</td><td>Michelle</td><td>611.00</td><td>2014-11-15</td><td>IT     </td></tr>\n",
       "\t<tr><th scope=row>4</th><td> 4</td><td>Ryan    </td><td>729.00</td><td>2014-05-11</td><td>HR     </td></tr>\n",
       "\t<tr><th scope=row>5</th><td>NA</td><td>Gary    </td><td>843.25</td><td>2015-03-27</td><td>Finance</td></tr>\n",
       "\t<tr><th scope=row>8</th><td> 8</td><td>Guru    </td><td>722.50</td><td>2014-06-17</td><td>Finance</td></tr>\n",
       "</tbody>\n",
       "</table>\n"
      ],
      "text/latex": [
       "A data.frame: 4 × 5\n",
       "\\begin{tabular}{r|lllll}\n",
       "  & id & name & salary & start\\_date & dept\\\\\n",
       "  & <int> & <chr> & <dbl> & <chr> & <chr>\\\\\n",
       "\\hline\n",
       "\t3 &  3 & Michelle & 611.00 & 2014-11-15 & IT     \\\\\n",
       "\t4 &  4 & Ryan     & 729.00 & 2014-05-11 & HR     \\\\\n",
       "\t5 & NA & Gary     & 843.25 & 2015-03-27 & Finance\\\\\n",
       "\t8 &  8 & Guru     & 722.50 & 2014-06-17 & Finance\\\\\n",
       "\\end{tabular}\n"
      ],
      "text/markdown": [
       "\n",
       "A data.frame: 4 × 5\n",
       "\n",
       "| <!--/--> | id &lt;int&gt; | name &lt;chr&gt; | salary &lt;dbl&gt; | start_date &lt;chr&gt; | dept &lt;chr&gt; |\n",
       "|---|---|---|---|---|---|\n",
       "| 3 |  3 | Michelle | 611.00 | 2014-11-15 | IT      |\n",
       "| 4 |  4 | Ryan     | 729.00 | 2014-05-11 | HR      |\n",
       "| 5 | NA | Gary     | 843.25 | 2015-03-27 | Finance |\n",
       "| 8 |  8 | Guru     | 722.50 | 2014-06-17 | Finance |\n",
       "\n"
      ],
      "text/plain": [
       "  id name     salary start_date dept   \n",
       "3  3 Michelle 611.00 2014-11-15 IT     \n",
       "4  4 Ryan     729.00 2014-05-11 HR     \n",
       "5 NA Gary     843.25 2015-03-27 Finance\n",
       "8  8 Guru     722.50 2014-06-17 Finance"
      ]
     },
     "metadata": {},
     "output_type": "display_data"
    }
   ],
   "source": [
    "retval = subset(data, as.Date(start_date) > as.Date(\"2014-1-1\"))\n",
    "\n",
    "retval"
   ]
  },
  {
   "cell_type": "markdown",
   "id": "eba33077-c7c6-4145-96b5-681d7e55f62b",
   "metadata": {},
   "source": [
    "## 2.3. Ghi file `csv`"
   ]
  },
  {
   "cell_type": "code",
   "execution_count": 22,
   "id": "790d4a95-0ef9-4869-a397-30253627585c",
   "metadata": {},
   "outputs": [
    {
     "data": {
      "text/html": [
       "<table class=\"dataframe\">\n",
       "<caption>A data.frame: 8 × 5</caption>\n",
       "<thead>\n",
       "\t<tr><th scope=col>id</th><th scope=col>name</th><th scope=col>salary</th><th scope=col>start_date</th><th scope=col>dept</th></tr>\n",
       "\t<tr><th scope=col>&lt;int&gt;</th><th scope=col>&lt;chr&gt;</th><th scope=col>&lt;dbl&gt;</th><th scope=col>&lt;chr&gt;</th><th scope=col>&lt;chr&gt;</th></tr>\n",
       "</thead>\n",
       "<tbody>\n",
       "\t<tr><td> 1</td><td>Rick    </td><td>623.30</td><td>2012-01-01</td><td>IT        </td></tr>\n",
       "\t<tr><td> 2</td><td>Dan     </td><td>515.20</td><td>2013-09-23</td><td>Operations</td></tr>\n",
       "\t<tr><td> 3</td><td>Michelle</td><td>611.00</td><td>2014-11-15</td><td>IT        </td></tr>\n",
       "\t<tr><td> 4</td><td>Ryan    </td><td>729.00</td><td>2014-05-11</td><td>HR        </td></tr>\n",
       "\t<tr><td>NA</td><td>Gary    </td><td>843.25</td><td>2015-03-27</td><td>Finance   </td></tr>\n",
       "\t<tr><td> 6</td><td>Nina    </td><td>578.00</td><td>2013-05-21</td><td>IT        </td></tr>\n",
       "\t<tr><td> 7</td><td>Simon   </td><td>632.80</td><td>2013-07-30</td><td>Operations</td></tr>\n",
       "\t<tr><td> 8</td><td>Guru    </td><td>722.50</td><td>2014-06-17</td><td>Finance   </td></tr>\n",
       "</tbody>\n",
       "</table>\n"
      ],
      "text/latex": [
       "A data.frame: 8 × 5\n",
       "\\begin{tabular}{lllll}\n",
       " id & name & salary & start\\_date & dept\\\\\n",
       " <int> & <chr> & <dbl> & <chr> & <chr>\\\\\n",
       "\\hline\n",
       "\t  1 & Rick     & 623.30 & 2012-01-01 & IT        \\\\\n",
       "\t  2 & Dan      & 515.20 & 2013-09-23 & Operations\\\\\n",
       "\t  3 & Michelle & 611.00 & 2014-11-15 & IT        \\\\\n",
       "\t  4 & Ryan     & 729.00 & 2014-05-11 & HR        \\\\\n",
       "\t NA & Gary     & 843.25 & 2015-03-27 & Finance   \\\\\n",
       "\t  6 & Nina     & 578.00 & 2013-05-21 & IT        \\\\\n",
       "\t  7 & Simon    & 632.80 & 2013-07-30 & Operations\\\\\n",
       "\t  8 & Guru     & 722.50 & 2014-06-17 & Finance   \\\\\n",
       "\\end{tabular}\n"
      ],
      "text/markdown": [
       "\n",
       "A data.frame: 8 × 5\n",
       "\n",
       "| id &lt;int&gt; | name &lt;chr&gt; | salary &lt;dbl&gt; | start_date &lt;chr&gt; | dept &lt;chr&gt; |\n",
       "|---|---|---|---|---|\n",
       "|  1 | Rick     | 623.30 | 2012-01-01 | IT         |\n",
       "|  2 | Dan      | 515.20 | 2013-09-23 | Operations |\n",
       "|  3 | Michelle | 611.00 | 2014-11-15 | IT         |\n",
       "|  4 | Ryan     | 729.00 | 2014-05-11 | HR         |\n",
       "| NA | Gary     | 843.25 | 2015-03-27 | Finance    |\n",
       "|  6 | Nina     | 578.00 | 2013-05-21 | IT         |\n",
       "|  7 | Simon    | 632.80 | 2013-07-30 | Operations |\n",
       "|  8 | Guru     | 722.50 | 2014-06-17 | Finance    |\n",
       "\n"
      ],
      "text/plain": [
       "  id name     salary start_date dept      \n",
       "1  1 Rick     623.30 2012-01-01 IT        \n",
       "2  2 Dan      515.20 2013-09-23 Operations\n",
       "3  3 Michelle 611.00 2014-11-15 IT        \n",
       "4  4 Ryan     729.00 2014-05-11 HR        \n",
       "5 NA Gary     843.25 2015-03-27 Finance   \n",
       "6  6 Nina     578.00 2013-05-21 IT        \n",
       "7  7 Simon    632.80 2013-07-30 Operations\n",
       "8  8 Guru     722.50 2014-06-17 Finance   "
      ]
     },
     "metadata": {},
     "output_type": "display_data"
    }
   ],
   "source": [
    "data = read.csv(\"./data/emp.csv\")\n",
    "\n",
    "data"
   ]
  },
  {
   "cell_type": "code",
   "execution_count": 23,
   "id": "fc12f012-8286-4b30-bd0c-83d071951151",
   "metadata": {},
   "outputs": [],
   "source": [
    "it_emps = subset(data, dept == 'IT')\n",
    "write.csv(it_emps, \"./data/_it_emps.csv\")"
   ]
  },
  {
   "cell_type": "code",
   "execution_count": 24,
   "id": "19be5f3d-4058-4f74-b07a-423c2c9972fa",
   "metadata": {},
   "outputs": [
    {
     "data": {
      "text/html": [
       "<table class=\"dataframe\">\n",
       "<caption>A data.frame: 3 × 6</caption>\n",
       "<thead>\n",
       "\t<tr><th scope=col>X</th><th scope=col>id</th><th scope=col>name</th><th scope=col>salary</th><th scope=col>start_date</th><th scope=col>dept</th></tr>\n",
       "\t<tr><th scope=col>&lt;int&gt;</th><th scope=col>&lt;int&gt;</th><th scope=col>&lt;chr&gt;</th><th scope=col>&lt;dbl&gt;</th><th scope=col>&lt;chr&gt;</th><th scope=col>&lt;chr&gt;</th></tr>\n",
       "</thead>\n",
       "<tbody>\n",
       "\t<tr><td>1</td><td>1</td><td>Rick    </td><td>623.3</td><td>2012-01-01</td><td>IT</td></tr>\n",
       "\t<tr><td>3</td><td>3</td><td>Michelle</td><td>611.0</td><td>2014-11-15</td><td>IT</td></tr>\n",
       "\t<tr><td>6</td><td>6</td><td>Nina    </td><td>578.0</td><td>2013-05-21</td><td>IT</td></tr>\n",
       "</tbody>\n",
       "</table>\n"
      ],
      "text/latex": [
       "A data.frame: 3 × 6\n",
       "\\begin{tabular}{llllll}\n",
       " X & id & name & salary & start\\_date & dept\\\\\n",
       " <int> & <int> & <chr> & <dbl> & <chr> & <chr>\\\\\n",
       "\\hline\n",
       "\t 1 & 1 & Rick     & 623.3 & 2012-01-01 & IT\\\\\n",
       "\t 3 & 3 & Michelle & 611.0 & 2014-11-15 & IT\\\\\n",
       "\t 6 & 6 & Nina     & 578.0 & 2013-05-21 & IT\\\\\n",
       "\\end{tabular}\n"
      ],
      "text/markdown": [
       "\n",
       "A data.frame: 3 × 6\n",
       "\n",
       "| X &lt;int&gt; | id &lt;int&gt; | name &lt;chr&gt; | salary &lt;dbl&gt; | start_date &lt;chr&gt; | dept &lt;chr&gt; |\n",
       "|---|---|---|---|---|---|\n",
       "| 1 | 1 | Rick     | 623.3 | 2012-01-01 | IT |\n",
       "| 3 | 3 | Michelle | 611.0 | 2014-11-15 | IT |\n",
       "| 6 | 6 | Nina     | 578.0 | 2013-05-21 | IT |\n",
       "\n"
      ],
      "text/plain": [
       "  X id name     salary start_date dept\n",
       "1 1 1  Rick     623.3  2012-01-01 IT  \n",
       "2 3 3  Michelle 611.0  2014-11-15 IT  \n",
       "3 6 6  Nina     578.0  2013-05-21 IT  "
      ]
     },
     "metadata": {},
     "output_type": "display_data"
    }
   ],
   "source": [
    "new_data = read.csv(\"./data/_it_emps.csv\")\n",
    "\n",
    "new_data"
   ]
  },
  {
   "cell_type": "markdown",
   "id": "346d690b-533f-48a1-9c32-9a0f4451aff0",
   "metadata": {},
   "source": [
    "### 2.3.1. Ghi ra file mà ko kèm theo cột index `X`"
   ]
  },
  {
   "cell_type": "code",
   "execution_count": 25,
   "id": "318b6a1a-b30a-4883-9249-48354e15bce5",
   "metadata": {},
   "outputs": [],
   "source": [
    "write.csv(it_emps, \"./data/_it_emps0.csv\", row.names=FALSE)"
   ]
  },
  {
   "cell_type": "code",
   "execution_count": 26,
   "id": "9c9a8e99-a128-4e50-9b8f-d83011a32bc8",
   "metadata": {},
   "outputs": [
    {
     "data": {
      "text/html": [
       "<table class=\"dataframe\">\n",
       "<caption>A data.frame: 3 × 5</caption>\n",
       "<thead>\n",
       "\t<tr><th scope=col>id</th><th scope=col>name</th><th scope=col>salary</th><th scope=col>start_date</th><th scope=col>dept</th></tr>\n",
       "\t<tr><th scope=col>&lt;int&gt;</th><th scope=col>&lt;chr&gt;</th><th scope=col>&lt;dbl&gt;</th><th scope=col>&lt;chr&gt;</th><th scope=col>&lt;chr&gt;</th></tr>\n",
       "</thead>\n",
       "<tbody>\n",
       "\t<tr><td>1</td><td>Rick    </td><td>623.3</td><td>2012-01-01</td><td>IT</td></tr>\n",
       "\t<tr><td>3</td><td>Michelle</td><td>611.0</td><td>2014-11-15</td><td>IT</td></tr>\n",
       "\t<tr><td>6</td><td>Nina    </td><td>578.0</td><td>2013-05-21</td><td>IT</td></tr>\n",
       "</tbody>\n",
       "</table>\n"
      ],
      "text/latex": [
       "A data.frame: 3 × 5\n",
       "\\begin{tabular}{lllll}\n",
       " id & name & salary & start\\_date & dept\\\\\n",
       " <int> & <chr> & <dbl> & <chr> & <chr>\\\\\n",
       "\\hline\n",
       "\t 1 & Rick     & 623.3 & 2012-01-01 & IT\\\\\n",
       "\t 3 & Michelle & 611.0 & 2014-11-15 & IT\\\\\n",
       "\t 6 & Nina     & 578.0 & 2013-05-21 & IT\\\\\n",
       "\\end{tabular}\n"
      ],
      "text/markdown": [
       "\n",
       "A data.frame: 3 × 5\n",
       "\n",
       "| id &lt;int&gt; | name &lt;chr&gt; | salary &lt;dbl&gt; | start_date &lt;chr&gt; | dept &lt;chr&gt; |\n",
       "|---|---|---|---|---|\n",
       "| 1 | Rick     | 623.3 | 2012-01-01 | IT |\n",
       "| 3 | Michelle | 611.0 | 2014-11-15 | IT |\n",
       "| 6 | Nina     | 578.0 | 2013-05-21 | IT |\n",
       "\n"
      ],
      "text/plain": [
       "  id name     salary start_date dept\n",
       "1 1  Rick     623.3  2012-01-01 IT  \n",
       "2 3  Michelle 611.0  2014-11-15 IT  \n",
       "3 6  Nina     578.0  2013-05-21 IT  "
      ]
     },
     "metadata": {},
     "output_type": "display_data"
    }
   ],
   "source": [
    "new_data = read.csv(\"./data/_it_emps0.csv\")\n",
    "\n",
    "new_data"
   ]
  },
  {
   "cell_type": "markdown",
   "id": "df2d7e90-68f6-427a-bfb8-2c18aa1570db",
   "metadata": {},
   "source": [
    "# 3. Excel\n",
    "* Nếu đã cài đặt `java` từ trc thì cần chạy thêm dòng này ở terminal\n",
    "```\n",
    "sudo R CMD javareconf\n",
    "```\n",
    "* Để làm việc với tập tin `xls`, `.xlsx` thì cần install thư viện `xlsx` vào."
   ]
  },
  {
   "cell_type": "code",
   "execution_count": 1,
   "id": "b16d03b9-66da-4096-b3cf-8a22c89e8989",
   "metadata": {},
   "outputs": [
    {
     "name": "stderr",
     "output_type": "stream",
     "text": [
      "Installing package into ‘/home/manhcuong/R/x86_64-pc-linux-gnu-library/4.1’\n",
      "(as ‘lib’ is unspecified)\n",
      "\n",
      "Installing package into ‘/home/manhcuong/R/x86_64-pc-linux-gnu-library/4.1’\n",
      "(as ‘lib’ is unspecified)\n",
      "\n",
      "Installing package into ‘/home/manhcuong/R/x86_64-pc-linux-gnu-library/4.1’\n",
      "(as ‘lib’ is unspecified)\n",
      "\n"
     ]
    }
   ],
   "source": [
    "install.packages(\"rJava\")\n",
    "install.packages(\"xlsxjars\")\n",
    "install.packages(\"xlsx\")"
   ]
  },
  {
   "cell_type": "markdown",
   "id": "6fe6adb0-f224-47f3-a193-673d992bbf12",
   "metadata": {},
   "source": [
    "* Load package `xlsx` vào để làm việc"
   ]
  },
  {
   "cell_type": "code",
   "execution_count": 2,
   "id": "1046f6ab-f9eb-4ece-a5c0-013e4d37abf7",
   "metadata": {},
   "outputs": [],
   "source": [
    "library(\"xlsx\")"
   ]
  },
  {
   "cell_type": "markdown",
   "id": "039c5e38-49b1-4060-bf5e-60ac78c3bdbd",
   "metadata": {},
   "source": [
    "## 3.1. Đọc file excel bằng `read.xlsx(<file path>, sheetIndex=<thứ tự sheet>)`"
   ]
  },
  {
   "cell_type": "code",
   "execution_count": 3,
   "id": "335a64ba-edf3-43b1-b8da-56ae9d555559",
   "metadata": {},
   "outputs": [
    {
     "data": {
      "text/html": [
       "<table class=\"dataframe\">\n",
       "<caption>A data.frame: 8 × 5</caption>\n",
       "<thead>\n",
       "\t<tr><th scope=col>id</th><th scope=col>name</th><th scope=col>salary</th><th scope=col>start_date</th><th scope=col>dept</th></tr>\n",
       "\t<tr><th scope=col>&lt;chr&gt;</th><th scope=col>&lt;chr&gt;</th><th scope=col>&lt;dbl&gt;</th><th scope=col>&lt;date&gt;</th><th scope=col>&lt;chr&gt;</th></tr>\n",
       "</thead>\n",
       "<tbody>\n",
       "\t<tr><td>1</td><td>Rick    </td><td>623.30</td><td>2012-01-01</td><td>IT        </td></tr>\n",
       "\t<tr><td>2</td><td>Dan     </td><td>515.20</td><td>2013-09-23</td><td>Operations</td></tr>\n",
       "\t<tr><td>3</td><td>Michelle</td><td>611.00</td><td>2014-11-15</td><td>IT        </td></tr>\n",
       "\t<tr><td>4</td><td>Ryan    </td><td>729.00</td><td>2014-05-11</td><td>HR        </td></tr>\n",
       "\t<tr><td> </td><td>Gary    </td><td>843.25</td><td>2015-03-27</td><td>Finance   </td></tr>\n",
       "\t<tr><td>6</td><td>Nina    </td><td>578.00</td><td>2013-05-21</td><td>IT        </td></tr>\n",
       "\t<tr><td>7</td><td>Simon   </td><td>632.80</td><td>2013-07-30</td><td>Operations</td></tr>\n",
       "\t<tr><td>8</td><td>Guru    </td><td>722.50</td><td>2014-06-17</td><td>Finance   </td></tr>\n",
       "</tbody>\n",
       "</table>\n"
      ],
      "text/latex": [
       "A data.frame: 8 × 5\n",
       "\\begin{tabular}{lllll}\n",
       " id & name & salary & start\\_date & dept\\\\\n",
       " <chr> & <chr> & <dbl> & <date> & <chr>\\\\\n",
       "\\hline\n",
       "\t 1 & Rick     & 623.30 & 2012-01-01 & IT        \\\\\n",
       "\t 2 & Dan      & 515.20 & 2013-09-23 & Operations\\\\\n",
       "\t 3 & Michelle & 611.00 & 2014-11-15 & IT        \\\\\n",
       "\t 4 & Ryan     & 729.00 & 2014-05-11 & HR        \\\\\n",
       "\t   & Gary     & 843.25 & 2015-03-27 & Finance   \\\\\n",
       "\t 6 & Nina     & 578.00 & 2013-05-21 & IT        \\\\\n",
       "\t 7 & Simon    & 632.80 & 2013-07-30 & Operations\\\\\n",
       "\t 8 & Guru     & 722.50 & 2014-06-17 & Finance   \\\\\n",
       "\\end{tabular}\n"
      ],
      "text/markdown": [
       "\n",
       "A data.frame: 8 × 5\n",
       "\n",
       "| id &lt;chr&gt; | name &lt;chr&gt; | salary &lt;dbl&gt; | start_date &lt;date&gt; | dept &lt;chr&gt; |\n",
       "|---|---|---|---|---|\n",
       "| 1 | Rick     | 623.30 | 2012-01-01 | IT         |\n",
       "| 2 | Dan      | 515.20 | 2013-09-23 | Operations |\n",
       "| 3 | Michelle | 611.00 | 2014-11-15 | IT         |\n",
       "| 4 | Ryan     | 729.00 | 2014-05-11 | HR         |\n",
       "| <!----> | Gary     | 843.25 | 2015-03-27 | Finance    |\n",
       "| 6 | Nina     | 578.00 | 2013-05-21 | IT         |\n",
       "| 7 | Simon    | 632.80 | 2013-07-30 | Operations |\n",
       "| 8 | Guru     | 722.50 | 2014-06-17 | Finance    |\n",
       "\n"
      ],
      "text/plain": [
       "  id name     salary start_date dept      \n",
       "1 1  Rick     623.30 2012-01-01 IT        \n",
       "2 2  Dan      515.20 2013-09-23 Operations\n",
       "3 3  Michelle 611.00 2014-11-15 IT        \n",
       "4 4  Ryan     729.00 2014-05-11 HR        \n",
       "5    Gary     843.25 2015-03-27 Finance   \n",
       "6 6  Nina     578.00 2013-05-21 IT        \n",
       "7 7  Simon    632.80 2013-07-30 Operations\n",
       "8 8  Guru     722.50 2014-06-17 Finance   "
      ]
     },
     "metadata": {},
     "output_type": "display_data"
    }
   ],
   "source": [
    "data = read.xlsx(\"./data/emp_data.xlsx\", sheetIndex = 1)\n",
    "\n",
    "data"
   ]
  },
  {
   "cell_type": "markdown",
   "id": "7cbdeef7-95b9-4587-9bb7-05b5f10b2d30",
   "metadata": {},
   "source": [
    "## 3.2. Dựa vào `sheetName`"
   ]
  },
  {
   "cell_type": "code",
   "execution_count": 7,
   "id": "8f76dba2-c3ad-4a7d-9e80-c62b82d6aab0",
   "metadata": {},
   "outputs": [
    {
     "data": {
      "text/html": [
       "<table class=\"dataframe\">\n",
       "<caption>A data.frame: 8 × 2</caption>\n",
       "<thead>\n",
       "\t<tr><th scope=col>name</th><th scope=col>city</th></tr>\n",
       "\t<tr><th scope=col>&lt;chr&gt;</th><th scope=col>&lt;chr&gt;</th></tr>\n",
       "</thead>\n",
       "<tbody>\n",
       "\t<tr><td>Rick    </td><td>Seattle</td></tr>\n",
       "\t<tr><td>Dan     </td><td>Tampa  </td></tr>\n",
       "\t<tr><td>Michelle</td><td>Chicago</td></tr>\n",
       "\t<tr><td>Ryan    </td><td>Seattle</td></tr>\n",
       "\t<tr><td>Gary    </td><td>Houston</td></tr>\n",
       "\t<tr><td>Nina    </td><td>Boston </td></tr>\n",
       "\t<tr><td>Simon   </td><td>Mumbai </td></tr>\n",
       "\t<tr><td>Guru    </td><td>Dallas </td></tr>\n",
       "</tbody>\n",
       "</table>\n"
      ],
      "text/latex": [
       "A data.frame: 8 × 2\n",
       "\\begin{tabular}{ll}\n",
       " name & city\\\\\n",
       " <chr> & <chr>\\\\\n",
       "\\hline\n",
       "\t Rick     & Seattle\\\\\n",
       "\t Dan      & Tampa  \\\\\n",
       "\t Michelle & Chicago\\\\\n",
       "\t Ryan     & Seattle\\\\\n",
       "\t Gary     & Houston\\\\\n",
       "\t Nina     & Boston \\\\\n",
       "\t Simon    & Mumbai \\\\\n",
       "\t Guru     & Dallas \\\\\n",
       "\\end{tabular}\n"
      ],
      "text/markdown": [
       "\n",
       "A data.frame: 8 × 2\n",
       "\n",
       "| name &lt;chr&gt; | city &lt;chr&gt; |\n",
       "|---|---|\n",
       "| Rick     | Seattle |\n",
       "| Dan      | Tampa   |\n",
       "| Michelle | Chicago |\n",
       "| Ryan     | Seattle |\n",
       "| Gary     | Houston |\n",
       "| Nina     | Boston  |\n",
       "| Simon    | Mumbai  |\n",
       "| Guru     | Dallas  |\n",
       "\n"
      ],
      "text/plain": [
       "  name     city   \n",
       "1 Rick     Seattle\n",
       "2 Dan      Tampa  \n",
       "3 Michelle Chicago\n",
       "4 Ryan     Seattle\n",
       "5 Gary     Houston\n",
       "6 Nina     Boston \n",
       "7 Simon    Mumbai \n",
       "8 Guru     Dallas "
      ]
     },
     "metadata": {},
     "output_type": "display_data"
    }
   ],
   "source": [
    "data = read.xlsx(\"./data/emp_data.xlsx\", sheetName = \"city\")\n",
    "\n",
    "data"
   ]
  },
  {
   "cell_type": "markdown",
   "id": "417d6c79-a3ee-41d6-b366-a2752b1f6e09",
   "metadata": {},
   "source": [
    "## 3.3. Ghi ra file `excel`"
   ]
  },
  {
   "cell_type": "code",
   "execution_count": 8,
   "id": "a8fe2c0e-7e7a-4185-b58d-a039d4607ebe",
   "metadata": {},
   "outputs": [
    {
     "data": {
      "text/html": [
       "<table class=\"dataframe\">\n",
       "<caption>A data.frame: 4 × 5</caption>\n",
       "<thead>\n",
       "\t<tr><th></th><th scope=col>id</th><th scope=col>name</th><th scope=col>salary</th><th scope=col>start_date</th><th scope=col>dept</th></tr>\n",
       "\t<tr><th></th><th scope=col>&lt;int&gt;</th><th scope=col>&lt;chr&gt;</th><th scope=col>&lt;dbl&gt;</th><th scope=col>&lt;chr&gt;</th><th scope=col>&lt;chr&gt;</th></tr>\n",
       "</thead>\n",
       "<tbody>\n",
       "\t<tr><th scope=row>3</th><td> 3</td><td>Michelle</td><td>611.00</td><td>2014-11-15</td><td>IT     </td></tr>\n",
       "\t<tr><th scope=row>4</th><td> 4</td><td>Ryan    </td><td>729.00</td><td>2014-05-11</td><td>HR     </td></tr>\n",
       "\t<tr><th scope=row>5</th><td>NA</td><td>Gary    </td><td>843.25</td><td>2015-03-27</td><td>Finance</td></tr>\n",
       "\t<tr><th scope=row>8</th><td> 8</td><td>Guru    </td><td>722.50</td><td>2014-06-17</td><td>Finance</td></tr>\n",
       "</tbody>\n",
       "</table>\n"
      ],
      "text/latex": [
       "A data.frame: 4 × 5\n",
       "\\begin{tabular}{r|lllll}\n",
       "  & id & name & salary & start\\_date & dept\\\\\n",
       "  & <int> & <chr> & <dbl> & <chr> & <chr>\\\\\n",
       "\\hline\n",
       "\t3 &  3 & Michelle & 611.00 & 2014-11-15 & IT     \\\\\n",
       "\t4 &  4 & Ryan     & 729.00 & 2014-05-11 & HR     \\\\\n",
       "\t5 & NA & Gary     & 843.25 & 2015-03-27 & Finance\\\\\n",
       "\t8 &  8 & Guru     & 722.50 & 2014-06-17 & Finance\\\\\n",
       "\\end{tabular}\n"
      ],
      "text/markdown": [
       "\n",
       "A data.frame: 4 × 5\n",
       "\n",
       "| <!--/--> | id &lt;int&gt; | name &lt;chr&gt; | salary &lt;dbl&gt; | start_date &lt;chr&gt; | dept &lt;chr&gt; |\n",
       "|---|---|---|---|---|---|\n",
       "| 3 |  3 | Michelle | 611.00 | 2014-11-15 | IT      |\n",
       "| 4 |  4 | Ryan     | 729.00 | 2014-05-11 | HR      |\n",
       "| 5 | NA | Gary     | 843.25 | 2015-03-27 | Finance |\n",
       "| 8 |  8 | Guru     | 722.50 | 2014-06-17 | Finance |\n",
       "\n"
      ],
      "text/plain": [
       "  id name     salary start_date dept   \n",
       "3  3 Michelle 611.00 2014-11-15 IT     \n",
       "4  4 Ryan     729.00 2014-05-11 HR     \n",
       "5 NA Gary     843.25 2015-03-27 Finance\n",
       "8  8 Guru     722.50 2014-06-17 Finance"
      ]
     },
     "metadata": {},
     "output_type": "display_data"
    }
   ],
   "source": [
    "data = read.csv(\"./data/emp.csv\")\n",
    "retval = subset(data, as.Date(start_date) > as.Date(\"2014-1-1\"))\n",
    "\n",
    "retval"
   ]
  },
  {
   "cell_type": "code",
   "execution_count": 9,
   "id": "a99589c4-79e8-45f2-874d-7e73f0d7998a",
   "metadata": {},
   "outputs": [],
   "source": [
    "write.xlsx(retval, file=\"./data/_emp_data.xlsx\", sheetName = \"Sheet1\", append=FALSE)"
   ]
  },
  {
   "cell_type": "code",
   "execution_count": 10,
   "id": "0c0f3758-cb6c-476a-bb43-9742fd77558c",
   "metadata": {},
   "outputs": [
    {
     "data": {
      "text/html": [
       "<table class=\"dataframe\">\n",
       "<caption>A data.frame: 4 × 6</caption>\n",
       "<thead>\n",
       "\t<tr><th scope=col>NA.</th><th scope=col>id</th><th scope=col>name</th><th scope=col>salary</th><th scope=col>start_date</th><th scope=col>dept</th></tr>\n",
       "\t<tr><th scope=col>&lt;chr&gt;</th><th scope=col>&lt;dbl&gt;</th><th scope=col>&lt;chr&gt;</th><th scope=col>&lt;dbl&gt;</th><th scope=col>&lt;chr&gt;</th><th scope=col>&lt;chr&gt;</th></tr>\n",
       "</thead>\n",
       "<tbody>\n",
       "\t<tr><td>3</td><td> 3</td><td>Michelle</td><td>611.00</td><td>2014-11-15</td><td>IT     </td></tr>\n",
       "\t<tr><td>4</td><td> 4</td><td>Ryan    </td><td>729.00</td><td>2014-05-11</td><td>HR     </td></tr>\n",
       "\t<tr><td>5</td><td>NA</td><td>Gary    </td><td>843.25</td><td>2015-03-27</td><td>Finance</td></tr>\n",
       "\t<tr><td>8</td><td> 8</td><td>Guru    </td><td>722.50</td><td>2014-06-17</td><td>Finance</td></tr>\n",
       "</tbody>\n",
       "</table>\n"
      ],
      "text/latex": [
       "A data.frame: 4 × 6\n",
       "\\begin{tabular}{llllll}\n",
       " NA. & id & name & salary & start\\_date & dept\\\\\n",
       " <chr> & <dbl> & <chr> & <dbl> & <chr> & <chr>\\\\\n",
       "\\hline\n",
       "\t 3 &  3 & Michelle & 611.00 & 2014-11-15 & IT     \\\\\n",
       "\t 4 &  4 & Ryan     & 729.00 & 2014-05-11 & HR     \\\\\n",
       "\t 5 & NA & Gary     & 843.25 & 2015-03-27 & Finance\\\\\n",
       "\t 8 &  8 & Guru     & 722.50 & 2014-06-17 & Finance\\\\\n",
       "\\end{tabular}\n"
      ],
      "text/markdown": [
       "\n",
       "A data.frame: 4 × 6\n",
       "\n",
       "| NA. &lt;chr&gt; | id &lt;dbl&gt; | name &lt;chr&gt; | salary &lt;dbl&gt; | start_date &lt;chr&gt; | dept &lt;chr&gt; |\n",
       "|---|---|---|---|---|---|\n",
       "| 3 |  3 | Michelle | 611.00 | 2014-11-15 | IT      |\n",
       "| 4 |  4 | Ryan     | 729.00 | 2014-05-11 | HR      |\n",
       "| 5 | NA | Gary     | 843.25 | 2015-03-27 | Finance |\n",
       "| 8 |  8 | Guru     | 722.50 | 2014-06-17 | Finance |\n",
       "\n"
      ],
      "text/plain": [
       "  NA. id name     salary start_date dept   \n",
       "1 3    3 Michelle 611.00 2014-11-15 IT     \n",
       "2 4    4 Ryan     729.00 2014-05-11 HR     \n",
       "3 5   NA Gary     843.25 2015-03-27 Finance\n",
       "4 8    8 Guru     722.50 2014-06-17 Finance"
      ]
     },
     "metadata": {},
     "output_type": "display_data"
    }
   ],
   "source": [
    "new_data = read.xlsx(\"./data/_emp_data.xlsx\", sheetName = \"Sheet1\")\n",
    "\n",
    "new_data"
   ]
  },
  {
   "cell_type": "code",
   "execution_count": null,
   "id": "f4b7b084-030a-4797-a118-4610949467e2",
   "metadata": {},
   "outputs": [],
   "source": []
  }
 ],
 "metadata": {
  "kernelspec": {
   "display_name": "R",
   "language": "R",
   "name": "ir"
  },
  "language_info": {
   "codemirror_mode": "r",
   "file_extension": ".r",
   "mimetype": "text/x-r-source",
   "name": "R",
   "pygments_lexer": "r",
   "version": "4.1.0"
  }
 },
 "nbformat": 4,
 "nbformat_minor": 5
}
