{
 "cells": [
  {
   "cell_type": "markdown",
   "id": "9199f9d5-3a2a-44e7-82bf-9b502e657519",
   "metadata": {},
   "source": [
    "![](images/04_01.png)"
   ]
  },
  {
   "cell_type": "code",
   "execution_count": 2,
   "id": "6c2c0f17-4ae7-421e-9b0b-499e7044afed",
   "metadata": {},
   "outputs": [
    {
     "name": "stdin",
     "output_type": "stream",
     "text": [
      "Please input n: 7\n"
     ]
    },
    {
     "name": "stdout",
     "output_type": "stream",
     "text": [
      "[1] 6 8 1 3 4 5 7\n"
     ]
    }
   ],
   "source": [
    "n = as.integer(readline(prompt=\"Please input n:\"))\n",
    "\n",
    "vector_random = round(runif(n, 1, 10), 0)\n",
    "print(vector_random)"
   ]
  },
  {
   "cell_type": "code",
   "execution_count": 3,
   "id": "4dbd0e80-f853-4f2d-9a62-4330ed2e7899",
   "metadata": {},
   "outputs": [
    {
     "name": "stdout",
     "output_type": "stream",
     "text": [
      "[1] 36 64  1  9 16 25 49\n"
     ]
    }
   ],
   "source": [
    "square = c()\n",
    "\n",
    "for (v in vector_random) {\n",
    "    square = c(square, v^2)\n",
    "}\n",
    "\n",
    "print(square)"
   ]
  },
  {
   "cell_type": "code",
   "execution_count": null,
   "id": "c39ecf6a-a982-449d-aad5-4f78db26a6d7",
   "metadata": {},
   "outputs": [],
   "source": []
  }
 ],
 "metadata": {
  "kernelspec": {
   "display_name": "R",
   "language": "R",
   "name": "ir"
  },
  "language_info": {
   "codemirror_mode": "r",
   "file_extension": ".r",
   "mimetype": "text/x-r-source",
   "name": "R",
   "pygments_lexer": "r",
   "version": "4.1.0"
  }
 },
 "nbformat": 4,
 "nbformat_minor": 5
}
