{
 "cells": [
  {
   "cell_type": "markdown",
   "id": "50daf988-fd17-46b8-805a-89baef4ad730",
   "metadata": {},
   "source": [
    "![](images/04_00.png)"
   ]
  },
  {
   "cell_type": "code",
   "execution_count": 1,
   "id": "25023a3c-b2cf-4f49-9fa1-2666654fd3ce",
   "metadata": {},
   "outputs": [
    {
     "name": "stdin",
     "output_type": "stream",
     "text": [
      "1: Continue or 2: Stop: 1\n"
     ]
    },
    {
     "name": "stderr",
     "output_type": "stream",
     "text": [
      "1\n",
      "\n"
     ]
    },
    {
     "name": "stdin",
     "output_type": "stream",
     "text": [
      "1: Continue or 2: Stop: 2\n"
     ]
    },
    {
     "name": "stderr",
     "output_type": "stream",
     "text": [
      "2\n",
      "\n"
     ]
    }
   ],
   "source": [
    "continue = 1\n",
    "\n",
    "repeat {\n",
    "    continue = as.integer(readline(prompt=\"1: Continue or 2: Stop:\"))\n",
    "    message(continue)\n",
    "\n",
    "    if (continue != 1) {\n",
    "        break\n",
    "    }\n",
    "}"
   ]
  },
  {
   "cell_type": "code",
   "execution_count": null,
   "id": "8ae86118-79ac-46e2-9079-5ea389f7fd38",
   "metadata": {},
   "outputs": [],
   "source": []
  }
 ],
 "metadata": {
  "kernelspec": {
   "display_name": "R",
   "language": "R",
   "name": "ir"
  },
  "language_info": {
   "codemirror_mode": "r",
   "file_extension": ".r",
   "mimetype": "text/x-r-source",
   "name": "R",
   "pygments_lexer": "r",
   "version": "4.1.0"
  }
 },
 "nbformat": 4,
 "nbformat_minor": 5
}
