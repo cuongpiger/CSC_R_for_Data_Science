{
 "cells": [
  {
   "cell_type": "markdown",
   "id": "dccd3895-b19e-41fb-a6bd-e5ca103d6008",
   "metadata": {},
   "source": [
    "![](images/04_04.png)"
   ]
  },
  {
   "cell_type": "code",
   "execution_count": 28,
   "id": "d4559283-3fde-4081-b2bc-548fdba25f7d",
   "metadata": {},
   "outputs": [],
   "source": [
    "play = function() {\n",
    "    rd_number = sample(1:10, 1)\n",
    "\n",
    "    for (i in 1:3) {\n",
    "        flush.console()\n",
    "        your_number = as.integer(readline(prompt=\"Nhập vào một số:\"))\n",
    "        \n",
    "        if (your_number > rd_number) {\n",
    "            writeLines(\"Your number > Our number\")\n",
    "        } else if (your_number < rd_number) {\n",
    "            writeLines(\"Your number < Our number\")\n",
    "        } else {\n",
    "            writeLines(\"Your number = Our number => You win!!!\")\n",
    "            return ()\n",
    "        }\n",
    "    }\n",
    "    \n",
    "    writeLines(\"You lose!!!\")\n",
    "}"
   ]
  },
  {
   "cell_type": "code",
   "execution_count": 29,
   "id": "4c5e7240-bbf9-4242-a4ae-3cb1b74e92d7",
   "metadata": {},
   "outputs": [
    {
     "name": "stdin",
     "output_type": "stream",
     "text": [
      "Nhập vào một số: 1\n"
     ]
    },
    {
     "name": "stdout",
     "output_type": "stream",
     "text": [
      "Your number < Our number\n"
     ]
    },
    {
     "name": "stdin",
     "output_type": "stream",
     "text": [
      "Nhập vào một số: 1\n"
     ]
    },
    {
     "name": "stdout",
     "output_type": "stream",
     "text": [
      "Your number < Our number\n"
     ]
    },
    {
     "name": "stdin",
     "output_type": "stream",
     "text": [
      "Nhập vào một số: 1\n"
     ]
    },
    {
     "name": "stdout",
     "output_type": "stream",
     "text": [
      "Your number < Our number\n",
      "You lose!!!\n"
     ]
    }
   ],
   "source": [
    "play()"
   ]
  },
  {
   "cell_type": "code",
   "execution_count": null,
   "id": "5e8fe61a-642e-4e86-b293-fb1709140ade",
   "metadata": {},
   "outputs": [],
   "source": []
  }
 ],
 "metadata": {
  "kernelspec": {
   "display_name": "R",
   "language": "R",
   "name": "ir"
  },
  "language_info": {
   "codemirror_mode": "r",
   "file_extension": ".r",
   "mimetype": "text/x-r-source",
   "name": "R",
   "pygments_lexer": "r",
   "version": "4.1.0"
  }
 },
 "nbformat": 4,
 "nbformat_minor": 5
}
