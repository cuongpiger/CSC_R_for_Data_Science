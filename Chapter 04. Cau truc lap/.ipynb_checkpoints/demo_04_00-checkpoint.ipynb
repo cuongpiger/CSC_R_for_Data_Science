{
 "cells": [
  {
   "cell_type": "markdown",
   "metadata": {},
   "source": [
    "# 1. `repeat`"
   ]
  },
  {
   "cell_type": "code",
   "execution_count": 5,
   "metadata": {},
   "outputs": [
    {
     "name": "stdout",
     "output_type": "stream",
     "text": [
      "Time 1 \n",
      "Time 2 \n",
      "Time 3 \n",
      "Time 4 \n",
      "Time 5 \n"
     ]
    }
   ],
   "source": [
    "start = 1\n",
    "repeat {\n",
    "    cat(\"Time\", start, \"\\n\")\n",
    "    start = start + 1\n",
    "\n",
    "    if (start > 5) {\n",
    "        break\n",
    "    }\n",
    "}"
   ]
  },
  {
   "cell_type": "code",
   "execution_count": 6,
   "metadata": {},
   "outputs": [
    {
     "name": "stdout",
     "output_type": "stream",
     "text": [
      "[1] 1\n",
      "[1] 2\n",
      "[1] 3\n",
      "[1] 4\n",
      "[1] 5\n",
      "[1] 6\n",
      "[1] 7\n",
      "[1] 8\n",
      "[1] 9\n",
      "[1] 10\n"
     ]
    }
   ],
   "source": [
    "x = 1\n",
    "\n",
    "repeat {\n",
    "    print(x)\n",
    "    x = x + 1\n",
    "\n",
    "    if (x > 10) {\n",
    "        break\n",
    "    }\n",
    "}"
   ]
  },
  {
   "cell_type": "markdown",
   "metadata": {},
   "source": [
    "# 2. `while`"
   ]
  },
  {
   "cell_type": "code",
   "execution_count": 8,
   "metadata": {},
   "outputs": [
    {
     "name": "stdout",
     "output_type": "stream",
     "text": [
      "Time 1 \n",
      "Time 2 \n",
      "Time 3 \n",
      "Time 4 \n",
      "Time 5 \n"
     ]
    }
   ],
   "source": [
    "start = 1\n",
    "while (start < 6) {\n",
    "    cat(\"Time\", start, \"\\n\")\n",
    "    start = start + 1\n",
    "}"
   ]
  },
  {
   "cell_type": "code",
   "execution_count": 1,
   "metadata": {},
   "outputs": [
    {
     "name": "stdin",
     "output_type": "stream",
     "text": [
      "1: Continue, 2: Stop 1\n",
      "1: Continue, 2: Stop 1\n",
      "1: Continue, 2: Stop 1\n",
      "1: Continue, 2: Stop 2\n"
     ]
    },
    {
     "name": "stdout",
     "output_type": "stream",
     "text": [
      "[1] \"Hello\"\n",
      "[1] \"Hello\"\n",
      "[1] \"Hello\"\n",
      "[1] \"Hello\"\n"
     ]
    }
   ],
   "source": [
    "i = 1\n",
    "while (i == 1) {\n",
    "    print(\"Hello\")\n",
    "    i = readline(prompt=\"1: Continue, 2: Stop\")\n",
    "    i = as.numeric(i)\n",
    "}"
   ]
  },
  {
   "cell_type": "markdown",
   "metadata": {},
   "source": [
    "# 3. For"
   ]
  },
  {
   "cell_type": "code",
   "execution_count": 7,
   "metadata": {},
   "outputs": [
    {
     "name": "stdout",
     "output_type": "stream",
     "text": [
      "[1] \"A\"\n",
      "[1] \"B\"\n",
      "[1] \"C\"\n",
      "[1] \"D\"\n",
      "[1] \"E\"\n",
      "[1] \"F\"\n",
      "[1] \"G\"\n",
      "[1] \"H\"\n",
      "[1] \"I\"\n",
      "[1] \"J\"\n"
     ]
    }
   ],
   "source": [
    "v = LETTERS[1:10]\n",
    "\n",
    "for (c in v) {\n",
    "    print(c)\n",
    "}"
   ]
  },
  {
   "cell_type": "code",
   "execution_count": 8,
   "metadata": {},
   "outputs": [
    {
     "name": "stdout",
     "output_type": "stream",
     "text": [
      "[1] \"red\"\n",
      "[1] \"green\"\n",
      "[1] \"yellow\"\n",
      "[1] \"blue\"\n",
      "[1] \"black\"\n",
      "[1] \"white\"\n"
     ]
    }
   ],
   "source": [
    "colors = c(\"red\", \"green\", \"yellow\", \"blue\", \"black\", \"white\")\n",
    "for (color in colors) {\n",
    "    print(color)\n",
    "}"
   ]
  },
  {
   "cell_type": "markdown",
   "metadata": {},
   "source": [
    "# 4. `break` & `next`"
   ]
  },
  {
   "cell_type": "code",
   "execution_count": 9,
   "metadata": {},
   "outputs": [
    {
     "name": "stdout",
     "output_type": "stream",
     "text": [
      "[1] 1\n",
      "[1] 2\n",
      "[1] 3\n",
      "[1] 4\n",
      "[1] 5\n",
      "[1] 6\n",
      "[1] 7\n",
      "[1] 8\n",
      "[1] 9\n",
      "[1] 10\n"
     ]
    }
   ],
   "source": [
    "x = 1\n",
    "repeat {\n",
    "    print(x)\n",
    "    x = x + 1\n",
    "\n",
    "    if (x > 10) {\n",
    "        break\n",
    "    }\n",
    "}"
   ]
  },
  {
   "cell_type": "code",
   "execution_count": 10,
   "metadata": {},
   "outputs": [
    {
     "name": "stdout",
     "output_type": "stream",
     "text": [
      "[1] \"A\"\n",
      "[1] \"B\"\n",
      "[1] \"C\"\n",
      "[1] \"D\"\n",
      "[1] \"F\"\n",
      "[1] \"G\"\n",
      "[1] \"H\"\n",
      "[1] \"I\"\n",
      "[1] \"J\"\n"
     ]
    }
   ],
   "source": [
    "v = LETTERS[1:10]\n",
    "\n",
    "for (i in v) {\n",
    "    if (i == \"E\") {\n",
    "        next\n",
    "    }\n",
    "\n",
    "    print(i)\n",
    "}"
   ]
  },
  {
   "cell_type": "code",
   "execution_count": null,
   "metadata": {},
   "outputs": [],
   "source": []
  }
 ],
 "metadata": {
  "kernelspec": {
   "display_name": "R",
   "language": "R",
   "name": "ir"
  },
  "language_info": {
   "codemirror_mode": "r",
   "file_extension": ".r",
   "mimetype": "text/x-r-source",
   "name": "R",
   "pygments_lexer": "r",
   "version": "4.1.0"
  }
 },
 "nbformat": 4,
 "nbformat_minor": 4
}
