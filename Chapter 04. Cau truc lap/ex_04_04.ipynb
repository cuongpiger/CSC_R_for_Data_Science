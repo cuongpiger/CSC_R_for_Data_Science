{
 "cells": [
  {
   "cell_type": "markdown",
   "id": "96edb057-a4fd-43fb-8b2f-46739517eb31",
   "metadata": {},
   "source": [
    "![](images/04_03.png)"
   ]
  },
  {
   "cell_type": "code",
   "execution_count": null,
   "id": "8788c35d-f528-45b1-9cfd-5c7dceeeebf4",
   "metadata": {},
   "outputs": [],
   "source": [
    "n = as.integer(readline(prompt=\"Enter n:\"))"
   ]
  }
 ],
 "metadata": {
  "kernelspec": {
   "display_name": "R",
   "language": "R",
   "name": "ir"
  },
  "language_info": {
   "codemirror_mode": "r",
   "file_extension": ".r",
   "mimetype": "text/x-r-source",
   "name": "R",
   "pygments_lexer": "r",
   "version": "4.1.0"
  }
 },
 "nbformat": 4,
 "nbformat_minor": 5
}
