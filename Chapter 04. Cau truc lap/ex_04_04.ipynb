{
 "cells": [
  {
   "cell_type": "markdown",
   "id": "96edb057-a4fd-43fb-8b2f-46739517eb31",
   "metadata": {},
   "source": [
    "![](images/04_03.png)"
   ]
  },
  {
   "cell_type": "code",
   "execution_count": 1,
   "id": "1b321986-1cab-44df-b938-92603250c957",
   "metadata": {},
   "outputs": [],
   "source": [
    "sumOfPrimeNumbers = function(n) {\n",
    "    numbers = integer(n) + 1\n",
    "    p = 2\n",
    "    sum = 0\n",
    "    \n",
    "    while (p^2 <= n) {\n",
    "        if (numbers[p] == 1) {\n",
    "            for (i in seq(p^2, n, by=p)) {\n",
    "                numbers[i] = 0\n",
    "            }\n",
    "        }\n",
    "        \n",
    "        p = p + 1\n",
    "    }\n",
    "    \n",
    "    for (i in 2:n) {\n",
    "        if (numbers[i] == 1) {\n",
    "            sum = sum + i\n",
    "        }\n",
    "    }\n",
    "    \n",
    "    return (sum)\n",
    "}"
   ]
  },
  {
   "cell_type": "code",
   "execution_count": 2,
   "id": "8788c35d-f528-45b1-9cfd-5c7dceeeebf4",
   "metadata": {
    "tags": []
   },
   "outputs": [
    {
     "name": "stdin",
     "output_type": "stream",
     "text": [
      "Enter n: 10\n"
     ]
    },
    {
     "name": "stdout",
     "output_type": "stream",
     "text": [
      "Tổng các số nguyên tố trong khoảng [1, 10] là 17\n"
     ]
    }
   ],
   "source": [
    "n = as.integer(readline(prompt=\"Enter n:\"))\n",
    "sum = sumOfPrimeNumbers(n)\n",
    "\n",
    "writeLines(sprintf(\"Tổng các số nguyên tố trong khoảng [1, %d] là %d\", n, sum))"
   ]
  },
  {
   "cell_type": "code",
   "execution_count": null,
   "id": "39995cc5-6530-4d52-84e2-38d106e884db",
   "metadata": {},
   "outputs": [],
   "source": []
  }
 ],
 "metadata": {
  "kernelspec": {
   "display_name": "R",
   "language": "R",
   "name": "ir"
  },
  "language_info": {
   "codemirror_mode": "r",
   "file_extension": ".r",
   "mimetype": "text/x-r-source",
   "name": "R",
   "pygments_lexer": "r",
   "version": "4.1.0"
  }
 },
 "nbformat": 4,
 "nbformat_minor": 5
}
