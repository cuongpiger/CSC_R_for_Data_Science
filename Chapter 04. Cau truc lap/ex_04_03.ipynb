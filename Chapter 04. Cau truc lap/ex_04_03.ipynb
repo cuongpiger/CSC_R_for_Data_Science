{
 "cells": [
  {
   "cell_type": "markdown",
   "id": "f468efe5-9df1-40f3-92e6-a3dcf920284b",
   "metadata": {},
   "source": [
    "![](images/04_02.png)"
   ]
  },
  {
   "cell_type": "markdown",
   "id": "8461f6be-50a9-46b4-bd27-675daaa03456",
   "metadata": {},
   "source": [
    "# Task 1"
   ]
  },
  {
   "cell_type": "code",
   "execution_count": 1,
   "id": "f5a68ec3-0d1d-469c-b1ea-25b2e89ac920",
   "metadata": {},
   "outputs": [
    {
     "name": "stdin",
     "output_type": "stream",
     "text": [
      "Enter n: 7\n"
     ]
    },
    {
     "name": "stdout",
     "output_type": "stream",
     "text": [
      " 7 * 1 = 7 \n",
      " 7 * 2 = 14 \n",
      " 7 * 3 = 21 \n",
      " 7 * 4 = 28 \n",
      " 7 * 5 = 35 \n",
      " 7 * 6 = 42 \n",
      " 7 * 7 = 49 \n",
      " 7 * 8 = 56 \n",
      " 7 * 9 = 63 \n",
      " 7 * 10 = 70 \n"
     ]
    }
   ],
   "source": [
    "number = as.integer(readline(prompt=\"Enter n:\"))\n",
    "s = \"\"\n",
    "\n",
    "for (i in 1:10) {\n",
    "    s = paste(s, number, \"*\", i, \"=\", number * i, \"\\n\")\n",
    "}\n",
    "\n",
    "cat(s)"
   ]
  },
  {
   "cell_type": "markdown",
   "id": "17d7642b-4d41-429c-a93e-bbbdd28fb94d",
   "metadata": {},
   "source": [
    "# Task 2"
   ]
  },
  {
   "cell_type": "code",
   "execution_count": 3,
   "id": "769eecc9-1b4c-4f13-979d-518e93352d9a",
   "metadata": {},
   "outputs": [
    {
     "name": "stdout",
     "output_type": "stream",
     "text": [
      " 2 * 1 = 2 \t 3 * 1 = 3 \t 4 * 1 = 4 \t 5 * 1 = 5 \t 6 * 1 = 6 \t 7 * 1 = 7 \t 8 * 1 = 8 \t 9 * 1 = 9 \t \n",
      " 2 * 2 = 4 \t 3 * 2 = 6 \t 4 * 2 = 8 \t 5 * 2 = 10 \t 6 * 2 = 12 \t 7 * 2 = 14 \t 8 * 2 = 16 \t 9 * 2 = 18 \t \n",
      " 2 * 3 = 6 \t 3 * 3 = 9 \t 4 * 3 = 12 \t 5 * 3 = 15 \t 6 * 3 = 18 \t 7 * 3 = 21 \t 8 * 3 = 24 \t 9 * 3 = 27 \t \n",
      " 2 * 4 = 8 \t 3 * 4 = 12 \t 4 * 4 = 16 \t 5 * 4 = 20 \t 6 * 4 = 24 \t 7 * 4 = 28 \t 8 * 4 = 32 \t 9 * 4 = 36 \t \n",
      " 2 * 5 = 10 \t 3 * 5 = 15 \t 4 * 5 = 20 \t 5 * 5 = 25 \t 6 * 5 = 30 \t 7 * 5 = 35 \t 8 * 5 = 40 \t 9 * 5 = 45 \t \n",
      " 2 * 6 = 12 \t 3 * 6 = 18 \t 4 * 6 = 24 \t 5 * 6 = 30 \t 6 * 6 = 36 \t 7 * 6 = 42 \t 8 * 6 = 48 \t 9 * 6 = 54 \t \n",
      " 2 * 7 = 14 \t 3 * 7 = 21 \t 4 * 7 = 28 \t 5 * 7 = 35 \t 6 * 7 = 42 \t 7 * 7 = 49 \t 8 * 7 = 56 \t 9 * 7 = 63 \t \n",
      " 2 * 8 = 16 \t 3 * 8 = 24 \t 4 * 8 = 32 \t 5 * 8 = 40 \t 6 * 8 = 48 \t 7 * 8 = 56 \t 8 * 8 = 64 \t 9 * 8 = 72 \t \n",
      " 2 * 9 = 18 \t 3 * 9 = 27 \t 4 * 9 = 36 \t 5 * 9 = 45 \t 6 * 9 = 54 \t 7 * 9 = 63 \t 8 * 9 = 72 \t 9 * 9 = 81 \t \n",
      " 2 * 10 = 20 \t 3 * 10 = 30 \t 4 * 10 = 40 \t 5 * 10 = 50 \t 6 * 10 = 60 \t 7 * 10 = 70 \t 8 * 10 = 80 \t 9 * 10 = 90 \t \n"
     ]
    }
   ],
   "source": [
    "s = \"\"\n",
    "\n",
    "for (i in 1:10) {\n",
    "    for (j in 2:9) {\n",
    "        s = paste(s, j, \"*\", i, \"=\", i*j, \"\\t\")\n",
    "    }\n",
    "    s = paste(s, \"\\n\")\n",
    "}\n",
    "\n",
    "cat(s)"
   ]
  },
  {
   "cell_type": "code",
   "execution_count": null,
   "id": "ace5a824-eede-483c-9d3e-5bd3b2df8579",
   "metadata": {},
   "outputs": [],
   "source": []
  }
 ],
 "metadata": {
  "kernelspec": {
   "display_name": "R",
   "language": "R",
   "name": "ir"
  },
  "language_info": {
   "codemirror_mode": "r",
   "file_extension": ".r",
   "mimetype": "text/x-r-source",
   "name": "R",
   "pygments_lexer": "r",
   "version": "4.1.0"
  }
 },
 "nbformat": 4,
 "nbformat_minor": 5
}
