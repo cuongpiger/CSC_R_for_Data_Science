{
 "cells": [
  {
   "cell_type": "markdown",
   "id": "c493577a-3395-4897-a632-cb23b09e0240",
   "metadata": {},
   "source": [
    "![](images/10_04.png)"
   ]
  },
  {
   "cell_type": "code",
   "execution_count": 2,
   "id": "5c516e00-85b9-46d5-adc1-4206ce195f42",
   "metadata": {},
   "outputs": [
    {
     "name": "stderr",
     "output_type": "stream",
     "text": [
      "Installing package into ‘/home/manhcuong/R/x86_64-pc-linux-gnu-library/4.1’\n",
      "(as ‘lib’ is unspecified)\n",
      "\n"
     ]
    }
   ],
   "source": [
    "install.packages('rjson')"
   ]
  },
  {
   "cell_type": "code",
   "execution_count": 3,
   "id": "a5789fac-3362-400e-b12f-03d02b7bd1ec",
   "metadata": {},
   "outputs": [],
   "source": [
    "library('rjson')"
   ]
  },
  {
   "cell_type": "code",
   "execution_count": null,
   "id": "fdffff18-6a45-4f8c-b1cd-c5ecd0471979",
   "metadata": {},
   "outputs": [],
   "source": []
  },
  {
   "cell_type": "code",
   "execution_count": 9,
   "id": "1775cea0-529c-4b31-b69e-e9fea5213cb5",
   "metadata": {},
   "outputs": [],
   "source": [
    "json_file = fromJSON(file=\"./data/orange.json\")\n",
    "data = data.frame(json_file)"
   ]
  },
  {
   "cell_type": "code",
   "execution_count": 14,
   "id": "3d395e05-d223-43ea-ac0f-b9998d5c21d6",
   "metadata": {},
   "outputs": [
    {
     "data": {
      "text/html": [
       "<table class=\"dataframe\">\n",
       "<caption>A data.frame: 10 × 3</caption>\n",
       "<thead>\n",
       "\t<tr><th></th><th scope=col>Tree</th><th scope=col>age</th><th scope=col>circumference</th></tr>\n",
       "\t<tr><th></th><th scope=col>&lt;chr&gt;</th><th scope=col>&lt;dbl&gt;</th><th scope=col>&lt;dbl&gt;</th></tr>\n",
       "</thead>\n",
       "<tbody>\n",
       "\t<tr><th scope=row>1</th><td>1</td><td> 118</td><td> 30</td></tr>\n",
       "\t<tr><th scope=row>2</th><td>1</td><td> 484</td><td> 58</td></tr>\n",
       "\t<tr><th scope=row>3</th><td>1</td><td> 664</td><td> 87</td></tr>\n",
       "\t<tr><th scope=row>4</th><td>1</td><td>1004</td><td>115</td></tr>\n",
       "\t<tr><th scope=row>5</th><td>1</td><td>1231</td><td>120</td></tr>\n",
       "\t<tr><th scope=row>6</th><td>1</td><td>1372</td><td>142</td></tr>\n",
       "\t<tr><th scope=row>7</th><td>1</td><td>1582</td><td>145</td></tr>\n",
       "\t<tr><th scope=row>8</th><td>2</td><td> 118</td><td> 33</td></tr>\n",
       "\t<tr><th scope=row>9</th><td>2</td><td> 484</td><td> 69</td></tr>\n",
       "\t<tr><th scope=row>10</th><td>2</td><td> 664</td><td>111</td></tr>\n",
       "</tbody>\n",
       "</table>\n"
      ],
      "text/latex": [
       "A data.frame: 10 × 3\n",
       "\\begin{tabular}{r|lll}\n",
       "  & Tree & age & circumference\\\\\n",
       "  & <chr> & <dbl> & <dbl>\\\\\n",
       "\\hline\n",
       "\t1 & 1 &  118 &  30\\\\\n",
       "\t2 & 1 &  484 &  58\\\\\n",
       "\t3 & 1 &  664 &  87\\\\\n",
       "\t4 & 1 & 1004 & 115\\\\\n",
       "\t5 & 1 & 1231 & 120\\\\\n",
       "\t6 & 1 & 1372 & 142\\\\\n",
       "\t7 & 1 & 1582 & 145\\\\\n",
       "\t8 & 2 &  118 &  33\\\\\n",
       "\t9 & 2 &  484 &  69\\\\\n",
       "\t10 & 2 &  664 & 111\\\\\n",
       "\\end{tabular}\n"
      ],
      "text/markdown": [
       "\n",
       "A data.frame: 10 × 3\n",
       "\n",
       "| <!--/--> | Tree &lt;chr&gt; | age &lt;dbl&gt; | circumference &lt;dbl&gt; |\n",
       "|---|---|---|---|\n",
       "| 1 | 1 |  118 |  30 |\n",
       "| 2 | 1 |  484 |  58 |\n",
       "| 3 | 1 |  664 |  87 |\n",
       "| 4 | 1 | 1004 | 115 |\n",
       "| 5 | 1 | 1231 | 120 |\n",
       "| 6 | 1 | 1372 | 142 |\n",
       "| 7 | 1 | 1582 | 145 |\n",
       "| 8 | 2 |  118 |  33 |\n",
       "| 9 | 2 |  484 |  69 |\n",
       "| 10 | 2 |  664 | 111 |\n",
       "\n"
      ],
      "text/plain": [
       "   Tree age  circumference\n",
       "1  1     118  30          \n",
       "2  1     484  58          \n",
       "3  1     664  87          \n",
       "4  1    1004 115          \n",
       "5  1    1231 120          \n",
       "6  1    1372 142          \n",
       "7  1    1582 145          \n",
       "8  2     118  33          \n",
       "9  2     484  69          \n",
       "10 2     664 111          "
      ]
     },
     "metadata": {},
     "output_type": "display_data"
    }
   ],
   "source": [
    "head(data, 10)"
   ]
  },
  {
   "cell_type": "code",
   "execution_count": null,
   "id": "7cdf26fc-cda4-4c2d-86f0-0318c5dcde34",
   "metadata": {},
   "outputs": [],
   "source": []
  },
  {
   "cell_type": "code",
   "execution_count": 12,
   "id": "7631520f-bb76-4d83-8301-7d0320a5e178",
   "metadata": {},
   "outputs": [],
   "source": [
    "data_max_year = data[which.max(data$age),]"
   ]
  },
  {
   "cell_type": "code",
   "execution_count": 13,
   "id": "ac22aed2-8021-479b-bb13-e61b90805761",
   "metadata": {},
   "outputs": [
    {
     "data": {
      "text/html": [
       "<table class=\"dataframe\">\n",
       "<caption>A data.frame: 1 × 3</caption>\n",
       "<thead>\n",
       "\t<tr><th></th><th scope=col>Tree</th><th scope=col>age</th><th scope=col>circumference</th></tr>\n",
       "\t<tr><th></th><th scope=col>&lt;chr&gt;</th><th scope=col>&lt;dbl&gt;</th><th scope=col>&lt;dbl&gt;</th></tr>\n",
       "</thead>\n",
       "<tbody>\n",
       "\t<tr><th scope=row>7</th><td>1</td><td>1582</td><td>145</td></tr>\n",
       "</tbody>\n",
       "</table>\n"
      ],
      "text/latex": [
       "A data.frame: 1 × 3\n",
       "\\begin{tabular}{r|lll}\n",
       "  & Tree & age & circumference\\\\\n",
       "  & <chr> & <dbl> & <dbl>\\\\\n",
       "\\hline\n",
       "\t7 & 1 & 1582 & 145\\\\\n",
       "\\end{tabular}\n"
      ],
      "text/markdown": [
       "\n",
       "A data.frame: 1 × 3\n",
       "\n",
       "| <!--/--> | Tree &lt;chr&gt; | age &lt;dbl&gt; | circumference &lt;dbl&gt; |\n",
       "|---|---|---|---|\n",
       "| 7 | 1 | 1582 | 145 |\n",
       "\n"
      ],
      "text/plain": [
       "  Tree age  circumference\n",
       "7 1    1582 145          "
      ]
     },
     "metadata": {},
     "output_type": "display_data"
    }
   ],
   "source": [
    "data_max_year"
   ]
  },
  {
   "cell_type": "code",
   "execution_count": null,
   "id": "a22121a1-1d77-4494-923c-ff1455a923ff",
   "metadata": {},
   "outputs": [],
   "source": []
  },
  {
   "cell_type": "code",
   "execution_count": 15,
   "id": "bb82743d-5223-4340-a37e-36c38f39ca6c",
   "metadata": {},
   "outputs": [],
   "source": [
    "data_min_year = data[which.min(data$age),]"
   ]
  },
  {
   "cell_type": "code",
   "execution_count": 16,
   "id": "cd46f02a-0ef7-48a1-86f1-de4ddd053d15",
   "metadata": {},
   "outputs": [
    {
     "data": {
      "text/html": [
       "<table class=\"dataframe\">\n",
       "<caption>A data.frame: 1 × 3</caption>\n",
       "<thead>\n",
       "\t<tr><th></th><th scope=col>Tree</th><th scope=col>age</th><th scope=col>circumference</th></tr>\n",
       "\t<tr><th></th><th scope=col>&lt;chr&gt;</th><th scope=col>&lt;dbl&gt;</th><th scope=col>&lt;dbl&gt;</th></tr>\n",
       "</thead>\n",
       "<tbody>\n",
       "\t<tr><th scope=row>1</th><td>1</td><td>118</td><td>30</td></tr>\n",
       "</tbody>\n",
       "</table>\n"
      ],
      "text/latex": [
       "A data.frame: 1 × 3\n",
       "\\begin{tabular}{r|lll}\n",
       "  & Tree & age & circumference\\\\\n",
       "  & <chr> & <dbl> & <dbl>\\\\\n",
       "\\hline\n",
       "\t1 & 1 & 118 & 30\\\\\n",
       "\\end{tabular}\n"
      ],
      "text/markdown": [
       "\n",
       "A data.frame: 1 × 3\n",
       "\n",
       "| <!--/--> | Tree &lt;chr&gt; | age &lt;dbl&gt; | circumference &lt;dbl&gt; |\n",
       "|---|---|---|---|\n",
       "| 1 | 1 | 118 | 30 |\n",
       "\n"
      ],
      "text/plain": [
       "  Tree age circumference\n",
       "1 1    118 30           "
      ]
     },
     "metadata": {},
     "output_type": "display_data"
    }
   ],
   "source": [
    "data_min_year"
   ]
  },
  {
   "cell_type": "code",
   "execution_count": null,
   "id": "1eb163ea-906c-4604-8707-85596109e819",
   "metadata": {},
   "outputs": [],
   "source": []
  },
  {
   "cell_type": "code",
   "execution_count": 17,
   "id": "2a28d616-1100-404f-83c5-2259d9f37fde",
   "metadata": {},
   "outputs": [],
   "source": [
    "large_100_age_1000 = subset(data, age > 1000 & circumference > 100)"
   ]
  },
  {
   "cell_type": "code",
   "execution_count": 19,
   "id": "850378dc-ccd3-4151-b6bd-479aff3e24df",
   "metadata": {},
   "outputs": [
    {
     "data": {
      "text/html": [
       "<table class=\"dataframe\">\n",
       "<caption>A data.frame: 6 × 3</caption>\n",
       "<thead>\n",
       "\t<tr><th></th><th scope=col>Tree</th><th scope=col>age</th><th scope=col>circumference</th></tr>\n",
       "\t<tr><th></th><th scope=col>&lt;chr&gt;</th><th scope=col>&lt;dbl&gt;</th><th scope=col>&lt;dbl&gt;</th></tr>\n",
       "</thead>\n",
       "<tbody>\n",
       "\t<tr><th scope=row>4</th><td>1</td><td>1004</td><td>115</td></tr>\n",
       "\t<tr><th scope=row>5</th><td>1</td><td>1231</td><td>120</td></tr>\n",
       "\t<tr><th scope=row>6</th><td>1</td><td>1372</td><td>142</td></tr>\n",
       "\t<tr><th scope=row>7</th><td>1</td><td>1582</td><td>145</td></tr>\n",
       "\t<tr><th scope=row>11</th><td>2</td><td>1004</td><td>156</td></tr>\n",
       "\t<tr><th scope=row>12</th><td>2</td><td>1231</td><td>172</td></tr>\n",
       "</tbody>\n",
       "</table>\n"
      ],
      "text/latex": [
       "A data.frame: 6 × 3\n",
       "\\begin{tabular}{r|lll}\n",
       "  & Tree & age & circumference\\\\\n",
       "  & <chr> & <dbl> & <dbl>\\\\\n",
       "\\hline\n",
       "\t4 & 1 & 1004 & 115\\\\\n",
       "\t5 & 1 & 1231 & 120\\\\\n",
       "\t6 & 1 & 1372 & 142\\\\\n",
       "\t7 & 1 & 1582 & 145\\\\\n",
       "\t11 & 2 & 1004 & 156\\\\\n",
       "\t12 & 2 & 1231 & 172\\\\\n",
       "\\end{tabular}\n"
      ],
      "text/markdown": [
       "\n",
       "A data.frame: 6 × 3\n",
       "\n",
       "| <!--/--> | Tree &lt;chr&gt; | age &lt;dbl&gt; | circumference &lt;dbl&gt; |\n",
       "|---|---|---|---|\n",
       "| 4 | 1 | 1004 | 115 |\n",
       "| 5 | 1 | 1231 | 120 |\n",
       "| 6 | 1 | 1372 | 142 |\n",
       "| 7 | 1 | 1582 | 145 |\n",
       "| 11 | 2 | 1004 | 156 |\n",
       "| 12 | 2 | 1231 | 172 |\n",
       "\n"
      ],
      "text/plain": [
       "   Tree age  circumference\n",
       "4  1    1004 115          \n",
       "5  1    1231 120          \n",
       "6  1    1372 142          \n",
       "7  1    1582 145          \n",
       "11 2    1004 156          \n",
       "12 2    1231 172          "
      ]
     },
     "metadata": {},
     "output_type": "display_data"
    }
   ],
   "source": [
    "head(large_100_age_1000)"
   ]
  },
  {
   "cell_type": "code",
   "execution_count": null,
   "id": "f3c921ce-f241-4e63-8318-d950dd320456",
   "metadata": {},
   "outputs": [],
   "source": []
  },
  {
   "cell_type": "code",
   "execution_count": 20,
   "id": "95e0a129-70b5-4698-85f7-a330ba4b33b1",
   "metadata": {},
   "outputs": [],
   "source": [
    "large_100_age_1000_json = toJSON(large_100_age_1000)\n",
    "write(large_100_age_1000_json, file=\"./data/large_100_age_1000_new.json\")"
   ]
  },
  {
   "cell_type": "code",
   "execution_count": null,
   "id": "db5eca7f-9bf8-4061-b421-d9074dc188fa",
   "metadata": {},
   "outputs": [],
   "source": []
  },
  {
   "cell_type": "code",
   "execution_count": 21,
   "id": "d92f1110-08f2-4894-a14f-dbc8253fca87",
   "metadata": {},
   "outputs": [],
   "source": [
    "new_data = data.frame(fromJSON(file = \"./data/large_100_age_1000_new.json\"))"
   ]
  },
  {
   "cell_type": "code",
   "execution_count": 22,
   "id": "7fbc406a-7835-4d0c-8da5-8abaa8f8e6e1",
   "metadata": {},
   "outputs": [
    {
     "data": {
      "text/html": [
       "<table class=\"dataframe\">\n",
       "<caption>A data.frame: 6 × 3</caption>\n",
       "<thead>\n",
       "\t<tr><th></th><th scope=col>Tree</th><th scope=col>age</th><th scope=col>circumference</th></tr>\n",
       "\t<tr><th></th><th scope=col>&lt;chr&gt;</th><th scope=col>&lt;dbl&gt;</th><th scope=col>&lt;dbl&gt;</th></tr>\n",
       "</thead>\n",
       "<tbody>\n",
       "\t<tr><th scope=row>1</th><td>1</td><td>1004</td><td>115</td></tr>\n",
       "\t<tr><th scope=row>2</th><td>1</td><td>1231</td><td>120</td></tr>\n",
       "\t<tr><th scope=row>3</th><td>1</td><td>1372</td><td>142</td></tr>\n",
       "\t<tr><th scope=row>4</th><td>1</td><td>1582</td><td>145</td></tr>\n",
       "\t<tr><th scope=row>5</th><td>2</td><td>1004</td><td>156</td></tr>\n",
       "\t<tr><th scope=row>6</th><td>2</td><td>1231</td><td>172</td></tr>\n",
       "</tbody>\n",
       "</table>\n"
      ],
      "text/latex": [
       "A data.frame: 6 × 3\n",
       "\\begin{tabular}{r|lll}\n",
       "  & Tree & age & circumference\\\\\n",
       "  & <chr> & <dbl> & <dbl>\\\\\n",
       "\\hline\n",
       "\t1 & 1 & 1004 & 115\\\\\n",
       "\t2 & 1 & 1231 & 120\\\\\n",
       "\t3 & 1 & 1372 & 142\\\\\n",
       "\t4 & 1 & 1582 & 145\\\\\n",
       "\t5 & 2 & 1004 & 156\\\\\n",
       "\t6 & 2 & 1231 & 172\\\\\n",
       "\\end{tabular}\n"
      ],
      "text/markdown": [
       "\n",
       "A data.frame: 6 × 3\n",
       "\n",
       "| <!--/--> | Tree &lt;chr&gt; | age &lt;dbl&gt; | circumference &lt;dbl&gt; |\n",
       "|---|---|---|---|\n",
       "| 1 | 1 | 1004 | 115 |\n",
       "| 2 | 1 | 1231 | 120 |\n",
       "| 3 | 1 | 1372 | 142 |\n",
       "| 4 | 1 | 1582 | 145 |\n",
       "| 5 | 2 | 1004 | 156 |\n",
       "| 6 | 2 | 1231 | 172 |\n",
       "\n"
      ],
      "text/plain": [
       "  Tree age  circumference\n",
       "1 1    1004 115          \n",
       "2 1    1231 120          \n",
       "3 1    1372 142          \n",
       "4 1    1582 145          \n",
       "5 2    1004 156          \n",
       "6 2    1231 172          "
      ]
     },
     "metadata": {},
     "output_type": "display_data"
    }
   ],
   "source": [
    "head(new_data)"
   ]
  },
  {
   "cell_type": "code",
   "execution_count": null,
   "id": "8c6145ce-9d73-4ddb-a78c-0ab742ef80db",
   "metadata": {},
   "outputs": [],
   "source": []
  }
 ],
 "metadata": {
  "kernelspec": {
   "display_name": "R",
   "language": "R",
   "name": "ir"
  },
  "language_info": {
   "codemirror_mode": "r",
   "file_extension": ".r",
   "mimetype": "text/x-r-source",
   "name": "R",
   "pygments_lexer": "r",
   "version": "4.1.0"
  }
 },
 "nbformat": 4,
 "nbformat_minor": 5
}
