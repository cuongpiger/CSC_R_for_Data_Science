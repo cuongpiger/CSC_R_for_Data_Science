{
 "cells": [
  {
   "cell_type": "markdown",
   "id": "e9557b74-cf3d-4e81-ac5c-e3fc4ec73ea6",
   "metadata": {},
   "source": [
    "![](images/10_02.png)"
   ]
  },
  {
   "cell_type": "code",
   "execution_count": 1,
   "id": "b8264842-c8e3-41eb-97b8-27ee4599b506",
   "metadata": {},
   "outputs": [],
   "source": [
    "library('XML')\n",
    "library(\"methods\")"
   ]
  },
  {
   "cell_type": "code",
   "execution_count": 2,
   "id": "8b7eafa0-99e8-406c-ab7f-7b84b3d5a99e",
   "metadata": {},
   "outputs": [],
   "source": [
    "url = \"http://www.w3schools.com/xml/plant_catalog.xml\"\n",
    "download.file(url, destfile = \"./data/plant_catalog.xml\")"
   ]
  },
  {
   "cell_type": "code",
   "execution_count": null,
   "id": "5cd1cd18-80bd-4d5d-ab5d-6aada9776040",
   "metadata": {},
   "outputs": [],
   "source": []
  },
  {
   "cell_type": "code",
   "execution_count": 5,
   "id": "61d18a53-169a-457e-89f5-daf43b88f514",
   "metadata": {},
   "outputs": [],
   "source": [
    "df = xmlToDataFrame(\"./data/plant_catalog.xml\")"
   ]
  },
  {
   "cell_type": "code",
   "execution_count": 6,
   "id": "6502dbf0-6856-4b24-9aa4-6024d31380a9",
   "metadata": {},
   "outputs": [
    {
     "data": {
      "text/html": [
       "<table class=\"dataframe\">\n",
       "<caption>A data.frame: 6 × 6</caption>\n",
       "<thead>\n",
       "\t<tr><th></th><th scope=col>COMMON</th><th scope=col>BOTANICAL</th><th scope=col>ZONE</th><th scope=col>LIGHT</th><th scope=col>PRICE</th><th scope=col>AVAILABILITY</th></tr>\n",
       "\t<tr><th></th><th scope=col>&lt;chr&gt;</th><th scope=col>&lt;chr&gt;</th><th scope=col>&lt;chr&gt;</th><th scope=col>&lt;chr&gt;</th><th scope=col>&lt;chr&gt;</th><th scope=col>&lt;chr&gt;</th></tr>\n",
       "</thead>\n",
       "<tbody>\n",
       "\t<tr><th scope=row>1</th><td>Bloodroot          </td><td>Sanguinaria canadensis</td><td>4</td><td>Mostly Shady</td><td>$2.44</td><td>031599</td></tr>\n",
       "\t<tr><th scope=row>2</th><td>Columbine          </td><td>Aquilegia canadensis  </td><td>3</td><td>Mostly Shady</td><td>$9.37</td><td>030699</td></tr>\n",
       "\t<tr><th scope=row>3</th><td>Marsh Marigold     </td><td>Caltha palustris      </td><td>4</td><td>Mostly Sunny</td><td>$6.81</td><td>051799</td></tr>\n",
       "\t<tr><th scope=row>4</th><td>Cowslip            </td><td>Caltha palustris      </td><td>4</td><td>Mostly Shady</td><td>$9.90</td><td>030699</td></tr>\n",
       "\t<tr><th scope=row>5</th><td>Dutchman's-Breeches</td><td>Dicentra cucullaria   </td><td>3</td><td>Mostly Shady</td><td>$6.44</td><td>012099</td></tr>\n",
       "\t<tr><th scope=row>6</th><td>Ginger, Wild       </td><td>Asarum canadense      </td><td>3</td><td>Mostly Shady</td><td>$9.03</td><td>041899</td></tr>\n",
       "</tbody>\n",
       "</table>\n"
      ],
      "text/latex": [
       "A data.frame: 6 × 6\n",
       "\\begin{tabular}{r|llllll}\n",
       "  & COMMON & BOTANICAL & ZONE & LIGHT & PRICE & AVAILABILITY\\\\\n",
       "  & <chr> & <chr> & <chr> & <chr> & <chr> & <chr>\\\\\n",
       "\\hline\n",
       "\t1 & Bloodroot           & Sanguinaria canadensis & 4 & Mostly Shady & \\$2.44 & 031599\\\\\n",
       "\t2 & Columbine           & Aquilegia canadensis   & 3 & Mostly Shady & \\$9.37 & 030699\\\\\n",
       "\t3 & Marsh Marigold      & Caltha palustris       & 4 & Mostly Sunny & \\$6.81 & 051799\\\\\n",
       "\t4 & Cowslip             & Caltha palustris       & 4 & Mostly Shady & \\$9.90 & 030699\\\\\n",
       "\t5 & Dutchman's-Breeches & Dicentra cucullaria    & 3 & Mostly Shady & \\$6.44 & 012099\\\\\n",
       "\t6 & Ginger, Wild        & Asarum canadense       & 3 & Mostly Shady & \\$9.03 & 041899\\\\\n",
       "\\end{tabular}\n"
      ],
      "text/markdown": [
       "\n",
       "A data.frame: 6 × 6\n",
       "\n",
       "| <!--/--> | COMMON &lt;chr&gt; | BOTANICAL &lt;chr&gt; | ZONE &lt;chr&gt; | LIGHT &lt;chr&gt; | PRICE &lt;chr&gt; | AVAILABILITY &lt;chr&gt; |\n",
       "|---|---|---|---|---|---|---|\n",
       "| 1 | Bloodroot           | Sanguinaria canadensis | 4 | Mostly Shady | $2.44 | 031599 |\n",
       "| 2 | Columbine           | Aquilegia canadensis   | 3 | Mostly Shady | $9.37 | 030699 |\n",
       "| 3 | Marsh Marigold      | Caltha palustris       | 4 | Mostly Sunny | $6.81 | 051799 |\n",
       "| 4 | Cowslip             | Caltha palustris       | 4 | Mostly Shady | $9.90 | 030699 |\n",
       "| 5 | Dutchman's-Breeches | Dicentra cucullaria    | 3 | Mostly Shady | $6.44 | 012099 |\n",
       "| 6 | Ginger, Wild        | Asarum canadense       | 3 | Mostly Shady | $9.03 | 041899 |\n",
       "\n"
      ],
      "text/plain": [
       "  COMMON              BOTANICAL              ZONE LIGHT        PRICE\n",
       "1 Bloodroot           Sanguinaria canadensis 4    Mostly Shady $2.44\n",
       "2 Columbine           Aquilegia canadensis   3    Mostly Shady $9.37\n",
       "3 Marsh Marigold      Caltha palustris       4    Mostly Sunny $6.81\n",
       "4 Cowslip             Caltha palustris       4    Mostly Shady $9.90\n",
       "5 Dutchman's-Breeches Dicentra cucullaria    3    Mostly Shady $6.44\n",
       "6 Ginger, Wild        Asarum canadense       3    Mostly Shady $9.03\n",
       "  AVAILABILITY\n",
       "1 031599      \n",
       "2 030699      \n",
       "3 051799      \n",
       "4 030699      \n",
       "5 012099      \n",
       "6 041899      "
      ]
     },
     "metadata": {},
     "output_type": "display_data"
    }
   ],
   "source": [
    "head(df)"
   ]
  },
  {
   "cell_type": "code",
   "execution_count": null,
   "id": "c05eb304-92ed-4d8f-92fa-117f8f1a9254",
   "metadata": {},
   "outputs": [],
   "source": []
  },
  {
   "cell_type": "code",
   "execution_count": 10,
   "id": "8f665363-14f8-4616-8e49-2294d2712730",
   "metadata": {},
   "outputs": [
    {
     "data": {
      "text/html": [
       "<table class=\"dataframe\">\n",
       "<caption>A data.frame: 5 × 6</caption>\n",
       "<thead>\n",
       "\t<tr><th></th><th scope=col>COMMON</th><th scope=col>BOTANICAL</th><th scope=col>ZONE</th><th scope=col>LIGHT</th><th scope=col>PRICE</th><th scope=col>AVAILABILITY</th></tr>\n",
       "\t<tr><th></th><th scope=col>&lt;chr&gt;</th><th scope=col>&lt;chr&gt;</th><th scope=col>&lt;chr&gt;</th><th scope=col>&lt;chr&gt;</th><th scope=col>&lt;chr&gt;</th><th scope=col>&lt;chr&gt;</th></tr>\n",
       "</thead>\n",
       "<tbody>\n",
       "\t<tr><th scope=row>1</th><td>Bloodroot         </td><td>Sanguinaria canadensis</td><td>4</td><td>Mostly Shady</td><td>$2.44</td><td>031599</td></tr>\n",
       "\t<tr><th scope=row>4</th><td>Cowslip           </td><td>Caltha palustris      </td><td>4</td><td>Mostly Shady</td><td>$9.90</td><td>030699</td></tr>\n",
       "\t<tr><th scope=row>7</th><td>Hepatica          </td><td>Hepatica americana    </td><td>4</td><td>Mostly Shady</td><td>$4.45</td><td>012699</td></tr>\n",
       "\t<tr><th scope=row>8</th><td>Liverleaf         </td><td>Hepatica americana    </td><td>4</td><td>Mostly Shady</td><td>$3.99</td><td>010299</td></tr>\n",
       "\t<tr><th scope=row>9</th><td>Jack-In-The-Pulpit</td><td>Arisaema triphyllum   </td><td>4</td><td>Mostly Shady</td><td>$3.23</td><td>020199</td></tr>\n",
       "</tbody>\n",
       "</table>\n"
      ],
      "text/latex": [
       "A data.frame: 5 × 6\n",
       "\\begin{tabular}{r|llllll}\n",
       "  & COMMON & BOTANICAL & ZONE & LIGHT & PRICE & AVAILABILITY\\\\\n",
       "  & <chr> & <chr> & <chr> & <chr> & <chr> & <chr>\\\\\n",
       "\\hline\n",
       "\t1 & Bloodroot          & Sanguinaria canadensis & 4 & Mostly Shady & \\$2.44 & 031599\\\\\n",
       "\t4 & Cowslip            & Caltha palustris       & 4 & Mostly Shady & \\$9.90 & 030699\\\\\n",
       "\t7 & Hepatica           & Hepatica americana     & 4 & Mostly Shady & \\$4.45 & 012699\\\\\n",
       "\t8 & Liverleaf          & Hepatica americana     & 4 & Mostly Shady & \\$3.99 & 010299\\\\\n",
       "\t9 & Jack-In-The-Pulpit & Arisaema triphyllum    & 4 & Mostly Shady & \\$3.23 & 020199\\\\\n",
       "\\end{tabular}\n"
      ],
      "text/markdown": [
       "\n",
       "A data.frame: 5 × 6\n",
       "\n",
       "| <!--/--> | COMMON &lt;chr&gt; | BOTANICAL &lt;chr&gt; | ZONE &lt;chr&gt; | LIGHT &lt;chr&gt; | PRICE &lt;chr&gt; | AVAILABILITY &lt;chr&gt; |\n",
       "|---|---|---|---|---|---|---|\n",
       "| 1 | Bloodroot          | Sanguinaria canadensis | 4 | Mostly Shady | $2.44 | 031599 |\n",
       "| 4 | Cowslip            | Caltha palustris       | 4 | Mostly Shady | $9.90 | 030699 |\n",
       "| 7 | Hepatica           | Hepatica americana     | 4 | Mostly Shady | $4.45 | 012699 |\n",
       "| 8 | Liverleaf          | Hepatica americana     | 4 | Mostly Shady | $3.99 | 010299 |\n",
       "| 9 | Jack-In-The-Pulpit | Arisaema triphyllum    | 4 | Mostly Shady | $3.23 | 020199 |\n",
       "\n"
      ],
      "text/plain": [
       "  COMMON             BOTANICAL              ZONE LIGHT        PRICE\n",
       "1 Bloodroot          Sanguinaria canadensis 4    Mostly Shady $2.44\n",
       "4 Cowslip            Caltha palustris       4    Mostly Shady $9.90\n",
       "7 Hepatica           Hepatica americana     4    Mostly Shady $4.45\n",
       "8 Liverleaf          Hepatica americana     4    Mostly Shady $3.99\n",
       "9 Jack-In-The-Pulpit Arisaema triphyllum    4    Mostly Shady $3.23\n",
       "  AVAILABILITY\n",
       "1 031599      \n",
       "4 030699      \n",
       "7 012699      \n",
       "8 010299      \n",
       "9 020199      "
      ]
     },
     "metadata": {},
     "output_type": "display_data"
    }
   ],
   "source": [
    "subset(df, ZONE == 4 & LIGHT == 'Mostly Shady')"
   ]
  },
  {
   "cell_type": "code",
   "execution_count": null,
   "id": "f616fb32-89e8-49aa-a885-b61d7640b9ec",
   "metadata": {},
   "outputs": [],
   "source": []
  }
 ],
 "metadata": {
  "kernelspec": {
   "display_name": "R",
   "language": "R",
   "name": "ir"
  },
  "language_info": {
   "codemirror_mode": "r",
   "file_extension": ".r",
   "mimetype": "text/x-r-source",
   "name": "R",
   "pygments_lexer": "r",
   "version": "4.1.0"
  }
 },
 "nbformat": 4,
 "nbformat_minor": 5
}
