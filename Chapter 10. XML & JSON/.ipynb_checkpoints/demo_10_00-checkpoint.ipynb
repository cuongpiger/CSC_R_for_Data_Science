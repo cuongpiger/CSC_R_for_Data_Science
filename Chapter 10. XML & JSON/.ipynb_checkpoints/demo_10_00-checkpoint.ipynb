{
 "cells": [
  {
   "cell_type": "markdown",
   "id": "86640e47-4e1e-40f5-b4ba-c3fb1b4d36ad",
   "metadata": {},
   "source": [
    "# 1. XML\n",
    "## 1.1. Cài đặt thư viện `XML`"
   ]
  },
  {
   "cell_type": "code",
   "execution_count": 1,
   "id": "c5b5bb26-7f8c-4a5e-9971-1e3880987242",
   "metadata": {},
   "outputs": [
    {
     "name": "stderr",
     "output_type": "stream",
     "text": [
      "Installing package into ‘/home/manhcuong/R/x86_64-pc-linux-gnu-library/4.1’\n",
      "(as ‘lib’ is unspecified)\n",
      "\n"
     ]
    }
   ],
   "source": [
    "install.packages('XML')"
   ]
  },
  {
   "cell_type": "markdown",
   "id": "ad5cc7c8-46a7-4d67-a520-43ef4b5922a4",
   "metadata": {},
   "source": [
    "## 1.2. Load package `XML` và các dependencies packages"
   ]
  },
  {
   "cell_type": "code",
   "execution_count": 2,
   "id": "14c4787a-4cb4-478c-be21-fb904100d2bd",
   "metadata": {},
   "outputs": [],
   "source": [
    "library('XML')\n",
    "library('methods')"
   ]
  },
  {
   "cell_type": "markdown",
   "id": "1b94c447-591c-4868-83be-7db658a48a91",
   "metadata": {},
   "source": [
    "## 1.3. Xuất nội dung XML qua dataframe"
   ]
  },
  {
   "cell_type": "code",
   "execution_count": 6,
   "id": "7cfa652a-771a-4a6a-8bfe-2e06888b3255",
   "metadata": {},
   "outputs": [],
   "source": [
    "data = xmlToDataFrame(\"./data/cd_demo.xml\")"
   ]
  },
  {
   "cell_type": "code",
   "execution_count": 7,
   "id": "8ff05fea-495c-4595-bae9-7734bb1e06c9",
   "metadata": {},
   "outputs": [
    {
     "data": {
      "text/html": [
       "<table class=\"dataframe\">\n",
       "<caption>A data.frame: 6 × 6</caption>\n",
       "<thead>\n",
       "\t<tr><th></th><th scope=col>TITLE</th><th scope=col>ARTIST</th><th scope=col>COUNTRY</th><th scope=col>COMPANY</th><th scope=col>PRICE</th><th scope=col>YEAR</th></tr>\n",
       "\t<tr><th></th><th scope=col>&lt;chr&gt;</th><th scope=col>&lt;chr&gt;</th><th scope=col>&lt;chr&gt;</th><th scope=col>&lt;chr&gt;</th><th scope=col>&lt;chr&gt;</th><th scope=col>&lt;chr&gt;</th></tr>\n",
       "</thead>\n",
       "<tbody>\n",
       "\t<tr><th scope=row>1</th><td>Empire Burlesque   </td><td>Bob Dylan      </td><td>USA</td><td>Columbia      </td><td>10.90</td><td>1985</td></tr>\n",
       "\t<tr><th scope=row>2</th><td>Hide your heart    </td><td>Bonnie Tyler   </td><td>UK </td><td>CBS Records   </td><td>9.90 </td><td>1988</td></tr>\n",
       "\t<tr><th scope=row>3</th><td>Greatest Hits      </td><td>Dolly Parton   </td><td>USA</td><td>RCA           </td><td>9.90 </td><td>1982</td></tr>\n",
       "\t<tr><th scope=row>4</th><td>Still got the blues</td><td>Gary Moore     </td><td>UK </td><td>Virgin records</td><td>10.20</td><td>1990</td></tr>\n",
       "\t<tr><th scope=row>5</th><td>Eros               </td><td>Eros Ramazzotti</td><td>EU </td><td>BMG           </td><td>9.90 </td><td>1997</td></tr>\n",
       "\t<tr><th scope=row>6</th><td>One night only     </td><td>Bee Gees       </td><td>UK </td><td>Polydor       </td><td>10.90</td><td>1998</td></tr>\n",
       "</tbody>\n",
       "</table>\n"
      ],
      "text/latex": [
       "A data.frame: 6 × 6\n",
       "\\begin{tabular}{r|llllll}\n",
       "  & TITLE & ARTIST & COUNTRY & COMPANY & PRICE & YEAR\\\\\n",
       "  & <chr> & <chr> & <chr> & <chr> & <chr> & <chr>\\\\\n",
       "\\hline\n",
       "\t1 & Empire Burlesque    & Bob Dylan       & USA & Columbia       & 10.90 & 1985\\\\\n",
       "\t2 & Hide your heart     & Bonnie Tyler    & UK  & CBS Records    & 9.90  & 1988\\\\\n",
       "\t3 & Greatest Hits       & Dolly Parton    & USA & RCA            & 9.90  & 1982\\\\\n",
       "\t4 & Still got the blues & Gary Moore      & UK  & Virgin records & 10.20 & 1990\\\\\n",
       "\t5 & Eros                & Eros Ramazzotti & EU  & BMG            & 9.90  & 1997\\\\\n",
       "\t6 & One night only      & Bee Gees        & UK  & Polydor        & 10.90 & 1998\\\\\n",
       "\\end{tabular}\n"
      ],
      "text/markdown": [
       "\n",
       "A data.frame: 6 × 6\n",
       "\n",
       "| <!--/--> | TITLE &lt;chr&gt; | ARTIST &lt;chr&gt; | COUNTRY &lt;chr&gt; | COMPANY &lt;chr&gt; | PRICE &lt;chr&gt; | YEAR &lt;chr&gt; |\n",
       "|---|---|---|---|---|---|---|\n",
       "| 1 | Empire Burlesque    | Bob Dylan       | USA | Columbia       | 10.90 | 1985 |\n",
       "| 2 | Hide your heart     | Bonnie Tyler    | UK  | CBS Records    | 9.90  | 1988 |\n",
       "| 3 | Greatest Hits       | Dolly Parton    | USA | RCA            | 9.90  | 1982 |\n",
       "| 4 | Still got the blues | Gary Moore      | UK  | Virgin records | 10.20 | 1990 |\n",
       "| 5 | Eros                | Eros Ramazzotti | EU  | BMG            | 9.90  | 1997 |\n",
       "| 6 | One night only      | Bee Gees        | UK  | Polydor        | 10.90 | 1998 |\n",
       "\n"
      ],
      "text/plain": [
       "  TITLE               ARTIST          COUNTRY COMPANY        PRICE YEAR\n",
       "1 Empire Burlesque    Bob Dylan       USA     Columbia       10.90 1985\n",
       "2 Hide your heart     Bonnie Tyler    UK      CBS Records    9.90  1988\n",
       "3 Greatest Hits       Dolly Parton    USA     RCA            9.90  1982\n",
       "4 Still got the blues Gary Moore      UK      Virgin records 10.20 1990\n",
       "5 Eros                Eros Ramazzotti EU      BMG            9.90  1997\n",
       "6 One night only      Bee Gees        UK      Polydor        10.90 1998"
      ]
     },
     "metadata": {},
     "output_type": "display_data"
    }
   ],
   "source": [
    "head(data)"
   ]
  },
  {
   "cell_type": "markdown",
   "id": "b9dc4d88-26e8-442d-9d3c-438210153e79",
   "metadata": {},
   "source": [
    "## 1.4. Ghi nội dung ra file XML\n",
    "### 1.4.1. Cách 1"
   ]
  },
  {
   "cell_type": "code",
   "execution_count": 10,
   "id": "803a5173-640b-4f3b-8f3a-8c156ab1b1fc",
   "metadata": {},
   "outputs": [],
   "source": [
    "CDs_USA = data[data['COUNTRY'] == 'USA',]"
   ]
  },
  {
   "cell_type": "code",
   "execution_count": 11,
   "id": "fa4875f9-f3c5-4ad9-92fa-40c47dd71816",
   "metadata": {},
   "outputs": [
    {
     "data": {
      "text/html": [
       "<table class=\"dataframe\">\n",
       "<caption>A data.frame: 7 × 6</caption>\n",
       "<thead>\n",
       "\t<tr><th></th><th scope=col>TITLE</th><th scope=col>ARTIST</th><th scope=col>COUNTRY</th><th scope=col>COMPANY</th><th scope=col>PRICE</th><th scope=col>YEAR</th></tr>\n",
       "\t<tr><th></th><th scope=col>&lt;chr&gt;</th><th scope=col>&lt;chr&gt;</th><th scope=col>&lt;chr&gt;</th><th scope=col>&lt;chr&gt;</th><th scope=col>&lt;chr&gt;</th><th scope=col>&lt;chr&gt;</th></tr>\n",
       "</thead>\n",
       "<tbody>\n",
       "\t<tr><th scope=row>1</th><td>Empire Burlesque        </td><td>Bob Dylan   </td><td>USA</td><td>Columbia    </td><td>10.90</td><td>1985</td></tr>\n",
       "\t<tr><th scope=row>3</th><td>Greatest Hits           </td><td>Dolly Parton</td><td>USA</td><td>RCA         </td><td>9.90 </td><td>1982</td></tr>\n",
       "\t<tr><th scope=row>10</th><td>When a man loves a woman</td><td>Percy Sledge</td><td>USA</td><td>Atlantic    </td><td>8.70 </td><td>1987</td></tr>\n",
       "\t<tr><th scope=row>12</th><td>1999 Grammy Nominees    </td><td>Many        </td><td>USA</td><td>Grammy      </td><td>10.20</td><td>1999</td></tr>\n",
       "\t<tr><th scope=row>14</th><td>Big Willie style        </td><td>Will Smith  </td><td>USA</td><td>Columbia    </td><td>9.90 </td><td>1997</td></tr>\n",
       "\t<tr><th scope=row>23</th><td>The dock of the bay     </td><td>Otis Redding</td><td>USA</td><td>Stax Records</td><td>7.90 </td><td>1968</td></tr>\n",
       "\t<tr><th scope=row>26</th><td>Unchain my heart        </td><td>Joe Cocker  </td><td>USA</td><td>EMI         </td><td>8.20 </td><td>1987</td></tr>\n",
       "</tbody>\n",
       "</table>\n"
      ],
      "text/latex": [
       "A data.frame: 7 × 6\n",
       "\\begin{tabular}{r|llllll}\n",
       "  & TITLE & ARTIST & COUNTRY & COMPANY & PRICE & YEAR\\\\\n",
       "  & <chr> & <chr> & <chr> & <chr> & <chr> & <chr>\\\\\n",
       "\\hline\n",
       "\t1 & Empire Burlesque         & Bob Dylan    & USA & Columbia     & 10.90 & 1985\\\\\n",
       "\t3 & Greatest Hits            & Dolly Parton & USA & RCA          & 9.90  & 1982\\\\\n",
       "\t10 & When a man loves a woman & Percy Sledge & USA & Atlantic     & 8.70  & 1987\\\\\n",
       "\t12 & 1999 Grammy Nominees     & Many         & USA & Grammy       & 10.20 & 1999\\\\\n",
       "\t14 & Big Willie style         & Will Smith   & USA & Columbia     & 9.90  & 1997\\\\\n",
       "\t23 & The dock of the bay      & Otis Redding & USA & Stax Records & 7.90  & 1968\\\\\n",
       "\t26 & Unchain my heart         & Joe Cocker   & USA & EMI          & 8.20  & 1987\\\\\n",
       "\\end{tabular}\n"
      ],
      "text/markdown": [
       "\n",
       "A data.frame: 7 × 6\n",
       "\n",
       "| <!--/--> | TITLE &lt;chr&gt; | ARTIST &lt;chr&gt; | COUNTRY &lt;chr&gt; | COMPANY &lt;chr&gt; | PRICE &lt;chr&gt; | YEAR &lt;chr&gt; |\n",
       "|---|---|---|---|---|---|---|\n",
       "| 1 | Empire Burlesque         | Bob Dylan    | USA | Columbia     | 10.90 | 1985 |\n",
       "| 3 | Greatest Hits            | Dolly Parton | USA | RCA          | 9.90  | 1982 |\n",
       "| 10 | When a man loves a woman | Percy Sledge | USA | Atlantic     | 8.70  | 1987 |\n",
       "| 12 | 1999 Grammy Nominees     | Many         | USA | Grammy       | 10.20 | 1999 |\n",
       "| 14 | Big Willie style         | Will Smith   | USA | Columbia     | 9.90  | 1997 |\n",
       "| 23 | The dock of the bay      | Otis Redding | USA | Stax Records | 7.90  | 1968 |\n",
       "| 26 | Unchain my heart         | Joe Cocker   | USA | EMI          | 8.20  | 1987 |\n",
       "\n"
      ],
      "text/plain": [
       "   TITLE                    ARTIST       COUNTRY COMPANY      PRICE YEAR\n",
       "1  Empire Burlesque         Bob Dylan    USA     Columbia     10.90 1985\n",
       "3  Greatest Hits            Dolly Parton USA     RCA          9.90  1982\n",
       "10 When a man loves a woman Percy Sledge USA     Atlantic     8.70  1987\n",
       "12 1999 Grammy Nominees     Many         USA     Grammy       10.20 1999\n",
       "14 Big Willie style         Will Smith   USA     Columbia     9.90  1997\n",
       "23 The dock of the bay      Otis Redding USA     Stax Records 7.90  1968\n",
       "26 Unchain my heart         Joe Cocker   USA     EMI          8.20  1987"
      ]
     },
     "metadata": {},
     "output_type": "display_data"
    }
   ],
   "source": [
    "CDs_USA"
   ]
  },
  {
   "cell_type": "code",
   "execution_count": 12,
   "id": "6d1aea4f-d3f1-473c-9d3a-ab8e33f85667",
   "metadata": {},
   "outputs": [],
   "source": [
    "# tạo một tài liệu XML doc\n",
    "doc = newXMLDoc()\n",
    "\n",
    "# tạo XML tree\n",
    "top = newXMLNode(\"CATALOG\", doc = doc)\n",
    "for (row in 1:nrow(CDs_USA)) {\n",
    "    cdnode = newXMLNode(\"CD\", parent = top) # node root\n",
    "    newXMLNode(\"TITLE\", CDs_USA[row, 'TITLE'], parent=cdnode)\n",
    "    newXMLNode(\"ARTIST\", CDs_USA[row, 'ARTIST'], parent=cdnode)\n",
    "    newXMLNode(\"COUNTRY\", CDs_USA[row, 'COUNTRY'], parent=cdnode)\n",
    "    newXMLNode(\"COMPANY\", CDs_USA[row, 'COMPANY'], parent=cdnode)\n",
    "    newXMLNode(\"PRICE\", CDs_USA[row, 'PRICE'], parent=cdnode)\n",
    "    newXMLNode(\"YEAR\", CDs_USA[row, 'YEAR'], parent=cdnode)\n",
    "}"
   ]
  },
  {
   "cell_type": "code",
   "execution_count": 15,
   "id": "577e6cc8-0064-457c-bdee-4b9cff6f2998",
   "metadata": {},
   "outputs": [],
   "source": [
    "# lưu file\n",
    "cat(saveXML(doc, indent = TRUE,\n",
    "           prefix = '<?xml version=\"1.0\" encoding=\"utf-8\" standalone=\"no\"?>\\n'),\n",
    "           file = \"./data/cd_usa.xml\")"
   ]
  },
  {
   "cell_type": "markdown",
   "id": "81acf48b-936a-49d6-981e-228325b544ea",
   "metadata": {},
   "source": [
    "![](images/10_00.png)"
   ]
  },
  {
   "cell_type": "markdown",
   "id": "97f9b484-555c-46df-8874-b225e506bcd9",
   "metadata": {},
   "source": [
    "### 1.4.2. Cách 2"
   ]
  },
  {
   "cell_type": "code",
   "execution_count": 16,
   "id": "066fb8d8-c8ad-4e63-8193-021aedb56351",
   "metadata": {},
   "outputs": [
    {
     "data": {
      "text/html": [
       "'./data/cds_usa_2.xml'"
      ],
      "text/latex": [
       "'./data/cds\\_usa\\_2.xml'"
      ],
      "text/markdown": [
       "'./data/cds_usa_2.xml'"
      ],
      "text/plain": [
       "[1] \"./data/cds_usa_2.xml\""
      ]
     },
     "metadata": {},
     "output_type": "display_data"
    }
   ],
   "source": [
    "doc_xml = newXMLDoc(isHTML = FALSE)\n",
    "table_node = newXMLNode(\"CATALOG\", doc = doc_xml)\n",
    "row_data = apply(CDs_USA, 1, function(x) {\n",
    "    z1 = newXMLNode(\"CD\")\n",
    "    addChildren(z1, lapply(names(x), function(y) newXMLNode(y, x[y]))) # (tên node, giá tri trong node)\n",
    "})\n",
    "                \n",
    "xmlParent(row_data) = table_node\n",
    "saveXML(doc_xml, file = \"./data/cds_usa_2.xml\")"
   ]
  },
  {
   "cell_type": "code",
   "execution_count": 17,
   "id": "a7ed8ec3-1988-424a-ad83-c1e7dce416eb",
   "metadata": {},
   "outputs": [],
   "source": [
    "cds_usa_2 = xmlToDataFrame(\"./data/cds_usa_2.xml\")"
   ]
  },
  {
   "cell_type": "code",
   "execution_count": 18,
   "id": "08bc1efc-0d6e-4669-b5f5-3e64dcea22eb",
   "metadata": {},
   "outputs": [
    {
     "data": {
      "text/html": [
       "<table class=\"dataframe\">\n",
       "<caption>A data.frame: 6 × 6</caption>\n",
       "<thead>\n",
       "\t<tr><th></th><th scope=col>TITLE</th><th scope=col>ARTIST</th><th scope=col>COUNTRY</th><th scope=col>COMPANY</th><th scope=col>PRICE</th><th scope=col>YEAR</th></tr>\n",
       "\t<tr><th></th><th scope=col>&lt;chr&gt;</th><th scope=col>&lt;chr&gt;</th><th scope=col>&lt;chr&gt;</th><th scope=col>&lt;chr&gt;</th><th scope=col>&lt;chr&gt;</th><th scope=col>&lt;chr&gt;</th></tr>\n",
       "</thead>\n",
       "<tbody>\n",
       "\t<tr><th scope=row>1</th><td>Empire Burlesque        </td><td>Bob Dylan   </td><td>USA</td><td>Columbia    </td><td>10.90</td><td>1985</td></tr>\n",
       "\t<tr><th scope=row>2</th><td>Greatest Hits           </td><td>Dolly Parton</td><td>USA</td><td>RCA         </td><td>9.90 </td><td>1982</td></tr>\n",
       "\t<tr><th scope=row>3</th><td>When a man loves a woman</td><td>Percy Sledge</td><td>USA</td><td>Atlantic    </td><td>8.70 </td><td>1987</td></tr>\n",
       "\t<tr><th scope=row>4</th><td>1999 Grammy Nominees    </td><td>Many        </td><td>USA</td><td>Grammy      </td><td>10.20</td><td>1999</td></tr>\n",
       "\t<tr><th scope=row>5</th><td>Big Willie style        </td><td>Will Smith  </td><td>USA</td><td>Columbia    </td><td>9.90 </td><td>1997</td></tr>\n",
       "\t<tr><th scope=row>6</th><td>The dock of the bay     </td><td>Otis Redding</td><td>USA</td><td>Stax Records</td><td>7.90 </td><td>1968</td></tr>\n",
       "</tbody>\n",
       "</table>\n"
      ],
      "text/latex": [
       "A data.frame: 6 × 6\n",
       "\\begin{tabular}{r|llllll}\n",
       "  & TITLE & ARTIST & COUNTRY & COMPANY & PRICE & YEAR\\\\\n",
       "  & <chr> & <chr> & <chr> & <chr> & <chr> & <chr>\\\\\n",
       "\\hline\n",
       "\t1 & Empire Burlesque         & Bob Dylan    & USA & Columbia     & 10.90 & 1985\\\\\n",
       "\t2 & Greatest Hits            & Dolly Parton & USA & RCA          & 9.90  & 1982\\\\\n",
       "\t3 & When a man loves a woman & Percy Sledge & USA & Atlantic     & 8.70  & 1987\\\\\n",
       "\t4 & 1999 Grammy Nominees     & Many         & USA & Grammy       & 10.20 & 1999\\\\\n",
       "\t5 & Big Willie style         & Will Smith   & USA & Columbia     & 9.90  & 1997\\\\\n",
       "\t6 & The dock of the bay      & Otis Redding & USA & Stax Records & 7.90  & 1968\\\\\n",
       "\\end{tabular}\n"
      ],
      "text/markdown": [
       "\n",
       "A data.frame: 6 × 6\n",
       "\n",
       "| <!--/--> | TITLE &lt;chr&gt; | ARTIST &lt;chr&gt; | COUNTRY &lt;chr&gt; | COMPANY &lt;chr&gt; | PRICE &lt;chr&gt; | YEAR &lt;chr&gt; |\n",
       "|---|---|---|---|---|---|---|\n",
       "| 1 | Empire Burlesque         | Bob Dylan    | USA | Columbia     | 10.90 | 1985 |\n",
       "| 2 | Greatest Hits            | Dolly Parton | USA | RCA          | 9.90  | 1982 |\n",
       "| 3 | When a man loves a woman | Percy Sledge | USA | Atlantic     | 8.70  | 1987 |\n",
       "| 4 | 1999 Grammy Nominees     | Many         | USA | Grammy       | 10.20 | 1999 |\n",
       "| 5 | Big Willie style         | Will Smith   | USA | Columbia     | 9.90  | 1997 |\n",
       "| 6 | The dock of the bay      | Otis Redding | USA | Stax Records | 7.90  | 1968 |\n",
       "\n"
      ],
      "text/plain": [
       "  TITLE                    ARTIST       COUNTRY COMPANY      PRICE YEAR\n",
       "1 Empire Burlesque         Bob Dylan    USA     Columbia     10.90 1985\n",
       "2 Greatest Hits            Dolly Parton USA     RCA          9.90  1982\n",
       "3 When a man loves a woman Percy Sledge USA     Atlantic     8.70  1987\n",
       "4 1999 Grammy Nominees     Many         USA     Grammy       10.20 1999\n",
       "5 Big Willie style         Will Smith   USA     Columbia     9.90  1997\n",
       "6 The dock of the bay      Otis Redding USA     Stax Records 7.90  1968"
      ]
     },
     "metadata": {},
     "output_type": "display_data"
    }
   ],
   "source": [
    "head(cds_usa_2)"
   ]
  },
  {
   "cell_type": "markdown",
   "id": "a9850f54-7f73-4cc6-b005-18675ce615ba",
   "metadata": {},
   "source": [
    "![](images/10_01.png)"
   ]
  },
  {
   "cell_type": "markdown",
   "id": "7c0444cd-2a40-4244-967f-3e3497fc33ad",
   "metadata": {},
   "source": [
    "## 1.5. Đọc nội dung XML từ URL"
   ]
  },
  {
   "cell_type": "code",
   "execution_count": 21,
   "id": "c83ee0cc-f0b0-4586-9a3b-2865b9c28a51",
   "metadata": {},
   "outputs": [],
   "source": [
    "url = 'https://www.w3schools.com/xml/cd_catalog.xml'\n",
    "download.file(url, destfile = \"./data/cd_w3schools.xml\")"
   ]
  },
  {
   "cell_type": "code",
   "execution_count": 22,
   "id": "3ff46923-8eab-4c73-bf2a-6afe20d0fb4c",
   "metadata": {},
   "outputs": [],
   "source": [
    "cd = xmlToDataFrame(\"./data/cd_w3schools.xml\")"
   ]
  },
  {
   "cell_type": "code",
   "execution_count": 23,
   "id": "bd3e6e29-19bd-4949-901c-e63ff4458f3a",
   "metadata": {},
   "outputs": [
    {
     "data": {
      "text/html": [
       "<table class=\"dataframe\">\n",
       "<caption>A data.frame: 6 × 6</caption>\n",
       "<thead>\n",
       "\t<tr><th></th><th scope=col>TITLE</th><th scope=col>ARTIST</th><th scope=col>COUNTRY</th><th scope=col>COMPANY</th><th scope=col>PRICE</th><th scope=col>YEAR</th></tr>\n",
       "\t<tr><th></th><th scope=col>&lt;chr&gt;</th><th scope=col>&lt;chr&gt;</th><th scope=col>&lt;chr&gt;</th><th scope=col>&lt;chr&gt;</th><th scope=col>&lt;chr&gt;</th><th scope=col>&lt;chr&gt;</th></tr>\n",
       "</thead>\n",
       "<tbody>\n",
       "\t<tr><th scope=row>1</th><td>Empire Burlesque   </td><td>Bob Dylan      </td><td>USA</td><td>Columbia      </td><td>10.90</td><td>1985</td></tr>\n",
       "\t<tr><th scope=row>2</th><td>Hide your heart    </td><td>Bonnie Tyler   </td><td>UK </td><td>CBS Records   </td><td>9.90 </td><td>1988</td></tr>\n",
       "\t<tr><th scope=row>3</th><td>Greatest Hits      </td><td>Dolly Parton   </td><td>USA</td><td>RCA           </td><td>9.90 </td><td>1982</td></tr>\n",
       "\t<tr><th scope=row>4</th><td>Still got the blues</td><td>Gary Moore     </td><td>UK </td><td>Virgin records</td><td>10.20</td><td>1990</td></tr>\n",
       "\t<tr><th scope=row>5</th><td>Eros               </td><td>Eros Ramazzotti</td><td>EU </td><td>BMG           </td><td>9.90 </td><td>1997</td></tr>\n",
       "\t<tr><th scope=row>6</th><td>One night only     </td><td>Bee Gees       </td><td>UK </td><td>Polydor       </td><td>10.90</td><td>1998</td></tr>\n",
       "</tbody>\n",
       "</table>\n"
      ],
      "text/latex": [
       "A data.frame: 6 × 6\n",
       "\\begin{tabular}{r|llllll}\n",
       "  & TITLE & ARTIST & COUNTRY & COMPANY & PRICE & YEAR\\\\\n",
       "  & <chr> & <chr> & <chr> & <chr> & <chr> & <chr>\\\\\n",
       "\\hline\n",
       "\t1 & Empire Burlesque    & Bob Dylan       & USA & Columbia       & 10.90 & 1985\\\\\n",
       "\t2 & Hide your heart     & Bonnie Tyler    & UK  & CBS Records    & 9.90  & 1988\\\\\n",
       "\t3 & Greatest Hits       & Dolly Parton    & USA & RCA            & 9.90  & 1982\\\\\n",
       "\t4 & Still got the blues & Gary Moore      & UK  & Virgin records & 10.20 & 1990\\\\\n",
       "\t5 & Eros                & Eros Ramazzotti & EU  & BMG            & 9.90  & 1997\\\\\n",
       "\t6 & One night only      & Bee Gees        & UK  & Polydor        & 10.90 & 1998\\\\\n",
       "\\end{tabular}\n"
      ],
      "text/markdown": [
       "\n",
       "A data.frame: 6 × 6\n",
       "\n",
       "| <!--/--> | TITLE &lt;chr&gt; | ARTIST &lt;chr&gt; | COUNTRY &lt;chr&gt; | COMPANY &lt;chr&gt; | PRICE &lt;chr&gt; | YEAR &lt;chr&gt; |\n",
       "|---|---|---|---|---|---|---|\n",
       "| 1 | Empire Burlesque    | Bob Dylan       | USA | Columbia       | 10.90 | 1985 |\n",
       "| 2 | Hide your heart     | Bonnie Tyler    | UK  | CBS Records    | 9.90  | 1988 |\n",
       "| 3 | Greatest Hits       | Dolly Parton    | USA | RCA            | 9.90  | 1982 |\n",
       "| 4 | Still got the blues | Gary Moore      | UK  | Virgin records | 10.20 | 1990 |\n",
       "| 5 | Eros                | Eros Ramazzotti | EU  | BMG            | 9.90  | 1997 |\n",
       "| 6 | One night only      | Bee Gees        | UK  | Polydor        | 10.90 | 1998 |\n",
       "\n"
      ],
      "text/plain": [
       "  TITLE               ARTIST          COUNTRY COMPANY        PRICE YEAR\n",
       "1 Empire Burlesque    Bob Dylan       USA     Columbia       10.90 1985\n",
       "2 Hide your heart     Bonnie Tyler    UK      CBS Records    9.90  1988\n",
       "3 Greatest Hits       Dolly Parton    USA     RCA            9.90  1982\n",
       "4 Still got the blues Gary Moore      UK      Virgin records 10.20 1990\n",
       "5 Eros                Eros Ramazzotti EU      BMG            9.90  1997\n",
       "6 One night only      Bee Gees        UK      Polydor        10.90 1998"
      ]
     },
     "metadata": {},
     "output_type": "display_data"
    }
   ],
   "source": [
    "head(cd)"
   ]
  },
  {
   "cell_type": "markdown",
   "id": "950cf04b-a796-46e9-b5ea-3b0932799971",
   "metadata": {},
   "source": [
    "# 2. JSON\n",
    "## 2.1. Cài đặt thư viện"
   ]
  },
  {
   "cell_type": "code",
   "execution_count": 24,
   "id": "def3bffb-45a4-444a-8070-88513c4fbf1f",
   "metadata": {},
   "outputs": [
    {
     "name": "stderr",
     "output_type": "stream",
     "text": [
      "Installing package into ‘/home/manhcuong/R/x86_64-pc-linux-gnu-library/4.1’\n",
      "(as ‘lib’ is unspecified)\n",
      "\n",
      "Installing package into ‘/home/manhcuong/R/x86_64-pc-linux-gnu-library/4.1’\n",
      "(as ‘lib’ is unspecified)\n",
      "\n"
     ]
    }
   ],
   "source": [
    "install.packages(\"httr\")\n",
    "install.packages(\"jsonlite\")"
   ]
  },
  {
   "cell_type": "markdown",
   "id": "24992f7c-4644-4ffc-ba76-166b90bb6731",
   "metadata": {},
   "source": [
    "## 2.2. Load thư viện"
   ]
  },
  {
   "cell_type": "code",
   "execution_count": 25,
   "id": "a288887a-893e-4724-aea6-054d675fd745",
   "metadata": {},
   "outputs": [],
   "source": [
    "library(\"httr\")\n",
    "library(\"jsonlite\")"
   ]
  },
  {
   "cell_type": "markdown",
   "id": "42fdb702-c181-40ae-956b-28ecf10141c0",
   "metadata": {},
   "source": [
    "## 2.3. Đọc nội dung từ tập tin JSON"
   ]
  },
  {
   "cell_type": "code",
   "execution_count": 26,
   "id": "715f860a-cd13-4c2b-b26f-fc256b672078",
   "metadata": {},
   "outputs": [],
   "source": [
    "json_text = fromJSON(\"./data/books.json\")"
   ]
  },
  {
   "cell_type": "code",
   "execution_count": 28,
   "id": "f00b8c0f-ea05-463e-bd9c-2636d272ed01",
   "metadata": {},
   "outputs": [
    {
     "data": {
      "text/html": [
       "<strong>$Mathematics</strong> = <strong>$book</strong> = <table class=\"dataframe\">\n",
       "<caption>A data.frame: 3 × 6</caption>\n",
       "<thead>\n",
       "\t<tr><th></th><th scope=col>title</th><th scope=col>publisher</th><th scope=col>isbn</th><th scope=col>pages</th><th scope=col>author</th><th scope=col>attribute</th></tr>\n",
       "\t<tr><th></th><th scope=col>&lt;chr&gt;</th><th scope=col>&lt;chr&gt;</th><th scope=col>&lt;chr&gt;</th><th scope=col>&lt;chr&gt;</th><th scope=col>&lt;list&gt;</th><th scope=col>&lt;list&gt;</th></tr>\n",
       "</thead>\n",
       "<tbody>\n",
       "\t<tr><th scope=row>1</th><td>Applied Linear Statistical Models                        </td><td>McGraw Hill</td><td>9780073108742</td><td>1396</td><td>Michael Kutner        , William Li            , Christopher Nachtsheim, John Neter            </td><td>Exercises    , Illustrations, Readability  </td></tr>\n",
       "\t<tr><th scope=row>2</th><td>Mathematical Proofs: A Transition to Advanced Mathematics</td><td>Pearson    </td><td>9780321390530</td><td>365 </td><td>Gary Chartrand , Ping Zhang     , Albert Polimeni</td><td>Exercises  , Readability</td></tr>\n",
       "\t<tr><th scope=row>3</th><td>Mathematical Statistics with Resampling and R            </td><td>Wiley      </td><td>9781118029855</td><td>418 </td><td>Laura Chihara , Tim Hesterberg</td><td>Exercises    , Illustrations, Readability  </td></tr>\n",
       "</tbody>\n",
       "</table>\n"
      ],
      "text/latex": [
       "\\textbf{\\$Mathematics} = \\textbf{\\$book} = A data.frame: 3 × 6\n",
       "\\begin{tabular}{r|llllll}\n",
       "  & title & publisher & isbn & pages & author & attribute\\\\\n",
       "  & <chr> & <chr> & <chr> & <chr> & <list> & <list>\\\\\n",
       "\\hline\n",
       "\t1 & Applied Linear Statistical Models                         & McGraw Hill & 9780073108742 & 1396 & Michael Kutner        , William Li            , Christopher Nachtsheim, John Neter             & Exercises    , Illustrations, Readability  \\\\\n",
       "\t2 & Mathematical Proofs: A Transition to Advanced Mathematics & Pearson     & 9780321390530 & 365  & Gary Chartrand , Ping Zhang     , Albert Polimeni & Exercises  , Readability\\\\\n",
       "\t3 & Mathematical Statistics with Resampling and R             & Wiley       & 9781118029855 & 418  & Laura Chihara , Tim Hesterberg & Exercises    , Illustrations, Readability  \\\\\n",
       "\\end{tabular}\n"
      ],
      "text/markdown": [
       "**$Mathematics** = **$book** = \n",
       "A data.frame: 3 × 6\n",
       "\n",
       "| <!--/--> | title &lt;chr&gt; | publisher &lt;chr&gt; | isbn &lt;chr&gt; | pages &lt;chr&gt; | author &lt;list&gt; | attribute &lt;list&gt; |\n",
       "|---|---|---|---|---|---|---|\n",
       "| 1 | Applied Linear Statistical Models                         | McGraw Hill | 9780073108742 | 1396 | Michael Kutner        , William Li            , Christopher Nachtsheim, John Neter             | Exercises    , Illustrations, Readability   |\n",
       "| 2 | Mathematical Proofs: A Transition to Advanced Mathematics | Pearson     | 9780321390530 | 365  | Gary Chartrand , Ping Zhang     , Albert Polimeni | Exercises  , Readability |\n",
       "| 3 | Mathematical Statistics with Resampling and R             | Wiley       | 9781118029855 | 418  | Laura Chihara , Tim Hesterberg | Exercises    , Illustrations, Readability   |\n",
       "\n"
      ],
      "text/plain": [
       "$Mathematics\n",
       "$Mathematics$book\n",
       "                                                      title   publisher\n",
       "1                         Applied Linear Statistical Models McGraw Hill\n",
       "2 Mathematical Proofs: A Transition to Advanced Mathematics     Pearson\n",
       "3             Mathematical Statistics with Resampling and R       Wiley\n",
       "           isbn pages\n",
       "1 9780073108742  1396\n",
       "2 9780321390530   365\n",
       "3 9781118029855   418\n",
       "                                                          author\n",
       "1 Michael Kutner, William Li, Christopher Nachtsheim, John Neter\n",
       "2                    Gary Chartrand, Ping Zhang, Albert Polimeni\n",
       "3                                  Laura Chihara, Tim Hesterberg\n",
       "                              attribute\n",
       "1 Exercises, Illustrations, Readability\n",
       "2                Exercises, Readability\n",
       "3 Exercises, Illustrations, Readability\n",
       "\n"
      ]
     },
     "metadata": {},
     "output_type": "display_data"
    }
   ],
   "source": [
    "json_text"
   ]
  },
  {
   "cell_type": "code",
   "execution_count": 29,
   "id": "d94f6c7b-8781-4076-b280-220109ffa1e6",
   "metadata": {},
   "outputs": [
    {
     "data": {
      "text/html": [
       "<table class=\"dataframe\">\n",
       "<caption>A data.frame: 3 × 6</caption>\n",
       "<thead>\n",
       "\t<tr><th></th><th scope=col>title</th><th scope=col>publisher</th><th scope=col>isbn</th><th scope=col>pages</th><th scope=col>author</th><th scope=col>attribute</th></tr>\n",
       "\t<tr><th></th><th scope=col>&lt;chr&gt;</th><th scope=col>&lt;chr&gt;</th><th scope=col>&lt;chr&gt;</th><th scope=col>&lt;chr&gt;</th><th scope=col>&lt;list&gt;</th><th scope=col>&lt;list&gt;</th></tr>\n",
       "</thead>\n",
       "<tbody>\n",
       "\t<tr><th scope=row>1</th><td>Applied Linear Statistical Models                        </td><td>McGraw Hill</td><td>9780073108742</td><td>1396</td><td>Michael Kutner        , William Li            , Christopher Nachtsheim, John Neter            </td><td>Exercises    , Illustrations, Readability  </td></tr>\n",
       "\t<tr><th scope=row>2</th><td>Mathematical Proofs: A Transition to Advanced Mathematics</td><td>Pearson    </td><td>9780321390530</td><td>365 </td><td>Gary Chartrand , Ping Zhang     , Albert Polimeni</td><td>Exercises  , Readability</td></tr>\n",
       "\t<tr><th scope=row>3</th><td>Mathematical Statistics with Resampling and R            </td><td>Wiley      </td><td>9781118029855</td><td>418 </td><td>Laura Chihara , Tim Hesterberg</td><td>Exercises    , Illustrations, Readability  </td></tr>\n",
       "</tbody>\n",
       "</table>\n"
      ],
      "text/latex": [
       "A data.frame: 3 × 6\n",
       "\\begin{tabular}{r|llllll}\n",
       "  & title & publisher & isbn & pages & author & attribute\\\\\n",
       "  & <chr> & <chr> & <chr> & <chr> & <list> & <list>\\\\\n",
       "\\hline\n",
       "\t1 & Applied Linear Statistical Models                         & McGraw Hill & 9780073108742 & 1396 & Michael Kutner        , William Li            , Christopher Nachtsheim, John Neter             & Exercises    , Illustrations, Readability  \\\\\n",
       "\t2 & Mathematical Proofs: A Transition to Advanced Mathematics & Pearson     & 9780321390530 & 365  & Gary Chartrand , Ping Zhang     , Albert Polimeni & Exercises  , Readability\\\\\n",
       "\t3 & Mathematical Statistics with Resampling and R             & Wiley       & 9781118029855 & 418  & Laura Chihara , Tim Hesterberg & Exercises    , Illustrations, Readability  \\\\\n",
       "\\end{tabular}\n"
      ],
      "text/markdown": [
       "\n",
       "A data.frame: 3 × 6\n",
       "\n",
       "| <!--/--> | title &lt;chr&gt; | publisher &lt;chr&gt; | isbn &lt;chr&gt; | pages &lt;chr&gt; | author &lt;list&gt; | attribute &lt;list&gt; |\n",
       "|---|---|---|---|---|---|---|\n",
       "| 1 | Applied Linear Statistical Models                         | McGraw Hill | 9780073108742 | 1396 | Michael Kutner        , William Li            , Christopher Nachtsheim, John Neter             | Exercises    , Illustrations, Readability   |\n",
       "| 2 | Mathematical Proofs: A Transition to Advanced Mathematics | Pearson     | 9780321390530 | 365  | Gary Chartrand , Ping Zhang     , Albert Polimeni | Exercises  , Readability |\n",
       "| 3 | Mathematical Statistics with Resampling and R             | Wiley       | 9781118029855 | 418  | Laura Chihara , Tim Hesterberg | Exercises    , Illustrations, Readability   |\n",
       "\n"
      ],
      "text/plain": [
       "  title                                                     publisher  \n",
       "1 Applied Linear Statistical Models                         McGraw Hill\n",
       "2 Mathematical Proofs: A Transition to Advanced Mathematics Pearson    \n",
       "3 Mathematical Statistics with Resampling and R             Wiley      \n",
       "  isbn          pages\n",
       "1 9780073108742 1396 \n",
       "2 9780321390530 365  \n",
       "3 9781118029855 418  \n",
       "  author                                                                                        \n",
       "1 Michael Kutner        , William Li            , Christopher Nachtsheim, John Neter            \n",
       "2 Gary Chartrand , Ping Zhang     , Albert Polimeni                                             \n",
       "3 Laura Chihara , Tim Hesterberg                                                                \n",
       "  attribute                                  \n",
       "1 Exercises    , Illustrations, Readability  \n",
       "2 Exercises  , Readability                   \n",
       "3 Exercises    , Illustrations, Readability  "
      ]
     },
     "metadata": {},
     "output_type": "display_data"
    }
   ],
   "source": [
    "json_text$Mathematics$book"
   ]
  },
  {
   "cell_type": "markdown",
   "id": "e24cdb97-78de-4cc3-ac14-faea5b34346e",
   "metadata": {},
   "source": [
    "## 2.4. Xuất nội dung json qua dataframe"
   ]
  },
  {
   "cell_type": "code",
   "execution_count": 30,
   "id": "a538f917-4009-463a-a86e-550653d63ff3",
   "metadata": {},
   "outputs": [],
   "source": [
    "books = as.data.frame(json_text$Mathematics$book)"
   ]
  },
  {
   "cell_type": "code",
   "execution_count": 31,
   "id": "681af352-bddc-44cc-9f94-57b3c7d545bb",
   "metadata": {},
   "outputs": [
    {
     "data": {
      "text/html": [
       "<table class=\"dataframe\">\n",
       "<caption>A data.frame: 3 × 6</caption>\n",
       "<thead>\n",
       "\t<tr><th></th><th scope=col>title</th><th scope=col>publisher</th><th scope=col>isbn</th><th scope=col>pages</th><th scope=col>author</th><th scope=col>attribute</th></tr>\n",
       "\t<tr><th></th><th scope=col>&lt;chr&gt;</th><th scope=col>&lt;chr&gt;</th><th scope=col>&lt;chr&gt;</th><th scope=col>&lt;chr&gt;</th><th scope=col>&lt;list&gt;</th><th scope=col>&lt;list&gt;</th></tr>\n",
       "</thead>\n",
       "<tbody>\n",
       "\t<tr><th scope=row>1</th><td>Applied Linear Statistical Models                        </td><td>McGraw Hill</td><td>9780073108742</td><td>1396</td><td>Michael Kutner        , William Li            , Christopher Nachtsheim, John Neter            </td><td>Exercises    , Illustrations, Readability  </td></tr>\n",
       "\t<tr><th scope=row>2</th><td>Mathematical Proofs: A Transition to Advanced Mathematics</td><td>Pearson    </td><td>9780321390530</td><td>365 </td><td>Gary Chartrand , Ping Zhang     , Albert Polimeni</td><td>Exercises  , Readability</td></tr>\n",
       "\t<tr><th scope=row>3</th><td>Mathematical Statistics with Resampling and R            </td><td>Wiley      </td><td>9781118029855</td><td>418 </td><td>Laura Chihara , Tim Hesterberg</td><td>Exercises    , Illustrations, Readability  </td></tr>\n",
       "</tbody>\n",
       "</table>\n"
      ],
      "text/latex": [
       "A data.frame: 3 × 6\n",
       "\\begin{tabular}{r|llllll}\n",
       "  & title & publisher & isbn & pages & author & attribute\\\\\n",
       "  & <chr> & <chr> & <chr> & <chr> & <list> & <list>\\\\\n",
       "\\hline\n",
       "\t1 & Applied Linear Statistical Models                         & McGraw Hill & 9780073108742 & 1396 & Michael Kutner        , William Li            , Christopher Nachtsheim, John Neter             & Exercises    , Illustrations, Readability  \\\\\n",
       "\t2 & Mathematical Proofs: A Transition to Advanced Mathematics & Pearson     & 9780321390530 & 365  & Gary Chartrand , Ping Zhang     , Albert Polimeni & Exercises  , Readability\\\\\n",
       "\t3 & Mathematical Statistics with Resampling and R             & Wiley       & 9781118029855 & 418  & Laura Chihara , Tim Hesterberg & Exercises    , Illustrations, Readability  \\\\\n",
       "\\end{tabular}\n"
      ],
      "text/markdown": [
       "\n",
       "A data.frame: 3 × 6\n",
       "\n",
       "| <!--/--> | title &lt;chr&gt; | publisher &lt;chr&gt; | isbn &lt;chr&gt; | pages &lt;chr&gt; | author &lt;list&gt; | attribute &lt;list&gt; |\n",
       "|---|---|---|---|---|---|---|\n",
       "| 1 | Applied Linear Statistical Models                         | McGraw Hill | 9780073108742 | 1396 | Michael Kutner        , William Li            , Christopher Nachtsheim, John Neter             | Exercises    , Illustrations, Readability   |\n",
       "| 2 | Mathematical Proofs: A Transition to Advanced Mathematics | Pearson     | 9780321390530 | 365  | Gary Chartrand , Ping Zhang     , Albert Polimeni | Exercises  , Readability |\n",
       "| 3 | Mathematical Statistics with Resampling and R             | Wiley       | 9781118029855 | 418  | Laura Chihara , Tim Hesterberg | Exercises    , Illustrations, Readability   |\n",
       "\n"
      ],
      "text/plain": [
       "  title                                                     publisher  \n",
       "1 Applied Linear Statistical Models                         McGraw Hill\n",
       "2 Mathematical Proofs: A Transition to Advanced Mathematics Pearson    \n",
       "3 Mathematical Statistics with Resampling and R             Wiley      \n",
       "  isbn          pages\n",
       "1 9780073108742 1396 \n",
       "2 9780321390530 365  \n",
       "3 9781118029855 418  \n",
       "  author                                                                                        \n",
       "1 Michael Kutner        , William Li            , Christopher Nachtsheim, John Neter            \n",
       "2 Gary Chartrand , Ping Zhang     , Albert Polimeni                                             \n",
       "3 Laura Chihara , Tim Hesterberg                                                                \n",
       "  attribute                                  \n",
       "1 Exercises    , Illustrations, Readability  \n",
       "2 Exercises  , Readability                   \n",
       "3 Exercises    , Illustrations, Readability  "
      ]
     },
     "metadata": {},
     "output_type": "display_data"
    }
   ],
   "source": [
    "books"
   ]
  },
  {
   "cell_type": "markdown",
   "id": "3ee9f7fc-289b-4ce0-99e3-5d8da81410ad",
   "metadata": {},
   "source": [
    "## 2.5. Ghi nội dung vào JSON file"
   ]
  },
  {
   "cell_type": "code",
   "execution_count": 32,
   "id": "00c9ae99-7445-43b3-ab84-9ab6441b733f",
   "metadata": {},
   "outputs": [],
   "source": [
    "json_books = toJSON(books)\n",
    "write(json_books, file = \"./data/books_demo.json\")"
   ]
  },
  {
   "cell_type": "markdown",
   "id": "96318b36-4cc7-49d5-b510-d4ee00beb6a5",
   "metadata": {},
   "source": [
    "## 2.6. Đọc nội dung JSON từ Internet"
   ]
  },
  {
   "cell_type": "code",
   "execution_count": 34,
   "id": "445c3f0e-4ef1-459e-9396-df926bf67737",
   "metadata": {},
   "outputs": [],
   "source": [
    "url = \"http://phuong13021982.pythonanywhere.com/mystore/product_service/\"\n",
    "get_url = GET(url)\n",
    "content = rawToChar(get_url$content)\n",
    "json = fromJSON(content)\n",
    "\n",
    "tivis = data.frame(json)"
   ]
  },
  {
   "cell_type": "code",
   "execution_count": 35,
   "id": "7bc770dc-5808-4019-9bff-9d067116b64a",
   "metadata": {},
   "outputs": [
    {
     "data": {
      "text/html": [
       "<table class=\"dataframe\">\n",
       "<caption>A data.frame: 12 × 5</caption>\n",
       "<thead>\n",
       "\t<tr><th></th><th scope=col>pk</th><th scope=col>name</th><th scope=col>fee</th><th scope=col>description</th><th scope=col>image</th></tr>\n",
       "\t<tr><th></th><th scope=col>&lt;int&gt;</th><th scope=col>&lt;chr&gt;</th><th scope=col>&lt;int&gt;</th><th scope=col>&lt;chr&gt;</th><th scope=col>&lt;chr&gt;</th></tr>\n",
       "</thead>\n",
       "<tbody>\n",
       "\t<tr><th scope=row>1</th><td> 2</td><td>Asanzo 50 inch          </td><td> 9000000</td><td>Tivi Asanzo 4K màn  hình phẳng 50 inch              </td><td>images/asanzo_4k_50_11690000.jpg</td></tr>\n",
       "\t<tr><th scope=row>2</th><td>11</td><td>Dell Vostro V3568 XF6C61</td><td>11999000</td><td>Chip: Intel Core i5-7200U, RAM: DDR4 4GB (2 khe cắm)</td><td>images/Dell_vostro.jpg          </td></tr>\n",
       "\t<tr><th scope=row>3</th><td>12</td><td>Macbook Air 2017 MQD32  </td><td>18990000</td><td>Intel Core i5 Dual-core 1.8 GHz, 8GB 1600 MHz LPDDR3</td><td>images/MacbooAir.jpg            </td></tr>\n",
       "\t<tr><th scope=row>4</th><td> 3</td><td>Panasonic 40 inch       </td><td> 6590000</td><td>Tivi Panasonic màn hình phẳng 40 inch               </td><td>images/panansonic_40_6590000.jpg</td></tr>\n",
       "\t<tr><th scope=row>5</th><td> 5</td><td>Samsung 32 inch         </td><td> 5999000</td><td>Tivi Samsung thế hệ mới 32 inch                     </td><td>images/samsung_32_5990000.jpg   </td></tr>\n",
       "\t<tr><th scope=row>6</th><td> 9</td><td>Samsung Galaxy J2 Prime </td><td> 2690000</td><td>Chính hãng, Nguyên seal, Mới 100%, Chưa Active      </td><td>images/SamsungPrime.jpg         </td></tr>\n",
       "\t<tr><th scope=row>7</th><td> 6</td><td>Sharp 45 inch           </td><td> 7490000</td><td>Tivi Shrap màn hình cong siêu mỏng                  </td><td>images/sharp_45_7490000.jpg     </td></tr>\n",
       "\t<tr><th scope=row>8</th><td> 7</td><td>Sony 48 inch            </td><td>11599000</td><td>Tivi Sony LCD màn hình phẳng 48 inch                </td><td>images/sony_48_11599000.png     </td></tr>\n",
       "\t<tr><th scope=row>9</th><td> 4</td><td>Sony 55 inch            </td><td>20590000</td><td>Tivi Sony LED màn hình phẳng 55 inch                </td><td>images/sony_55_20590000.jpg     </td></tr>\n",
       "\t<tr><th scope=row>10</th><td> 8</td><td>TCL 55 inch             </td><td> 9900000</td><td>Tivi TCL Smart màn hình cong 55 inch                </td><td>images/tcl_55_9900000.jpg       </td></tr>\n",
       "\t<tr><th scope=row>11</th><td> 1</td><td>Toshiba 32 inch         </td><td> 4590000</td><td>Tivi LCD Toshiba 32 inch màn hình phẳng             </td><td>images/toshiba32_4590000.jpg    </td></tr>\n",
       "\t<tr><th scope=row>12</th><td>10</td><td>iPad WiFi 32GB New 2018 </td><td> 8390000</td><td>Nhôm nguyên khối, Retina 9.7 inch                   </td><td>images/iPad_Samsung_Wifi.jpg    </td></tr>\n",
       "</tbody>\n",
       "</table>\n"
      ],
      "text/latex": [
       "A data.frame: 12 × 5\n",
       "\\begin{tabular}{r|lllll}\n",
       "  & pk & name & fee & description & image\\\\\n",
       "  & <int> & <chr> & <int> & <chr> & <chr>\\\\\n",
       "\\hline\n",
       "\t1 &  2 & Asanzo 50 inch           &  9000000 & Tivi Asanzo 4K màn  hình phẳng 50 inch               & images/asanzo\\_4k\\_50\\_11690000.jpg\\\\\n",
       "\t2 & 11 & Dell Vostro V3568 XF6C61 & 11999000 & Chip: Intel Core i5-7200U, RAM: DDR4 4GB (2 khe cắm) & images/Dell\\_vostro.jpg          \\\\\n",
       "\t3 & 12 & Macbook Air 2017 MQD32   & 18990000 & Intel Core i5 Dual-core 1.8 GHz, 8GB 1600 MHz LPDDR3 & images/MacbooAir.jpg            \\\\\n",
       "\t4 &  3 & Panasonic 40 inch        &  6590000 & Tivi Panasonic màn hình phẳng 40 inch                & images/panansonic\\_40\\_6590000.jpg\\\\\n",
       "\t5 &  5 & Samsung 32 inch          &  5999000 & Tivi Samsung thế hệ mới 32 inch                      & images/samsung\\_32\\_5990000.jpg   \\\\\n",
       "\t6 &  9 & Samsung Galaxy J2 Prime  &  2690000 & Chính hãng, Nguyên seal, Mới 100\\%, Chưa Active       & images/SamsungPrime.jpg         \\\\\n",
       "\t7 &  6 & Sharp 45 inch            &  7490000 & Tivi Shrap màn hình cong siêu mỏng                   & images/sharp\\_45\\_7490000.jpg     \\\\\n",
       "\t8 &  7 & Sony 48 inch             & 11599000 & Tivi Sony LCD màn hình phẳng 48 inch                 & images/sony\\_48\\_11599000.png     \\\\\n",
       "\t9 &  4 & Sony 55 inch             & 20590000 & Tivi Sony LED màn hình phẳng 55 inch                 & images/sony\\_55\\_20590000.jpg     \\\\\n",
       "\t10 &  8 & TCL 55 inch              &  9900000 & Tivi TCL Smart màn hình cong 55 inch                 & images/tcl\\_55\\_9900000.jpg       \\\\\n",
       "\t11 &  1 & Toshiba 32 inch          &  4590000 & Tivi LCD Toshiba 32 inch màn hình phẳng              & images/toshiba32\\_4590000.jpg    \\\\\n",
       "\t12 & 10 & iPad WiFi 32GB New 2018  &  8390000 & Nhôm nguyên khối, Retina 9.7 inch                    & images/iPad\\_Samsung\\_Wifi.jpg    \\\\\n",
       "\\end{tabular}\n"
      ],
      "text/markdown": [
       "\n",
       "A data.frame: 12 × 5\n",
       "\n",
       "| <!--/--> | pk &lt;int&gt; | name &lt;chr&gt; | fee &lt;int&gt; | description &lt;chr&gt; | image &lt;chr&gt; |\n",
       "|---|---|---|---|---|---|\n",
       "| 1 |  2 | Asanzo 50 inch           |  9000000 | Tivi Asanzo 4K màn  hình phẳng 50 inch               | images/asanzo_4k_50_11690000.jpg |\n",
       "| 2 | 11 | Dell Vostro V3568 XF6C61 | 11999000 | Chip: Intel Core i5-7200U, RAM: DDR4 4GB (2 khe cắm) | images/Dell_vostro.jpg           |\n",
       "| 3 | 12 | Macbook Air 2017 MQD32   | 18990000 | Intel Core i5 Dual-core 1.8 GHz, 8GB 1600 MHz LPDDR3 | images/MacbooAir.jpg             |\n",
       "| 4 |  3 | Panasonic 40 inch        |  6590000 | Tivi Panasonic màn hình phẳng 40 inch                | images/panansonic_40_6590000.jpg |\n",
       "| 5 |  5 | Samsung 32 inch          |  5999000 | Tivi Samsung thế hệ mới 32 inch                      | images/samsung_32_5990000.jpg    |\n",
       "| 6 |  9 | Samsung Galaxy J2 Prime  |  2690000 | Chính hãng, Nguyên seal, Mới 100%, Chưa Active       | images/SamsungPrime.jpg          |\n",
       "| 7 |  6 | Sharp 45 inch            |  7490000 | Tivi Shrap màn hình cong siêu mỏng                   | images/sharp_45_7490000.jpg      |\n",
       "| 8 |  7 | Sony 48 inch             | 11599000 | Tivi Sony LCD màn hình phẳng 48 inch                 | images/sony_48_11599000.png      |\n",
       "| 9 |  4 | Sony 55 inch             | 20590000 | Tivi Sony LED màn hình phẳng 55 inch                 | images/sony_55_20590000.jpg      |\n",
       "| 10 |  8 | TCL 55 inch              |  9900000 | Tivi TCL Smart màn hình cong 55 inch                 | images/tcl_55_9900000.jpg        |\n",
       "| 11 |  1 | Toshiba 32 inch          |  4590000 | Tivi LCD Toshiba 32 inch màn hình phẳng              | images/toshiba32_4590000.jpg     |\n",
       "| 12 | 10 | iPad WiFi 32GB New 2018  |  8390000 | Nhôm nguyên khối, Retina 9.7 inch                    | images/iPad_Samsung_Wifi.jpg     |\n",
       "\n"
      ],
      "text/plain": [
       "   pk name                     fee     \n",
       "1   2 Asanzo 50 inch            9000000\n",
       "2  11 Dell Vostro V3568 XF6C61 11999000\n",
       "3  12 Macbook Air 2017 MQD32   18990000\n",
       "4   3 Panasonic 40 inch         6590000\n",
       "5   5 Samsung 32 inch           5999000\n",
       "6   9 Samsung Galaxy J2 Prime   2690000\n",
       "7   6 Sharp 45 inch             7490000\n",
       "8   7 Sony 48 inch             11599000\n",
       "9   4 Sony 55 inch             20590000\n",
       "10  8 TCL 55 inch               9900000\n",
       "11  1 Toshiba 32 inch           4590000\n",
       "12 10 iPad WiFi 32GB New 2018   8390000\n",
       "   description                                         \n",
       "1  Tivi Asanzo 4K màn  hình phẳng 50 inch              \n",
       "2  Chip: Intel Core i5-7200U, RAM: DDR4 4GB (2 khe cắm)\n",
       "3  Intel Core i5 Dual-core 1.8 GHz, 8GB 1600 MHz LPDDR3\n",
       "4  Tivi Panasonic màn hình phẳng 40 inch               \n",
       "5  Tivi Samsung thế hệ mới 32 inch                     \n",
       "6  Chính hãng, Nguyên seal, Mới 100%, Chưa Active      \n",
       "7  Tivi Shrap màn hình cong siêu mỏng                  \n",
       "8  Tivi Sony LCD màn hình phẳng 48 inch                \n",
       "9  Tivi Sony LED màn hình phẳng 55 inch                \n",
       "10 Tivi TCL Smart màn hình cong 55 inch                \n",
       "11 Tivi LCD Toshiba 32 inch màn hình phẳng             \n",
       "12 Nhôm nguyên khối, Retina 9.7 inch                   \n",
       "   image                           \n",
       "1  images/asanzo_4k_50_11690000.jpg\n",
       "2  images/Dell_vostro.jpg          \n",
       "3  images/MacbooAir.jpg            \n",
       "4  images/panansonic_40_6590000.jpg\n",
       "5  images/samsung_32_5990000.jpg   \n",
       "6  images/SamsungPrime.jpg         \n",
       "7  images/sharp_45_7490000.jpg     \n",
       "8  images/sony_48_11599000.png     \n",
       "9  images/sony_55_20590000.jpg     \n",
       "10 images/tcl_55_9900000.jpg       \n",
       "11 images/toshiba32_4590000.jpg    \n",
       "12 images/iPad_Samsung_Wifi.jpg    "
      ]
     },
     "metadata": {},
     "output_type": "display_data"
    }
   ],
   "source": [
    "tivis"
   ]
  },
  {
   "cell_type": "code",
   "execution_count": null,
   "id": "e944dc01-f47c-45da-8dbb-f7475b01646c",
   "metadata": {},
   "outputs": [],
   "source": []
  }
 ],
 "metadata": {
  "kernelspec": {
   "display_name": "R",
   "language": "R",
   "name": "ir"
  },
  "language_info": {
   "codemirror_mode": "r",
   "file_extension": ".r",
   "mimetype": "text/x-r-source",
   "name": "R",
   "pygments_lexer": "r",
   "version": "4.1.0"
  }
 },
 "nbformat": 4,
 "nbformat_minor": 5
}
