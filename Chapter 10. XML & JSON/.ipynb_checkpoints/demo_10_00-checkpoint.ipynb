{
 "cells": [
  {
   "cell_type": "markdown",
   "id": "86640e47-4e1e-40f5-b4ba-c3fb1b4d36ad",
   "metadata": {},
   "source": [
    "# 1. XML\n",
    "## 1.1. Cài đặt thư viện `XML`"
   ]
  },
  {
   "cell_type": "code",
   "execution_count": 1,
   "id": "c5b5bb26-7f8c-4a5e-9971-1e3880987242",
   "metadata": {},
   "outputs": [
    {
     "name": "stderr",
     "output_type": "stream",
     "text": [
      "Installing package into ‘/home/manhcuong/R/x86_64-pc-linux-gnu-library/4.1’\n",
      "(as ‘lib’ is unspecified)\n",
      "\n"
     ]
    }
   ],
   "source": [
    "install.packages('XML')"
   ]
  },
  {
   "cell_type": "markdown",
   "id": "ad5cc7c8-46a7-4d67-a520-43ef4b5922a4",
   "metadata": {},
   "source": [
    "## 1.2. Load package `XML` và các dependencies packages"
   ]
  },
  {
   "cell_type": "code",
   "execution_count": 2,
   "id": "14c4787a-4cb4-478c-be21-fb904100d2bd",
   "metadata": {},
   "outputs": [],
   "source": [
    "library('XML')\n",
    "library('methods')"
   ]
  },
  {
   "cell_type": "markdown",
   "id": "1b94c447-591c-4868-83be-7db658a48a91",
   "metadata": {},
   "source": [
    "## 1.3. Xuất nội dung XML qua dataframe"
   ]
  },
  {
   "cell_type": "code",
   "execution_count": 6,
   "id": "7cfa652a-771a-4a6a-8bfe-2e06888b3255",
   "metadata": {},
   "outputs": [],
   "source": [
    "data = xmlToDataFrame(\"./data/cd_demo.xml\")"
   ]
  },
  {
   "cell_type": "code",
   "execution_count": 7,
   "id": "8ff05fea-495c-4595-bae9-7734bb1e06c9",
   "metadata": {},
   "outputs": [
    {
     "data": {
      "text/html": [
       "<table class=\"dataframe\">\n",
       "<caption>A data.frame: 6 × 6</caption>\n",
       "<thead>\n",
       "\t<tr><th></th><th scope=col>TITLE</th><th scope=col>ARTIST</th><th scope=col>COUNTRY</th><th scope=col>COMPANY</th><th scope=col>PRICE</th><th scope=col>YEAR</th></tr>\n",
       "\t<tr><th></th><th scope=col>&lt;chr&gt;</th><th scope=col>&lt;chr&gt;</th><th scope=col>&lt;chr&gt;</th><th scope=col>&lt;chr&gt;</th><th scope=col>&lt;chr&gt;</th><th scope=col>&lt;chr&gt;</th></tr>\n",
       "</thead>\n",
       "<tbody>\n",
       "\t<tr><th scope=row>1</th><td>Empire Burlesque   </td><td>Bob Dylan      </td><td>USA</td><td>Columbia      </td><td>10.90</td><td>1985</td></tr>\n",
       "\t<tr><th scope=row>2</th><td>Hide your heart    </td><td>Bonnie Tyler   </td><td>UK </td><td>CBS Records   </td><td>9.90 </td><td>1988</td></tr>\n",
       "\t<tr><th scope=row>3</th><td>Greatest Hits      </td><td>Dolly Parton   </td><td>USA</td><td>RCA           </td><td>9.90 </td><td>1982</td></tr>\n",
       "\t<tr><th scope=row>4</th><td>Still got the blues</td><td>Gary Moore     </td><td>UK </td><td>Virgin records</td><td>10.20</td><td>1990</td></tr>\n",
       "\t<tr><th scope=row>5</th><td>Eros               </td><td>Eros Ramazzotti</td><td>EU </td><td>BMG           </td><td>9.90 </td><td>1997</td></tr>\n",
       "\t<tr><th scope=row>6</th><td>One night only     </td><td>Bee Gees       </td><td>UK </td><td>Polydor       </td><td>10.90</td><td>1998</td></tr>\n",
       "</tbody>\n",
       "</table>\n"
      ],
      "text/latex": [
       "A data.frame: 6 × 6\n",
       "\\begin{tabular}{r|llllll}\n",
       "  & TITLE & ARTIST & COUNTRY & COMPANY & PRICE & YEAR\\\\\n",
       "  & <chr> & <chr> & <chr> & <chr> & <chr> & <chr>\\\\\n",
       "\\hline\n",
       "\t1 & Empire Burlesque    & Bob Dylan       & USA & Columbia       & 10.90 & 1985\\\\\n",
       "\t2 & Hide your heart     & Bonnie Tyler    & UK  & CBS Records    & 9.90  & 1988\\\\\n",
       "\t3 & Greatest Hits       & Dolly Parton    & USA & RCA            & 9.90  & 1982\\\\\n",
       "\t4 & Still got the blues & Gary Moore      & UK  & Virgin records & 10.20 & 1990\\\\\n",
       "\t5 & Eros                & Eros Ramazzotti & EU  & BMG            & 9.90  & 1997\\\\\n",
       "\t6 & One night only      & Bee Gees        & UK  & Polydor        & 10.90 & 1998\\\\\n",
       "\\end{tabular}\n"
      ],
      "text/markdown": [
       "\n",
       "A data.frame: 6 × 6\n",
       "\n",
       "| <!--/--> | TITLE &lt;chr&gt; | ARTIST &lt;chr&gt; | COUNTRY &lt;chr&gt; | COMPANY &lt;chr&gt; | PRICE &lt;chr&gt; | YEAR &lt;chr&gt; |\n",
       "|---|---|---|---|---|---|---|\n",
       "| 1 | Empire Burlesque    | Bob Dylan       | USA | Columbia       | 10.90 | 1985 |\n",
       "| 2 | Hide your heart     | Bonnie Tyler    | UK  | CBS Records    | 9.90  | 1988 |\n",
       "| 3 | Greatest Hits       | Dolly Parton    | USA | RCA            | 9.90  | 1982 |\n",
       "| 4 | Still got the blues | Gary Moore      | UK  | Virgin records | 10.20 | 1990 |\n",
       "| 5 | Eros                | Eros Ramazzotti | EU  | BMG            | 9.90  | 1997 |\n",
       "| 6 | One night only      | Bee Gees        | UK  | Polydor        | 10.90 | 1998 |\n",
       "\n"
      ],
      "text/plain": [
       "  TITLE               ARTIST          COUNTRY COMPANY        PRICE YEAR\n",
       "1 Empire Burlesque    Bob Dylan       USA     Columbia       10.90 1985\n",
       "2 Hide your heart     Bonnie Tyler    UK      CBS Records    9.90  1988\n",
       "3 Greatest Hits       Dolly Parton    USA     RCA            9.90  1982\n",
       "4 Still got the blues Gary Moore      UK      Virgin records 10.20 1990\n",
       "5 Eros                Eros Ramazzotti EU      BMG            9.90  1997\n",
       "6 One night only      Bee Gees        UK      Polydor        10.90 1998"
      ]
     },
     "metadata": {},
     "output_type": "display_data"
    }
   ],
   "source": [
    "head(data)"
   ]
  },
  {
   "cell_type": "markdown",
   "id": "b9dc4d88-26e8-442d-9d3c-438210153e79",
   "metadata": {},
   "source": [
    "## 1.4. Ghi nội dung ra file XML\n",
    "### 1.4.1. Cách 1"
   ]
  },
  {
   "cell_type": "code",
   "execution_count": 10,
   "id": "803a5173-640b-4f3b-8f3a-8c156ab1b1fc",
   "metadata": {},
   "outputs": [],
   "source": [
    "CDs_USA = data[data['COUNTRY'] == 'USA',]"
   ]
  },
  {
   "cell_type": "code",
   "execution_count": 11,
   "id": "fa4875f9-f3c5-4ad9-92fa-40c47dd71816",
   "metadata": {},
   "outputs": [
    {
     "data": {
      "text/html": [
       "<table class=\"dataframe\">\n",
       "<caption>A data.frame: 7 × 6</caption>\n",
       "<thead>\n",
       "\t<tr><th></th><th scope=col>TITLE</th><th scope=col>ARTIST</th><th scope=col>COUNTRY</th><th scope=col>COMPANY</th><th scope=col>PRICE</th><th scope=col>YEAR</th></tr>\n",
       "\t<tr><th></th><th scope=col>&lt;chr&gt;</th><th scope=col>&lt;chr&gt;</th><th scope=col>&lt;chr&gt;</th><th scope=col>&lt;chr&gt;</th><th scope=col>&lt;chr&gt;</th><th scope=col>&lt;chr&gt;</th></tr>\n",
       "</thead>\n",
       "<tbody>\n",
       "\t<tr><th scope=row>1</th><td>Empire Burlesque        </td><td>Bob Dylan   </td><td>USA</td><td>Columbia    </td><td>10.90</td><td>1985</td></tr>\n",
       "\t<tr><th scope=row>3</th><td>Greatest Hits           </td><td>Dolly Parton</td><td>USA</td><td>RCA         </td><td>9.90 </td><td>1982</td></tr>\n",
       "\t<tr><th scope=row>10</th><td>When a man loves a woman</td><td>Percy Sledge</td><td>USA</td><td>Atlantic    </td><td>8.70 </td><td>1987</td></tr>\n",
       "\t<tr><th scope=row>12</th><td>1999 Grammy Nominees    </td><td>Many        </td><td>USA</td><td>Grammy      </td><td>10.20</td><td>1999</td></tr>\n",
       "\t<tr><th scope=row>14</th><td>Big Willie style        </td><td>Will Smith  </td><td>USA</td><td>Columbia    </td><td>9.90 </td><td>1997</td></tr>\n",
       "\t<tr><th scope=row>23</th><td>The dock of the bay     </td><td>Otis Redding</td><td>USA</td><td>Stax Records</td><td>7.90 </td><td>1968</td></tr>\n",
       "\t<tr><th scope=row>26</th><td>Unchain my heart        </td><td>Joe Cocker  </td><td>USA</td><td>EMI         </td><td>8.20 </td><td>1987</td></tr>\n",
       "</tbody>\n",
       "</table>\n"
      ],
      "text/latex": [
       "A data.frame: 7 × 6\n",
       "\\begin{tabular}{r|llllll}\n",
       "  & TITLE & ARTIST & COUNTRY & COMPANY & PRICE & YEAR\\\\\n",
       "  & <chr> & <chr> & <chr> & <chr> & <chr> & <chr>\\\\\n",
       "\\hline\n",
       "\t1 & Empire Burlesque         & Bob Dylan    & USA & Columbia     & 10.90 & 1985\\\\\n",
       "\t3 & Greatest Hits            & Dolly Parton & USA & RCA          & 9.90  & 1982\\\\\n",
       "\t10 & When a man loves a woman & Percy Sledge & USA & Atlantic     & 8.70  & 1987\\\\\n",
       "\t12 & 1999 Grammy Nominees     & Many         & USA & Grammy       & 10.20 & 1999\\\\\n",
       "\t14 & Big Willie style         & Will Smith   & USA & Columbia     & 9.90  & 1997\\\\\n",
       "\t23 & The dock of the bay      & Otis Redding & USA & Stax Records & 7.90  & 1968\\\\\n",
       "\t26 & Unchain my heart         & Joe Cocker   & USA & EMI          & 8.20  & 1987\\\\\n",
       "\\end{tabular}\n"
      ],
      "text/markdown": [
       "\n",
       "A data.frame: 7 × 6\n",
       "\n",
       "| <!--/--> | TITLE &lt;chr&gt; | ARTIST &lt;chr&gt; | COUNTRY &lt;chr&gt; | COMPANY &lt;chr&gt; | PRICE &lt;chr&gt; | YEAR &lt;chr&gt; |\n",
       "|---|---|---|---|---|---|---|\n",
       "| 1 | Empire Burlesque         | Bob Dylan    | USA | Columbia     | 10.90 | 1985 |\n",
       "| 3 | Greatest Hits            | Dolly Parton | USA | RCA          | 9.90  | 1982 |\n",
       "| 10 | When a man loves a woman | Percy Sledge | USA | Atlantic     | 8.70  | 1987 |\n",
       "| 12 | 1999 Grammy Nominees     | Many         | USA | Grammy       | 10.20 | 1999 |\n",
       "| 14 | Big Willie style         | Will Smith   | USA | Columbia     | 9.90  | 1997 |\n",
       "| 23 | The dock of the bay      | Otis Redding | USA | Stax Records | 7.90  | 1968 |\n",
       "| 26 | Unchain my heart         | Joe Cocker   | USA | EMI          | 8.20  | 1987 |\n",
       "\n"
      ],
      "text/plain": [
       "   TITLE                    ARTIST       COUNTRY COMPANY      PRICE YEAR\n",
       "1  Empire Burlesque         Bob Dylan    USA     Columbia     10.90 1985\n",
       "3  Greatest Hits            Dolly Parton USA     RCA          9.90  1982\n",
       "10 When a man loves a woman Percy Sledge USA     Atlantic     8.70  1987\n",
       "12 1999 Grammy Nominees     Many         USA     Grammy       10.20 1999\n",
       "14 Big Willie style         Will Smith   USA     Columbia     9.90  1997\n",
       "23 The dock of the bay      Otis Redding USA     Stax Records 7.90  1968\n",
       "26 Unchain my heart         Joe Cocker   USA     EMI          8.20  1987"
      ]
     },
     "metadata": {},
     "output_type": "display_data"
    }
   ],
   "source": [
    "CDs_USA"
   ]
  },
  {
   "cell_type": "code",
   "execution_count": 12,
   "id": "6d1aea4f-d3f1-473c-9d3a-ab8e33f85667",
   "metadata": {},
   "outputs": [],
   "source": [
    "# tạo một tài liệu XML doc\n",
    "doc = newXMLDoc()\n",
    "\n",
    "# tạo XML tree\n",
    "top = newXMLNode(\"CATALOG\", doc = doc)\n",
    "for (row in 1:nrow(CDs_USA)) {\n",
    "    cdnode = newXMLNode(\"CD\", parent = top) # node root\n",
    "    newXMLNode(\"TITLE\", CDs_USA[row, 'TITLE'], parent=cdnode)\n",
    "    newXMLNode(\"ARTIST\", CDs_USA[row, 'ARTIST'], parent=cdnode)\n",
    "    newXMLNode(\"COUNTRY\", CDs_USA[row, 'COUNTRY'], parent=cdnode)\n",
    "    newXMLNode(\"COMPANY\", CDs_USA[row, 'COMPANY'], parent=cdnode)\n",
    "    newXMLNode(\"PRICE\", CDs_USA[row, 'PRICE'], parent=cdnode)\n",
    "    newXMLNode(\"YEAR\", CDs_USA[row, 'YEAR'], parent=cdnode)\n",
    "}"
   ]
  },
  {
   "cell_type": "code",
   "execution_count": 15,
   "id": "577e6cc8-0064-457c-bdee-4b9cff6f2998",
   "metadata": {},
   "outputs": [],
   "source": [
    "# lưu file\n",
    "cat(saveXML(doc, indent = TRUE,\n",
    "           prefix = '<?xml version=\"1.0\" encoding=\"utf-8\" standalone=\"no\"?>\\n'),\n",
    "           file = \"./data/cd_usa.xml\")"
   ]
  },
  {
   "cell_type": "markdown",
   "id": "81acf48b-936a-49d6-981e-228325b544ea",
   "metadata": {},
   "source": [
    "![](images/10_00.png)"
   ]
  },
  {
   "cell_type": "markdown",
   "id": "97f9b484-555c-46df-8874-b225e506bcd9",
   "metadata": {},
   "source": [
    "### 1.4.2. Cách 2"
   ]
  },
  {
   "cell_type": "code",
   "execution_count": 16,
   "id": "066fb8d8-c8ad-4e63-8193-021aedb56351",
   "metadata": {},
   "outputs": [
    {
     "data": {
      "text/html": [
       "'./data/cds_usa_2.xml'"
      ],
      "text/latex": [
       "'./data/cds\\_usa\\_2.xml'"
      ],
      "text/markdown": [
       "'./data/cds_usa_2.xml'"
      ],
      "text/plain": [
       "[1] \"./data/cds_usa_2.xml\""
      ]
     },
     "metadata": {},
     "output_type": "display_data"
    }
   ],
   "source": [
    "doc_xml = newXMLDoc(isHTML = FALSE)\n",
    "table_node = newXMLNode(\"CATALOG\", doc = doc_xml)\n",
    "row_data = apply(CDs_USA, 1, function(x) {\n",
    "    z1 = newXMLNode(\"CD\")\n",
    "    addChildren(z1, lapply(names(x), function(y) newXMLNode(y, x[y]))) # (tên node, giá tri trong node)\n",
    "})\n",
    "                \n",
    "xmlParent(row_data) = table_node\n",
    "saveXML(doc_xml, file = \"./data/cds_usa_2.xml\")"
   ]
  },
  {
   "cell_type": "code",
   "execution_count": 17,
   "id": "a7ed8ec3-1988-424a-ad83-c1e7dce416eb",
   "metadata": {},
   "outputs": [],
   "source": [
    "cds_usa_2 = xmlToDataFrame(\"./data/cds_usa_2.xml\")"
   ]
  },
  {
   "cell_type": "code",
   "execution_count": 18,
   "id": "08bc1efc-0d6e-4669-b5f5-3e64dcea22eb",
   "metadata": {},
   "outputs": [
    {
     "data": {
      "text/html": [
       "<table class=\"dataframe\">\n",
       "<caption>A data.frame: 6 × 6</caption>\n",
       "<thead>\n",
       "\t<tr><th></th><th scope=col>TITLE</th><th scope=col>ARTIST</th><th scope=col>COUNTRY</th><th scope=col>COMPANY</th><th scope=col>PRICE</th><th scope=col>YEAR</th></tr>\n",
       "\t<tr><th></th><th scope=col>&lt;chr&gt;</th><th scope=col>&lt;chr&gt;</th><th scope=col>&lt;chr&gt;</th><th scope=col>&lt;chr&gt;</th><th scope=col>&lt;chr&gt;</th><th scope=col>&lt;chr&gt;</th></tr>\n",
       "</thead>\n",
       "<tbody>\n",
       "\t<tr><th scope=row>1</th><td>Empire Burlesque        </td><td>Bob Dylan   </td><td>USA</td><td>Columbia    </td><td>10.90</td><td>1985</td></tr>\n",
       "\t<tr><th scope=row>2</th><td>Greatest Hits           </td><td>Dolly Parton</td><td>USA</td><td>RCA         </td><td>9.90 </td><td>1982</td></tr>\n",
       "\t<tr><th scope=row>3</th><td>When a man loves a woman</td><td>Percy Sledge</td><td>USA</td><td>Atlantic    </td><td>8.70 </td><td>1987</td></tr>\n",
       "\t<tr><th scope=row>4</th><td>1999 Grammy Nominees    </td><td>Many        </td><td>USA</td><td>Grammy      </td><td>10.20</td><td>1999</td></tr>\n",
       "\t<tr><th scope=row>5</th><td>Big Willie style        </td><td>Will Smith  </td><td>USA</td><td>Columbia    </td><td>9.90 </td><td>1997</td></tr>\n",
       "\t<tr><th scope=row>6</th><td>The dock of the bay     </td><td>Otis Redding</td><td>USA</td><td>Stax Records</td><td>7.90 </td><td>1968</td></tr>\n",
       "</tbody>\n",
       "</table>\n"
      ],
      "text/latex": [
       "A data.frame: 6 × 6\n",
       "\\begin{tabular}{r|llllll}\n",
       "  & TITLE & ARTIST & COUNTRY & COMPANY & PRICE & YEAR\\\\\n",
       "  & <chr> & <chr> & <chr> & <chr> & <chr> & <chr>\\\\\n",
       "\\hline\n",
       "\t1 & Empire Burlesque         & Bob Dylan    & USA & Columbia     & 10.90 & 1985\\\\\n",
       "\t2 & Greatest Hits            & Dolly Parton & USA & RCA          & 9.90  & 1982\\\\\n",
       "\t3 & When a man loves a woman & Percy Sledge & USA & Atlantic     & 8.70  & 1987\\\\\n",
       "\t4 & 1999 Grammy Nominees     & Many         & USA & Grammy       & 10.20 & 1999\\\\\n",
       "\t5 & Big Willie style         & Will Smith   & USA & Columbia     & 9.90  & 1997\\\\\n",
       "\t6 & The dock of the bay      & Otis Redding & USA & Stax Records & 7.90  & 1968\\\\\n",
       "\\end{tabular}\n"
      ],
      "text/markdown": [
       "\n",
       "A data.frame: 6 × 6\n",
       "\n",
       "| <!--/--> | TITLE &lt;chr&gt; | ARTIST &lt;chr&gt; | COUNTRY &lt;chr&gt; | COMPANY &lt;chr&gt; | PRICE &lt;chr&gt; | YEAR &lt;chr&gt; |\n",
       "|---|---|---|---|---|---|---|\n",
       "| 1 | Empire Burlesque         | Bob Dylan    | USA | Columbia     | 10.90 | 1985 |\n",
       "| 2 | Greatest Hits            | Dolly Parton | USA | RCA          | 9.90  | 1982 |\n",
       "| 3 | When a man loves a woman | Percy Sledge | USA | Atlantic     | 8.70  | 1987 |\n",
       "| 4 | 1999 Grammy Nominees     | Many         | USA | Grammy       | 10.20 | 1999 |\n",
       "| 5 | Big Willie style         | Will Smith   | USA | Columbia     | 9.90  | 1997 |\n",
       "| 6 | The dock of the bay      | Otis Redding | USA | Stax Records | 7.90  | 1968 |\n",
       "\n"
      ],
      "text/plain": [
       "  TITLE                    ARTIST       COUNTRY COMPANY      PRICE YEAR\n",
       "1 Empire Burlesque         Bob Dylan    USA     Columbia     10.90 1985\n",
       "2 Greatest Hits            Dolly Parton USA     RCA          9.90  1982\n",
       "3 When a man loves a woman Percy Sledge USA     Atlantic     8.70  1987\n",
       "4 1999 Grammy Nominees     Many         USA     Grammy       10.20 1999\n",
       "5 Big Willie style         Will Smith   USA     Columbia     9.90  1997\n",
       "6 The dock of the bay      Otis Redding USA     Stax Records 7.90  1968"
      ]
     },
     "metadata": {},
     "output_type": "display_data"
    }
   ],
   "source": [
    "head(cds_usa_2)"
   ]
  },
  {
   "cell_type": "markdown",
   "id": "a9850f54-7f73-4cc6-b005-18675ce615ba",
   "metadata": {},
   "source": [
    "![](images/10_01.png)"
   ]
  },
  {
   "cell_type": "code",
   "execution_count": null,
   "id": "db105efa-ec22-4a1e-8f1e-271c59c71430",
   "metadata": {},
   "outputs": [],
   "source": []
  }
 ],
 "metadata": {
  "kernelspec": {
   "display_name": "R",
   "language": "R",
   "name": "ir"
  },
  "language_info": {
   "codemirror_mode": "r",
   "file_extension": ".r",
   "mimetype": "text/x-r-source",
   "name": "R",
   "pygments_lexer": "r",
   "version": "4.1.0"
  }
 },
 "nbformat": 4,
 "nbformat_minor": 5
}
