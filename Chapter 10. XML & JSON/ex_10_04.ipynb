{
 "cells": [
  {
   "cell_type": "markdown",
   "id": "d190e0d4-5053-4577-96e2-89a3ac99d429",
   "metadata": {},
   "source": [
    "![](images/10_05.png)"
   ]
  },
  {
   "cell_type": "code",
   "execution_count": 1,
   "id": "cc1bc8af-4bad-4b9f-b753-6b9b3313458b",
   "metadata": {},
   "outputs": [],
   "source": [
    "library(\"httr\")\n",
    "library('jsonlite')"
   ]
  },
  {
   "cell_type": "code",
   "execution_count": 3,
   "id": "7164307b-d82d-4cd6-8772-30f3c1c85365",
   "metadata": {},
   "outputs": [],
   "source": [
    "url = \"http://phuong13021982.pythonanywhere.com/mystore/product_service/\"\n",
    "get_url = GET(url)\n",
    "content = rawToChar(get_url$content)\n",
    "json = fromJSON(content)\n",
    "tivis = data.frame(json)"
   ]
  },
  {
   "cell_type": "code",
   "execution_count": 4,
   "id": "9c5e8e10-8f6a-48b5-a00f-2e2993009503",
   "metadata": {},
   "outputs": [
    {
     "data": {
      "text/html": [
       "<table class=\"dataframe\">\n",
       "<caption>A data.frame: 12 × 5</caption>\n",
       "<thead>\n",
       "\t<tr><th></th><th scope=col>pk</th><th scope=col>name</th><th scope=col>fee</th><th scope=col>description</th><th scope=col>image</th></tr>\n",
       "\t<tr><th></th><th scope=col>&lt;int&gt;</th><th scope=col>&lt;chr&gt;</th><th scope=col>&lt;int&gt;</th><th scope=col>&lt;chr&gt;</th><th scope=col>&lt;chr&gt;</th></tr>\n",
       "</thead>\n",
       "<tbody>\n",
       "\t<tr><th scope=row>1</th><td> 2</td><td>Asanzo 50 inch          </td><td> 9000000</td><td>Tivi Asanzo 4K màn  hình phẳng 50 inch              </td><td>images/asanzo_4k_50_11690000.jpg</td></tr>\n",
       "\t<tr><th scope=row>2</th><td>11</td><td>Dell Vostro V3568 XF6C61</td><td>11999000</td><td>Chip: Intel Core i5-7200U, RAM: DDR4 4GB (2 khe cắm)</td><td>images/Dell_vostro.jpg          </td></tr>\n",
       "\t<tr><th scope=row>3</th><td>12</td><td>Macbook Air 2017 MQD32  </td><td>18990000</td><td>Intel Core i5 Dual-core 1.8 GHz, 8GB 1600 MHz LPDDR3</td><td>images/MacbooAir.jpg            </td></tr>\n",
       "\t<tr><th scope=row>4</th><td> 3</td><td>Panasonic 40 inch       </td><td> 6590000</td><td>Tivi Panasonic màn hình phẳng 40 inch               </td><td>images/panansonic_40_6590000.jpg</td></tr>\n",
       "\t<tr><th scope=row>5</th><td> 5</td><td>Samsung 32 inch         </td><td> 5999000</td><td>Tivi Samsung thế hệ mới 32 inch                     </td><td>images/samsung_32_5990000.jpg   </td></tr>\n",
       "\t<tr><th scope=row>6</th><td> 9</td><td>Samsung Galaxy J2 Prime </td><td> 2690000</td><td>Chính hãng, Nguyên seal, Mới 100%, Chưa Active      </td><td>images/SamsungPrime.jpg         </td></tr>\n",
       "\t<tr><th scope=row>7</th><td> 6</td><td>Sharp 45 inch           </td><td> 7490000</td><td>Tivi Shrap màn hình cong siêu mỏng                  </td><td>images/sharp_45_7490000.jpg     </td></tr>\n",
       "\t<tr><th scope=row>8</th><td> 7</td><td>Sony 48 inch            </td><td>11599000</td><td>Tivi Sony LCD màn hình phẳng 48 inch                </td><td>images/sony_48_11599000.png     </td></tr>\n",
       "\t<tr><th scope=row>9</th><td> 4</td><td>Sony 55 inch            </td><td>20590000</td><td>Tivi Sony LED màn hình phẳng 55 inch                </td><td>images/sony_55_20590000.jpg     </td></tr>\n",
       "\t<tr><th scope=row>10</th><td> 8</td><td>TCL 55 inch             </td><td> 9900000</td><td>Tivi TCL Smart màn hình cong 55 inch                </td><td>images/tcl_55_9900000.jpg       </td></tr>\n",
       "\t<tr><th scope=row>11</th><td> 1</td><td>Toshiba 32 inch         </td><td> 4590000</td><td>Tivi LCD Toshiba 32 inch màn hình phẳng             </td><td>images/toshiba32_4590000.jpg    </td></tr>\n",
       "\t<tr><th scope=row>12</th><td>10</td><td>iPad WiFi 32GB New 2018 </td><td> 8390000</td><td>Nhôm nguyên khối, Retina 9.7 inch                   </td><td>images/iPad_Samsung_Wifi.jpg    </td></tr>\n",
       "</tbody>\n",
       "</table>\n"
      ],
      "text/latex": [
       "A data.frame: 12 × 5\n",
       "\\begin{tabular}{r|lllll}\n",
       "  & pk & name & fee & description & image\\\\\n",
       "  & <int> & <chr> & <int> & <chr> & <chr>\\\\\n",
       "\\hline\n",
       "\t1 &  2 & Asanzo 50 inch           &  9000000 & Tivi Asanzo 4K màn  hình phẳng 50 inch               & images/asanzo\\_4k\\_50\\_11690000.jpg\\\\\n",
       "\t2 & 11 & Dell Vostro V3568 XF6C61 & 11999000 & Chip: Intel Core i5-7200U, RAM: DDR4 4GB (2 khe cắm) & images/Dell\\_vostro.jpg          \\\\\n",
       "\t3 & 12 & Macbook Air 2017 MQD32   & 18990000 & Intel Core i5 Dual-core 1.8 GHz, 8GB 1600 MHz LPDDR3 & images/MacbooAir.jpg            \\\\\n",
       "\t4 &  3 & Panasonic 40 inch        &  6590000 & Tivi Panasonic màn hình phẳng 40 inch                & images/panansonic\\_40\\_6590000.jpg\\\\\n",
       "\t5 &  5 & Samsung 32 inch          &  5999000 & Tivi Samsung thế hệ mới 32 inch                      & images/samsung\\_32\\_5990000.jpg   \\\\\n",
       "\t6 &  9 & Samsung Galaxy J2 Prime  &  2690000 & Chính hãng, Nguyên seal, Mới 100\\%, Chưa Active       & images/SamsungPrime.jpg         \\\\\n",
       "\t7 &  6 & Sharp 45 inch            &  7490000 & Tivi Shrap màn hình cong siêu mỏng                   & images/sharp\\_45\\_7490000.jpg     \\\\\n",
       "\t8 &  7 & Sony 48 inch             & 11599000 & Tivi Sony LCD màn hình phẳng 48 inch                 & images/sony\\_48\\_11599000.png     \\\\\n",
       "\t9 &  4 & Sony 55 inch             & 20590000 & Tivi Sony LED màn hình phẳng 55 inch                 & images/sony\\_55\\_20590000.jpg     \\\\\n",
       "\t10 &  8 & TCL 55 inch              &  9900000 & Tivi TCL Smart màn hình cong 55 inch                 & images/tcl\\_55\\_9900000.jpg       \\\\\n",
       "\t11 &  1 & Toshiba 32 inch          &  4590000 & Tivi LCD Toshiba 32 inch màn hình phẳng              & images/toshiba32\\_4590000.jpg    \\\\\n",
       "\t12 & 10 & iPad WiFi 32GB New 2018  &  8390000 & Nhôm nguyên khối, Retina 9.7 inch                    & images/iPad\\_Samsung\\_Wifi.jpg    \\\\\n",
       "\\end{tabular}\n"
      ],
      "text/markdown": [
       "\n",
       "A data.frame: 12 × 5\n",
       "\n",
       "| <!--/--> | pk &lt;int&gt; | name &lt;chr&gt; | fee &lt;int&gt; | description &lt;chr&gt; | image &lt;chr&gt; |\n",
       "|---|---|---|---|---|---|\n",
       "| 1 |  2 | Asanzo 50 inch           |  9000000 | Tivi Asanzo 4K màn  hình phẳng 50 inch               | images/asanzo_4k_50_11690000.jpg |\n",
       "| 2 | 11 | Dell Vostro V3568 XF6C61 | 11999000 | Chip: Intel Core i5-7200U, RAM: DDR4 4GB (2 khe cắm) | images/Dell_vostro.jpg           |\n",
       "| 3 | 12 | Macbook Air 2017 MQD32   | 18990000 | Intel Core i5 Dual-core 1.8 GHz, 8GB 1600 MHz LPDDR3 | images/MacbooAir.jpg             |\n",
       "| 4 |  3 | Panasonic 40 inch        |  6590000 | Tivi Panasonic màn hình phẳng 40 inch                | images/panansonic_40_6590000.jpg |\n",
       "| 5 |  5 | Samsung 32 inch          |  5999000 | Tivi Samsung thế hệ mới 32 inch                      | images/samsung_32_5990000.jpg    |\n",
       "| 6 |  9 | Samsung Galaxy J2 Prime  |  2690000 | Chính hãng, Nguyên seal, Mới 100%, Chưa Active       | images/SamsungPrime.jpg          |\n",
       "| 7 |  6 | Sharp 45 inch            |  7490000 | Tivi Shrap màn hình cong siêu mỏng                   | images/sharp_45_7490000.jpg      |\n",
       "| 8 |  7 | Sony 48 inch             | 11599000 | Tivi Sony LCD màn hình phẳng 48 inch                 | images/sony_48_11599000.png      |\n",
       "| 9 |  4 | Sony 55 inch             | 20590000 | Tivi Sony LED màn hình phẳng 55 inch                 | images/sony_55_20590000.jpg      |\n",
       "| 10 |  8 | TCL 55 inch              |  9900000 | Tivi TCL Smart màn hình cong 55 inch                 | images/tcl_55_9900000.jpg        |\n",
       "| 11 |  1 | Toshiba 32 inch          |  4590000 | Tivi LCD Toshiba 32 inch màn hình phẳng              | images/toshiba32_4590000.jpg     |\n",
       "| 12 | 10 | iPad WiFi 32GB New 2018  |  8390000 | Nhôm nguyên khối, Retina 9.7 inch                    | images/iPad_Samsung_Wifi.jpg     |\n",
       "\n"
      ],
      "text/plain": [
       "   pk name                     fee     \n",
       "1   2 Asanzo 50 inch            9000000\n",
       "2  11 Dell Vostro V3568 XF6C61 11999000\n",
       "3  12 Macbook Air 2017 MQD32   18990000\n",
       "4   3 Panasonic 40 inch         6590000\n",
       "5   5 Samsung 32 inch           5999000\n",
       "6   9 Samsung Galaxy J2 Prime   2690000\n",
       "7   6 Sharp 45 inch             7490000\n",
       "8   7 Sony 48 inch             11599000\n",
       "9   4 Sony 55 inch             20590000\n",
       "10  8 TCL 55 inch               9900000\n",
       "11  1 Toshiba 32 inch           4590000\n",
       "12 10 iPad WiFi 32GB New 2018   8390000\n",
       "   description                                         \n",
       "1  Tivi Asanzo 4K màn  hình phẳng 50 inch              \n",
       "2  Chip: Intel Core i5-7200U, RAM: DDR4 4GB (2 khe cắm)\n",
       "3  Intel Core i5 Dual-core 1.8 GHz, 8GB 1600 MHz LPDDR3\n",
       "4  Tivi Panasonic màn hình phẳng 40 inch               \n",
       "5  Tivi Samsung thế hệ mới 32 inch                     \n",
       "6  Chính hãng, Nguyên seal, Mới 100%, Chưa Active      \n",
       "7  Tivi Shrap màn hình cong siêu mỏng                  \n",
       "8  Tivi Sony LCD màn hình phẳng 48 inch                \n",
       "9  Tivi Sony LED màn hình phẳng 55 inch                \n",
       "10 Tivi TCL Smart màn hình cong 55 inch                \n",
       "11 Tivi LCD Toshiba 32 inch màn hình phẳng             \n",
       "12 Nhôm nguyên khối, Retina 9.7 inch                   \n",
       "   image                           \n",
       "1  images/asanzo_4k_50_11690000.jpg\n",
       "2  images/Dell_vostro.jpg          \n",
       "3  images/MacbooAir.jpg            \n",
       "4  images/panansonic_40_6590000.jpg\n",
       "5  images/samsung_32_5990000.jpg   \n",
       "6  images/SamsungPrime.jpg         \n",
       "7  images/sharp_45_7490000.jpg     \n",
       "8  images/sony_48_11599000.png     \n",
       "9  images/sony_55_20590000.jpg     \n",
       "10 images/tcl_55_9900000.jpg       \n",
       "11 images/toshiba32_4590000.jpg    \n",
       "12 images/iPad_Samsung_Wifi.jpg    "
      ]
     },
     "metadata": {},
     "output_type": "display_data"
    }
   ],
   "source": [
    "tivis"
   ]
  },
  {
   "cell_type": "code",
   "execution_count": null,
   "id": "1f75158d-8b83-48ea-ba1e-2839daa597e0",
   "metadata": {},
   "outputs": [],
   "source": []
  },
  {
   "cell_type": "code",
   "execution_count": 5,
   "id": "bcba91db-9a88-4e51-bcdf-fce94ec29fdb",
   "metadata": {},
   "outputs": [],
   "source": [
    "tivis$description = NULL"
   ]
  },
  {
   "cell_type": "code",
   "execution_count": 6,
   "id": "a9e7f01b-943b-41a7-8e1f-423a8a3a3a6e",
   "metadata": {},
   "outputs": [
    {
     "data": {
      "text/html": [
       "<table class=\"dataframe\">\n",
       "<caption>A data.frame: 12 × 4</caption>\n",
       "<thead>\n",
       "\t<tr><th></th><th scope=col>pk</th><th scope=col>name</th><th scope=col>fee</th><th scope=col>image</th></tr>\n",
       "\t<tr><th></th><th scope=col>&lt;int&gt;</th><th scope=col>&lt;chr&gt;</th><th scope=col>&lt;int&gt;</th><th scope=col>&lt;chr&gt;</th></tr>\n",
       "</thead>\n",
       "<tbody>\n",
       "\t<tr><th scope=row>1</th><td> 2</td><td>Asanzo 50 inch          </td><td> 9000000</td><td>images/asanzo_4k_50_11690000.jpg</td></tr>\n",
       "\t<tr><th scope=row>2</th><td>11</td><td>Dell Vostro V3568 XF6C61</td><td>11999000</td><td>images/Dell_vostro.jpg          </td></tr>\n",
       "\t<tr><th scope=row>3</th><td>12</td><td>Macbook Air 2017 MQD32  </td><td>18990000</td><td>images/MacbooAir.jpg            </td></tr>\n",
       "\t<tr><th scope=row>4</th><td> 3</td><td>Panasonic 40 inch       </td><td> 6590000</td><td>images/panansonic_40_6590000.jpg</td></tr>\n",
       "\t<tr><th scope=row>5</th><td> 5</td><td>Samsung 32 inch         </td><td> 5999000</td><td>images/samsung_32_5990000.jpg   </td></tr>\n",
       "\t<tr><th scope=row>6</th><td> 9</td><td>Samsung Galaxy J2 Prime </td><td> 2690000</td><td>images/SamsungPrime.jpg         </td></tr>\n",
       "\t<tr><th scope=row>7</th><td> 6</td><td>Sharp 45 inch           </td><td> 7490000</td><td>images/sharp_45_7490000.jpg     </td></tr>\n",
       "\t<tr><th scope=row>8</th><td> 7</td><td>Sony 48 inch            </td><td>11599000</td><td>images/sony_48_11599000.png     </td></tr>\n",
       "\t<tr><th scope=row>9</th><td> 4</td><td>Sony 55 inch            </td><td>20590000</td><td>images/sony_55_20590000.jpg     </td></tr>\n",
       "\t<tr><th scope=row>10</th><td> 8</td><td>TCL 55 inch             </td><td> 9900000</td><td>images/tcl_55_9900000.jpg       </td></tr>\n",
       "\t<tr><th scope=row>11</th><td> 1</td><td>Toshiba 32 inch         </td><td> 4590000</td><td>images/toshiba32_4590000.jpg    </td></tr>\n",
       "\t<tr><th scope=row>12</th><td>10</td><td>iPad WiFi 32GB New 2018 </td><td> 8390000</td><td>images/iPad_Samsung_Wifi.jpg    </td></tr>\n",
       "</tbody>\n",
       "</table>\n"
      ],
      "text/latex": [
       "A data.frame: 12 × 4\n",
       "\\begin{tabular}{r|llll}\n",
       "  & pk & name & fee & image\\\\\n",
       "  & <int> & <chr> & <int> & <chr>\\\\\n",
       "\\hline\n",
       "\t1 &  2 & Asanzo 50 inch           &  9000000 & images/asanzo\\_4k\\_50\\_11690000.jpg\\\\\n",
       "\t2 & 11 & Dell Vostro V3568 XF6C61 & 11999000 & images/Dell\\_vostro.jpg          \\\\\n",
       "\t3 & 12 & Macbook Air 2017 MQD32   & 18990000 & images/MacbooAir.jpg            \\\\\n",
       "\t4 &  3 & Panasonic 40 inch        &  6590000 & images/panansonic\\_40\\_6590000.jpg\\\\\n",
       "\t5 &  5 & Samsung 32 inch          &  5999000 & images/samsung\\_32\\_5990000.jpg   \\\\\n",
       "\t6 &  9 & Samsung Galaxy J2 Prime  &  2690000 & images/SamsungPrime.jpg         \\\\\n",
       "\t7 &  6 & Sharp 45 inch            &  7490000 & images/sharp\\_45\\_7490000.jpg     \\\\\n",
       "\t8 &  7 & Sony 48 inch             & 11599000 & images/sony\\_48\\_11599000.png     \\\\\n",
       "\t9 &  4 & Sony 55 inch             & 20590000 & images/sony\\_55\\_20590000.jpg     \\\\\n",
       "\t10 &  8 & TCL 55 inch              &  9900000 & images/tcl\\_55\\_9900000.jpg       \\\\\n",
       "\t11 &  1 & Toshiba 32 inch          &  4590000 & images/toshiba32\\_4590000.jpg    \\\\\n",
       "\t12 & 10 & iPad WiFi 32GB New 2018  &  8390000 & images/iPad\\_Samsung\\_Wifi.jpg    \\\\\n",
       "\\end{tabular}\n"
      ],
      "text/markdown": [
       "\n",
       "A data.frame: 12 × 4\n",
       "\n",
       "| <!--/--> | pk &lt;int&gt; | name &lt;chr&gt; | fee &lt;int&gt; | image &lt;chr&gt; |\n",
       "|---|---|---|---|---|\n",
       "| 1 |  2 | Asanzo 50 inch           |  9000000 | images/asanzo_4k_50_11690000.jpg |\n",
       "| 2 | 11 | Dell Vostro V3568 XF6C61 | 11999000 | images/Dell_vostro.jpg           |\n",
       "| 3 | 12 | Macbook Air 2017 MQD32   | 18990000 | images/MacbooAir.jpg             |\n",
       "| 4 |  3 | Panasonic 40 inch        |  6590000 | images/panansonic_40_6590000.jpg |\n",
       "| 5 |  5 | Samsung 32 inch          |  5999000 | images/samsung_32_5990000.jpg    |\n",
       "| 6 |  9 | Samsung Galaxy J2 Prime  |  2690000 | images/SamsungPrime.jpg          |\n",
       "| 7 |  6 | Sharp 45 inch            |  7490000 | images/sharp_45_7490000.jpg      |\n",
       "| 8 |  7 | Sony 48 inch             | 11599000 | images/sony_48_11599000.png      |\n",
       "| 9 |  4 | Sony 55 inch             | 20590000 | images/sony_55_20590000.jpg      |\n",
       "| 10 |  8 | TCL 55 inch              |  9900000 | images/tcl_55_9900000.jpg        |\n",
       "| 11 |  1 | Toshiba 32 inch          |  4590000 | images/toshiba32_4590000.jpg     |\n",
       "| 12 | 10 | iPad WiFi 32GB New 2018  |  8390000 | images/iPad_Samsung_Wifi.jpg     |\n",
       "\n"
      ],
      "text/plain": [
       "   pk name                     fee      image                           \n",
       "1   2 Asanzo 50 inch            9000000 images/asanzo_4k_50_11690000.jpg\n",
       "2  11 Dell Vostro V3568 XF6C61 11999000 images/Dell_vostro.jpg          \n",
       "3  12 Macbook Air 2017 MQD32   18990000 images/MacbooAir.jpg            \n",
       "4   3 Panasonic 40 inch         6590000 images/panansonic_40_6590000.jpg\n",
       "5   5 Samsung 32 inch           5999000 images/samsung_32_5990000.jpg   \n",
       "6   9 Samsung Galaxy J2 Prime   2690000 images/SamsungPrime.jpg         \n",
       "7   6 Sharp 45 inch             7490000 images/sharp_45_7490000.jpg     \n",
       "8   7 Sony 48 inch             11599000 images/sony_48_11599000.png     \n",
       "9   4 Sony 55 inch             20590000 images/sony_55_20590000.jpg     \n",
       "10  8 TCL 55 inch               9900000 images/tcl_55_9900000.jpg       \n",
       "11  1 Toshiba 32 inch           4590000 images/toshiba32_4590000.jpg    \n",
       "12 10 iPad WiFi 32GB New 2018   8390000 images/iPad_Samsung_Wifi.jpg    "
      ]
     },
     "metadata": {},
     "output_type": "display_data"
    }
   ],
   "source": [
    "tivis"
   ]
  },
  {
   "cell_type": "code",
   "execution_count": null,
   "id": "0cb38ef1-031a-4481-afd0-351c10bf4d7e",
   "metadata": {},
   "outputs": [],
   "source": []
  },
  {
   "cell_type": "code",
   "execution_count": 7,
   "id": "2d972966-fd23-4a99-bff2-4eb08e8e789c",
   "metadata": {},
   "outputs": [],
   "source": [
    "tivis_json = toJSON(tivis)\n",
    "write(tivis_json, file = \"./data/tivis_new.json\")"
   ]
  },
  {
   "cell_type": "code",
   "execution_count": null,
   "id": "51f8459d-f724-4546-9cde-a396e4ef216e",
   "metadata": {},
   "outputs": [],
   "source": []
  },
  {
   "cell_type": "code",
   "execution_count": 8,
   "id": "47f2de96-2ed3-4954-82cc-0d4431359c14",
   "metadata": {},
   "outputs": [],
   "source": [
    "result = fromJSON(\"./data/tivis_new.json\")\n",
    "data = data.frame(result)"
   ]
  },
  {
   "cell_type": "code",
   "execution_count": 9,
   "id": "f5cb97fc-01dc-4464-979c-58ec1b08636a",
   "metadata": {},
   "outputs": [
    {
     "data": {
      "text/html": [
       "<table class=\"dataframe\">\n",
       "<caption>A data.frame: 12 × 4</caption>\n",
       "<thead>\n",
       "\t<tr><th></th><th scope=col>pk</th><th scope=col>name</th><th scope=col>fee</th><th scope=col>image</th></tr>\n",
       "\t<tr><th></th><th scope=col>&lt;int&gt;</th><th scope=col>&lt;chr&gt;</th><th scope=col>&lt;int&gt;</th><th scope=col>&lt;chr&gt;</th></tr>\n",
       "</thead>\n",
       "<tbody>\n",
       "\t<tr><th scope=row>1</th><td> 2</td><td>Asanzo 50 inch          </td><td> 9000000</td><td>images/asanzo_4k_50_11690000.jpg</td></tr>\n",
       "\t<tr><th scope=row>2</th><td>11</td><td>Dell Vostro V3568 XF6C61</td><td>11999000</td><td>images/Dell_vostro.jpg          </td></tr>\n",
       "\t<tr><th scope=row>3</th><td>12</td><td>Macbook Air 2017 MQD32  </td><td>18990000</td><td>images/MacbooAir.jpg            </td></tr>\n",
       "\t<tr><th scope=row>4</th><td> 3</td><td>Panasonic 40 inch       </td><td> 6590000</td><td>images/panansonic_40_6590000.jpg</td></tr>\n",
       "\t<tr><th scope=row>5</th><td> 5</td><td>Samsung 32 inch         </td><td> 5999000</td><td>images/samsung_32_5990000.jpg   </td></tr>\n",
       "\t<tr><th scope=row>6</th><td> 9</td><td>Samsung Galaxy J2 Prime </td><td> 2690000</td><td>images/SamsungPrime.jpg         </td></tr>\n",
       "\t<tr><th scope=row>7</th><td> 6</td><td>Sharp 45 inch           </td><td> 7490000</td><td>images/sharp_45_7490000.jpg     </td></tr>\n",
       "\t<tr><th scope=row>8</th><td> 7</td><td>Sony 48 inch            </td><td>11599000</td><td>images/sony_48_11599000.png     </td></tr>\n",
       "\t<tr><th scope=row>9</th><td> 4</td><td>Sony 55 inch            </td><td>20590000</td><td>images/sony_55_20590000.jpg     </td></tr>\n",
       "\t<tr><th scope=row>10</th><td> 8</td><td>TCL 55 inch             </td><td> 9900000</td><td>images/tcl_55_9900000.jpg       </td></tr>\n",
       "\t<tr><th scope=row>11</th><td> 1</td><td>Toshiba 32 inch         </td><td> 4590000</td><td>images/toshiba32_4590000.jpg    </td></tr>\n",
       "\t<tr><th scope=row>12</th><td>10</td><td>iPad WiFi 32GB New 2018 </td><td> 8390000</td><td>images/iPad_Samsung_Wifi.jpg    </td></tr>\n",
       "</tbody>\n",
       "</table>\n"
      ],
      "text/latex": [
       "A data.frame: 12 × 4\n",
       "\\begin{tabular}{r|llll}\n",
       "  & pk & name & fee & image\\\\\n",
       "  & <int> & <chr> & <int> & <chr>\\\\\n",
       "\\hline\n",
       "\t1 &  2 & Asanzo 50 inch           &  9000000 & images/asanzo\\_4k\\_50\\_11690000.jpg\\\\\n",
       "\t2 & 11 & Dell Vostro V3568 XF6C61 & 11999000 & images/Dell\\_vostro.jpg          \\\\\n",
       "\t3 & 12 & Macbook Air 2017 MQD32   & 18990000 & images/MacbooAir.jpg            \\\\\n",
       "\t4 &  3 & Panasonic 40 inch        &  6590000 & images/panansonic\\_40\\_6590000.jpg\\\\\n",
       "\t5 &  5 & Samsung 32 inch          &  5999000 & images/samsung\\_32\\_5990000.jpg   \\\\\n",
       "\t6 &  9 & Samsung Galaxy J2 Prime  &  2690000 & images/SamsungPrime.jpg         \\\\\n",
       "\t7 &  6 & Sharp 45 inch            &  7490000 & images/sharp\\_45\\_7490000.jpg     \\\\\n",
       "\t8 &  7 & Sony 48 inch             & 11599000 & images/sony\\_48\\_11599000.png     \\\\\n",
       "\t9 &  4 & Sony 55 inch             & 20590000 & images/sony\\_55\\_20590000.jpg     \\\\\n",
       "\t10 &  8 & TCL 55 inch              &  9900000 & images/tcl\\_55\\_9900000.jpg       \\\\\n",
       "\t11 &  1 & Toshiba 32 inch          &  4590000 & images/toshiba32\\_4590000.jpg    \\\\\n",
       "\t12 & 10 & iPad WiFi 32GB New 2018  &  8390000 & images/iPad\\_Samsung\\_Wifi.jpg    \\\\\n",
       "\\end{tabular}\n"
      ],
      "text/markdown": [
       "\n",
       "A data.frame: 12 × 4\n",
       "\n",
       "| <!--/--> | pk &lt;int&gt; | name &lt;chr&gt; | fee &lt;int&gt; | image &lt;chr&gt; |\n",
       "|---|---|---|---|---|\n",
       "| 1 |  2 | Asanzo 50 inch           |  9000000 | images/asanzo_4k_50_11690000.jpg |\n",
       "| 2 | 11 | Dell Vostro V3568 XF6C61 | 11999000 | images/Dell_vostro.jpg           |\n",
       "| 3 | 12 | Macbook Air 2017 MQD32   | 18990000 | images/MacbooAir.jpg             |\n",
       "| 4 |  3 | Panasonic 40 inch        |  6590000 | images/panansonic_40_6590000.jpg |\n",
       "| 5 |  5 | Samsung 32 inch          |  5999000 | images/samsung_32_5990000.jpg    |\n",
       "| 6 |  9 | Samsung Galaxy J2 Prime  |  2690000 | images/SamsungPrime.jpg          |\n",
       "| 7 |  6 | Sharp 45 inch            |  7490000 | images/sharp_45_7490000.jpg      |\n",
       "| 8 |  7 | Sony 48 inch             | 11599000 | images/sony_48_11599000.png      |\n",
       "| 9 |  4 | Sony 55 inch             | 20590000 | images/sony_55_20590000.jpg      |\n",
       "| 10 |  8 | TCL 55 inch              |  9900000 | images/tcl_55_9900000.jpg        |\n",
       "| 11 |  1 | Toshiba 32 inch          |  4590000 | images/toshiba32_4590000.jpg     |\n",
       "| 12 | 10 | iPad WiFi 32GB New 2018  |  8390000 | images/iPad_Samsung_Wifi.jpg     |\n",
       "\n"
      ],
      "text/plain": [
       "   pk name                     fee      image                           \n",
       "1   2 Asanzo 50 inch            9000000 images/asanzo_4k_50_11690000.jpg\n",
       "2  11 Dell Vostro V3568 XF6C61 11999000 images/Dell_vostro.jpg          \n",
       "3  12 Macbook Air 2017 MQD32   18990000 images/MacbooAir.jpg            \n",
       "4   3 Panasonic 40 inch         6590000 images/panansonic_40_6590000.jpg\n",
       "5   5 Samsung 32 inch           5999000 images/samsung_32_5990000.jpg   \n",
       "6   9 Samsung Galaxy J2 Prime   2690000 images/SamsungPrime.jpg         \n",
       "7   6 Sharp 45 inch             7490000 images/sharp_45_7490000.jpg     \n",
       "8   7 Sony 48 inch             11599000 images/sony_48_11599000.png     \n",
       "9   4 Sony 55 inch             20590000 images/sony_55_20590000.jpg     \n",
       "10  8 TCL 55 inch               9900000 images/tcl_55_9900000.jpg       \n",
       "11  1 Toshiba 32 inch           4590000 images/toshiba32_4590000.jpg    \n",
       "12 10 iPad WiFi 32GB New 2018   8390000 images/iPad_Samsung_Wifi.jpg    "
      ]
     },
     "metadata": {},
     "output_type": "display_data"
    }
   ],
   "source": [
    "data"
   ]
  },
  {
   "cell_type": "code",
   "execution_count": null,
   "id": "e995f00a-ab30-467e-9329-8a223b923d9b",
   "metadata": {},
   "outputs": [],
   "source": []
  }
 ],
 "metadata": {
  "kernelspec": {
   "display_name": "R",
   "language": "R",
   "name": "ir"
  },
  "language_info": {
   "codemirror_mode": "r",
   "file_extension": ".r",
   "mimetype": "text/x-r-source",
   "name": "R",
   "pygments_lexer": "r",
   "version": "4.1.0"
  }
 },
 "nbformat": 4,
 "nbformat_minor": 5
}
