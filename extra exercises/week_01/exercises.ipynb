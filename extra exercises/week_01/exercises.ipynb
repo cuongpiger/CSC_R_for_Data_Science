{
 "cells": [
  {
   "cell_type": "markdown",
   "id": "7bfb2cae",
   "metadata": {},
   "source": [
    "# Bài tập tuần 1 (Deadline: 11/07/2021)\n",
    "## Bài tập số 1:\n",
    "### Viết chương trình cho phép người dùng:\n",
    "- Nhập vào một chuỗi. In chuỗi.\n",
    "- Nhập vào một ký tự. In ký tự.\n",
    "- Tạo chuỗi mới từ chuỗi đã có trong đó tất cả các ký tự đã nhập ở trên đều được in hoa.\n",
    "- Tách chuỗi đã nhập ở đầu bài thành danh sách các phần tử.\n",
    "- Nhập vào một từ. In từ.\n",
    "- Tìm xem từ vừa nhập có là phần tử nào trong danh sách phần tử trên hay không? Nêu tìm thấy thì thông báo là \"Found!!!\" ngược lại thì thông báo là \"Not found!!!\"\n",
    "- Nhập vào một từ cần tìm (find) trong chuỗi và một từ mới sẽ thay thế (replace). Thay thế tất cả các từ tìm (find) trong chuỗi bằng từ thay thế (replace)"
   ]
  },
  {
   "cell_type": "code",
   "execution_count": 179,
   "id": "487cfa8b-d0ef-4c18-8f2c-662bd010d464",
   "metadata": {},
   "outputs": [],
   "source": [
    "outerFunctions = new.env()\n",
    "sys.source(file=\"./modules/functions.r\", envir=outerFunctions, toplevel.env=outerFunctions)"
   ]
  },
  {
   "cell_type": "markdown",
   "id": "dae51ef1-f942-4a1d-b0df-248d73b35afc",
   "metadata": {},
   "source": [
    "#### Nhập vào một chuổi, in chuổi"
   ]
  },
  {
   "cell_type": "code",
   "execution_count": 21,
   "id": "a33a5c1f",
   "metadata": {},
   "outputs": [
    {
     "name": "stdin",
     "output_type": "stream",
     "text": [
      "Nhập chuổi: Dương Mạnh Cường\n"
     ]
    },
    {
     "name": "stdout",
     "output_type": "stream",
     "text": [
      "Dương Mạnh Cường\n"
     ]
    }
   ],
   "source": [
    "outerFunctions$task_1.function()"
   ]
  },
  {
   "cell_type": "markdown",
   "id": "d0faabdd-dc7e-4d07-bdbb-2eac1d548be2",
   "metadata": {},
   "source": [
    "#### Nhập vào một kí tự, in kí tự"
   ]
  },
  {
   "cell_type": "code",
   "execution_count": 22,
   "id": "4b4cabc6",
   "metadata": {},
   "outputs": [
    {
     "name": "stdin",
     "output_type": "stream",
     "text": [
      "Nhập chuổi: a\n"
     ]
    },
    {
     "name": "stdout",
     "output_type": "stream",
     "text": [
      "a\n"
     ]
    }
   ],
   "source": [
    "outerFunctions$task_1.function()"
   ]
  },
  {
   "cell_type": "markdown",
   "id": "ee88f407-03ca-4ea7-abdf-49fb2ca6d9b9",
   "metadata": {},
   "source": [
    "#### Tạo chuỗi mới từ chuỗi đã có trong đó tất cả các ký tự đã nhập ở trên đều được in hoa."
   ]
  },
  {
   "cell_type": "code",
   "execution_count": 27,
   "id": "27df62fc",
   "metadata": {},
   "outputs": [
    {
     "name": "stdin",
     "output_type": "stream",
     "text": [
      "Nhập chuổi: dương mạnh cường\n"
     ]
    },
    {
     "name": "stdout",
     "output_type": "stream",
     "text": [
      "DƯƠNG MẠNH CƯỜNG\n"
     ]
    }
   ],
   "source": [
    "outerFunctions$task_3.function()"
   ]
  },
  {
   "cell_type": "markdown",
   "id": "83614e75-9a0e-4f96-b3ec-d42120c23992",
   "metadata": {},
   "source": [
    "#### Tách chuỗi đã nhập ở đầu bài thành danh sách các phần tử."
   ]
  },
  {
   "cell_type": "code",
   "execution_count": 37,
   "id": "99b56f53-d407-4f52-819c-8005a961ff17",
   "metadata": {},
   "outputs": [
    {
     "name": "stdin",
     "output_type": "stream",
     "text": [
      "Nhập chuổi: do not waste your time on it\n"
     ]
    },
    {
     "name": "stdout",
     "output_type": "stream",
     "text": [
      "[[1]]\n",
      "[1] \"do\"    \"not\"   \"waste\" \"your\"  \"time\"  \"on\"    \"it\"   \n",
      "\n"
     ]
    }
   ],
   "source": [
    "outerFunctions$task_4.function()"
   ]
  },
  {
   "cell_type": "markdown",
   "id": "8ac977bd-b2f8-4a78-9dc8-3a67c6c86271",
   "metadata": {},
   "source": [
    "#### Nhập vào một từ. In từ."
   ]
  },
  {
   "cell_type": "code",
   "execution_count": 38,
   "id": "51c3214a-1441-4cdf-8211-333ea93dce99",
   "metadata": {},
   "outputs": [
    {
     "name": "stdin",
     "output_type": "stream",
     "text": [
      "Nhập chuổi: hello\n"
     ]
    },
    {
     "name": "stdout",
     "output_type": "stream",
     "text": [
      "hello\n"
     ]
    }
   ],
   "source": [
    "outerFunctions$task_1.function()"
   ]
  },
  {
   "cell_type": "markdown",
   "id": "4a2e858c-8604-41c2-9217-f0b4c8c0c94a",
   "metadata": {},
   "source": [
    "#### Tìm xem từ vừa nhập có là phần tử nào trong danh sách phần tử trên hay không? Nêu tìm thấy thì thông báo là \"Found!!!\" ngược lại thì thông báo là \"Not found!!!\""
   ]
  },
  {
   "cell_type": "code",
   "execution_count": 60,
   "id": "b5bc1ea4-2b91-4465-b4eb-f81395ac5be2",
   "metadata": {},
   "outputs": [
    {
     "name": "stdin",
     "output_type": "stream",
     "text": [
      "Nhập từ: manh\n",
      "Nhập câu: duong manh cuong\n"
     ]
    },
    {
     "name": "stdout",
     "output_type": "stream",
     "text": [
      "Found!!!\n"
     ]
    }
   ],
   "source": [
    "outerFunctions$task_6.function()"
   ]
  },
  {
   "cell_type": "code",
   "execution_count": 61,
   "id": "b0cd99d5-eb8f-4f1a-8773-82fba8a2e8ee",
   "metadata": {},
   "outputs": [
    {
     "name": "stdin",
     "output_type": "stream",
     "text": [
      "Nhập từ: manh\n",
      "Nhập câu: nguyen huynh nguyet que\n"
     ]
    },
    {
     "name": "stdout",
     "output_type": "stream",
     "text": [
      "Not found!!!\n"
     ]
    }
   ],
   "source": [
    "outerFunctions$task_6.function()"
   ]
  },
  {
   "cell_type": "markdown",
   "id": "b30d3254-6411-490a-9173-c76bb04abd8a",
   "metadata": {},
   "source": [
    "#### Nhập vào một từ cần tìm (find) trong chuỗi và một từ mới sẽ thay thế (replace). Thay thế tất cả các từ tìm (find) trong chuỗi bằng từ thay thế (replace)"
   ]
  },
  {
   "cell_type": "code",
   "execution_count": 67,
   "id": "fa0c6f0c-deef-473e-b77c-18617a5410f3",
   "metadata": {},
   "outputs": [
    {
     "name": "stdin",
     "output_type": "stream",
     "text": [
      "Nhập câu: duong manh cuong\n",
      "Nhập từ cần tìm: uong\n",
      "Nhập từ thay thế: ƯƠNG\n"
     ]
    },
    {
     "name": "stdout",
     "output_type": "stream",
     "text": [
      "Chuổi sau khi thay thế: dƯƠNG manh cƯƠNG\n"
     ]
    }
   ],
   "source": [
    "outerFunctions$task_7.function()"
   ]
  },
  {
   "cell_type": "markdown",
   "id": "1e34ea4e-030f-4077-8ea9-6062b39cfe46",
   "metadata": {},
   "source": [
    "<hr>"
   ]
  },
  {
   "cell_type": "markdown",
   "id": "14a41231-90a4-49ca-b089-88ecf0fc4c62",
   "metadata": {},
   "source": [
    "## Bài tập số 2:\n",
    "### Viết chương trình cho phép người dùng:\n",
    "- Nhập vào ngày sinh của mình theo định dạng: 2021-mm-dd. \n",
    "- Lấy ngày hiện hành\n",
    "- Hãy in ra một trong 3 nội dung sau tùy kết quả (so với ngày hiện hành):\n",
    "  - Nếu ngày sinh nhật của bạn chưa tới thì \"The next xx days will be your birthday.\"\n",
    "  - Nếu ngày sinh nhật của bạn dã qua thì \"Your birthday has passed xx days.\"\n",
    "  - Nếu hôm nay là sinh nhật của bạn thì \"Happy birthday to you!\" "
   ]
  },
  {
   "cell_type": "code",
   "execution_count": 79,
   "id": "a3089793-58cb-45e3-ae5c-ace36f29a0d3",
   "metadata": {},
   "outputs": [
    {
     "name": "stdin",
     "output_type": "stream",
     "text": [
      "Nhập ngày sinh (YYYY-mm-dd): 1999-04-08\n"
     ]
    },
    {
     "name": "stdout",
     "output_type": "stream",
     "text": [
      "The next 366 days will be your birthday.\n",
      "Your birthday has passed 8126 days.\n"
     ]
    }
   ],
   "source": [
    "outerFunctions$task_2.function()"
   ]
  },
  {
   "cell_type": "code",
   "execution_count": 80,
   "id": "7561003a-e8d9-40a5-9194-0175bd539985",
   "metadata": {},
   "outputs": [
    {
     "name": "stdin",
     "output_type": "stream",
     "text": [
      "Nhập ngày sinh (YYYY-mm-dd): 2021-7-7\n"
     ]
    },
    {
     "name": "stdout",
     "output_type": "stream",
     "text": [
      "The next 365 days will be your birthday.\n",
      "Your birthday has passed 0 days.\n",
      "Happy birthday to you!\n"
     ]
    }
   ],
   "source": [
    "outerFunctions$task_2.function()"
   ]
  },
  {
   "cell_type": "markdown",
   "id": "0a1cca89-027b-4ef3-913a-009ec699693b",
   "metadata": {},
   "source": [
    "<hr>"
   ]
  },
  {
   "cell_type": "markdown",
   "id": "4318e2a9-f222-4fcf-a7ce-a92b567e1152",
   "metadata": {},
   "source": [
    "## Bài tập số 3:\n",
    "### Viết chương trình cho phép người dùng:\n",
    "- Nhập vào một số n với điều kiện sau: 10<=n<=20. Nếu số người dùng nhập không thỏa điều kiện thì thông báo cho người dùng biết và yêu cầu nhập lại. Nêu thỏa điều kiện thì qua 2.\n",
    "- Tạo một dãy số v1 có n số mà mỗi số là một số ngẫu nhiên từ 1 đến 10. Ví dụ: v1: 5, 5, 5, 9, 9, 8, 5, 9, 9, 10, 7, 7\n",
    "- Viết một function tạo dãy số mới v2 từ dãy số v1 nói trên theo điều kiện sau: phần tử đầu tiên và cuối cùng của v2 bằng v1, các phần tử khác thì v2[i] = v1[i] + v1[i-1] + v1[i+1] nếu cả v1[i-1] và v1[i+1] cùng chẵn hoặc cùng lẻ, ngược lại v2[i] = v1[i]. Ví dụ: v2: 5, 15, 19, 23, 9, 22, 5, 23, 9, 26, 7, 7\n",
    "- Gọi function vừa viết và in kết quả v2.\n",
    "- Viết function Cho biết trong một dãy số có số chính phương nào hay không?\n",
    "- Gọi function vừa viết với input là v2 và in kết quả."
   ]
  },
  {
   "cell_type": "code",
   "execution_count": 82,
   "id": "644809a3-6c6a-4575-930a-715c29a328ee",
   "metadata": {},
   "outputs": [
    {
     "name": "stdin",
     "output_type": "stream",
     "text": [
      "Nhập giá trị n (10 <= n <= 20): 0\n",
      "Nhập giá trị n (10 <= n <= 20): 0\n",
      "Nhập giá trị n (10 <= n <= 20): 9\n",
      "Nhập giá trị n (10 <= n <= 20): 21\n",
      "Nhập giá trị n (10 <= n <= 20): 10\n"
     ]
    }
   ],
   "source": [
    "n = outerFunctions$task_5.function()"
   ]
  },
  {
   "cell_type": "code",
   "execution_count": 166,
   "id": "1e09a45e-1128-4314-aae3-c875d9d078b6",
   "metadata": {},
   "outputs": [],
   "source": [
    "v1 = sample(1:10, n, replace=FALSE)"
   ]
  },
  {
   "cell_type": "code",
   "execution_count": 167,
   "id": "ef808e43-fe02-4f5c-86a7-0eba8fc3ef03",
   "metadata": {},
   "outputs": [
    {
     "data": {
      "text/html": [
       "<style>\n",
       ".list-inline {list-style: none; margin:0; padding: 0}\n",
       ".list-inline>li {display: inline-block}\n",
       ".list-inline>li:not(:last-child)::after {content: \"\\00b7\"; padding: 0 .5ex}\n",
       "</style>\n",
       "<ol class=list-inline><li>10</li><li>1</li><li>9</li><li>7</li><li>5</li><li>8</li><li>2</li><li>3</li><li>4</li><li>6</li></ol>\n"
      ],
      "text/latex": [
       "\\begin{enumerate*}\n",
       "\\item 10\n",
       "\\item 1\n",
       "\\item 9\n",
       "\\item 7\n",
       "\\item 5\n",
       "\\item 8\n",
       "\\item 2\n",
       "\\item 3\n",
       "\\item 4\n",
       "\\item 6\n",
       "\\end{enumerate*}\n"
      ],
      "text/markdown": [
       "1. 10\n",
       "2. 1\n",
       "3. 9\n",
       "4. 7\n",
       "5. 5\n",
       "6. 8\n",
       "7. 2\n",
       "8. 3\n",
       "9. 4\n",
       "10. 6\n",
       "\n",
       "\n"
      ],
      "text/plain": [
       " [1] 10  1  9  7  5  8  2  3  4  6"
      ]
     },
     "metadata": {},
     "output_type": "display_data"
    }
   ],
   "source": [
    "v1"
   ]
  },
  {
   "cell_type": "code",
   "execution_count": 173,
   "id": "3ff74bd2-c79d-4ae6-a33b-6c92ac8f19b3",
   "metadata": {},
   "outputs": [],
   "source": [
    "v2 = outerFunctions$task_8.function(v1)"
   ]
  },
  {
   "cell_type": "code",
   "execution_count": 174,
   "id": "0e99436c-6c39-4385-aab1-1bb563d1a44c",
   "metadata": {},
   "outputs": [
    {
     "data": {
      "text/html": [
       "<style>\n",
       ".list-inline {list-style: none; margin:0; padding: 0}\n",
       ".list-inline>li {display: inline-block}\n",
       ".list-inline>li:not(:last-child)::after {content: \"\\00b7\"; padding: 0 .5ex}\n",
       "</style>\n",
       "<ol class=list-inline><li>10</li><li>1</li><li>17</li><li>21</li><li>5</li><li>8</li><li>2</li><li>9</li><li>4</li><li>6</li></ol>\n"
      ],
      "text/latex": [
       "\\begin{enumerate*}\n",
       "\\item 10\n",
       "\\item 1\n",
       "\\item 17\n",
       "\\item 21\n",
       "\\item 5\n",
       "\\item 8\n",
       "\\item 2\n",
       "\\item 9\n",
       "\\item 4\n",
       "\\item 6\n",
       "\\end{enumerate*}\n"
      ],
      "text/markdown": [
       "1. 10\n",
       "2. 1\n",
       "3. 17\n",
       "4. 21\n",
       "5. 5\n",
       "6. 8\n",
       "7. 2\n",
       "8. 9\n",
       "9. 4\n",
       "10. 6\n",
       "\n",
       "\n"
      ],
      "text/plain": [
       " [1] 10  1 17 21  5  8  2  9  4  6"
      ]
     },
     "metadata": {},
     "output_type": "display_data"
    }
   ],
   "source": [
    "v2"
   ]
  },
  {
   "cell_type": "code",
   "execution_count": 170,
   "id": "b90d1ed5-50a1-461a-ad26-95980da24d19",
   "metadata": {},
   "outputs": [
    {
     "data": {
      "text/html": [
       "<style>\n",
       ".list-inline {list-style: none; margin:0; padding: 0}\n",
       ".list-inline>li {display: inline-block}\n",
       ".list-inline>li:not(:last-child)::after {content: \"\\00b7\"; padding: 0 .5ex}\n",
       "</style>\n",
       "<ol class=list-inline><li>10</li><li>1</li><li>17</li><li>21</li><li>5</li><li>8</li><li>2</li><li>9</li><li>4</li><li>6</li></ol>\n"
      ],
      "text/latex": [
       "\\begin{enumerate*}\n",
       "\\item 10\n",
       "\\item 1\n",
       "\\item 17\n",
       "\\item 21\n",
       "\\item 5\n",
       "\\item 8\n",
       "\\item 2\n",
       "\\item 9\n",
       "\\item 4\n",
       "\\item 6\n",
       "\\end{enumerate*}\n"
      ],
      "text/markdown": [
       "1. 10\n",
       "2. 1\n",
       "3. 17\n",
       "4. 21\n",
       "5. 5\n",
       "6. 8\n",
       "7. 2\n",
       "8. 9\n",
       "9. 4\n",
       "10. 6\n",
       "\n",
       "\n"
      ],
      "text/plain": [
       " [1] 10  1 17 21  5  8  2  9  4  6"
      ]
     },
     "metadata": {},
     "output_type": "display_data"
    }
   ],
   "source": [
    "v2"
   ]
  },
  {
   "cell_type": "code",
   "execution_count": 132,
   "id": "cdc29e49-ca31-463f-9219-4ac575337895",
   "metadata": {},
   "outputs": [
    {
     "data": {
      "text/html": [
       "<style>\n",
       ".list-inline {list-style: none; margin:0; padding: 0}\n",
       ".list-inline>li {display: inline-block}\n",
       ".list-inline>li:not(:last-child)::after {content: \"\\00b7\"; padding: 0 .5ex}\n",
       "</style>\n",
       "<ol class=list-inline><li>1</li><li>5</li><li>2</li><li>10</li><li>6</li><li>4</li><li>7</li><li>3</li><li>9</li><li>8</li></ol>\n"
      ],
      "text/latex": [
       "\\begin{enumerate*}\n",
       "\\item 1\n",
       "\\item 5\n",
       "\\item 2\n",
       "\\item 10\n",
       "\\item 6\n",
       "\\item 4\n",
       "\\item 7\n",
       "\\item 3\n",
       "\\item 9\n",
       "\\item 8\n",
       "\\end{enumerate*}\n"
      ],
      "text/markdown": [
       "1. 1\n",
       "2. 5\n",
       "3. 2\n",
       "4. 10\n",
       "5. 6\n",
       "6. 4\n",
       "7. 7\n",
       "8. 3\n",
       "9. 9\n",
       "10. 8\n",
       "\n",
       "\n"
      ],
      "text/plain": [
       " [1]  1  5  2 10  6  4  7  3  9  8"
      ]
     },
     "metadata": {},
     "output_type": "display_data"
    }
   ],
   "source": [
    "v2"
   ]
  },
  {
   "cell_type": "code",
   "execution_count": 180,
   "id": "5f0316ee-6236-46f5-a3aa-54a9564cbc10",
   "metadata": {},
   "outputs": [
    {
     "name": "stdout",
     "output_type": "stream",
     "text": [
      "10 không là số chính phương\n",
      "1 là số chính phương\n",
      "17 không là số chính phương\n",
      "21 không là số chính phương\n",
      "5 không là số chính phương\n",
      "8 không là số chính phương\n",
      "2 không là số chính phương\n",
      "9 là số chính phương\n",
      "4 là số chính phương\n",
      "6 không là số chính phương\n"
     ]
    }
   ],
   "source": [
    "outerFunctions$task_9.function(v2)"
   ]
  }
 ],
 "metadata": {
  "kernelspec": {
   "display_name": "R",
   "language": "R",
   "name": "ir"
  },
  "language_info": {
   "codemirror_mode": "r",
   "file_extension": ".r",
   "mimetype": "text/x-r-source",
   "name": "R",
   "pygments_lexer": "r",
   "version": "4.1.0"
  }
 },
 "nbformat": 4,
 "nbformat_minor": 5
}
