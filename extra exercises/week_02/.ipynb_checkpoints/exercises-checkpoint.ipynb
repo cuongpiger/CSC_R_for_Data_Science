{
 "cells": [
  {
   "cell_type": "markdown",
   "id": "a8bdcb9b-c712-4188-9b93-1f274760c9e3",
   "metadata": {},
   "source": [
    "# Bài tập số 1\n",
    "* Definition of `survey_vector`"
   ]
  },
  {
   "cell_type": "code",
   "execution_count": 2,
   "id": "883a27fe-4026-40e7-9c2c-675d302b1a68",
   "metadata": {},
   "outputs": [],
   "source": [
    "survey_vector <- c(\"R\", \"R\", \"L\", \"L\", \"R\", \"R\", \"C\", \"C\")"
   ]
  },
  {
   "cell_type": "markdown",
   "id": "99445ec4-aa96-4be4-ac84-ae2ecdd614e6",
   "metadata": {},
   "source": [
    "* Create survey_vector as a factor: `survey_factor`"
   ]
  },
  {
   "cell_type": "code",
   "execution_count": 3,
   "id": "38a044ec-f241-4ddb-95a9-f00f73952d7b",
   "metadata": {},
   "outputs": [],
   "source": [
    "survey_factor = as.factor(survey_vector)"
   ]
  },
  {
   "cell_type": "markdown",
   "id": "b67a44e2-b9e3-40ac-b9a1-5b8169599393",
   "metadata": {},
   "source": [
    "* Print `survey_factor`"
   ]
  },
  {
   "cell_type": "code",
   "execution_count": 5,
   "id": "e25c95fc-36a3-4dc4-bbfb-6033de3e186f",
   "metadata": {},
   "outputs": [
    {
     "name": "stdout",
     "output_type": "stream",
     "text": [
      "[1] R R L L R R C C\n",
      "Levels: C L R\n"
     ]
    }
   ],
   "source": [
    "print(survey_factor)"
   ]
  },
  {
   "cell_type": "markdown",
   "id": "de23aa7f-08b7-45f0-9142-96649cb11d06",
   "metadata": {},
   "source": [
    "* Print levels of `survey_factor`"
   ]
  },
  {
   "cell_type": "code",
   "execution_count": 6,
   "id": "f8cd1a9a-7f69-4e8e-96d6-2c5fea84f74d",
   "metadata": {},
   "outputs": [
    {
     "data": {
      "text/html": [
       "<style>\n",
       ".list-inline {list-style: none; margin:0; padding: 0}\n",
       ".list-inline>li {display: inline-block}\n",
       ".list-inline>li:not(:last-child)::after {content: \"\\00b7\"; padding: 0 .5ex}\n",
       "</style>\n",
       "<ol class=list-inline><li>'C'</li><li>'L'</li><li>'R'</li></ol>\n"
      ],
      "text/latex": [
       "\\begin{enumerate*}\n",
       "\\item 'C'\n",
       "\\item 'L'\n",
       "\\item 'R'\n",
       "\\end{enumerate*}\n"
      ],
      "text/markdown": [
       "1. 'C'\n",
       "2. 'L'\n",
       "3. 'R'\n",
       "\n",
       "\n"
      ],
      "text/plain": [
       "[1] \"C\" \"L\" \"R\""
      ]
     },
     "metadata": {},
     "output_type": "display_data"
    }
   ],
   "source": [
    "levels(survey_factor)"
   ]
  },
  {
   "cell_type": "markdown",
   "id": "ab0996a4-ce56-4308-81e8-7986649933d7",
   "metadata": {},
   "source": [
    "* Print nlevels of `survey_factor`"
   ]
  },
  {
   "cell_type": "code",
   "execution_count": 7,
   "id": "cd25b7a8-ce53-47e9-b593-0d5f2adc8c9b",
   "metadata": {},
   "outputs": [
    {
     "data": {
      "text/html": [
       "3"
      ],
      "text/latex": [
       "3"
      ],
      "text/markdown": [
       "3"
      ],
      "text/plain": [
       "[1] 3"
      ]
     },
     "metadata": {},
     "output_type": "display_data"
    }
   ],
   "source": [
    "nlevels(survey_factor)"
   ]
  },
  {
   "cell_type": "markdown",
   "id": "f5acfa27-fb75-4ebb-a1c2-d282e611dd9b",
   "metadata": {},
   "source": [
    "* How many elements of each factor?"
   ]
  },
  {
   "cell_type": "code",
   "execution_count": 10,
   "id": "3ba6c3ed-234f-4fd8-bb22-2f965aaa41c7",
   "metadata": {},
   "outputs": [
    {
     "data": {
      "text/html": [
       "<table class=\"dataframe\">\n",
       "<caption>A data.frame: 3 × 2</caption>\n",
       "<thead>\n",
       "\t<tr><th scope=col>survey_factor</th><th scope=col>Freq</th></tr>\n",
       "\t<tr><th scope=col>&lt;fct&gt;</th><th scope=col>&lt;int&gt;</th></tr>\n",
       "</thead>\n",
       "<tbody>\n",
       "\t<tr><td>C</td><td>2</td></tr>\n",
       "\t<tr><td>L</td><td>2</td></tr>\n",
       "\t<tr><td>R</td><td>4</td></tr>\n",
       "</tbody>\n",
       "</table>\n"
      ],
      "text/latex": [
       "A data.frame: 3 × 2\n",
       "\\begin{tabular}{ll}\n",
       " survey\\_factor & Freq\\\\\n",
       " <fct> & <int>\\\\\n",
       "\\hline\n",
       "\t C & 2\\\\\n",
       "\t L & 2\\\\\n",
       "\t R & 4\\\\\n",
       "\\end{tabular}\n"
      ],
      "text/markdown": [
       "\n",
       "A data.frame: 3 × 2\n",
       "\n",
       "| survey_factor &lt;fct&gt; | Freq &lt;int&gt; |\n",
       "|---|---|\n",
       "| C | 2 |\n",
       "| L | 2 |\n",
       "| R | 4 |\n",
       "\n"
      ],
      "text/plain": [
       "  survey_factor Freq\n",
       "1 C             2   \n",
       "2 L             2   \n",
       "3 R             4   "
      ]
     },
     "metadata": {},
     "output_type": "display_data"
    }
   ],
   "source": [
    "as.data.frame(table(survey_factor))"
   ]
  },
  {
   "cell_type": "markdown",
   "id": "5a7211ee-6c90-468a-8c13-aa6d739382d1",
   "metadata": {},
   "source": [
    "# Bài tập số 2"
   ]
  },
  {
   "cell_type": "markdown",
   "id": "294f932e-1634-44d2-9676-e25421c9c800",
   "metadata": {},
   "source": [
    "* Create `my_vector`: 1 up to 10"
   ]
  },
  {
   "cell_type": "code",
   "execution_count": 13,
   "id": "7169d02f-e744-4bde-a1e7-40a77ce9755d",
   "metadata": {},
   "outputs": [],
   "source": [
    "my_vector = 1:10"
   ]
  },
  {
   "cell_type": "code",
   "execution_count": 14,
   "id": "54ef913a-dbae-481d-a425-ab72b537546a",
   "metadata": {},
   "outputs": [
    {
     "data": {
      "text/html": [
       "<style>\n",
       ".list-inline {list-style: none; margin:0; padding: 0}\n",
       ".list-inline>li {display: inline-block}\n",
       ".list-inline>li:not(:last-child)::after {content: \"\\00b7\"; padding: 0 .5ex}\n",
       "</style>\n",
       "<ol class=list-inline><li>1</li><li>2</li><li>3</li><li>4</li><li>5</li><li>6</li><li>7</li><li>8</li><li>9</li><li>10</li></ol>\n"
      ],
      "text/latex": [
       "\\begin{enumerate*}\n",
       "\\item 1\n",
       "\\item 2\n",
       "\\item 3\n",
       "\\item 4\n",
       "\\item 5\n",
       "\\item 6\n",
       "\\item 7\n",
       "\\item 8\n",
       "\\item 9\n",
       "\\item 10\n",
       "\\end{enumerate*}\n"
      ],
      "text/markdown": [
       "1. 1\n",
       "2. 2\n",
       "3. 3\n",
       "4. 4\n",
       "5. 5\n",
       "6. 6\n",
       "7. 7\n",
       "8. 8\n",
       "9. 9\n",
       "10. 10\n",
       "\n",
       "\n"
      ],
      "text/plain": [
       " [1]  1  2  3  4  5  6  7  8  9 10"
      ]
     },
     "metadata": {},
     "output_type": "display_data"
    }
   ],
   "source": [
    "my_vector"
   ]
  },
  {
   "cell_type": "markdown",
   "id": "a96e90d5-683f-4a51-abce-dc0205b61833",
   "metadata": {},
   "source": [
    "* Create `my_matrix` (3x3): 1 up to 9"
   ]
  },
  {
   "cell_type": "code",
   "execution_count": 15,
   "id": "ce796089-9773-485c-a399-fa1565a011ac",
   "metadata": {},
   "outputs": [],
   "source": [
    "my_matrix = matrix(1:9, nrow = 3, byrow = TRUE)"
   ]
  },
  {
   "cell_type": "code",
   "execution_count": 16,
   "id": "94301ea9-a2a4-4b8a-ae54-bc487675ea3c",
   "metadata": {},
   "outputs": [
    {
     "data": {
      "text/html": [
       "<table class=\"dataframe\">\n",
       "<caption>A matrix: 3 × 3 of type int</caption>\n",
       "<tbody>\n",
       "\t<tr><td>1</td><td>2</td><td>3</td></tr>\n",
       "\t<tr><td>4</td><td>5</td><td>6</td></tr>\n",
       "\t<tr><td>7</td><td>8</td><td>9</td></tr>\n",
       "</tbody>\n",
       "</table>\n"
      ],
      "text/latex": [
       "A matrix: 3 × 3 of type int\n",
       "\\begin{tabular}{lll}\n",
       "\t 1 & 2 & 3\\\\\n",
       "\t 4 & 5 & 6\\\\\n",
       "\t 7 & 8 & 9\\\\\n",
       "\\end{tabular}\n"
      ],
      "text/markdown": [
       "\n",
       "A matrix: 3 × 3 of type int\n",
       "\n",
       "| 1 | 2 | 3 |\n",
       "| 4 | 5 | 6 |\n",
       "| 7 | 8 | 9 |\n",
       "\n"
      ],
      "text/plain": [
       "     [,1] [,2] [,3]\n",
       "[1,] 1    2    3   \n",
       "[2,] 4    5    6   \n",
       "[3,] 7    8    9   "
      ]
     },
     "metadata": {},
     "output_type": "display_data"
    }
   ],
   "source": [
    "my_matrix"
   ]
  },
  {
   "cell_type": "markdown",
   "id": "78447fcd-591a-42b6-82dc-3d114114cf2d",
   "metadata": {},
   "source": [
    "* Create `my_factor` from sizes"
   ]
  },
  {
   "cell_type": "code",
   "execution_count": 11,
   "id": "64233a62-9644-476e-95d4-91019c589202",
   "metadata": {},
   "outputs": [],
   "source": [
    "sizes <-c(\"M\",\"S\",\"L\",\"L\",\"M\")"
   ]
  },
  {
   "cell_type": "code",
   "execution_count": 17,
   "id": "1bf7e383-e3a3-4adc-ae68-45384ef9c4ed",
   "metadata": {},
   "outputs": [],
   "source": [
    "my_factor = as.factor(sizes)"
   ]
  },
  {
   "cell_type": "code",
   "execution_count": 18,
   "id": "91113c7a-7aed-481f-bdca-7dad47c65eb2",
   "metadata": {},
   "outputs": [
    {
     "data": {
      "text/html": [
       "<style>\n",
       ".list-inline {list-style: none; margin:0; padding: 0}\n",
       ".list-inline>li {display: inline-block}\n",
       ".list-inline>li:not(:last-child)::after {content: \"\\00b7\"; padding: 0 .5ex}\n",
       "</style>\n",
       "<ol class=list-inline><li>M</li><li>S</li><li>L</li><li>L</li><li>M</li></ol>\n",
       "\n",
       "<details>\n",
       "\t<summary style=display:list-item;cursor:pointer>\n",
       "\t\t<strong>Levels</strong>:\n",
       "\t</summary>\n",
       "\t<style>\n",
       "\t.list-inline {list-style: none; margin:0; padding: 0}\n",
       "\t.list-inline>li {display: inline-block}\n",
       "\t.list-inline>li:not(:last-child)::after {content: \"\\00b7\"; padding: 0 .5ex}\n",
       "\t</style>\n",
       "\t<ol class=list-inline><li>'L'</li><li>'M'</li><li>'S'</li></ol>\n",
       "</details>"
      ],
      "text/latex": [
       "\\begin{enumerate*}\n",
       "\\item M\n",
       "\\item S\n",
       "\\item L\n",
       "\\item L\n",
       "\\item M\n",
       "\\end{enumerate*}\n",
       "\n",
       "\\emph{Levels}: \\begin{enumerate*}\n",
       "\\item 'L'\n",
       "\\item 'M'\n",
       "\\item 'S'\n",
       "\\end{enumerate*}\n"
      ],
      "text/markdown": [
       "1. M\n",
       "2. S\n",
       "3. L\n",
       "4. L\n",
       "5. M\n",
       "\n",
       "\n",
       "\n",
       "**Levels**: 1. 'L'\n",
       "2. 'M'\n",
       "3. 'S'\n",
       "\n",
       "\n"
      ],
      "text/plain": [
       "[1] M S L L M\n",
       "Levels: L M S"
      ]
     },
     "metadata": {},
     "output_type": "display_data"
    }
   ],
   "source": [
    "my_factor"
   ]
  },
  {
   "cell_type": "markdown",
   "id": "cde22ae3-0169-416c-b631-5732746f3483",
   "metadata": {},
   "source": [
    "* Construct `my_list` with the three data structures above"
   ]
  },
  {
   "cell_type": "code",
   "execution_count": 19,
   "id": "abe88d59-7a5e-4b63-b8d2-5dab377c8b1d",
   "metadata": {},
   "outputs": [],
   "source": [
    "my_list = list(my_vector, my_matrix, my_factor)"
   ]
  },
  {
   "cell_type": "code",
   "execution_count": 20,
   "id": "d5f2eb17-419d-4e3c-b5a9-af52ed3c149f",
   "metadata": {},
   "outputs": [
    {
     "data": {
      "text/html": [
       "<ol>\n",
       "\t<li><style>\n",
       ".list-inline {list-style: none; margin:0; padding: 0}\n",
       ".list-inline>li {display: inline-block}\n",
       ".list-inline>li:not(:last-child)::after {content: \"\\00b7\"; padding: 0 .5ex}\n",
       "</style>\n",
       "<ol class=list-inline><li>1</li><li>2</li><li>3</li><li>4</li><li>5</li><li>6</li><li>7</li><li>8</li><li>9</li><li>10</li></ol>\n",
       "</li>\n",
       "\t<li><table class=\"dataframe\">\n",
       "<caption>A matrix: 3 × 3 of type int</caption>\n",
       "<tbody>\n",
       "\t<tr><td>1</td><td>2</td><td>3</td></tr>\n",
       "\t<tr><td>4</td><td>5</td><td>6</td></tr>\n",
       "\t<tr><td>7</td><td>8</td><td>9</td></tr>\n",
       "</tbody>\n",
       "</table>\n",
       "</li>\n",
       "\t<li><style>\n",
       ".list-inline {list-style: none; margin:0; padding: 0}\n",
       ".list-inline>li {display: inline-block}\n",
       ".list-inline>li:not(:last-child)::after {content: \"\\00b7\"; padding: 0 .5ex}\n",
       "</style>\n",
       "<ol class=list-inline><li>M</li><li>S</li><li>L</li><li>L</li><li>M</li></ol>\n",
       "\n",
       "<details>\n",
       "\t<summary style=display:list-item;cursor:pointer>\n",
       "\t\t<strong>Levels</strong>:\n",
       "\t</summary>\n",
       "\t<style>\n",
       "\t.list-inline {list-style: none; margin:0; padding: 0}\n",
       "\t.list-inline>li {display: inline-block}\n",
       "\t.list-inline>li:not(:last-child)::after {content: \"\\00b7\"; padding: 0 .5ex}\n",
       "\t</style>\n",
       "\t<ol class=list-inline><li>'L'</li><li>'M'</li><li>'S'</li></ol>\n",
       "</details></li>\n",
       "</ol>\n"
      ],
      "text/latex": [
       "\\begin{enumerate}\n",
       "\\item \\begin{enumerate*}\n",
       "\\item 1\n",
       "\\item 2\n",
       "\\item 3\n",
       "\\item 4\n",
       "\\item 5\n",
       "\\item 6\n",
       "\\item 7\n",
       "\\item 8\n",
       "\\item 9\n",
       "\\item 10\n",
       "\\end{enumerate*}\n",
       "\n",
       "\\item A matrix: 3 × 3 of type int\n",
       "\\begin{tabular}{lll}\n",
       "\t 1 & 2 & 3\\\\\n",
       "\t 4 & 5 & 6\\\\\n",
       "\t 7 & 8 & 9\\\\\n",
       "\\end{tabular}\n",
       "\n",
       "\\item \\begin{enumerate*}\n",
       "\\item M\n",
       "\\item S\n",
       "\\item L\n",
       "\\item L\n",
       "\\item M\n",
       "\\end{enumerate*}\n",
       "\n",
       "\\emph{Levels}: \\begin{enumerate*}\n",
       "\\item 'L'\n",
       "\\item 'M'\n",
       "\\item 'S'\n",
       "\\end{enumerate*}\n",
       "\n",
       "\\end{enumerate}\n"
      ],
      "text/markdown": [
       "1. 1. 1\n",
       "2. 2\n",
       "3. 3\n",
       "4. 4\n",
       "5. 5\n",
       "6. 6\n",
       "7. 7\n",
       "8. 8\n",
       "9. 9\n",
       "10. 10\n",
       "\n",
       "\n",
       "\n",
       "2. \n",
       "A matrix: 3 × 3 of type int\n",
       "\n",
       "| 1 | 2 | 3 |\n",
       "| 4 | 5 | 6 |\n",
       "| 7 | 8 | 9 |\n",
       "\n",
       "\n",
       "3. 1. M\n",
       "2. S\n",
       "3. L\n",
       "4. L\n",
       "5. M\n",
       "\n",
       "\n",
       "\n",
       "**Levels**: 1. 'L'\n",
       "2. 'M'\n",
       "3. 'S'\n",
       "\n",
       "\n",
       "\n",
       "\n",
       "\n"
      ],
      "text/plain": [
       "[[1]]\n",
       " [1]  1  2  3  4  5  6  7  8  9 10\n",
       "\n",
       "[[2]]\n",
       "     [,1] [,2] [,3]\n",
       "[1,]    1    2    3\n",
       "[2,]    4    5    6\n",
       "[3,]    7    8    9\n",
       "\n",
       "[[3]]\n",
       "[1] M S L L M\n",
       "Levels: L M S\n"
      ]
     },
     "metadata": {},
     "output_type": "display_data"
    }
   ],
   "source": [
    "my_list"
   ]
  },
  {
   "cell_type": "markdown",
   "id": "3d2675b9-f387-4986-8dcc-ec49d9562447",
   "metadata": {},
   "source": [
    "* Construct `my_super_list` with the four data structures above"
   ]
  },
  {
   "cell_type": "code",
   "execution_count": 21,
   "id": "3e1a701d-7479-4b49-b1b4-df3c1ec27f7a",
   "metadata": {},
   "outputs": [],
   "source": [
    "my_super_list = list(my_vector, my_matrix, my_factor, my_list)"
   ]
  },
  {
   "cell_type": "markdown",
   "id": "cb66f1f0-bc4d-4b16-b48c-d79169db7565",
   "metadata": {},
   "source": [
    "* Display structure of `my_super_list` (Use `str()`)"
   ]
  },
  {
   "cell_type": "code",
   "execution_count": 22,
   "id": "1c4b3c8e-33ff-46f3-968b-308828be0ac7",
   "metadata": {},
   "outputs": [
    {
     "name": "stdout",
     "output_type": "stream",
     "text": [
      "List of 4\n",
      " $ : int [1:10] 1 2 3 4 5 6 7 8 9 10\n",
      " $ : int [1:3, 1:3] 1 4 7 2 5 8 3 6 9\n",
      " $ : Factor w/ 3 levels \"L\",\"M\",\"S\": 2 3 1 1 2\n",
      " $ :List of 3\n",
      "  ..$ : int [1:10] 1 2 3 4 5 6 7 8 9 10\n",
      "  ..$ : int [1:3, 1:3] 1 4 7 2 5 8 3 6 9\n",
      "  ..$ : Factor w/ 3 levels \"L\",\"M\",\"S\": 2 3 1 1 2\n"
     ]
    }
   ],
   "source": [
    "str(my_super_list)"
   ]
  },
  {
   "cell_type": "markdown",
   "id": "37092ff0-ff22-4991-b5b7-1ecfd832bdf0",
   "metadata": {},
   "source": [
    "* Print `my_matrix`, sum of `my_matrix`, sum of even elements in `my_matrix`"
   ]
  },
  {
   "cell_type": "code",
   "execution_count": 23,
   "id": "940fffa6-86c9-45d2-b0b5-f44e96a9cb34",
   "metadata": {},
   "outputs": [
    {
     "name": "stdout",
     "output_type": "stream",
     "text": [
      "     [,1] [,2] [,3]\n",
      "[1,]    1    2    3\n",
      "[2,]    4    5    6\n",
      "[3,]    7    8    9\n"
     ]
    }
   ],
   "source": [
    "print(my_matrix)"
   ]
  },
  {
   "cell_type": "code",
   "execution_count": 24,
   "id": "a1913a26-2893-4c8a-a9c9-178c99fa3ab2",
   "metadata": {},
   "outputs": [
    {
     "data": {
      "text/html": [
       "45"
      ],
      "text/latex": [
       "45"
      ],
      "text/markdown": [
       "45"
      ],
      "text/plain": [
       "[1] 45"
      ]
     },
     "metadata": {},
     "output_type": "display_data"
    }
   ],
   "source": [
    "sum(my_matrix)"
   ]
  },
  {
   "cell_type": "code",
   "execution_count": 28,
   "id": "41f74ab8-43d9-42ed-99f5-3e7ce2162623",
   "metadata": {},
   "outputs": [],
   "source": [
    "even_numbers = sum(my_matrix[my_matrix[my_matrix %% 2 == 0]])"
   ]
  },
  {
   "cell_type": "code",
   "execution_count": 29,
   "id": "d3acc726-01ca-43ad-858f-4643486e47ac",
   "metadata": {},
   "outputs": [
    {
     "data": {
      "text/html": [
       "20"
      ],
      "text/latex": [
       "20"
      ],
      "text/markdown": [
       "20"
      ],
      "text/plain": [
       "[1] 20"
      ]
     },
     "metadata": {},
     "output_type": "display_data"
    }
   ],
   "source": [
    "even_numbers"
   ]
  },
  {
   "cell_type": "markdown",
   "id": "d47a47a3-a30f-4516-9258-89c6581baaa0",
   "metadata": {},
   "source": [
    "# Bài tập số 3"
   ]
  },
  {
   "cell_type": "code",
   "execution_count": 39,
   "id": "2dacd614-21a5-4433-bcec-0d5443d7b446",
   "metadata": {},
   "outputs": [],
   "source": [
    "sieveOfEratosthenes = function(n=1000) {\n",
    "    primes = logical(n) | TRUE\n",
    "    res = c()\n",
    "    p = 2\n",
    "    \n",
    "    while (p*p <= n) {\n",
    "        if (primes[p] == TRUE) {\n",
    "            for (i in seq(from = p*p, to = n, by = p)) {\n",
    "                primes[i] = FALSE\n",
    "            }\n",
    "        }\n",
    "        \n",
    "        p = p + 1\n",
    "    }\n",
    "    \n",
    "    for (p in (2:n)) {\n",
    "        if (primes[p]) {\n",
    "            res = append(res, p)\n",
    "        }\n",
    "    }\n",
    "    \n",
    "    return (res)\n",
    "}"
   ]
  },
  {
   "cell_type": "code",
   "execution_count": 46,
   "id": "e2b56186-315b-4e2d-b32e-adf33fe0c2d7",
   "metadata": {},
   "outputs": [],
   "source": [
    "createMatrix = function(size=4, n=1000) {\n",
    "    primes = sieveOfEratosthenes(n)\n",
    "    elements = sample(primes, size*size, TRUE)\n",
    "    \n",
    "    return (matrix(elements, nrow = size))\n",
    "}"
   ]
  },
  {
   "cell_type": "markdown",
   "id": "09e414a8-06da-4332-ab4a-68ed3c54a11c",
   "metadata": {},
   "source": [
    "* Create `my_matrix` (4x4): each element is a randomly generated prime number."
   ]
  },
  {
   "cell_type": "code",
   "execution_count": 47,
   "id": "c150cc53-320e-4ba1-88c8-8f281f237662",
   "metadata": {},
   "outputs": [],
   "source": [
    "my_matrix = createMatrix()"
   ]
  },
  {
   "cell_type": "code",
   "execution_count": 48,
   "id": "71e4dde9-9e70-4fe4-9dee-6159c709b58b",
   "metadata": {},
   "outputs": [
    {
     "data": {
      "text/html": [
       "<table class=\"dataframe\">\n",
       "<caption>A matrix: 4 × 4 of type int</caption>\n",
       "<tbody>\n",
       "\t<tr><td>251</td><td>881</td><td>751</td><td>433</td></tr>\n",
       "\t<tr><td>769</td><td> 43</td><td>167</td><td>911</td></tr>\n",
       "\t<tr><td>811</td><td>569</td><td>593</td><td>439</td></tr>\n",
       "\t<tr><td>379</td><td>347</td><td>149</td><td>307</td></tr>\n",
       "</tbody>\n",
       "</table>\n"
      ],
      "text/latex": [
       "A matrix: 4 × 4 of type int\n",
       "\\begin{tabular}{llll}\n",
       "\t 251 & 881 & 751 & 433\\\\\n",
       "\t 769 &  43 & 167 & 911\\\\\n",
       "\t 811 & 569 & 593 & 439\\\\\n",
       "\t 379 & 347 & 149 & 307\\\\\n",
       "\\end{tabular}\n"
      ],
      "text/markdown": [
       "\n",
       "A matrix: 4 × 4 of type int\n",
       "\n",
       "| 251 | 881 | 751 | 433 |\n",
       "| 769 |  43 | 167 | 911 |\n",
       "| 811 | 569 | 593 | 439 |\n",
       "| 379 | 347 | 149 | 307 |\n",
       "\n"
      ],
      "text/plain": [
       "     [,1] [,2] [,3] [,4]\n",
       "[1,] 251  881  751  433 \n",
       "[2,] 769   43  167  911 \n",
       "[3,] 811  569  593  439 \n",
       "[4,] 379  347  149  307 "
      ]
     },
     "metadata": {},
     "output_type": "display_data"
    }
   ],
   "source": [
    "my_matrix"
   ]
  },
  {
   "cell_type": "markdown",
   "id": "5db0cdf9-6da4-4736-90f1-946d1f178b7b",
   "metadata": {},
   "source": [
    "* Sum the elements on the main diagonal of the matrix\n",
    "_(Note: Build function to `create_matrix`, function to `test_Prime` number, and function to `Sum`... >> Call function)_"
   ]
  },
  {
   "cell_type": "code",
   "execution_count": 49,
   "id": "e0248f10-eae4-4bc6-a277-988354107177",
   "metadata": {},
   "outputs": [],
   "source": [
    "elements_on_diagonal = diag(my_matrix)"
   ]
  },
  {
   "cell_type": "code",
   "execution_count": 50,
   "id": "92d96331-c479-403f-bd45-528ad9fc56a7",
   "metadata": {},
   "outputs": [
    {
     "data": {
      "text/html": [
       "<style>\n",
       ".list-inline {list-style: none; margin:0; padding: 0}\n",
       ".list-inline>li {display: inline-block}\n",
       ".list-inline>li:not(:last-child)::after {content: \"\\00b7\"; padding: 0 .5ex}\n",
       "</style>\n",
       "<ol class=list-inline><li>251</li><li>43</li><li>593</li><li>307</li></ol>\n"
      ],
      "text/latex": [
       "\\begin{enumerate*}\n",
       "\\item 251\n",
       "\\item 43\n",
       "\\item 593\n",
       "\\item 307\n",
       "\\end{enumerate*}\n"
      ],
      "text/markdown": [
       "1. 251\n",
       "2. 43\n",
       "3. 593\n",
       "4. 307\n",
       "\n",
       "\n"
      ],
      "text/plain": [
       "[1] 251  43 593 307"
      ]
     },
     "metadata": {},
     "output_type": "display_data"
    }
   ],
   "source": [
    "elements_on_diagonal"
   ]
  },
  {
   "cell_type": "code",
   "execution_count": 51,
   "id": "e5775979-2ac9-404e-975c-3e55300a8741",
   "metadata": {},
   "outputs": [
    {
     "data": {
      "text/html": [
       "1194"
      ],
      "text/latex": [
       "1194"
      ],
      "text/markdown": [
       "1194"
      ],
      "text/plain": [
       "[1] 1194"
      ]
     },
     "metadata": {},
     "output_type": "display_data"
    }
   ],
   "source": [
    "sum(elements_on_diagonal)"
   ]
  },
  {
   "cell_type": "markdown",
   "id": "a70f927b-3d2d-417c-9cf1-998729cd2c41",
   "metadata": {},
   "source": [
    "# Bài tập số 4"
   ]
  },
  {
   "cell_type": "markdown",
   "id": "3503c57f-9d9c-4ab0-b3dd-ba75bc2a66bc",
   "metadata": {},
   "source": [
    "* Create `my_array` (4, 4, 2): from 2 matrices created by calling function create_matrix (Bai tap so 3)"
   ]
  },
  {
   "cell_type": "code",
   "execution_count": 53,
   "id": "76afee50-8ace-4f12-9882-00f4716a5774",
   "metadata": {},
   "outputs": [],
   "source": [
    "m1 = createMatrix()\n",
    "m2 = createMatrix()\n",
    "my_array = array(c(m1, m2), dim=c(4, 4, 2))"
   ]
  },
  {
   "cell_type": "code",
   "execution_count": 55,
   "id": "e9f07c12-1d33-4d1f-adfe-f577044129f0",
   "metadata": {},
   "outputs": [
    {
     "name": "stdout",
     "output_type": "stream",
     "text": [
      ", , 1\n",
      "\n",
      "     [,1] [,2] [,3] [,4]\n",
      "[1,]  601  401   83  797\n",
      "[2,]   67  337  857    3\n",
      "[3,]   29  331  277  521\n",
      "[4,]  947  997  293  337\n",
      "\n",
      ", , 2\n",
      "\n",
      "     [,1] [,2] [,3] [,4]\n",
      "[1,]  937  457  929   19\n",
      "[2,]  653  929  761  113\n",
      "[3,]  757  709  863  353\n",
      "[4,]   37  991  283  541\n",
      "\n"
     ]
    }
   ],
   "source": [
    "print(my_array)"
   ]
  },
  {
   "cell_type": "markdown",
   "id": "d0035a5c-c2a7-41b3-892a-8d9a0496925e",
   "metadata": {},
   "source": [
    "* Use apply to calculate the min of the rows across all the matrices."
   ]
  },
  {
   "cell_type": "code",
   "execution_count": 58,
   "id": "2513bb41-630a-414c-bd5e-50d6952acceb",
   "metadata": {},
   "outputs": [
    {
     "data": {
      "text/html": [
       "<style>\n",
       ".list-inline {list-style: none; margin:0; padding: 0}\n",
       ".list-inline>li {display: inline-block}\n",
       ".list-inline>li:not(:last-child)::after {content: \"\\00b7\"; padding: 0 .5ex}\n",
       "</style>\n",
       "<ol class=list-inline><li>83</li><li>3</li><li>29</li><li>293</li></ol>\n"
      ],
      "text/latex": [
       "\\begin{enumerate*}\n",
       "\\item 83\n",
       "\\item 3\n",
       "\\item 29\n",
       "\\item 293\n",
       "\\end{enumerate*}\n"
      ],
      "text/markdown": [
       "1. 83\n",
       "2. 3\n",
       "3. 29\n",
       "4. 293\n",
       "\n",
       "\n"
      ],
      "text/plain": [
       "[1]  83   3  29 293"
      ]
     },
     "metadata": {},
     "output_type": "display_data"
    }
   ],
   "source": [
    "apply(my_array[,,1], c(1), min)"
   ]
  },
  {
   "cell_type": "code",
   "execution_count": 59,
   "id": "07c85646-b0ba-49cb-8511-db259c0c0f9f",
   "metadata": {},
   "outputs": [
    {
     "data": {
      "text/html": [
       "<style>\n",
       ".list-inline {list-style: none; margin:0; padding: 0}\n",
       ".list-inline>li {display: inline-block}\n",
       ".list-inline>li:not(:last-child)::after {content: \"\\00b7\"; padding: 0 .5ex}\n",
       "</style>\n",
       "<ol class=list-inline><li>19</li><li>113</li><li>353</li><li>37</li></ol>\n"
      ],
      "text/latex": [
       "\\begin{enumerate*}\n",
       "\\item 19\n",
       "\\item 113\n",
       "\\item 353\n",
       "\\item 37\n",
       "\\end{enumerate*}\n"
      ],
      "text/markdown": [
       "1. 19\n",
       "2. 113\n",
       "3. 353\n",
       "4. 37\n",
       "\n",
       "\n"
      ],
      "text/plain": [
       "[1]  19 113 353  37"
      ]
     },
     "metadata": {},
     "output_type": "display_data"
    }
   ],
   "source": [
    "apply(my_array[,,2], c(1), min)"
   ]
  },
  {
   "cell_type": "markdown",
   "id": "6e9fda39-d0cb-43f6-b974-de8840979cd7",
   "metadata": {},
   "source": [
    "* Use apply to calculate the max of the columns across all the matrices."
   ]
  },
  {
   "cell_type": "code",
   "execution_count": 60,
   "id": "e715c7fc-5ae8-4f97-b4b2-bbf22dee238f",
   "metadata": {},
   "outputs": [
    {
     "data": {
      "text/html": [
       "<style>\n",
       ".list-inline {list-style: none; margin:0; padding: 0}\n",
       ".list-inline>li {display: inline-block}\n",
       ".list-inline>li:not(:last-child)::after {content: \"\\00b7\"; padding: 0 .5ex}\n",
       "</style>\n",
       "<ol class=list-inline><li>947</li><li>997</li><li>857</li><li>797</li></ol>\n"
      ],
      "text/latex": [
       "\\begin{enumerate*}\n",
       "\\item 947\n",
       "\\item 997\n",
       "\\item 857\n",
       "\\item 797\n",
       "\\end{enumerate*}\n"
      ],
      "text/markdown": [
       "1. 947\n",
       "2. 997\n",
       "3. 857\n",
       "4. 797\n",
       "\n",
       "\n"
      ],
      "text/plain": [
       "[1] 947 997 857 797"
      ]
     },
     "metadata": {},
     "output_type": "display_data"
    }
   ],
   "source": [
    "apply(my_array[,,1], c(2), max)"
   ]
  },
  {
   "cell_type": "code",
   "execution_count": 61,
   "id": "88f6ced2-379c-4b3c-b5f9-423e3e853cf0",
   "metadata": {},
   "outputs": [
    {
     "data": {
      "text/html": [
       "<style>\n",
       ".list-inline {list-style: none; margin:0; padding: 0}\n",
       ".list-inline>li {display: inline-block}\n",
       ".list-inline>li:not(:last-child)::after {content: \"\\00b7\"; padding: 0 .5ex}\n",
       "</style>\n",
       "<ol class=list-inline><li>937</li><li>991</li><li>929</li><li>541</li></ol>\n"
      ],
      "text/latex": [
       "\\begin{enumerate*}\n",
       "\\item 937\n",
       "\\item 991\n",
       "\\item 929\n",
       "\\item 541\n",
       "\\end{enumerate*}\n"
      ],
      "text/markdown": [
       "1. 937\n",
       "2. 991\n",
       "3. 929\n",
       "4. 541\n",
       "\n",
       "\n"
      ],
      "text/plain": [
       "[1] 937 991 929 541"
      ]
     },
     "metadata": {},
     "output_type": "display_data"
    }
   ],
   "source": [
    "apply(my_array[,,2], c(2), max)"
   ]
  },
  {
   "cell_type": "markdown",
   "id": "9d922959-b0cc-4520-be85-b290515f4bc3",
   "metadata": {},
   "source": [
    "* Use apply to calculate the sum of each matrix in `my_array`"
   ]
  },
  {
   "cell_type": "code",
   "execution_count": 62,
   "id": "60be38e5-8b74-4c64-b5bb-8e64f1bcfca8",
   "metadata": {},
   "outputs": [
    {
     "data": {
      "text/html": [
       "6878"
      ],
      "text/latex": [
       "6878"
      ],
      "text/markdown": [
       "6878"
      ],
      "text/plain": [
       "[1] 6878"
      ]
     },
     "metadata": {},
     "output_type": "display_data"
    }
   ],
   "source": [
    "sum(my_array[,,1])"
   ]
  },
  {
   "cell_type": "code",
   "execution_count": 63,
   "id": "e8b7a556-ded8-4755-9b00-95d14cb54818",
   "metadata": {},
   "outputs": [
    {
     "data": {
      "text/html": [
       "9332"
      ],
      "text/latex": [
       "9332"
      ],
      "text/markdown": [
       "9332"
      ],
      "text/plain": [
       "[1] 9332"
      ]
     },
     "metadata": {},
     "output_type": "display_data"
    }
   ],
   "source": [
    "sum(my_array[,,2])"
   ]
  },
  {
   "cell_type": "markdown",
   "id": "8a544f14-e4c4-4e5c-9dd1-5518d9ae625d",
   "metadata": {},
   "source": [
    "# Bài tập số 5"
   ]
  },
  {
   "cell_type": "markdown",
   "id": "955f94c1-5095-4b7b-8545-5ff4315de0db",
   "metadata": {},
   "source": [
    "* Create title, actors, reviews"
   ]
  },
  {
   "cell_type": "code",
   "execution_count": 64,
   "id": "b1c66d5d-9cbb-43b1-9133-d8b0ecef443b",
   "metadata": {},
   "outputs": [],
   "source": [
    "title = \"The Shining\"\n",
    "actors_vector <- c(\"Jack Nicholson\",\"Shelley Duvall\",\"Danny Lloyd\",\"Scatman Crothers\",\"Barry Nelson\")\n",
    "reviews_factor <- factor(c(\"Good\", \"OK\", \"Good\", \"Perfect\", \"Bad\", \"Perfect\", \"Good\"), \n",
    "                  ordered = TRUE, levels = c(\"Bad\", \"OK\", \"Good\", \"Perfect\"))"
   ]
  },
  {
   "cell_type": "markdown",
   "id": "ef00bea0-0776-4e1f-9a79-2546d72454ba",
   "metadata": {},
   "source": [
    "* Create the list `shining_list` from 3 vectors above"
   ]
  },
  {
   "cell_type": "code",
   "execution_count": 65,
   "id": "2edf6af3-fb16-4343-9e4c-6b4ae143a5b5",
   "metadata": {},
   "outputs": [],
   "source": [
    "shining_list = list(title, actors_vector, reviews_factor)"
   ]
  },
  {
   "cell_type": "markdown",
   "id": "acc6cfd4-2f0e-491a-a902-2e300c05b401",
   "metadata": {},
   "source": [
    "* Select the last actor from list: `last_actor`"
   ]
  },
  {
   "cell_type": "code",
   "execution_count": 68,
   "id": "e835b23b-9ff5-4742-8f23-a0c96eec1580",
   "metadata": {},
   "outputs": [],
   "source": [
    "last_actor = tail(shining_list[[2]], 1)[1]"
   ]
  },
  {
   "cell_type": "code",
   "execution_count": 69,
   "id": "ec038982-e038-4420-9f88-ce2b12f66d52",
   "metadata": {},
   "outputs": [
    {
     "data": {
      "text/html": [
       "'Barry Nelson'"
      ],
      "text/latex": [
       "'Barry Nelson'"
      ],
      "text/markdown": [
       "'Barry Nelson'"
      ],
      "text/plain": [
       "[1] \"Barry Nelson\""
      ]
     },
     "metadata": {},
     "output_type": "display_data"
    }
   ],
   "source": [
    "last_actor"
   ]
  },
  {
   "cell_type": "markdown",
   "id": "bab9b1e7-efd1-435c-985c-ebc703dc4267",
   "metadata": {},
   "source": [
    "* Select the second review from list: `second_review`"
   ]
  },
  {
   "cell_type": "code",
   "execution_count": 74,
   "id": "e51da7c8-a7ff-441a-bd78-ead922db508f",
   "metadata": {},
   "outputs": [],
   "source": [
    "second_review = shining_list[[3]][2]"
   ]
  },
  {
   "cell_type": "code",
   "execution_count": 75,
   "id": "beed3f2a-d2c2-4633-b9fb-2cbad6c7bc6d",
   "metadata": {},
   "outputs": [
    {
     "data": {
      "text/html": [
       "OK\n",
       "<details>\n",
       "\t<summary style=display:list-item;cursor:pointer>\n",
       "\t\t<strong>Levels</strong>:\n",
       "\t</summary>\n",
       "\t<style>\n",
       "\t.list-inline {list-style: none; margin:0; padding: 0}\n",
       "\t.list-inline>li {display: inline-block}\n",
       "\t.list-inline>li:not(:last-child)::after {content: \"\\00b7\"; padding: 0 .5ex}\n",
       "\t</style>\n",
       "\t<ol class=list-inline><li>'Bad'</li><li>'OK'</li><li>'Good'</li><li>'Perfect'</li></ol>\n",
       "</details>"
      ],
      "text/latex": [
       "OK\n",
       "\\emph{Levels}: \\begin{enumerate*}\n",
       "\\item 'Bad'\n",
       "\\item 'OK'\n",
       "\\item 'Good'\n",
       "\\item 'Perfect'\n",
       "\\end{enumerate*}\n"
      ],
      "text/markdown": [
       "OK\n",
       "**Levels**: 1. 'Bad'\n",
       "2. 'OK'\n",
       "3. 'Good'\n",
       "4. 'Perfect'\n",
       "\n",
       "\n"
      ],
      "text/plain": [
       "[1] OK\n",
       "Levels: Bad < OK < Good < Perfect"
      ]
     },
     "metadata": {},
     "output_type": "display_data"
    }
   ],
   "source": [
    "second_review"
   ]
  },
  {
   "cell_type": "markdown",
   "id": "8aff99a7-ab84-456b-a5f9-49c90365d5d3",
   "metadata": {},
   "source": [
    "* Add the element `release_year = 1980` to `shining_list`"
   ]
  },
  {
   "cell_type": "code",
   "execution_count": 76,
   "id": "efcda94b-d8ef-4282-9243-a2ba0638fc29",
   "metadata": {},
   "outputs": [],
   "source": [
    "release_year = 1980\n",
    "shining_list[length(shining_list) + 1] = release_year"
   ]
  },
  {
   "cell_type": "markdown",
   "id": "51ffeaa9-364a-40bd-9495-fcc487ace371",
   "metadata": {},
   "source": [
    "* Add the element `director = \"Stanley Kubrick\"` to `shining_list`"
   ]
  },
  {
   "cell_type": "code",
   "execution_count": 77,
   "id": "8b68fc55-e3c6-487b-9c41-321557357b2b",
   "metadata": {},
   "outputs": [],
   "source": [
    "director = \"Stanley Kubrick\"\n",
    "shining_list[length(shining_list) + 1] = director"
   ]
  },
  {
   "cell_type": "markdown",
   "id": "e50b1771-8095-43f2-a892-b7afe8a33487",
   "metadata": {},
   "source": [
    "* Print list `shining_list`"
   ]
  },
  {
   "cell_type": "code",
   "execution_count": 78,
   "id": "3295a573-c61d-4cd2-80c0-cd116c30adba",
   "metadata": {},
   "outputs": [
    {
     "data": {
      "text/html": [
       "<ol>\n",
       "\t<li>'The Shining'</li>\n",
       "\t<li><style>\n",
       ".list-inline {list-style: none; margin:0; padding: 0}\n",
       ".list-inline>li {display: inline-block}\n",
       ".list-inline>li:not(:last-child)::after {content: \"\\00b7\"; padding: 0 .5ex}\n",
       "</style>\n",
       "<ol class=list-inline><li>'Jack Nicholson'</li><li>'Shelley Duvall'</li><li>'Danny Lloyd'</li><li>'Scatman Crothers'</li><li>'Barry Nelson'</li></ol>\n",
       "</li>\n",
       "\t<li><style>\n",
       ".list-inline {list-style: none; margin:0; padding: 0}\n",
       ".list-inline>li {display: inline-block}\n",
       ".list-inline>li:not(:last-child)::after {content: \"\\00b7\"; padding: 0 .5ex}\n",
       "</style>\n",
       "<ol class=list-inline><li>Good</li><li>OK</li><li>Good</li><li>Perfect</li><li>Bad</li><li>Perfect</li><li>Good</li></ol>\n",
       "\n",
       "<details>\n",
       "\t<summary style=display:list-item;cursor:pointer>\n",
       "\t\t<strong>Levels</strong>:\n",
       "\t</summary>\n",
       "\t<style>\n",
       "\t.list-inline {list-style: none; margin:0; padding: 0}\n",
       "\t.list-inline>li {display: inline-block}\n",
       "\t.list-inline>li:not(:last-child)::after {content: \"\\00b7\"; padding: 0 .5ex}\n",
       "\t</style>\n",
       "\t<ol class=list-inline><li>'Bad'</li><li>'OK'</li><li>'Good'</li><li>'Perfect'</li></ol>\n",
       "</details></li>\n",
       "\t<li>1980</li>\n",
       "\t<li>'Stanley Kubrick'</li>\n",
       "</ol>\n"
      ],
      "text/latex": [
       "\\begin{enumerate}\n",
       "\\item 'The Shining'\n",
       "\\item \\begin{enumerate*}\n",
       "\\item 'Jack Nicholson'\n",
       "\\item 'Shelley Duvall'\n",
       "\\item 'Danny Lloyd'\n",
       "\\item 'Scatman Crothers'\n",
       "\\item 'Barry Nelson'\n",
       "\\end{enumerate*}\n",
       "\n",
       "\\item \\begin{enumerate*}\n",
       "\\item Good\n",
       "\\item OK\n",
       "\\item Good\n",
       "\\item Perfect\n",
       "\\item Bad\n",
       "\\item Perfect\n",
       "\\item Good\n",
       "\\end{enumerate*}\n",
       "\n",
       "\\emph{Levels}: \\begin{enumerate*}\n",
       "\\item 'Bad'\n",
       "\\item 'OK'\n",
       "\\item 'Good'\n",
       "\\item 'Perfect'\n",
       "\\end{enumerate*}\n",
       "\n",
       "\\item 1980\n",
       "\\item 'Stanley Kubrick'\n",
       "\\end{enumerate}\n"
      ],
      "text/markdown": [
       "1. 'The Shining'\n",
       "2. 1. 'Jack Nicholson'\n",
       "2. 'Shelley Duvall'\n",
       "3. 'Danny Lloyd'\n",
       "4. 'Scatman Crothers'\n",
       "5. 'Barry Nelson'\n",
       "\n",
       "\n",
       "\n",
       "3. 1. Good\n",
       "2. OK\n",
       "3. Good\n",
       "4. Perfect\n",
       "5. Bad\n",
       "6. Perfect\n",
       "7. Good\n",
       "\n",
       "\n",
       "\n",
       "**Levels**: 1. 'Bad'\n",
       "2. 'OK'\n",
       "3. 'Good'\n",
       "4. 'Perfect'\n",
       "\n",
       "\n",
       "\n",
       "4. 1980\n",
       "5. 'Stanley Kubrick'\n",
       "\n",
       "\n"
      ],
      "text/plain": [
       "[[1]]\n",
       "[1] \"The Shining\"\n",
       "\n",
       "[[2]]\n",
       "[1] \"Jack Nicholson\"   \"Shelley Duvall\"   \"Danny Lloyd\"      \"Scatman Crothers\"\n",
       "[5] \"Barry Nelson\"    \n",
       "\n",
       "[[3]]\n",
       "[1] Good    OK      Good    Perfect Bad     Perfect Good   \n",
       "Levels: Bad < OK < Good < Perfect\n",
       "\n",
       "[[4]]\n",
       "[1] 1980\n",
       "\n",
       "[[5]]\n",
       "[1] \"Stanley Kubrick\"\n"
      ]
     },
     "metadata": {},
     "output_type": "display_data"
    }
   ],
   "source": [
    "shining_list"
   ]
  },
  {
   "cell_type": "markdown",
   "id": "f7b8ecc8-7379-4255-9b41-003e885ea9d8",
   "metadata": {},
   "source": [
    "* Print the structure of `shining_list`"
   ]
  },
  {
   "cell_type": "code",
   "execution_count": 79,
   "id": "02ddbed3-71c3-4af9-a321-be165dd13922",
   "metadata": {},
   "outputs": [
    {
     "name": "stdout",
     "output_type": "stream",
     "text": [
      "List of 5\n",
      " $ : chr \"The Shining\"\n",
      " $ : chr [1:5] \"Jack Nicholson\" \"Shelley Duvall\" \"Danny Lloyd\" \"Scatman Crothers\" ...\n",
      " $ : Ord.factor w/ 4 levels \"Bad\"<\"OK\"<\"Good\"<..: 3 2 3 4 1 4 3\n",
      " $ : num 1980\n",
      " $ : chr \"Stanley Kubrick\"\n"
     ]
    }
   ],
   "source": [
    "str(shining_list)"
   ]
  },
  {
   "cell_type": "markdown",
   "id": "185f8b23-9156-49a2-8856-60dec062a258",
   "metadata": {},
   "source": [
    "# Bài tập số 6\n",
    "* Hãy thực hiện những yêu cầu sau với R-core dataframe và/ hoặc Tidyverse\n",
    "    1. Cho dữ liệu mtcars cho sẵn trong R datasets. Đọc dữ liệu. Hiển thị thông tin một số dòng đầu của dữ liệu. In thông tin thống kê chung.\n",
    "    2. Tạo sub_data chỉ có các thông tin mpg, hp, wt, gear\n",
    "    3. Tạo cột mới km_per_litre trong sub_data theo công thức: 1 mpg = 0.425 km/l\n",
    "    4. Tạo sub_data_unique lấy từ mtcars nhưng loại bỏ các dòng trùng (dùng distinct()\n",
    "    5. In sub_data_unique với giá trị được sắp xếp giảm dần theo mpg, tăng dần theo hp\n",
    "    6. Lọc các xe mà trong tên xe có 'Mazda' trong sub_data_unique. Có bao nhiêu xe thỏa điều kiện này?\n",
    "    7. Trong sub_data_unique, cho biết giá trị mpg lớn nhất? Có những dòng dữ liệu nào có mpg = mpg lớn nhất, in kết quả.\n",
    "    8. Lọc các dữ liệu thỏa các điểu kiện sau: mpg >= 25 và cyl=4 và gear=4\n",
    "    9. Thực hiện việc thống kê theo cyl, từ đó cho biết số lượng từng nhóm, cyl, hp lớn nhất, mpg nhỏ nhất\n",
    "    10. Trong sub_data, cho biết xe nào có km_per_litre lớn nhất, nhỏ nhất?\n",
    "\n",
    "* **Note**: dùng df = cbind(names = rownames(df), df) hoặc rownames_to_column(df, var = \"names\"): chuyển cột index thành cột \"names\""
   ]
  },
  {
   "cell_type": "code",
   "execution_count": 80,
   "id": "34b74f19-19ca-4a43-a5af-508a7c6f91c9",
   "metadata": {},
   "outputs": [
    {
     "name": "stderr",
     "output_type": "stream",
     "text": [
      "── \u001b[1mAttaching packages\u001b[22m ─────────────────────────────────────── tidyverse 1.3.1 ──\n",
      "\n",
      "\u001b[32m✔\u001b[39m \u001b[34mggplot2\u001b[39m 3.3.5     \u001b[32m✔\u001b[39m \u001b[34mpurrr  \u001b[39m 0.3.4\n",
      "\u001b[32m✔\u001b[39m \u001b[34mtibble \u001b[39m 3.1.2     \u001b[32m✔\u001b[39m \u001b[34mdplyr  \u001b[39m 1.0.7\n",
      "\u001b[32m✔\u001b[39m \u001b[34mtidyr  \u001b[39m 1.1.3     \u001b[32m✔\u001b[39m \u001b[34mstringr\u001b[39m 1.4.0\n",
      "\u001b[32m✔\u001b[39m \u001b[34mreadr  \u001b[39m 1.4.0     \u001b[32m✔\u001b[39m \u001b[34mforcats\u001b[39m 0.5.1\n",
      "\n",
      "── \u001b[1mConflicts\u001b[22m ────────────────────────────────────────── tidyverse_conflicts() ──\n",
      "\u001b[31m✖\u001b[39m \u001b[34mdplyr\u001b[39m::\u001b[32mfilter()\u001b[39m masks \u001b[34mstats\u001b[39m::filter()\n",
      "\u001b[31m✖\u001b[39m \u001b[34mdplyr\u001b[39m::\u001b[32mlag()\u001b[39m    masks \u001b[34mstats\u001b[39m::lag()\n",
      "\n"
     ]
    }
   ],
   "source": [
    "library(\"tidyverse\")"
   ]
  },
  {
   "cell_type": "markdown",
   "id": "0fa05a72-7130-452f-8729-7edd0e110768",
   "metadata": {},
   "source": [
    "#### Task 1"
   ]
  },
  {
   "cell_type": "code",
   "execution_count": 85,
   "id": "05c774dd-015b-4c13-8bad-69ef79eb9ab3",
   "metadata": {},
   "outputs": [],
   "source": [
    "data = data.frame(mtcars)"
   ]
  },
  {
   "cell_type": "code",
   "execution_count": 86,
   "id": "d2b93a9b-8438-403e-8559-8af35c99f854",
   "metadata": {},
   "outputs": [
    {
     "data": {
      "text/html": [
       "<table class=\"dataframe\">\n",
       "<caption>A data.frame: 6 × 11</caption>\n",
       "<thead>\n",
       "\t<tr><th></th><th scope=col>mpg</th><th scope=col>cyl</th><th scope=col>disp</th><th scope=col>hp</th><th scope=col>drat</th><th scope=col>wt</th><th scope=col>qsec</th><th scope=col>vs</th><th scope=col>am</th><th scope=col>gear</th><th scope=col>carb</th></tr>\n",
       "\t<tr><th></th><th scope=col>&lt;dbl&gt;</th><th scope=col>&lt;dbl&gt;</th><th scope=col>&lt;dbl&gt;</th><th scope=col>&lt;dbl&gt;</th><th scope=col>&lt;dbl&gt;</th><th scope=col>&lt;dbl&gt;</th><th scope=col>&lt;dbl&gt;</th><th scope=col>&lt;dbl&gt;</th><th scope=col>&lt;dbl&gt;</th><th scope=col>&lt;dbl&gt;</th><th scope=col>&lt;dbl&gt;</th></tr>\n",
       "</thead>\n",
       "<tbody>\n",
       "\t<tr><th scope=row>Mazda RX4</th><td>21.0</td><td>6</td><td>160</td><td>110</td><td>3.90</td><td>2.620</td><td>16.46</td><td>0</td><td>1</td><td>4</td><td>4</td></tr>\n",
       "\t<tr><th scope=row>Mazda RX4 Wag</th><td>21.0</td><td>6</td><td>160</td><td>110</td><td>3.90</td><td>2.875</td><td>17.02</td><td>0</td><td>1</td><td>4</td><td>4</td></tr>\n",
       "\t<tr><th scope=row>Datsun 710</th><td>22.8</td><td>4</td><td>108</td><td> 93</td><td>3.85</td><td>2.320</td><td>18.61</td><td>1</td><td>1</td><td>4</td><td>1</td></tr>\n",
       "\t<tr><th scope=row>Hornet 4 Drive</th><td>21.4</td><td>6</td><td>258</td><td>110</td><td>3.08</td><td>3.215</td><td>19.44</td><td>1</td><td>0</td><td>3</td><td>1</td></tr>\n",
       "\t<tr><th scope=row>Hornet Sportabout</th><td>18.7</td><td>8</td><td>360</td><td>175</td><td>3.15</td><td>3.440</td><td>17.02</td><td>0</td><td>0</td><td>3</td><td>2</td></tr>\n",
       "\t<tr><th scope=row>Valiant</th><td>18.1</td><td>6</td><td>225</td><td>105</td><td>2.76</td><td>3.460</td><td>20.22</td><td>1</td><td>0</td><td>3</td><td>1</td></tr>\n",
       "</tbody>\n",
       "</table>\n"
      ],
      "text/latex": [
       "A data.frame: 6 × 11\n",
       "\\begin{tabular}{r|lllllllllll}\n",
       "  & mpg & cyl & disp & hp & drat & wt & qsec & vs & am & gear & carb\\\\\n",
       "  & <dbl> & <dbl> & <dbl> & <dbl> & <dbl> & <dbl> & <dbl> & <dbl> & <dbl> & <dbl> & <dbl>\\\\\n",
       "\\hline\n",
       "\tMazda RX4 & 21.0 & 6 & 160 & 110 & 3.90 & 2.620 & 16.46 & 0 & 1 & 4 & 4\\\\\n",
       "\tMazda RX4 Wag & 21.0 & 6 & 160 & 110 & 3.90 & 2.875 & 17.02 & 0 & 1 & 4 & 4\\\\\n",
       "\tDatsun 710 & 22.8 & 4 & 108 &  93 & 3.85 & 2.320 & 18.61 & 1 & 1 & 4 & 1\\\\\n",
       "\tHornet 4 Drive & 21.4 & 6 & 258 & 110 & 3.08 & 3.215 & 19.44 & 1 & 0 & 3 & 1\\\\\n",
       "\tHornet Sportabout & 18.7 & 8 & 360 & 175 & 3.15 & 3.440 & 17.02 & 0 & 0 & 3 & 2\\\\\n",
       "\tValiant & 18.1 & 6 & 225 & 105 & 2.76 & 3.460 & 20.22 & 1 & 0 & 3 & 1\\\\\n",
       "\\end{tabular}\n"
      ],
      "text/markdown": [
       "\n",
       "A data.frame: 6 × 11\n",
       "\n",
       "| <!--/--> | mpg &lt;dbl&gt; | cyl &lt;dbl&gt; | disp &lt;dbl&gt; | hp &lt;dbl&gt; | drat &lt;dbl&gt; | wt &lt;dbl&gt; | qsec &lt;dbl&gt; | vs &lt;dbl&gt; | am &lt;dbl&gt; | gear &lt;dbl&gt; | carb &lt;dbl&gt; |\n",
       "|---|---|---|---|---|---|---|---|---|---|---|---|\n",
       "| Mazda RX4 | 21.0 | 6 | 160 | 110 | 3.90 | 2.620 | 16.46 | 0 | 1 | 4 | 4 |\n",
       "| Mazda RX4 Wag | 21.0 | 6 | 160 | 110 | 3.90 | 2.875 | 17.02 | 0 | 1 | 4 | 4 |\n",
       "| Datsun 710 | 22.8 | 4 | 108 |  93 | 3.85 | 2.320 | 18.61 | 1 | 1 | 4 | 1 |\n",
       "| Hornet 4 Drive | 21.4 | 6 | 258 | 110 | 3.08 | 3.215 | 19.44 | 1 | 0 | 3 | 1 |\n",
       "| Hornet Sportabout | 18.7 | 8 | 360 | 175 | 3.15 | 3.440 | 17.02 | 0 | 0 | 3 | 2 |\n",
       "| Valiant | 18.1 | 6 | 225 | 105 | 2.76 | 3.460 | 20.22 | 1 | 0 | 3 | 1 |\n",
       "\n"
      ],
      "text/plain": [
       "                  mpg  cyl disp hp  drat wt    qsec  vs am gear carb\n",
       "Mazda RX4         21.0 6   160  110 3.90 2.620 16.46 0  1  4    4   \n",
       "Mazda RX4 Wag     21.0 6   160  110 3.90 2.875 17.02 0  1  4    4   \n",
       "Datsun 710        22.8 4   108   93 3.85 2.320 18.61 1  1  4    1   \n",
       "Hornet 4 Drive    21.4 6   258  110 3.08 3.215 19.44 1  0  3    1   \n",
       "Hornet Sportabout 18.7 8   360  175 3.15 3.440 17.02 0  0  3    2   \n",
       "Valiant           18.1 6   225  105 2.76 3.460 20.22 1  0  3    1   "
      ]
     },
     "metadata": {},
     "output_type": "display_data"
    }
   ],
   "source": [
    "head(data)"
   ]
  },
  {
   "cell_type": "markdown",
   "id": "bea768ef-dabf-4560-8cd9-a119508d07b4",
   "metadata": {},
   "source": [
    "#### Task 2"
   ]
  },
  {
   "cell_type": "code",
   "execution_count": 87,
   "id": "faf33af3-e5a1-492f-9f6b-6cc6cc9d8445",
   "metadata": {},
   "outputs": [],
   "source": [
    "sub_data = data %>% select(mpg, hp, wt, gear)"
   ]
  },
  {
   "cell_type": "code",
   "execution_count": 89,
   "id": "8bf001ed-ea44-486b-bb5c-a3590bdecb8c",
   "metadata": {},
   "outputs": [
    {
     "data": {
      "text/html": [
       "<table class=\"dataframe\">\n",
       "<caption>A data.frame: 6 × 4</caption>\n",
       "<thead>\n",
       "\t<tr><th></th><th scope=col>mpg</th><th scope=col>hp</th><th scope=col>wt</th><th scope=col>gear</th></tr>\n",
       "\t<tr><th></th><th scope=col>&lt;dbl&gt;</th><th scope=col>&lt;dbl&gt;</th><th scope=col>&lt;dbl&gt;</th><th scope=col>&lt;dbl&gt;</th></tr>\n",
       "</thead>\n",
       "<tbody>\n",
       "\t<tr><th scope=row>Mazda RX4</th><td>21.0</td><td>110</td><td>2.620</td><td>4</td></tr>\n",
       "\t<tr><th scope=row>Mazda RX4 Wag</th><td>21.0</td><td>110</td><td>2.875</td><td>4</td></tr>\n",
       "\t<tr><th scope=row>Datsun 710</th><td>22.8</td><td> 93</td><td>2.320</td><td>4</td></tr>\n",
       "\t<tr><th scope=row>Hornet 4 Drive</th><td>21.4</td><td>110</td><td>3.215</td><td>3</td></tr>\n",
       "\t<tr><th scope=row>Hornet Sportabout</th><td>18.7</td><td>175</td><td>3.440</td><td>3</td></tr>\n",
       "\t<tr><th scope=row>Valiant</th><td>18.1</td><td>105</td><td>3.460</td><td>3</td></tr>\n",
       "</tbody>\n",
       "</table>\n"
      ],
      "text/latex": [
       "A data.frame: 6 × 4\n",
       "\\begin{tabular}{r|llll}\n",
       "  & mpg & hp & wt & gear\\\\\n",
       "  & <dbl> & <dbl> & <dbl> & <dbl>\\\\\n",
       "\\hline\n",
       "\tMazda RX4 & 21.0 & 110 & 2.620 & 4\\\\\n",
       "\tMazda RX4 Wag & 21.0 & 110 & 2.875 & 4\\\\\n",
       "\tDatsun 710 & 22.8 &  93 & 2.320 & 4\\\\\n",
       "\tHornet 4 Drive & 21.4 & 110 & 3.215 & 3\\\\\n",
       "\tHornet Sportabout & 18.7 & 175 & 3.440 & 3\\\\\n",
       "\tValiant & 18.1 & 105 & 3.460 & 3\\\\\n",
       "\\end{tabular}\n"
      ],
      "text/markdown": [
       "\n",
       "A data.frame: 6 × 4\n",
       "\n",
       "| <!--/--> | mpg &lt;dbl&gt; | hp &lt;dbl&gt; | wt &lt;dbl&gt; | gear &lt;dbl&gt; |\n",
       "|---|---|---|---|---|\n",
       "| Mazda RX4 | 21.0 | 110 | 2.620 | 4 |\n",
       "| Mazda RX4 Wag | 21.0 | 110 | 2.875 | 4 |\n",
       "| Datsun 710 | 22.8 |  93 | 2.320 | 4 |\n",
       "| Hornet 4 Drive | 21.4 | 110 | 3.215 | 3 |\n",
       "| Hornet Sportabout | 18.7 | 175 | 3.440 | 3 |\n",
       "| Valiant | 18.1 | 105 | 3.460 | 3 |\n",
       "\n"
      ],
      "text/plain": [
       "                  mpg  hp  wt    gear\n",
       "Mazda RX4         21.0 110 2.620 4   \n",
       "Mazda RX4 Wag     21.0 110 2.875 4   \n",
       "Datsun 710        22.8  93 2.320 4   \n",
       "Hornet 4 Drive    21.4 110 3.215 3   \n",
       "Hornet Sportabout 18.7 175 3.440 3   \n",
       "Valiant           18.1 105 3.460 3   "
      ]
     },
     "metadata": {},
     "output_type": "display_data"
    }
   ],
   "source": [
    "head(sub_data)"
   ]
  },
  {
   "cell_type": "markdown",
   "id": "b500b1da-0b14-49fd-8916-627ec18c8dab",
   "metadata": {},
   "source": [
    "#### Task 3"
   ]
  },
  {
   "cell_type": "code",
   "execution_count": 91,
   "id": "6198ca55-54b2-4c1c-8614-42f4f346c4b7",
   "metadata": {},
   "outputs": [],
   "source": [
    "one_mpg = 0.425\n",
    "sub_data$km_per_litre = one_mpg * sub_data$mpg "
   ]
  },
  {
   "cell_type": "code",
   "execution_count": 93,
   "id": "4ec00410-63b5-4fc6-8931-3cb744152d7c",
   "metadata": {},
   "outputs": [
    {
     "data": {
      "text/html": [
       "<table class=\"dataframe\">\n",
       "<caption>A data.frame: 6 × 5</caption>\n",
       "<thead>\n",
       "\t<tr><th></th><th scope=col>mpg</th><th scope=col>hp</th><th scope=col>wt</th><th scope=col>gear</th><th scope=col>km_per_litre</th></tr>\n",
       "\t<tr><th></th><th scope=col>&lt;dbl&gt;</th><th scope=col>&lt;dbl&gt;</th><th scope=col>&lt;dbl&gt;</th><th scope=col>&lt;dbl&gt;</th><th scope=col>&lt;dbl&gt;</th></tr>\n",
       "</thead>\n",
       "<tbody>\n",
       "\t<tr><th scope=row>Mazda RX4</th><td>21.0</td><td>110</td><td>2.620</td><td>4</td><td>8.9250</td></tr>\n",
       "\t<tr><th scope=row>Mazda RX4 Wag</th><td>21.0</td><td>110</td><td>2.875</td><td>4</td><td>8.9250</td></tr>\n",
       "\t<tr><th scope=row>Datsun 710</th><td>22.8</td><td> 93</td><td>2.320</td><td>4</td><td>9.6900</td></tr>\n",
       "\t<tr><th scope=row>Hornet 4 Drive</th><td>21.4</td><td>110</td><td>3.215</td><td>3</td><td>9.0950</td></tr>\n",
       "\t<tr><th scope=row>Hornet Sportabout</th><td>18.7</td><td>175</td><td>3.440</td><td>3</td><td>7.9475</td></tr>\n",
       "\t<tr><th scope=row>Valiant</th><td>18.1</td><td>105</td><td>3.460</td><td>3</td><td>7.6925</td></tr>\n",
       "</tbody>\n",
       "</table>\n"
      ],
      "text/latex": [
       "A data.frame: 6 × 5\n",
       "\\begin{tabular}{r|lllll}\n",
       "  & mpg & hp & wt & gear & km\\_per\\_litre\\\\\n",
       "  & <dbl> & <dbl> & <dbl> & <dbl> & <dbl>\\\\\n",
       "\\hline\n",
       "\tMazda RX4 & 21.0 & 110 & 2.620 & 4 & 8.9250\\\\\n",
       "\tMazda RX4 Wag & 21.0 & 110 & 2.875 & 4 & 8.9250\\\\\n",
       "\tDatsun 710 & 22.8 &  93 & 2.320 & 4 & 9.6900\\\\\n",
       "\tHornet 4 Drive & 21.4 & 110 & 3.215 & 3 & 9.0950\\\\\n",
       "\tHornet Sportabout & 18.7 & 175 & 3.440 & 3 & 7.9475\\\\\n",
       "\tValiant & 18.1 & 105 & 3.460 & 3 & 7.6925\\\\\n",
       "\\end{tabular}\n"
      ],
      "text/markdown": [
       "\n",
       "A data.frame: 6 × 5\n",
       "\n",
       "| <!--/--> | mpg &lt;dbl&gt; | hp &lt;dbl&gt; | wt &lt;dbl&gt; | gear &lt;dbl&gt; | km_per_litre &lt;dbl&gt; |\n",
       "|---|---|---|---|---|---|\n",
       "| Mazda RX4 | 21.0 | 110 | 2.620 | 4 | 8.9250 |\n",
       "| Mazda RX4 Wag | 21.0 | 110 | 2.875 | 4 | 8.9250 |\n",
       "| Datsun 710 | 22.8 |  93 | 2.320 | 4 | 9.6900 |\n",
       "| Hornet 4 Drive | 21.4 | 110 | 3.215 | 3 | 9.0950 |\n",
       "| Hornet Sportabout | 18.7 | 175 | 3.440 | 3 | 7.9475 |\n",
       "| Valiant | 18.1 | 105 | 3.460 | 3 | 7.6925 |\n",
       "\n"
      ],
      "text/plain": [
       "                  mpg  hp  wt    gear km_per_litre\n",
       "Mazda RX4         21.0 110 2.620 4    8.9250      \n",
       "Mazda RX4 Wag     21.0 110 2.875 4    8.9250      \n",
       "Datsun 710        22.8  93 2.320 4    9.6900      \n",
       "Hornet 4 Drive    21.4 110 3.215 3    9.0950      \n",
       "Hornet Sportabout 18.7 175 3.440 3    7.9475      \n",
       "Valiant           18.1 105 3.460 3    7.6925      "
      ]
     },
     "metadata": {},
     "output_type": "display_data"
    }
   ],
   "source": [
    "head(sub_data)"
   ]
  },
  {
   "cell_type": "markdown",
   "id": "6497f441-92aa-4bfc-9006-755dbfa580f9",
   "metadata": {},
   "source": [
    "#### Task 4"
   ]
  },
  {
   "cell_type": "code",
   "execution_count": 98,
   "id": "53b0f05c-570e-4869-bcc4-235223f459ec",
   "metadata": {},
   "outputs": [],
   "source": [
    "sub_data_unique = distinct(mtcars)"
   ]
  },
  {
   "cell_type": "code",
   "execution_count": 100,
   "id": "5d53fa7a-5ef9-473a-9e90-ae83e3d40664",
   "metadata": {},
   "outputs": [
    {
     "data": {
      "text/html": [
       "<table class=\"dataframe\">\n",
       "<caption>A data.frame: 6 × 11</caption>\n",
       "<thead>\n",
       "\t<tr><th></th><th scope=col>mpg</th><th scope=col>cyl</th><th scope=col>disp</th><th scope=col>hp</th><th scope=col>drat</th><th scope=col>wt</th><th scope=col>qsec</th><th scope=col>vs</th><th scope=col>am</th><th scope=col>gear</th><th scope=col>carb</th></tr>\n",
       "\t<tr><th></th><th scope=col>&lt;dbl&gt;</th><th scope=col>&lt;dbl&gt;</th><th scope=col>&lt;dbl&gt;</th><th scope=col>&lt;dbl&gt;</th><th scope=col>&lt;dbl&gt;</th><th scope=col>&lt;dbl&gt;</th><th scope=col>&lt;dbl&gt;</th><th scope=col>&lt;dbl&gt;</th><th scope=col>&lt;dbl&gt;</th><th scope=col>&lt;dbl&gt;</th><th scope=col>&lt;dbl&gt;</th></tr>\n",
       "</thead>\n",
       "<tbody>\n",
       "\t<tr><th scope=row>Mazda RX4</th><td>21.0</td><td>6</td><td>160</td><td>110</td><td>3.90</td><td>2.620</td><td>16.46</td><td>0</td><td>1</td><td>4</td><td>4</td></tr>\n",
       "\t<tr><th scope=row>Mazda RX4 Wag</th><td>21.0</td><td>6</td><td>160</td><td>110</td><td>3.90</td><td>2.875</td><td>17.02</td><td>0</td><td>1</td><td>4</td><td>4</td></tr>\n",
       "\t<tr><th scope=row>Datsun 710</th><td>22.8</td><td>4</td><td>108</td><td> 93</td><td>3.85</td><td>2.320</td><td>18.61</td><td>1</td><td>1</td><td>4</td><td>1</td></tr>\n",
       "\t<tr><th scope=row>Hornet 4 Drive</th><td>21.4</td><td>6</td><td>258</td><td>110</td><td>3.08</td><td>3.215</td><td>19.44</td><td>1</td><td>0</td><td>3</td><td>1</td></tr>\n",
       "\t<tr><th scope=row>Hornet Sportabout</th><td>18.7</td><td>8</td><td>360</td><td>175</td><td>3.15</td><td>3.440</td><td>17.02</td><td>0</td><td>0</td><td>3</td><td>2</td></tr>\n",
       "\t<tr><th scope=row>Valiant</th><td>18.1</td><td>6</td><td>225</td><td>105</td><td>2.76</td><td>3.460</td><td>20.22</td><td>1</td><td>0</td><td>3</td><td>1</td></tr>\n",
       "</tbody>\n",
       "</table>\n"
      ],
      "text/latex": [
       "A data.frame: 6 × 11\n",
       "\\begin{tabular}{r|lllllllllll}\n",
       "  & mpg & cyl & disp & hp & drat & wt & qsec & vs & am & gear & carb\\\\\n",
       "  & <dbl> & <dbl> & <dbl> & <dbl> & <dbl> & <dbl> & <dbl> & <dbl> & <dbl> & <dbl> & <dbl>\\\\\n",
       "\\hline\n",
       "\tMazda RX4 & 21.0 & 6 & 160 & 110 & 3.90 & 2.620 & 16.46 & 0 & 1 & 4 & 4\\\\\n",
       "\tMazda RX4 Wag & 21.0 & 6 & 160 & 110 & 3.90 & 2.875 & 17.02 & 0 & 1 & 4 & 4\\\\\n",
       "\tDatsun 710 & 22.8 & 4 & 108 &  93 & 3.85 & 2.320 & 18.61 & 1 & 1 & 4 & 1\\\\\n",
       "\tHornet 4 Drive & 21.4 & 6 & 258 & 110 & 3.08 & 3.215 & 19.44 & 1 & 0 & 3 & 1\\\\\n",
       "\tHornet Sportabout & 18.7 & 8 & 360 & 175 & 3.15 & 3.440 & 17.02 & 0 & 0 & 3 & 2\\\\\n",
       "\tValiant & 18.1 & 6 & 225 & 105 & 2.76 & 3.460 & 20.22 & 1 & 0 & 3 & 1\\\\\n",
       "\\end{tabular}\n"
      ],
      "text/markdown": [
       "\n",
       "A data.frame: 6 × 11\n",
       "\n",
       "| <!--/--> | mpg &lt;dbl&gt; | cyl &lt;dbl&gt; | disp &lt;dbl&gt; | hp &lt;dbl&gt; | drat &lt;dbl&gt; | wt &lt;dbl&gt; | qsec &lt;dbl&gt; | vs &lt;dbl&gt; | am &lt;dbl&gt; | gear &lt;dbl&gt; | carb &lt;dbl&gt; |\n",
       "|---|---|---|---|---|---|---|---|---|---|---|---|\n",
       "| Mazda RX4 | 21.0 | 6 | 160 | 110 | 3.90 | 2.620 | 16.46 | 0 | 1 | 4 | 4 |\n",
       "| Mazda RX4 Wag | 21.0 | 6 | 160 | 110 | 3.90 | 2.875 | 17.02 | 0 | 1 | 4 | 4 |\n",
       "| Datsun 710 | 22.8 | 4 | 108 |  93 | 3.85 | 2.320 | 18.61 | 1 | 1 | 4 | 1 |\n",
       "| Hornet 4 Drive | 21.4 | 6 | 258 | 110 | 3.08 | 3.215 | 19.44 | 1 | 0 | 3 | 1 |\n",
       "| Hornet Sportabout | 18.7 | 8 | 360 | 175 | 3.15 | 3.440 | 17.02 | 0 | 0 | 3 | 2 |\n",
       "| Valiant | 18.1 | 6 | 225 | 105 | 2.76 | 3.460 | 20.22 | 1 | 0 | 3 | 1 |\n",
       "\n"
      ],
      "text/plain": [
       "                  mpg  cyl disp hp  drat wt    qsec  vs am gear carb\n",
       "Mazda RX4         21.0 6   160  110 3.90 2.620 16.46 0  1  4    4   \n",
       "Mazda RX4 Wag     21.0 6   160  110 3.90 2.875 17.02 0  1  4    4   \n",
       "Datsun 710        22.8 4   108   93 3.85 2.320 18.61 1  1  4    1   \n",
       "Hornet 4 Drive    21.4 6   258  110 3.08 3.215 19.44 1  0  3    1   \n",
       "Hornet Sportabout 18.7 8   360  175 3.15 3.440 17.02 0  0  3    2   \n",
       "Valiant           18.1 6   225  105 2.76 3.460 20.22 1  0  3    1   "
      ]
     },
     "metadata": {},
     "output_type": "display_data"
    }
   ],
   "source": [
    "head(sub_data_unique)"
   ]
  },
  {
   "cell_type": "markdown",
   "id": "96f62478-d419-4770-916a-b36e371010b0",
   "metadata": {},
   "source": [
    "#### Task 5"
   ]
  },
  {
   "cell_type": "code",
   "execution_count": 101,
   "id": "a856efc4-c628-4ba0-bbeb-09d8fbaed435",
   "metadata": {},
   "outputs": [
    {
     "data": {
      "text/html": [
       "<table class=\"dataframe\">\n",
       "<caption>A data.frame: 6 × 11</caption>\n",
       "<thead>\n",
       "\t<tr><th></th><th scope=col>mpg</th><th scope=col>cyl</th><th scope=col>disp</th><th scope=col>hp</th><th scope=col>drat</th><th scope=col>wt</th><th scope=col>qsec</th><th scope=col>vs</th><th scope=col>am</th><th scope=col>gear</th><th scope=col>carb</th></tr>\n",
       "\t<tr><th></th><th scope=col>&lt;dbl&gt;</th><th scope=col>&lt;dbl&gt;</th><th scope=col>&lt;dbl&gt;</th><th scope=col>&lt;dbl&gt;</th><th scope=col>&lt;dbl&gt;</th><th scope=col>&lt;dbl&gt;</th><th scope=col>&lt;dbl&gt;</th><th scope=col>&lt;dbl&gt;</th><th scope=col>&lt;dbl&gt;</th><th scope=col>&lt;dbl&gt;</th><th scope=col>&lt;dbl&gt;</th></tr>\n",
       "</thead>\n",
       "<tbody>\n",
       "\t<tr><th scope=row>Toyota Corolla</th><td>33.9</td><td>4</td><td> 71.1</td><td> 65</td><td>4.22</td><td>1.835</td><td>19.90</td><td>1</td><td>1</td><td>4</td><td>1</td></tr>\n",
       "\t<tr><th scope=row>Fiat 128</th><td>32.4</td><td>4</td><td> 78.7</td><td> 66</td><td>4.08</td><td>2.200</td><td>19.47</td><td>1</td><td>1</td><td>4</td><td>1</td></tr>\n",
       "\t<tr><th scope=row>Honda Civic</th><td>30.4</td><td>4</td><td> 75.7</td><td> 52</td><td>4.93</td><td>1.615</td><td>18.52</td><td>1</td><td>1</td><td>4</td><td>2</td></tr>\n",
       "\t<tr><th scope=row>Lotus Europa</th><td>30.4</td><td>4</td><td> 95.1</td><td>113</td><td>3.77</td><td>1.513</td><td>16.90</td><td>1</td><td>1</td><td>5</td><td>2</td></tr>\n",
       "\t<tr><th scope=row>Fiat X1-9</th><td>27.3</td><td>4</td><td> 79.0</td><td> 66</td><td>4.08</td><td>1.935</td><td>18.90</td><td>1</td><td>1</td><td>4</td><td>1</td></tr>\n",
       "\t<tr><th scope=row>Porsche 914-2</th><td>26.0</td><td>4</td><td>120.3</td><td> 91</td><td>4.43</td><td>2.140</td><td>16.70</td><td>0</td><td>1</td><td>5</td><td>2</td></tr>\n",
       "</tbody>\n",
       "</table>\n"
      ],
      "text/latex": [
       "A data.frame: 6 × 11\n",
       "\\begin{tabular}{r|lllllllllll}\n",
       "  & mpg & cyl & disp & hp & drat & wt & qsec & vs & am & gear & carb\\\\\n",
       "  & <dbl> & <dbl> & <dbl> & <dbl> & <dbl> & <dbl> & <dbl> & <dbl> & <dbl> & <dbl> & <dbl>\\\\\n",
       "\\hline\n",
       "\tToyota Corolla & 33.9 & 4 &  71.1 &  65 & 4.22 & 1.835 & 19.90 & 1 & 1 & 4 & 1\\\\\n",
       "\tFiat 128 & 32.4 & 4 &  78.7 &  66 & 4.08 & 2.200 & 19.47 & 1 & 1 & 4 & 1\\\\\n",
       "\tHonda Civic & 30.4 & 4 &  75.7 &  52 & 4.93 & 1.615 & 18.52 & 1 & 1 & 4 & 2\\\\\n",
       "\tLotus Europa & 30.4 & 4 &  95.1 & 113 & 3.77 & 1.513 & 16.90 & 1 & 1 & 5 & 2\\\\\n",
       "\tFiat X1-9 & 27.3 & 4 &  79.0 &  66 & 4.08 & 1.935 & 18.90 & 1 & 1 & 4 & 1\\\\\n",
       "\tPorsche 914-2 & 26.0 & 4 & 120.3 &  91 & 4.43 & 2.140 & 16.70 & 0 & 1 & 5 & 2\\\\\n",
       "\\end{tabular}\n"
      ],
      "text/markdown": [
       "\n",
       "A data.frame: 6 × 11\n",
       "\n",
       "| <!--/--> | mpg &lt;dbl&gt; | cyl &lt;dbl&gt; | disp &lt;dbl&gt; | hp &lt;dbl&gt; | drat &lt;dbl&gt; | wt &lt;dbl&gt; | qsec &lt;dbl&gt; | vs &lt;dbl&gt; | am &lt;dbl&gt; | gear &lt;dbl&gt; | carb &lt;dbl&gt; |\n",
       "|---|---|---|---|---|---|---|---|---|---|---|---|\n",
       "| Toyota Corolla | 33.9 | 4 |  71.1 |  65 | 4.22 | 1.835 | 19.90 | 1 | 1 | 4 | 1 |\n",
       "| Fiat 128 | 32.4 | 4 |  78.7 |  66 | 4.08 | 2.200 | 19.47 | 1 | 1 | 4 | 1 |\n",
       "| Honda Civic | 30.4 | 4 |  75.7 |  52 | 4.93 | 1.615 | 18.52 | 1 | 1 | 4 | 2 |\n",
       "| Lotus Europa | 30.4 | 4 |  95.1 | 113 | 3.77 | 1.513 | 16.90 | 1 | 1 | 5 | 2 |\n",
       "| Fiat X1-9 | 27.3 | 4 |  79.0 |  66 | 4.08 | 1.935 | 18.90 | 1 | 1 | 4 | 1 |\n",
       "| Porsche 914-2 | 26.0 | 4 | 120.3 |  91 | 4.43 | 2.140 | 16.70 | 0 | 1 | 5 | 2 |\n",
       "\n"
      ],
      "text/plain": [
       "               mpg  cyl disp  hp  drat wt    qsec  vs am gear carb\n",
       "Toyota Corolla 33.9 4    71.1  65 4.22 1.835 19.90 1  1  4    1   \n",
       "Fiat 128       32.4 4    78.7  66 4.08 2.200 19.47 1  1  4    1   \n",
       "Honda Civic    30.4 4    75.7  52 4.93 1.615 18.52 1  1  4    2   \n",
       "Lotus Europa   30.4 4    95.1 113 3.77 1.513 16.90 1  1  5    2   \n",
       "Fiat X1-9      27.3 4    79.0  66 4.08 1.935 18.90 1  1  4    1   \n",
       "Porsche 914-2  26.0 4   120.3  91 4.43 2.140 16.70 0  1  5    2   "
      ]
     },
     "metadata": {},
     "output_type": "display_data"
    }
   ],
   "source": [
    "head(arrange(sub_data_unique, desc(mpg), hp))"
   ]
  },
  {
   "cell_type": "markdown",
   "id": "5a41bba9-5d71-421c-9944-e82b64a148cc",
   "metadata": {},
   "source": [
    "#### Task 6"
   ]
  },
  {
   "cell_type": "code",
   "execution_count": 126,
   "id": "d106003d-3b07-4b19-bbad-d74e1e596107",
   "metadata": {},
   "outputs": [
    {
     "data": {
      "text/html": [
       "<table class=\"dataframe\">\n",
       "<caption>A data.frame: 2 × 11</caption>\n",
       "<thead>\n",
       "\t<tr><th></th><th scope=col>mpg</th><th scope=col>cyl</th><th scope=col>disp</th><th scope=col>hp</th><th scope=col>drat</th><th scope=col>wt</th><th scope=col>qsec</th><th scope=col>vs</th><th scope=col>am</th><th scope=col>gear</th><th scope=col>carb</th></tr>\n",
       "\t<tr><th></th><th scope=col>&lt;dbl&gt;</th><th scope=col>&lt;dbl&gt;</th><th scope=col>&lt;dbl&gt;</th><th scope=col>&lt;dbl&gt;</th><th scope=col>&lt;dbl&gt;</th><th scope=col>&lt;dbl&gt;</th><th scope=col>&lt;dbl&gt;</th><th scope=col>&lt;dbl&gt;</th><th scope=col>&lt;dbl&gt;</th><th scope=col>&lt;dbl&gt;</th><th scope=col>&lt;dbl&gt;</th></tr>\n",
       "</thead>\n",
       "<tbody>\n",
       "\t<tr><th scope=row>Mazda RX4</th><td>21</td><td>6</td><td>160</td><td>110</td><td>3.9</td><td>2.620</td><td>16.46</td><td>0</td><td>1</td><td>4</td><td>4</td></tr>\n",
       "\t<tr><th scope=row>Mazda RX4 Wag</th><td>21</td><td>6</td><td>160</td><td>110</td><td>3.9</td><td>2.875</td><td>17.02</td><td>0</td><td>1</td><td>4</td><td>4</td></tr>\n",
       "</tbody>\n",
       "</table>\n"
      ],
      "text/latex": [
       "A data.frame: 2 × 11\n",
       "\\begin{tabular}{r|lllllllllll}\n",
       "  & mpg & cyl & disp & hp & drat & wt & qsec & vs & am & gear & carb\\\\\n",
       "  & <dbl> & <dbl> & <dbl> & <dbl> & <dbl> & <dbl> & <dbl> & <dbl> & <dbl> & <dbl> & <dbl>\\\\\n",
       "\\hline\n",
       "\tMazda RX4 & 21 & 6 & 160 & 110 & 3.9 & 2.620 & 16.46 & 0 & 1 & 4 & 4\\\\\n",
       "\tMazda RX4 Wag & 21 & 6 & 160 & 110 & 3.9 & 2.875 & 17.02 & 0 & 1 & 4 & 4\\\\\n",
       "\\end{tabular}\n"
      ],
      "text/markdown": [
       "\n",
       "A data.frame: 2 × 11\n",
       "\n",
       "| <!--/--> | mpg &lt;dbl&gt; | cyl &lt;dbl&gt; | disp &lt;dbl&gt; | hp &lt;dbl&gt; | drat &lt;dbl&gt; | wt &lt;dbl&gt; | qsec &lt;dbl&gt; | vs &lt;dbl&gt; | am &lt;dbl&gt; | gear &lt;dbl&gt; | carb &lt;dbl&gt; |\n",
       "|---|---|---|---|---|---|---|---|---|---|---|---|\n",
       "| Mazda RX4 | 21 | 6 | 160 | 110 | 3.9 | 2.620 | 16.46 | 0 | 1 | 4 | 4 |\n",
       "| Mazda RX4 Wag | 21 | 6 | 160 | 110 | 3.9 | 2.875 | 17.02 | 0 | 1 | 4 | 4 |\n",
       "\n"
      ],
      "text/plain": [
       "              mpg cyl disp hp  drat wt    qsec  vs am gear carb\n",
       "Mazda RX4     21  6   160  110 3.9  2.620 16.46 0  1  4    4   \n",
       "Mazda RX4 Wag 21  6   160  110 3.9  2.875 17.02 0  1  4    4   "
      ]
     },
     "metadata": {},
     "output_type": "display_data"
    }
   ],
   "source": [
    "filter(sub_data_unique, grepl(\"mazda\", tolower(rownames(sub_data_unique))) == TRUE)"
   ]
  },
  {
   "cell_type": "markdown",
   "id": "58a829b0-aceb-4956-97ce-9c3f1be3790c",
   "metadata": {},
   "source": [
    "#### Task 7"
   ]
  },
  {
   "cell_type": "code",
   "execution_count": 133,
   "id": "bfef3e5f-15fc-4b5a-9f20-2a9a31b05922",
   "metadata": {},
   "outputs": [],
   "source": [
    "max_mpg = max(sub_data_unique$mpg)"
   ]
  },
  {
   "cell_type": "code",
   "execution_count": 134,
   "id": "6f55577c-dded-45af-bd4c-da4cd956b4bf",
   "metadata": {},
   "outputs": [
    {
     "data": {
      "text/html": [
       "33.9"
      ],
      "text/latex": [
       "33.9"
      ],
      "text/markdown": [
       "33.9"
      ],
      "text/plain": [
       "[1] 33.9"
      ]
     },
     "metadata": {},
     "output_type": "display_data"
    }
   ],
   "source": [
    "max_mpg"
   ]
  },
  {
   "cell_type": "code",
   "execution_count": 135,
   "id": "ef78e23f-ae4d-489e-b89e-a085f9155c20",
   "metadata": {},
   "outputs": [
    {
     "data": {
      "text/html": [
       "<table class=\"dataframe\">\n",
       "<caption>A data.frame: 1 × 11</caption>\n",
       "<thead>\n",
       "\t<tr><th></th><th scope=col>mpg</th><th scope=col>cyl</th><th scope=col>disp</th><th scope=col>hp</th><th scope=col>drat</th><th scope=col>wt</th><th scope=col>qsec</th><th scope=col>vs</th><th scope=col>am</th><th scope=col>gear</th><th scope=col>carb</th></tr>\n",
       "\t<tr><th></th><th scope=col>&lt;dbl&gt;</th><th scope=col>&lt;dbl&gt;</th><th scope=col>&lt;dbl&gt;</th><th scope=col>&lt;dbl&gt;</th><th scope=col>&lt;dbl&gt;</th><th scope=col>&lt;dbl&gt;</th><th scope=col>&lt;dbl&gt;</th><th scope=col>&lt;dbl&gt;</th><th scope=col>&lt;dbl&gt;</th><th scope=col>&lt;dbl&gt;</th><th scope=col>&lt;dbl&gt;</th></tr>\n",
       "</thead>\n",
       "<tbody>\n",
       "\t<tr><th scope=row>Toyota Corolla</th><td>33.9</td><td>4</td><td>71.1</td><td>65</td><td>4.22</td><td>1.835</td><td>19.9</td><td>1</td><td>1</td><td>4</td><td>1</td></tr>\n",
       "</tbody>\n",
       "</table>\n"
      ],
      "text/latex": [
       "A data.frame: 1 × 11\n",
       "\\begin{tabular}{r|lllllllllll}\n",
       "  & mpg & cyl & disp & hp & drat & wt & qsec & vs & am & gear & carb\\\\\n",
       "  & <dbl> & <dbl> & <dbl> & <dbl> & <dbl> & <dbl> & <dbl> & <dbl> & <dbl> & <dbl> & <dbl>\\\\\n",
       "\\hline\n",
       "\tToyota Corolla & 33.9 & 4 & 71.1 & 65 & 4.22 & 1.835 & 19.9 & 1 & 1 & 4 & 1\\\\\n",
       "\\end{tabular}\n"
      ],
      "text/markdown": [
       "\n",
       "A data.frame: 1 × 11\n",
       "\n",
       "| <!--/--> | mpg &lt;dbl&gt; | cyl &lt;dbl&gt; | disp &lt;dbl&gt; | hp &lt;dbl&gt; | drat &lt;dbl&gt; | wt &lt;dbl&gt; | qsec &lt;dbl&gt; | vs &lt;dbl&gt; | am &lt;dbl&gt; | gear &lt;dbl&gt; | carb &lt;dbl&gt; |\n",
       "|---|---|---|---|---|---|---|---|---|---|---|---|\n",
       "| Toyota Corolla | 33.9 | 4 | 71.1 | 65 | 4.22 | 1.835 | 19.9 | 1 | 1 | 4 | 1 |\n",
       "\n"
      ],
      "text/plain": [
       "               mpg  cyl disp hp drat wt    qsec vs am gear carb\n",
       "Toyota Corolla 33.9 4   71.1 65 4.22 1.835 19.9 1  1  4    1   "
      ]
     },
     "metadata": {},
     "output_type": "display_data"
    }
   ],
   "source": [
    "filter(sub_data_unique, mpg == max_mpg)"
   ]
  },
  {
   "cell_type": "markdown",
   "id": "5d2f9f7d-5ab6-4331-92d5-af702a01beec",
   "metadata": {},
   "source": [
    "#### Task 8"
   ]
  },
  {
   "cell_type": "code",
   "execution_count": 139,
   "id": "b0f69416-07dc-4e62-81bc-77e9eba5fb1f",
   "metadata": {},
   "outputs": [
    {
     "data": {
      "text/html": [
       "<table class=\"dataframe\">\n",
       "<caption>A data.frame: 4 × 11</caption>\n",
       "<thead>\n",
       "\t<tr><th></th><th scope=col>mpg</th><th scope=col>cyl</th><th scope=col>disp</th><th scope=col>hp</th><th scope=col>drat</th><th scope=col>wt</th><th scope=col>qsec</th><th scope=col>vs</th><th scope=col>am</th><th scope=col>gear</th><th scope=col>carb</th></tr>\n",
       "\t<tr><th></th><th scope=col>&lt;dbl&gt;</th><th scope=col>&lt;dbl&gt;</th><th scope=col>&lt;dbl&gt;</th><th scope=col>&lt;dbl&gt;</th><th scope=col>&lt;dbl&gt;</th><th scope=col>&lt;dbl&gt;</th><th scope=col>&lt;dbl&gt;</th><th scope=col>&lt;dbl&gt;</th><th scope=col>&lt;dbl&gt;</th><th scope=col>&lt;dbl&gt;</th><th scope=col>&lt;dbl&gt;</th></tr>\n",
       "</thead>\n",
       "<tbody>\n",
       "\t<tr><th scope=row>Fiat 128</th><td>32.4</td><td>4</td><td>78.7</td><td>66</td><td>4.08</td><td>2.200</td><td>19.47</td><td>1</td><td>1</td><td>4</td><td>1</td></tr>\n",
       "\t<tr><th scope=row>Honda Civic</th><td>30.4</td><td>4</td><td>75.7</td><td>52</td><td>4.93</td><td>1.615</td><td>18.52</td><td>1</td><td>1</td><td>4</td><td>2</td></tr>\n",
       "\t<tr><th scope=row>Toyota Corolla</th><td>33.9</td><td>4</td><td>71.1</td><td>65</td><td>4.22</td><td>1.835</td><td>19.90</td><td>1</td><td>1</td><td>4</td><td>1</td></tr>\n",
       "\t<tr><th scope=row>Fiat X1-9</th><td>27.3</td><td>4</td><td>79.0</td><td>66</td><td>4.08</td><td>1.935</td><td>18.90</td><td>1</td><td>1</td><td>4</td><td>1</td></tr>\n",
       "</tbody>\n",
       "</table>\n"
      ],
      "text/latex": [
       "A data.frame: 4 × 11\n",
       "\\begin{tabular}{r|lllllllllll}\n",
       "  & mpg & cyl & disp & hp & drat & wt & qsec & vs & am & gear & carb\\\\\n",
       "  & <dbl> & <dbl> & <dbl> & <dbl> & <dbl> & <dbl> & <dbl> & <dbl> & <dbl> & <dbl> & <dbl>\\\\\n",
       "\\hline\n",
       "\tFiat 128 & 32.4 & 4 & 78.7 & 66 & 4.08 & 2.200 & 19.47 & 1 & 1 & 4 & 1\\\\\n",
       "\tHonda Civic & 30.4 & 4 & 75.7 & 52 & 4.93 & 1.615 & 18.52 & 1 & 1 & 4 & 2\\\\\n",
       "\tToyota Corolla & 33.9 & 4 & 71.1 & 65 & 4.22 & 1.835 & 19.90 & 1 & 1 & 4 & 1\\\\\n",
       "\tFiat X1-9 & 27.3 & 4 & 79.0 & 66 & 4.08 & 1.935 & 18.90 & 1 & 1 & 4 & 1\\\\\n",
       "\\end{tabular}\n"
      ],
      "text/markdown": [
       "\n",
       "A data.frame: 4 × 11\n",
       "\n",
       "| <!--/--> | mpg &lt;dbl&gt; | cyl &lt;dbl&gt; | disp &lt;dbl&gt; | hp &lt;dbl&gt; | drat &lt;dbl&gt; | wt &lt;dbl&gt; | qsec &lt;dbl&gt; | vs &lt;dbl&gt; | am &lt;dbl&gt; | gear &lt;dbl&gt; | carb &lt;dbl&gt; |\n",
       "|---|---|---|---|---|---|---|---|---|---|---|---|\n",
       "| Fiat 128 | 32.4 | 4 | 78.7 | 66 | 4.08 | 2.200 | 19.47 | 1 | 1 | 4 | 1 |\n",
       "| Honda Civic | 30.4 | 4 | 75.7 | 52 | 4.93 | 1.615 | 18.52 | 1 | 1 | 4 | 2 |\n",
       "| Toyota Corolla | 33.9 | 4 | 71.1 | 65 | 4.22 | 1.835 | 19.90 | 1 | 1 | 4 | 1 |\n",
       "| Fiat X1-9 | 27.3 | 4 | 79.0 | 66 | 4.08 | 1.935 | 18.90 | 1 | 1 | 4 | 1 |\n",
       "\n"
      ],
      "text/plain": [
       "               mpg  cyl disp hp drat wt    qsec  vs am gear carb\n",
       "Fiat 128       32.4 4   78.7 66 4.08 2.200 19.47 1  1  4    1   \n",
       "Honda Civic    30.4 4   75.7 52 4.93 1.615 18.52 1  1  4    2   \n",
       "Toyota Corolla 33.9 4   71.1 65 4.22 1.835 19.90 1  1  4    1   \n",
       "Fiat X1-9      27.3 4   79.0 66 4.08 1.935 18.90 1  1  4    1   "
      ]
     },
     "metadata": {},
     "output_type": "display_data"
    }
   ],
   "source": [
    "filter(sub_data_unique, mpg >= 25, cyl == 4, gear == 4)"
   ]
  },
  {
   "cell_type": "markdown",
   "id": "8d73b796-07bb-4135-90c9-46047a6c2c5d",
   "metadata": {},
   "source": [
    "#### Task 9"
   ]
  },
  {
   "cell_type": "code",
   "execution_count": 142,
   "id": "cc894c86-3ed7-41b3-b59a-05847bb29527",
   "metadata": {},
   "outputs": [
    {
     "data": {
      "text/html": [
       "<table class=\"dataframe\">\n",
       "<caption>A tibble: 3 × 4</caption>\n",
       "<thead>\n",
       "\t<tr><th scope=col>cyl</th><th scope=col>count</th><th scope=col>max.hp</th><th scope=col>min.hp</th></tr>\n",
       "\t<tr><th scope=col>&lt;dbl&gt;</th><th scope=col>&lt;int&gt;</th><th scope=col>&lt;dbl&gt;</th><th scope=col>&lt;dbl&gt;</th></tr>\n",
       "</thead>\n",
       "<tbody>\n",
       "\t<tr><td>4</td><td>11</td><td>113</td><td>21.4</td></tr>\n",
       "\t<tr><td>6</td><td> 7</td><td>175</td><td>17.8</td></tr>\n",
       "\t<tr><td>8</td><td>14</td><td>335</td><td>10.4</td></tr>\n",
       "</tbody>\n",
       "</table>\n"
      ],
      "text/latex": [
       "A tibble: 3 × 4\n",
       "\\begin{tabular}{llll}\n",
       " cyl & count & max.hp & min.hp\\\\\n",
       " <dbl> & <int> & <dbl> & <dbl>\\\\\n",
       "\\hline\n",
       "\t 4 & 11 & 113 & 21.4\\\\\n",
       "\t 6 &  7 & 175 & 17.8\\\\\n",
       "\t 8 & 14 & 335 & 10.4\\\\\n",
       "\\end{tabular}\n"
      ],
      "text/markdown": [
       "\n",
       "A tibble: 3 × 4\n",
       "\n",
       "| cyl &lt;dbl&gt; | count &lt;int&gt; | max.hp &lt;dbl&gt; | min.hp &lt;dbl&gt; |\n",
       "|---|---|---|---|\n",
       "| 4 | 11 | 113 | 21.4 |\n",
       "| 6 |  7 | 175 | 17.8 |\n",
       "| 8 | 14 | 335 | 10.4 |\n",
       "\n"
      ],
      "text/plain": [
       "  cyl count max.hp min.hp\n",
       "1 4   11    113    21.4  \n",
       "2 6    7    175    17.8  \n",
       "3 8   14    335    10.4  "
      ]
     },
     "metadata": {},
     "output_type": "display_data"
    }
   ],
   "source": [
    "cyl_group = group_by(sub_data_unique, cyl)\n",
    "\n",
    "summary_cyl= summarize(cyl_group,\n",
    "                       count=n(),\n",
    "                       max.hp=max(hp, na.rm=T),\n",
    "                       min.hp=min(mpg, na.rm=T))\n",
    "summary_cyl"
   ]
  },
  {
   "cell_type": "markdown",
   "id": "0cf3259b-4ac4-41ba-8419-1eb4f938d4de",
   "metadata": {},
   "source": [
    "#### Task 10"
   ]
  },
  {
   "cell_type": "code",
   "execution_count": 143,
   "id": "a4e5da3d-5b7b-4149-a53d-51e469debd8b",
   "metadata": {},
   "outputs": [
    {
     "data": {
      "text/html": [
       "4.42"
      ],
      "text/latex": [
       "4.42"
      ],
      "text/markdown": [
       "4.42"
      ],
      "text/plain": [
       "[1] 4.42"
      ]
     },
     "metadata": {},
     "output_type": "display_data"
    }
   ],
   "source": [
    "min(sub_data$km_per_litre)"
   ]
  },
  {
   "cell_type": "code",
   "execution_count": 144,
   "id": "4c2c91e5-1fb6-4dd3-81cc-3719793cbf96",
   "metadata": {},
   "outputs": [
    {
     "data": {
      "text/html": [
       "14.4075"
      ],
      "text/latex": [
       "14.4075"
      ],
      "text/markdown": [
       "14.4075"
      ],
      "text/plain": [
       "[1] 14.4075"
      ]
     },
     "metadata": {},
     "output_type": "display_data"
    }
   ],
   "source": [
    "max(sub_data$km_per_litre)"
   ]
  },
  {
   "cell_type": "code",
   "execution_count": null,
   "id": "b2cd6bcf-71c3-4a56-a81f-086d9867d3de",
   "metadata": {},
   "outputs": [],
   "source": []
  }
 ],
 "metadata": {
  "kernelspec": {
   "display_name": "R",
   "language": "R",
   "name": "ir"
  },
  "language_info": {
   "codemirror_mode": "r",
   "file_extension": ".r",
   "mimetype": "text/x-r-source",
   "name": "R",
   "pygments_lexer": "r",
   "version": "4.1.0"
  }
 },
 "nbformat": 4,
 "nbformat_minor": 5
}
