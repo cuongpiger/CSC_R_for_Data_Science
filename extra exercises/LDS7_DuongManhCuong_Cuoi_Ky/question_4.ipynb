{
 "cells": [
  {
   "cell_type": "code",
   "execution_count": 3,
   "id": "1861d5e1-6ce8-4a9d-b889-3ce861c9eff8",
   "metadata": {},
   "outputs": [],
   "source": [
    "data = read.csv(\"./data/mushroom.csv\")\n",
    "data$X = NULL"
   ]
  },
  {
   "cell_type": "code",
   "execution_count": null,
   "id": "976d5c17-29bd-4e7a-87a8-6d12c8000f25",
   "metadata": {},
   "outputs": [],
   "source": []
  },
  {
   "cell_type": "code",
   "execution_count": 4,
   "id": "76427a40-875e-4b01-921d-893e3b0f3a61",
   "metadata": {},
   "outputs": [
    {
     "data": {
      "text/html": [
       "<table class=\"dataframe\">\n",
       "<caption>A data.frame: 6 × 23</caption>\n",
       "<thead>\n",
       "\t<tr><th></th><th scope=col>Class</th><th scope=col>cap.shape</th><th scope=col>cap.surface</th><th scope=col>cap.color</th><th scope=col>bruises</th><th scope=col>odor</th><th scope=col>gill.attachment</th><th scope=col>gill.spacing</th><th scope=col>gill.size</th><th scope=col>gill.color</th><th scope=col>⋯</th><th scope=col>stalk.surface.below.ring</th><th scope=col>stalk.color.above.ring</th><th scope=col>stalk.color.below.ring</th><th scope=col>veil.type</th><th scope=col>veil.color</th><th scope=col>ring.number</th><th scope=col>ring.type</th><th scope=col>print</th><th scope=col>population</th><th scope=col>habitat</th></tr>\n",
       "\t<tr><th></th><th scope=col>&lt;chr&gt;</th><th scope=col>&lt;chr&gt;</th><th scope=col>&lt;chr&gt;</th><th scope=col>&lt;chr&gt;</th><th scope=col>&lt;chr&gt;</th><th scope=col>&lt;chr&gt;</th><th scope=col>&lt;chr&gt;</th><th scope=col>&lt;chr&gt;</th><th scope=col>&lt;chr&gt;</th><th scope=col>&lt;chr&gt;</th><th scope=col>⋯</th><th scope=col>&lt;chr&gt;</th><th scope=col>&lt;chr&gt;</th><th scope=col>&lt;chr&gt;</th><th scope=col>&lt;chr&gt;</th><th scope=col>&lt;chr&gt;</th><th scope=col>&lt;chr&gt;</th><th scope=col>&lt;chr&gt;</th><th scope=col>&lt;chr&gt;</th><th scope=col>&lt;chr&gt;</th><th scope=col>&lt;chr&gt;</th></tr>\n",
       "</thead>\n",
       "<tbody>\n",
       "\t<tr><th scope=row>1</th><td>Poisonous</td><td>x</td><td>s</td><td>n</td><td>t</td><td>None   </td><td>f</td><td>c</td><td>n</td><td>k</td><td>⋯</td><td>s</td><td>w</td><td>w</td><td>p</td><td>w</td><td>o</td><td>p</td><td>Buff     </td><td>s</td><td>u</td></tr>\n",
       "\t<tr><th scope=row>2</th><td>Edible   </td><td>x</td><td>s</td><td>y</td><td>t</td><td>Almonds</td><td>f</td><td>c</td><td>b</td><td>k</td><td>⋯</td><td>s</td><td>w</td><td>w</td><td>p</td><td>w</td><td>o</td><td>p</td><td>Chocolate</td><td>n</td><td>g</td></tr>\n",
       "\t<tr><th scope=row>3</th><td>Edible   </td><td>b</td><td>s</td><td>w</td><td>t</td><td>Fishy  </td><td>f</td><td>c</td><td>b</td><td>n</td><td>⋯</td><td>s</td><td>w</td><td>w</td><td>p</td><td>w</td><td>o</td><td>p</td><td>Chocolate</td><td>n</td><td>m</td></tr>\n",
       "\t<tr><th scope=row>4</th><td>Poisonous</td><td>x</td><td>y</td><td>w</td><td>t</td><td>None   </td><td>f</td><td>c</td><td>n</td><td>n</td><td>⋯</td><td>s</td><td>w</td><td>w</td><td>p</td><td>w</td><td>o</td><td>p</td><td>Buff     </td><td>s</td><td>u</td></tr>\n",
       "\t<tr><th scope=row>5</th><td>Edible   </td><td>x</td><td>s</td><td>g</td><td>f</td><td>Musty  </td><td>f</td><td>w</td><td>b</td><td>k</td><td>⋯</td><td>s</td><td>w</td><td>w</td><td>p</td><td>w</td><td>o</td><td>e</td><td>Chocolate</td><td>a</td><td>g</td></tr>\n",
       "\t<tr><th scope=row>6</th><td>Edible   </td><td>x</td><td>y</td><td>y</td><td>t</td><td>Almonds</td><td>f</td><td>c</td><td>b</td><td>n</td><td>⋯</td><td>s</td><td>w</td><td>w</td><td>p</td><td>w</td><td>o</td><td>p</td><td>Buff     </td><td>n</td><td>g</td></tr>\n",
       "</tbody>\n",
       "</table>\n"
      ],
      "text/latex": [
       "A data.frame: 6 × 23\n",
       "\\begin{tabular}{r|lllllllllllllllllllll}\n",
       "  & Class & cap.shape & cap.surface & cap.color & bruises & odor & gill.attachment & gill.spacing & gill.size & gill.color & ⋯ & stalk.surface.below.ring & stalk.color.above.ring & stalk.color.below.ring & veil.type & veil.color & ring.number & ring.type & print & population & habitat\\\\\n",
       "  & <chr> & <chr> & <chr> & <chr> & <chr> & <chr> & <chr> & <chr> & <chr> & <chr> & ⋯ & <chr> & <chr> & <chr> & <chr> & <chr> & <chr> & <chr> & <chr> & <chr> & <chr>\\\\\n",
       "\\hline\n",
       "\t1 & Poisonous & x & s & n & t & None    & f & c & n & k & ⋯ & s & w & w & p & w & o & p & Buff      & s & u\\\\\n",
       "\t2 & Edible    & x & s & y & t & Almonds & f & c & b & k & ⋯ & s & w & w & p & w & o & p & Chocolate & n & g\\\\\n",
       "\t3 & Edible    & b & s & w & t & Fishy   & f & c & b & n & ⋯ & s & w & w & p & w & o & p & Chocolate & n & m\\\\\n",
       "\t4 & Poisonous & x & y & w & t & None    & f & c & n & n & ⋯ & s & w & w & p & w & o & p & Buff      & s & u\\\\\n",
       "\t5 & Edible    & x & s & g & f & Musty   & f & w & b & k & ⋯ & s & w & w & p & w & o & e & Chocolate & a & g\\\\\n",
       "\t6 & Edible    & x & y & y & t & Almonds & f & c & b & n & ⋯ & s & w & w & p & w & o & p & Buff      & n & g\\\\\n",
       "\\end{tabular}\n"
      ],
      "text/markdown": [
       "\n",
       "A data.frame: 6 × 23\n",
       "\n",
       "| <!--/--> | Class &lt;chr&gt; | cap.shape &lt;chr&gt; | cap.surface &lt;chr&gt; | cap.color &lt;chr&gt; | bruises &lt;chr&gt; | odor &lt;chr&gt; | gill.attachment &lt;chr&gt; | gill.spacing &lt;chr&gt; | gill.size &lt;chr&gt; | gill.color &lt;chr&gt; | ⋯ ⋯ | stalk.surface.below.ring &lt;chr&gt; | stalk.color.above.ring &lt;chr&gt; | stalk.color.below.ring &lt;chr&gt; | veil.type &lt;chr&gt; | veil.color &lt;chr&gt; | ring.number &lt;chr&gt; | ring.type &lt;chr&gt; | print &lt;chr&gt; | population &lt;chr&gt; | habitat &lt;chr&gt; |\n",
       "|---|---|---|---|---|---|---|---|---|---|---|---|---|---|---|---|---|---|---|---|---|---|\n",
       "| 1 | Poisonous | x | s | n | t | None    | f | c | n | k | ⋯ | s | w | w | p | w | o | p | Buff      | s | u |\n",
       "| 2 | Edible    | x | s | y | t | Almonds | f | c | b | k | ⋯ | s | w | w | p | w | o | p | Chocolate | n | g |\n",
       "| 3 | Edible    | b | s | w | t | Fishy   | f | c | b | n | ⋯ | s | w | w | p | w | o | p | Chocolate | n | m |\n",
       "| 4 | Poisonous | x | y | w | t | None    | f | c | n | n | ⋯ | s | w | w | p | w | o | p | Buff      | s | u |\n",
       "| 5 | Edible    | x | s | g | f | Musty   | f | w | b | k | ⋯ | s | w | w | p | w | o | e | Chocolate | a | g |\n",
       "| 6 | Edible    | x | y | y | t | Almonds | f | c | b | n | ⋯ | s | w | w | p | w | o | p | Buff      | n | g |\n",
       "\n"
      ],
      "text/plain": [
       "  Class     cap.shape cap.surface cap.color bruises odor    gill.attachment\n",
       "1 Poisonous x         s           n         t       None    f              \n",
       "2 Edible    x         s           y         t       Almonds f              \n",
       "3 Edible    b         s           w         t       Fishy   f              \n",
       "4 Poisonous x         y           w         t       None    f              \n",
       "5 Edible    x         s           g         f       Musty   f              \n",
       "6 Edible    x         y           y         t       Almonds f              \n",
       "  gill.spacing gill.size gill.color ⋯ stalk.surface.below.ring\n",
       "1 c            n         k          ⋯ s                       \n",
       "2 c            b         k          ⋯ s                       \n",
       "3 c            b         n          ⋯ s                       \n",
       "4 c            n         n          ⋯ s                       \n",
       "5 w            b         k          ⋯ s                       \n",
       "6 c            b         n          ⋯ s                       \n",
       "  stalk.color.above.ring stalk.color.below.ring veil.type veil.color\n",
       "1 w                      w                      p         w         \n",
       "2 w                      w                      p         w         \n",
       "3 w                      w                      p         w         \n",
       "4 w                      w                      p         w         \n",
       "5 w                      w                      p         w         \n",
       "6 w                      w                      p         w         \n",
       "  ring.number ring.type print     population habitat\n",
       "1 o           p         Buff      s          u      \n",
       "2 o           p         Chocolate n          g      \n",
       "3 o           p         Chocolate n          m      \n",
       "4 o           p         Buff      s          u      \n",
       "5 o           e         Chocolate a          g      \n",
       "6 o           p         Buff      n          g      "
      ]
     },
     "metadata": {},
     "output_type": "display_data"
    }
   ],
   "source": [
    "head(data)"
   ]
  },
  {
   "cell_type": "code",
   "execution_count": 5,
   "id": "584c156d-09eb-44a4-a858-5cbb16cb82c7",
   "metadata": {},
   "outputs": [
    {
     "data": {
      "text/html": [
       "8124"
      ],
      "text/latex": [
       "8124"
      ],
      "text/markdown": [
       "8124"
      ],
      "text/plain": [
       "[1] 8124"
      ]
     },
     "metadata": {},
     "output_type": "display_data"
    }
   ],
   "source": [
    "nrow(data)"
   ]
  },
  {
   "cell_type": "code",
   "execution_count": 6,
   "id": "e5ba31b0-3ec4-4297-baa6-75d2ef8a6766",
   "metadata": {},
   "outputs": [
    {
     "data": {
      "text/html": [
       "23"
      ],
      "text/latex": [
       "23"
      ],
      "text/markdown": [
       "23"
      ],
      "text/plain": [
       "[1] 23"
      ]
     },
     "metadata": {},
     "output_type": "display_data"
    }
   ],
   "source": [
    "ncol(data)"
   ]
  },
  {
   "cell_type": "code",
   "execution_count": 7,
   "id": "cd6af859-4144-4840-9943-ed6d312febd7",
   "metadata": {},
   "outputs": [
    {
     "data": {
      "text/plain": [
       "    Class            cap.shape         cap.surface         cap.color        \n",
       " Length:8124        Length:8124        Length:8124        Length:8124       \n",
       " Class :character   Class :character   Class :character   Class :character  \n",
       " Mode  :character   Mode  :character   Mode  :character   Mode  :character  \n",
       "   bruises              odor           gill.attachment    gill.spacing      \n",
       " Length:8124        Length:8124        Length:8124        Length:8124       \n",
       " Class :character   Class :character   Class :character   Class :character  \n",
       " Mode  :character   Mode  :character   Mode  :character   Mode  :character  \n",
       "  gill.size          gill.color        stalk.shape         stalk.root       \n",
       " Length:8124        Length:8124        Length:8124        Length:8124       \n",
       " Class :character   Class :character   Class :character   Class :character  \n",
       " Mode  :character   Mode  :character   Mode  :character   Mode  :character  \n",
       " stalk.surface.above.ring stalk.surface.below.ring stalk.color.above.ring\n",
       " Length:8124              Length:8124              Length:8124           \n",
       " Class :character         Class :character         Class :character      \n",
       " Mode  :character         Mode  :character         Mode  :character      \n",
       " stalk.color.below.ring  veil.type          veil.color       \n",
       " Length:8124            Length:8124        Length:8124       \n",
       " Class :character       Class :character   Class :character  \n",
       " Mode  :character       Mode  :character   Mode  :character  \n",
       " ring.number         ring.type            print            population       \n",
       " Length:8124        Length:8124        Length:8124        Length:8124       \n",
       " Class :character   Class :character   Class :character   Class :character  \n",
       " Mode  :character   Mode  :character   Mode  :character   Mode  :character  \n",
       "   habitat         \n",
       " Length:8124       \n",
       " Class :character  \n",
       " Mode  :character  "
      ]
     },
     "metadata": {},
     "output_type": "display_data"
    }
   ],
   "source": [
    "summary(data)"
   ]
  },
  {
   "cell_type": "code",
   "execution_count": null,
   "id": "5a323582-215d-4347-8db2-73998f82fdca",
   "metadata": {},
   "outputs": [],
   "source": []
  },
  {
   "cell_type": "code",
   "execution_count": 9,
   "id": "435e70e1-dcb8-4258-a940-476951243be8",
   "metadata": {},
   "outputs": [],
   "source": [
    "library(Amelia)"
   ]
  },
  {
   "cell_type": "code",
   "execution_count": 10,
   "id": "2a8907b4-dadb-45f4-991a-fe425d419488",
   "metadata": {},
   "outputs": [
    {
     "data": {
      "image/png": "[encoded data removed]",
      "text/plain": [
       "Plot with title “Missing values vs Observed”"
      ]
     },
     "metadata": {
      "image/png": {
       "height": 420,
       "width": 420
      }
     },
     "output_type": "display_data"
    }
   ],
   "source": [
    "missmap(data, main = \"Missing values vs Observed\")"
   ]
  },
  {
   "cell_type": "code",
   "execution_count": 11,
   "id": "86301779-4dae-4e91-8aaf-56d9bd220342",
   "metadata": {},
   "outputs": [
    {
     "data": {
      "text/plain": [
       "\n",
       "   Edible Poisonous \n",
       "     4208      3916 "
      ]
     },
     "metadata": {},
     "output_type": "display_data"
    }
   ],
   "source": [
    "table(data$Class)"
   ]
  },
  {
   "cell_type": "markdown",
   "id": "bdf8d65b-3af7-4ea2-b805-09ffa758db92",
   "metadata": {},
   "source": [
    "> **Nhận xét**\n",
    "> * Đối với tập dữ liệu này, toàn bộ dữ liệu đều là dữ liệu định danh, nên nếu sử dụng thuật toán Logistic thì ko phù hợp, đổi lại ta nên áp dụng Decision Tree."
   ]
  },
  {
   "cell_type": "code",
   "execution_count": null,
   "id": "889b2a6b-098b-4959-966e-bae9f669020d",
   "metadata": {},
   "outputs": [],
   "source": []
  },
  {
   "cell_type": "code",
   "execution_count": 22,
   "id": "f5a8ed35-1921-4f73-bad7-ac472997f9fe",
   "metadata": {},
   "outputs": [],
   "source": [
    "library(rpart)"
   ]
  },
  {
   "cell_type": "code",
   "execution_count": 23,
   "id": "26f06ce8-9ec2-45dc-be5d-fc9300643f83",
   "metadata": {},
   "outputs": [],
   "source": [
    "set.seed(42)\n",
    "trainingRowIndex = sample(1:nrow(data), 0.75*nrow(data))\n",
    "trainingData = data[trainingRowIndex,]\n",
    "testData = data[-trainingRowIndex,]"
   ]
  },
  {
   "cell_type": "code",
   "execution_count": 25,
   "id": "7bb5b26b-4e1a-4534-a895-b8fa42129f65",
   "metadata": {},
   "outputs": [
    {
     "data": {
      "text/plain": [
       "n= 6093 \n",
       "\n",
       "node), split, n, loss, yval, (yprob)\n",
       "      * denotes terminal node\n",
       "\n",
       "1) root 6093 2952 Edible (0.51550960 0.48449040)  \n",
       "  2) odor=Almonds,Fishy,Musty 3230   89 Edible (0.97244582 0.02755418)  \n",
       "    4) print=Black,Brown,Buff,Chocolate,Green,Purple,White,Yellow 3182   41 Edible (0.98711502 0.01288498) *\n",
       "    5) print=Orange 48    0 Poisonous (0.00000000 1.00000000) *\n",
       "  3) odor=Anise,Creosote,Foul,None,Pungent,Spicy 2863    0 Poisonous (0.00000000 1.00000000) *"
      ]
     },
     "metadata": {},
     "output_type": "display_data"
    }
   ],
   "source": [
    "data.tree = rpart(Class ~ cap.shape + cap.surface + cap.color + bruises + \n",
    "                  odor + gill.attachment + gill.spacing + gill.size + gill.color + \n",
    "                  stalk.shape + stalk.root + stalk.surface.above.ring + \n",
    "                  stalk.surface.below.ring + stalk.color.above.ring + \n",
    "                  stalk.color.below.ring + veil.type + veil.color + ring.number + \n",
    "                  ring.type + print + population + habitat, \n",
    "                  data = trainingData, method = 'class')\n",
    "\n",
    "data.tree"
   ]
  },
  {
   "cell_type": "code",
   "execution_count": null,
   "id": "b525f697-a1b7-44b7-96d3-fe725506a295",
   "metadata": {},
   "outputs": [],
   "source": []
  },
  {
   "cell_type": "code",
   "execution_count": 26,
   "id": "cabeded2-5bc7-47d6-b183-2cb7a7ed1a53",
   "metadata": {},
   "outputs": [
    {
     "name": "stdout",
     "output_type": "stream",
     "text": [
      "Call:\n",
      "rpart(formula = Class ~ cap.shape + cap.surface + cap.color + \n",
      "    bruises + odor + gill.attachment + gill.spacing + gill.size + \n",
      "    gill.color + stalk.shape + stalk.root + stalk.surface.above.ring + \n",
      "    stalk.surface.below.ring + stalk.color.above.ring + stalk.color.below.ring + \n",
      "    veil.type + veil.color + ring.number + ring.type + print + \n",
      "    population + habitat, data = trainingData, method = \"class\")\n",
      "  n= 6093 \n",
      "\n",
      "          CP nsplit  rel error     xerror        xstd\n",
      "1 0.96985095      0 1.00000000 1.00000000 0.013214788\n",
      "2 0.01626016      1 0.03014905 0.03014905 0.003172367\n",
      "3 0.01000000      2 0.01388889 0.01388889 0.002161770\n",
      "\n",
      "Variable importance\n",
      "                    odor                    print               gill.color \n",
      "                      26                       19                       16 \n",
      "stalk.surface.above.ring stalk.surface.below.ring                ring.type \n",
      "                      13                       13                       13 \n",
      "\n",
      "Node number 1: 6093 observations,    complexity param=0.9698509\n",
      "  predicted class=Edible     expected loss=0.4844904  P(node) =1\n",
      "    class counts:  3141  2952\n",
      "   probabilities: 0.516 0.484 \n",
      "  left son=2 (3230 obs) right son=3 (2863 obs)\n",
      "  Primary splits:\n",
      "      odor                     splits as  LRRLRLRRR,    improve=2870.4730, (0 missing)\n",
      "      print                    splits as  LRLLLRLRL,    improve=1607.0080, (0 missing)\n",
      "      gill.color               splits as  RLRRLLLLRLLL, improve=1141.7850, (0 missing)\n",
      "      stalk.surface.above.ring splits as  LRLL,         improve=1042.2530, (0 missing)\n",
      "      stalk.surface.below.ring splits as  LRLL,         improve= 984.6038, (0 missing)\n",
      "  Surrogate splits:\n",
      "      print                    splits as  LRLLLLLRL,    agree=0.856, adj=0.694, (0 split)\n",
      "      gill.color               splits as  RLRRLLLLLLLL, agree=0.811, adj=0.597, (0 split)\n",
      "      stalk.surface.above.ring splits as  LRLL,         agree=0.778, adj=0.527, (0 split)\n",
      "      stalk.surface.below.ring splits as  LRLL,         agree=0.777, adj=0.526, (0 split)\n",
      "      ring.type                splits as  RLRRL,        agree=0.773, adj=0.517, (0 split)\n",
      "\n",
      "Node number 2: 3230 observations,    complexity param=0.01626016\n",
      "  predicted class=Edible     expected loss=0.02755418  P(node) =0.5301165\n",
      "    class counts:  3141    89\n",
      "   probabilities: 0.972 0.028 \n",
      "  left son=4 (3182 obs) right son=5 (48 obs)\n",
      "  Primary splits:\n",
      "      print                    splits as  LLLLLRLLL,    improve=92.15192, (0 missing)\n",
      "      gill.color               splits as  -LLLLLLLRLLL, improve=36.14736, (0 missing)\n",
      "      stalk.color.below.ring   splits as  --LLLLLLR,    improve=34.23421, (0 missing)\n",
      "      cap.color                splits as  RLLLLRLLLL,   improve=13.54370, (0 missing)\n",
      "      stalk.surface.above.ring splits as  LRLR,         improve=11.65172, (0 missing)\n",
      "  Surrogate splits:\n",
      "      gill.color splits as  -LLLLLLLRLLL, agree=0.991, adj=0.396, (0 split)\n",
      "\n",
      "Node number 3: 2863 observations\n",
      "  predicted class=Poisonous  expected loss=0  P(node) =0.4698835\n",
      "    class counts:     0  2863\n",
      "   probabilities: 0.000 1.000 \n",
      "\n",
      "Node number 4: 3182 observations\n",
      "  predicted class=Edible     expected loss=0.01288498  P(node) =0.5222386\n",
      "    class counts:  3141    41\n",
      "   probabilities: 0.987 0.013 \n",
      "\n",
      "Node number 5: 48 observations\n",
      "  predicted class=Poisonous  expected loss=0  P(node) =0.007877893\n",
      "    class counts:     0    48\n",
      "   probabilities: 0.000 1.000 \n",
      "\n"
     ]
    }
   ],
   "source": [
    "summary(data.tree)"
   ]
  },
  {
   "cell_type": "code",
   "execution_count": null,
   "id": "24470cae-0dae-45d0-bcfe-cc36f37f55fa",
   "metadata": {},
   "outputs": [],
   "source": []
  },
  {
   "cell_type": "code",
   "execution_count": 27,
   "id": "c2ccb2a1-2f84-4b47-b22b-564a033bed7e",
   "metadata": {},
   "outputs": [
    {
     "data": {
      "text/html": [
       "<table class=\"dataframe\">\n",
       "<caption>A data.frame: 6 × 2</caption>\n",
       "<thead>\n",
       "\t<tr><th></th><th scope=col>Predict</th><th scope=col>Actual</th></tr>\n",
       "\t<tr><th></th><th scope=col>&lt;fct&gt;</th><th scope=col>&lt;chr&gt;</th></tr>\n",
       "</thead>\n",
       "<tbody>\n",
       "\t<tr><th scope=row>5</th><td>Edible   </td><td>Edible   </td></tr>\n",
       "\t<tr><th scope=row>6</th><td>Edible   </td><td>Edible   </td></tr>\n",
       "\t<tr><th scope=row>12</th><td>Edible   </td><td>Edible   </td></tr>\n",
       "\t<tr><th scope=row>13</th><td>Edible   </td><td>Edible   </td></tr>\n",
       "\t<tr><th scope=row>17</th><td>Edible   </td><td>Edible   </td></tr>\n",
       "\t<tr><th scope=row>20</th><td>Poisonous</td><td>Poisonous</td></tr>\n",
       "</tbody>\n",
       "</table>\n"
      ],
      "text/latex": [
       "A data.frame: 6 × 2\n",
       "\\begin{tabular}{r|ll}\n",
       "  & Predict & Actual\\\\\n",
       "  & <fct> & <chr>\\\\\n",
       "\\hline\n",
       "\t5 & Edible    & Edible   \\\\\n",
       "\t6 & Edible    & Edible   \\\\\n",
       "\t12 & Edible    & Edible   \\\\\n",
       "\t13 & Edible    & Edible   \\\\\n",
       "\t17 & Edible    & Edible   \\\\\n",
       "\t20 & Poisonous & Poisonous\\\\\n",
       "\\end{tabular}\n"
      ],
      "text/markdown": [
       "\n",
       "A data.frame: 6 × 2\n",
       "\n",
       "| <!--/--> | Predict &lt;fct&gt; | Actual &lt;chr&gt; |\n",
       "|---|---|---|\n",
       "| 5 | Edible    | Edible    |\n",
       "| 6 | Edible    | Edible    |\n",
       "| 12 | Edible    | Edible    |\n",
       "| 13 | Edible    | Edible    |\n",
       "| 17 | Edible    | Edible    |\n",
       "| 20 | Poisonous | Poisonous |\n",
       "\n"
      ],
      "text/plain": [
       "   Predict   Actual   \n",
       "5  Edible    Edible   \n",
       "6  Edible    Edible   \n",
       "12 Edible    Edible   \n",
       "13 Edible    Edible   \n",
       "17 Edible    Edible   \n",
       "20 Poisonous Poisonous"
      ]
     },
     "metadata": {},
     "output_type": "display_data"
    }
   ],
   "source": [
    "y_pred = predict(data.tree, testData, type = 'class')\n",
    "result = data.frame(Predict = y_pred, Actual = testData$Class)\n",
    "\n",
    "head(result)"
   ]
  },
  {
   "cell_type": "code",
   "execution_count": 28,
   "id": "afd1c97f-6b54-4a01-801c-253e98e12529",
   "metadata": {},
   "outputs": [
    {
     "data": {
      "text/html": [
       "0.996553421959626"
      ],
      "text/latex": [
       "0.996553421959626"
      ],
      "text/markdown": [
       "0.996553421959626"
      ],
      "text/plain": [
       "[1] 0.9965534"
      ]
     },
     "metadata": {},
     "output_type": "display_data"
    }
   ],
   "source": [
    "1 - mean(y_pred != testData$Class)"
   ]
  },
  {
   "cell_type": "code",
   "execution_count": 33,
   "id": "68099654-da19-494a-8c5f-0155639a15a3",
   "metadata": {},
   "outputs": [
    {
     "data": {
      "text/plain": [
       "           \n",
       "y_pred      Edible Poisonous\n",
       "  Edible      1067         7\n",
       "  Poisonous      0       957"
      ]
     },
     "metadata": {},
     "output_type": "display_data"
    }
   ],
   "source": [
    "cf = table(y_pred, testData$Class)\n",
    "\n",
    "cf"
   ]
  },
  {
   "cell_type": "markdown",
   "id": "ef3a3f20-57a4-477e-adf9-f4a66ba844d1",
   "metadata": {},
   "source": [
    "> **Nhận xét**\n",
    "> * Decision Tree hoạt động cực kì tốt cho tập data này"
   ]
  },
  {
   "cell_type": "code",
   "execution_count": null,
   "id": "d7b0833d-423a-4cd6-a661-ba3c8608df3e",
   "metadata": {},
   "outputs": [],
   "source": []
  },
  {
   "cell_type": "code",
   "execution_count": 29,
   "id": "85103e2f-a59c-45cc-b59f-43648817a129",
   "metadata": {},
   "outputs": [],
   "source": [
    "library(rpart.plot)"
   ]
  },
  {
   "cell_type": "code",
   "execution_count": 32,
   "id": "c58ccc65-43b3-4edb-b833-372de4e8398d",
   "metadata": {},
   "outputs": [
    {
     "data": {
      "image/png": "[encoded data removed]",
      "text/plain": [
       "plot without title"
      ]
     },
     "metadata": {
      "image/png": {
       "height": 420,
       "width": 420
      }
     },
     "output_type": "display_data"
    }
   ],
   "source": [
    "prp(data.tree, type = 2, extra = 'auto', nn = TRUE, branch = 1, varlen = 0, yesno = 2)"
   ]
  },
  {
   "cell_type": "code",
   "execution_count": null,
   "id": "ed2e875f-e0c4-4540-b51c-68f6d62a072c",
   "metadata": {},
   "outputs": [],
   "source": []
  }
 ],
 "metadata": {
  "kernelspec": {
   "display_name": "R",
   "language": "R",
   "name": "ir"
  },
  "language_info": {
   "codemirror_mode": "r",
   "file_extension": ".r",
   "mimetype": "text/x-r-source",
   "name": "R",
   "pygments_lexer": "r",
   "version": "4.1.0"
  }
 },
 "nbformat": 4,
 "nbformat_minor": 5
}
