{
 "cells": [
  {
   "cell_type": "markdown",
   "id": "21aab325-b151-413c-8847-3bbcf2a1b8b0",
   "metadata": {},
   "source": [
    "# 1."
   ]
  },
  {
   "cell_type": "markdown",
   "id": "957a6584-c87c-45b7-9377-fbcb7d23b731",
   "metadata": {},
   "source": [
    "## a."
   ]
  },
  {
   "cell_type": "code",
   "execution_count": 5,
   "id": "c305a3a6-cec3-4194-94e0-25dcfa5e0222",
   "metadata": {},
   "outputs": [
    {
     "data": {
      "text/html": [
       "0.952209647727185"
      ],
      "text/latex": [
       "0.952209647727185"
      ],
      "text/markdown": [
       "0.952209647727185"
      ],
      "text/plain": [
       "[1] 0.9522096"
      ]
     },
     "metadata": {},
     "output_type": "display_data"
    }
   ],
   "source": [
    "a = pnorm(125, mean = 100., sd = 15.)\n",
    "\n",
    "a"
   ]
  },
  {
   "cell_type": "markdown",
   "id": "ddee0c20-650e-471b-a095-d29a13135447",
   "metadata": {},
   "source": [
    "## b"
   ]
  },
  {
   "cell_type": "code",
   "execution_count": 6,
   "id": "39df0abc-7882-4032-a643-10edbdf1b12c",
   "metadata": {},
   "outputs": [
    {
     "data": {
      "text/html": [
       "0.252492537546923"
      ],
      "text/latex": [
       "0.252492537546923"
      ],
      "text/markdown": [
       "0.252492537546923"
      ],
      "text/plain": [
       "[1] 0.2524925"
      ]
     },
     "metadata": {},
     "output_type": "display_data"
    }
   ],
   "source": [
    "b = pnorm(110, mean = 100., sd = 15., lower.tail = FALSE)\n",
    "\n",
    "b"
   ]
  },
  {
   "cell_type": "markdown",
   "id": "84ec0fdc-096b-4e76-8b70-45a493d4ade1",
   "metadata": {},
   "source": [
    "## c"
   ]
  },
  {
   "cell_type": "code",
   "execution_count": 8,
   "id": "d65d07e2-053f-4e71-a4d7-9054c42880b3",
   "metadata": {},
   "outputs": [
    {
     "data": {
      "text/html": [
       "0.204702185274108"
      ],
      "text/latex": [
       "0.204702185274108"
      ],
      "text/markdown": [
       "0.204702185274108"
      ],
      "text/plain": [
       "[1] 0.2047022"
      ]
     },
     "metadata": {},
     "output_type": "display_data"
    }
   ],
   "source": [
    "a - pnorm(110, mean = 100., sd = 15.)"
   ]
  },
  {
   "cell_type": "markdown",
   "id": "c4340c41-3358-4831-b80b-2d50cf889463",
   "metadata": {},
   "source": [
    "# 2."
   ]
  },
  {
   "cell_type": "markdown",
   "id": "51674e69-4759-4189-98a5-2cb4e3e44cba",
   "metadata": {},
   "source": [
    "## a."
   ]
  },
  {
   "cell_type": "code",
   "execution_count": 9,
   "id": "de937fa1-c875-44bb-b414-4fa15ac32b09",
   "metadata": {},
   "outputs": [
    {
     "data": {
      "text/html": [
       "0.160751028806584"
      ],
      "text/latex": [
       "0.160751028806584"
      ],
      "text/markdown": [
       "0.160751028806584"
      ],
      "text/plain": [
       "[1] 0.160751"
      ]
     },
     "metadata": {},
     "output_type": "display_data"
    }
   ],
   "source": [
    "dbinom(2, 5, 1/6)"
   ]
  },
  {
   "cell_type": "markdown",
   "id": "8d69a032-ccd7-4838-ab61-fa5407ff7d9e",
   "metadata": {},
   "source": [
    "## b."
   ]
  },
  {
   "cell_type": "code",
   "execution_count": 10,
   "id": "f7ca2048-cb6f-43d0-9e0e-1f2774ebe5dc",
   "metadata": {},
   "outputs": [
    {
     "data": {
      "text/html": [
       "0.00161017132685339"
      ],
      "text/latex": [
       "0.00161017132685339"
      ],
      "text/markdown": [
       "0.00161017132685339"
      ],
      "text/plain": [
       "[1] 0.001610171"
      ]
     },
     "metadata": {},
     "output_type": "display_data"
    }
   ],
   "source": [
    "dbinom(4, 50, 0.25)"
   ]
  },
  {
   "cell_type": "code",
   "execution_count": null,
   "id": "455eb4c5-3ff7-4538-8a7d-b54186876969",
   "metadata": {},
   "outputs": [],
   "source": []
  }
 ],
 "metadata": {
  "kernelspec": {
   "display_name": "R",
   "language": "R",
   "name": "ir"
  },
  "language_info": {
   "codemirror_mode": "r",
   "file_extension": ".r",
   "mimetype": "text/x-r-source",
   "name": "R",
   "pygments_lexer": "r",
   "version": "4.1.0"
  }
 },
 "nbformat": 4,
 "nbformat_minor": 5
}
