{
 "cells": [
  {
   "cell_type": "markdown",
   "id": "3fa68b4a-10d6-4966-b7be-3e1167780d25",
   "metadata": {},
   "source": [
    "# Yêu cầu 1"
   ]
  },
  {
   "cell_type": "code",
   "execution_count": 1,
   "id": "f5df0169-c3bc-4a7d-9475-0c5795053b7e",
   "metadata": {},
   "outputs": [],
   "source": [
    "data = read.csv(\"./data/marketing.csv\")\n",
    "data = data[c(\"youtube\", \"sales\")]"
   ]
  },
  {
   "cell_type": "code",
   "execution_count": null,
   "id": "686296b8-4d1b-457d-8bb3-43c4cd880d1b",
   "metadata": {},
   "outputs": [],
   "source": []
  },
  {
   "cell_type": "code",
   "execution_count": 2,
   "id": "dfc8c47f-4004-4abd-b439-d18b6ec2daac",
   "metadata": {},
   "outputs": [
    {
     "data": {
      "text/html": [
       "<table class=\"dataframe\">\n",
       "<caption>A data.frame: 6 × 2</caption>\n",
       "<thead>\n",
       "\t<tr><th></th><th scope=col>youtube</th><th scope=col>sales</th></tr>\n",
       "\t<tr><th></th><th scope=col>&lt;dbl&gt;</th><th scope=col>&lt;dbl&gt;</th></tr>\n",
       "</thead>\n",
       "<tbody>\n",
       "\t<tr><th scope=row>1</th><td>276.12</td><td>26.52</td></tr>\n",
       "\t<tr><th scope=row>2</th><td> 53.40</td><td>12.48</td></tr>\n",
       "\t<tr><th scope=row>3</th><td> 20.64</td><td>11.16</td></tr>\n",
       "\t<tr><th scope=row>4</th><td>181.80</td><td>22.20</td></tr>\n",
       "\t<tr><th scope=row>5</th><td>216.96</td><td>15.48</td></tr>\n",
       "\t<tr><th scope=row>6</th><td> 10.44</td><td> 8.64</td></tr>\n",
       "</tbody>\n",
       "</table>\n"
      ],
      "text/latex": [
       "A data.frame: 6 × 2\n",
       "\\begin{tabular}{r|ll}\n",
       "  & youtube & sales\\\\\n",
       "  & <dbl> & <dbl>\\\\\n",
       "\\hline\n",
       "\t1 & 276.12 & 26.52\\\\\n",
       "\t2 &  53.40 & 12.48\\\\\n",
       "\t3 &  20.64 & 11.16\\\\\n",
       "\t4 & 181.80 & 22.20\\\\\n",
       "\t5 & 216.96 & 15.48\\\\\n",
       "\t6 &  10.44 &  8.64\\\\\n",
       "\\end{tabular}\n"
      ],
      "text/markdown": [
       "\n",
       "A data.frame: 6 × 2\n",
       "\n",
       "| <!--/--> | youtube &lt;dbl&gt; | sales &lt;dbl&gt; |\n",
       "|---|---|---|\n",
       "| 1 | 276.12 | 26.52 |\n",
       "| 2 |  53.40 | 12.48 |\n",
       "| 3 |  20.64 | 11.16 |\n",
       "| 4 | 181.80 | 22.20 |\n",
       "| 5 | 216.96 | 15.48 |\n",
       "| 6 |  10.44 |  8.64 |\n",
       "\n"
      ],
      "text/plain": [
       "  youtube sales\n",
       "1 276.12  26.52\n",
       "2  53.40  12.48\n",
       "3  20.64  11.16\n",
       "4 181.80  22.20\n",
       "5 216.96  15.48\n",
       "6  10.44   8.64"
      ]
     },
     "metadata": {},
     "output_type": "display_data"
    }
   ],
   "source": [
    "head(data)"
   ]
  },
  {
   "cell_type": "code",
   "execution_count": 3,
   "id": "87ccb1dd-7c7b-4afb-826e-0eefd212201d",
   "metadata": {},
   "outputs": [
    {
     "data": {
      "text/html": [
       "200"
      ],
      "text/latex": [
       "200"
      ],
      "text/markdown": [
       "200"
      ],
      "text/plain": [
       "[1] 200"
      ]
     },
     "metadata": {},
     "output_type": "display_data"
    }
   ],
   "source": [
    "nrow(data)"
   ]
  },
  {
   "cell_type": "code",
   "execution_count": 4,
   "id": "5c963f71-646a-43e0-947c-775d47bcfaf9",
   "metadata": {},
   "outputs": [
    {
     "data": {
      "text/html": [
       "2"
      ],
      "text/latex": [
       "2"
      ],
      "text/markdown": [
       "2"
      ],
      "text/plain": [
       "[1] 2"
      ]
     },
     "metadata": {},
     "output_type": "display_data"
    }
   ],
   "source": [
    "ncol(data)"
   ]
  },
  {
   "cell_type": "code",
   "execution_count": 5,
   "id": "36c9894d-bcee-4702-aa98-b7898da8f977",
   "metadata": {},
   "outputs": [
    {
     "name": "stdout",
     "output_type": "stream",
     "text": [
      "'data.frame':\t200 obs. of  2 variables:\n",
      " $ youtube: num  276.1 53.4 20.6 181.8 217 ...\n",
      " $ sales  : num  26.5 12.5 11.2 22.2 15.5 ...\n"
     ]
    }
   ],
   "source": [
    "str(data)"
   ]
  },
  {
   "cell_type": "code",
   "execution_count": 6,
   "id": "08142cf2-a9ea-43cb-ac0b-843c217ad2ac",
   "metadata": {},
   "outputs": [
    {
     "data": {
      "text/plain": [
       "    youtube           sales      \n",
       " Min.   :  0.84   Min.   : 1.92  \n",
       " 1st Qu.: 89.25   1st Qu.:12.45  \n",
       " Median :179.70   Median :15.48  \n",
       " Mean   :176.45   Mean   :16.83  \n",
       " 3rd Qu.:262.59   3rd Qu.:20.88  \n",
       " Max.   :355.68   Max.   :32.40  "
      ]
     },
     "metadata": {},
     "output_type": "display_data"
    }
   ],
   "source": [
    "summary(data)"
   ]
  },
  {
   "cell_type": "code",
   "execution_count": null,
   "id": "979502d5-26fd-4b4e-8ed3-ebf1c33040d1",
   "metadata": {},
   "outputs": [],
   "source": []
  },
  {
   "cell_type": "code",
   "execution_count": 7,
   "id": "9749d9c1-d32a-42c2-9afe-e6c8d79ee770",
   "metadata": {},
   "outputs": [
    {
     "data": {
      "image/png": "[encoded data removed]",
      "text/plain": [
       "Plot with title “Sales vs Youtube”"
      ]
     },
     "metadata": {
      "image/png": {
       "height": 420,
       "width": 420
      }
     },
     "output_type": "display_data"
    }
   ],
   "source": [
    "scatter.smooth(x = data$sales, y = data$youtube,\n",
    "               main = 'Sales vs Youtube')"
   ]
  },
  {
   "cell_type": "code",
   "execution_count": null,
   "id": "2879f033-9d14-4df0-b393-5056c4e2b0c5",
   "metadata": {},
   "outputs": [],
   "source": []
  },
  {
   "cell_type": "code",
   "execution_count": 8,
   "id": "5c5f0f1d-0569-4d8e-a507-24395d1d3bb6",
   "metadata": {},
   "outputs": [
    {
     "data": {
      "image/png": "[encoded data removed]",
      "text/plain": [
       "Plot with title “Youtube”"
      ]
     },
     "metadata": {
      "image/png": {
       "height": 420,
       "width": 420
      }
     },
     "output_type": "display_data"
    }
   ],
   "source": [
    "par(mfrow = c(1, 2))\n",
    "boxplot(data$sales, main = 'Sales',\n",
    "        sub = paste('Outlier rows: ', boxplot.stats(data$sales)$out))\n",
    "boxplot(data$youtube, main = 'Youtube',\n",
    "        sub = paste('Outlier rows: ', boxplot.stats(data$youtube)$out))"
   ]
  },
  {
   "cell_type": "markdown",
   "id": "0419d34d-c872-4ca2-957b-4828e852d007",
   "metadata": {},
   "source": [
    "> **Nhận xét**\n",
    "> * Ko có outlier và cũng ko cần tiền xử lí"
   ]
  },
  {
   "cell_type": "code",
   "execution_count": null,
   "id": "accad079-4882-464d-942a-3b64373915a7",
   "metadata": {},
   "outputs": [],
   "source": []
  },
  {
   "cell_type": "code",
   "execution_count": 9,
   "id": "a448509c-2ded-4d0c-8cec-d74221bee082",
   "metadata": {},
   "outputs": [],
   "source": [
    "set.seed(42)\n",
    "\n",
    "trainingRowIndex = sample(1:nrow(data), 0.8*nrow(data))\n",
    "trainingData = data[trainingRowIndex,]\n",
    "testData = data[-trainingRowIndex,]"
   ]
  },
  {
   "cell_type": "code",
   "execution_count": null,
   "id": "49213d14-73df-43c4-8987-3d637a6c9ae2",
   "metadata": {},
   "outputs": [],
   "source": []
  },
  {
   "cell_type": "code",
   "execution_count": 10,
   "id": "a804c355-1110-4ba1-a772-54bf0d6db212",
   "metadata": {},
   "outputs": [],
   "source": [
    "lmMod = lm(sales ~ youtube, data = trainingData)"
   ]
  },
  {
   "cell_type": "code",
   "execution_count": null,
   "id": "dec36c71-c8c1-4bca-8332-abb064e4676b",
   "metadata": {},
   "outputs": [],
   "source": []
  },
  {
   "cell_type": "code",
   "execution_count": 11,
   "id": "483a090e-ffe3-45d1-ae93-367882f0cb8a",
   "metadata": {},
   "outputs": [
    {
     "data": {
      "text/plain": [
       "\n",
       "Call:\n",
       "lm(formula = sales ~ youtube, data = trainingData)\n",
       "\n",
       "Residuals:\n",
       "    Min      1Q  Median      3Q     Max \n",
       "-9.3338 -2.4283 -0.2168  2.4492  8.8434 \n",
       "\n",
       "Coefficients:\n",
       "            Estimate Std. Error t value Pr(>|t|)    \n",
       "(Intercept) 8.552763   0.615487    13.9   <2e-16 ***\n",
       "youtube     0.046271   0.002965    15.6   <2e-16 ***\n",
       "---\n",
       "Signif. codes:  0 ‘***’ 0.001 ‘**’ 0.01 ‘*’ 0.05 ‘.’ 0.1 ‘ ’ 1\n",
       "\n",
       "Residual standard error: 3.837 on 158 degrees of freedom\n",
       "Multiple R-squared:  0.6065,\tAdjusted R-squared:  0.604 \n",
       "F-statistic: 243.5 on 1 and 158 DF,  p-value: < 2.2e-16\n"
      ]
     },
     "metadata": {},
     "output_type": "display_data"
    }
   ],
   "source": [
    "summary(lmMod)"
   ]
  },
  {
   "cell_type": "code",
   "execution_count": null,
   "id": "e7570e74-465e-4b3d-9f23-621c7f35694f",
   "metadata": {},
   "outputs": [],
   "source": []
  },
  {
   "cell_type": "code",
   "execution_count": 12,
   "id": "eaad4487-9320-44ed-b2bc-7d95f1a29120",
   "metadata": {},
   "outputs": [],
   "source": [
    "y_test_predict = predict(lmMod, testData)"
   ]
  },
  {
   "cell_type": "code",
   "execution_count": 13,
   "id": "6eb0826f-050f-4aae-8d61-7d385a0991a1",
   "metadata": {},
   "outputs": [
    {
     "data": {
      "text/html": [
       "<table class=\"dataframe\">\n",
       "<caption>A data.frame: 40 × 2</caption>\n",
       "<thead>\n",
       "\t<tr><th></th><th scope=col>Predicted</th><th scope=col>True_value</th></tr>\n",
       "\t<tr><th></th><th scope=col>&lt;dbl&gt;</th><th scope=col>&lt;dbl&gt;</th></tr>\n",
       "</thead>\n",
       "<tbody>\n",
       "\t<tr><th scope=row>7</th><td>11.745430</td><td>14.16</td></tr>\n",
       "\t<tr><th scope=row>8</th><td>15.226826</td><td>15.84</td></tr>\n",
       "\t<tr><th scope=row>11</th><td>12.222942</td><td>10.32</td></tr>\n",
       "\t<tr><th scope=row>17</th><td>12.317334</td><td>15.00</td></tr>\n",
       "\t<tr><th scope=row>19</th><td>12.395069</td><td>13.56</td></tr>\n",
       "\t<tr><th scope=row>22</th><td>21.734314</td><td>15.00</td></tr>\n",
       "\t<tr><th scope=row>23</th><td> 9.285689</td><td> 6.72</td></tr>\n",
       "\t<tr><th scope=row>30</th><td>12.472803</td><td>12.60</td></tr>\n",
       "\t<tr><th scope=row>39</th><td>10.945875</td><td>12.12</td></tr>\n",
       "\t<tr><th scope=row>44</th><td>20.040812</td><td>15.48</td></tr>\n",
       "\t<tr><th scope=row>45</th><td> 9.946432</td><td>10.20</td></tr>\n",
       "\t<tr><th scope=row>46</th><td>18.275129</td><td>17.88</td></tr>\n",
       "\t<tr><th scope=row>48</th><td>21.873126</td><td>27.84</td></tr>\n",
       "\t<tr><th scope=row>50</th><td>12.267362</td><td>11.64</td></tr>\n",
       "\t<tr><th scope=row>51</th><td>19.646587</td><td>13.68</td></tr>\n",
       "\t<tr><th scope=row>52</th><td>14.127438</td><td>12.84</td></tr>\n",
       "\t<tr><th scope=row>59</th><td>20.257359</td><td>28.56</td></tr>\n",
       "\t<tr><th scope=row>61</th><td>11.523332</td><td> 9.72</td></tr>\n",
       "\t<tr><th scope=row>67</th><td>10.301790</td><td>11.40</td></tr>\n",
       "\t<tr><th scope=row>70</th><td>20.590506</td><td>26.76</td></tr>\n",
       "\t<tr><th scope=row>84</th><td>12.350649</td><td>16.32</td></tr>\n",
       "\t<tr><th scope=row>94</th><td>22.483897</td><td>26.64</td></tr>\n",
       "\t<tr><th scope=row>117</th><td>16.281794</td><td>14.64</td></tr>\n",
       "\t<tr><th scope=row>120</th><td> 9.629941</td><td> 7.92</td></tr>\n",
       "\t<tr><th scope=row>121</th><td>16.398396</td><td>18.60</td></tr>\n",
       "\t<tr><th scope=row>124</th><td>15.387847</td><td>18.24</td></tr>\n",
       "\t<tr><th scope=row>125</th><td>21.295669</td><td>23.64</td></tr>\n",
       "\t<tr><th scope=row>129</th><td>20.784843</td><td>29.64</td></tr>\n",
       "\t<tr><th scope=row>137</th><td> 9.974194</td><td>11.40</td></tr>\n",
       "\t<tr><th scope=row>141</th><td>12.628272</td><td>13.08</td></tr>\n",
       "\t<tr><th scope=row>148</th><td>22.056357</td><td>30.48</td></tr>\n",
       "\t<tr><th scope=row>156</th><td> 8.780414</td><td> 3.84</td></tr>\n",
       "\t<tr><th scope=row>161</th><td>18.130765</td><td>17.28</td></tr>\n",
       "\t<tr><th scope=row>174</th><td>17.903114</td><td>14.04</td></tr>\n",
       "\t<tr><th scope=row>179</th><td>23.916433</td><td>14.16</td></tr>\n",
       "\t<tr><th scope=row>185</th><td>22.644918</td><td>21.12</td></tr>\n",
       "\t<tr><th scope=row>190</th><td> 9.591074</td><td> 8.04</td></tr>\n",
       "\t<tr><th scope=row>194</th><td>17.814274</td><td>23.52</td></tr>\n",
       "\t<tr><th scope=row>198</th><td>18.380625</td><td>15.36</td></tr>\n",
       "\t<tr><th scope=row>199</th><td>24.299553</td><td>30.60</td></tr>\n",
       "</tbody>\n",
       "</table>\n"
      ],
      "text/latex": [
       "A data.frame: 40 × 2\n",
       "\\begin{tabular}{r|ll}\n",
       "  & Predicted & True\\_value\\\\\n",
       "  & <dbl> & <dbl>\\\\\n",
       "\\hline\n",
       "\t7 & 11.745430 & 14.16\\\\\n",
       "\t8 & 15.226826 & 15.84\\\\\n",
       "\t11 & 12.222942 & 10.32\\\\\n",
       "\t17 & 12.317334 & 15.00\\\\\n",
       "\t19 & 12.395069 & 13.56\\\\\n",
       "\t22 & 21.734314 & 15.00\\\\\n",
       "\t23 &  9.285689 &  6.72\\\\\n",
       "\t30 & 12.472803 & 12.60\\\\\n",
       "\t39 & 10.945875 & 12.12\\\\\n",
       "\t44 & 20.040812 & 15.48\\\\\n",
       "\t45 &  9.946432 & 10.20\\\\\n",
       "\t46 & 18.275129 & 17.88\\\\\n",
       "\t48 & 21.873126 & 27.84\\\\\n",
       "\t50 & 12.267362 & 11.64\\\\\n",
       "\t51 & 19.646587 & 13.68\\\\\n",
       "\t52 & 14.127438 & 12.84\\\\\n",
       "\t59 & 20.257359 & 28.56\\\\\n",
       "\t61 & 11.523332 &  9.72\\\\\n",
       "\t67 & 10.301790 & 11.40\\\\\n",
       "\t70 & 20.590506 & 26.76\\\\\n",
       "\t84 & 12.350649 & 16.32\\\\\n",
       "\t94 & 22.483897 & 26.64\\\\\n",
       "\t117 & 16.281794 & 14.64\\\\\n",
       "\t120 &  9.629941 &  7.92\\\\\n",
       "\t121 & 16.398396 & 18.60\\\\\n",
       "\t124 & 15.387847 & 18.24\\\\\n",
       "\t125 & 21.295669 & 23.64\\\\\n",
       "\t129 & 20.784843 & 29.64\\\\\n",
       "\t137 &  9.974194 & 11.40\\\\\n",
       "\t141 & 12.628272 & 13.08\\\\\n",
       "\t148 & 22.056357 & 30.48\\\\\n",
       "\t156 &  8.780414 &  3.84\\\\\n",
       "\t161 & 18.130765 & 17.28\\\\\n",
       "\t174 & 17.903114 & 14.04\\\\\n",
       "\t179 & 23.916433 & 14.16\\\\\n",
       "\t185 & 22.644918 & 21.12\\\\\n",
       "\t190 &  9.591074 &  8.04\\\\\n",
       "\t194 & 17.814274 & 23.52\\\\\n",
       "\t198 & 18.380625 & 15.36\\\\\n",
       "\t199 & 24.299553 & 30.60\\\\\n",
       "\\end{tabular}\n"
      ],
      "text/markdown": [
       "\n",
       "A data.frame: 40 × 2\n",
       "\n",
       "| <!--/--> | Predicted &lt;dbl&gt; | True_value &lt;dbl&gt; |\n",
       "|---|---|---|\n",
       "| 7 | 11.745430 | 14.16 |\n",
       "| 8 | 15.226826 | 15.84 |\n",
       "| 11 | 12.222942 | 10.32 |\n",
       "| 17 | 12.317334 | 15.00 |\n",
       "| 19 | 12.395069 | 13.56 |\n",
       "| 22 | 21.734314 | 15.00 |\n",
       "| 23 |  9.285689 |  6.72 |\n",
       "| 30 | 12.472803 | 12.60 |\n",
       "| 39 | 10.945875 | 12.12 |\n",
       "| 44 | 20.040812 | 15.48 |\n",
       "| 45 |  9.946432 | 10.20 |\n",
       "| 46 | 18.275129 | 17.88 |\n",
       "| 48 | 21.873126 | 27.84 |\n",
       "| 50 | 12.267362 | 11.64 |\n",
       "| 51 | 19.646587 | 13.68 |\n",
       "| 52 | 14.127438 | 12.84 |\n",
       "| 59 | 20.257359 | 28.56 |\n",
       "| 61 | 11.523332 |  9.72 |\n",
       "| 67 | 10.301790 | 11.40 |\n",
       "| 70 | 20.590506 | 26.76 |\n",
       "| 84 | 12.350649 | 16.32 |\n",
       "| 94 | 22.483897 | 26.64 |\n",
       "| 117 | 16.281794 | 14.64 |\n",
       "| 120 |  9.629941 |  7.92 |\n",
       "| 121 | 16.398396 | 18.60 |\n",
       "| 124 | 15.387847 | 18.24 |\n",
       "| 125 | 21.295669 | 23.64 |\n",
       "| 129 | 20.784843 | 29.64 |\n",
       "| 137 |  9.974194 | 11.40 |\n",
       "| 141 | 12.628272 | 13.08 |\n",
       "| 148 | 22.056357 | 30.48 |\n",
       "| 156 |  8.780414 |  3.84 |\n",
       "| 161 | 18.130765 | 17.28 |\n",
       "| 174 | 17.903114 | 14.04 |\n",
       "| 179 | 23.916433 | 14.16 |\n",
       "| 185 | 22.644918 | 21.12 |\n",
       "| 190 |  9.591074 |  8.04 |\n",
       "| 194 | 17.814274 | 23.52 |\n",
       "| 198 | 18.380625 | 15.36 |\n",
       "| 199 | 24.299553 | 30.60 |\n",
       "\n"
      ],
      "text/plain": [
       "    Predicted True_value\n",
       "7   11.745430 14.16     \n",
       "8   15.226826 15.84     \n",
       "11  12.222942 10.32     \n",
       "17  12.317334 15.00     \n",
       "19  12.395069 13.56     \n",
       "22  21.734314 15.00     \n",
       "23   9.285689  6.72     \n",
       "30  12.472803 12.60     \n",
       "39  10.945875 12.12     \n",
       "44  20.040812 15.48     \n",
       "45   9.946432 10.20     \n",
       "46  18.275129 17.88     \n",
       "48  21.873126 27.84     \n",
       "50  12.267362 11.64     \n",
       "51  19.646587 13.68     \n",
       "52  14.127438 12.84     \n",
       "59  20.257359 28.56     \n",
       "61  11.523332  9.72     \n",
       "67  10.301790 11.40     \n",
       "70  20.590506 26.76     \n",
       "84  12.350649 16.32     \n",
       "94  22.483897 26.64     \n",
       "117 16.281794 14.64     \n",
       "120  9.629941  7.92     \n",
       "121 16.398396 18.60     \n",
       "124 15.387847 18.24     \n",
       "125 21.295669 23.64     \n",
       "129 20.784843 29.64     \n",
       "137  9.974194 11.40     \n",
       "141 12.628272 13.08     \n",
       "148 22.056357 30.48     \n",
       "156  8.780414  3.84     \n",
       "161 18.130765 17.28     \n",
       "174 17.903114 14.04     \n",
       "179 23.916433 14.16     \n",
       "185 22.644918 21.12     \n",
       "190  9.591074  8.04     \n",
       "194 17.814274 23.52     \n",
       "198 18.380625 15.36     \n",
       "199 24.299553 30.60     "
      ]
     },
     "metadata": {},
     "output_type": "display_data"
    }
   ],
   "source": [
    "data.frame(Predicted = y_test_predict, True_value =  testData$sales)"
   ]
  },
  {
   "cell_type": "code",
   "execution_count": null,
   "id": "9bec2c39-c877-4186-8d25-84abc2ec9b83",
   "metadata": {},
   "outputs": [],
   "source": []
  },
  {
   "cell_type": "code",
   "execution_count": 14,
   "id": "5d4feb8c-b54d-44d5-be9f-8cdfd218498d",
   "metadata": {},
   "outputs": [
    {
     "data": {
      "text/html": [
       "17.6881116817101"
      ],
      "text/latex": [
       "17.6881116817101"
      ],
      "text/markdown": [
       "17.6881116817101"
      ],
      "text/plain": [
       "[1] 17.68811"
      ]
     },
     "metadata": {},
     "output_type": "display_data"
    }
   ],
   "source": [
    "mse_test = mean((testData$sales - y_test_predict)^2)\n",
    "\n",
    "mse_test"
   ]
  },
  {
   "cell_type": "code",
   "execution_count": 15,
   "id": "61de40a5-0368-41c5-b3cc-6011d9892412",
   "metadata": {},
   "outputs": [
    {
     "data": {
      "text/html": [
       "14.5369667737422"
      ],
      "text/latex": [
       "14.5369667737422"
      ],
      "text/markdown": [
       "14.5369667737422"
      ],
      "text/plain": [
       "[1] 14.53697"
      ]
     },
     "metadata": {},
     "output_type": "display_data"
    }
   ],
   "source": [
    "mse_train = mean((trainingData$sales - predict(lmMod, trainingData))^2)\n",
    "\n",
    "mse_train"
   ]
  },
  {
   "cell_type": "markdown",
   "id": "b0705226-caf6-4eb5-9826-6fd220ff5a5d",
   "metadata": {},
   "source": [
    "> **Nhận xét**\n",
    "> * MSE trên train và trên test chênh lệch ít, model ko hề bị overfitting hay underfitting"
   ]
  },
  {
   "cell_type": "code",
   "execution_count": null,
   "id": "3f5fbe30-4a57-4bec-b267-1b89549c911f",
   "metadata": {},
   "outputs": [],
   "source": []
  },
  {
   "cell_type": "code",
   "execution_count": 16,
   "id": "816167ff-2749-4688-baf8-5af7503eef3a",
   "metadata": {},
   "outputs": [
    {
     "data": {
      "text/html": [
       "<strong>youtube:</strong> 0.0462705381279678"
      ],
      "text/latex": [
       "\\textbf{youtube:} 0.0462705381279678"
      ],
      "text/markdown": [
       "**youtube:** 0.0462705381279678"
      ],
      "text/plain": [
       "   youtube \n",
       "0.04627054 "
      ]
     },
     "metadata": {},
     "output_type": "display_data"
    }
   ],
   "source": [
    "coef = coef(lmMod)['youtube']\n",
    "\n",
    "coef"
   ]
  },
  {
   "cell_type": "code",
   "execution_count": 17,
   "id": "d866fc87-50cb-4075-a595-fccb668cd785",
   "metadata": {},
   "outputs": [
    {
     "data": {
      "text/html": [
       "<strong>(Intercept):</strong> 8.55276319086027"
      ],
      "text/latex": [
       "\\textbf{(Intercept):} 8.55276319086027"
      ],
      "text/markdown": [
       "**(Intercept):** 8.55276319086027"
      ],
      "text/plain": [
       "(Intercept) \n",
       "   8.552763 "
      ]
     },
     "metadata": {},
     "output_type": "display_data"
    }
   ],
   "source": [
    "intercept = coef(lmMod)['(Intercept)']\n",
    "\n",
    "intercept"
   ]
  },
  {
   "cell_type": "code",
   "execution_count": null,
   "id": "a8ef53d7-639b-4ec0-bf2d-3ad3b8e303d7",
   "metadata": {},
   "outputs": [],
   "source": []
  },
  {
   "cell_type": "code",
   "execution_count": 18,
   "id": "8219908a-4453-4b0d-a3d1-c8c4c8960205",
   "metadata": {},
   "outputs": [
    {
     "data": {
      "text/html": [
       "<style>\n",
       ".list-inline {list-style: none; margin:0; padding: 0}\n",
       ".list-inline>li {display: inline-block}\n",
       ".list-inline>li:not(:last-child)::after {content: \"\\00b7\"; padding: 0 .5ex}\n",
       "</style>\n",
       "<ol class=list-inline><li>13.179817003657</li><li>17.8068708164538</li><li>22.4339246292506</li></ol>\n"
      ],
      "text/latex": [
       "\\begin{enumerate*}\n",
       "\\item 13.179817003657\n",
       "\\item 17.8068708164538\n",
       "\\item 22.4339246292506\n",
       "\\end{enumerate*}\n"
      ],
      "text/markdown": [
       "1. 13.179817003657\n",
       "2. 17.8068708164538\n",
       "3. 22.4339246292506\n",
       "\n",
       "\n"
      ],
      "text/plain": [
       "[1] 13.17982 17.80687 22.43392"
      ]
     },
     "metadata": {},
     "output_type": "display_data"
    }
   ],
   "source": [
    "x = c(100., 200., 300.)\n",
    "y = intercept + coef * x\n",
    "\n",
    "y"
   ]
  },
  {
   "cell_type": "code",
   "execution_count": null,
   "id": "ddbfa1ec-0ec4-4eaa-a4de-b4c3c71fb390",
   "metadata": {},
   "outputs": [],
   "source": []
  },
  {
   "cell_type": "code",
   "execution_count": 19,
   "id": "e7e3d4a8-0d48-4a57-90a8-56d264369915",
   "metadata": {},
   "outputs": [
    {
     "data": {
      "image/png": "[encoded data removed]",
      "text/plain": [
       "Plot with title “Youtube's sales regression”"
      ]
     },
     "metadata": {
      "image/png": {
       "height": 420,
       "width": 420
      }
     },
     "output_type": "display_data"
    }
   ],
   "source": [
    "plot(data$youtube, data$sales, main = \"Youtube's sales regression\",\n",
    "     xlab = 'Youtube', ylab = 'Sales', pch = 19, frame = F, col = 'blue')\n",
    "lines(x, y, col = 'red', type = 'p')\n",
    "abline(lmMod, data, col = 'green')\n",
    "legend('topleft', c('dataset', 'predict'), cex = 0.8, fill = c('blue', 'red'))"
   ]
  },
  {
   "cell_type": "markdown",
   "id": "3f309990-0f29-44e5-885b-0869df979c2b",
   "metadata": {},
   "source": [
    "# Yêu cầu 2"
   ]
  },
  {
   "cell_type": "code",
   "execution_count": 20,
   "id": "c0352f28-05f0-4f3d-ae70-cb16486ee25f",
   "metadata": {},
   "outputs": [],
   "source": [
    "data1 = read.csv(\"./data/marketing.csv\")"
   ]
  },
  {
   "cell_type": "code",
   "execution_count": null,
   "id": "3233fd90-1112-4300-a929-9daf23d719a6",
   "metadata": {},
   "outputs": [],
   "source": []
  },
  {
   "cell_type": "code",
   "execution_count": 21,
   "id": "46cae7a1-c96e-4737-a023-44292bea1433",
   "metadata": {},
   "outputs": [
    {
     "data": {
      "text/html": [
       "<table class=\"dataframe\">\n",
       "<caption>A data.frame: 6 × 4</caption>\n",
       "<thead>\n",
       "\t<tr><th></th><th scope=col>youtube</th><th scope=col>facebook</th><th scope=col>newspaper</th><th scope=col>sales</th></tr>\n",
       "\t<tr><th></th><th scope=col>&lt;dbl&gt;</th><th scope=col>&lt;dbl&gt;</th><th scope=col>&lt;dbl&gt;</th><th scope=col>&lt;dbl&gt;</th></tr>\n",
       "</thead>\n",
       "<tbody>\n",
       "\t<tr><th scope=row>1</th><td>276.12</td><td>45.36</td><td>83.04</td><td>26.52</td></tr>\n",
       "\t<tr><th scope=row>2</th><td> 53.40</td><td>47.16</td><td>54.12</td><td>12.48</td></tr>\n",
       "\t<tr><th scope=row>3</th><td> 20.64</td><td>55.08</td><td>83.16</td><td>11.16</td></tr>\n",
       "\t<tr><th scope=row>4</th><td>181.80</td><td>49.56</td><td>70.20</td><td>22.20</td></tr>\n",
       "\t<tr><th scope=row>5</th><td>216.96</td><td>12.96</td><td>70.08</td><td>15.48</td></tr>\n",
       "\t<tr><th scope=row>6</th><td> 10.44</td><td>58.68</td><td>90.00</td><td> 8.64</td></tr>\n",
       "</tbody>\n",
       "</table>\n"
      ],
      "text/latex": [
       "A data.frame: 6 × 4\n",
       "\\begin{tabular}{r|llll}\n",
       "  & youtube & facebook & newspaper & sales\\\\\n",
       "  & <dbl> & <dbl> & <dbl> & <dbl>\\\\\n",
       "\\hline\n",
       "\t1 & 276.12 & 45.36 & 83.04 & 26.52\\\\\n",
       "\t2 &  53.40 & 47.16 & 54.12 & 12.48\\\\\n",
       "\t3 &  20.64 & 55.08 & 83.16 & 11.16\\\\\n",
       "\t4 & 181.80 & 49.56 & 70.20 & 22.20\\\\\n",
       "\t5 & 216.96 & 12.96 & 70.08 & 15.48\\\\\n",
       "\t6 &  10.44 & 58.68 & 90.00 &  8.64\\\\\n",
       "\\end{tabular}\n"
      ],
      "text/markdown": [
       "\n",
       "A data.frame: 6 × 4\n",
       "\n",
       "| <!--/--> | youtube &lt;dbl&gt; | facebook &lt;dbl&gt; | newspaper &lt;dbl&gt; | sales &lt;dbl&gt; |\n",
       "|---|---|---|---|---|\n",
       "| 1 | 276.12 | 45.36 | 83.04 | 26.52 |\n",
       "| 2 |  53.40 | 47.16 | 54.12 | 12.48 |\n",
       "| 3 |  20.64 | 55.08 | 83.16 | 11.16 |\n",
       "| 4 | 181.80 | 49.56 | 70.20 | 22.20 |\n",
       "| 5 | 216.96 | 12.96 | 70.08 | 15.48 |\n",
       "| 6 |  10.44 | 58.68 | 90.00 |  8.64 |\n",
       "\n"
      ],
      "text/plain": [
       "  youtube facebook newspaper sales\n",
       "1 276.12  45.36    83.04     26.52\n",
       "2  53.40  47.16    54.12     12.48\n",
       "3  20.64  55.08    83.16     11.16\n",
       "4 181.80  49.56    70.20     22.20\n",
       "5 216.96  12.96    70.08     15.48\n",
       "6  10.44  58.68    90.00      8.64"
      ]
     },
     "metadata": {},
     "output_type": "display_data"
    }
   ],
   "source": [
    "head(data1)"
   ]
  },
  {
   "cell_type": "code",
   "execution_count": 22,
   "id": "4ea6d730-b4c9-4353-96f8-b0c414af5127",
   "metadata": {},
   "outputs": [
    {
     "name": "stdout",
     "output_type": "stream",
     "text": [
      "'data.frame':\t200 obs. of  4 variables:\n",
      " $ youtube  : num  276.1 53.4 20.6 181.8 217 ...\n",
      " $ facebook : num  45.4 47.2 55.1 49.6 13 ...\n",
      " $ newspaper: num  83 54.1 83.2 70.2 70.1 ...\n",
      " $ sales    : num  26.5 12.5 11.2 22.2 15.5 ...\n"
     ]
    }
   ],
   "source": [
    "str(data1)"
   ]
  },
  {
   "cell_type": "code",
   "execution_count": 23,
   "id": "6d94144a-d91e-438a-b790-c85dae969649",
   "metadata": {},
   "outputs": [
    {
     "data": {
      "text/html": [
       "<style>\n",
       ".list-inline {list-style: none; margin:0; padding: 0}\n",
       ".list-inline>li {display: inline-block}\n",
       ".list-inline>li:not(:last-child)::after {content: \"\\00b7\"; padding: 0 .5ex}\n",
       "</style>\n",
       "<ol class=list-inline><li>200</li><li>4</li></ol>\n"
      ],
      "text/latex": [
       "\\begin{enumerate*}\n",
       "\\item 200\n",
       "\\item 4\n",
       "\\end{enumerate*}\n"
      ],
      "text/markdown": [
       "1. 200\n",
       "2. 4\n",
       "\n",
       "\n"
      ],
      "text/plain": [
       "[1] 200   4"
      ]
     },
     "metadata": {},
     "output_type": "display_data"
    }
   ],
   "source": [
    "dim(data1)"
   ]
  },
  {
   "cell_type": "code",
   "execution_count": 24,
   "id": "79ccadbc-86a7-41a1-a8ef-2a05cecd7ce0",
   "metadata": {},
   "outputs": [
    {
     "data": {
      "text/plain": [
       "    youtube          facebook       newspaper          sales      \n",
       " Min.   :  0.84   Min.   : 0.00   Min.   :  0.36   Min.   : 1.92  \n",
       " 1st Qu.: 89.25   1st Qu.:11.97   1st Qu.: 15.30   1st Qu.:12.45  \n",
       " Median :179.70   Median :27.48   Median : 30.90   Median :15.48  \n",
       " Mean   :176.45   Mean   :27.92   Mean   : 36.66   Mean   :16.83  \n",
       " 3rd Qu.:262.59   3rd Qu.:43.83   3rd Qu.: 54.12   3rd Qu.:20.88  \n",
       " Max.   :355.68   Max.   :59.52   Max.   :136.80   Max.   :32.40  "
      ]
     },
     "metadata": {},
     "output_type": "display_data"
    }
   ],
   "source": [
    "summary(data1)"
   ]
  },
  {
   "cell_type": "code",
   "execution_count": null,
   "id": "93cc3ebd-b7a7-4078-af66-fe5dd7363ccb",
   "metadata": {},
   "outputs": [],
   "source": []
  },
  {
   "cell_type": "code",
   "execution_count": 25,
   "id": "f98ad889-abb5-47c8-8fa3-74c2aa4c3104",
   "metadata": {},
   "outputs": [
    {
     "data": {
      "image/png": "[encoded data removed]",
      "text/plain": [
       "Plot with title “Newspaper”"
      ]
     },
     "metadata": {
      "image/png": {
       "height": 420,
       "width": 420
      }
     },
     "output_type": "display_data"
    }
   ],
   "source": [
    "par(mfrow = c(1, 4))\n",
    "boxplot(data1$sales, main = 'Sales',\n",
    "        sub = paste('Outlier rows: ', boxplot.stats(data1$sales)$out))\n",
    "boxplot(data1$youtube, main = 'Youtube',\n",
    "        sub = paste('Outlier rows: ', boxplot.stats(data1$youtube)$out))\n",
    "boxplot(data1$facebook, main = 'Facebook',\n",
    "        sub = paste('Outlier rows: ', boxplot.stats(data1$facebook)$out))\n",
    "boxplot(data1$newspaper, main = 'Newspaper',\n",
    "        sub = paste('Outlier rows: ', boxplot.stats(data1$newspaper)$out))"
   ]
  },
  {
   "cell_type": "markdown",
   "id": "1c02a22b-afc2-415c-be34-1adb294cbb50",
   "metadata": {},
   "source": [
    "> **Nhận xét**\n",
    "> * Cần loại bỏ outlier của `newspaper`"
   ]
  },
  {
   "cell_type": "code",
   "execution_count": 26,
   "id": "6eaa3652-0369-4bd0-a6f0-6e73af0be9d8",
   "metadata": {},
   "outputs": [],
   "source": [
    "newspaper_outliers = boxplot.stats(data1$newspaper)$out\n",
    "data1 = data1[!(data1$newspaper %in% newspaper_outliers),]"
   ]
  },
  {
   "cell_type": "code",
   "execution_count": 27,
   "id": "127bacc8-cab2-42df-b6a5-0f47932eb676",
   "metadata": {},
   "outputs": [
    {
     "data": {
      "text/html": [
       "<table class=\"dataframe\">\n",
       "<caption>A data.frame: 6 × 4</caption>\n",
       "<thead>\n",
       "\t<tr><th></th><th scope=col>youtube</th><th scope=col>facebook</th><th scope=col>newspaper</th><th scope=col>sales</th></tr>\n",
       "\t<tr><th></th><th scope=col>&lt;dbl&gt;</th><th scope=col>&lt;dbl&gt;</th><th scope=col>&lt;dbl&gt;</th><th scope=col>&lt;dbl&gt;</th></tr>\n",
       "</thead>\n",
       "<tbody>\n",
       "\t<tr><th scope=row>1</th><td>276.12</td><td>45.36</td><td>83.04</td><td>26.52</td></tr>\n",
       "\t<tr><th scope=row>2</th><td> 53.40</td><td>47.16</td><td>54.12</td><td>12.48</td></tr>\n",
       "\t<tr><th scope=row>3</th><td> 20.64</td><td>55.08</td><td>83.16</td><td>11.16</td></tr>\n",
       "\t<tr><th scope=row>4</th><td>181.80</td><td>49.56</td><td>70.20</td><td>22.20</td></tr>\n",
       "\t<tr><th scope=row>5</th><td>216.96</td><td>12.96</td><td>70.08</td><td>15.48</td></tr>\n",
       "\t<tr><th scope=row>6</th><td> 10.44</td><td>58.68</td><td>90.00</td><td> 8.64</td></tr>\n",
       "</tbody>\n",
       "</table>\n"
      ],
      "text/latex": [
       "A data.frame: 6 × 4\n",
       "\\begin{tabular}{r|llll}\n",
       "  & youtube & facebook & newspaper & sales\\\\\n",
       "  & <dbl> & <dbl> & <dbl> & <dbl>\\\\\n",
       "\\hline\n",
       "\t1 & 276.12 & 45.36 & 83.04 & 26.52\\\\\n",
       "\t2 &  53.40 & 47.16 & 54.12 & 12.48\\\\\n",
       "\t3 &  20.64 & 55.08 & 83.16 & 11.16\\\\\n",
       "\t4 & 181.80 & 49.56 & 70.20 & 22.20\\\\\n",
       "\t5 & 216.96 & 12.96 & 70.08 & 15.48\\\\\n",
       "\t6 &  10.44 & 58.68 & 90.00 &  8.64\\\\\n",
       "\\end{tabular}\n"
      ],
      "text/markdown": [
       "\n",
       "A data.frame: 6 × 4\n",
       "\n",
       "| <!--/--> | youtube &lt;dbl&gt; | facebook &lt;dbl&gt; | newspaper &lt;dbl&gt; | sales &lt;dbl&gt; |\n",
       "|---|---|---|---|---|\n",
       "| 1 | 276.12 | 45.36 | 83.04 | 26.52 |\n",
       "| 2 |  53.40 | 47.16 | 54.12 | 12.48 |\n",
       "| 3 |  20.64 | 55.08 | 83.16 | 11.16 |\n",
       "| 4 | 181.80 | 49.56 | 70.20 | 22.20 |\n",
       "| 5 | 216.96 | 12.96 | 70.08 | 15.48 |\n",
       "| 6 |  10.44 | 58.68 | 90.00 |  8.64 |\n",
       "\n"
      ],
      "text/plain": [
       "  youtube facebook newspaper sales\n",
       "1 276.12  45.36    83.04     26.52\n",
       "2  53.40  47.16    54.12     12.48\n",
       "3  20.64  55.08    83.16     11.16\n",
       "4 181.80  49.56    70.20     22.20\n",
       "5 216.96  12.96    70.08     15.48\n",
       "6  10.44  58.68    90.00      8.64"
      ]
     },
     "metadata": {},
     "output_type": "display_data"
    }
   ],
   "source": [
    "head(data1)"
   ]
  },
  {
   "cell_type": "code",
   "execution_count": null,
   "id": "c9e81f34-c130-4d8a-8b05-bd9e93fb0ec9",
   "metadata": {},
   "outputs": [],
   "source": []
  },
  {
   "cell_type": "code",
   "execution_count": 28,
   "id": "12f6f94b-58dc-44de-95b6-4d1df4287e2c",
   "metadata": {},
   "outputs": [],
   "source": [
    "set.seed(42)\n",
    "\n",
    "trainingRowIndex1 = sample(1:nrow(data1), 0.7*nrow(data1))\n",
    "trainingData1 = data1[trainingRowIndex1,]\n",
    "testData1 = data1[-trainingRowIndex1,]"
   ]
  },
  {
   "cell_type": "code",
   "execution_count": null,
   "id": "c9a48b59-ba5b-45e8-8b70-606f8647ac35",
   "metadata": {},
   "outputs": [],
   "source": []
  },
  {
   "cell_type": "code",
   "execution_count": 29,
   "id": "b2fd5743-2e1c-410e-869d-df9d740e5725",
   "metadata": {},
   "outputs": [],
   "source": [
    "lmMod1 = lm(sales ~ youtube + facebook + newspaper, data = trainingData1)"
   ]
  },
  {
   "cell_type": "code",
   "execution_count": null,
   "id": "2c5da3be-6bb8-4a59-9fff-1dfdc308efe8",
   "metadata": {},
   "outputs": [],
   "source": []
  },
  {
   "cell_type": "code",
   "execution_count": 30,
   "id": "2697dd2b-b77e-4634-a448-d0081f554f81",
   "metadata": {},
   "outputs": [
    {
     "data": {
      "text/plain": [
       "\n",
       "Call:\n",
       "lm(formula = sales ~ youtube + facebook + newspaper, data = trainingData1)\n",
       "\n",
       "Residuals:\n",
       "    Min      1Q  Median      3Q     Max \n",
       "-6.7341 -1.0925  0.2395  1.4153  3.1875 \n",
       "\n",
       "Coefficients:\n",
       "             Estimate Std. Error t value Pr(>|t|)    \n",
       "(Intercept)  3.971115   0.449788   8.829  5.1e-15 ***\n",
       "youtube      0.043598   0.001636  26.653  < 2e-16 ***\n",
       "facebook     0.191722   0.009544  20.089  < 2e-16 ***\n",
       "newspaper   -0.003361   0.007215  -0.466    0.642    \n",
       "---\n",
       "Signif. codes:  0 ‘***’ 0.001 ‘**’ 0.01 ‘*’ 0.05 ‘.’ 0.1 ‘ ’ 1\n",
       "\n",
       "Residual standard error: 1.93 on 134 degrees of freedom\n",
       "Multiple R-squared:  0.899,\tAdjusted R-squared:  0.8967 \n",
       "F-statistic: 397.4 on 3 and 134 DF,  p-value: < 2.2e-16\n"
      ]
     },
     "metadata": {},
     "output_type": "display_data"
    }
   ],
   "source": [
    "summary(lmMod1)"
   ]
  },
  {
   "cell_type": "code",
   "execution_count": null,
   "id": "b5c29f53-a4a5-487c-a772-638b190b5636",
   "metadata": {},
   "outputs": [],
   "source": []
  },
  {
   "cell_type": "code",
   "execution_count": 31,
   "id": "6bd9a05b-c2cb-415c-8d78-9628c8d61808",
   "metadata": {},
   "outputs": [],
   "source": [
    "y_test_predict1 = predict(lmMod1, testData1)"
   ]
  },
  {
   "cell_type": "code",
   "execution_count": 32,
   "id": "f7ee1cf2-86d4-4ae9-97f0-f267f038abe5",
   "metadata": {},
   "outputs": [
    {
     "data": {
      "text/html": [
       "<style>\n",
       ".dl-inline {width: auto; margin:0; padding: 0}\n",
       ".dl-inline>dt, .dl-inline>dd {float: none; width: auto; display: inline-block}\n",
       ".dl-inline>dt::after {content: \":\\0020\"; padding-right: .5ex}\n",
       ".dl-inline>dt:not(:first-of-type) {padding-left: .5ex}\n",
       "</style><dl class=dl-inline><dt>7</dt><dd>14.4307577712939</dd><dt>8</dt><dd>14.7221498267279</dd><dt>10</dt><dd>14.9367323435502</dd><dt>11</dt><dd>8.66605645086712</dd><dt>18</dt><dd>27.578728519509</dd><dt>20</dt><dd>17.0989804430538</dd><dt>23</dt><dd>8.11971614391122</dd><dt>24</dt><dd>19.6975582577566</dd><dt>29</dt><dd>23.1300492247493</dd><dt>31</dt><dd>25.631437621051</dd><dt>40</dt><dd>24.4438609192234</dd><dt>45</dt><dd>11.0223532988622</dd><dt>46</dt><dd>18.1812893239949</dd><dt>47</dt><dd>10.7976312153846</dd><dt>49</dt><dd>19.2913491763648</dd><dt>51</dt><dd>14.9977209106012</dd><dt>52</dt><dd>11.4178693047513</dd><dt>53</dt><dd>24.7265981514261</dd><dt>57</dt><dd>10.6509332263311</dd><dt>60</dt><dd>21.7437813621507</dd><dt>62</dt><dd>27.2447994528639</dd><dt>67</dt><dd>11.2698733622258</dd><dt>68</dt><dd>14.5537111487509</dd><dt>71</dt><dd>21.2714010325967</dd><dt>76</dt><dd>14.5486261873315</dd><dt>78</dt><dd>16.7749535274934</dd><dt>85</dt><dd>24.897358137477</dd><dt>91</dt><dd>12.0871140649712</dd><dt>94</dt><dd>25.2033033749244</dd><dt>95</dt><dd>12.7669404482718</dd><dt>109</dt><dd>4.64524513160172</dd><dt>119</dt><dd>18.7174058141407</dd><dt>122</dt><dd>9.74385277824326</dd><dt>123</dt><dd>16.1793776046549</dd><dt>125</dt><dd>23.1097745919152</dd><dt>126</dt><dd>11.1434909211554</dd><dt>127</dt><dd>13.1247082316811</dd><dt>131</dt><dd>13.0832949336625</dd><dt>137</dt><dd>14.2455295678161</dd><dt>142</dt><dd>21.9443847734576</dd><dt>146</dt><dd>11.7120258238746</dd><dt>147</dt><dd>18.1768387787264</dd><dt>149</dt><dd>15.1828616247895</dd><dt>154</dt><dd>21.9146283817985</dd><dt>157</dt><dd>18.6879174253221</dd><dt>161</dt><dd>17.0361974330285</dd><dt>162</dt><dd>16.4922427273659</dd><dt>165</dt><dd>13.4628769622509</dd><dt>174</dt><dd>14.3631564860223</dd><dt>178</dt><dd>14.5280303370951</dd><dt>179</dt><dd>18.8808107913348</dd><dt>182</dt><dd>16.5342425951191</dd><dt>184</dt><dd>28.6207903534601</dd><dt>185</dt><dd>22.0286111039409</dd><dt>187</dt><dd>11.6452012625541</dd><dt>190</dt><dd>7.6388757316866</dd><dt>193</dt><dd>5.68679318455663</dd><dt>194</dt><dd>22.3458874288276</dd><dt>197</dt><dd>9.99404001475417</dd><dt>199</dt><dd>28.2040412018295</dd></dl>\n"
      ],
      "text/latex": [
       "\\begin{description*}\n",
       "\\item[7] 14.4307577712939\n",
       "\\item[8] 14.7221498267279\n",
       "\\item[10] 14.9367323435502\n",
       "\\item[11] 8.66605645086712\n",
       "\\item[18] 27.578728519509\n",
       "\\item[20] 17.0989804430538\n",
       "\\item[23] 8.11971614391122\n",
       "\\item[24] 19.6975582577566\n",
       "\\item[29] 23.1300492247493\n",
       "\\item[31] 25.631437621051\n",
       "\\item[40] 24.4438609192234\n",
       "\\item[45] 11.0223532988622\n",
       "\\item[46] 18.1812893239949\n",
       "\\item[47] 10.7976312153846\n",
       "\\item[49] 19.2913491763648\n",
       "\\item[51] 14.9977209106012\n",
       "\\item[52] 11.4178693047513\n",
       "\\item[53] 24.7265981514261\n",
       "\\item[57] 10.6509332263311\n",
       "\\item[60] 21.7437813621507\n",
       "\\item[62] 27.2447994528639\n",
       "\\item[67] 11.2698733622258\n",
       "\\item[68] 14.5537111487509\n",
       "\\item[71] 21.2714010325967\n",
       "\\item[76] 14.5486261873315\n",
       "\\item[78] 16.7749535274934\n",
       "\\item[85] 24.897358137477\n",
       "\\item[91] 12.0871140649712\n",
       "\\item[94] 25.2033033749244\n",
       "\\item[95] 12.7669404482718\n",
       "\\item[109] 4.64524513160172\n",
       "\\item[119] 18.7174058141407\n",
       "\\item[122] 9.74385277824326\n",
       "\\item[123] 16.1793776046549\n",
       "\\item[125] 23.1097745919152\n",
       "\\item[126] 11.1434909211554\n",
       "\\item[127] 13.1247082316811\n",
       "\\item[131] 13.0832949336625\n",
       "\\item[137] 14.2455295678161\n",
       "\\item[142] 21.9443847734576\n",
       "\\item[146] 11.7120258238746\n",
       "\\item[147] 18.1768387787264\n",
       "\\item[149] 15.1828616247895\n",
       "\\item[154] 21.9146283817985\n",
       "\\item[157] 18.6879174253221\n",
       "\\item[161] 17.0361974330285\n",
       "\\item[162] 16.4922427273659\n",
       "\\item[165] 13.4628769622509\n",
       "\\item[174] 14.3631564860223\n",
       "\\item[178] 14.5280303370951\n",
       "\\item[179] 18.8808107913348\n",
       "\\item[182] 16.5342425951191\n",
       "\\item[184] 28.6207903534601\n",
       "\\item[185] 22.0286111039409\n",
       "\\item[187] 11.6452012625541\n",
       "\\item[190] 7.6388757316866\n",
       "\\item[193] 5.68679318455663\n",
       "\\item[194] 22.3458874288276\n",
       "\\item[197] 9.99404001475417\n",
       "\\item[199] 28.2040412018295\n",
       "\\end{description*}\n"
      ],
      "text/markdown": [
       "7\n",
       ":   14.43075777129398\n",
       ":   14.722149826727910\n",
       ":   14.936732343550211\n",
       ":   8.6660564508671218\n",
       ":   27.57872851950920\n",
       ":   17.098980443053823\n",
       ":   8.1197161439112224\n",
       ":   19.697558257756629\n",
       ":   23.130049224749331\n",
       ":   25.63143762105140\n",
       ":   24.443860919223445\n",
       ":   11.022353298862246\n",
       ":   18.181289323994947\n",
       ":   10.797631215384649\n",
       ":   19.291349176364851\n",
       ":   14.997720910601252\n",
       ":   11.417869304751353\n",
       ":   24.726598151426157\n",
       ":   10.650933226331160\n",
       ":   21.743781362150762\n",
       ":   27.244799452863967\n",
       ":   11.269873362225868\n",
       ":   14.553711148750971\n",
       ":   21.271401032596776\n",
       ":   14.548626187331578\n",
       ":   16.774953527493485\n",
       ":   24.89735813747791\n",
       ":   12.087114064971294\n",
       ":   25.203303374924495\n",
       ":   12.7669404482718109\n",
       ":   4.64524513160172119\n",
       ":   18.7174058141407122\n",
       ":   9.74385277824326123\n",
       ":   16.1793776046549125\n",
       ":   23.1097745919152126\n",
       ":   11.1434909211554127\n",
       ":   13.1247082316811131\n",
       ":   13.0832949336625137\n",
       ":   14.2455295678161142\n",
       ":   21.9443847734576146\n",
       ":   11.7120258238746147\n",
       ":   18.1768387787264149\n",
       ":   15.1828616247895154\n",
       ":   21.9146283817985157\n",
       ":   18.6879174253221161\n",
       ":   17.0361974330285162\n",
       ":   16.4922427273659165\n",
       ":   13.4628769622509174\n",
       ":   14.3631564860223178\n",
       ":   14.5280303370951179\n",
       ":   18.8808107913348182\n",
       ":   16.5342425951191184\n",
       ":   28.6207903534601185\n",
       ":   22.0286111039409187\n",
       ":   11.6452012625541190\n",
       ":   7.6388757316866193\n",
       ":   5.68679318455663194\n",
       ":   22.3458874288276197\n",
       ":   9.99404001475417199\n",
       ":   28.2040412018295\n",
       "\n"
      ],
      "text/plain": [
       "        7         8        10        11        18        20        23        24 \n",
       "14.430758 14.722150 14.936732  8.666056 27.578729 17.098980  8.119716 19.697558 \n",
       "       29        31        40        45        46        47        49        51 \n",
       "23.130049 25.631438 24.443861 11.022353 18.181289 10.797631 19.291349 14.997721 \n",
       "       52        53        57        60        62        67        68        71 \n",
       "11.417869 24.726598 10.650933 21.743781 27.244799 11.269873 14.553711 21.271401 \n",
       "       76        78        85        91        94        95       109       119 \n",
       "14.548626 16.774954 24.897358 12.087114 25.203303 12.766940  4.645245 18.717406 \n",
       "      122       123       125       126       127       131       137       142 \n",
       " 9.743853 16.179378 23.109775 11.143491 13.124708 13.083295 14.245530 21.944385 \n",
       "      146       147       149       154       157       161       162       165 \n",
       "11.712026 18.176839 15.182862 21.914628 18.687917 17.036197 16.492243 13.462877 \n",
       "      174       178       179       182       184       185       187       190 \n",
       "14.363156 14.528030 18.880811 16.534243 28.620790 22.028611 11.645201  7.638876 \n",
       "      193       194       197       199 \n",
       " 5.686793 22.345887  9.994040 28.204041 "
      ]
     },
     "metadata": {},
     "output_type": "display_data"
    }
   ],
   "source": [
    "y_test_predict1"
   ]
  },
  {
   "cell_type": "code",
   "execution_count": null,
   "id": "491953f1-66f5-4a1a-b2ff-5668407ebca4",
   "metadata": {},
   "outputs": [],
   "source": []
  },
  {
   "cell_type": "code",
   "execution_count": 33,
   "id": "0e8c2983-34a6-4632-b50d-439b6e817db0",
   "metadata": {},
   "outputs": [
    {
     "data": {
      "text/html": [
       "3.6180636721805"
      ],
      "text/latex": [
       "3.6180636721805"
      ],
      "text/markdown": [
       "3.6180636721805"
      ],
      "text/plain": [
       "[1] 3.618064"
      ]
     },
     "metadata": {},
     "output_type": "display_data"
    }
   ],
   "source": [
    "mse_train1 = mean(lmMod1$residuals^2)\n",
    "\n",
    "mse_train1"
   ]
  },
  {
   "cell_type": "code",
   "execution_count": 34,
   "id": "87678a04-a8e1-41c7-8d2b-d7038848d6b6",
   "metadata": {},
   "outputs": [
    {
     "data": {
      "text/html": [
       "5.21203493060536"
      ],
      "text/latex": [
       "5.21203493060536"
      ],
      "text/markdown": [
       "5.21203493060536"
      ],
      "text/plain": [
       "[1] 5.212035"
      ]
     },
     "metadata": {},
     "output_type": "display_data"
    }
   ],
   "source": [
    "mse_test1 = mean((testData1$sales - y_test_predict1)^2)\n",
    "\n",
    "mse_test1"
   ]
  },
  {
   "cell_type": "code",
   "execution_count": null,
   "id": "dc6cd3f8-276a-4e9f-a092-7c3ee6ab94e6",
   "metadata": {},
   "outputs": [],
   "source": []
  },
  {
   "cell_type": "code",
   "execution_count": 36,
   "id": "9770b9aa-166f-4c3f-8791-da9d486f9083",
   "metadata": {},
   "outputs": [
    {
     "data": {
      "text/html": [
       "<strong>(Intercept):</strong> 3.97111485062799"
      ],
      "text/latex": [
       "\\textbf{(Intercept):} 3.97111485062799"
      ],
      "text/markdown": [
       "**(Intercept):** 3.97111485062799"
      ],
      "text/plain": [
       "(Intercept) \n",
       "   3.971115 "
      ]
     },
     "metadata": {},
     "output_type": "display_data"
    }
   ],
   "source": [
    "intercept1 = coef(lmMod1)[1]\n",
    "\n",
    "intercept1"
   ]
  },
  {
   "cell_type": "code",
   "execution_count": 37,
   "id": "20ec711a-dbd1-4f56-b2fd-0339e712b01d",
   "metadata": {},
   "outputs": [
    {
     "data": {
      "text/html": [
       "<strong>youtube:</strong> 0.0435975454678364"
      ],
      "text/latex": [
       "\\textbf{youtube:} 0.0435975454678364"
      ],
      "text/markdown": [
       "**youtube:** 0.0435975454678364"
      ],
      "text/plain": [
       "   youtube \n",
       "0.04359755 "
      ]
     },
     "metadata": {},
     "output_type": "display_data"
    }
   ],
   "source": [
    "coef_1 = coef(lmMod1)[2]\n",
    "\n",
    "coef_1"
   ]
  },
  {
   "cell_type": "code",
   "execution_count": 38,
   "id": "caf63318-7a6c-4832-899b-9b6dea7fa225",
   "metadata": {},
   "outputs": [
    {
     "data": {
      "text/html": [
       "<strong>facebook:</strong> 0.191722368858002"
      ],
      "text/latex": [
       "\\textbf{facebook:} 0.191722368858002"
      ],
      "text/markdown": [
       "**facebook:** 0.191722368858002"
      ],
      "text/plain": [
       " facebook \n",
       "0.1917224 "
      ]
     },
     "metadata": {},
     "output_type": "display_data"
    }
   ],
   "source": [
    "coef_2 = coef(lmMod1)[3]\n",
    "\n",
    "coef_2"
   ]
  },
  {
   "cell_type": "code",
   "execution_count": 39,
   "id": "962ecdae-b218-4095-8c2e-a796d9b315e1",
   "metadata": {},
   "outputs": [
    {
     "data": {
      "text/html": [
       "<strong>newspaper:</strong> -0.00336099839949565"
      ],
      "text/latex": [
       "\\textbf{newspaper:} -0.00336099839949565"
      ],
      "text/markdown": [
       "**newspaper:** -0.00336099839949565"
      ],
      "text/plain": [
       "   newspaper \n",
       "-0.003360998 "
      ]
     },
     "metadata": {},
     "output_type": "display_data"
    }
   ],
   "source": [
    "coef_3 = coef(lmMod1)[4]\n",
    "\n",
    "coef_3"
   ]
  },
  {
   "cell_type": "code",
   "execution_count": null,
   "id": "29ace308-080b-4d66-9390-61d5a43fd6f5",
   "metadata": {},
   "outputs": [],
   "source": []
  }
 ],
 "metadata": {
  "kernelspec": {
   "display_name": "R",
   "language": "R",
   "name": "ir"
  },
  "language_info": {
   "codemirror_mode": "r",
   "file_extension": ".r",
   "mimetype": "text/x-r-source",
   "name": "R",
   "pygments_lexer": "r",
   "version": "4.1.0"
  }
 },
 "nbformat": 4,
 "nbformat_minor": 5
}
