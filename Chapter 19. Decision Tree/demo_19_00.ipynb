{
 "cells": [
  {
   "cell_type": "code",
   "execution_count": 1,
   "id": "c7020281-35c4-40bb-bcd5-b56b43419047",
   "metadata": {},
   "outputs": [],
   "source": [
    "library(rpart)"
   ]
  },
  {
   "cell_type": "code",
   "execution_count": 2,
   "id": "1acfbda3-f30b-405f-835c-71fbe9e2ab82",
   "metadata": {},
   "outputs": [
    {
     "data": {
      "text/plain": [
       "  Sepal.Length    Sepal.Width     Petal.Length    Petal.Width   \n",
       " Min.   :4.300   Min.   :2.000   Min.   :1.000   Min.   :0.100  \n",
       " 1st Qu.:5.100   1st Qu.:2.800   1st Qu.:1.600   1st Qu.:0.300  \n",
       " Median :5.800   Median :3.000   Median :4.350   Median :1.300  \n",
       " Mean   :5.843   Mean   :3.057   Mean   :3.758   Mean   :1.199  \n",
       " 3rd Qu.:6.400   3rd Qu.:3.300   3rd Qu.:5.100   3rd Qu.:1.800  \n",
       " Max.   :7.900   Max.   :4.400   Max.   :6.900   Max.   :2.500  \n",
       "       Species  \n",
       " setosa    :50  \n",
       " versicolor:50  \n",
       " virginica :50  \n",
       "                \n",
       "                \n",
       "                "
      ]
     },
     "metadata": {},
     "output_type": "display_data"
    }
   ],
   "source": [
    "summary(iris)"
   ]
  },
  {
   "cell_type": "code",
   "execution_count": 3,
   "id": "888a8db8-96da-4821-b7fa-b65dd3d82301",
   "metadata": {},
   "outputs": [
    {
     "data": {
      "text/html": [
       "<table class=\"dataframe\">\n",
       "<caption>A data.frame: 6 × 5</caption>\n",
       "<thead>\n",
       "\t<tr><th></th><th scope=col>Sepal.Length</th><th scope=col>Sepal.Width</th><th scope=col>Petal.Length</th><th scope=col>Petal.Width</th><th scope=col>Species</th></tr>\n",
       "\t<tr><th></th><th scope=col>&lt;dbl&gt;</th><th scope=col>&lt;dbl&gt;</th><th scope=col>&lt;dbl&gt;</th><th scope=col>&lt;dbl&gt;</th><th scope=col>&lt;fct&gt;</th></tr>\n",
       "</thead>\n",
       "<tbody>\n",
       "\t<tr><th scope=row>1</th><td>5.1</td><td>3.5</td><td>1.4</td><td>0.2</td><td>setosa</td></tr>\n",
       "\t<tr><th scope=row>2</th><td>4.9</td><td>3.0</td><td>1.4</td><td>0.2</td><td>setosa</td></tr>\n",
       "\t<tr><th scope=row>3</th><td>4.7</td><td>3.2</td><td>1.3</td><td>0.2</td><td>setosa</td></tr>\n",
       "\t<tr><th scope=row>4</th><td>4.6</td><td>3.1</td><td>1.5</td><td>0.2</td><td>setosa</td></tr>\n",
       "\t<tr><th scope=row>5</th><td>5.0</td><td>3.6</td><td>1.4</td><td>0.2</td><td>setosa</td></tr>\n",
       "\t<tr><th scope=row>6</th><td>5.4</td><td>3.9</td><td>1.7</td><td>0.4</td><td>setosa</td></tr>\n",
       "</tbody>\n",
       "</table>\n"
      ],
      "text/latex": [
       "A data.frame: 6 × 5\n",
       "\\begin{tabular}{r|lllll}\n",
       "  & Sepal.Length & Sepal.Width & Petal.Length & Petal.Width & Species\\\\\n",
       "  & <dbl> & <dbl> & <dbl> & <dbl> & <fct>\\\\\n",
       "\\hline\n",
       "\t1 & 5.1 & 3.5 & 1.4 & 0.2 & setosa\\\\\n",
       "\t2 & 4.9 & 3.0 & 1.4 & 0.2 & setosa\\\\\n",
       "\t3 & 4.7 & 3.2 & 1.3 & 0.2 & setosa\\\\\n",
       "\t4 & 4.6 & 3.1 & 1.5 & 0.2 & setosa\\\\\n",
       "\t5 & 5.0 & 3.6 & 1.4 & 0.2 & setosa\\\\\n",
       "\t6 & 5.4 & 3.9 & 1.7 & 0.4 & setosa\\\\\n",
       "\\end{tabular}\n"
      ],
      "text/markdown": [
       "\n",
       "A data.frame: 6 × 5\n",
       "\n",
       "| <!--/--> | Sepal.Length &lt;dbl&gt; | Sepal.Width &lt;dbl&gt; | Petal.Length &lt;dbl&gt; | Petal.Width &lt;dbl&gt; | Species &lt;fct&gt; |\n",
       "|---|---|---|---|---|---|\n",
       "| 1 | 5.1 | 3.5 | 1.4 | 0.2 | setosa |\n",
       "| 2 | 4.9 | 3.0 | 1.4 | 0.2 | setosa |\n",
       "| 3 | 4.7 | 3.2 | 1.3 | 0.2 | setosa |\n",
       "| 4 | 4.6 | 3.1 | 1.5 | 0.2 | setosa |\n",
       "| 5 | 5.0 | 3.6 | 1.4 | 0.2 | setosa |\n",
       "| 6 | 5.4 | 3.9 | 1.7 | 0.4 | setosa |\n",
       "\n"
      ],
      "text/plain": [
       "  Sepal.Length Sepal.Width Petal.Length Petal.Width Species\n",
       "1 5.1          3.5         1.4          0.2         setosa \n",
       "2 4.9          3.0         1.4          0.2         setosa \n",
       "3 4.7          3.2         1.3          0.2         setosa \n",
       "4 4.6          3.1         1.5          0.2         setosa \n",
       "5 5.0          3.6         1.4          0.2         setosa \n",
       "6 5.4          3.9         1.7          0.4         setosa "
      ]
     },
     "metadata": {},
     "output_type": "display_data"
    }
   ],
   "source": [
    "head(iris)"
   ]
  },
  {
   "cell_type": "markdown",
   "id": "4c7dfa12-0985-459b-a393-adcdfc26f43f",
   "metadata": {},
   "source": [
    "# 1. Tạo training và test data"
   ]
  },
  {
   "cell_type": "code",
   "execution_count": 4,
   "id": "30777353-1363-4692-8e94-6b90c96a02c0",
   "metadata": {},
   "outputs": [],
   "source": [
    "set.seed(42)\n",
    "\n",
    "trainingRowIndex = sample(1:nrow(iris), 0.7*nrow(iris))\n",
    "trainingData = iris[trainingRowIndex,]\n",
    "testData = iris[-trainingRowIndex,]"
   ]
  },
  {
   "cell_type": "markdown",
   "id": "25cd7d0c-7252-4234-9269-ef1f79e1c02a",
   "metadata": {},
   "source": [
    "# 2. Build model\n",
    "## 2.1. Classification"
   ]
  },
  {
   "cell_type": "code",
   "execution_count": 5,
   "id": "bb3288e6-1b68-4f99-b712-dfe0075db4b8",
   "metadata": {},
   "outputs": [
    {
     "data": {
      "text/plain": [
       "n= 105 \n",
       "\n",
       "node), split, n, loss, yval, (yprob)\n",
       "      * denotes terminal node\n",
       "\n",
       "1) root 105 67 setosa (0.36190476 0.33333333 0.30476190)  \n",
       "  2) Petal.Width< 0.8 38  0 setosa (1.00000000 0.00000000 0.00000000) *\n",
       "  3) Petal.Width>=0.8 67 32 versicolor (0.00000000 0.52238806 0.47761194)  \n",
       "    6) Petal.Width< 1.65 37  3 versicolor (0.00000000 0.91891892 0.08108108) *\n",
       "    7) Petal.Width>=1.65 30  1 virginica (0.00000000 0.03333333 0.96666667) *"
      ]
     },
     "metadata": {},
     "output_type": "display_data"
    }
   ],
   "source": [
    "iris.tree = rpart(Species ~ Sepal.Length + Sepal.Width + Sepal.Length + Petal.Width,\n",
    "                  data = trainingData, method = 'class')\n",
    "                    # nếu muốn cây đầy đủ thì thêm attribute cp = -1\n",
    "iris.tree"
   ]
  },
  {
   "cell_type": "markdown",
   "id": "d1012ace-4280-4e48-9091-8f0cfb316fb7",
   "metadata": {},
   "source": [
    "### 2.1.1. Trực quan hóa"
   ]
  },
  {
   "cell_type": "code",
   "execution_count": 6,
   "id": "b7ecd662-9619-407a-ae1f-98acc2855d37",
   "metadata": {},
   "outputs": [],
   "source": [
    "library(rpart.plot)"
   ]
  },
  {
   "cell_type": "code",
   "execution_count": 7,
   "id": "0639bfe8-8ae2-4930-921e-3afc7503e774",
   "metadata": {},
   "outputs": [
    {
     "data": {
      "image/png": "[encoded data removed]",
      "text/plain": [
       "plot without title"
      ]
     },
     "metadata": {
      "image/png": {
       "height": 420,
       "width": 420
      }
     },
     "output_type": "display_data"
    }
   ],
   "source": [
    "prp(iris.tree, type = 2, extra = 'auto', nn = TRUE, branch = 1, varlen = 0, yesno = 2)"
   ]
  },
  {
   "cell_type": "markdown",
   "id": "f5c5e053-689b-432f-b6bb-86ce9017486e",
   "metadata": {},
   "source": [
    "### 2.1.2. Dự đoán kết quả của test data và evaluation"
   ]
  },
  {
   "cell_type": "code",
   "execution_count": 10,
   "id": "4af9fdbc-9af0-4841-96c7-976eed9e8348",
   "metadata": {},
   "outputs": [
    {
     "data": {
      "text/html": [
       "<style>\n",
       ".dl-inline {width: auto; margin:0; padding: 0}\n",
       ".dl-inline>dt, .dl-inline>dd {float: none; width: auto; display: inline-block}\n",
       ".dl-inline>dt::after {content: \":\\0020\"; padding-right: .5ex}\n",
       ".dl-inline>dt:not(:first-of-type) {padding-left: .5ex}\n",
       "</style><dl class=dl-inline><dt>7</dt><dd>setosa</dd><dt>11</dt><dd>setosa</dd><dt>12</dt><dd>setosa</dd><dt>19</dt><dd>setosa</dd><dt>23</dt><dd>setosa</dd><dt>25</dt><dd>setosa</dd><dt>28</dt><dd>setosa</dd><dt>31</dt><dd>setosa</dd><dt>37</dt><dd>setosa</dd><dt>39</dt><dd>setosa</dd><dt>45</dt><dd>setosa</dd><dt>46</dt><dd>setosa</dd><dt>51</dt><dd>versicolor</dd><dt>52</dt><dd>versicolor</dd><dt>56</dt><dd>versicolor</dd><dt>59</dt><dd>versicolor</dd><dt>62</dt><dd>versicolor</dd><dt>63</dt><dd>versicolor</dd><dt>66</dt><dd>versicolor</dd><dt>67</dt><dd>versicolor</dd><dt>70</dt><dd>versicolor</dd><dt>75</dt><dd>versicolor</dd><dt>78</dt><dd>virginica</dd><dt>79</dt><dd>versicolor</dd><dt>82</dt><dd>versicolor</dd><dt>91</dt><dd>versicolor</dd><dt>95</dt><dd>versicolor</dd><dt>101</dt><dd>virginica</dd><dt>102</dt><dd>virginica</dd><dt>106</dt><dd>virginica</dd><dt>108</dt><dd>virginica</dd><dt>112</dt><dd>virginica</dd><dt>113</dt><dd>virginica</dd><dt>116</dt><dd>virginica</dd><dt>117</dt><dd>virginica</dd><dt>119</dt><dd>virginica</dd><dt>125</dt><dd>virginica</dd><dt>127</dt><dd>virginica</dd><dt>133</dt><dd>virginica</dd><dt>134</dt><dd>versicolor</dd><dt>137</dt><dd>virginica</dd><dt>141</dt><dd>virginica</dd><dt>143</dt><dd>virginica</dd><dt>147</dt><dd>virginica</dd><dt>148</dt><dd>virginica</dd></dl>\n",
       "\n",
       "<details>\n",
       "\t<summary style=display:list-item;cursor:pointer>\n",
       "\t\t<strong>Levels</strong>:\n",
       "\t</summary>\n",
       "\t<style>\n",
       "\t.list-inline {list-style: none; margin:0; padding: 0}\n",
       "\t.list-inline>li {display: inline-block}\n",
       "\t.list-inline>li:not(:last-child)::after {content: \"\\00b7\"; padding: 0 .5ex}\n",
       "\t</style>\n",
       "\t<ol class=list-inline><li>'setosa'</li><li>'versicolor'</li><li>'virginica'</li></ol>\n",
       "</details>"
      ],
      "text/latex": [
       "\\begin{description*}\n",
       "\\item[7] setosa\n",
       "\\item[11] setosa\n",
       "\\item[12] setosa\n",
       "\\item[19] setosa\n",
       "\\item[23] setosa\n",
       "\\item[25] setosa\n",
       "\\item[28] setosa\n",
       "\\item[31] setosa\n",
       "\\item[37] setosa\n",
       "\\item[39] setosa\n",
       "\\item[45] setosa\n",
       "\\item[46] setosa\n",
       "\\item[51] versicolor\n",
       "\\item[52] versicolor\n",
       "\\item[56] versicolor\n",
       "\\item[59] versicolor\n",
       "\\item[62] versicolor\n",
       "\\item[63] versicolor\n",
       "\\item[66] versicolor\n",
       "\\item[67] versicolor\n",
       "\\item[70] versicolor\n",
       "\\item[75] versicolor\n",
       "\\item[78] virginica\n",
       "\\item[79] versicolor\n",
       "\\item[82] versicolor\n",
       "\\item[91] versicolor\n",
       "\\item[95] versicolor\n",
       "\\item[101] virginica\n",
       "\\item[102] virginica\n",
       "\\item[106] virginica\n",
       "\\item[108] virginica\n",
       "\\item[112] virginica\n",
       "\\item[113] virginica\n",
       "\\item[116] virginica\n",
       "\\item[117] virginica\n",
       "\\item[119] virginica\n",
       "\\item[125] virginica\n",
       "\\item[127] virginica\n",
       "\\item[133] virginica\n",
       "\\item[134] versicolor\n",
       "\\item[137] virginica\n",
       "\\item[141] virginica\n",
       "\\item[143] virginica\n",
       "\\item[147] virginica\n",
       "\\item[148] virginica\n",
       "\\end{description*}\n",
       "\n",
       "\\emph{Levels}: \\begin{enumerate*}\n",
       "\\item 'setosa'\n",
       "\\item 'versicolor'\n",
       "\\item 'virginica'\n",
       "\\end{enumerate*}\n"
      ],
      "text/markdown": [
       "7\n",
       ":   setosa11\n",
       ":   setosa12\n",
       ":   setosa19\n",
       ":   setosa23\n",
       ":   setosa25\n",
       ":   setosa28\n",
       ":   setosa31\n",
       ":   setosa37\n",
       ":   setosa39\n",
       ":   setosa45\n",
       ":   setosa46\n",
       ":   setosa51\n",
       ":   versicolor52\n",
       ":   versicolor56\n",
       ":   versicolor59\n",
       ":   versicolor62\n",
       ":   versicolor63\n",
       ":   versicolor66\n",
       ":   versicolor67\n",
       ":   versicolor70\n",
       ":   versicolor75\n",
       ":   versicolor78\n",
       ":   virginica79\n",
       ":   versicolor82\n",
       ":   versicolor91\n",
       ":   versicolor95\n",
       ":   versicolor101\n",
       ":   virginica102\n",
       ":   virginica106\n",
       ":   virginica108\n",
       ":   virginica112\n",
       ":   virginica113\n",
       ":   virginica116\n",
       ":   virginica117\n",
       ":   virginica119\n",
       ":   virginica125\n",
       ":   virginica127\n",
       ":   virginica133\n",
       ":   virginica134\n",
       ":   versicolor137\n",
       ":   virginica141\n",
       ":   virginica143\n",
       ":   virginica147\n",
       ":   virginica148\n",
       ":   virginica\n",
       "\n",
       "\n",
       "**Levels**: 1. 'setosa'\n",
       "2. 'versicolor'\n",
       "3. 'virginica'\n",
       "\n",
       "\n"
      ],
      "text/plain": [
       "         7         11         12         19         23         25         28 \n",
       "    setosa     setosa     setosa     setosa     setosa     setosa     setosa \n",
       "        31         37         39         45         46         51         52 \n",
       "    setosa     setosa     setosa     setosa     setosa versicolor versicolor \n",
       "        56         59         62         63         66         67         70 \n",
       "versicolor versicolor versicolor versicolor versicolor versicolor versicolor \n",
       "        75         78         79         82         91         95        101 \n",
       "versicolor  virginica versicolor versicolor versicolor versicolor  virginica \n",
       "       102        106        108        112        113        116        117 \n",
       " virginica  virginica  virginica  virginica  virginica  virginica  virginica \n",
       "       119        125        127        133        134        137        141 \n",
       " virginica  virginica  virginica  virginica versicolor  virginica  virginica \n",
       "       143        147        148 \n",
       " virginica  virginica  virginica \n",
       "Levels: setosa versicolor virginica"
      ]
     },
     "metadata": {},
     "output_type": "display_data"
    }
   ],
   "source": [
    "y_pred = predict(iris.tree, testData, type = 'class')\n",
    "\n",
    "y_pred"
   ]
  },
  {
   "cell_type": "code",
   "execution_count": 9,
   "id": "55e42ee1-6f6c-4666-b4e6-ba001d085d70",
   "metadata": {},
   "outputs": [
    {
     "data": {
      "text/plain": [
       "            \n",
       "y_pred       setosa versicolor virginica\n",
       "  setosa         12          0         0\n",
       "  versicolor      0         14         1\n",
       "  virginica       0          1        17"
      ]
     },
     "metadata": {},
     "output_type": "display_data"
    }
   ],
   "source": [
    "accuracy = table(y_pred, testData$Species)\n",
    "accuracy"
   ]
  },
  {
   "cell_type": "code",
   "execution_count": 11,
   "id": "02e64ab7-d131-4c0c-9591-0c3650319c0c",
   "metadata": {},
   "outputs": [
    {
     "data": {
      "text/html": [
       "0.955555555555556"
      ],
      "text/latex": [
       "0.955555555555556"
      ],
      "text/markdown": [
       "0.955555555555556"
      ],
      "text/plain": [
       "[1] 0.9555556"
      ]
     },
     "metadata": {},
     "output_type": "display_data"
    }
   ],
   "source": [
    "accuracy = sum(diag(accuracy))/sum(accuracy)\n",
    "\n",
    "accuracy"
   ]
  },
  {
   "cell_type": "code",
   "execution_count": null,
   "id": "49ceb529-6813-4a39-b8a0-f109b893b2b1",
   "metadata": {},
   "outputs": [],
   "source": []
  },
  {
   "cell_type": "code",
   "execution_count": 12,
   "id": "f3d379e2-d182-4710-9022-6b08c6ae4c10",
   "metadata": {},
   "outputs": [
    {
     "data": {
      "text/html": [
       "<table class=\"dataframe\">\n",
       "<caption>A data.frame: 4 × 4</caption>\n",
       "<thead>\n",
       "\t<tr><th></th><th scope=col>Sepal.Length</th><th scope=col>Sepal.Width</th><th scope=col>Petal.Length</th><th scope=col>Petal.Width</th></tr>\n",
       "\t<tr><th></th><th scope=col>&lt;dbl&gt;</th><th scope=col>&lt;dbl&gt;</th><th scope=col>&lt;dbl&gt;</th><th scope=col>&lt;dbl&gt;</th></tr>\n",
       "</thead>\n",
       "<tbody>\n",
       "\t<tr><th scope=row>1</th><td>5.1</td><td>3.5</td><td>1.4</td><td>0.2</td></tr>\n",
       "\t<tr><th scope=row>10</th><td>4.9</td><td>3.1</td><td>1.5</td><td>0.1</td></tr>\n",
       "\t<tr><th scope=row>100</th><td>5.7</td><td>2.8</td><td>4.1</td><td>1.3</td></tr>\n",
       "\t<tr><th scope=row>140</th><td>6.9</td><td>3.1</td><td>5.4</td><td>2.1</td></tr>\n",
       "</tbody>\n",
       "</table>\n"
      ],
      "text/latex": [
       "A data.frame: 4 × 4\n",
       "\\begin{tabular}{r|llll}\n",
       "  & Sepal.Length & Sepal.Width & Petal.Length & Petal.Width\\\\\n",
       "  & <dbl> & <dbl> & <dbl> & <dbl>\\\\\n",
       "\\hline\n",
       "\t1 & 5.1 & 3.5 & 1.4 & 0.2\\\\\n",
       "\t10 & 4.9 & 3.1 & 1.5 & 0.1\\\\\n",
       "\t100 & 5.7 & 2.8 & 4.1 & 1.3\\\\\n",
       "\t140 & 6.9 & 3.1 & 5.4 & 2.1\\\\\n",
       "\\end{tabular}\n"
      ],
      "text/markdown": [
       "\n",
       "A data.frame: 4 × 4\n",
       "\n",
       "| <!--/--> | Sepal.Length &lt;dbl&gt; | Sepal.Width &lt;dbl&gt; | Petal.Length &lt;dbl&gt; | Petal.Width &lt;dbl&gt; |\n",
       "|---|---|---|---|---|\n",
       "| 1 | 5.1 | 3.5 | 1.4 | 0.2 |\n",
       "| 10 | 4.9 | 3.1 | 1.5 | 0.1 |\n",
       "| 100 | 5.7 | 2.8 | 4.1 | 1.3 |\n",
       "| 140 | 6.9 | 3.1 | 5.4 | 2.1 |\n",
       "\n"
      ],
      "text/plain": [
       "    Sepal.Length Sepal.Width Petal.Length Petal.Width\n",
       "1   5.1          3.5         1.4          0.2        \n",
       "10  4.9          3.1         1.5          0.1        \n",
       "100 5.7          2.8         4.1          1.3        \n",
       "140 6.9          3.1         5.4          2.1        "
      ]
     },
     "metadata": {},
     "output_type": "display_data"
    }
   ],
   "source": [
    "new_cases = iris[c(1, 10, 100, 140),]\n",
    "new_cases$Species = NULL\n",
    "\n",
    "new_cases"
   ]
  },
  {
   "cell_type": "code",
   "execution_count": 13,
   "id": "37c83d43-d0ed-4257-924f-2e0f4ab7e692",
   "metadata": {},
   "outputs": [
    {
     "data": {
      "text/html": [
       "<style>\n",
       ".dl-inline {width: auto; margin:0; padding: 0}\n",
       ".dl-inline>dt, .dl-inline>dd {float: none; width: auto; display: inline-block}\n",
       ".dl-inline>dt::after {content: \":\\0020\"; padding-right: .5ex}\n",
       ".dl-inline>dt:not(:first-of-type) {padding-left: .5ex}\n",
       "</style><dl class=dl-inline><dt>1</dt><dd>setosa</dd><dt>10</dt><dd>setosa</dd><dt>100</dt><dd>versicolor</dd><dt>140</dt><dd>virginica</dd></dl>\n",
       "\n",
       "<details>\n",
       "\t<summary style=display:list-item;cursor:pointer>\n",
       "\t\t<strong>Levels</strong>:\n",
       "\t</summary>\n",
       "\t<style>\n",
       "\t.list-inline {list-style: none; margin:0; padding: 0}\n",
       "\t.list-inline>li {display: inline-block}\n",
       "\t.list-inline>li:not(:last-child)::after {content: \"\\00b7\"; padding: 0 .5ex}\n",
       "\t</style>\n",
       "\t<ol class=list-inline><li>'setosa'</li><li>'versicolor'</li><li>'virginica'</li></ol>\n",
       "</details>"
      ],
      "text/latex": [
       "\\begin{description*}\n",
       "\\item[1] setosa\n",
       "\\item[10] setosa\n",
       "\\item[100] versicolor\n",
       "\\item[140] virginica\n",
       "\\end{description*}\n",
       "\n",
       "\\emph{Levels}: \\begin{enumerate*}\n",
       "\\item 'setosa'\n",
       "\\item 'versicolor'\n",
       "\\item 'virginica'\n",
       "\\end{enumerate*}\n"
      ],
      "text/markdown": [
       "1\n",
       ":   setosa10\n",
       ":   setosa100\n",
       ":   versicolor140\n",
       ":   virginica\n",
       "\n",
       "\n",
       "**Levels**: 1. 'setosa'\n",
       "2. 'versicolor'\n",
       "3. 'virginica'\n",
       "\n",
       "\n"
      ],
      "text/plain": [
       "         1         10        100        140 \n",
       "    setosa     setosa versicolor  virginica \n",
       "Levels: setosa versicolor virginica"
      ]
     },
     "metadata": {},
     "output_type": "display_data"
    }
   ],
   "source": [
    "pred_new = predict(iris.tree, new_cases, type = 'class')\n",
    "\n",
    "pred_new"
   ]
  },
  {
   "cell_type": "markdown",
   "id": "89516455-8ac0-4a66-ad91-66c29b6154bc",
   "metadata": {},
   "source": [
    "## 2.2. Regression"
   ]
  },
  {
   "cell_type": "code",
   "execution_count": 15,
   "id": "c95c333c-e9eb-4936-b5ad-cef8971c57a4",
   "metadata": {},
   "outputs": [
    {
     "data": {
      "text/plain": [
       "n= 105 \n",
       "\n",
       "node), split, n, deviance, yval\n",
       "      * denotes terminal node\n",
       "\n",
       " 1) root 105 329.5819000 3.619048  \n",
       "   2) Petal.Width< 0.8 38   0.7147368 1.447368 *\n",
       "   3) Petal.Width>=0.8 67  48.0074600 4.850746  \n",
       "     6) Petal.Width< 1.55 33  10.2024200 4.215152  \n",
       "      12) Petal.Width< 1.35 20   3.3400000 3.900000 *\n",
       "      13) Petal.Width>=1.35 13   1.8200000 4.700000 *\n",
       "     7) Petal.Width>=1.55 34  11.5344100 5.467647 *"
      ]
     },
     "metadata": {},
     "output_type": "display_data"
    }
   ],
   "source": [
    "tree.gre = rpart(Petal.Length ~ Petal.Width, data = trainingData)\n",
    "\n",
    "tree.gre"
   ]
  },
  {
   "cell_type": "markdown",
   "id": "61f859f2-95bc-4719-85ae-7d033e61fc09",
   "metadata": {},
   "source": [
    "### 2.2.1. Trực quan hóa"
   ]
  },
  {
   "cell_type": "code",
   "execution_count": 17,
   "id": "180044f9-1da6-4eb4-844f-b21896709e48",
   "metadata": {},
   "outputs": [
    {
     "data": {
      "image/png": "[encoded data removed]",
      "text/plain": [
       "plot without title"
      ]
     },
     "metadata": {
      "image/png": {
       "height": 420,
       "width": 420
      }
     },
     "output_type": "display_data"
    }
   ],
   "source": [
    "prp(tree.gre, type = 2, extra = 'auto', nn = TRUE, branch = 1, varlen = 0, yesno = 2)"
   ]
  },
  {
   "cell_type": "code",
   "execution_count": null,
   "id": "602ff285-8cf8-4fbd-84c9-895a9e988f32",
   "metadata": {},
   "outputs": [],
   "source": []
  },
  {
   "cell_type": "code",
   "execution_count": 18,
   "id": "64d5fd3c-77ac-4902-a07c-3b4bdfa9a407",
   "metadata": {},
   "outputs": [
    {
     "name": "stderr",
     "output_type": "stream",
     "text": [
      "Installing package into ‘/home/manhcuong/R/x86_64-pc-linux-gnu-library/4.1’\n",
      "(as ‘lib’ is unspecified)\n",
      "\n",
      "also installing the dependency ‘bitops’\n",
      "\n",
      "\n",
      "Installing package into ‘/home/manhcuong/R/x86_64-pc-linux-gnu-library/4.1’\n",
      "(as ‘lib’ is unspecified)\n",
      "\n"
     ]
    }
   ],
   "source": [
    "install.packages('rattle')\n",
    "install.packages('RColorBrewer')"
   ]
  },
  {
   "cell_type": "code",
   "execution_count": 19,
   "id": "3ba67986-ffd8-435f-a829-58ad15b5af69",
   "metadata": {},
   "outputs": [
    {
     "name": "stderr",
     "output_type": "stream",
     "text": [
      "Loading required package: tibble\n",
      "\n",
      "Loading required package: bitops\n",
      "\n",
      "Rattle: A free graphical interface for data science with R.\n",
      "Version 5.4.0 Copyright (c) 2006-2020 Togaware Pty Ltd.\n",
      "Type 'rattle()' to shake, rattle, and roll your data.\n",
      "\n"
     ]
    }
   ],
   "source": [
    "library(rattle)\n",
    "library(RColorBrewer)"
   ]
  },
  {
   "cell_type": "code",
   "execution_count": 20,
   "id": "01ed157d-5ca6-45bd-8d78-84dc86d6e395",
   "metadata": {},
   "outputs": [
    {
     "data": {
      "image/png": "[encoded data removed]",
      "text/plain": [
       "Plot with title “”"
      ]
     },
     "metadata": {
      "image/png": {
       "height": 420,
       "width": 420
      }
     },
     "output_type": "display_data"
    }
   ],
   "source": [
    "fancyRpartPlot(tree.gre, caption = NULL)"
   ]
  },
  {
   "cell_type": "markdown",
   "id": "eeb8d1f8-cf9a-4927-94c1-0236f7da24d6",
   "metadata": {},
   "source": [
    "### 2.2.2. Dự đoán kết quả cho test data"
   ]
  },
  {
   "cell_type": "code",
   "execution_count": 21,
   "id": "a99de935-c375-4cb3-b7f5-649059bd09ce",
   "metadata": {},
   "outputs": [],
   "source": [
    "newdf = data.frame(testData['Petal.Width'])"
   ]
  },
  {
   "cell_type": "code",
   "execution_count": 22,
   "id": "459a4a17-5f4f-4308-a38e-f9953998d51d",
   "metadata": {},
   "outputs": [],
   "source": [
    "predictions = predict(tree.gre, newdf)"
   ]
  },
  {
   "cell_type": "code",
   "execution_count": 24,
   "id": "2eb8305f-9ad9-49dd-9f41-6ce5c88c82a5",
   "metadata": {},
   "outputs": [
    {
     "data": {
      "text/html": [
       "<style>\n",
       ".dl-inline {width: auto; margin:0; padding: 0}\n",
       ".dl-inline>dt, .dl-inline>dd {float: none; width: auto; display: inline-block}\n",
       ".dl-inline>dt::after {content: \":\\0020\"; padding-right: .5ex}\n",
       ".dl-inline>dt:not(:first-of-type) {padding-left: .5ex}\n",
       "</style><dl class=dl-inline><dt>7</dt><dd>1.44736842105263</dd><dt>11</dt><dd>1.44736842105263</dd><dt>12</dt><dd>1.44736842105263</dd><dt>19</dt><dd>1.44736842105263</dd><dt>23</dt><dd>1.44736842105263</dd><dt>25</dt><dd>1.44736842105263</dd></dl>\n"
      ],
      "text/latex": [
       "\\begin{description*}\n",
       "\\item[7] 1.44736842105263\n",
       "\\item[11] 1.44736842105263\n",
       "\\item[12] 1.44736842105263\n",
       "\\item[19] 1.44736842105263\n",
       "\\item[23] 1.44736842105263\n",
       "\\item[25] 1.44736842105263\n",
       "\\end{description*}\n"
      ],
      "text/markdown": [
       "7\n",
       ":   1.4473684210526311\n",
       ":   1.4473684210526312\n",
       ":   1.4473684210526319\n",
       ":   1.4473684210526323\n",
       ":   1.4473684210526325\n",
       ":   1.44736842105263\n",
       "\n"
      ],
      "text/plain": [
       "       7       11       12       19       23       25 \n",
       "1.447368 1.447368 1.447368 1.447368 1.447368 1.447368 "
      ]
     },
     "metadata": {},
     "output_type": "display_data"
    }
   ],
   "source": [
    "head(predictions)"
   ]
  },
  {
   "cell_type": "markdown",
   "id": "432fbbdf-0542-4766-9710-4ba84742d567",
   "metadata": {},
   "source": [
    "### 2.2.3. Evaluation"
   ]
  },
  {
   "cell_type": "code",
   "execution_count": 25,
   "id": "ce726205-9a7b-49fa-9980-a1a328264600",
   "metadata": {},
   "outputs": [
    {
     "data": {
      "text/html": [
       "0.188750769201277"
      ],
      "text/latex": [
       "0.188750769201277"
      ],
      "text/markdown": [
       "0.188750769201277"
      ],
      "text/plain": [
       "[1] 0.1887508"
      ]
     },
     "metadata": {},
     "output_type": "display_data"
    }
   ],
   "source": [
    "# Evaluation\n",
    "mse = mean((testData$Petal.Length - predictions)^2)\n",
    "mse"
   ]
  },
  {
   "cell_type": "markdown",
   "id": "b2343431-7a60-4e4c-b756-d1199cb433bd",
   "metadata": {},
   "source": [
    "### 2.2.4. Dự đoán kết quả mới"
   ]
  },
  {
   "cell_type": "code",
   "execution_count": 26,
   "id": "b7434eed-71ff-4127-af15-0c87cbb912c7",
   "metadata": {},
   "outputs": [
    {
     "data": {
      "text/html": [
       "<style>\n",
       ".dl-inline {width: auto; margin:0; padding: 0}\n",
       ".dl-inline>dt, .dl-inline>dd {float: none; width: auto; display: inline-block}\n",
       ".dl-inline>dt::after {content: \":\\0020\"; padding-right: .5ex}\n",
       ".dl-inline>dt:not(:first-of-type) {padding-left: .5ex}\n",
       "</style><dl class=dl-inline><dt>1</dt><dd>1.44736842105263</dd><dt>2</dt><dd>3.9</dd><dt>3</dt><dd>5.46764705882353</dd></dl>\n"
      ],
      "text/latex": [
       "\\begin{description*}\n",
       "\\item[1] 1.44736842105263\n",
       "\\item[2] 3.9\n",
       "\\item[3] 5.46764705882353\n",
       "\\end{description*}\n"
      ],
      "text/markdown": [
       "1\n",
       ":   1.447368421052632\n",
       ":   3.93\n",
       ":   5.46764705882353\n",
       "\n"
      ],
      "text/plain": [
       "       1        2        3 \n",
       "1.447368 3.900000 5.467647 "
      ]
     },
     "metadata": {},
     "output_type": "display_data"
    }
   ],
   "source": [
    "now = data.frame(Petal.Width = c(.25, 1.15, 2.25))\n",
    "predict_new = predict(tree.gre, now)\n",
    "\n",
    "predict_new"
   ]
  },
  {
   "cell_type": "code",
   "execution_count": null,
   "id": "806e4052-4a6e-41db-a1ad-1fc0956df801",
   "metadata": {},
   "outputs": [],
   "source": []
  }
 ],
 "metadata": {
  "kernelspec": {
   "display_name": "R",
   "language": "R",
   "name": "ir"
  },
  "language_info": {
   "codemirror_mode": "r",
   "file_extension": ".r",
   "mimetype": "text/x-r-source",
   "name": "R",
   "pygments_lexer": "r",
   "version": "4.1.0"
  }
 },
 "nbformat": 4,
 "nbformat_minor": 5
}
