{
 "cells": [
  {
   "cell_type": "markdown",
   "id": "c2d16d83-5eae-453a-a432-df0f92662a75",
   "metadata": {},
   "source": [
    "![](images/19_02.png)"
   ]
  },
  {
   "cell_type": "code",
   "execution_count": 1,
   "id": "c5c9cca7-6ab3-4425-ab46-bfc6d0ad698e",
   "metadata": {},
   "outputs": [],
   "source": [
    "library(rpart)"
   ]
  },
  {
   "cell_type": "code",
   "execution_count": 2,
   "id": "0de2ab98-1d2c-4f5e-b445-2d427b041af4",
   "metadata": {},
   "outputs": [],
   "source": [
    "data = read.csv(\"./data/baseball.csv\")"
   ]
  },
  {
   "cell_type": "code",
   "execution_count": 3,
   "id": "88e338d9-5c05-414a-8d11-b0cfeab9ec8e",
   "metadata": {},
   "outputs": [
    {
     "data": {
      "text/html": [
       "<table class=\"dataframe\">\n",
       "<caption>A data.frame: 6 × 7</caption>\n",
       "<thead>\n",
       "\t<tr><th></th><th scope=col>Name</th><th scope=col>Team</th><th scope=col>Position</th><th scope=col>Height</th><th scope=col>Weight</th><th scope=col>Age</th><th scope=col>PosCategory</th></tr>\n",
       "\t<tr><th></th><th scope=col>&lt;chr&gt;</th><th scope=col>&lt;chr&gt;</th><th scope=col>&lt;chr&gt;</th><th scope=col>&lt;int&gt;</th><th scope=col>&lt;int&gt;</th><th scope=col>&lt;dbl&gt;</th><th scope=col>&lt;chr&gt;</th></tr>\n",
       "</thead>\n",
       "<tbody>\n",
       "\t<tr><th scope=row>1</th><td>Adam_Donachie  </td><td>BAL</td><td>Catcher       </td><td>74</td><td>180</td><td>22.99</td><td>Catcher  </td></tr>\n",
       "\t<tr><th scope=row>2</th><td>Paul_Bako      </td><td>BAL</td><td>Catcher       </td><td>74</td><td>215</td><td>34.69</td><td>Catcher  </td></tr>\n",
       "\t<tr><th scope=row>3</th><td>Ramon_Hernandez</td><td>BAL</td><td>Catcher       </td><td>72</td><td>210</td><td>30.78</td><td>Catcher  </td></tr>\n",
       "\t<tr><th scope=row>4</th><td>Kevin_Millar   </td><td>BAL</td><td>First_Baseman </td><td>72</td><td>210</td><td>35.43</td><td>Infielder</td></tr>\n",
       "\t<tr><th scope=row>5</th><td>Chris_Gomez    </td><td>BAL</td><td>First_Baseman </td><td>73</td><td>188</td><td>35.71</td><td>Infielder</td></tr>\n",
       "\t<tr><th scope=row>6</th><td>Brian_Roberts  </td><td>BAL</td><td>Second_Baseman</td><td>69</td><td>176</td><td>29.39</td><td>Infielder</td></tr>\n",
       "</tbody>\n",
       "</table>\n"
      ],
      "text/latex": [
       "A data.frame: 6 × 7\n",
       "\\begin{tabular}{r|lllllll}\n",
       "  & Name & Team & Position & Height & Weight & Age & PosCategory\\\\\n",
       "  & <chr> & <chr> & <chr> & <int> & <int> & <dbl> & <chr>\\\\\n",
       "\\hline\n",
       "\t1 & Adam\\_Donachie   & BAL & Catcher        & 74 & 180 & 22.99 & Catcher  \\\\\n",
       "\t2 & Paul\\_Bako       & BAL & Catcher        & 74 & 215 & 34.69 & Catcher  \\\\\n",
       "\t3 & Ramon\\_Hernandez & BAL & Catcher        & 72 & 210 & 30.78 & Catcher  \\\\\n",
       "\t4 & Kevin\\_Millar    & BAL & First\\_Baseman  & 72 & 210 & 35.43 & Infielder\\\\\n",
       "\t5 & Chris\\_Gomez     & BAL & First\\_Baseman  & 73 & 188 & 35.71 & Infielder\\\\\n",
       "\t6 & Brian\\_Roberts   & BAL & Second\\_Baseman & 69 & 176 & 29.39 & Infielder\\\\\n",
       "\\end{tabular}\n"
      ],
      "text/markdown": [
       "\n",
       "A data.frame: 6 × 7\n",
       "\n",
       "| <!--/--> | Name &lt;chr&gt; | Team &lt;chr&gt; | Position &lt;chr&gt; | Height &lt;int&gt; | Weight &lt;int&gt; | Age &lt;dbl&gt; | PosCategory &lt;chr&gt; |\n",
       "|---|---|---|---|---|---|---|---|\n",
       "| 1 | Adam_Donachie   | BAL | Catcher        | 74 | 180 | 22.99 | Catcher   |\n",
       "| 2 | Paul_Bako       | BAL | Catcher        | 74 | 215 | 34.69 | Catcher   |\n",
       "| 3 | Ramon_Hernandez | BAL | Catcher        | 72 | 210 | 30.78 | Catcher   |\n",
       "| 4 | Kevin_Millar    | BAL | First_Baseman  | 72 | 210 | 35.43 | Infielder |\n",
       "| 5 | Chris_Gomez     | BAL | First_Baseman  | 73 | 188 | 35.71 | Infielder |\n",
       "| 6 | Brian_Roberts   | BAL | Second_Baseman | 69 | 176 | 29.39 | Infielder |\n",
       "\n"
      ],
      "text/plain": [
       "  Name            Team Position       Height Weight Age   PosCategory\n",
       "1 Adam_Donachie   BAL  Catcher        74     180    22.99 Catcher    \n",
       "2 Paul_Bako       BAL  Catcher        74     215    34.69 Catcher    \n",
       "3 Ramon_Hernandez BAL  Catcher        72     210    30.78 Catcher    \n",
       "4 Kevin_Millar    BAL  First_Baseman  72     210    35.43 Infielder  \n",
       "5 Chris_Gomez     BAL  First_Baseman  73     188    35.71 Infielder  \n",
       "6 Brian_Roberts   BAL  Second_Baseman 69     176    29.39 Infielder  "
      ]
     },
     "metadata": {},
     "output_type": "display_data"
    }
   ],
   "source": [
    "head(data)"
   ]
  },
  {
   "cell_type": "code",
   "execution_count": null,
   "id": "f8972e8d-c5f6-4fb3-bb95-0f7fb5000326",
   "metadata": {},
   "outputs": [],
   "source": []
  },
  {
   "cell_type": "code",
   "execution_count": 4,
   "id": "c454835a-4621-4cb8-aef9-9396135a0d94",
   "metadata": {},
   "outputs": [
    {
     "data": {
      "text/html": [
       "<table class=\"dataframe\">\n",
       "<caption>A data.frame: 6 × 2</caption>\n",
       "<thead>\n",
       "\t<tr><th></th><th scope=col>Height</th><th scope=col>Weight</th></tr>\n",
       "\t<tr><th></th><th scope=col>&lt;int&gt;</th><th scope=col>&lt;int&gt;</th></tr>\n",
       "</thead>\n",
       "<tbody>\n",
       "\t<tr><th scope=row>1</th><td>74</td><td>180</td></tr>\n",
       "\t<tr><th scope=row>2</th><td>74</td><td>215</td></tr>\n",
       "\t<tr><th scope=row>3</th><td>72</td><td>210</td></tr>\n",
       "\t<tr><th scope=row>4</th><td>72</td><td>210</td></tr>\n",
       "\t<tr><th scope=row>5</th><td>73</td><td>188</td></tr>\n",
       "\t<tr><th scope=row>6</th><td>69</td><td>176</td></tr>\n",
       "</tbody>\n",
       "</table>\n"
      ],
      "text/latex": [
       "A data.frame: 6 × 2\n",
       "\\begin{tabular}{r|ll}\n",
       "  & Height & Weight\\\\\n",
       "  & <int> & <int>\\\\\n",
       "\\hline\n",
       "\t1 & 74 & 180\\\\\n",
       "\t2 & 74 & 215\\\\\n",
       "\t3 & 72 & 210\\\\\n",
       "\t4 & 72 & 210\\\\\n",
       "\t5 & 73 & 188\\\\\n",
       "\t6 & 69 & 176\\\\\n",
       "\\end{tabular}\n"
      ],
      "text/markdown": [
       "\n",
       "A data.frame: 6 × 2\n",
       "\n",
       "| <!--/--> | Height &lt;int&gt; | Weight &lt;int&gt; |\n",
       "|---|---|---|\n",
       "| 1 | 74 | 180 |\n",
       "| 2 | 74 | 215 |\n",
       "| 3 | 72 | 210 |\n",
       "| 4 | 72 | 210 |\n",
       "| 5 | 73 | 188 |\n",
       "| 6 | 69 | 176 |\n",
       "\n"
      ],
      "text/plain": [
       "  Height Weight\n",
       "1 74     180   \n",
       "2 74     215   \n",
       "3 72     210   \n",
       "4 72     210   \n",
       "5 73     188   \n",
       "6 69     176   "
      ]
     },
     "metadata": {},
     "output_type": "display_data"
    }
   ],
   "source": [
    "baseball = data[c(\"Height\", 'Weight')]\n",
    "head(baseball)"
   ]
  },
  {
   "cell_type": "code",
   "execution_count": 5,
   "id": "61edc37d-5dae-4d37-9537-8cd06c406642",
   "metadata": {},
   "outputs": [
    {
     "data": {
      "text/html": [
       "<table class=\"dataframe\">\n",
       "<caption>A data.frame: 6 × 2</caption>\n",
       "<thead>\n",
       "\t<tr><th></th><th scope=col>Height</th><th scope=col>Weight</th></tr>\n",
       "\t<tr><th></th><th scope=col>&lt;dbl&gt;</th><th scope=col>&lt;dbl&gt;</th></tr>\n",
       "</thead>\n",
       "<tbody>\n",
       "\t<tr><th scope=row>1</th><td>1.8796</td><td>81.64656</td></tr>\n",
       "\t<tr><th scope=row>2</th><td>1.8796</td><td>97.52228</td></tr>\n",
       "\t<tr><th scope=row>3</th><td>1.8288</td><td>95.25432</td></tr>\n",
       "\t<tr><th scope=row>4</th><td>1.8288</td><td>95.25432</td></tr>\n",
       "\t<tr><th scope=row>5</th><td>1.8542</td><td>85.27530</td></tr>\n",
       "\t<tr><th scope=row>6</th><td>1.7526</td><td>79.83219</td></tr>\n",
       "</tbody>\n",
       "</table>\n"
      ],
      "text/latex": [
       "A data.frame: 6 × 2\n",
       "\\begin{tabular}{r|ll}\n",
       "  & Height & Weight\\\\\n",
       "  & <dbl> & <dbl>\\\\\n",
       "\\hline\n",
       "\t1 & 1.8796 & 81.64656\\\\\n",
       "\t2 & 1.8796 & 97.52228\\\\\n",
       "\t3 & 1.8288 & 95.25432\\\\\n",
       "\t4 & 1.8288 & 95.25432\\\\\n",
       "\t5 & 1.8542 & 85.27530\\\\\n",
       "\t6 & 1.7526 & 79.83219\\\\\n",
       "\\end{tabular}\n"
      ],
      "text/markdown": [
       "\n",
       "A data.frame: 6 × 2\n",
       "\n",
       "| <!--/--> | Height &lt;dbl&gt; | Weight &lt;dbl&gt; |\n",
       "|---|---|---|\n",
       "| 1 | 1.8796 | 81.64656 |\n",
       "| 2 | 1.8796 | 97.52228 |\n",
       "| 3 | 1.8288 | 95.25432 |\n",
       "| 4 | 1.8288 | 95.25432 |\n",
       "| 5 | 1.8542 | 85.27530 |\n",
       "| 6 | 1.7526 | 79.83219 |\n",
       "\n"
      ],
      "text/plain": [
       "  Height Weight  \n",
       "1 1.8796 81.64656\n",
       "2 1.8796 97.52228\n",
       "3 1.8288 95.25432\n",
       "4 1.8288 95.25432\n",
       "5 1.8542 85.27530\n",
       "6 1.7526 79.83219"
      ]
     },
     "metadata": {},
     "output_type": "display_data"
    }
   ],
   "source": [
    "baseball['Height'] = baseball['Height'] * 0.0254\n",
    "baseball['Weight'] = baseball['Weight'] * 0.453592\n",
    "\n",
    "head(baseball)"
   ]
  },
  {
   "cell_type": "code",
   "execution_count": 6,
   "id": "04396f6e-c063-4ea4-bf41-8a38bd0d020a",
   "metadata": {},
   "outputs": [
    {
     "data": {
      "image/png": "[encoded data removed]",
      "text/plain": [
       "Plot with title “Height vs Weight”"
      ]
     },
     "metadata": {
      "image/png": {
       "height": 420,
       "width": 420
      }
     },
     "output_type": "display_data"
    }
   ],
   "source": [
    "scatter.smooth(x = baseball$Height,\n",
    "               y = baseball$Weight,\n",
    "               main = \"Height vs Weight\")"
   ]
  },
  {
   "cell_type": "code",
   "execution_count": null,
   "id": "302eaab0-a9c6-4955-b886-fdbe208aad48",
   "metadata": {},
   "outputs": [],
   "source": []
  },
  {
   "cell_type": "code",
   "execution_count": 7,
   "id": "8ce4e75a-ebda-4a06-854a-278e25d5e203",
   "metadata": {},
   "outputs": [
    {
     "data": {
      "image/png": "[encoded data removed]",
      "text/plain": [
       "Plot with title “Weight”"
      ]
     },
     "metadata": {
      "image/png": {
       "height": 420,
       "width": 420
      }
     },
     "output_type": "display_data"
    }
   ],
   "source": [
    "par(mfrow = c(1, 2))\n",
    "boxplot(baseball$Height, main = 'Height', \n",
    "        sub = paste(\"Outlier rows: \", boxplot.stats(baseball$Height)$out))\n",
    "boxplot(baseball$Weight, main = 'Weight', \n",
    "        sub = paste(\"Outlier rows: \", boxplot.stats(baseball$Weight)$out))"
   ]
  },
  {
   "cell_type": "code",
   "execution_count": null,
   "id": "da367a17-840d-42f3-ae48-9aeb4ec6a0fe",
   "metadata": {},
   "outputs": [],
   "source": []
  },
  {
   "cell_type": "code",
   "execution_count": 8,
   "id": "a09eb6fd-5982-463f-8a2c-e848cfbcf9f0",
   "metadata": {},
   "outputs": [
    {
     "data": {
      "text/html": [
       "0.531539322614609"
      ],
      "text/latex": [
       "0.531539322614609"
      ],
      "text/markdown": [
       "0.531539322614609"
      ],
      "text/plain": [
       "[1] 0.5315393"
      ]
     },
     "metadata": {},
     "output_type": "display_data"
    }
   ],
   "source": [
    "cor(baseball$Height, baseball$Weight)"
   ]
  },
  {
   "cell_type": "code",
   "execution_count": null,
   "id": "2081e5f0-358f-47fa-8edd-e4d4f82e3902",
   "metadata": {},
   "outputs": [],
   "source": []
  },
  {
   "cell_type": "code",
   "execution_count": 10,
   "id": "cfba5fdf-c4b4-46bf-ace2-c75cb3081265",
   "metadata": {},
   "outputs": [],
   "source": [
    "wt_outliers = boxplot.stats(baseball$Weight)$out\n",
    "ht_outliers = boxplot.stats(baseball$Height)$out\n",
    "\n",
    "baseball = baseball[!(baseball$Weight %in% wt_outliers) & \n",
    "                    !(baseball$Height %in% ht_outliers),]"
   ]
  },
  {
   "cell_type": "code",
   "execution_count": null,
   "id": "38b2eb6f-98b8-4c81-b14c-ec20f0088a23",
   "metadata": {},
   "outputs": [],
   "source": []
  },
  {
   "cell_type": "code",
   "execution_count": 11,
   "id": "212d8e20-af58-44b1-90f7-88c352236885",
   "metadata": {},
   "outputs": [],
   "source": [
    "set.seed(42)\n",
    "trainingRowIndex = sample(1:nrow(baseball), 0.7*nrow(baseball))\n",
    "trainingData = baseball[trainingRowIndex,]\n",
    "testData = baseball[-trainingRowIndex,]"
   ]
  },
  {
   "cell_type": "code",
   "execution_count": 12,
   "id": "c37b1150-f2b8-4c1a-b4fc-89ea47e00039",
   "metadata": {},
   "outputs": [
    {
     "name": "stdout",
     "output_type": "stream",
     "text": [
      "Call:\n",
      "rpart(formula = Weight ~ Height, data = trainingData, method = \"anova\")\n",
      "  n= 698 \n",
      "\n",
      "          CP nsplit rel error    xerror       xstd\n",
      "1 0.15717992      0 1.0000000 1.0032151 0.04888121\n",
      "2 0.02896649      1 0.8428201 0.8747585 0.04657139\n",
      "3 0.02483727      2 0.8138536 0.8720701 0.04630771\n",
      "4 0.01126342      3 0.7890163 0.8338157 0.04438520\n",
      "5 0.01000000      4 0.7777529 0.8290693 0.04417677\n",
      "\n",
      "Variable importance\n",
      "Height \n",
      "   100 \n",
      "\n",
      "Node number 1: 698 observations,    complexity param=0.1571799\n",
      "  mean=90.84057, MSE=80.12391 \n",
      "  left son=2 (340 obs) right son=3 (358 obs)\n",
      "  Primary splits:\n",
      "      Height < 1.8669 to the left,  improve=0.1571799, (0 missing)\n",
      "\n",
      "Node number 2: 340 observations,    complexity param=0.02483727\n",
      "  mean=87.19906, MSE=62.91233 \n",
      "  left son=4 (223 obs) right son=5 (117 obs)\n",
      "  Primary splits:\n",
      "      Height < 1.8415 to the left,  improve=0.06493916, (0 missing)\n",
      "\n",
      "Node number 3: 358 observations,    complexity param=0.02896649\n",
      "  mean=94.29899, MSE=71.91557 \n",
      "  left son=6 (226 obs) right son=7 (132 obs)\n",
      "  Primary splits:\n",
      "      Height < 1.9177 to the left,  improve=0.06292272, (0 missing)\n",
      "\n",
      "Node number 4: 223 observations,    complexity param=0.01126342\n",
      "  mean=85.73499, MSE=58.39945 \n",
      "  left son=8 (53 obs) right son=9 (170 obs)\n",
      "  Primary splits:\n",
      "      Height < 1.7907 to the left,  improve=0.04836978, (0 missing)\n",
      "\n",
      "Node number 5: 117 observations\n",
      "  mean=89.98955, MSE=59.64148 \n",
      "\n",
      "Node number 6: 226 observations\n",
      "  mean=92.67326, MSE=64.91579 \n",
      "\n",
      "Node number 7: 132 observations\n",
      "  mean=97.08243, MSE=71.62737 \n",
      "\n",
      "Node number 8: 53 observations\n",
      "  mean=82.72491, MSE=46.68662 \n",
      "\n",
      "Node number 9: 170 observations\n",
      "  mean=86.67343, MSE=58.34567 \n",
      "\n"
     ]
    }
   ],
   "source": [
    "baseball.tree = rpart(Weight ~ Height, data = trainingData, \n",
    "                      method = 'anova')\n",
    "\n",
    "summary(baseball.tree)"
   ]
  },
  {
   "cell_type": "code",
   "execution_count": 13,
   "id": "ff79b269-ae79-4850-933c-5a207199fd93",
   "metadata": {},
   "outputs": [
    {
     "data": {
      "image/png": "[encoded data removed]",
      "text/plain": [
       "plot without title"
      ]
     },
     "metadata": {
      "image/png": {
       "height": 420,
       "width": 420
      }
     },
     "output_type": "display_data"
    }
   ],
   "source": [
    "library(rpart.plot)\n",
    "prp(baseball.tree, type = 2, extra = 'auto', \n",
    "    nn = TRUE, branch = 1, varlen = 0, yesno = 2)"
   ]
  },
  {
   "cell_type": "code",
   "execution_count": null,
   "id": "52fe0928-49b3-4a32-a17a-5a58e3588a2e",
   "metadata": {},
   "outputs": [],
   "source": []
  },
  {
   "cell_type": "code",
   "execution_count": 14,
   "id": "444b97e5-73d6-4e7d-8a1d-3861accaceb4",
   "metadata": {},
   "outputs": [],
   "source": [
    "pred_new = predict(baseball.tree, testData, type = 'vector')"
   ]
  },
  {
   "cell_type": "code",
   "execution_count": 15,
   "id": "85ae57af-40b4-42fd-a151-6a2c89f2d489",
   "metadata": {},
   "outputs": [
    {
     "data": {
      "text/html": [
       "57.8497168055646"
      ],
      "text/latex": [
       "57.8497168055646"
      ],
      "text/markdown": [
       "57.8497168055646"
      ],
      "text/plain": [
       "[1] 57.84972"
      ]
     },
     "metadata": {},
     "output_type": "display_data"
    }
   ],
   "source": [
    "mse_value = mean((testData$Weight - pred_new)^2)\n",
    "\n",
    "mse_value"
   ]
  },
  {
   "cell_type": "code",
   "execution_count": null,
   "id": "9988c72e-2754-4ffa-a512-7d3fa34c8f73",
   "metadata": {},
   "outputs": [],
   "source": []
  },
  {
   "cell_type": "code",
   "execution_count": 16,
   "id": "25eafb5a-ebaf-4541-a9b9-006be59a8abe",
   "metadata": {},
   "outputs": [
    {
     "data": {
      "text/html": [
       "<style>\n",
       ".dl-inline {width: auto; margin:0; padding: 0}\n",
       ".dl-inline>dt, .dl-inline>dd {float: none; width: auto; display: inline-block}\n",
       ".dl-inline>dt::after {content: \":\\0020\"; padding-right: .5ex}\n",
       ".dl-inline>dt:not(:first-of-type) {padding-left: .5ex}\n",
       "</style><dl class=dl-inline><dt>1</dt><dd>82.7249107924528</dd><dt>2</dt><dd>86.6734266352941</dd><dt>3</dt><dd>97.0824332121213</dd></dl>\n"
      ],
      "text/latex": [
       "\\begin{description*}\n",
       "\\item[1] 82.7249107924528\n",
       "\\item[2] 86.6734266352941\n",
       "\\item[3] 97.0824332121213\n",
       "\\end{description*}\n"
      ],
      "text/markdown": [
       "1\n",
       ":   82.72491079245282\n",
       ":   86.67342663529413\n",
       ":   97.0824332121213\n",
       "\n"
      ],
      "text/plain": [
       "       1        2        3 \n",
       "82.72491 86.67343 97.08243 "
      ]
     },
     "metadata": {},
     "output_type": "display_data"
    }
   ],
   "source": [
    "x = c(1.775, 1.825, 1.925)\n",
    "y1 = predict(baseball.tree, data.frame(Height = x), type = 'vector')\n",
    "\n",
    "y1"
   ]
  },
  {
   "cell_type": "code",
   "execution_count": null,
   "id": "bf037232-780e-4fd7-8f37-79c935ef5f2b",
   "metadata": {},
   "outputs": [],
   "source": []
  }
 ],
 "metadata": {
  "kernelspec": {
   "display_name": "R",
   "language": "R",
   "name": "ir"
  },
  "language_info": {
   "codemirror_mode": "r",
   "file_extension": ".r",
   "mimetype": "text/x-r-source",
   "name": "R",
   "pygments_lexer": "r",
   "version": "4.1.0"
  }
 },
 "nbformat": 4,
 "nbformat_minor": 5
}
