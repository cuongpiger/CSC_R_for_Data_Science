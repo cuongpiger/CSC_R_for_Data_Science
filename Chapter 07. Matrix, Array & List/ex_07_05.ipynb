{
 "cells": [
  {
   "cell_type": "markdown",
   "id": "25cd838a-84ed-4e07-854b-57a1a85bb975",
   "metadata": {},
   "source": [
    "![](images/07_04.png)"
   ]
  },
  {
   "cell_type": "code",
   "execution_count": 3,
   "id": "6f9eaea0-bbf4-4907-9f6d-f7512ce50541",
   "metadata": {},
   "outputs": [
    {
     "data": {
      "text/html": [
       "50"
      ],
      "text/latex": [
       "50"
      ],
      "text/markdown": [
       "50"
      ],
      "text/plain": [
       "[1] 50"
      ]
     },
     "metadata": {},
     "output_type": "display_data"
    }
   ],
   "source": [
    "v = c()\n",
    "\n",
    "while (length(v) < 50) {\n",
    "    x = floor(runif(1, min=5, max=50))\n",
    "    \n",
    "    if (x %% 2 == 0) {\n",
    "        v = c(v, x)\n",
    "    }\n",
    "}\n",
    "\n",
    "length(v)"
   ]
  },
  {
   "cell_type": "code",
   "execution_count": 4,
   "id": "ead0e9cf-0196-4e5b-9a65-dde0e274ae73",
   "metadata": {},
   "outputs": [
    {
     "name": "stdout",
     "output_type": "stream",
     "text": [
      ", , 1\n",
      "\n",
      "     [,1] [,2] [,3] [,4] [,5]\n",
      "[1,]   24   18   10   42   38\n",
      "[2,]   32    8   24    8   16\n",
      "[3,]   42   42   40   40   34\n",
      "[4,]   10    8   28   36   26\n",
      "[5,]   18   40   44   36   26\n",
      "\n",
      ", , 2\n",
      "\n",
      "     [,1] [,2] [,3] [,4] [,5]\n",
      "[1,]   40   20    8   42   20\n",
      "[2,]   48   12   28   42   32\n",
      "[3,]   16   10   18   22   18\n",
      "[4,]   26   12   48   38   42\n",
      "[5,]   16   16   42   44   16\n",
      "\n"
     ]
    }
   ],
   "source": [
    "A4 = array(v, dim = c(5, 5, 2))\n",
    "\n",
    "print(A4)"
   ]
  },
  {
   "cell_type": "code",
   "execution_count": 16,
   "id": "e462a294-1dcd-4ece-a065-f9b9e2b707b6",
   "metadata": {},
   "outputs": [
    {
     "data": {
      "text/html": [
       "<style>\n",
       ".list-inline {list-style: none; margin:0; padding: 0}\n",
       ".list-inline>li {display: inline-block}\n",
       ".list-inline>li:not(:last-child)::after {content: \"\\00b7\"; padding: 0 .5ex}\n",
       "</style>\n",
       "<ol class=list-inline><li>1</li><li>2</li><li>3</li><li>4</li><li>5</li><li>6</li><li>7</li><li>8</li><li>9</li><li>10</li><li>11</li><li>12</li><li>13</li><li>14</li><li>15</li><li>16</li><li>17</li><li>18</li><li>19</li><li>20</li><li>21</li><li>22</li><li>23</li><li>24</li><li>25</li><li>26</li><li>27</li><li>28</li><li>29</li><li>30</li><li>31</li><li>32</li><li>33</li><li>34</li><li>35</li><li>36</li><li>37</li><li>38</li><li>39</li><li>40</li><li>41</li><li>42</li><li>43</li><li>44</li><li>45</li><li>46</li><li>47</li><li>48</li><li>49</li><li>50</li></ol>\n"
      ],
      "text/latex": [
       "\\begin{enumerate*}\n",
       "\\item 1\n",
       "\\item 2\n",
       "\\item 3\n",
       "\\item 4\n",
       "\\item 5\n",
       "\\item 6\n",
       "\\item 7\n",
       "\\item 8\n",
       "\\item 9\n",
       "\\item 10\n",
       "\\item 11\n",
       "\\item 12\n",
       "\\item 13\n",
       "\\item 14\n",
       "\\item 15\n",
       "\\item 16\n",
       "\\item 17\n",
       "\\item 18\n",
       "\\item 19\n",
       "\\item 20\n",
       "\\item 21\n",
       "\\item 22\n",
       "\\item 23\n",
       "\\item 24\n",
       "\\item 25\n",
       "\\item 26\n",
       "\\item 27\n",
       "\\item 28\n",
       "\\item 29\n",
       "\\item 30\n",
       "\\item 31\n",
       "\\item 32\n",
       "\\item 33\n",
       "\\item 34\n",
       "\\item 35\n",
       "\\item 36\n",
       "\\item 37\n",
       "\\item 38\n",
       "\\item 39\n",
       "\\item 40\n",
       "\\item 41\n",
       "\\item 42\n",
       "\\item 43\n",
       "\\item 44\n",
       "\\item 45\n",
       "\\item 46\n",
       "\\item 47\n",
       "\\item 48\n",
       "\\item 49\n",
       "\\item 50\n",
       "\\end{enumerate*}\n"
      ],
      "text/markdown": [
       "1. 1\n",
       "2. 2\n",
       "3. 3\n",
       "4. 4\n",
       "5. 5\n",
       "6. 6\n",
       "7. 7\n",
       "8. 8\n",
       "9. 9\n",
       "10. 10\n",
       "11. 11\n",
       "12. 12\n",
       "13. 13\n",
       "14. 14\n",
       "15. 15\n",
       "16. 16\n",
       "17. 17\n",
       "18. 18\n",
       "19. 19\n",
       "20. 20\n",
       "21. 21\n",
       "22. 22\n",
       "23. 23\n",
       "24. 24\n",
       "25. 25\n",
       "26. 26\n",
       "27. 27\n",
       "28. 28\n",
       "29. 29\n",
       "30. 30\n",
       "31. 31\n",
       "32. 32\n",
       "33. 33\n",
       "34. 34\n",
       "35. 35\n",
       "36. 36\n",
       "37. 37\n",
       "38. 38\n",
       "39. 39\n",
       "40. 40\n",
       "41. 41\n",
       "42. 42\n",
       "43. 43\n",
       "44. 44\n",
       "45. 45\n",
       "46. 46\n",
       "47. 47\n",
       "48. 48\n",
       "49. 49\n",
       "50. 50\n",
       "\n",
       "\n"
      ],
      "text/plain": [
       " [1]  1  2  3  4  5  6  7  8  9 10 11 12 13 14 15 16 17 18 19 20 21 22 23 24 25\n",
       "[26] 26 27 28 29 30 31 32 33 34 35 36 37 38 39 40 41 42 43 44 45 46 47 48 49 50"
      ]
     },
     "metadata": {},
     "output_type": "display_data"
    }
   ],
   "source": [
    "which(A4 %% 2 == 0)"
   ]
  },
  {
   "cell_type": "code",
   "execution_count": 17,
   "id": "e815e0bf-12c7-416f-bff2-77576b81d046",
   "metadata": {},
   "outputs": [
    {
     "data": {
      "text/html": [
       "<style>\n",
       ".list-inline {list-style: none; margin:0; padding: 0}\n",
       ".list-inline>li {display: inline-block}\n",
       ".list-inline>li:not(:last-child)::after {content: \"\\00b7\"; padding: 0 .5ex}\n",
       "</style>\n",
       "<ol class=list-inline><li>1</li><li>3</li><li>5</li><li>6</li><li>8</li><li>12</li><li>16</li><li>19</li><li>20</li><li>27</li><li>32</li><li>34</li><li>38</li><li>39</li><li>40</li><li>41</li><li>42</li><li>48</li><li>49</li></ol>\n"
      ],
      "text/latex": [
       "\\begin{enumerate*}\n",
       "\\item 1\n",
       "\\item 3\n",
       "\\item 5\n",
       "\\item 6\n",
       "\\item 8\n",
       "\\item 12\n",
       "\\item 16\n",
       "\\item 19\n",
       "\\item 20\n",
       "\\item 27\n",
       "\\item 32\n",
       "\\item 34\n",
       "\\item 38\n",
       "\\item 39\n",
       "\\item 40\n",
       "\\item 41\n",
       "\\item 42\n",
       "\\item 48\n",
       "\\item 49\n",
       "\\end{enumerate*}\n"
      ],
      "text/markdown": [
       "1. 1\n",
       "2. 3\n",
       "3. 5\n",
       "4. 6\n",
       "5. 8\n",
       "6. 12\n",
       "7. 16\n",
       "8. 19\n",
       "9. 20\n",
       "10. 27\n",
       "11. 32\n",
       "12. 34\n",
       "13. 38\n",
       "14. 39\n",
       "15. 40\n",
       "16. 41\n",
       "17. 42\n",
       "18. 48\n",
       "19. 49\n",
       "\n",
       "\n"
      ],
      "text/plain": [
       " [1]  1  3  5  6  8 12 16 19 20 27 32 34 38 39 40 41 42 48 49"
      ]
     },
     "metadata": {},
     "output_type": "display_data"
    }
   ],
   "source": [
    "which(A4 %% 3 == 0)"
   ]
  },
  {
   "cell_type": "code",
   "execution_count": 18,
   "id": "cc871430-5928-476e-9179-01791fcb77ee",
   "metadata": {},
   "outputs": [
    {
     "data": {
      "text/html": [
       "<style>\n",
       ".list-inline {list-style: none; margin:0; padding: 0}\n",
       ".list-inline>li {display: inline-block}\n",
       ".list-inline>li:not(:last-child)::after {content: \"\\00b7\"; padding: 0 .5ex}\n",
       "</style>\n",
       "<ol class=list-inline><li>1</li><li>3</li><li>5</li><li>6</li><li>8</li><li>12</li><li>16</li><li>19</li><li>20</li><li>27</li><li>32</li><li>34</li><li>38</li><li>39</li><li>40</li><li>41</li><li>42</li><li>48</li><li>49</li></ol>\n"
      ],
      "text/latex": [
       "\\begin{enumerate*}\n",
       "\\item 1\n",
       "\\item 3\n",
       "\\item 5\n",
       "\\item 6\n",
       "\\item 8\n",
       "\\item 12\n",
       "\\item 16\n",
       "\\item 19\n",
       "\\item 20\n",
       "\\item 27\n",
       "\\item 32\n",
       "\\item 34\n",
       "\\item 38\n",
       "\\item 39\n",
       "\\item 40\n",
       "\\item 41\n",
       "\\item 42\n",
       "\\item 48\n",
       "\\item 49\n",
       "\\end{enumerate*}\n"
      ],
      "text/markdown": [
       "1. 1\n",
       "2. 3\n",
       "3. 5\n",
       "4. 6\n",
       "5. 8\n",
       "6. 12\n",
       "7. 16\n",
       "8. 19\n",
       "9. 20\n",
       "10. 27\n",
       "11. 32\n",
       "12. 34\n",
       "13. 38\n",
       "14. 39\n",
       "15. 40\n",
       "16. 41\n",
       "17. 42\n",
       "18. 48\n",
       "19. 49\n",
       "\n",
       "\n"
      ],
      "text/plain": [
       " [1]  1  3  5  6  8 12 16 19 20 27 32 34 38 39 40 41 42 48 49"
      ]
     },
     "metadata": {},
     "output_type": "display_data"
    }
   ],
   "source": [
    "which(A4 %% 6 == 0)"
   ]
  },
  {
   "cell_type": "code",
   "execution_count": 19,
   "id": "79fe3823-99d2-479d-b471-787120d1713d",
   "metadata": {},
   "outputs": [
    {
     "data": {
      "text/html": [
       "1366"
      ],
      "text/latex": [
       "1366"
      ],
      "text/markdown": [
       "1366"
      ],
      "text/plain": [
       "[1] 1366"
      ]
     },
     "metadata": {},
     "output_type": "display_data"
    }
   ],
   "source": [
    "sum(A4[which(A4 %% 2 == 0)])"
   ]
  },
  {
   "cell_type": "code",
   "execution_count": 20,
   "id": "873a380e-527e-49d2-ae1a-39ee44362609",
   "metadata": {},
   "outputs": [
    {
     "data": {
      "text/html": [
       "606"
      ],
      "text/latex": [
       "606"
      ],
      "text/markdown": [
       "606"
      ],
      "text/plain": [
       "[1] 606"
      ]
     },
     "metadata": {},
     "output_type": "display_data"
    }
   ],
   "source": [
    "sum(A4[which(A4 %% 3 == 0)])"
   ]
  },
  {
   "cell_type": "code",
   "execution_count": 21,
   "id": "0a820da4-ff39-456b-84f9-c961d6c87149",
   "metadata": {},
   "outputs": [
    {
     "data": {
      "text/html": [
       "606"
      ],
      "text/latex": [
       "606"
      ],
      "text/markdown": [
       "606"
      ],
      "text/plain": [
       "[1] 606"
      ]
     },
     "metadata": {},
     "output_type": "display_data"
    }
   ],
   "source": [
    "sum(A4[which(A4 %% 6 == 0)])"
   ]
  },
  {
   "cell_type": "code",
   "execution_count": null,
   "id": "4a3dfe37-004f-40be-861c-f3c30325a1ea",
   "metadata": {},
   "outputs": [],
   "source": []
  }
 ],
 "metadata": {
  "kernelspec": {
   "display_name": "R",
   "language": "R",
   "name": "ir"
  },
  "language_info": {
   "codemirror_mode": "r",
   "file_extension": ".r",
   "mimetype": "text/x-r-source",
   "name": "R",
   "pygments_lexer": "r",
   "version": "4.1.0"
  }
 },
 "nbformat": 4,
 "nbformat_minor": 5
}
