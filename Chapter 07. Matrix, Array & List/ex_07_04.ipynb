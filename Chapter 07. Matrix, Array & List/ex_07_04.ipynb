{
 "cells": [
  {
   "cell_type": "markdown",
   "id": "4ab3562b-c208-4e19-991e-36f8e6f53f8a",
   "metadata": {},
   "source": [
    "![](images/07_03.png)"
   ]
  },
  {
   "cell_type": "code",
   "execution_count": 2,
   "id": "9fb57e14-9629-40a6-a3f7-593cb6ea7aba",
   "metadata": {},
   "outputs": [
    {
     "name": "stdout",
     "output_type": "stream",
     "text": [
      ", , matrix1\n",
      "\n",
      "   c1 c2 c3\n",
      "r1  1  2  3\n",
      "r2  4  5  6\n",
      "r3  7  8  9\n",
      "\n",
      ", , matrix2\n",
      "\n",
      "   c1 c2 c3\n",
      "r1 10 11 12\n",
      "r2 13 14 15\n",
      "r3 16 17 18\n",
      "\n"
     ]
    }
   ],
   "source": [
    "matrix_1 = matrix(1:9, nrow=3, byrow=TRUE)\n",
    "matrix_2 = matrix(10:18, nrow=3, byrow=TRUE)\n",
    "\n",
    "A3 = array(c(matrix_1, matrix_2), dim=c(3, 3, 2),\n",
    "          dimnames = list(c('r1', 'r2', 'r3'),\n",
    "                         c('c1', 'c2', 'c3'),\n",
    "                         c('matrix1', 'matrix2')))\n",
    "\n",
    "print(A3)"
   ]
  },
  {
   "cell_type": "code",
   "execution_count": 3,
   "id": "ea0e93e0-5887-45f8-9463-6c793c5e3c58",
   "metadata": {},
   "outputs": [
    {
     "data": {
      "text/html": [
       "<table class=\"dataframe\">\n",
       "<caption>A matrix: 3 × 3 of type int</caption>\n",
       "<thead>\n",
       "\t<tr><th></th><th scope=col>c1</th><th scope=col>c2</th><th scope=col>c3</th></tr>\n",
       "</thead>\n",
       "<tbody>\n",
       "\t<tr><th scope=row>r1</th><td>10</td><td>11</td><td>12</td></tr>\n",
       "\t<tr><th scope=row>r2</th><td>13</td><td>14</td><td>15</td></tr>\n",
       "\t<tr><th scope=row>r3</th><td>16</td><td>17</td><td>18</td></tr>\n",
       "</tbody>\n",
       "</table>\n"
      ],
      "text/latex": [
       "A matrix: 3 × 3 of type int\n",
       "\\begin{tabular}{r|lll}\n",
       "  & c1 & c2 & c3\\\\\n",
       "\\hline\n",
       "\tr1 & 10 & 11 & 12\\\\\n",
       "\tr2 & 13 & 14 & 15\\\\\n",
       "\tr3 & 16 & 17 & 18\\\\\n",
       "\\end{tabular}\n"
      ],
      "text/markdown": [
       "\n",
       "A matrix: 3 × 3 of type int\n",
       "\n",
       "| <!--/--> | c1 | c2 | c3 |\n",
       "|---|---|---|---|\n",
       "| r1 | 10 | 11 | 12 |\n",
       "| r2 | 13 | 14 | 15 |\n",
       "| r3 | 16 | 17 | 18 |\n",
       "\n"
      ],
      "text/plain": [
       "   c1 c2 c3\n",
       "r1 10 11 12\n",
       "r2 13 14 15\n",
       "r3 16 17 18"
      ]
     },
     "metadata": {},
     "output_type": "display_data"
    }
   ],
   "source": [
    "A3[,,2]"
   ]
  },
  {
   "cell_type": "code",
   "execution_count": 4,
   "id": "e0ea5774-889a-4970-8916-d49d2b4a2d64",
   "metadata": {},
   "outputs": [
    {
     "data": {
      "text/html": [
       "<style>\n",
       ".dl-inline {width: auto; margin:0; padding: 0}\n",
       ".dl-inline>dt, .dl-inline>dd {float: none; width: auto; display: inline-block}\n",
       ".dl-inline>dt::after {content: \":\\0020\"; padding-right: .5ex}\n",
       ".dl-inline>dt:not(:first-of-type) {padding-left: .5ex}\n",
       "</style><dl class=dl-inline><dt>r1</dt><dd>39</dd><dt>r2</dt><dd>57</dd><dt>r3</dt><dd>75</dd></dl>\n"
      ],
      "text/latex": [
       "\\begin{description*}\n",
       "\\item[r1] 39\n",
       "\\item[r2] 57\n",
       "\\item[r3] 75\n",
       "\\end{description*}\n"
      ],
      "text/markdown": [
       "r1\n",
       ":   39r2\n",
       ":   57r3\n",
       ":   75\n",
       "\n"
      ],
      "text/plain": [
       "r1 r2 r3 \n",
       "39 57 75 "
      ]
     },
     "metadata": {},
     "output_type": "display_data"
    }
   ],
   "source": [
    "apply(A3, c(1), sum)"
   ]
  },
  {
   "cell_type": "code",
   "execution_count": 5,
   "id": "e42813d5-475e-48d3-ab22-438d11901b11",
   "metadata": {},
   "outputs": [
    {
     "data": {
      "text/html": [
       "<style>\n",
       ".dl-inline {width: auto; margin:0; padding: 0}\n",
       ".dl-inline>dt, .dl-inline>dd {float: none; width: auto; display: inline-block}\n",
       ".dl-inline>dt::after {content: \":\\0020\"; padding-right: .5ex}\n",
       ".dl-inline>dt:not(:first-of-type) {padding-left: .5ex}\n",
       "</style><dl class=dl-inline><dt>c1</dt><dd>51</dd><dt>c2</dt><dd>57</dd><dt>c3</dt><dd>63</dd></dl>\n"
      ],
      "text/latex": [
       "\\begin{description*}\n",
       "\\item[c1] 51\n",
       "\\item[c2] 57\n",
       "\\item[c3] 63\n",
       "\\end{description*}\n"
      ],
      "text/markdown": [
       "c1\n",
       ":   51c2\n",
       ":   57c3\n",
       ":   63\n",
       "\n"
      ],
      "text/plain": [
       "c1 c2 c3 \n",
       "51 57 63 "
      ]
     },
     "metadata": {},
     "output_type": "display_data"
    }
   ],
   "source": [
    "apply(A3, c(2), sum)"
   ]
  },
  {
   "cell_type": "code",
   "execution_count": 6,
   "id": "9c82146c-92d1-4b53-85ba-a3c5947eca69",
   "metadata": {},
   "outputs": [
    {
     "data": {
      "text/html": [
       "<style>\n",
       ".dl-inline {width: auto; margin:0; padding: 0}\n",
       ".dl-inline>dt, .dl-inline>dd {float: none; width: auto; display: inline-block}\n",
       ".dl-inline>dt::after {content: \":\\0020\"; padding-right: .5ex}\n",
       ".dl-inline>dt:not(:first-of-type) {padding-left: .5ex}\n",
       "</style><dl class=dl-inline><dt>matrix1</dt><dd>45</dd><dt>matrix2</dt><dd>126</dd></dl>\n"
      ],
      "text/latex": [
       "\\begin{description*}\n",
       "\\item[matrix1] 45\n",
       "\\item[matrix2] 126\n",
       "\\end{description*}\n"
      ],
      "text/markdown": [
       "matrix1\n",
       ":   45matrix2\n",
       ":   126\n",
       "\n"
      ],
      "text/plain": [
       "matrix1 matrix2 \n",
       "     45     126 "
      ]
     },
     "metadata": {},
     "output_type": "display_data"
    }
   ],
   "source": [
    "apply(A3, c(3), sum)"
   ]
  },
  {
   "cell_type": "code",
   "execution_count": null,
   "id": "4ecf1a0c-9fe9-4c1b-b6f8-0f24a65e3e16",
   "metadata": {},
   "outputs": [],
   "source": []
  },
  {
   "cell_type": "code",
   "execution_count": 7,
   "id": "72ff82a1-5b85-4d81-81a2-2de8a69fab87",
   "metadata": {},
   "outputs": [
    {
     "data": {
      "text/html": [
       "6"
      ],
      "text/latex": [
       "6"
      ],
      "text/markdown": [
       "6"
      ],
      "text/plain": [
       "[1] 6"
      ]
     },
     "metadata": {},
     "output_type": "display_data"
    }
   ],
   "source": [
    "sum(A3[1,,1])"
   ]
  },
  {
   "cell_type": "code",
   "execution_count": 9,
   "id": "e9b5fe6e-49c3-4663-87ee-4041180111be",
   "metadata": {},
   "outputs": [
    {
     "data": {
      "text/html": [
       "2618"
      ],
      "text/latex": [
       "2618"
      ],
      "text/markdown": [
       "2618"
      ],
      "text/plain": [
       "[1] 2618"
      ]
     },
     "metadata": {},
     "output_type": "display_data"
    }
   ],
   "source": [
    "prod(A3[,2, 2])"
   ]
  },
  {
   "cell_type": "code",
   "execution_count": null,
   "id": "b73d5078-e150-4ef8-8623-98a6027a49ff",
   "metadata": {},
   "outputs": [],
   "source": []
  }
 ],
 "metadata": {
  "kernelspec": {
   "display_name": "R",
   "language": "R",
   "name": "ir"
  },
  "language_info": {
   "codemirror_mode": "r",
   "file_extension": ".r",
   "mimetype": "text/x-r-source",
   "name": "R",
   "pygments_lexer": "r",
   "version": "4.1.0"
  }
 },
 "nbformat": 4,
 "nbformat_minor": 5
}
