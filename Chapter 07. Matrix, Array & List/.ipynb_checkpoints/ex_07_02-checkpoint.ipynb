{
 "cells": [
  {
   "cell_type": "markdown",
   "id": "3cff1250-8199-4118-a292-c9641c539512",
   "metadata": {},
   "source": [
    "![](images/07_01.png)"
   ]
  },
  {
   "cell_type": "code",
   "execution_count": 13,
   "id": "6669d222-7603-4b59-9229-c6d8c4ca7905",
   "metadata": {},
   "outputs": [
    {
     "data": {
      "text/html": [
       "<table class=\"dataframe\">\n",
       "<caption>A matrix: 4 × 3 of type int</caption>\n",
       "<thead>\n",
       "\t<tr><th></th><th scope=col>x</th><th scope=col>y</th><th scope=col>z</th></tr>\n",
       "</thead>\n",
       "<tbody>\n",
       "\t<tr><th scope=row>a</th><td>1</td><td>5</td><td> 9</td></tr>\n",
       "\t<tr><th scope=row>b</th><td>2</td><td>6</td><td>10</td></tr>\n",
       "\t<tr><th scope=row>c</th><td>3</td><td>7</td><td>11</td></tr>\n",
       "\t<tr><th scope=row>d</th><td>4</td><td>8</td><td>12</td></tr>\n",
       "</tbody>\n",
       "</table>\n"
      ],
      "text/latex": [
       "A matrix: 4 × 3 of type int\n",
       "\\begin{tabular}{r|lll}\n",
       "  & x & y & z\\\\\n",
       "\\hline\n",
       "\ta & 1 & 5 &  9\\\\\n",
       "\tb & 2 & 6 & 10\\\\\n",
       "\tc & 3 & 7 & 11\\\\\n",
       "\td & 4 & 8 & 12\\\\\n",
       "\\end{tabular}\n"
      ],
      "text/markdown": [
       "\n",
       "A matrix: 4 × 3 of type int\n",
       "\n",
       "| <!--/--> | x | y | z |\n",
       "|---|---|---|---|\n",
       "| a | 1 | 5 |  9 |\n",
       "| b | 2 | 6 | 10 |\n",
       "| c | 3 | 7 | 11 |\n",
       "| d | 4 | 8 | 12 |\n",
       "\n"
      ],
      "text/plain": [
       "  x y z \n",
       "a 1 5  9\n",
       "b 2 6 10\n",
       "c 3 7 11\n",
       "d 4 8 12"
      ]
     },
     "metadata": {},
     "output_type": "display_data"
    }
   ],
   "source": [
    "matrix_b = matrix(1:12, \n",
    "                  nrow = 4, \n",
    "                  dimnames = list(c('a', 'b', 'c', 'd'), c('x', 'y', 'z')))\n",
    "\n",
    "matrix_b"
   ]
  },
  {
   "cell_type": "code",
   "execution_count": 14,
   "id": "00c6badc-a41e-429a-99aa-b400c9a84851",
   "metadata": {},
   "outputs": [
    {
     "data": {
      "text/html": [
       "<table class=\"dataframe\">\n",
       "<caption>A matrix: 3 × 4 of type int</caption>\n",
       "<thead>\n",
       "\t<tr><th></th><th scope=col>a</th><th scope=col>b</th><th scope=col>c</th><th scope=col>d</th></tr>\n",
       "</thead>\n",
       "<tbody>\n",
       "\t<tr><th scope=row>x</th><td>1</td><td> 2</td><td> 3</td><td> 4</td></tr>\n",
       "\t<tr><th scope=row>y</th><td>5</td><td> 6</td><td> 7</td><td> 8</td></tr>\n",
       "\t<tr><th scope=row>z</th><td>9</td><td>10</td><td>11</td><td>12</td></tr>\n",
       "</tbody>\n",
       "</table>\n"
      ],
      "text/latex": [
       "A matrix: 3 × 4 of type int\n",
       "\\begin{tabular}{r|llll}\n",
       "  & a & b & c & d\\\\\n",
       "\\hline\n",
       "\tx & 1 &  2 &  3 &  4\\\\\n",
       "\ty & 5 &  6 &  7 &  8\\\\\n",
       "\tz & 9 & 10 & 11 & 12\\\\\n",
       "\\end{tabular}\n"
      ],
      "text/markdown": [
       "\n",
       "A matrix: 3 × 4 of type int\n",
       "\n",
       "| <!--/--> | a | b | c | d |\n",
       "|---|---|---|---|---|\n",
       "| x | 1 |  2 |  3 |  4 |\n",
       "| y | 5 |  6 |  7 |  8 |\n",
       "| z | 9 | 10 | 11 | 12 |\n",
       "\n"
      ],
      "text/plain": [
       "  a b  c  d \n",
       "x 1  2  3  4\n",
       "y 5  6  7  8\n",
       "z 9 10 11 12"
      ]
     },
     "metadata": {},
     "output_type": "display_data"
    }
   ],
   "source": [
    "tB = t(matrix_b)\n",
    "\n",
    "tB"
   ]
  },
  {
   "cell_type": "code",
   "execution_count": 15,
   "id": "a83933e5-1645-41cf-944e-881cb2b4d326",
   "metadata": {},
   "outputs": [
    {
     "data": {
      "text/html": [
       "<table class=\"dataframe\">\n",
       "<caption>A matrix: 3 × 3 of type int</caption>\n",
       "<thead>\n",
       "\t<tr><th></th><th scope=col>x</th><th scope=col>y</th><th scope=col>z</th></tr>\n",
       "</thead>\n",
       "<tbody>\n",
       "\t<tr><th scope=row>b</th><td>2</td><td>6</td><td>10</td></tr>\n",
       "\t<tr><th scope=row>c</th><td>3</td><td>7</td><td>11</td></tr>\n",
       "\t<tr><th scope=row>d</th><td>4</td><td>8</td><td>12</td></tr>\n",
       "</tbody>\n",
       "</table>\n"
      ],
      "text/latex": [
       "A matrix: 3 × 3 of type int\n",
       "\\begin{tabular}{r|lll}\n",
       "  & x & y & z\\\\\n",
       "\\hline\n",
       "\tb & 2 & 6 & 10\\\\\n",
       "\tc & 3 & 7 & 11\\\\\n",
       "\td & 4 & 8 & 12\\\\\n",
       "\\end{tabular}\n"
      ],
      "text/markdown": [
       "\n",
       "A matrix: 3 × 3 of type int\n",
       "\n",
       "| <!--/--> | x | y | z |\n",
       "|---|---|---|---|\n",
       "| b | 2 | 6 | 10 |\n",
       "| c | 3 | 7 | 11 |\n",
       "| d | 4 | 8 | 12 |\n",
       "\n"
      ],
      "text/plain": [
       "  x y z \n",
       "b 2 6 10\n",
       "c 3 7 11\n",
       "d 4 8 12"
      ]
     },
     "metadata": {},
     "output_type": "display_data"
    }
   ],
   "source": [
    "subB = matrix_b[2:dim(matrix_b)[1], 1:dim(matrix_b)[2]]\n",
    "\n",
    "subB"
   ]
  },
  {
   "cell_type": "code",
   "execution_count": 16,
   "id": "5095e23e-34e9-4898-b635-32dfea3eb432",
   "metadata": {},
   "outputs": [
    {
     "data": {
      "text/html": [
       "<style>\n",
       ".list-inline {list-style: none; margin:0; padding: 0}\n",
       ".list-inline>li {display: inline-block}\n",
       ".list-inline>li:not(:last-child)::after {content: \"\\00b7\"; padding: 0 .5ex}\n",
       "</style>\n",
       "<ol class=list-inline><li>4</li><li>3</li></ol>\n"
      ],
      "text/latex": [
       "\\begin{enumerate*}\n",
       "\\item 4\n",
       "\\item 3\n",
       "\\end{enumerate*}\n"
      ],
      "text/markdown": [
       "1. 4\n",
       "2. 3\n",
       "\n",
       "\n"
      ],
      "text/plain": [
       "[1] 4 3"
      ]
     },
     "metadata": {},
     "output_type": "display_data"
    }
   ],
   "source": [
    "dim(matrix_b)"
   ]
  },
  {
   "cell_type": "code",
   "execution_count": 17,
   "id": "605a5b5e-88fc-4162-a7cc-e9acca914e1b",
   "metadata": {},
   "outputs": [],
   "source": [
    "matrix_A = matrix(1:9, byrow = FALSE, nrow = 3, dimnames = list(c('a', 'b', 'c'), c('x', 'y', 'z')))"
   ]
  },
  {
   "cell_type": "code",
   "execution_count": 18,
   "id": "789fd256-2a7c-4f6a-9c85-efc8ca2a2282",
   "metadata": {},
   "outputs": [
    {
     "data": {
      "text/html": [
       "<table class=\"dataframe\">\n",
       "<caption>A matrix: 3 × 3 of type int</caption>\n",
       "<thead>\n",
       "\t<tr><th></th><th scope=col>x</th><th scope=col>y</th><th scope=col>z</th></tr>\n",
       "</thead>\n",
       "<tbody>\n",
       "\t<tr><th scope=row>a</th><td>1</td><td>4</td><td>7</td></tr>\n",
       "\t<tr><th scope=row>b</th><td>2</td><td>5</td><td>8</td></tr>\n",
       "\t<tr><th scope=row>c</th><td>3</td><td>6</td><td>9</td></tr>\n",
       "</tbody>\n",
       "</table>\n"
      ],
      "text/latex": [
       "A matrix: 3 × 3 of type int\n",
       "\\begin{tabular}{r|lll}\n",
       "  & x & y & z\\\\\n",
       "\\hline\n",
       "\ta & 1 & 4 & 7\\\\\n",
       "\tb & 2 & 5 & 8\\\\\n",
       "\tc & 3 & 6 & 9\\\\\n",
       "\\end{tabular}\n"
      ],
      "text/markdown": [
       "\n",
       "A matrix: 3 × 3 of type int\n",
       "\n",
       "| <!--/--> | x | y | z |\n",
       "|---|---|---|---|\n",
       "| a | 1 | 4 | 7 |\n",
       "| b | 2 | 5 | 8 |\n",
       "| c | 3 | 6 | 9 |\n",
       "\n"
      ],
      "text/plain": [
       "  x y z\n",
       "a 1 4 7\n",
       "b 2 5 8\n",
       "c 3 6 9"
      ]
     },
     "metadata": {},
     "output_type": "display_data"
    }
   ],
   "source": [
    "matrix_A"
   ]
  },
  {
   "cell_type": "code",
   "execution_count": 19,
   "id": "fb847d33-01ec-4d7c-9cb6-f5d833d6a9cb",
   "metadata": {},
   "outputs": [
    {
     "data": {
      "text/html": [
       "<table class=\"dataframe\">\n",
       "<caption>A matrix: 3 × 3 of type dbl</caption>\n",
       "<thead>\n",
       "\t<tr><th></th><th scope=col>x</th><th scope=col>y</th><th scope=col>z</th></tr>\n",
       "</thead>\n",
       "<tbody>\n",
       "\t<tr><th scope=row>a</th><td>3</td><td>12</td><td>21</td></tr>\n",
       "\t<tr><th scope=row>b</th><td>6</td><td>15</td><td>24</td></tr>\n",
       "\t<tr><th scope=row>c</th><td>9</td><td>18</td><td>27</td></tr>\n",
       "</tbody>\n",
       "</table>\n"
      ],
      "text/latex": [
       "A matrix: 3 × 3 of type dbl\n",
       "\\begin{tabular}{r|lll}\n",
       "  & x & y & z\\\\\n",
       "\\hline\n",
       "\ta & 3 & 12 & 21\\\\\n",
       "\tb & 6 & 15 & 24\\\\\n",
       "\tc & 9 & 18 & 27\\\\\n",
       "\\end{tabular}\n"
      ],
      "text/markdown": [
       "\n",
       "A matrix: 3 × 3 of type dbl\n",
       "\n",
       "| <!--/--> | x | y | z |\n",
       "|---|---|---|---|\n",
       "| a | 3 | 12 | 21 |\n",
       "| b | 6 | 15 | 24 |\n",
       "| c | 9 | 18 | 27 |\n",
       "\n"
      ],
      "text/plain": [
       "  x y  z \n",
       "a 3 12 21\n",
       "b 6 15 24\n",
       "c 9 18 27"
      ]
     },
     "metadata": {},
     "output_type": "display_data"
    }
   ],
   "source": [
    "3 * matrix_A"
   ]
  },
  {
   "cell_type": "code",
   "execution_count": 20,
   "id": "9ec52adb-b1fc-43a4-be39-be3787468a60",
   "metadata": {},
   "outputs": [
    {
     "data": {
      "text/html": [
       "<table class=\"dataframe\">\n",
       "<caption>A matrix: 3 × 3 of type int</caption>\n",
       "<thead>\n",
       "\t<tr><th></th><th scope=col>x</th><th scope=col>y</th><th scope=col>z</th></tr>\n",
       "</thead>\n",
       "<tbody>\n",
       "\t<tr><th scope=row>a</th><td>3</td><td>10</td><td>17</td></tr>\n",
       "\t<tr><th scope=row>b</th><td>5</td><td>12</td><td>19</td></tr>\n",
       "\t<tr><th scope=row>c</th><td>7</td><td>14</td><td>21</td></tr>\n",
       "</tbody>\n",
       "</table>\n"
      ],
      "text/latex": [
       "A matrix: 3 × 3 of type int\n",
       "\\begin{tabular}{r|lll}\n",
       "  & x & y & z\\\\\n",
       "\\hline\n",
       "\ta & 3 & 10 & 17\\\\\n",
       "\tb & 5 & 12 & 19\\\\\n",
       "\tc & 7 & 14 & 21\\\\\n",
       "\\end{tabular}\n"
      ],
      "text/markdown": [
       "\n",
       "A matrix: 3 × 3 of type int\n",
       "\n",
       "| <!--/--> | x | y | z |\n",
       "|---|---|---|---|\n",
       "| a | 3 | 10 | 17 |\n",
       "| b | 5 | 12 | 19 |\n",
       "| c | 7 | 14 | 21 |\n",
       "\n"
      ],
      "text/plain": [
       "  x y  z \n",
       "a 3 10 17\n",
       "b 5 12 19\n",
       "c 7 14 21"
      ]
     },
     "metadata": {},
     "output_type": "display_data"
    }
   ],
   "source": [
    "matrix_A + subB"
   ]
  },
  {
   "cell_type": "code",
   "execution_count": 21,
   "id": "7ac8acdc-cf3b-4deb-8b14-18c08be2821c",
   "metadata": {},
   "outputs": [
    {
     "data": {
      "text/html": [
       "<table class=\"dataframe\">\n",
       "<caption>A matrix: 3 × 3 of type int</caption>\n",
       "<thead>\n",
       "\t<tr><th></th><th scope=col>x</th><th scope=col>y</th><th scope=col>z</th></tr>\n",
       "</thead>\n",
       "<tbody>\n",
       "\t<tr><th scope=row>a</th><td>-1</td><td>-2</td><td>-3</td></tr>\n",
       "\t<tr><th scope=row>b</th><td>-1</td><td>-2</td><td>-3</td></tr>\n",
       "\t<tr><th scope=row>c</th><td>-1</td><td>-2</td><td>-3</td></tr>\n",
       "</tbody>\n",
       "</table>\n"
      ],
      "text/latex": [
       "A matrix: 3 × 3 of type int\n",
       "\\begin{tabular}{r|lll}\n",
       "  & x & y & z\\\\\n",
       "\\hline\n",
       "\ta & -1 & -2 & -3\\\\\n",
       "\tb & -1 & -2 & -3\\\\\n",
       "\tc & -1 & -2 & -3\\\\\n",
       "\\end{tabular}\n"
      ],
      "text/markdown": [
       "\n",
       "A matrix: 3 × 3 of type int\n",
       "\n",
       "| <!--/--> | x | y | z |\n",
       "|---|---|---|---|\n",
       "| a | -1 | -2 | -3 |\n",
       "| b | -1 | -2 | -3 |\n",
       "| c | -1 | -2 | -3 |\n",
       "\n"
      ],
      "text/plain": [
       "  x  y  z \n",
       "a -1 -2 -3\n",
       "b -1 -2 -3\n",
       "c -1 -2 -3"
      ]
     },
     "metadata": {},
     "output_type": "display_data"
    }
   ],
   "source": [
    "matrix_A - subB"
   ]
  },
  {
   "cell_type": "code",
   "execution_count": null,
   "id": "5964b048-ed48-4ac1-b45a-eb1ea1913aab",
   "metadata": {},
   "outputs": [],
   "source": []
  }
 ],
 "metadata": {
  "kernelspec": {
   "display_name": "R",
   "language": "R",
   "name": "ir"
  },
  "language_info": {
   "codemirror_mode": "r",
   "file_extension": ".r",
   "mimetype": "text/x-r-source",
   "name": "R",
   "pygments_lexer": "r",
   "version": "4.1.0"
  }
 },
 "nbformat": 4,
 "nbformat_minor": 5
}
