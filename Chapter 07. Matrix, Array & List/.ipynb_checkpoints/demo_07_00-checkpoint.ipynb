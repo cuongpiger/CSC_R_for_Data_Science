{
 "cells": [
  {
   "cell_type": "code",
   "execution_count": 1,
   "id": "7dc27f31-9464-46ec-adc3-397b82a65573",
   "metadata": {},
   "outputs": [
    {
     "name": "stdout",
     "output_type": "stream",
     "text": [
      "     [,1] [,2] [,3] [,4]\n",
      "[1,]    1    3    5    7\n",
      "[2,]    9   11   13   15\n"
     ]
    }
   ],
   "source": [
    "m1 = matrix(c(1, 3, 5, 7, 9, 11, 13, 15), nrow=2, byrow=TRUE)\n",
    "print(m1)"
   ]
  },
  {
   "cell_type": "code",
   "execution_count": 2,
   "id": "2bbec090-c64a-4af9-b880-784e7eec908e",
   "metadata": {},
   "outputs": [
    {
     "name": "stdout",
     "output_type": "stream",
     "text": [
      "     [,1] [,2] [,3] [,4]\n",
      "[1,]    0    2    4    6\n",
      "[2,]    8   10   12   14\n"
     ]
    }
   ],
   "source": [
    "m2 = matrix(c(0, 2, 4, 6, 8, 10, 12, 14), nrow=2, byrow=TRUE)\n",
    "print(m2)"
   ]
  },
  {
   "cell_type": "code",
   "execution_count": 3,
   "id": "a5eb7b9f-c063-4e14-8542-40495fbd1f3d",
   "metadata": {},
   "outputs": [
    {
     "name": "stdout",
     "output_type": "stream",
     "text": [
      "     [,1] [,2] [,3] [,4]\n",
      "[1,]    1    5    9   13\n",
      "[2,]   17   21   25   29\n"
     ]
    }
   ],
   "source": [
    "result_add = m1 + m2\n",
    "\n",
    "print(result_add)"
   ]
  },
  {
   "cell_type": "code",
   "execution_count": 4,
   "id": "c81c7025-e25b-4508-903c-42924489e7b6",
   "metadata": {},
   "outputs": [
    {
     "name": "stdout",
     "output_type": "stream",
     "text": [
      "     [,1] [,2] [,3] [,4]\n",
      "[1,]    1    1    1    1\n",
      "[2,]    1    1    1    1\n"
     ]
    }
   ],
   "source": [
    "result_sub = m1 - m2\n",
    "\n",
    "print(result_sub)"
   ]
  },
  {
   "cell_type": "code",
   "execution_count": 5,
   "id": "76b04921-f717-45d7-859d-3faae7759963",
   "metadata": {},
   "outputs": [
    {
     "name": "stdout",
     "output_type": "stream",
     "text": [
      "     [,1] [,2] [,3] [,4]\n",
      "[1,]    0    6   20   42\n",
      "[2,]   72  110  156  210\n"
     ]
    }
   ],
   "source": [
    "result_mul = m1 * m2\n",
    "\n",
    "print(result_mul)"
   ]
  },
  {
   "cell_type": "code",
   "execution_count": 6,
   "id": "370008e8-e246-4f56-9f29-5b124b2fcd7b",
   "metadata": {},
   "outputs": [
    {
     "name": "stdout",
     "output_type": "stream",
     "text": [
      "      [,1] [,2]     [,3]     [,4]\n",
      "[1,]   Inf  1.5 1.250000 1.166667\n",
      "[2,] 1.125  1.1 1.083333 1.071429\n"
     ]
    }
   ],
   "source": [
    "result_div = m1 / m2\n",
    "\n",
    "print(result_div)"
   ]
  },
  {
   "cell_type": "code",
   "execution_count": 7,
   "id": "bc88f2d7-9be4-4949-8729-ecd6848c8fd7",
   "metadata": {},
   "outputs": [
    {
     "name": "stdout",
     "output_type": "stream",
     "text": [
      "     [,1] [,2] [,3] [,4]\n",
      "[1,]    1    4    7   10\n",
      "[2,]    2    5    8   11\n",
      "[3,]    3    6    9   12\n"
     ]
    }
   ],
   "source": [
    "mat1 = matrix(c(1:12), ncol=4)\n",
    "mat2 = matrix(1:8, nrow=4)\n",
    "\n",
    "print(mat1)"
   ]
  },
  {
   "cell_type": "code",
   "execution_count": 8,
   "id": "fdd6082b-5669-4614-b982-384e882d254a",
   "metadata": {},
   "outputs": [
    {
     "name": "stdout",
     "output_type": "stream",
     "text": [
      "     [,1] [,2]\n",
      "[1,]    1    5\n",
      "[2,]    2    6\n",
      "[3,]    3    7\n",
      "[4,]    4    8\n"
     ]
    }
   ],
   "source": [
    "print(mat2)"
   ]
  },
  {
   "cell_type": "code",
   "execution_count": 9,
   "id": "e28dd853-88ea-468a-9e01-ca31373b9dcf",
   "metadata": {},
   "outputs": [
    {
     "name": "stdout",
     "output_type": "stream",
     "text": [
      "     [,1] [,2]\n",
      "[1,]   70  158\n",
      "[2,]   80  184\n",
      "[3,]   90  210\n"
     ]
    }
   ],
   "source": [
    "mat3 = mat1 %*% mat2\n",
    "\n",
    "print(mat3)"
   ]
  },
  {
   "cell_type": "code",
   "execution_count": null,
   "id": "fdf00a26-c72d-4ec7-8a67-290ba28252ed",
   "metadata": {},
   "outputs": [],
   "source": []
  },
  {
   "cell_type": "code",
   "execution_count": 13,
   "id": "9312b854-e048-45d2-a766-d6604b7cb998",
   "metadata": {},
   "outputs": [
    {
     "name": "stdout",
     "output_type": "stream",
     "text": [
      "     [,1] [,2] [,3]\n",
      "[1,]    1    2    3\n",
      "[2,]    4    5    6\n",
      "[3,]    7    8    9\n",
      "[4,]   10   11   12\n"
     ]
    }
   ],
   "source": [
    "m = matrix(1:12, nrow=4, ncol=3, byrow=TRUE)\n",
    "print(m)"
   ]
  },
  {
   "cell_type": "code",
   "execution_count": 14,
   "id": "feab2748-1711-4b7b-8aad-d86bf647a7f7",
   "metadata": {},
   "outputs": [
    {
     "name": "stdout",
     "output_type": "stream",
     "text": [
      "     [,1] [,2] [,3]\n",
      "[1,]    1    5    9\n",
      "[2,]    2    6   10\n",
      "[3,]    3    7   11\n",
      "[4,]    4    8   12\n"
     ]
    }
   ],
   "source": [
    "n = matrix(1:12, nrow=4, byrow=FALSE)\n",
    "print(n)"
   ]
  },
  {
   "cell_type": "code",
   "execution_count": 15,
   "id": "6d6e0da2-813a-4d4a-a090-64021c389382",
   "metadata": {},
   "outputs": [
    {
     "name": "stdout",
     "output_type": "stream",
     "text": [
      "     [,1] [,2] [,3] [,4]\n",
      "[1,]    1    2    3    4\n",
      "[2,]    5    6    7    8\n",
      "[3,]    9   10   11   12\n"
     ]
    }
   ],
   "source": [
    "n = matrix(1:12, ncol=4, byrow=TRUE)\n",
    "print(n)"
   ]
  },
  {
   "cell_type": "code",
   "execution_count": 18,
   "id": "59a28bb2-621c-4e8c-9c4f-d166c79132e0",
   "metadata": {},
   "outputs": [
    {
     "name": "stdout",
     "output_type": "stream",
     "text": [
      "      col_1 col_2 col_3\n",
      "row_1     1     2     3\n",
      "row_2     4     5     6\n",
      "row_3     7     8     9\n",
      "row_4    10    11    12\n"
     ]
    }
   ],
   "source": [
    "row_names = c('row_1', 'row_2', 'row_3', 'row_4')\n",
    "col_names = c('col_1', 'col_2', 'col_3')\n",
    "\n",
    "p = matrix(1:12, nrow=4, byrow=TRUE, dimnames=list(row_names, col_names))\n",
    "print(p)"
   ]
  },
  {
   "cell_type": "code",
   "execution_count": 19,
   "id": "5b5cd5d1-3696-4885-aa2e-7d6ca53a79a2",
   "metadata": {},
   "outputs": [
    {
     "data": {
      "text/html": [
       "3"
      ],
      "text/latex": [
       "3"
      ],
      "text/markdown": [
       "3"
      ],
      "text/plain": [
       "[1] 3"
      ]
     },
     "metadata": {},
     "output_type": "display_data"
    }
   ],
   "source": [
    "p[1, 3]"
   ]
  },
  {
   "cell_type": "code",
   "execution_count": 20,
   "id": "a62c3c26-e73a-48b4-a832-9bd68ad65455",
   "metadata": {},
   "outputs": [
    {
     "data": {
      "text/html": [
       "11"
      ],
      "text/latex": [
       "11"
      ],
      "text/markdown": [
       "11"
      ],
      "text/plain": [
       "[1] 11"
      ]
     },
     "metadata": {},
     "output_type": "display_data"
    }
   ],
   "source": [
    "p[4, 2]"
   ]
  },
  {
   "cell_type": "code",
   "execution_count": 21,
   "id": "c5085fc7-d4aa-4bc8-9ad0-44e580942a82",
   "metadata": {},
   "outputs": [
    {
     "data": {
      "text/html": [
       "<style>\n",
       ".dl-inline {width: auto; margin:0; padding: 0}\n",
       ".dl-inline>dt, .dl-inline>dd {float: none; width: auto; display: inline-block}\n",
       ".dl-inline>dt::after {content: \":\\0020\"; padding-right: .5ex}\n",
       ".dl-inline>dt:not(:first-of-type) {padding-left: .5ex}\n",
       "</style><dl class=dl-inline><dt>col_1</dt><dd>4</dd><dt>col_2</dt><dd>5</dd><dt>col_3</dt><dd>6</dd></dl>\n"
      ],
      "text/latex": [
       "\\begin{description*}\n",
       "\\item[col\\textbackslash{}\\_1] 4\n",
       "\\item[col\\textbackslash{}\\_2] 5\n",
       "\\item[col\\textbackslash{}\\_3] 6\n",
       "\\end{description*}\n"
      ],
      "text/markdown": [
       "col_1\n",
       ":   4col_2\n",
       ":   5col_3\n",
       ":   6\n",
       "\n"
      ],
      "text/plain": [
       "col_1 col_2 col_3 \n",
       "    4     5     6 "
      ]
     },
     "metadata": {},
     "output_type": "display_data"
    }
   ],
   "source": [
    "p[2,]"
   ]
  },
  {
   "cell_type": "code",
   "execution_count": 22,
   "id": "00d4e22b-bc6b-4392-9e8a-cda21696faf4",
   "metadata": {},
   "outputs": [
    {
     "name": "stdout",
     "output_type": "stream",
     "text": [
      "row_1 row_2 row_3 row_4 \n",
      "    3     6     9    12 \n"
     ]
    }
   ],
   "source": [
    "print(p[,3])"
   ]
  },
  {
   "cell_type": "code",
   "execution_count": null,
   "id": "c90efe35-dfc4-4331-a4ec-8a6b8e34815e",
   "metadata": {},
   "outputs": [],
   "source": []
  },
  {
   "cell_type": "code",
   "execution_count": 23,
   "id": "c0b844e0-1939-47cf-b735-23738a45e7f0",
   "metadata": {},
   "outputs": [
    {
     "name": "stdout",
     "output_type": "stream",
     "text": [
      "     [,1]\n",
      "[1,]   30\n",
      "[2,]   36\n",
      "[3,]   42\n"
     ]
    }
   ],
   "source": [
    "vec = 1:3\n",
    "mat = matrix(1:9, ncol=3)\n",
    "\n",
    "new_vec = mat %*% vec\n",
    "\n",
    "print(new_vec)"
   ]
  },
  {
   "cell_type": "markdown",
   "id": "cdc6acb9-5166-46ed-bf5e-f208377d9da9",
   "metadata": {},
   "source": [
    "# Array"
   ]
  },
  {
   "cell_type": "code",
   "execution_count": 24,
   "id": "500b4816-2c36-40c9-a24c-66252602469f",
   "metadata": {},
   "outputs": [
    {
     "name": "stdout",
     "output_type": "stream",
     "text": [
      ", , 1\n",
      "\n",
      "     [,1] [,2]\n",
      "[1,]    1    4\n",
      "[2,]    2    5\n",
      "[3,]    3    6\n",
      "\n",
      ", , 2\n",
      "\n",
      "     [,1] [,2]\n",
      "[1,]    1    4\n",
      "[2,]    2    5\n",
      "[3,]    3    6\n",
      "\n"
     ]
    }
   ],
   "source": [
    "arr1 = array(1:6, dim=c(3, 2, 2))\n",
    "\n",
    "print(arr1)"
   ]
  },
  {
   "cell_type": "code",
   "execution_count": 25,
   "id": "c7867206-dc2d-4298-9fd4-8211b5ca9194",
   "metadata": {},
   "outputs": [
    {
     "name": "stdout",
     "output_type": "stream",
     "text": [
      ", , 1\n",
      "\n",
      "     [,1] [,2] [,3] [,4]\n",
      "[1,]    1    4    7   10\n",
      "[2,]    2    5    8   11\n",
      "[3,]    3    6    9   12\n",
      "\n",
      ", , 2\n",
      "\n",
      "     [,1] [,2] [,3] [,4]\n",
      "[1,]   13    1    4    7\n",
      "[2,]   14    2    5    8\n",
      "[3,]   15    3    6    9\n",
      "\n"
     ]
    }
   ],
   "source": [
    "arr2 = array(c(1:6, 7:15), dim=c(3, 4, 2))\n",
    "\n",
    "print(arr2)"
   ]
  },
  {
   "cell_type": "code",
   "execution_count": null,
   "id": "2608eb51-9189-4fa1-86e7-01f5e4d27b6e",
   "metadata": {},
   "outputs": [],
   "source": []
  },
  {
   "cell_type": "code",
   "execution_count": 28,
   "id": "59fbe951-e0fa-4f8a-a899-cc08d227ec56",
   "metadata": {},
   "outputs": [
    {
     "name": "stdout",
     "output_type": "stream",
     "text": [
      ", , mat_1\n",
      "\n",
      "      col_1 col_2 col_3 col_4\n",
      "row_1     1     4     7    10\n",
      "row_2     2     5     8    11\n",
      "row_3     3     6     9    12\n",
      "\n",
      ", , mat_2\n",
      "\n",
      "      col_1 col_2 col_3 col_4\n",
      "row_1    13     1     4     7\n",
      "row_2    14     2     5     8\n",
      "row_3    15     3     6     9\n",
      "\n"
     ]
    }
   ],
   "source": [
    "row_names = c('row_1', 'row_2', 'row_3')\n",
    "col_names = c('col_1', 'col_2', 'col_3', 'col_4')\n",
    "mat_names = c('mat_1', 'mat_2')\n",
    "\n",
    "arr3 = array(c(1:6, 7:15), dim=c(3, 4, 2), dimnames=list(row_names, col_names, mat_names))\n",
    "print(arr3)"
   ]
  },
  {
   "cell_type": "code",
   "execution_count": 29,
   "id": "de1b5c36-5910-4c74-8350-53d6294ce62e",
   "metadata": {},
   "outputs": [
    {
     "name": "stdout",
     "output_type": "stream",
     "text": [
      "[1] 6\n"
     ]
    }
   ],
   "source": [
    "print(arr3[3, 2, 1])"
   ]
  },
  {
   "cell_type": "code",
   "execution_count": 30,
   "id": "3e1dd89c-b02a-4c1d-aa29-4dbb6549ae6c",
   "metadata": {},
   "outputs": [
    {
     "name": "stdout",
     "output_type": "stream",
     "text": [
      "col_1 col_2 col_3 col_4 \n",
      "   13     1     4     7 \n"
     ]
    }
   ],
   "source": [
    "print(arr3[1,,2])"
   ]
  },
  {
   "cell_type": "code",
   "execution_count": 31,
   "id": "cbee88d3-4d7b-42ee-bc72-aa96e661fdb6",
   "metadata": {},
   "outputs": [
    {
     "name": "stdout",
     "output_type": "stream",
     "text": [
      "row_1 row_2 row_3 \n",
      "    7     8     9 \n"
     ]
    }
   ],
   "source": [
    "print(arr3[,3,1])"
   ]
  },
  {
   "cell_type": "code",
   "execution_count": 32,
   "id": "91757a70-c568-41a3-97f6-1cc2e3d8878e",
   "metadata": {},
   "outputs": [
    {
     "name": "stdout",
     "output_type": "stream",
     "text": [
      "      col_1 col_2 col_3 col_4\n",
      "row_1    13     1     4     7\n",
      "row_2    14     2     5     8\n",
      "row_3    15     3     6     9\n"
     ]
    }
   ],
   "source": [
    "print(arr3[,,2])"
   ]
  },
  {
   "cell_type": "code",
   "execution_count": 33,
   "id": "0ef0f238-4007-4d3c-bf93-84256e99e8e0",
   "metadata": {},
   "outputs": [
    {
     "name": "stdout",
     "output_type": "stream",
     "text": [
      "row_1 row_2 row_3 \n",
      "   47    55    63 \n"
     ]
    }
   ],
   "source": [
    "print(apply(arr3, c(1), sum))"
   ]
  },
  {
   "cell_type": "code",
   "execution_count": 34,
   "id": "4f1d3bbc-fd65-4640-b0ae-648006315bb5",
   "metadata": {},
   "outputs": [
    {
     "name": "stdout",
     "output_type": "stream",
     "text": [
      "col_1 col_2 col_3 col_4 \n",
      "    1     1     4     7 \n"
     ]
    }
   ],
   "source": [
    "print(apply(arr3, c(2), min))"
   ]
  },
  {
   "cell_type": "code",
   "execution_count": 35,
   "id": "f579940a-fc03-4f0a-b636-e19bf2ad8cc9",
   "metadata": {},
   "outputs": [
    {
     "name": "stdout",
     "output_type": "stream",
     "text": [
      "mat_1 mat_2 \n",
      " 6.50  7.25 \n"
     ]
    }
   ],
   "source": [
    "print(apply(arr3, c(3), mean))"
   ]
  },
  {
   "cell_type": "code",
   "execution_count": null,
   "id": "9ba9f5f2-4f99-4a23-980f-5cd53ed76e9b",
   "metadata": {},
   "outputs": [],
   "source": [
    "s"
   ]
  }
 ],
 "metadata": {
  "kernelspec": {
   "display_name": "R",
   "language": "R",
   "name": "ir"
  },
  "language_info": {
   "codemirror_mode": "r",
   "file_extension": ".r",
   "mimetype": "text/x-r-source",
   "name": "R",
   "pygments_lexer": "r",
   "version": "4.1.0"
  }
 },
 "nbformat": 4,
 "nbformat_minor": 5
}
