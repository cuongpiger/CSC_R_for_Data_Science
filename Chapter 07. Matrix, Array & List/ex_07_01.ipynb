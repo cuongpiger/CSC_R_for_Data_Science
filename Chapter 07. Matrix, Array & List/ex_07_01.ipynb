{
 "cells": [
  {
   "cell_type": "markdown",
   "id": "85ec3f6c-d9b4-40a9-8168-5bcbf081d530",
   "metadata": {},
   "source": [
    "![](images/07_00.png)"
   ]
  },
  {
   "cell_type": "code",
   "execution_count": 3,
   "id": "2bf58b87-6879-4b3d-a833-ed001339367d",
   "metadata": {},
   "outputs": [
    {
     "data": {
      "text/html": [
       "<table class=\"dataframe\">\n",
       "<caption>A matrix: 3 × 3 of type int</caption>\n",
       "<thead>\n",
       "\t<tr><th></th><th scope=col>c1</th><th scope=col>c2</th><th scope=col>c3</th></tr>\n",
       "</thead>\n",
       "<tbody>\n",
       "\t<tr><th scope=row>r1</th><td>1</td><td>2</td><td>3</td></tr>\n",
       "\t<tr><th scope=row>r2</th><td>4</td><td>5</td><td>6</td></tr>\n",
       "\t<tr><th scope=row>r3</th><td>7</td><td>8</td><td>9</td></tr>\n",
       "</tbody>\n",
       "</table>\n"
      ],
      "text/latex": [
       "A matrix: 3 × 3 of type int\n",
       "\\begin{tabular}{r|lll}\n",
       "  & c1 & c2 & c3\\\\\n",
       "\\hline\n",
       "\tr1 & 1 & 2 & 3\\\\\n",
       "\tr2 & 4 & 5 & 6\\\\\n",
       "\tr3 & 7 & 8 & 9\\\\\n",
       "\\end{tabular}\n"
      ],
      "text/markdown": [
       "\n",
       "A matrix: 3 × 3 of type int\n",
       "\n",
       "| <!--/--> | c1 | c2 | c3 |\n",
       "|---|---|---|---|\n",
       "| r1 | 1 | 2 | 3 |\n",
       "| r2 | 4 | 5 | 6 |\n",
       "| r3 | 7 | 8 | 9 |\n",
       "\n"
      ],
      "text/plain": [
       "   c1 c2 c3\n",
       "r1 1  2  3 \n",
       "r2 4  5  6 \n",
       "r3 7  8  9 "
      ]
     },
     "metadata": {},
     "output_type": "display_data"
    }
   ],
   "source": [
    "x = 1:3\n",
    "y = 4:6\n",
    "z = 7:9\n",
    "\n",
    "m1 = matrix(c(x, y, z), nrow = 3, byrow = TRUE, dimnames = list(c('r1', 'r2', 'r3'), \n",
    "                                                                c('c1', 'c2', 'c3')))\n",
    "\n",
    "m1"
   ]
  },
  {
   "cell_type": "code",
   "execution_count": 4,
   "id": "1ca9fd26-9b6d-4dc2-9400-81223197f4fa",
   "metadata": {},
   "outputs": [
    {
     "data": {
      "text/html": [
       "TRUE"
      ],
      "text/latex": [
       "TRUE"
      ],
      "text/markdown": [
       "TRUE"
      ],
      "text/plain": [
       "[1] TRUE"
      ]
     },
     "metadata": {},
     "output_type": "display_data"
    }
   ],
   "source": [
    "is.matrix(m1)"
   ]
  },
  {
   "cell_type": "code",
   "execution_count": 5,
   "id": "01c4adfa-9328-4c67-844c-84dd8d2cbd36",
   "metadata": {},
   "outputs": [
    {
     "data": {
      "text/html": [
       "<table class=\"dataframe\">\n",
       "<caption>A matrix: 3 × 3 of type int</caption>\n",
       "<thead>\n",
       "\t<tr><th></th><th scope=col>r1</th><th scope=col>r2</th><th scope=col>r3</th></tr>\n",
       "</thead>\n",
       "<tbody>\n",
       "\t<tr><th scope=row>c1</th><td>1</td><td>4</td><td>7</td></tr>\n",
       "\t<tr><th scope=row>c2</th><td>2</td><td>5</td><td>8</td></tr>\n",
       "\t<tr><th scope=row>c3</th><td>3</td><td>6</td><td>9</td></tr>\n",
       "</tbody>\n",
       "</table>\n"
      ],
      "text/latex": [
       "A matrix: 3 × 3 of type int\n",
       "\\begin{tabular}{r|lll}\n",
       "  & r1 & r2 & r3\\\\\n",
       "\\hline\n",
       "\tc1 & 1 & 4 & 7\\\\\n",
       "\tc2 & 2 & 5 & 8\\\\\n",
       "\tc3 & 3 & 6 & 9\\\\\n",
       "\\end{tabular}\n"
      ],
      "text/markdown": [
       "\n",
       "A matrix: 3 × 3 of type int\n",
       "\n",
       "| <!--/--> | r1 | r2 | r3 |\n",
       "|---|---|---|---|\n",
       "| c1 | 1 | 4 | 7 |\n",
       "| c2 | 2 | 5 | 8 |\n",
       "| c3 | 3 | 6 | 9 |\n",
       "\n"
      ],
      "text/plain": [
       "   r1 r2 r3\n",
       "c1 1  4  7 \n",
       "c2 2  5  8 \n",
       "c3 3  6  9 "
      ]
     },
     "metadata": {},
     "output_type": "display_data"
    }
   ],
   "source": [
    "t(m1)"
   ]
  },
  {
   "cell_type": "code",
   "execution_count": null,
   "id": "506ab30f-94ea-4caa-96b2-fe80ea336768",
   "metadata": {},
   "outputs": [],
   "source": []
  }
 ],
 "metadata": {
  "kernelspec": {
   "display_name": "R",
   "language": "R",
   "name": "ir"
  },
  "language_info": {
   "codemirror_mode": "r",
   "file_extension": ".r",
   "mimetype": "text/x-r-source",
   "name": "R",
   "pygments_lexer": "r",
   "version": "4.1.0"
  }
 },
 "nbformat": 4,
 "nbformat_minor": 5
}
