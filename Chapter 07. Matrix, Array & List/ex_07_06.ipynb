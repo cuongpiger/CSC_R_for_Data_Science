{
 "cells": [
  {
   "cell_type": "markdown",
   "id": "4f7256b7-7c38-46b0-a0ee-c50196799130",
   "metadata": {},
   "source": [
    "![](images/07_05.png)"
   ]
  },
  {
   "cell_type": "code",
   "execution_count": 1,
   "id": "fa4d3a07-7257-4892-9f7a-121d0c30f0b9",
   "metadata": {},
   "outputs": [],
   "source": [
    "p = c(2, 7, 8)\n",
    "q = c('A', 'B', 'C')\n",
    "\n",
    "x = list(p, q)"
   ]
  },
  {
   "cell_type": "code",
   "execution_count": 2,
   "id": "a3e3071d-bb2b-4557-a969-7d6ad5bfadda",
   "metadata": {},
   "outputs": [
    {
     "data": {
      "text/html": [
       "<style>\n",
       ".list-inline {list-style: none; margin:0; padding: 0}\n",
       ".list-inline>li {display: inline-block}\n",
       ".list-inline>li:not(:last-child)::after {content: \"\\00b7\"; padding: 0 .5ex}\n",
       "</style>\n",
       "<ol class=list-inline><li>'A'</li><li>'B'</li><li>'C'</li></ol>\n"
      ],
      "text/latex": [
       "\\begin{enumerate*}\n",
       "\\item 'A'\n",
       "\\item 'B'\n",
       "\\item 'C'\n",
       "\\end{enumerate*}\n"
      ],
      "text/markdown": [
       "1. 'A'\n",
       "2. 'B'\n",
       "3. 'C'\n",
       "\n",
       "\n"
      ],
      "text/plain": [
       "[1] \"A\" \"B\" \"C\""
      ]
     },
     "metadata": {},
     "output_type": "display_data"
    }
   ],
   "source": [
    "x[[2]]"
   ]
  },
  {
   "cell_type": "code",
   "execution_count": 3,
   "id": "5983ad97-40ae-4984-bbd7-a748b04e6f96",
   "metadata": {},
   "outputs": [
    {
     "data": {
      "text/html": [
       "'B'"
      ],
      "text/latex": [
       "'B'"
      ],
      "text/markdown": [
       "'B'"
      ],
      "text/plain": [
       "[1] \"B\""
      ]
     },
     "metadata": {},
     "output_type": "display_data"
    }
   ],
   "source": [
    "x[[2]][2]"
   ]
  },
  {
   "cell_type": "code",
   "execution_count": 4,
   "id": "66b2198c-f59b-4e25-9c26-68b6652b6cc3",
   "metadata": {},
   "outputs": [
    {
     "data": {
      "text/html": [
       "<ol>\n",
       "\t<li><style>\n",
       ".list-inline {list-style: none; margin:0; padding: 0}\n",
       ".list-inline>li {display: inline-block}\n",
       ".list-inline>li:not(:last-child)::after {content: \"\\00b7\"; padding: 0 .5ex}\n",
       "</style>\n",
       "<ol class=list-inline><li>2</li><li>7</li><li>8</li></ol>\n",
       "</li>\n",
       "\t<li><style>\n",
       ".list-inline {list-style: none; margin:0; padding: 0}\n",
       ".list-inline>li {display: inline-block}\n",
       ".list-inline>li:not(:last-child)::after {content: \"\\00b7\"; padding: 0 .5ex}\n",
       "</style>\n",
       "<ol class=list-inline><li>'A'</li><li>'K'</li><li>'C'</li></ol>\n",
       "</li>\n",
       "</ol>\n"
      ],
      "text/latex": [
       "\\begin{enumerate}\n",
       "\\item \\begin{enumerate*}\n",
       "\\item 2\n",
       "\\item 7\n",
       "\\item 8\n",
       "\\end{enumerate*}\n",
       "\n",
       "\\item \\begin{enumerate*}\n",
       "\\item 'A'\n",
       "\\item 'K'\n",
       "\\item 'C'\n",
       "\\end{enumerate*}\n",
       "\n",
       "\\end{enumerate}\n"
      ],
      "text/markdown": [
       "1. 1. 2\n",
       "2. 7\n",
       "3. 8\n",
       "\n",
       "\n",
       "\n",
       "2. 1. 'A'\n",
       "2. 'K'\n",
       "3. 'C'\n",
       "\n",
       "\n",
       "\n",
       "\n",
       "\n"
      ],
      "text/plain": [
       "[[1]]\n",
       "[1] 2 7 8\n",
       "\n",
       "[[2]]\n",
       "[1] \"A\" \"K\" \"C\"\n"
      ]
     },
     "metadata": {},
     "output_type": "display_data"
    }
   ],
   "source": [
    "x[[2]][2] = 'K'\n",
    "\n",
    "x"
   ]
  },
  {
   "cell_type": "code",
   "execution_count": 5,
   "id": "df921f5d-5297-42d4-9b5c-d68a04859fd5",
   "metadata": {},
   "outputs": [
    {
     "data": {
      "text/html": [
       "<ol>\n",
       "\t<li><style>\n",
       ".list-inline {list-style: none; margin:0; padding: 0}\n",
       ".list-inline>li {display: inline-block}\n",
       ".list-inline>li:not(:last-child)::after {content: \"\\00b7\"; padding: 0 .5ex}\n",
       "</style>\n",
       "<ol class=list-inline><li>2</li><li>7</li><li>8</li></ol>\n",
       "</li>\n",
       "\t<li><style>\n",
       ".list-inline {list-style: none; margin:0; padding: 0}\n",
       ".list-inline>li {display: inline-block}\n",
       ".list-inline>li:not(:last-child)::after {content: \"\\00b7\"; padding: 0 .5ex}\n",
       "</style>\n",
       "<ol class=list-inline><li>'A'</li><li>'K'</li><li>'C'</li></ol>\n",
       "</li>\n",
       "\t<li><style>\n",
       ".list-inline {list-style: none; margin:0; padding: 0}\n",
       ".list-inline>li {display: inline-block}\n",
       ".list-inline>li:not(:last-child)::after {content: \"\\00b7\"; padding: 0 .5ex}\n",
       "</style>\n",
       "<ol class=list-inline><li>1</li><li>3</li><li>4</li></ol>\n",
       "</li>\n",
       "</ol>\n"
      ],
      "text/latex": [
       "\\begin{enumerate}\n",
       "\\item \\begin{enumerate*}\n",
       "\\item 2\n",
       "\\item 7\n",
       "\\item 8\n",
       "\\end{enumerate*}\n",
       "\n",
       "\\item \\begin{enumerate*}\n",
       "\\item 'A'\n",
       "\\item 'K'\n",
       "\\item 'C'\n",
       "\\end{enumerate*}\n",
       "\n",
       "\\item \\begin{enumerate*}\n",
       "\\item 1\n",
       "\\item 3\n",
       "\\item 4\n",
       "\\end{enumerate*}\n",
       "\n",
       "\\end{enumerate}\n"
      ],
      "text/markdown": [
       "1. 1. 2\n",
       "2. 7\n",
       "3. 8\n",
       "\n",
       "\n",
       "\n",
       "2. 1. 'A'\n",
       "2. 'K'\n",
       "3. 'C'\n",
       "\n",
       "\n",
       "\n",
       "3. 1. 1\n",
       "2. 3\n",
       "3. 4\n",
       "\n",
       "\n",
       "\n",
       "\n",
       "\n"
      ],
      "text/plain": [
       "[[1]]\n",
       "[1] 2 7 8\n",
       "\n",
       "[[2]]\n",
       "[1] \"A\" \"K\" \"C\"\n",
       "\n",
       "[[3]]\n",
       "[1] 1 3 4\n"
      ]
     },
     "metadata": {},
     "output_type": "display_data"
    }
   ],
   "source": [
    "t = c(1, 3, 4)\n",
    "x = c(x, list(t))\n",
    "\n",
    "x"
   ]
  },
  {
   "cell_type": "code",
   "execution_count": 6,
   "id": "afb628d7-3778-44b5-a570-c9e6e920f4e4",
   "metadata": {},
   "outputs": [],
   "source": [
    "a = list('x'=5, 'y'=10, 'z'=15)"
   ]
  },
  {
   "cell_type": "code",
   "execution_count": 8,
   "id": "1ed3e5d5-b844-4b81-9b20-b6608f3e5694",
   "metadata": {},
   "outputs": [
    {
     "data": {
      "text/html": [
       "30"
      ],
      "text/latex": [
       "30"
      ],
      "text/markdown": [
       "30"
      ],
      "text/plain": [
       "[1] 30"
      ]
     },
     "metadata": {},
     "output_type": "display_data"
    }
   ],
   "source": [
    "sum(unlist(a))"
   ]
  },
  {
   "cell_type": "code",
   "execution_count": 10,
   "id": "70767fdc-76dd-47f5-a219-746fe34d734a",
   "metadata": {},
   "outputs": [
    {
     "data": {
      "text/html": [
       "<dl>\n",
       "\t<dt>$a</dt>\n",
       "\t\t<dd>2</dd>\n",
       "\t<dt>$b</dt>\n",
       "\t\t<dd>'good morning'</dd>\n",
       "\t<dt>$c</dt>\n",
       "\t\t<dd>'hi'</dd>\n",
       "</dl>\n"
      ],
      "text/latex": [
       "\\begin{description}\n",
       "\\item[\\$a] 2\n",
       "\\item[\\$b] 'good morning'\n",
       "\\item[\\$c] 'hi'\n",
       "\\end{description}\n"
      ],
      "text/markdown": [
       "$a\n",
       ":   2\n",
       "$b\n",
       ":   'good morning'\n",
       "$c\n",
       ":   'hi'\n",
       "\n",
       "\n"
      ],
      "text/plain": [
       "$a\n",
       "[1] 2\n",
       "\n",
       "$b\n",
       "[1] \"good morning\"\n",
       "\n",
       "$c\n",
       "[1] \"hi\"\n"
      ]
     },
     "metadata": {},
     "output_type": "display_data"
    }
   ],
   "source": [
    "new_list = list(a=1, b='good morning', c='hi')\n",
    "new_list$a = new_list$a + 1\n",
    "\n",
    "new_list"
   ]
  },
  {
   "cell_type": "code",
   "execution_count": null,
   "id": "a918e5de-03ac-479d-b3eb-77e2923ad254",
   "metadata": {},
   "outputs": [],
   "source": []
  }
 ],
 "metadata": {
  "kernelspec": {
   "display_name": "R",
   "language": "R",
   "name": "ir"
  },
  "language_info": {
   "codemirror_mode": "r",
   "file_extension": ".r",
   "mimetype": "text/x-r-source",
   "name": "R",
   "pygments_lexer": "r",
   "version": "4.1.0"
  }
 },
 "nbformat": 4,
 "nbformat_minor": 5
}
