{
 "cells": [
  {
   "cell_type": "code",
   "execution_count": 1,
   "id": "7dc27f31-9464-46ec-adc3-397b82a65573",
   "metadata": {},
   "outputs": [
    {
     "name": "stdout",
     "output_type": "stream",
     "text": [
      "     [,1] [,2] [,3] [,4]\n",
      "[1,]    1    3    5    7\n",
      "[2,]    9   11   13   15\n"
     ]
    }
   ],
   "source": [
    "m1 = matrix(c(1, 3, 5, 7, 9, 11, 13, 15), nrow=2, byrow=TRUE)\n",
    "print(m1)"
   ]
  },
  {
   "cell_type": "code",
   "execution_count": 2,
   "id": "2bbec090-c64a-4af9-b880-784e7eec908e",
   "metadata": {},
   "outputs": [
    {
     "name": "stdout",
     "output_type": "stream",
     "text": [
      "     [,1] [,2] [,3] [,4]\n",
      "[1,]    0    2    4    6\n",
      "[2,]    8   10   12   14\n"
     ]
    }
   ],
   "source": [
    "m2 = matrix(c(0, 2, 4, 6, 8, 10, 12, 14), nrow=2, byrow=TRUE)\n",
    "print(m2)"
   ]
  },
  {
   "cell_type": "code",
   "execution_count": 3,
   "id": "a5eb7b9f-c063-4e14-8542-40495fbd1f3d",
   "metadata": {},
   "outputs": [
    {
     "name": "stdout",
     "output_type": "stream",
     "text": [
      "     [,1] [,2] [,3] [,4]\n",
      "[1,]    1    5    9   13\n",
      "[2,]   17   21   25   29\n"
     ]
    }
   ],
   "source": [
    "result_add = m1 + m2\n",
    "\n",
    "print(result_add)"
   ]
  },
  {
   "cell_type": "code",
   "execution_count": 4,
   "id": "c81c7025-e25b-4508-903c-42924489e7b6",
   "metadata": {},
   "outputs": [
    {
     "name": "stdout",
     "output_type": "stream",
     "text": [
      "     [,1] [,2] [,3] [,4]\n",
      "[1,]    1    1    1    1\n",
      "[2,]    1    1    1    1\n"
     ]
    }
   ],
   "source": [
    "result_sub = m1 - m2\n",
    "\n",
    "print(result_sub)"
   ]
  },
  {
   "cell_type": "code",
   "execution_count": 5,
   "id": "76b04921-f717-45d7-859d-3faae7759963",
   "metadata": {},
   "outputs": [
    {
     "name": "stdout",
     "output_type": "stream",
     "text": [
      "     [,1] [,2] [,3] [,4]\n",
      "[1,]    0    6   20   42\n",
      "[2,]   72  110  156  210\n"
     ]
    }
   ],
   "source": [
    "result_mul = m1 * m2\n",
    "\n",
    "print(result_mul)"
   ]
  },
  {
   "cell_type": "code",
   "execution_count": 6,
   "id": "370008e8-e246-4f56-9f29-5b124b2fcd7b",
   "metadata": {},
   "outputs": [
    {
     "name": "stdout",
     "output_type": "stream",
     "text": [
      "      [,1] [,2]     [,3]     [,4]\n",
      "[1,]   Inf  1.5 1.250000 1.166667\n",
      "[2,] 1.125  1.1 1.083333 1.071429\n"
     ]
    }
   ],
   "source": [
    "result_div = m1 / m2\n",
    "\n",
    "print(result_div)"
   ]
  },
  {
   "cell_type": "code",
   "execution_count": 7,
   "id": "bc88f2d7-9be4-4949-8729-ecd6848c8fd7",
   "metadata": {},
   "outputs": [
    {
     "name": "stdout",
     "output_type": "stream",
     "text": [
      "     [,1] [,2] [,3] [,4]\n",
      "[1,]    1    4    7   10\n",
      "[2,]    2    5    8   11\n",
      "[3,]    3    6    9   12\n"
     ]
    }
   ],
   "source": [
    "mat1 = matrix(c(1:12), ncol=4)\n",
    "mat2 = matrix(1:8, nrow=4)\n",
    "\n",
    "print(mat1)"
   ]
  },
  {
   "cell_type": "code",
   "execution_count": 8,
   "id": "fdd6082b-5669-4614-b982-384e882d254a",
   "metadata": {},
   "outputs": [
    {
     "name": "stdout",
     "output_type": "stream",
     "text": [
      "     [,1] [,2]\n",
      "[1,]    1    5\n",
      "[2,]    2    6\n",
      "[3,]    3    7\n",
      "[4,]    4    8\n"
     ]
    }
   ],
   "source": [
    "print(mat2)"
   ]
  },
  {
   "cell_type": "code",
   "execution_count": 9,
   "id": "e28dd853-88ea-468a-9e01-ca31373b9dcf",
   "metadata": {},
   "outputs": [
    {
     "name": "stdout",
     "output_type": "stream",
     "text": [
      "     [,1] [,2]\n",
      "[1,]   70  158\n",
      "[2,]   80  184\n",
      "[3,]   90  210\n"
     ]
    }
   ],
   "source": [
    "mat3 = mat1 %*% mat2\n",
    "\n",
    "print(mat3)"
   ]
  },
  {
   "cell_type": "code",
   "execution_count": null,
   "id": "fdf00a26-c72d-4ec7-8a67-290ba28252ed",
   "metadata": {},
   "outputs": [],
   "source": []
  },
  {
   "cell_type": "code",
   "execution_count": 13,
   "id": "9312b854-e048-45d2-a766-d6604b7cb998",
   "metadata": {},
   "outputs": [
    {
     "name": "stdout",
     "output_type": "stream",
     "text": [
      "     [,1] [,2] [,3]\n",
      "[1,]    1    2    3\n",
      "[2,]    4    5    6\n",
      "[3,]    7    8    9\n",
      "[4,]   10   11   12\n"
     ]
    }
   ],
   "source": [
    "m = matrix(1:12, nrow=4, ncol=3, byrow=TRUE)\n",
    "print(m)"
   ]
  },
  {
   "cell_type": "code",
   "execution_count": 14,
   "id": "feab2748-1711-4b7b-8aad-d86bf647a7f7",
   "metadata": {},
   "outputs": [
    {
     "name": "stdout",
     "output_type": "stream",
     "text": [
      "     [,1] [,2] [,3]\n",
      "[1,]    1    5    9\n",
      "[2,]    2    6   10\n",
      "[3,]    3    7   11\n",
      "[4,]    4    8   12\n"
     ]
    }
   ],
   "source": [
    "n = matrix(1:12, nrow=4, byrow=FALSE)\n",
    "print(n)"
   ]
  },
  {
   "cell_type": "code",
   "execution_count": 15,
   "id": "6d6e0da2-813a-4d4a-a090-64021c389382",
   "metadata": {},
   "outputs": [
    {
     "name": "stdout",
     "output_type": "stream",
     "text": [
      "     [,1] [,2] [,3] [,4]\n",
      "[1,]    1    2    3    4\n",
      "[2,]    5    6    7    8\n",
      "[3,]    9   10   11   12\n"
     ]
    }
   ],
   "source": [
    "n = matrix(1:12, ncol=4, byrow=TRUE)\n",
    "print(n)"
   ]
  },
  {
   "cell_type": "code",
   "execution_count": 18,
   "id": "59a28bb2-621c-4e8c-9c4f-d166c79132e0",
   "metadata": {},
   "outputs": [
    {
     "name": "stdout",
     "output_type": "stream",
     "text": [
      "      col_1 col_2 col_3\n",
      "row_1     1     2     3\n",
      "row_2     4     5     6\n",
      "row_3     7     8     9\n",
      "row_4    10    11    12\n"
     ]
    }
   ],
   "source": [
    "row_names = c('row_1', 'row_2', 'row_3', 'row_4')\n",
    "col_names = c('col_1', 'col_2', 'col_3')\n",
    "\n",
    "p = matrix(1:12, nrow=4, byrow=TRUE, dimnames=list(row_names, col_names))\n",
    "print(p)"
   ]
  },
  {
   "cell_type": "code",
   "execution_count": 19,
   "id": "5b5cd5d1-3696-4885-aa2e-7d6ca53a79a2",
   "metadata": {},
   "outputs": [
    {
     "data": {
      "text/html": [
       "3"
      ],
      "text/latex": [
       "3"
      ],
      "text/markdown": [
       "3"
      ],
      "text/plain": [
       "[1] 3"
      ]
     },
     "metadata": {},
     "output_type": "display_data"
    }
   ],
   "source": [
    "p[1, 3]"
   ]
  },
  {
   "cell_type": "code",
   "execution_count": 20,
   "id": "a62c3c26-e73a-48b4-a832-9bd68ad65455",
   "metadata": {},
   "outputs": [
    {
     "data": {
      "text/html": [
       "11"
      ],
      "text/latex": [
       "11"
      ],
      "text/markdown": [
       "11"
      ],
      "text/plain": [
       "[1] 11"
      ]
     },
     "metadata": {},
     "output_type": "display_data"
    }
   ],
   "source": [
    "p[4, 2]"
   ]
  },
  {
   "cell_type": "code",
   "execution_count": 21,
   "id": "c5085fc7-d4aa-4bc8-9ad0-44e580942a82",
   "metadata": {},
   "outputs": [
    {
     "data": {
      "text/html": [
       "<style>\n",
       ".dl-inline {width: auto; margin:0; padding: 0}\n",
       ".dl-inline>dt, .dl-inline>dd {float: none; width: auto; display: inline-block}\n",
       ".dl-inline>dt::after {content: \":\\0020\"; padding-right: .5ex}\n",
       ".dl-inline>dt:not(:first-of-type) {padding-left: .5ex}\n",
       "</style><dl class=dl-inline><dt>col_1</dt><dd>4</dd><dt>col_2</dt><dd>5</dd><dt>col_3</dt><dd>6</dd></dl>\n"
      ],
      "text/latex": [
       "\\begin{description*}\n",
       "\\item[col\\textbackslash{}\\_1] 4\n",
       "\\item[col\\textbackslash{}\\_2] 5\n",
       "\\item[col\\textbackslash{}\\_3] 6\n",
       "\\end{description*}\n"
      ],
      "text/markdown": [
       "col_1\n",
       ":   4col_2\n",
       ":   5col_3\n",
       ":   6\n",
       "\n"
      ],
      "text/plain": [
       "col_1 col_2 col_3 \n",
       "    4     5     6 "
      ]
     },
     "metadata": {},
     "output_type": "display_data"
    }
   ],
   "source": [
    "p[2,]"
   ]
  },
  {
   "cell_type": "code",
   "execution_count": 22,
   "id": "00d4e22b-bc6b-4392-9e8a-cda21696faf4",
   "metadata": {},
   "outputs": [
    {
     "name": "stdout",
     "output_type": "stream",
     "text": [
      "row_1 row_2 row_3 row_4 \n",
      "    3     6     9    12 \n"
     ]
    }
   ],
   "source": [
    "print(p[,3])"
   ]
  },
  {
   "cell_type": "code",
   "execution_count": null,
   "id": "c90efe35-dfc4-4331-a4ec-8a6b8e34815e",
   "metadata": {},
   "outputs": [],
   "source": []
  },
  {
   "cell_type": "code",
   "execution_count": 23,
   "id": "c0b844e0-1939-47cf-b735-23738a45e7f0",
   "metadata": {},
   "outputs": [
    {
     "name": "stdout",
     "output_type": "stream",
     "text": [
      "     [,1]\n",
      "[1,]   30\n",
      "[2,]   36\n",
      "[3,]   42\n"
     ]
    }
   ],
   "source": [
    "vec = 1:3\n",
    "mat = matrix(1:9, ncol=3)\n",
    "\n",
    "new_vec = mat %*% vec\n",
    "\n",
    "print(new_vec)"
   ]
  },
  {
   "cell_type": "markdown",
   "id": "cdc6acb9-5166-46ed-bf5e-f208377d9da9",
   "metadata": {},
   "source": [
    "# Array"
   ]
  },
  {
   "cell_type": "code",
   "execution_count": 24,
   "id": "500b4816-2c36-40c9-a24c-66252602469f",
   "metadata": {},
   "outputs": [
    {
     "name": "stdout",
     "output_type": "stream",
     "text": [
      ", , 1\n",
      "\n",
      "     [,1] [,2]\n",
      "[1,]    1    4\n",
      "[2,]    2    5\n",
      "[3,]    3    6\n",
      "\n",
      ", , 2\n",
      "\n",
      "     [,1] [,2]\n",
      "[1,]    1    4\n",
      "[2,]    2    5\n",
      "[3,]    3    6\n",
      "\n"
     ]
    }
   ],
   "source": [
    "arr1 = array(1:6, dim=c(3, 2, 2))\n",
    "\n",
    "print(arr1)"
   ]
  },
  {
   "cell_type": "code",
   "execution_count": 25,
   "id": "c7867206-dc2d-4298-9fd4-8211b5ca9194",
   "metadata": {},
   "outputs": [
    {
     "name": "stdout",
     "output_type": "stream",
     "text": [
      ", , 1\n",
      "\n",
      "     [,1] [,2] [,3] [,4]\n",
      "[1,]    1    4    7   10\n",
      "[2,]    2    5    8   11\n",
      "[3,]    3    6    9   12\n",
      "\n",
      ", , 2\n",
      "\n",
      "     [,1] [,2] [,3] [,4]\n",
      "[1,]   13    1    4    7\n",
      "[2,]   14    2    5    8\n",
      "[3,]   15    3    6    9\n",
      "\n"
     ]
    }
   ],
   "source": [
    "arr2 = array(c(1:6, 7:15), dim=c(3, 4, 2))\n",
    "\n",
    "print(arr2)"
   ]
  },
  {
   "cell_type": "code",
   "execution_count": null,
   "id": "2608eb51-9189-4fa1-86e7-01f5e4d27b6e",
   "metadata": {},
   "outputs": [],
   "source": []
  },
  {
   "cell_type": "code",
   "execution_count": 28,
   "id": "59fbe951-e0fa-4f8a-a899-cc08d227ec56",
   "metadata": {},
   "outputs": [
    {
     "name": "stdout",
     "output_type": "stream",
     "text": [
      ", , mat_1\n",
      "\n",
      "      col_1 col_2 col_3 col_4\n",
      "row_1     1     4     7    10\n",
      "row_2     2     5     8    11\n",
      "row_3     3     6     9    12\n",
      "\n",
      ", , mat_2\n",
      "\n",
      "      col_1 col_2 col_3 col_4\n",
      "row_1    13     1     4     7\n",
      "row_2    14     2     5     8\n",
      "row_3    15     3     6     9\n",
      "\n"
     ]
    }
   ],
   "source": [
    "row_names = c('row_1', 'row_2', 'row_3')\n",
    "col_names = c('col_1', 'col_2', 'col_3', 'col_4')\n",
    "mat_names = c('mat_1', 'mat_2')\n",
    "\n",
    "arr3 = array(c(1:6, 7:15), dim=c(3, 4, 2), dimnames=list(row_names, col_names, mat_names))\n",
    "print(arr3)"
   ]
  },
  {
   "cell_type": "code",
   "execution_count": 29,
   "id": "de1b5c36-5910-4c74-8350-53d6294ce62e",
   "metadata": {},
   "outputs": [
    {
     "name": "stdout",
     "output_type": "stream",
     "text": [
      "[1] 6\n"
     ]
    }
   ],
   "source": [
    "print(arr3[3, 2, 1])"
   ]
  },
  {
   "cell_type": "code",
   "execution_count": 30,
   "id": "3e1dd89c-b02a-4c1d-aa29-4dbb6549ae6c",
   "metadata": {},
   "outputs": [
    {
     "name": "stdout",
     "output_type": "stream",
     "text": [
      "col_1 col_2 col_3 col_4 \n",
      "   13     1     4     7 \n"
     ]
    }
   ],
   "source": [
    "print(arr3[1,,2])"
   ]
  },
  {
   "cell_type": "code",
   "execution_count": 31,
   "id": "cbee88d3-4d7b-42ee-bc72-aa96e661fdb6",
   "metadata": {},
   "outputs": [
    {
     "name": "stdout",
     "output_type": "stream",
     "text": [
      "row_1 row_2 row_3 \n",
      "    7     8     9 \n"
     ]
    }
   ],
   "source": [
    "print(arr3[,3,1])"
   ]
  },
  {
   "cell_type": "code",
   "execution_count": 32,
   "id": "91757a70-c568-41a3-97f6-1cc2e3d8878e",
   "metadata": {},
   "outputs": [
    {
     "name": "stdout",
     "output_type": "stream",
     "text": [
      "      col_1 col_2 col_3 col_4\n",
      "row_1    13     1     4     7\n",
      "row_2    14     2     5     8\n",
      "row_3    15     3     6     9\n"
     ]
    }
   ],
   "source": [
    "print(arr3[,,2])"
   ]
  },
  {
   "cell_type": "code",
   "execution_count": 33,
   "id": "0ef0f238-4007-4d3c-bf93-84256e99e8e0",
   "metadata": {},
   "outputs": [
    {
     "name": "stdout",
     "output_type": "stream",
     "text": [
      "row_1 row_2 row_3 \n",
      "   47    55    63 \n"
     ]
    }
   ],
   "source": [
    "print(apply(arr3, c(1), sum))"
   ]
  },
  {
   "cell_type": "code",
   "execution_count": 34,
   "id": "4f1d3bbc-fd65-4640-b0ae-648006315bb5",
   "metadata": {},
   "outputs": [
    {
     "name": "stdout",
     "output_type": "stream",
     "text": [
      "col_1 col_2 col_3 col_4 \n",
      "    1     1     4     7 \n"
     ]
    }
   ],
   "source": [
    "print(apply(arr3, c(2), min))"
   ]
  },
  {
   "cell_type": "code",
   "execution_count": 35,
   "id": "f579940a-fc03-4f0a-b636-e19bf2ad8cc9",
   "metadata": {},
   "outputs": [
    {
     "name": "stdout",
     "output_type": "stream",
     "text": [
      "mat_1 mat_2 \n",
      " 6.50  7.25 \n"
     ]
    }
   ],
   "source": [
    "print(apply(arr3, c(3), mean))"
   ]
  },
  {
   "cell_type": "markdown",
   "id": "1868529a-2850-4b64-8f47-520aa996cfe0",
   "metadata": {},
   "source": [
    "# 3. List\n",
    "## 3.1. Tạo `list`"
   ]
  },
  {
   "cell_type": "code",
   "execution_count": 1,
   "id": "5c7c677e-0359-4f9c-9b3d-100a8f69df5c",
   "metadata": {},
   "outputs": [
    {
     "data": {
      "text/html": [
       "<ol>\n",
       "\t<li>'hello'</li>\n",
       "\t<li>'R'</li>\n",
       "\t<li>12</li>\n",
       "\t<li>25.5</li>\n",
       "\t<li><style>\n",
       ".list-inline {list-style: none; margin:0; padding: 0}\n",
       ".list-inline>li {display: inline-block}\n",
       ".list-inline>li:not(:last-child)::after {content: \"\\00b7\"; padding: 0 .5ex}\n",
       "</style>\n",
       "<ol class=list-inline><li>21</li><li>32</li><li>11</li></ol>\n",
       "</li>\n",
       "\t<li>TRUE</li>\n",
       "</ol>\n"
      ],
      "text/latex": [
       "\\begin{enumerate}\n",
       "\\item 'hello'\n",
       "\\item 'R'\n",
       "\\item 12\n",
       "\\item 25.5\n",
       "\\item \\begin{enumerate*}\n",
       "\\item 21\n",
       "\\item 32\n",
       "\\item 11\n",
       "\\end{enumerate*}\n",
       "\n",
       "\\item TRUE\n",
       "\\end{enumerate}\n"
      ],
      "text/markdown": [
       "1. 'hello'\n",
       "2. 'R'\n",
       "3. 12\n",
       "4. 25.5\n",
       "5. 1. 21\n",
       "2. 32\n",
       "3. 11\n",
       "\n",
       "\n",
       "\n",
       "6. TRUE\n",
       "\n",
       "\n"
      ],
      "text/plain": [
       "[[1]]\n",
       "[1] \"hello\"\n",
       "\n",
       "[[2]]\n",
       "[1] \"R\"\n",
       "\n",
       "[[3]]\n",
       "[1] 12\n",
       "\n",
       "[[4]]\n",
       "[1] 25.5\n",
       "\n",
       "[[5]]\n",
       "[1] 21 32 11\n",
       "\n",
       "[[6]]\n",
       "[1] TRUE\n"
      ]
     },
     "metadata": {},
     "output_type": "display_data"
    }
   ],
   "source": [
    "list_data = list('hello', 'R', 12, 25.5, c(21, 32, 11), TRUE)\n",
    "\n",
    "list_data"
   ]
  },
  {
   "cell_type": "markdown",
   "id": "44495c72-2eae-4da9-8d0c-60a461844033",
   "metadata": {},
   "source": [
    "## 3.2. Đặt tên cho các phần tử trong `list`"
   ]
  },
  {
   "cell_type": "code",
   "execution_count": 2,
   "id": "3254c06c-bad0-46dc-9ede-a2775dc73f0f",
   "metadata": {},
   "outputs": [
    {
     "data": {
      "text/html": [
       "<dl>\n",
       "\t<dt>$traffic_light</dt>\n",
       "\t\t<dd><style>\n",
       ".list-inline {list-style: none; margin:0; padding: 0}\n",
       ".list-inline>li {display: inline-block}\n",
       ".list-inline>li:not(:last-child)::after {content: \"\\00b7\"; padding: 0 .5ex}\n",
       "</style>\n",
       "<ol class=list-inline><li>'Red'</li><li>'Green'</li><li>'Yellow'</li></ol>\n",
       "</dd>\n",
       "\t<dt>$a_matrix</dt>\n",
       "\t\t<dd><table class=\"dataframe\">\n",
       "<caption>A matrix: 2 × 4 of type int</caption>\n",
       "<tbody>\n",
       "\t<tr><td>1</td><td>3</td><td>5</td><td>7</td></tr>\n",
       "\t<tr><td>2</td><td>4</td><td>6</td><td>8</td></tr>\n",
       "</tbody>\n",
       "</table>\n",
       "</dd>\n",
       "\t<dt>$a_inner_list</dt>\n",
       "\t\t<dd><ol>\n",
       "\t<li>'green'</li>\n",
       "\t<li>'TRUE'</li>\n",
       "\t<li>12.5</li>\n",
       "</ol>\n",
       "</dd>\n",
       "\t<dt>$pass</dt>\n",
       "\t\t<dd>TRUE</dd>\n",
       "</dl>\n"
      ],
      "text/latex": [
       "\\begin{description}\n",
       "\\item[\\$traffic\\_light] \\begin{enumerate*}\n",
       "\\item 'Red'\n",
       "\\item 'Green'\n",
       "\\item 'Yellow'\n",
       "\\end{enumerate*}\n",
       "\n",
       "\\item[\\$a\\_matrix] A matrix: 2 × 4 of type int\n",
       "\\begin{tabular}{llll}\n",
       "\t 1 & 3 & 5 & 7\\\\\n",
       "\t 2 & 4 & 6 & 8\\\\\n",
       "\\end{tabular}\n",
       "\n",
       "\\item[\\$a\\_inner\\_list] \\begin{enumerate}\n",
       "\\item 'green'\n",
       "\\item 'TRUE'\n",
       "\\item 12.5\n",
       "\\end{enumerate}\n",
       "\n",
       "\\item[\\$pass] TRUE\n",
       "\\end{description}\n"
      ],
      "text/markdown": [
       "$traffic_light\n",
       ":   1. 'Red'\n",
       "2. 'Green'\n",
       "3. 'Yellow'\n",
       "\n",
       "\n",
       "\n",
       "$a_matrix\n",
       ":   \n",
       "A matrix: 2 × 4 of type int\n",
       "\n",
       "| 1 | 3 | 5 | 7 |\n",
       "| 2 | 4 | 6 | 8 |\n",
       "\n",
       "\n",
       "$a_inner_list\n",
       ":   1. 'green'\n",
       "2. 'TRUE'\n",
       "3. 12.5\n",
       "\n",
       "\n",
       "\n",
       "$pass\n",
       ":   TRUE\n",
       "\n",
       "\n"
      ],
      "text/plain": [
       "$traffic_light\n",
       "[1] \"Red\"    \"Green\"  \"Yellow\"\n",
       "\n",
       "$a_matrix\n",
       "     [,1] [,2] [,3] [,4]\n",
       "[1,]    1    3    5    7\n",
       "[2,]    2    4    6    8\n",
       "\n",
       "$a_inner_list\n",
       "$a_inner_list[[1]]\n",
       "[1] \"green\"\n",
       "\n",
       "$a_inner_list[[2]]\n",
       "[1] \"TRUE\"\n",
       "\n",
       "$a_inner_list[[3]]\n",
       "[1] 12.5\n",
       "\n",
       "\n",
       "$pass\n",
       "[1] TRUE\n"
      ]
     },
     "metadata": {},
     "output_type": "display_data"
    }
   ],
   "source": [
    "list_1 = list(c('Red', 'Green', 'Yellow'), \n",
    "              matrix(1:8, nrow=2), \n",
    "              list('green', 'TRUE', 12.5), \n",
    "              TRUE)\n",
    "names(list_1) = c('traffic_light', 'a_matrix', 'a_inner_list', 'pass')\n",
    "\n",
    "list_1"
   ]
  },
  {
   "cell_type": "code",
   "execution_count": null,
   "id": "43719dad-7a24-41d6-8d88-ae6bb9398618",
   "metadata": {},
   "outputs": [],
   "source": []
  },
  {
   "cell_type": "code",
   "execution_count": 4,
   "id": "ec233ae4-26ca-4754-88ca-7a42244eec3b",
   "metadata": {},
   "outputs": [
    {
     "data": {
      "text/html": [
       "<dl>\n",
       "\t<dt>$element_1</dt>\n",
       "\t\t<dd><style>\n",
       ".list-inline {list-style: none; margin:0; padding: 0}\n",
       ".list-inline>li {display: inline-block}\n",
       ".list-inline>li:not(:last-child)::after {content: \"\\00b7\"; padding: 0 .5ex}\n",
       "</style>\n",
       "<ol class=list-inline><li>1</li><li>2</li><li>3</li></ol>\n",
       "</dd>\n",
       "\t<dt>$element_2</dt>\n",
       "\t\t<dd>TRUE</dd>\n",
       "</dl>\n"
      ],
      "text/latex": [
       "\\begin{description}\n",
       "\\item[\\$element\\_1] \\begin{enumerate*}\n",
       "\\item 1\n",
       "\\item 2\n",
       "\\item 3\n",
       "\\end{enumerate*}\n",
       "\n",
       "\\item[\\$element\\_2] TRUE\n",
       "\\end{description}\n"
      ],
      "text/markdown": [
       "$element_1\n",
       ":   1. 1\n",
       "2. 2\n",
       "3. 3\n",
       "\n",
       "\n",
       "\n",
       "$element_2\n",
       ":   TRUE\n",
       "\n",
       "\n"
      ],
      "text/plain": [
       "$element_1\n",
       "[1] 1 2 3\n",
       "\n",
       "$element_2\n",
       "[1] TRUE\n"
      ]
     },
     "metadata": {},
     "output_type": "display_data"
    }
   ],
   "source": [
    "list_2 = list('element_1'=c(1, 2, 3), 'element_2'=TRUE)\n",
    "list_2"
   ]
  },
  {
   "cell_type": "markdown",
   "id": "f44981a9-7b75-4307-958d-a3f94a9efc9d",
   "metadata": {},
   "source": [
    "## 3.3. Truy xuất phần tử trong `list`"
   ]
  },
  {
   "cell_type": "code",
   "execution_count": 8,
   "id": "222941ce-2d4e-4bbe-ae89-44daa11d9c0e",
   "metadata": {},
   "outputs": [],
   "source": [
    "list_1 = list(c('Red', 'Green', 'Yellow'), \n",
    "              matrix(1:8, nrow=2), \n",
    "              list('green', 'TRUE', 12.5), \n",
    "              TRUE)\n",
    "names(list_1) = c('traffic_light', 'a_matrix', 'a_inner_list', 'pass')"
   ]
  },
  {
   "cell_type": "code",
   "execution_count": 9,
   "id": "3f72cd5c-3a75-427e-a5e7-102d8594b00f",
   "metadata": {},
   "outputs": [
    {
     "data": {
      "text/html": [
       "<strong>$traffic_light</strong> = <style>\n",
       ".list-inline {list-style: none; margin:0; padding: 0}\n",
       ".list-inline>li {display: inline-block}\n",
       ".list-inline>li:not(:last-child)::after {content: \"\\00b7\"; padding: 0 .5ex}\n",
       "</style>\n",
       "<ol class=list-inline><li>'Red'</li><li>'Green'</li><li>'Yellow'</li></ol>\n"
      ],
      "text/latex": [
       "\\textbf{\\$traffic\\_light} = \\begin{enumerate*}\n",
       "\\item 'Red'\n",
       "\\item 'Green'\n",
       "\\item 'Yellow'\n",
       "\\end{enumerate*}\n"
      ],
      "text/markdown": [
       "**$traffic_light** = 1. 'Red'\n",
       "2. 'Green'\n",
       "3. 'Yellow'\n",
       "\n",
       "\n"
      ],
      "text/plain": [
       "$traffic_light\n",
       "[1] \"Red\"    \"Green\"  \"Yellow\"\n"
      ]
     },
     "metadata": {},
     "output_type": "display_data"
    }
   ],
   "source": [
    "list_1[1]"
   ]
  },
  {
   "cell_type": "code",
   "execution_count": 11,
   "id": "6d85fcb7-9624-4461-9205-6aec2376382a",
   "metadata": {},
   "outputs": [
    {
     "data": {
      "text/html": [
       "<table class=\"dataframe\">\n",
       "<caption>A matrix: 2 × 4 of type int</caption>\n",
       "<tbody>\n",
       "\t<tr><td>1</td><td>3</td><td>5</td><td>7</td></tr>\n",
       "\t<tr><td>2</td><td>4</td><td>6</td><td>8</td></tr>\n",
       "</tbody>\n",
       "</table>\n"
      ],
      "text/latex": [
       "A matrix: 2 × 4 of type int\n",
       "\\begin{tabular}{llll}\n",
       "\t 1 & 3 & 5 & 7\\\\\n",
       "\t 2 & 4 & 6 & 8\\\\\n",
       "\\end{tabular}\n"
      ],
      "text/markdown": [
       "\n",
       "A matrix: 2 × 4 of type int\n",
       "\n",
       "| 1 | 3 | 5 | 7 |\n",
       "| 2 | 4 | 6 | 8 |\n",
       "\n"
      ],
      "text/plain": [
       "     [,1] [,2] [,3] [,4]\n",
       "[1,] 1    3    5    7   \n",
       "[2,] 2    4    6    8   "
      ]
     },
     "metadata": {},
     "output_type": "display_data"
    }
   ],
   "source": [
    "list_1$a_matrix"
   ]
  },
  {
   "cell_type": "code",
   "execution_count": 12,
   "id": "aec8118d-21fe-4111-b044-d7938c5f3a6e",
   "metadata": {},
   "outputs": [
    {
     "data": {
      "text/html": [
       "<strong>$a_inner_list</strong> = <ol>\n",
       "\t<li>'green'</li>\n",
       "\t<li>'TRUE'</li>\n",
       "\t<li>12.5</li>\n",
       "</ol>\n"
      ],
      "text/latex": [
       "\\textbf{\\$a\\_inner\\_list} = \\begin{enumerate}\n",
       "\\item 'green'\n",
       "\\item 'TRUE'\n",
       "\\item 12.5\n",
       "\\end{enumerate}\n"
      ],
      "text/markdown": [
       "**$a_inner_list** = 1. 'green'\n",
       "2. 'TRUE'\n",
       "3. 12.5\n",
       "\n",
       "\n"
      ],
      "text/plain": [
       "$a_inner_list\n",
       "$a_inner_list[[1]]\n",
       "[1] \"green\"\n",
       "\n",
       "$a_inner_list[[2]]\n",
       "[1] \"TRUE\"\n",
       "\n",
       "$a_inner_list[[3]]\n",
       "[1] 12.5\n",
       "\n"
      ]
     },
     "metadata": {},
     "output_type": "display_data"
    }
   ],
   "source": [
    "list_1['a_inner_list']"
   ]
  },
  {
   "cell_type": "markdown",
   "id": "961472ae-214e-49f2-8679-f94602dbfb6f",
   "metadata": {},
   "source": [
    "## 3.4. Thao tác trên `list`\n",
    "### 3.4.1. Thêm phần tử vào cuối `list`"
   ]
  },
  {
   "cell_type": "code",
   "execution_count": 14,
   "id": "c89aaf32-3e05-49bb-87cf-bf46f0420292",
   "metadata": {},
   "outputs": [
    {
     "data": {
      "text/html": [
       "<ol>\n",
       "\t<li>'new element'</li>\n",
       "</ol>\n"
      ],
      "text/latex": [
       "\\begin{enumerate}\n",
       "\\item 'new element'\n",
       "\\end{enumerate}\n"
      ],
      "text/markdown": [
       "1. 'new element'\n",
       "\n",
       "\n"
      ],
      "text/plain": [
       "[[1]]\n",
       "[1] \"new element\"\n"
      ]
     },
     "metadata": {},
     "output_type": "display_data"
    }
   ],
   "source": [
    "list_1 = list(c('Red', 'Green', 'Yellow'), \n",
    "              matrix(1:8, nrow=2), \n",
    "              list('green', 'TRUE', 12.5), \n",
    "              TRUE)\n",
    "names(list_1) = c('traffic_light', 'a_matrix', 'a_inner_list', 'pass')\n",
    "\n",
    "list_1[length(list_1) + 1] = \"new element\" # thêm phần tử mới vào\n",
    "\n",
    "list_1[length(list_1)]"
   ]
  },
  {
   "cell_type": "code",
   "execution_count": 15,
   "id": "d4ccc0ac-4c00-4550-b9b9-af827c456cec",
   "metadata": {},
   "outputs": [
    {
     "data": {
      "text/html": [
       "<dl>\n",
       "\t<dt>$traffic_light</dt>\n",
       "\t\t<dd><style>\n",
       ".list-inline {list-style: none; margin:0; padding: 0}\n",
       ".list-inline>li {display: inline-block}\n",
       ".list-inline>li:not(:last-child)::after {content: \"\\00b7\"; padding: 0 .5ex}\n",
       "</style>\n",
       "<ol class=list-inline><li>'Red'</li><li>'Green'</li><li>'Yellow'</li></ol>\n",
       "</dd>\n",
       "\t<dt>$a_matrix</dt>\n",
       "\t\t<dd><table class=\"dataframe\">\n",
       "<caption>A matrix: 2 × 4 of type int</caption>\n",
       "<tbody>\n",
       "\t<tr><td>1</td><td>3</td><td>5</td><td>7</td></tr>\n",
       "\t<tr><td>2</td><td>4</td><td>6</td><td>8</td></tr>\n",
       "</tbody>\n",
       "</table>\n",
       "</dd>\n",
       "\t<dt>$a_inner_list</dt>\n",
       "\t\t<dd><ol>\n",
       "\t<li>'green'</li>\n",
       "\t<li>'TRUE'</li>\n",
       "\t<li>12.5</li>\n",
       "</ol>\n",
       "</dd>\n",
       "\t<dt>$pass</dt>\n",
       "\t\t<dd>TRUE</dd>\n",
       "\t<dt>[[5]]</dt>\n",
       "\t\t<dd>'new element'</dd>\n",
       "\t<dt>$another_element</dt>\n",
       "\t\t<dd>'another element'</dd>\n",
       "</dl>\n"
      ],
      "text/latex": [
       "\\begin{description}\n",
       "\\item[\\$traffic\\_light] \\begin{enumerate*}\n",
       "\\item 'Red'\n",
       "\\item 'Green'\n",
       "\\item 'Yellow'\n",
       "\\end{enumerate*}\n",
       "\n",
       "\\item[\\$a\\_matrix] A matrix: 2 × 4 of type int\n",
       "\\begin{tabular}{llll}\n",
       "\t 1 & 3 & 5 & 7\\\\\n",
       "\t 2 & 4 & 6 & 8\\\\\n",
       "\\end{tabular}\n",
       "\n",
       "\\item[\\$a\\_inner\\_list] \\begin{enumerate}\n",
       "\\item 'green'\n",
       "\\item 'TRUE'\n",
       "\\item 12.5\n",
       "\\end{enumerate}\n",
       "\n",
       "\\item[\\$pass] TRUE\n",
       "\\item[{[[5]]}] 'new element'\n",
       "\\item[\\$another\\_element] 'another element'\n",
       "\\end{description}\n"
      ],
      "text/markdown": [
       "$traffic_light\n",
       ":   1. 'Red'\n",
       "2. 'Green'\n",
       "3. 'Yellow'\n",
       "\n",
       "\n",
       "\n",
       "$a_matrix\n",
       ":   \n",
       "A matrix: 2 × 4 of type int\n",
       "\n",
       "| 1 | 3 | 5 | 7 |\n",
       "| 2 | 4 | 6 | 8 |\n",
       "\n",
       "\n",
       "$a_inner_list\n",
       ":   1. 'green'\n",
       "2. 'TRUE'\n",
       "3. 12.5\n",
       "\n",
       "\n",
       "\n",
       "$pass\n",
       ":   TRUE\n",
       "[[5]]\n",
       ":   'new element'\n",
       "$another_element\n",
       ":   'another element'\n",
       "\n",
       "\n"
      ],
      "text/plain": [
       "$traffic_light\n",
       "[1] \"Red\"    \"Green\"  \"Yellow\"\n",
       "\n",
       "$a_matrix\n",
       "     [,1] [,2] [,3] [,4]\n",
       "[1,]    1    3    5    7\n",
       "[2,]    2    4    6    8\n",
       "\n",
       "$a_inner_list\n",
       "$a_inner_list[[1]]\n",
       "[1] \"green\"\n",
       "\n",
       "$a_inner_list[[2]]\n",
       "[1] \"TRUE\"\n",
       "\n",
       "$a_inner_list[[3]]\n",
       "[1] 12.5\n",
       "\n",
       "\n",
       "$pass\n",
       "[1] TRUE\n",
       "\n",
       "[[5]]\n",
       "[1] \"new element\"\n",
       "\n",
       "$another_element\n",
       "[1] \"another element\"\n"
      ]
     },
     "metadata": {},
     "output_type": "display_data"
    }
   ],
   "source": [
    "list_1$another_element = \"another element\"\n",
    "\n",
    "list_1"
   ]
  },
  {
   "cell_type": "markdown",
   "id": "9c90cb50-c45d-42d8-b42e-1715f0111413",
   "metadata": {},
   "source": [
    "### 3.4.2. Xóa phần tử cuối `list`"
   ]
  },
  {
   "cell_type": "code",
   "execution_count": 16,
   "id": "3d55fcd7-7710-44b6-882b-26fcf07ece38",
   "metadata": {},
   "outputs": [
    {
     "data": {
      "text/html": [
       "<dl>\n",
       "\t<dt>$traffic_light</dt>\n",
       "\t\t<dd><style>\n",
       ".list-inline {list-style: none; margin:0; padding: 0}\n",
       ".list-inline>li {display: inline-block}\n",
       ".list-inline>li:not(:last-child)::after {content: \"\\00b7\"; padding: 0 .5ex}\n",
       "</style>\n",
       "<ol class=list-inline><li>'Red'</li><li>'Green'</li><li>'Yellow'</li></ol>\n",
       "</dd>\n",
       "\t<dt>$a_matrix</dt>\n",
       "\t\t<dd><table class=\"dataframe\">\n",
       "<caption>A matrix: 2 × 4 of type int</caption>\n",
       "<tbody>\n",
       "\t<tr><td>1</td><td>3</td><td>5</td><td>7</td></tr>\n",
       "\t<tr><td>2</td><td>4</td><td>6</td><td>8</td></tr>\n",
       "</tbody>\n",
       "</table>\n",
       "</dd>\n",
       "\t<dt>$a_inner_list</dt>\n",
       "\t\t<dd><ol>\n",
       "\t<li>'green'</li>\n",
       "\t<li>'TRUE'</li>\n",
       "\t<li>12.5</li>\n",
       "</ol>\n",
       "</dd>\n",
       "</dl>\n"
      ],
      "text/latex": [
       "\\begin{description}\n",
       "\\item[\\$traffic\\_light] \\begin{enumerate*}\n",
       "\\item 'Red'\n",
       "\\item 'Green'\n",
       "\\item 'Yellow'\n",
       "\\end{enumerate*}\n",
       "\n",
       "\\item[\\$a\\_matrix] A matrix: 2 × 4 of type int\n",
       "\\begin{tabular}{llll}\n",
       "\t 1 & 3 & 5 & 7\\\\\n",
       "\t 2 & 4 & 6 & 8\\\\\n",
       "\\end{tabular}\n",
       "\n",
       "\\item[\\$a\\_inner\\_list] \\begin{enumerate}\n",
       "\\item 'green'\n",
       "\\item 'TRUE'\n",
       "\\item 12.5\n",
       "\\end{enumerate}\n",
       "\n",
       "\\end{description}\n"
      ],
      "text/markdown": [
       "$traffic_light\n",
       ":   1. 'Red'\n",
       "2. 'Green'\n",
       "3. 'Yellow'\n",
       "\n",
       "\n",
       "\n",
       "$a_matrix\n",
       ":   \n",
       "A matrix: 2 × 4 of type int\n",
       "\n",
       "| 1 | 3 | 5 | 7 |\n",
       "| 2 | 4 | 6 | 8 |\n",
       "\n",
       "\n",
       "$a_inner_list\n",
       ":   1. 'green'\n",
       "2. 'TRUE'\n",
       "3. 12.5\n",
       "\n",
       "\n",
       "\n",
       "\n",
       "\n"
      ],
      "text/plain": [
       "$traffic_light\n",
       "[1] \"Red\"    \"Green\"  \"Yellow\"\n",
       "\n",
       "$a_matrix\n",
       "     [,1] [,2] [,3] [,4]\n",
       "[1,]    1    3    5    7\n",
       "[2,]    2    4    6    8\n",
       "\n",
       "$a_inner_list\n",
       "$a_inner_list[[1]]\n",
       "[1] \"green\"\n",
       "\n",
       "$a_inner_list[[2]]\n",
       "[1] \"TRUE\"\n",
       "\n",
       "$a_inner_list[[3]]\n",
       "[1] 12.5\n",
       "\n"
      ]
     },
     "metadata": {},
     "output_type": "display_data"
    }
   ],
   "source": [
    "list_1 = list(c('Red', 'Green', 'Yellow'), \n",
    "              matrix(1:8, nrow=2), \n",
    "              list('green', 'TRUE', 12.5), \n",
    "              TRUE)\n",
    "names(list_1) = c('traffic_light', 'a_matrix', 'a_inner_list', 'pass')\n",
    "\n",
    "list_1[length(list_1)] = NULL\n",
    "\n",
    "list_1"
   ]
  },
  {
   "cell_type": "code",
   "execution_count": 17,
   "id": "4196139c-bd47-493b-858b-f719fccdd199",
   "metadata": {},
   "outputs": [
    {
     "data": {
      "text/html": [
       "<dl>\n",
       "\t<dt>$traffic_light</dt>\n",
       "\t\t<dd><style>\n",
       ".list-inline {list-style: none; margin:0; padding: 0}\n",
       ".list-inline>li {display: inline-block}\n",
       ".list-inline>li:not(:last-child)::after {content: \"\\00b7\"; padding: 0 .5ex}\n",
       "</style>\n",
       "<ol class=list-inline><li>'Red'</li><li>'Green'</li><li>'Yellow'</li></ol>\n",
       "</dd>\n",
       "\t<dt>$a_inner_list</dt>\n",
       "\t\t<dd><ol>\n",
       "\t<li>'green'</li>\n",
       "\t<li>'TRUE'</li>\n",
       "\t<li>12.5</li>\n",
       "</ol>\n",
       "</dd>\n",
       "</dl>\n"
      ],
      "text/latex": [
       "\\begin{description}\n",
       "\\item[\\$traffic\\_light] \\begin{enumerate*}\n",
       "\\item 'Red'\n",
       "\\item 'Green'\n",
       "\\item 'Yellow'\n",
       "\\end{enumerate*}\n",
       "\n",
       "\\item[\\$a\\_inner\\_list] \\begin{enumerate}\n",
       "\\item 'green'\n",
       "\\item 'TRUE'\n",
       "\\item 12.5\n",
       "\\end{enumerate}\n",
       "\n",
       "\\end{description}\n"
      ],
      "text/markdown": [
       "$traffic_light\n",
       ":   1. 'Red'\n",
       "2. 'Green'\n",
       "3. 'Yellow'\n",
       "\n",
       "\n",
       "\n",
       "$a_inner_list\n",
       ":   1. 'green'\n",
       "2. 'TRUE'\n",
       "3. 12.5\n",
       "\n",
       "\n",
       "\n",
       "\n",
       "\n"
      ],
      "text/plain": [
       "$traffic_light\n",
       "[1] \"Red\"    \"Green\"  \"Yellow\"\n",
       "\n",
       "$a_inner_list\n",
       "$a_inner_list[[1]]\n",
       "[1] \"green\"\n",
       "\n",
       "$a_inner_list[[2]]\n",
       "[1] \"TRUE\"\n",
       "\n",
       "$a_inner_list[[3]]\n",
       "[1] 12.5\n",
       "\n"
      ]
     },
     "metadata": {},
     "output_type": "display_data"
    }
   ],
   "source": [
    "list_1 = list_1[c(-2)]\n",
    "\n",
    "list_1"
   ]
  },
  {
   "cell_type": "code",
   "execution_count": 18,
   "id": "ed49d165-cc2f-445c-bce2-0b94a66170f5",
   "metadata": {},
   "outputs": [
    {
     "data": {
      "text/html": [
       "<strong>$traffic_light</strong> = <style>\n",
       ".list-inline {list-style: none; margin:0; padding: 0}\n",
       ".list-inline>li {display: inline-block}\n",
       ".list-inline>li:not(:last-child)::after {content: \"\\00b7\"; padding: 0 .5ex}\n",
       "</style>\n",
       "<ol class=list-inline><li>'Red'</li><li>'Green'</li><li>'Yellow'</li></ol>\n"
      ],
      "text/latex": [
       "\\textbf{\\$traffic\\_light} = \\begin{enumerate*}\n",
       "\\item 'Red'\n",
       "\\item 'Green'\n",
       "\\item 'Yellow'\n",
       "\\end{enumerate*}\n"
      ],
      "text/markdown": [
       "**$traffic_light** = 1. 'Red'\n",
       "2. 'Green'\n",
       "3. 'Yellow'\n",
       "\n",
       "\n"
      ],
      "text/plain": [
       "$traffic_light\n",
       "[1] \"Red\"    \"Green\"  \"Yellow\"\n"
      ]
     },
     "metadata": {},
     "output_type": "display_data"
    }
   ],
   "source": [
    "list_1 = list_1[-2]\n",
    "\n",
    "list_1"
   ]
  },
  {
   "cell_type": "markdown",
   "id": "19e7b074-b964-43a7-a3be-b0f610ee56b0",
   "metadata": {},
   "source": [
    "### 3.4.3.Update phần tử trong `list`"
   ]
  },
  {
   "cell_type": "code",
   "execution_count": 19,
   "id": "95b45d14-428b-4a2c-8faf-197f2edf0315",
   "metadata": {},
   "outputs": [
    {
     "data": {
      "text/html": [
       "<dl>\n",
       "\t<dt>$traffic_light</dt>\n",
       "\t\t<dd><style>\n",
       ".list-inline {list-style: none; margin:0; padding: 0}\n",
       ".list-inline>li {display: inline-block}\n",
       ".list-inline>li:not(:last-child)::after {content: \"\\00b7\"; padding: 0 .5ex}\n",
       "</style>\n",
       "<ol class=list-inline><li>'Red'</li><li>'Green'</li><li>'Yellow'</li></ol>\n",
       "</dd>\n",
       "\t<dt>$a_matrix</dt>\n",
       "\t\t<dd><table class=\"dataframe\">\n",
       "<caption>A matrix: 2 × 4 of type int</caption>\n",
       "<tbody>\n",
       "\t<tr><td>1</td><td>3</td><td>5</td><td>7</td></tr>\n",
       "\t<tr><td>2</td><td>4</td><td>6</td><td>8</td></tr>\n",
       "</tbody>\n",
       "</table>\n",
       "</dd>\n",
       "\t<dt>$a_inner_list</dt>\n",
       "\t\t<dd>TRUE</dd>\n",
       "\t<dt>$pass</dt>\n",
       "\t\t<dd>TRUE</dd>\n",
       "</dl>\n"
      ],
      "text/latex": [
       "\\begin{description}\n",
       "\\item[\\$traffic\\_light] \\begin{enumerate*}\n",
       "\\item 'Red'\n",
       "\\item 'Green'\n",
       "\\item 'Yellow'\n",
       "\\end{enumerate*}\n",
       "\n",
       "\\item[\\$a\\_matrix] A matrix: 2 × 4 of type int\n",
       "\\begin{tabular}{llll}\n",
       "\t 1 & 3 & 5 & 7\\\\\n",
       "\t 2 & 4 & 6 & 8\\\\\n",
       "\\end{tabular}\n",
       "\n",
       "\\item[\\$a\\_inner\\_list] TRUE\n",
       "\\item[\\$pass] TRUE\n",
       "\\end{description}\n"
      ],
      "text/markdown": [
       "$traffic_light\n",
       ":   1. 'Red'\n",
       "2. 'Green'\n",
       "3. 'Yellow'\n",
       "\n",
       "\n",
       "\n",
       "$a_matrix\n",
       ":   \n",
       "A matrix: 2 × 4 of type int\n",
       "\n",
       "| 1 | 3 | 5 | 7 |\n",
       "| 2 | 4 | 6 | 8 |\n",
       "\n",
       "\n",
       "$a_inner_list\n",
       ":   TRUE\n",
       "$pass\n",
       ":   TRUE\n",
       "\n",
       "\n"
      ],
      "text/plain": [
       "$traffic_light\n",
       "[1] \"Red\"    \"Green\"  \"Yellow\"\n",
       "\n",
       "$a_matrix\n",
       "     [,1] [,2] [,3] [,4]\n",
       "[1,]    1    3    5    7\n",
       "[2,]    2    4    6    8\n",
       "\n",
       "$a_inner_list\n",
       "[1] TRUE\n",
       "\n",
       "$pass\n",
       "[1] TRUE\n"
      ]
     },
     "metadata": {},
     "output_type": "display_data"
    }
   ],
   "source": [
    "list_1 = list(c('Red', 'Green', 'Yellow'), \n",
    "              matrix(1:8, nrow=2), \n",
    "              list('green', 'TRUE', 12.5), \n",
    "              TRUE)\n",
    "names(list_1) = c('traffic_light', 'a_matrix', 'a_inner_list', 'pass')\n",
    "\n",
    "list_1[3] = TRUE\n",
    "\n",
    "list_1"
   ]
  },
  {
   "cell_type": "code",
   "execution_count": 20,
   "id": "ef91f1a9-6644-4330-8a7f-1c54b93b04be",
   "metadata": {},
   "outputs": [
    {
     "data": {
      "text/html": [
       "<dl>\n",
       "\t<dt>$traffic_light</dt>\n",
       "\t\t<dd><style>\n",
       ".list-inline {list-style: none; margin:0; padding: 0}\n",
       ".list-inline>li {display: inline-block}\n",
       ".list-inline>li:not(:last-child)::after {content: \"\\00b7\"; padding: 0 .5ex}\n",
       "</style>\n",
       "<ol class=list-inline><li>'Red'</li><li>'Green'</li><li>'Yellow'</li></ol>\n",
       "</dd>\n",
       "\t<dt>$a_matrix</dt>\n",
       "\t\t<dd><table class=\"dataframe\">\n",
       "<caption>A matrix: 2 × 4 of type int</caption>\n",
       "<tbody>\n",
       "\t<tr><td>1</td><td>3</td><td>5</td><td>7</td></tr>\n",
       "\t<tr><td>2</td><td>4</td><td>6</td><td>8</td></tr>\n",
       "</tbody>\n",
       "</table>\n",
       "</dd>\n",
       "\t<dt>$a_inner_list</dt>\n",
       "\t\t<dd>TRUE</dd>\n",
       "\t<dt>$pass</dt>\n",
       "\t\t<dd><style>\n",
       ".list-inline {list-style: none; margin:0; padding: 0}\n",
       ".list-inline>li {display: inline-block}\n",
       ".list-inline>li:not(:last-child)::after {content: \"\\00b7\"; padding: 0 .5ex}\n",
       "</style>\n",
       "<ol class=list-inline><li>1</li><li>2</li><li>3</li></ol>\n",
       "</dd>\n",
       "</dl>\n"
      ],
      "text/latex": [
       "\\begin{description}\n",
       "\\item[\\$traffic\\_light] \\begin{enumerate*}\n",
       "\\item 'Red'\n",
       "\\item 'Green'\n",
       "\\item 'Yellow'\n",
       "\\end{enumerate*}\n",
       "\n",
       "\\item[\\$a\\_matrix] A matrix: 2 × 4 of type int\n",
       "\\begin{tabular}{llll}\n",
       "\t 1 & 3 & 5 & 7\\\\\n",
       "\t 2 & 4 & 6 & 8\\\\\n",
       "\\end{tabular}\n",
       "\n",
       "\\item[\\$a\\_inner\\_list] TRUE\n",
       "\\item[\\$pass] \\begin{enumerate*}\n",
       "\\item 1\n",
       "\\item 2\n",
       "\\item 3\n",
       "\\end{enumerate*}\n",
       "\n",
       "\\end{description}\n"
      ],
      "text/markdown": [
       "$traffic_light\n",
       ":   1. 'Red'\n",
       "2. 'Green'\n",
       "3. 'Yellow'\n",
       "\n",
       "\n",
       "\n",
       "$a_matrix\n",
       ":   \n",
       "A matrix: 2 × 4 of type int\n",
       "\n",
       "| 1 | 3 | 5 | 7 |\n",
       "| 2 | 4 | 6 | 8 |\n",
       "\n",
       "\n",
       "$a_inner_list\n",
       ":   TRUE\n",
       "$pass\n",
       ":   1. 1\n",
       "2. 2\n",
       "3. 3\n",
       "\n",
       "\n",
       "\n",
       "\n",
       "\n"
      ],
      "text/plain": [
       "$traffic_light\n",
       "[1] \"Red\"    \"Green\"  \"Yellow\"\n",
       "\n",
       "$a_matrix\n",
       "     [,1] [,2] [,3] [,4]\n",
       "[1,]    1    3    5    7\n",
       "[2,]    2    4    6    8\n",
       "\n",
       "$a_inner_list\n",
       "[1] TRUE\n",
       "\n",
       "$pass\n",
       "[1] 1 2 3\n"
      ]
     },
     "metadata": {},
     "output_type": "display_data"
    }
   ],
   "source": [
    "list_1$pass = c(1, 2, 3)\n",
    "\n",
    "list_1"
   ]
  },
  {
   "cell_type": "markdown",
   "id": "c3762e32-dc01-4364-86cb-6797750cc371",
   "metadata": {},
   "source": [
    "### 3.4.4. Nối 2 `list` lại với nhau"
   ]
  },
  {
   "cell_type": "code",
   "execution_count": 26,
   "id": "9e0e94e5-11ef-4e74-942a-62aec2a20930",
   "metadata": {},
   "outputs": [
    {
     "data": {
      "text/html": [
       "<ol>\n",
       "\t<li><style>\n",
       ".list-inline {list-style: none; margin:0; padding: 0}\n",
       ".list-inline>li {display: inline-block}\n",
       ".list-inline>li:not(:last-child)::after {content: \"\\00b7\"; padding: 0 .5ex}\n",
       "</style>\n",
       "<ol class=list-inline><li>1</li><li>2</li><li>3</li><li>4</li><li>5</li><li>6</li><li>7</li><li>8</li><li>9</li><li>10</li></ol>\n",
       "</li>\n",
       "</ol>\n"
      ],
      "text/latex": [
       "\\begin{enumerate}\n",
       "\\item \\begin{enumerate*}\n",
       "\\item 1\n",
       "\\item 2\n",
       "\\item 3\n",
       "\\item 4\n",
       "\\item 5\n",
       "\\item 6\n",
       "\\item 7\n",
       "\\item 8\n",
       "\\item 9\n",
       "\\item 10\n",
       "\\end{enumerate*}\n",
       "\n",
       "\\end{enumerate}\n"
      ],
      "text/markdown": [
       "1. 1. 1\n",
       "2. 2\n",
       "3. 3\n",
       "4. 4\n",
       "5. 5\n",
       "6. 6\n",
       "7. 7\n",
       "8. 8\n",
       "9. 9\n",
       "10. 10\n",
       "\n",
       "\n",
       "\n",
       "\n",
       "\n"
      ],
      "text/plain": [
       "[[1]]\n",
       " [1]  1  2  3  4  5  6  7  8  9 10\n"
      ]
     },
     "metadata": {},
     "output_type": "display_data"
    }
   ],
   "source": [
    "list_1 = list(1:3)\n",
    "list_2 = list(4:10)\n",
    "\n",
    "list_new = list(c(unlist(list_1), unlist(list_2)))\n",
    "\n",
    "list_new"
   ]
  },
  {
   "cell_type": "markdown",
   "id": "96dcbab5-9fc8-4c14-a944-4f44af433659",
   "metadata": {},
   "source": [
    "### 3.4.5. Chuyển `list` thành `vector`"
   ]
  },
  {
   "cell_type": "code",
   "execution_count": 29,
   "id": "67a79bc8-4f4c-442e-b8b4-9cd1fd4e50dd",
   "metadata": {},
   "outputs": [
    {
     "data": {
      "text/html": [
       "'list'"
      ],
      "text/latex": [
       "'list'"
      ],
      "text/markdown": [
       "'list'"
      ],
      "text/plain": [
       "[1] \"list\""
      ]
     },
     "metadata": {},
     "output_type": "display_data"
    }
   ],
   "source": [
    "list_1 = list(1:3)\n",
    "\n",
    "class(list_1)"
   ]
  },
  {
   "cell_type": "code",
   "execution_count": 30,
   "id": "488298fa-5b78-4c48-b7c3-ed4a5710d388",
   "metadata": {},
   "outputs": [
    {
     "data": {
      "text/html": [
       "'integer'"
      ],
      "text/latex": [
       "'integer'"
      ],
      "text/markdown": [
       "'integer'"
      ],
      "text/plain": [
       "[1] \"integer\""
      ]
     },
     "metadata": {},
     "output_type": "display_data"
    }
   ],
   "source": [
    "vector_1 = unlist(list_1)\n",
    "\n",
    "class(vector_1)"
   ]
  },
  {
   "cell_type": "code",
   "execution_count": 32,
   "id": "5e2a32e4-eda9-451c-b33f-82332a68f0a3",
   "metadata": {},
   "outputs": [
    {
     "data": {
      "text/html": [
       "<style>\n",
       ".list-inline {list-style: none; margin:0; padding: 0}\n",
       ".list-inline>li {display: inline-block}\n",
       ".list-inline>li:not(:last-child)::after {content: \"\\00b7\"; padding: 0 .5ex}\n",
       "</style>\n",
       "<ol class=list-inline><li>1</li><li>2</li><li>3</li></ol>\n"
      ],
      "text/latex": [
       "\\begin{enumerate*}\n",
       "\\item 1\n",
       "\\item 2\n",
       "\\item 3\n",
       "\\end{enumerate*}\n"
      ],
      "text/markdown": [
       "1. 1\n",
       "2. 2\n",
       "3. 3\n",
       "\n",
       "\n"
      ],
      "text/plain": [
       "[1] 1 2 3"
      ]
     },
     "metadata": {},
     "output_type": "display_data"
    }
   ],
   "source": [
    "vector_1"
   ]
  },
  {
   "cell_type": "code",
   "execution_count": null,
   "id": "dab0eb23-2c9c-4680-8d92-9daaf98d8aba",
   "metadata": {},
   "outputs": [],
   "source": []
  }
 ],
 "metadata": {
  "kernelspec": {
   "display_name": "R",
   "language": "R",
   "name": "ir"
  },
  "language_info": {
   "codemirror_mode": "r",
   "file_extension": ".r",
   "mimetype": "text/x-r-source",
   "name": "R",
   "pygments_lexer": "r",
   "version": "4.1.0"
  }
 },
 "nbformat": 4,
 "nbformat_minor": 5
}
