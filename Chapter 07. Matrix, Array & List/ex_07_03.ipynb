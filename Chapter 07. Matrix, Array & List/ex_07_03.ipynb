{
 "cells": [
  {
   "cell_type": "markdown",
   "id": "589c5372-9641-459a-a0e5-b177716a59c2",
   "metadata": {},
   "source": [
    "![](images/07_02.png)"
   ]
  },
  {
   "cell_type": "code",
   "execution_count": 3,
   "id": "eb685dd4-24bb-442b-9417-0807ed6149c5",
   "metadata": {},
   "outputs": [
    {
     "name": "stdin",
     "output_type": "stream",
     "text": [
      "Nhập n: 3\n"
     ]
    }
   ],
   "source": [
    "n = as.integer(readline(prompt = \"Nhập n:\"))"
   ]
  },
  {
   "cell_type": "code",
   "execution_count": 4,
   "id": "b050c6de-4b76-4dbf-8d92-cfe78addb2fc",
   "metadata": {},
   "outputs": [],
   "source": [
    "A1 = matrix(runif(n*n, min = 1, max = n*n), n, n)"
   ]
  },
  {
   "cell_type": "code",
   "execution_count": 5,
   "id": "01b18413-5a55-46f7-8122-c67d5feab1e3",
   "metadata": {},
   "outputs": [
    {
     "data": {
      "text/html": [
       "<table class=\"dataframe\">\n",
       "<caption>A matrix: 3 × 3 of type dbl</caption>\n",
       "<tbody>\n",
       "\t<tr><td>2.896149</td><td>1.814959</td><td>8.664057</td></tr>\n",
       "\t<tr><td>2.856758</td><td>5.037523</td><td>5.212160</td></tr>\n",
       "\t<tr><td>7.416620</td><td>3.487221</td><td>3.757557</td></tr>\n",
       "</tbody>\n",
       "</table>\n"
      ],
      "text/latex": [
       "A matrix: 3 × 3 of type dbl\n",
       "\\begin{tabular}{lll}\n",
       "\t 2.896149 & 1.814959 & 8.664057\\\\\n",
       "\t 2.856758 & 5.037523 & 5.212160\\\\\n",
       "\t 7.416620 & 3.487221 & 3.757557\\\\\n",
       "\\end{tabular}\n"
      ],
      "text/markdown": [
       "\n",
       "A matrix: 3 × 3 of type dbl\n",
       "\n",
       "| 2.896149 | 1.814959 | 8.664057 |\n",
       "| 2.856758 | 5.037523 | 5.212160 |\n",
       "| 7.416620 | 3.487221 | 3.757557 |\n",
       "\n"
      ],
      "text/plain": [
       "     [,1]     [,2]     [,3]    \n",
       "[1,] 2.896149 1.814959 8.664057\n",
       "[2,] 2.856758 5.037523 5.212160\n",
       "[3,] 7.416620 3.487221 3.757557"
      ]
     },
     "metadata": {},
     "output_type": "display_data"
    }
   ],
   "source": [
    "A1"
   ]
  },
  {
   "cell_type": "code",
   "execution_count": 6,
   "id": "6619ea0d-da6e-410f-ab7d-60b02a292f0f",
   "metadata": {},
   "outputs": [
    {
     "name": "stdin",
     "output_type": "stream",
     "text": [
      "Nhập m: 4\n"
     ]
    }
   ],
   "source": [
    "m = as.integer(readline(prompt = \"Nhập m:\"))"
   ]
  },
  {
   "cell_type": "code",
   "execution_count": 7,
   "id": "6362a99d-3b42-40b3-9024-b258d135699d",
   "metadata": {},
   "outputs": [],
   "source": [
    "A2 = matrix(runif(n*m, min = 1, max = n*m), n, m)"
   ]
  },
  {
   "cell_type": "code",
   "execution_count": 8,
   "id": "a7cbef7d-4d8c-4ecd-b119-ba53eb3462ad",
   "metadata": {},
   "outputs": [
    {
     "data": {
      "text/html": [
       "<table class=\"dataframe\">\n",
       "<caption>A matrix: 3 × 4 of type dbl</caption>\n",
       "<tbody>\n",
       "\t<tr><td>3.139004</td><td>11.460986</td><td> 8.133813</td><td> 6.298791</td></tr>\n",
       "\t<tr><td>9.018906</td><td>10.776199</td><td>10.325077</td><td> 9.793603</td></tr>\n",
       "\t<tr><td>5.665820</td><td> 8.560507</td><td>10.415467</td><td>10.410648</td></tr>\n",
       "</tbody>\n",
       "</table>\n"
      ],
      "text/latex": [
       "A matrix: 3 × 4 of type dbl\n",
       "\\begin{tabular}{llll}\n",
       "\t 3.139004 & 11.460986 &  8.133813 &  6.298791\\\\\n",
       "\t 9.018906 & 10.776199 & 10.325077 &  9.793603\\\\\n",
       "\t 5.665820 &  8.560507 & 10.415467 & 10.410648\\\\\n",
       "\\end{tabular}\n"
      ],
      "text/markdown": [
       "\n",
       "A matrix: 3 × 4 of type dbl\n",
       "\n",
       "| 3.139004 | 11.460986 |  8.133813 |  6.298791 |\n",
       "| 9.018906 | 10.776199 | 10.325077 |  9.793603 |\n",
       "| 5.665820 |  8.560507 | 10.415467 | 10.410648 |\n",
       "\n"
      ],
      "text/plain": [
       "     [,1]     [,2]      [,3]      [,4]     \n",
       "[1,] 3.139004 11.460986  8.133813  6.298791\n",
       "[2,] 9.018906 10.776199 10.325077  9.793603\n",
       "[3,] 5.665820  8.560507 10.415467 10.410648"
      ]
     },
     "metadata": {},
     "output_type": "display_data"
    }
   ],
   "source": [
    "A2"
   ]
  },
  {
   "cell_type": "code",
   "execution_count": 9,
   "id": "65257b46-b359-426c-9ef5-db9f5cb5754f",
   "metadata": {},
   "outputs": [],
   "source": [
    "M = solve(A1, A2)"
   ]
  },
  {
   "cell_type": "code",
   "execution_count": 10,
   "id": "e312c588-4a2d-4ee7-b578-a31c5d467200",
   "metadata": {},
   "outputs": [
    {
     "data": {
      "text/html": [
       "<table class=\"dataframe\">\n",
       "<caption>A matrix: 3 × 4 of type dbl</caption>\n",
       "<tbody>\n",
       "\t<tr><td>-0.10653734</td><td>0.1729927</td><td>0.5874004</td><td>0.6613709</td></tr>\n",
       "\t<tr><td> 1.83726989</td><td>0.9348606</td><td>1.2107589</td><td>1.3349474</td></tr>\n",
       "\t<tr><td> 0.01304039</td><td>1.0691573</td><td>0.4888168</td><td>0.2262783</td></tr>\n",
       "</tbody>\n",
       "</table>\n"
      ],
      "text/latex": [
       "A matrix: 3 × 4 of type dbl\n",
       "\\begin{tabular}{llll}\n",
       "\t -0.10653734 & 0.1729927 & 0.5874004 & 0.6613709\\\\\n",
       "\t  1.83726989 & 0.9348606 & 1.2107589 & 1.3349474\\\\\n",
       "\t  0.01304039 & 1.0691573 & 0.4888168 & 0.2262783\\\\\n",
       "\\end{tabular}\n"
      ],
      "text/markdown": [
       "\n",
       "A matrix: 3 × 4 of type dbl\n",
       "\n",
       "| -0.10653734 | 0.1729927 | 0.5874004 | 0.6613709 |\n",
       "|  1.83726989 | 0.9348606 | 1.2107589 | 1.3349474 |\n",
       "|  0.01304039 | 1.0691573 | 0.4888168 | 0.2262783 |\n",
       "\n"
      ],
      "text/plain": [
       "     [,1]        [,2]      [,3]      [,4]     \n",
       "[1,] -0.10653734 0.1729927 0.5874004 0.6613709\n",
       "[2,]  1.83726989 0.9348606 1.2107589 1.3349474\n",
       "[3,]  0.01304039 1.0691573 0.4888168 0.2262783"
      ]
     },
     "metadata": {},
     "output_type": "display_data"
    }
   ],
   "source": [
    "M"
   ]
  },
  {
   "cell_type": "code",
   "execution_count": 11,
   "id": "7d0a6a3b-e674-4d76-8ea7-502ae520d654",
   "metadata": {},
   "outputs": [
    {
     "data": {
      "text/html": [
       "<style>\n",
       ".list-inline {list-style: none; margin:0; padding: 0}\n",
       ".list-inline>li {display: inline-block}\n",
       ".list-inline>li:not(:last-child)::after {content: \"\\00b7\"; padding: 0 .5ex}\n",
       "</style>\n",
       "<ol class=list-inline><li>-0.106537339450162</li><li>0.172992731643305</li><li>0.5874003768736</li><li>0.66137089689227</li></ol>\n"
      ],
      "text/latex": [
       "\\begin{enumerate*}\n",
       "\\item -0.106537339450162\n",
       "\\item 0.172992731643305\n",
       "\\item 0.5874003768736\n",
       "\\item 0.66137089689227\n",
       "\\end{enumerate*}\n"
      ],
      "text/markdown": [
       "1. -0.106537339450162\n",
       "2. 0.172992731643305\n",
       "3. 0.5874003768736\n",
       "4. 0.66137089689227\n",
       "\n",
       "\n"
      ],
      "text/plain": [
       "[1] -0.1065373  0.1729927  0.5874004  0.6613709"
      ]
     },
     "metadata": {},
     "output_type": "display_data"
    }
   ],
   "source": [
    "M[1,]"
   ]
  },
  {
   "cell_type": "code",
   "execution_count": 12,
   "id": "128e1d4c-498e-4075-9948-41a23e50292b",
   "metadata": {},
   "outputs": [
    {
     "data": {
      "text/html": [
       "<style>\n",
       ".list-inline {list-style: none; margin:0; padding: 0}\n",
       ".list-inline>li {display: inline-block}\n",
       ".list-inline>li:not(:last-child)::after {content: \"\\00b7\"; padding: 0 .5ex}\n",
       "</style>\n",
       "<ol class=list-inline><li>-0.106537339450162</li><li>1.83726989064938</li><li>0.0130403900861297</li></ol>\n"
      ],
      "text/latex": [
       "\\begin{enumerate*}\n",
       "\\item -0.106537339450162\n",
       "\\item 1.83726989064938\n",
       "\\item 0.0130403900861297\n",
       "\\end{enumerate*}\n"
      ],
      "text/markdown": [
       "1. -0.106537339450162\n",
       "2. 1.83726989064938\n",
       "3. 0.0130403900861297\n",
       "\n",
       "\n"
      ],
      "text/plain": [
       "[1] -0.10653734  1.83726989  0.01304039"
      ]
     },
     "metadata": {},
     "output_type": "display_data"
    }
   ],
   "source": [
    "M[,1]"
   ]
  },
  {
   "cell_type": "code",
   "execution_count": 13,
   "id": "8c255ede-58da-452f-937c-af1f6f4924d8",
   "metadata": {},
   "outputs": [
    {
     "name": "stdout",
     "output_type": "stream",
     "text": [
      "[1] 1.069157\n"
     ]
    }
   ],
   "source": [
    "if (n >= 3 && m >= 2) {\n",
    "    print(M[3, 2])\n",
    "}"
   ]
  },
  {
   "cell_type": "code",
   "execution_count": null,
   "id": "533b0a74-73c1-46b6-84cd-b36ab1bdc7b0",
   "metadata": {},
   "outputs": [],
   "source": []
  }
 ],
 "metadata": {
  "kernelspec": {
   "display_name": "R",
   "language": "R",
   "name": "ir"
  },
  "language_info": {
   "codemirror_mode": "r",
   "file_extension": ".r",
   "mimetype": "text/x-r-source",
   "name": "R",
   "pygments_lexer": "r",
   "version": "4.1.0"
  }
 },
 "nbformat": 4,
 "nbformat_minor": 5
}
