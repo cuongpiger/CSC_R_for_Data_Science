{
 "cells": [
  {
   "cell_type": "markdown",
   "id": "b078590c-9073-4c5c-85f1-5044b9328e56",
   "metadata": {},
   "source": [
    "# 1. Data Frame\n",
    "## 1.1. Tạo `dataframe`"
   ]
  },
  {
   "cell_type": "code",
   "execution_count": 1,
   "id": "31d60d8e-3f6c-4ac6-9f33-435b6131748e",
   "metadata": {},
   "outputs": [
    {
     "data": {
      "text/html": [
       "<table class=\"dataframe\">\n",
       "<caption>A data.frame: 6 × 3</caption>\n",
       "<thead>\n",
       "\t<tr><th scope=col>name</th><th scope=col>age</th><th scope=col>mark</th></tr>\n",
       "\t<tr><th scope=col>&lt;chr&gt;</th><th scope=col>&lt;dbl&gt;</th><th scope=col>&lt;dbl&gt;</th></tr>\n",
       "</thead>\n",
       "<tbody>\n",
       "\t<tr><td>Hellen</td><td>17</td><td>9.0</td></tr>\n",
       "\t<tr><td>Jolie </td><td>16</td><td>9.0</td></tr>\n",
       "\t<tr><td>Kiwi  </td><td>17</td><td>8.0</td></tr>\n",
       "\t<tr><td>John  </td><td>18</td><td>7.5</td></tr>\n",
       "\t<tr><td>Mark  </td><td>19</td><td>7.5</td></tr>\n",
       "\t<tr><td>Tom   </td><td>16</td><td>8.0</td></tr>\n",
       "</tbody>\n",
       "</table>\n"
      ],
      "text/latex": [
       "A data.frame: 6 × 3\n",
       "\\begin{tabular}{lll}\n",
       " name & age & mark\\\\\n",
       " <chr> & <dbl> & <dbl>\\\\\n",
       "\\hline\n",
       "\t Hellen & 17 & 9.0\\\\\n",
       "\t Jolie  & 16 & 9.0\\\\\n",
       "\t Kiwi   & 17 & 8.0\\\\\n",
       "\t John   & 18 & 7.5\\\\\n",
       "\t Mark   & 19 & 7.5\\\\\n",
       "\t Tom    & 16 & 8.0\\\\\n",
       "\\end{tabular}\n"
      ],
      "text/markdown": [
       "\n",
       "A data.frame: 6 × 3\n",
       "\n",
       "| name &lt;chr&gt; | age &lt;dbl&gt; | mark &lt;dbl&gt; |\n",
       "|---|---|---|\n",
       "| Hellen | 17 | 9.0 |\n",
       "| Jolie  | 16 | 9.0 |\n",
       "| Kiwi   | 17 | 8.0 |\n",
       "| John   | 18 | 7.5 |\n",
       "| Mark   | 19 | 7.5 |\n",
       "| Tom    | 16 | 8.0 |\n",
       "\n"
      ],
      "text/plain": [
       "  name   age mark\n",
       "1 Hellen 17  9.0 \n",
       "2 Jolie  16  9.0 \n",
       "3 Kiwi   17  8.0 \n",
       "4 John   18  7.5 \n",
       "5 Mark   19  7.5 \n",
       "6 Tom    16  8.0 "
      ]
     },
     "metadata": {},
     "output_type": "display_data"
    }
   ],
   "source": [
    "students_1 = data.frame('name'=c('Hellen', 'Jolie', 'Kiwi', 'John', 'Mark', 'Tom'),\n",
    "                       'age'=c(17, 16, 17, 18, 19, 16),\n",
    "                       'mark'=c(9, 9, 8, 7.5, 7.5, 8),\n",
    "                       stringsAsFactors=FALSE)\n",
    "\n",
    "students_1"
   ]
  },
  {
   "cell_type": "code",
   "execution_count": null,
   "id": "1a7e0767-3194-4438-9365-c0cbbfb09f11",
   "metadata": {},
   "outputs": [],
   "source": []
  },
  {
   "cell_type": "code",
   "execution_count": 2,
   "id": "3bf8f142-1569-4456-9aba-b55cc9e12318",
   "metadata": {},
   "outputs": [
    {
     "data": {
      "text/html": [
       "<table class=\"dataframe\">\n",
       "<caption>A data.frame: 6 × 3</caption>\n",
       "<thead>\n",
       "\t<tr><th scope=col>name</th><th scope=col>age</th><th scope=col>mark</th></tr>\n",
       "\t<tr><th scope=col>&lt;chr&gt;</th><th scope=col>&lt;dbl&gt;</th><th scope=col>&lt;dbl&gt;</th></tr>\n",
       "</thead>\n",
       "<tbody>\n",
       "\t<tr><td>Hellen</td><td>17</td><td>9.0</td></tr>\n",
       "\t<tr><td>Jolie </td><td>16</td><td>9.0</td></tr>\n",
       "\t<tr><td>Kiwi  </td><td>17</td><td>8.0</td></tr>\n",
       "\t<tr><td>John  </td><td>18</td><td>7.5</td></tr>\n",
       "\t<tr><td>Mark  </td><td>19</td><td>7.5</td></tr>\n",
       "\t<tr><td>Tom   </td><td>16</td><td>8.0</td></tr>\n",
       "</tbody>\n",
       "</table>\n"
      ],
      "text/latex": [
       "A data.frame: 6 × 3\n",
       "\\begin{tabular}{lll}\n",
       " name & age & mark\\\\\n",
       " <chr> & <dbl> & <dbl>\\\\\n",
       "\\hline\n",
       "\t Hellen & 17 & 9.0\\\\\n",
       "\t Jolie  & 16 & 9.0\\\\\n",
       "\t Kiwi   & 17 & 8.0\\\\\n",
       "\t John   & 18 & 7.5\\\\\n",
       "\t Mark   & 19 & 7.5\\\\\n",
       "\t Tom    & 16 & 8.0\\\\\n",
       "\\end{tabular}\n"
      ],
      "text/markdown": [
       "\n",
       "A data.frame: 6 × 3\n",
       "\n",
       "| name &lt;chr&gt; | age &lt;dbl&gt; | mark &lt;dbl&gt; |\n",
       "|---|---|---|\n",
       "| Hellen | 17 | 9.0 |\n",
       "| Jolie  | 16 | 9.0 |\n",
       "| Kiwi   | 17 | 8.0 |\n",
       "| John   | 18 | 7.5 |\n",
       "| Mark   | 19 | 7.5 |\n",
       "| Tom    | 16 | 8.0 |\n",
       "\n"
      ],
      "text/plain": [
       "  name   age mark\n",
       "1 Hellen 17  9.0 \n",
       "2 Jolie  16  9.0 \n",
       "3 Kiwi   17  8.0 \n",
       "4 John   18  7.5 \n",
       "5 Mark   19  7.5 \n",
       "6 Tom    16  8.0 "
      ]
     },
     "metadata": {},
     "output_type": "display_data"
    }
   ],
   "source": [
    "name = c('Hellen', 'Jolie', 'Kiwi', 'John', 'Mark', 'Tom')\n",
    "age = c(17, 16, 17, 18, 19, 16)\n",
    "mark = c(9, 9, 8, 7.5, 7.5, 8)\n",
    "\n",
    "students = data.frame(name, age, mark, stringsAsFactors=FALSE)\n",
    "\n",
    "students"
   ]
  },
  {
   "cell_type": "markdown",
   "id": "ed70d90b-6dd6-458a-be80-fed9a1f50f0e",
   "metadata": {},
   "source": [
    "## 1.2. Xem cấu trúc của `dataframe`"
   ]
  },
  {
   "cell_type": "code",
   "execution_count": 3,
   "id": "d00f30ee-d652-4b32-9a3d-020692fecd5b",
   "metadata": {},
   "outputs": [
    {
     "name": "stdout",
     "output_type": "stream",
     "text": [
      "'data.frame':\t6 obs. of  3 variables:\n",
      " $ name: chr  \"Hellen\" \"Jolie\" \"Kiwi\" \"John\" ...\n",
      " $ age : num  17 16 17 18 19 16\n",
      " $ mark: num  9 9 8 7.5 7.5 8\n"
     ]
    }
   ],
   "source": [
    "name = c('Hellen', 'Jolie', 'Kiwi', 'John', 'Mark', 'Tom')\n",
    "age = c(17, 16, 17, 18, 19, 16)\n",
    "mark = c(9, 9, 8, 7.5, 7.5, 8)\n",
    "students = data.frame(name, age, mark, stringsAsFactors=FALSE)\n",
    "\n",
    "str(students)"
   ]
  },
  {
   "cell_type": "markdown",
   "id": "c5d8fb61-c624-4d66-98a9-13d5c0c00602",
   "metadata": {},
   "source": [
    "## 1.3. Xem thống kê tóm tắt của dữ liệu"
   ]
  },
  {
   "cell_type": "code",
   "execution_count": 4,
   "id": "9990459b-9965-46bf-94fc-53c749deb93f",
   "metadata": {},
   "outputs": [
    {
     "data": {
      "text/plain": [
       "     name                age             mark      \n",
       " Length:6           Min.   :16.00   Min.   :7.500  \n",
       " Class :character   1st Qu.:16.25   1st Qu.:7.625  \n",
       " Mode  :character   Median :17.00   Median :8.000  \n",
       "                    Mean   :17.17   Mean   :8.167  \n",
       "                    3rd Qu.:17.75   3rd Qu.:8.750  \n",
       "                    Max.   :19.00   Max.   :9.000  "
      ]
     },
     "metadata": {},
     "output_type": "display_data"
    }
   ],
   "source": [
    "name = c('Hellen', 'Jolie', 'Kiwi', 'John', 'Mark', 'Tom')\n",
    "age = c(17, 16, 17, 18, 19, 16)\n",
    "mark = c(9, 9, 8, 7.5, 7.5, 8)\n",
    "students = data.frame(name, age, mark, stringsAsFactors=FALSE)\n",
    "\n",
    "summary(students)"
   ]
  },
  {
   "cell_type": "markdown",
   "id": "062e0475-1a1d-4636-b102-f0fdea80180e",
   "metadata": {},
   "source": [
    "## 1.3. Truy xuất dữ liệu từ `dataframe`"
   ]
  },
  {
   "cell_type": "code",
   "execution_count": 5,
   "id": "f31f95c3-5755-4509-83db-cf4705fe940d",
   "metadata": {},
   "outputs": [
    {
     "data": {
      "text/html": [
       "<style>\n",
       ".list-inline {list-style: none; margin:0; padding: 0}\n",
       ".list-inline>li {display: inline-block}\n",
       ".list-inline>li:not(:last-child)::after {content: \"\\00b7\"; padding: 0 .5ex}\n",
       "</style>\n",
       "<ol class=list-inline><li>9</li><li>9</li><li>8</li><li>7.5</li><li>7.5</li><li>8</li></ol>\n"
      ],
      "text/latex": [
       "\\begin{enumerate*}\n",
       "\\item 9\n",
       "\\item 9\n",
       "\\item 8\n",
       "\\item 7.5\n",
       "\\item 7.5\n",
       "\\item 8\n",
       "\\end{enumerate*}\n"
      ],
      "text/markdown": [
       "1. 9\n",
       "2. 9\n",
       "3. 8\n",
       "4. 7.5\n",
       "5. 7.5\n",
       "6. 8\n",
       "\n",
       "\n"
      ],
      "text/plain": [
       "[1] 9.0 9.0 8.0 7.5 7.5 8.0"
      ]
     },
     "metadata": {},
     "output_type": "display_data"
    }
   ],
   "source": [
    "name = c('Hellen', 'Jolie', 'Kiwi', 'John', 'Mark', 'Tom')\n",
    "age = c(17, 16, 17, 18, 19, 16)\n",
    "mark = c(9, 9, 8, 7.5, 7.5, 8)\n",
    "students = data.frame(name, age, mark, stringsAsFactors=FALSE)\n",
    "\n",
    "students$mark"
   ]
  },
  {
   "cell_type": "code",
   "execution_count": null,
   "id": "3114f9e1-25ad-4e36-aa27-19d1bfa7920e",
   "metadata": {},
   "outputs": [],
   "source": []
  },
  {
   "cell_type": "code",
   "execution_count": 6,
   "id": "7ef0f7a5-a0e1-4d80-b650-7839ccf470d5",
   "metadata": {},
   "outputs": [
    {
     "data": {
      "text/html": [
       "<table class=\"dataframe\">\n",
       "<caption>A data.frame: 2 × 3</caption>\n",
       "<thead>\n",
       "\t<tr><th></th><th scope=col>name</th><th scope=col>age</th><th scope=col>mark</th></tr>\n",
       "\t<tr><th></th><th scope=col>&lt;chr&gt;</th><th scope=col>&lt;dbl&gt;</th><th scope=col>&lt;dbl&gt;</th></tr>\n",
       "</thead>\n",
       "<tbody>\n",
       "\t<tr><th scope=row>1</th><td>Hellen</td><td>17</td><td>9</td></tr>\n",
       "\t<tr><th scope=row>2</th><td>Jolie </td><td>16</td><td>9</td></tr>\n",
       "</tbody>\n",
       "</table>\n"
      ],
      "text/latex": [
       "A data.frame: 2 × 3\n",
       "\\begin{tabular}{r|lll}\n",
       "  & name & age & mark\\\\\n",
       "  & <chr> & <dbl> & <dbl>\\\\\n",
       "\\hline\n",
       "\t1 & Hellen & 17 & 9\\\\\n",
       "\t2 & Jolie  & 16 & 9\\\\\n",
       "\\end{tabular}\n"
      ],
      "text/markdown": [
       "\n",
       "A data.frame: 2 × 3\n",
       "\n",
       "| <!--/--> | name &lt;chr&gt; | age &lt;dbl&gt; | mark &lt;dbl&gt; |\n",
       "|---|---|---|---|\n",
       "| 1 | Hellen | 17 | 9 |\n",
       "| 2 | Jolie  | 16 | 9 |\n",
       "\n"
      ],
      "text/plain": [
       "  name   age mark\n",
       "1 Hellen 17  9   \n",
       "2 Jolie  16  9   "
      ]
     },
     "metadata": {},
     "output_type": "display_data"
    }
   ],
   "source": [
    "students[1:2, ]"
   ]
  },
  {
   "cell_type": "code",
   "execution_count": null,
   "id": "b312a2f7-c953-4405-aaff-acb44d46d501",
   "metadata": {},
   "outputs": [],
   "source": []
  },
  {
   "cell_type": "markdown",
   "id": "79a04253-8aa6-440b-8d61-b3d5efcb31ef",
   "metadata": {},
   "source": [
    "* Get `age` column as `dataframe`"
   ]
  },
  {
   "cell_type": "code",
   "execution_count": 7,
   "id": "84e1ff1d-2707-4797-ae79-937d90ed5704",
   "metadata": {},
   "outputs": [
    {
     "data": {
      "text/html": [
       "<table class=\"dataframe\">\n",
       "<caption>A data.frame: 6 × 1</caption>\n",
       "<thead>\n",
       "\t<tr><th scope=col>students.age</th></tr>\n",
       "\t<tr><th scope=col>&lt;dbl&gt;</th></tr>\n",
       "</thead>\n",
       "<tbody>\n",
       "\t<tr><td>17</td></tr>\n",
       "\t<tr><td>16</td></tr>\n",
       "\t<tr><td>17</td></tr>\n",
       "\t<tr><td>18</td></tr>\n",
       "\t<tr><td>19</td></tr>\n",
       "\t<tr><td>16</td></tr>\n",
       "</tbody>\n",
       "</table>\n"
      ],
      "text/latex": [
       "A data.frame: 6 × 1\n",
       "\\begin{tabular}{l}\n",
       " students.age\\\\\n",
       " <dbl>\\\\\n",
       "\\hline\n",
       "\t 17\\\\\n",
       "\t 16\\\\\n",
       "\t 17\\\\\n",
       "\t 18\\\\\n",
       "\t 19\\\\\n",
       "\t 16\\\\\n",
       "\\end{tabular}\n"
      ],
      "text/markdown": [
       "\n",
       "A data.frame: 6 × 1\n",
       "\n",
       "| students.age &lt;dbl&gt; |\n",
       "|---|\n",
       "| 17 |\n",
       "| 16 |\n",
       "| 17 |\n",
       "| 18 |\n",
       "| 19 |\n",
       "| 16 |\n",
       "\n"
      ],
      "text/plain": [
       "  students.age\n",
       "1 17          \n",
       "2 16          \n",
       "3 17          \n",
       "4 18          \n",
       "5 19          \n",
       "6 16          "
      ]
     },
     "metadata": {},
     "output_type": "display_data"
    }
   ],
   "source": [
    "tmp = data.frame(students$age)\n",
    "tmp"
   ]
  },
  {
   "cell_type": "code",
   "execution_count": null,
   "id": "bb5213c4-2bfb-4085-a970-59e5c7817d96",
   "metadata": {},
   "outputs": [],
   "source": []
  },
  {
   "cell_type": "code",
   "execution_count": 8,
   "id": "08698746-d9e2-4276-b158-5e7c15595f3f",
   "metadata": {},
   "outputs": [
    {
     "data": {
      "text/html": [
       "<table class=\"dataframe\">\n",
       "<caption>A data.frame: 2 × 2</caption>\n",
       "<thead>\n",
       "\t<tr><th></th><th scope=col>name</th><th scope=col>age</th></tr>\n",
       "\t<tr><th></th><th scope=col>&lt;chr&gt;</th><th scope=col>&lt;dbl&gt;</th></tr>\n",
       "</thead>\n",
       "<tbody>\n",
       "\t<tr><th scope=row>3</th><td>Kiwi</td><td>17</td></tr>\n",
       "\t<tr><th scope=row>5</th><td>Mark</td><td>19</td></tr>\n",
       "</tbody>\n",
       "</table>\n"
      ],
      "text/latex": [
       "A data.frame: 2 × 2\n",
       "\\begin{tabular}{r|ll}\n",
       "  & name & age\\\\\n",
       "  & <chr> & <dbl>\\\\\n",
       "\\hline\n",
       "\t3 & Kiwi & 17\\\\\n",
       "\t5 & Mark & 19\\\\\n",
       "\\end{tabular}\n"
      ],
      "text/markdown": [
       "\n",
       "A data.frame: 2 × 2\n",
       "\n",
       "| <!--/--> | name &lt;chr&gt; | age &lt;dbl&gt; |\n",
       "|---|---|---|\n",
       "| 3 | Kiwi | 17 |\n",
       "| 5 | Mark | 19 |\n",
       "\n"
      ],
      "text/plain": [
       "  name age\n",
       "3 Kiwi 17 \n",
       "5 Mark 19 "
      ]
     },
     "metadata": {},
     "output_type": "display_data"
    }
   ],
   "source": [
    "students[c(3, 5), c(1, 2)]"
   ]
  },
  {
   "cell_type": "markdown",
   "id": "6c92c087-3414-44a2-aadf-0e23265667e0",
   "metadata": {},
   "source": [
    "## 1.4. Thêm một cột mới vào `dataframe`"
   ]
  },
  {
   "cell_type": "code",
   "execution_count": 9,
   "id": "ba04ffcd-78e6-40db-860f-85e7ed7ba699",
   "metadata": {},
   "outputs": [
    {
     "data": {
      "text/html": [
       "<table class=\"dataframe\">\n",
       "<caption>A data.frame: 6 × 4</caption>\n",
       "<thead>\n",
       "\t<tr><th scope=col>name</th><th scope=col>age</th><th scope=col>mark</th><th scope=col>class</th></tr>\n",
       "\t<tr><th scope=col>&lt;chr&gt;</th><th scope=col>&lt;dbl&gt;</th><th scope=col>&lt;dbl&gt;</th><th scope=col>&lt;chr&gt;</th></tr>\n",
       "</thead>\n",
       "<tbody>\n",
       "\t<tr><td>Hellen</td><td>17</td><td>9.0</td><td>Toán</td></tr>\n",
       "\t<tr><td>Jolie </td><td>16</td><td>9.0</td><td>Lí  </td></tr>\n",
       "\t<tr><td>Kiwi  </td><td>17</td><td>8.0</td><td>Hóa </td></tr>\n",
       "\t<tr><td>John  </td><td>18</td><td>7.5</td><td>Văn </td></tr>\n",
       "\t<tr><td>Mark  </td><td>19</td><td>7.5</td><td>Sử  </td></tr>\n",
       "\t<tr><td>Tom   </td><td>16</td><td>8.0</td><td>Địa </td></tr>\n",
       "</tbody>\n",
       "</table>\n"
      ],
      "text/latex": [
       "A data.frame: 6 × 4\n",
       "\\begin{tabular}{llll}\n",
       " name & age & mark & class\\\\\n",
       " <chr> & <dbl> & <dbl> & <chr>\\\\\n",
       "\\hline\n",
       "\t Hellen & 17 & 9.0 & Toán\\\\\n",
       "\t Jolie  & 16 & 9.0 & Lí  \\\\\n",
       "\t Kiwi   & 17 & 8.0 & Hóa \\\\\n",
       "\t John   & 18 & 7.5 & Văn \\\\\n",
       "\t Mark   & 19 & 7.5 & Sử  \\\\\n",
       "\t Tom    & 16 & 8.0 & Địa \\\\\n",
       "\\end{tabular}\n"
      ],
      "text/markdown": [
       "\n",
       "A data.frame: 6 × 4\n",
       "\n",
       "| name &lt;chr&gt; | age &lt;dbl&gt; | mark &lt;dbl&gt; | class &lt;chr&gt; |\n",
       "|---|---|---|---|\n",
       "| Hellen | 17 | 9.0 | Toán |\n",
       "| Jolie  | 16 | 9.0 | Lí   |\n",
       "| Kiwi   | 17 | 8.0 | Hóa  |\n",
       "| John   | 18 | 7.5 | Văn  |\n",
       "| Mark   | 19 | 7.5 | Sử   |\n",
       "| Tom    | 16 | 8.0 | Địa  |\n",
       "\n"
      ],
      "text/plain": [
       "  name   age mark class\n",
       "1 Hellen 17  9.0  Toán \n",
       "2 Jolie  16  9.0  Lí   \n",
       "3 Kiwi   17  8.0  Hóa  \n",
       "4 John   18  7.5  Văn  \n",
       "5 Mark   19  7.5  Sử   \n",
       "6 Tom    16  8.0  Địa  "
      ]
     },
     "metadata": {},
     "output_type": "display_data"
    }
   ],
   "source": [
    "name = c('Hellen', 'Jolie', 'Kiwi', 'John', 'Mark', 'Tom')\n",
    "age = c(17, 16, 17, 18, 19, 16)\n",
    "mark = c(9, 9, 8, 7.5, 7.5, 8)\n",
    "students = data.frame(name, age, mark, stringsAsFactors=FALSE)\n",
    "\n",
    "students$class = c('Toán', 'Lí', 'Hóa', 'Văn', 'Sử', 'Địa')\n",
    "\n",
    "students"
   ]
  },
  {
   "cell_type": "code",
   "execution_count": null,
   "id": "de42e62e-1c9a-45b4-bc31-d7a59bfd87e2",
   "metadata": {},
   "outputs": [],
   "source": []
  },
  {
   "cell_type": "code",
   "execution_count": 10,
   "id": "f62de3fa-a3f4-4ee7-b26e-45bd46542bc0",
   "metadata": {},
   "outputs": [
    {
     "data": {
      "text/html": [
       "<table class=\"dataframe\">\n",
       "<caption>A data.frame: 6 × 4</caption>\n",
       "<thead>\n",
       "\t<tr><th scope=col>name</th><th scope=col>age</th><th scope=col>mark</th><th scope=col>country</th></tr>\n",
       "\t<tr><th scope=col>&lt;chr&gt;</th><th scope=col>&lt;dbl&gt;</th><th scope=col>&lt;dbl&gt;</th><th scope=col>&lt;chr&gt;</th></tr>\n",
       "</thead>\n",
       "<tbody>\n",
       "\t<tr><td>Hellen</td><td>17</td><td>9.0</td><td>Mỹ  </td></tr>\n",
       "\t<tr><td>Jolie </td><td>16</td><td>9.0</td><td>Anh </td></tr>\n",
       "\t<tr><td>Kiwi  </td><td>17</td><td>8.0</td><td>Pháp</td></tr>\n",
       "\t<tr><td>John  </td><td>18</td><td>7.5</td><td>Nga </td></tr>\n",
       "\t<tr><td>Mark  </td><td>19</td><td>7.5</td><td>Nhật</td></tr>\n",
       "\t<tr><td>Tom   </td><td>16</td><td>8.0</td><td>Hàn </td></tr>\n",
       "</tbody>\n",
       "</table>\n"
      ],
      "text/latex": [
       "A data.frame: 6 × 4\n",
       "\\begin{tabular}{llll}\n",
       " name & age & mark & country\\\\\n",
       " <chr> & <dbl> & <dbl> & <chr>\\\\\n",
       "\\hline\n",
       "\t Hellen & 17 & 9.0 & Mỹ  \\\\\n",
       "\t Jolie  & 16 & 9.0 & Anh \\\\\n",
       "\t Kiwi   & 17 & 8.0 & Pháp\\\\\n",
       "\t John   & 18 & 7.5 & Nga \\\\\n",
       "\t Mark   & 19 & 7.5 & Nhật\\\\\n",
       "\t Tom    & 16 & 8.0 & Hàn \\\\\n",
       "\\end{tabular}\n"
      ],
      "text/markdown": [
       "\n",
       "A data.frame: 6 × 4\n",
       "\n",
       "| name &lt;chr&gt; | age &lt;dbl&gt; | mark &lt;dbl&gt; | country &lt;chr&gt; |\n",
       "|---|---|---|---|\n",
       "| Hellen | 17 | 9.0 | Mỹ   |\n",
       "| Jolie  | 16 | 9.0 | Anh  |\n",
       "| Kiwi   | 17 | 8.0 | Pháp |\n",
       "| John   | 18 | 7.5 | Nga  |\n",
       "| Mark   | 19 | 7.5 | Nhật |\n",
       "| Tom    | 16 | 8.0 | Hàn  |\n",
       "\n"
      ],
      "text/plain": [
       "  name   age mark country\n",
       "1 Hellen 17  9.0  Mỹ     \n",
       "2 Jolie  16  9.0  Anh    \n",
       "3 Kiwi   17  8.0  Pháp   \n",
       "4 John   18  7.5  Nga    \n",
       "5 Mark   19  7.5  Nhật   \n",
       "6 Tom    16  8.0  Hàn    "
      ]
     },
     "metadata": {},
     "output_type": "display_data"
    }
   ],
   "source": [
    "name = c('Hellen', 'Jolie', 'Kiwi', 'John', 'Mark', 'Tom')\n",
    "age = c(17, 16, 17, 18, 19, 16)\n",
    "mark = c(9, 9, 8, 7.5, 7.5, 8)\n",
    "students = data.frame(name, age, mark, stringsAsFactors=FALSE)\n",
    "\n",
    "country = c('Mỹ', 'Anh', 'Pháp', 'Nga', 'Nhật', 'Hàn')\n",
    "students = cbind(students, country)\n",
    "\n",
    "students"
   ]
  },
  {
   "cell_type": "markdown",
   "id": "ba8e90e7-0895-4dc7-a87a-6acff43ba822",
   "metadata": {},
   "source": [
    "# 1.5. Thêm dòng"
   ]
  },
  {
   "cell_type": "code",
   "execution_count": 11,
   "id": "bf675b97-450e-427b-8f58-2fcb915bd60d",
   "metadata": {},
   "outputs": [
    {
     "data": {
      "text/html": [
       "<table class=\"dataframe\">\n",
       "<caption>A data.frame: 8 × 3</caption>\n",
       "<thead>\n",
       "\t<tr><th scope=col>name</th><th scope=col>age</th><th scope=col>mark</th></tr>\n",
       "\t<tr><th scope=col>&lt;chr&gt;</th><th scope=col>&lt;dbl&gt;</th><th scope=col>&lt;dbl&gt;</th></tr>\n",
       "</thead>\n",
       "<tbody>\n",
       "\t<tr><td>Hellen</td><td>17</td><td> 9.0</td></tr>\n",
       "\t<tr><td>Jolie </td><td>16</td><td> 9.0</td></tr>\n",
       "\t<tr><td>Kiwi  </td><td>17</td><td> 8.0</td></tr>\n",
       "\t<tr><td>John  </td><td>18</td><td> 7.5</td></tr>\n",
       "\t<tr><td>Mark  </td><td>19</td><td> 7.5</td></tr>\n",
       "\t<tr><td>Tom   </td><td>16</td><td> 8.0</td></tr>\n",
       "\t<tr><td>Cường </td><td>22</td><td>10.0</td></tr>\n",
       "\t<tr><td>Tèo   </td><td>22</td><td>10.0</td></tr>\n",
       "</tbody>\n",
       "</table>\n"
      ],
      "text/latex": [
       "A data.frame: 8 × 3\n",
       "\\begin{tabular}{lll}\n",
       " name & age & mark\\\\\n",
       " <chr> & <dbl> & <dbl>\\\\\n",
       "\\hline\n",
       "\t Hellen & 17 &  9.0\\\\\n",
       "\t Jolie  & 16 &  9.0\\\\\n",
       "\t Kiwi   & 17 &  8.0\\\\\n",
       "\t John   & 18 &  7.5\\\\\n",
       "\t Mark   & 19 &  7.5\\\\\n",
       "\t Tom    & 16 &  8.0\\\\\n",
       "\t Cường  & 22 & 10.0\\\\\n",
       "\t Tèo    & 22 & 10.0\\\\\n",
       "\\end{tabular}\n"
      ],
      "text/markdown": [
       "\n",
       "A data.frame: 8 × 3\n",
       "\n",
       "| name &lt;chr&gt; | age &lt;dbl&gt; | mark &lt;dbl&gt; |\n",
       "|---|---|---|\n",
       "| Hellen | 17 |  9.0 |\n",
       "| Jolie  | 16 |  9.0 |\n",
       "| Kiwi   | 17 |  8.0 |\n",
       "| John   | 18 |  7.5 |\n",
       "| Mark   | 19 |  7.5 |\n",
       "| Tom    | 16 |  8.0 |\n",
       "| Cường  | 22 | 10.0 |\n",
       "| Tèo    | 22 | 10.0 |\n",
       "\n"
      ],
      "text/plain": [
       "  name   age mark\n",
       "1 Hellen 17   9.0\n",
       "2 Jolie  16   9.0\n",
       "3 Kiwi   17   8.0\n",
       "4 John   18   7.5\n",
       "5 Mark   19   7.5\n",
       "6 Tom    16   8.0\n",
       "7 Cường  22  10.0\n",
       "8 Tèo    22  10.0"
      ]
     },
     "metadata": {},
     "output_type": "display_data"
    }
   ],
   "source": [
    "name = c('Hellen', 'Jolie', 'Kiwi', 'John', 'Mark', 'Tom')\n",
    "age = c(17, 16, 17, 18, 19, 16)\n",
    "mark = c(9, 9, 8, 7.5, 7.5, 8)\n",
    "students = data.frame(name, age, mark, stringsAsFactors=FALSE)\n",
    "\n",
    "new_student = data.frame(name=c('Cường', 'Tèo'), age=c(22, 22), mark=c(10, 10), stringsAsFactors=FALSE)\n",
    "students = rbind(students, new_student)\n",
    "\n",
    "students"
   ]
  },
  {
   "cell_type": "code",
   "execution_count": null,
   "id": "89fc71cc-8343-4b46-a2d1-f7bf0648461d",
   "metadata": {},
   "outputs": [],
   "source": []
  },
  {
   "cell_type": "code",
   "execution_count": 14,
   "id": "962d9b28-bd27-4b2e-8f13-1f3047388681",
   "metadata": {},
   "outputs": [
    {
     "data": {
      "text/html": [
       "<table class=\"dataframe\">\n",
       "<caption>A data.frame: 7 × 3</caption>\n",
       "<thead>\n",
       "\t<tr><th scope=col>name</th><th scope=col>age</th><th scope=col>mark</th></tr>\n",
       "\t<tr><th scope=col>&lt;chr&gt;</th><th scope=col>&lt;dbl&gt;</th><th scope=col>&lt;dbl&gt;</th></tr>\n",
       "</thead>\n",
       "<tbody>\n",
       "\t<tr><td>Hellen</td><td>17</td><td> 9.0</td></tr>\n",
       "\t<tr><td>Jolie </td><td>16</td><td> 9.0</td></tr>\n",
       "\t<tr><td>Kiwi  </td><td>17</td><td> 8.0</td></tr>\n",
       "\t<tr><td>John  </td><td>18</td><td> 7.5</td></tr>\n",
       "\t<tr><td>Mark  </td><td>19</td><td> 7.5</td></tr>\n",
       "\t<tr><td>Tom   </td><td>16</td><td> 8.0</td></tr>\n",
       "\t<tr><td>Cường </td><td>22</td><td>10.0</td></tr>\n",
       "</tbody>\n",
       "</table>\n"
      ],
      "text/latex": [
       "A data.frame: 7 × 3\n",
       "\\begin{tabular}{lll}\n",
       " name & age & mark\\\\\n",
       " <chr> & <dbl> & <dbl>\\\\\n",
       "\\hline\n",
       "\t Hellen & 17 &  9.0\\\\\n",
       "\t Jolie  & 16 &  9.0\\\\\n",
       "\t Kiwi   & 17 &  8.0\\\\\n",
       "\t John   & 18 &  7.5\\\\\n",
       "\t Mark   & 19 &  7.5\\\\\n",
       "\t Tom    & 16 &  8.0\\\\\n",
       "\t Cường  & 22 & 10.0\\\\\n",
       "\\end{tabular}\n"
      ],
      "text/markdown": [
       "\n",
       "A data.frame: 7 × 3\n",
       "\n",
       "| name &lt;chr&gt; | age &lt;dbl&gt; | mark &lt;dbl&gt; |\n",
       "|---|---|---|\n",
       "| Hellen | 17 |  9.0 |\n",
       "| Jolie  | 16 |  9.0 |\n",
       "| Kiwi   | 17 |  8.0 |\n",
       "| John   | 18 |  7.5 |\n",
       "| Mark   | 19 |  7.5 |\n",
       "| Tom    | 16 |  8.0 |\n",
       "| Cường  | 22 | 10.0 |\n",
       "\n"
      ],
      "text/plain": [
       "  name   age mark\n",
       "1 Hellen 17   9.0\n",
       "2 Jolie  16   9.0\n",
       "3 Kiwi   17   8.0\n",
       "4 John   18   7.5\n",
       "5 Mark   19   7.5\n",
       "6 Tom    16   8.0\n",
       "7 Cường  22  10.0"
      ]
     },
     "metadata": {},
     "output_type": "display_data"
    }
   ],
   "source": [
    "name = c('Hellen', 'Jolie', 'Kiwi', 'John', 'Mark', 'Tom')\n",
    "age = c(17, 16, 17, 18, 19, 16)\n",
    "mark = c(9, 9, 8, 7.5, 7.5, 8)\n",
    "students = data.frame(name, age, mark, stringsAsFactors=FALSE)\n",
    "\n",
    "new_student_2 = list('Cường', 22, 10)\n",
    "students = rbind(students, new_student_2)\n",
    "\n",
    "students"
   ]
  },
  {
   "cell_type": "markdown",
   "id": "c289a6a5-2476-4cec-b780-38cbe91943c6",
   "metadata": {},
   "source": [
    "## 1.6. Đổi tên cột"
   ]
  },
  {
   "cell_type": "code",
   "execution_count": 15,
   "id": "c4a3938a-d182-402a-acff-e06070fd4de2",
   "metadata": {},
   "outputs": [
    {
     "data": {
      "text/html": [
       "<table class=\"dataframe\">\n",
       "<caption>A data.frame: 6 × 3</caption>\n",
       "<thead>\n",
       "\t<tr><th scope=col>name</th><th scope=col>age</th><th scope=col>score</th></tr>\n",
       "\t<tr><th scope=col>&lt;chr&gt;</th><th scope=col>&lt;dbl&gt;</th><th scope=col>&lt;dbl&gt;</th></tr>\n",
       "</thead>\n",
       "<tbody>\n",
       "\t<tr><td>Hellen</td><td>17</td><td>9.0</td></tr>\n",
       "\t<tr><td>Jolie </td><td>16</td><td>9.0</td></tr>\n",
       "\t<tr><td>Kiwi  </td><td>17</td><td>8.0</td></tr>\n",
       "\t<tr><td>John  </td><td>18</td><td>7.5</td></tr>\n",
       "\t<tr><td>Mark  </td><td>19</td><td>7.5</td></tr>\n",
       "\t<tr><td>Tom   </td><td>16</td><td>8.0</td></tr>\n",
       "</tbody>\n",
       "</table>\n"
      ],
      "text/latex": [
       "A data.frame: 6 × 3\n",
       "\\begin{tabular}{lll}\n",
       " name & age & score\\\\\n",
       " <chr> & <dbl> & <dbl>\\\\\n",
       "\\hline\n",
       "\t Hellen & 17 & 9.0\\\\\n",
       "\t Jolie  & 16 & 9.0\\\\\n",
       "\t Kiwi   & 17 & 8.0\\\\\n",
       "\t John   & 18 & 7.5\\\\\n",
       "\t Mark   & 19 & 7.5\\\\\n",
       "\t Tom    & 16 & 8.0\\\\\n",
       "\\end{tabular}\n"
      ],
      "text/markdown": [
       "\n",
       "A data.frame: 6 × 3\n",
       "\n",
       "| name &lt;chr&gt; | age &lt;dbl&gt; | score &lt;dbl&gt; |\n",
       "|---|---|---|\n",
       "| Hellen | 17 | 9.0 |\n",
       "| Jolie  | 16 | 9.0 |\n",
       "| Kiwi   | 17 | 8.0 |\n",
       "| John   | 18 | 7.5 |\n",
       "| Mark   | 19 | 7.5 |\n",
       "| Tom    | 16 | 8.0 |\n",
       "\n"
      ],
      "text/plain": [
       "  name   age score\n",
       "1 Hellen 17  9.0  \n",
       "2 Jolie  16  9.0  \n",
       "3 Kiwi   17  8.0  \n",
       "4 John   18  7.5  \n",
       "5 Mark   19  7.5  \n",
       "6 Tom    16  8.0  "
      ]
     },
     "metadata": {},
     "output_type": "display_data"
    }
   ],
   "source": [
    "name = c('Hellen', 'Jolie', 'Kiwi', 'John', 'Mark', 'Tom')\n",
    "age = c(17, 16, 17, 18, 19, 16)\n",
    "mark = c(9, 9, 8, 7.5, 7.5, 8)\n",
    "students = data.frame(name, age, mark, stringsAsFactors=FALSE)\n",
    "\n",
    "names(students)[names(students) == 'mark'] = 'score'\n",
    "\n",
    "students"
   ]
  },
  {
   "cell_type": "markdown",
   "id": "17448fc7-2fee-46c1-9c73-dad4a12df595",
   "metadata": {},
   "source": [
    "## 1.7. In vài dòng đầu và vài dòng cuối"
   ]
  },
  {
   "cell_type": "code",
   "execution_count": 16,
   "id": "edc7db7a-ec7c-4ecf-b015-3dc2f14620fd",
   "metadata": {},
   "outputs": [],
   "source": [
    "name = c('Hellen', 'Jolie', 'Kiwi', 'John', 'Mark', 'Tom')\n",
    "age = c(17, 16, 17, 18, 19, 16)\n",
    "mark = c(9, 9, 8, 7.5, 7.5, 8)\n",
    "students = data.frame(name, age, mark, stringsAsFactors=FALSE)"
   ]
  },
  {
   "cell_type": "code",
   "execution_count": 17,
   "id": "5aaba9ec-174d-43c8-9a75-58595cf71c92",
   "metadata": {},
   "outputs": [
    {
     "data": {
      "text/html": [
       "<table class=\"dataframe\">\n",
       "<caption>A data.frame: 6 × 3</caption>\n",
       "<thead>\n",
       "\t<tr><th></th><th scope=col>name</th><th scope=col>age</th><th scope=col>mark</th></tr>\n",
       "\t<tr><th></th><th scope=col>&lt;chr&gt;</th><th scope=col>&lt;dbl&gt;</th><th scope=col>&lt;dbl&gt;</th></tr>\n",
       "</thead>\n",
       "<tbody>\n",
       "\t<tr><th scope=row>1</th><td>Hellen</td><td>17</td><td>9.0</td></tr>\n",
       "\t<tr><th scope=row>2</th><td>Jolie </td><td>16</td><td>9.0</td></tr>\n",
       "\t<tr><th scope=row>3</th><td>Kiwi  </td><td>17</td><td>8.0</td></tr>\n",
       "\t<tr><th scope=row>4</th><td>John  </td><td>18</td><td>7.5</td></tr>\n",
       "\t<tr><th scope=row>5</th><td>Mark  </td><td>19</td><td>7.5</td></tr>\n",
       "\t<tr><th scope=row>6</th><td>Tom   </td><td>16</td><td>8.0</td></tr>\n",
       "</tbody>\n",
       "</table>\n"
      ],
      "text/latex": [
       "A data.frame: 6 × 3\n",
       "\\begin{tabular}{r|lll}\n",
       "  & name & age & mark\\\\\n",
       "  & <chr> & <dbl> & <dbl>\\\\\n",
       "\\hline\n",
       "\t1 & Hellen & 17 & 9.0\\\\\n",
       "\t2 & Jolie  & 16 & 9.0\\\\\n",
       "\t3 & Kiwi   & 17 & 8.0\\\\\n",
       "\t4 & John   & 18 & 7.5\\\\\n",
       "\t5 & Mark   & 19 & 7.5\\\\\n",
       "\t6 & Tom    & 16 & 8.0\\\\\n",
       "\\end{tabular}\n"
      ],
      "text/markdown": [
       "\n",
       "A data.frame: 6 × 3\n",
       "\n",
       "| <!--/--> | name &lt;chr&gt; | age &lt;dbl&gt; | mark &lt;dbl&gt; |\n",
       "|---|---|---|---|\n",
       "| 1 | Hellen | 17 | 9.0 |\n",
       "| 2 | Jolie  | 16 | 9.0 |\n",
       "| 3 | Kiwi   | 17 | 8.0 |\n",
       "| 4 | John   | 18 | 7.5 |\n",
       "| 5 | Mark   | 19 | 7.5 |\n",
       "| 6 | Tom    | 16 | 8.0 |\n",
       "\n"
      ],
      "text/plain": [
       "  name   age mark\n",
       "1 Hellen 17  9.0 \n",
       "2 Jolie  16  9.0 \n",
       "3 Kiwi   17  8.0 \n",
       "4 John   18  7.5 \n",
       "5 Mark   19  7.5 \n",
       "6 Tom    16  8.0 "
      ]
     },
     "metadata": {},
     "output_type": "display_data"
    }
   ],
   "source": [
    "head(students)"
   ]
  },
  {
   "cell_type": "code",
   "execution_count": 18,
   "id": "cd9af445-602a-4e5a-a020-77eb25a777d0",
   "metadata": {},
   "outputs": [
    {
     "data": {
      "text/html": [
       "<table class=\"dataframe\">\n",
       "<caption>A data.frame: 6 × 3</caption>\n",
       "<thead>\n",
       "\t<tr><th></th><th scope=col>name</th><th scope=col>age</th><th scope=col>mark</th></tr>\n",
       "\t<tr><th></th><th scope=col>&lt;chr&gt;</th><th scope=col>&lt;dbl&gt;</th><th scope=col>&lt;dbl&gt;</th></tr>\n",
       "</thead>\n",
       "<tbody>\n",
       "\t<tr><th scope=row>1</th><td>Hellen</td><td>17</td><td>9.0</td></tr>\n",
       "\t<tr><th scope=row>2</th><td>Jolie </td><td>16</td><td>9.0</td></tr>\n",
       "\t<tr><th scope=row>3</th><td>Kiwi  </td><td>17</td><td>8.0</td></tr>\n",
       "\t<tr><th scope=row>4</th><td>John  </td><td>18</td><td>7.5</td></tr>\n",
       "\t<tr><th scope=row>5</th><td>Mark  </td><td>19</td><td>7.5</td></tr>\n",
       "\t<tr><th scope=row>6</th><td>Tom   </td><td>16</td><td>8.0</td></tr>\n",
       "</tbody>\n",
       "</table>\n"
      ],
      "text/latex": [
       "A data.frame: 6 × 3\n",
       "\\begin{tabular}{r|lll}\n",
       "  & name & age & mark\\\\\n",
       "  & <chr> & <dbl> & <dbl>\\\\\n",
       "\\hline\n",
       "\t1 & Hellen & 17 & 9.0\\\\\n",
       "\t2 & Jolie  & 16 & 9.0\\\\\n",
       "\t3 & Kiwi   & 17 & 8.0\\\\\n",
       "\t4 & John   & 18 & 7.5\\\\\n",
       "\t5 & Mark   & 19 & 7.5\\\\\n",
       "\t6 & Tom    & 16 & 8.0\\\\\n",
       "\\end{tabular}\n"
      ],
      "text/markdown": [
       "\n",
       "A data.frame: 6 × 3\n",
       "\n",
       "| <!--/--> | name &lt;chr&gt; | age &lt;dbl&gt; | mark &lt;dbl&gt; |\n",
       "|---|---|---|---|\n",
       "| 1 | Hellen | 17 | 9.0 |\n",
       "| 2 | Jolie  | 16 | 9.0 |\n",
       "| 3 | Kiwi   | 17 | 8.0 |\n",
       "| 4 | John   | 18 | 7.5 |\n",
       "| 5 | Mark   | 19 | 7.5 |\n",
       "| 6 | Tom    | 16 | 8.0 |\n",
       "\n"
      ],
      "text/plain": [
       "  name   age mark\n",
       "1 Hellen 17  9.0 \n",
       "2 Jolie  16  9.0 \n",
       "3 Kiwi   17  8.0 \n",
       "4 John   18  7.5 \n",
       "5 Mark   19  7.5 \n",
       "6 Tom    16  8.0 "
      ]
     },
     "metadata": {},
     "output_type": "display_data"
    }
   ],
   "source": [
    "tail(students)"
   ]
  },
  {
   "cell_type": "markdown",
   "id": "ecfe13b7-904c-496c-a814-92c5567bc835",
   "metadata": {},
   "source": [
    "# 2. Tidyverse\n",
    "## 2.1. Install"
   ]
  },
  {
   "cell_type": "code",
   "execution_count": 22,
   "id": "0090edaa-0129-47fb-a772-9672714a3713",
   "metadata": {},
   "outputs": [
    {
     "name": "stderr",
     "output_type": "stream",
     "text": [
      "Installing package into ‘/home/manhcuong/R/x86_64-pc-linux-gnu-library/4.1’\n",
      "(as ‘lib’ is unspecified)\n",
      "\n",
      "Installing package into ‘/home/manhcuong/R/x86_64-pc-linux-gnu-library/4.1’\n",
      "(as ‘lib’ is unspecified)\n",
      "\n"
     ]
    }
   ],
   "source": [
    "install.packages('tidyverse')\n",
    "install.packages('httpuv') # cài chơi ko sài trog bài này"
   ]
  },
  {
   "cell_type": "markdown",
   "id": "0f031489-bfc3-4491-a160-f4f045c30524",
   "metadata": {},
   "source": [
    "## 2.2. Import"
   ]
  },
  {
   "cell_type": "code",
   "execution_count": 21,
   "id": "4655131a-de76-45d5-8a78-195520ce32f9",
   "metadata": {},
   "outputs": [],
   "source": [
    "library(tidyverse)"
   ]
  },
  {
   "cell_type": "markdown",
   "id": "a3ff7b16-e4ff-4c11-bb72-b8fedf2578ab",
   "metadata": {},
   "source": [
    "## 2.3. Load dữ liệu `pokemon`"
   ]
  },
  {
   "cell_type": "code",
   "execution_count": 25,
   "id": "9457c9c4-fd23-4a20-939c-d892e4599e59",
   "metadata": {},
   "outputs": [
    {
     "data": {
      "text/html": [
       "<table class=\"dataframe\">\n",
       "<caption>A data.frame: 6 × 13</caption>\n",
       "<thead>\n",
       "\t<tr><th></th><th scope=col>X.</th><th scope=col>Name</th><th scope=col>Type.1</th><th scope=col>Type.2</th><th scope=col>Total</th><th scope=col>HP</th><th scope=col>Attack</th><th scope=col>Defense</th><th scope=col>Sp..Atk</th><th scope=col>Sp..Def</th><th scope=col>Speed</th><th scope=col>Generation</th><th scope=col>Legendary</th></tr>\n",
       "\t<tr><th></th><th scope=col>&lt;int&gt;</th><th scope=col>&lt;chr&gt;</th><th scope=col>&lt;chr&gt;</th><th scope=col>&lt;chr&gt;</th><th scope=col>&lt;int&gt;</th><th scope=col>&lt;int&gt;</th><th scope=col>&lt;int&gt;</th><th scope=col>&lt;int&gt;</th><th scope=col>&lt;int&gt;</th><th scope=col>&lt;int&gt;</th><th scope=col>&lt;int&gt;</th><th scope=col>&lt;int&gt;</th><th scope=col>&lt;chr&gt;</th></tr>\n",
       "</thead>\n",
       "<tbody>\n",
       "\t<tr><th scope=row>1</th><td>1</td><td>Bulbasaur            </td><td>Grass</td><td>Poison</td><td>318</td><td>45</td><td> 49</td><td> 49</td><td> 65</td><td> 65</td><td>45</td><td>1</td><td>False</td></tr>\n",
       "\t<tr><th scope=row>2</th><td>2</td><td>Ivysaur              </td><td>Grass</td><td>Poison</td><td>405</td><td>60</td><td> 62</td><td> 63</td><td> 80</td><td> 80</td><td>60</td><td>1</td><td>False</td></tr>\n",
       "\t<tr><th scope=row>3</th><td>3</td><td>Venusaur             </td><td>Grass</td><td>Poison</td><td>525</td><td>80</td><td> 82</td><td> 83</td><td>100</td><td>100</td><td>80</td><td>1</td><td>False</td></tr>\n",
       "\t<tr><th scope=row>4</th><td>3</td><td>VenusaurMega Venusaur</td><td>Grass</td><td>Poison</td><td>625</td><td>80</td><td>100</td><td>123</td><td>122</td><td>120</td><td>80</td><td>1</td><td>False</td></tr>\n",
       "\t<tr><th scope=row>5</th><td>4</td><td>Charmander           </td><td>Fire </td><td>      </td><td>309</td><td>39</td><td> 52</td><td> 43</td><td> 60</td><td> 50</td><td>65</td><td>1</td><td>False</td></tr>\n",
       "\t<tr><th scope=row>6</th><td>5</td><td>Charmeleon           </td><td>Fire </td><td>      </td><td>405</td><td>58</td><td> 64</td><td> 58</td><td> 80</td><td> 65</td><td>80</td><td>1</td><td>False</td></tr>\n",
       "</tbody>\n",
       "</table>\n"
      ],
      "text/latex": [
       "A data.frame: 6 × 13\n",
       "\\begin{tabular}{r|lllllllllllll}\n",
       "  & X. & Name & Type.1 & Type.2 & Total & HP & Attack & Defense & Sp..Atk & Sp..Def & Speed & Generation & Legendary\\\\\n",
       "  & <int> & <chr> & <chr> & <chr> & <int> & <int> & <int> & <int> & <int> & <int> & <int> & <int> & <chr>\\\\\n",
       "\\hline\n",
       "\t1 & 1 & Bulbasaur             & Grass & Poison & 318 & 45 &  49 &  49 &  65 &  65 & 45 & 1 & False\\\\\n",
       "\t2 & 2 & Ivysaur               & Grass & Poison & 405 & 60 &  62 &  63 &  80 &  80 & 60 & 1 & False\\\\\n",
       "\t3 & 3 & Venusaur              & Grass & Poison & 525 & 80 &  82 &  83 & 100 & 100 & 80 & 1 & False\\\\\n",
       "\t4 & 3 & VenusaurMega Venusaur & Grass & Poison & 625 & 80 & 100 & 123 & 122 & 120 & 80 & 1 & False\\\\\n",
       "\t5 & 4 & Charmander            & Fire  &        & 309 & 39 &  52 &  43 &  60 &  50 & 65 & 1 & False\\\\\n",
       "\t6 & 5 & Charmeleon            & Fire  &        & 405 & 58 &  64 &  58 &  80 &  65 & 80 & 1 & False\\\\\n",
       "\\end{tabular}\n"
      ],
      "text/markdown": [
       "\n",
       "A data.frame: 6 × 13\n",
       "\n",
       "| <!--/--> | X. &lt;int&gt; | Name &lt;chr&gt; | Type.1 &lt;chr&gt; | Type.2 &lt;chr&gt; | Total &lt;int&gt; | HP &lt;int&gt; | Attack &lt;int&gt; | Defense &lt;int&gt; | Sp..Atk &lt;int&gt; | Sp..Def &lt;int&gt; | Speed &lt;int&gt; | Generation &lt;int&gt; | Legendary &lt;chr&gt; |\n",
       "|---|---|---|---|---|---|---|---|---|---|---|---|---|---|\n",
       "| 1 | 1 | Bulbasaur             | Grass | Poison | 318 | 45 |  49 |  49 |  65 |  65 | 45 | 1 | False |\n",
       "| 2 | 2 | Ivysaur               | Grass | Poison | 405 | 60 |  62 |  63 |  80 |  80 | 60 | 1 | False |\n",
       "| 3 | 3 | Venusaur              | Grass | Poison | 525 | 80 |  82 |  83 | 100 | 100 | 80 | 1 | False |\n",
       "| 4 | 3 | VenusaurMega Venusaur | Grass | Poison | 625 | 80 | 100 | 123 | 122 | 120 | 80 | 1 | False |\n",
       "| 5 | 4 | Charmander            | Fire  | <!----> | 309 | 39 |  52 |  43 |  60 |  50 | 65 | 1 | False |\n",
       "| 6 | 5 | Charmeleon            | Fire  | <!----> | 405 | 58 |  64 |  58 |  80 |  65 | 80 | 1 | False |\n",
       "\n"
      ],
      "text/plain": [
       "  X. Name                  Type.1 Type.2 Total HP Attack Defense Sp..Atk\n",
       "1 1  Bulbasaur             Grass  Poison 318   45  49     49      65    \n",
       "2 2  Ivysaur               Grass  Poison 405   60  62     63      80    \n",
       "3 3  Venusaur              Grass  Poison 525   80  82     83     100    \n",
       "4 3  VenusaurMega Venusaur Grass  Poison 625   80 100    123     122    \n",
       "5 4  Charmander            Fire          309   39  52     43      60    \n",
       "6 5  Charmeleon            Fire          405   58  64     58      80    \n",
       "  Sp..Def Speed Generation Legendary\n",
       "1  65     45    1          False    \n",
       "2  80     60    1          False    \n",
       "3 100     80    1          False    \n",
       "4 120     80    1          False    \n",
       "5  50     65    1          False    \n",
       "6  65     80    1          False    "
      ]
     },
     "metadata": {},
     "output_type": "display_data"
    }
   ],
   "source": [
    "pokemon = read.csv('./data/pokemon.csv')\n",
    "\n",
    "head(pokemon)"
   ]
  },
  {
   "cell_type": "code",
   "execution_count": null,
   "id": "a41e0ccd-dd2e-4bcf-8bd5-6fc2fed24cd4",
   "metadata": {},
   "outputs": [],
   "source": []
  }
 ],
 "metadata": {
  "kernelspec": {
   "display_name": "R",
   "language": "R",
   "name": "ir"
  },
  "language_info": {
   "codemirror_mode": "r",
   "file_extension": ".r",
   "mimetype": "text/x-r-source",
   "name": "R",
   "pygments_lexer": "r",
   "version": "4.1.0"
  }
 },
 "nbformat": 4,
 "nbformat_minor": 5
}
