{
 "cells": [
  {
   "cell_type": "markdown",
   "id": "2081901d-e95e-489c-9a16-abff83e14aba",
   "metadata": {},
   "source": [
    "![](images/08_03.png)\n",
    "![](images/08_04.png)"
   ]
  },
  {
   "cell_type": "code",
   "execution_count": 1,
   "id": "59bee978-f798-4a9e-8079-4e40e23e943b",
   "metadata": {},
   "outputs": [
    {
     "data": {
      "text/html": [
       "<table class=\"dataframe\">\n",
       "<caption>A data.frame: 6 × 4</caption>\n",
       "<thead>\n",
       "\t<tr><th></th><th scope=col>state.abb</th><th scope=col>state.area</th><th scope=col>state.division</th><th scope=col>state.region</th></tr>\n",
       "\t<tr><th></th><th scope=col>&lt;chr&gt;</th><th scope=col>&lt;dbl&gt;</th><th scope=col>&lt;fct&gt;</th><th scope=col>&lt;fct&gt;</th></tr>\n",
       "</thead>\n",
       "<tbody>\n",
       "\t<tr><th scope=row>Alabama</th><td>AL</td><td> 51609</td><td>East South Central</td><td>South</td></tr>\n",
       "\t<tr><th scope=row>Alaska</th><td>AK</td><td>589757</td><td>Pacific           </td><td>West </td></tr>\n",
       "\t<tr><th scope=row>Arizona</th><td>AZ</td><td>113909</td><td>Mountain          </td><td>West </td></tr>\n",
       "\t<tr><th scope=row>Arkansas</th><td>AR</td><td> 53104</td><td>West South Central</td><td>South</td></tr>\n",
       "\t<tr><th scope=row>California</th><td>CA</td><td>158693</td><td>Pacific           </td><td>West </td></tr>\n",
       "\t<tr><th scope=row>Colorado</th><td>CO</td><td>104247</td><td>Mountain          </td><td>West </td></tr>\n",
       "</tbody>\n",
       "</table>\n"
      ],
      "text/latex": [
       "A data.frame: 6 × 4\n",
       "\\begin{tabular}{r|llll}\n",
       "  & state.abb & state.area & state.division & state.region\\\\\n",
       "  & <chr> & <dbl> & <fct> & <fct>\\\\\n",
       "\\hline\n",
       "\tAlabama & AL &  51609 & East South Central & South\\\\\n",
       "\tAlaska & AK & 589757 & Pacific            & West \\\\\n",
       "\tArizona & AZ & 113909 & Mountain           & West \\\\\n",
       "\tArkansas & AR &  53104 & West South Central & South\\\\\n",
       "\tCalifornia & CA & 158693 & Pacific            & West \\\\\n",
       "\tColorado & CO & 104247 & Mountain           & West \\\\\n",
       "\\end{tabular}\n"
      ],
      "text/markdown": [
       "\n",
       "A data.frame: 6 × 4\n",
       "\n",
       "| <!--/--> | state.abb &lt;chr&gt; | state.area &lt;dbl&gt; | state.division &lt;fct&gt; | state.region &lt;fct&gt; |\n",
       "|---|---|---|---|---|\n",
       "| Alabama | AL |  51609 | East South Central | South |\n",
       "| Alaska | AK | 589757 | Pacific            | West  |\n",
       "| Arizona | AZ | 113909 | Mountain           | West  |\n",
       "| Arkansas | AR |  53104 | West South Central | South |\n",
       "| California | CA | 158693 | Pacific            | West  |\n",
       "| Colorado | CO | 104247 | Mountain           | West  |\n",
       "\n"
      ],
      "text/plain": [
       "           state.abb state.area state.division     state.region\n",
       "Alabama    AL         51609     East South Central South       \n",
       "Alaska     AK        589757     Pacific            West        \n",
       "Arizona    AZ        113909     Mountain           West        \n",
       "Arkansas   AR         53104     West South Central South       \n",
       "California CA        158693     Pacific            West        \n",
       "Colorado   CO        104247     Mountain           West        "
      ]
     },
     "metadata": {},
     "output_type": "display_data"
    }
   ],
   "source": [
    "df = data.frame(state.abb, state.area, state.division, state.region, \n",
    "                row.names = state.name)\n",
    "\n",
    "head(df)"
   ]
  },
  {
   "cell_type": "code",
   "execution_count": null,
   "id": "8d0bfa51-07fa-4893-bd71-fc93b85cf6e1",
   "metadata": {},
   "outputs": [],
   "source": []
  },
  {
   "cell_type": "code",
   "execution_count": 2,
   "id": "78374f97-0cc2-4be5-b39b-ce1f677839a1",
   "metadata": {},
   "outputs": [],
   "source": [
    "colnames(df) = substr(colnames(df), 7, 9)"
   ]
  },
  {
   "cell_type": "code",
   "execution_count": 3,
   "id": "85f26de6-f64c-436c-8a63-15314e30ede3",
   "metadata": {},
   "outputs": [
    {
     "data": {
      "text/html": [
       "<table class=\"dataframe\">\n",
       "<caption>A data.frame: 6 × 4</caption>\n",
       "<thead>\n",
       "\t<tr><th></th><th scope=col>abb</th><th scope=col>are</th><th scope=col>div</th><th scope=col>reg</th></tr>\n",
       "\t<tr><th></th><th scope=col>&lt;chr&gt;</th><th scope=col>&lt;dbl&gt;</th><th scope=col>&lt;fct&gt;</th><th scope=col>&lt;fct&gt;</th></tr>\n",
       "</thead>\n",
       "<tbody>\n",
       "\t<tr><th scope=row>Alabama</th><td>AL</td><td> 51609</td><td>East South Central</td><td>South</td></tr>\n",
       "\t<tr><th scope=row>Alaska</th><td>AK</td><td>589757</td><td>Pacific           </td><td>West </td></tr>\n",
       "\t<tr><th scope=row>Arizona</th><td>AZ</td><td>113909</td><td>Mountain          </td><td>West </td></tr>\n",
       "\t<tr><th scope=row>Arkansas</th><td>AR</td><td> 53104</td><td>West South Central</td><td>South</td></tr>\n",
       "\t<tr><th scope=row>California</th><td>CA</td><td>158693</td><td>Pacific           </td><td>West </td></tr>\n",
       "\t<tr><th scope=row>Colorado</th><td>CO</td><td>104247</td><td>Mountain          </td><td>West </td></tr>\n",
       "</tbody>\n",
       "</table>\n"
      ],
      "text/latex": [
       "A data.frame: 6 × 4\n",
       "\\begin{tabular}{r|llll}\n",
       "  & abb & are & div & reg\\\\\n",
       "  & <chr> & <dbl> & <fct> & <fct>\\\\\n",
       "\\hline\n",
       "\tAlabama & AL &  51609 & East South Central & South\\\\\n",
       "\tAlaska & AK & 589757 & Pacific            & West \\\\\n",
       "\tArizona & AZ & 113909 & Mountain           & West \\\\\n",
       "\tArkansas & AR &  53104 & West South Central & South\\\\\n",
       "\tCalifornia & CA & 158693 & Pacific            & West \\\\\n",
       "\tColorado & CO & 104247 & Mountain           & West \\\\\n",
       "\\end{tabular}\n"
      ],
      "text/markdown": [
       "\n",
       "A data.frame: 6 × 4\n",
       "\n",
       "| <!--/--> | abb &lt;chr&gt; | are &lt;dbl&gt; | div &lt;fct&gt; | reg &lt;fct&gt; |\n",
       "|---|---|---|---|---|\n",
       "| Alabama | AL |  51609 | East South Central | South |\n",
       "| Alaska | AK | 589757 | Pacific            | West  |\n",
       "| Arizona | AZ | 113909 | Mountain           | West  |\n",
       "| Arkansas | AR |  53104 | West South Central | South |\n",
       "| California | CA | 158693 | Pacific            | West  |\n",
       "| Colorado | CO | 104247 | Mountain           | West  |\n",
       "\n"
      ],
      "text/plain": [
       "           abb are    div                reg  \n",
       "Alabama    AL   51609 East South Central South\n",
       "Alaska     AK  589757 Pacific            West \n",
       "Arizona    AZ  113909 Mountain           West \n",
       "Arkansas   AR   53104 West South Central South\n",
       "California CA  158693 Pacific            West \n",
       "Colorado   CO  104247 Mountain           West "
      ]
     },
     "metadata": {},
     "output_type": "display_data"
    }
   ],
   "source": [
    "head(df)"
   ]
  },
  {
   "cell_type": "code",
   "execution_count": null,
   "id": "31252ac5-b0e5-429b-945f-c2b9180c7c5c",
   "metadata": {},
   "outputs": [],
   "source": []
  },
  {
   "cell_type": "code",
   "execution_count": 4,
   "id": "4e91e6ba-765a-4392-aefa-8746e8885670",
   "metadata": {},
   "outputs": [],
   "source": [
    "df_new = cbind(state.x77, df)"
   ]
  },
  {
   "cell_type": "code",
   "execution_count": 6,
   "id": "846c0b32-1f49-4f8d-99dc-ec52febcce39",
   "metadata": {},
   "outputs": [
    {
     "data": {
      "text/html": [
       "<table class=\"dataframe\">\n",
       "<caption>A data.frame: 6 × 12</caption>\n",
       "<thead>\n",
       "\t<tr><th></th><th scope=col>Population</th><th scope=col>Income</th><th scope=col>Illiteracy</th><th scope=col>Life Exp</th><th scope=col>Murder</th><th scope=col>HS Grad</th><th scope=col>Frost</th><th scope=col>Area</th><th scope=col>abb</th><th scope=col>are</th><th scope=col>div</th><th scope=col>reg</th></tr>\n",
       "\t<tr><th></th><th scope=col>&lt;dbl&gt;</th><th scope=col>&lt;dbl&gt;</th><th scope=col>&lt;dbl&gt;</th><th scope=col>&lt;dbl&gt;</th><th scope=col>&lt;dbl&gt;</th><th scope=col>&lt;dbl&gt;</th><th scope=col>&lt;dbl&gt;</th><th scope=col>&lt;dbl&gt;</th><th scope=col>&lt;chr&gt;</th><th scope=col>&lt;dbl&gt;</th><th scope=col>&lt;fct&gt;</th><th scope=col>&lt;fct&gt;</th></tr>\n",
       "</thead>\n",
       "<tbody>\n",
       "\t<tr><th scope=row>Alabama</th><td> 3615</td><td>3624</td><td>2.1</td><td>69.05</td><td>15.1</td><td>41.3</td><td> 20</td><td> 50708</td><td>AL</td><td> 51609</td><td>East South Central</td><td>South</td></tr>\n",
       "\t<tr><th scope=row>Alaska</th><td>  365</td><td>6315</td><td>1.5</td><td>69.31</td><td>11.3</td><td>66.7</td><td>152</td><td>566432</td><td>AK</td><td>589757</td><td>Pacific           </td><td>West </td></tr>\n",
       "\t<tr><th scope=row>Arizona</th><td> 2212</td><td>4530</td><td>1.8</td><td>70.55</td><td> 7.8</td><td>58.1</td><td> 15</td><td>113417</td><td>AZ</td><td>113909</td><td>Mountain          </td><td>West </td></tr>\n",
       "\t<tr><th scope=row>Arkansas</th><td> 2110</td><td>3378</td><td>1.9</td><td>70.66</td><td>10.1</td><td>39.9</td><td> 65</td><td> 51945</td><td>AR</td><td> 53104</td><td>West South Central</td><td>South</td></tr>\n",
       "\t<tr><th scope=row>California</th><td>21198</td><td>5114</td><td>1.1</td><td>71.71</td><td>10.3</td><td>62.6</td><td> 20</td><td>156361</td><td>CA</td><td>158693</td><td>Pacific           </td><td>West </td></tr>\n",
       "\t<tr><th scope=row>Colorado</th><td> 2541</td><td>4884</td><td>0.7</td><td>72.06</td><td> 6.8</td><td>63.9</td><td>166</td><td>103766</td><td>CO</td><td>104247</td><td>Mountain          </td><td>West </td></tr>\n",
       "</tbody>\n",
       "</table>\n"
      ],
      "text/latex": [
       "A data.frame: 6 × 12\n",
       "\\begin{tabular}{r|llllllllllll}\n",
       "  & Population & Income & Illiteracy & Life Exp & Murder & HS Grad & Frost & Area & abb & are & div & reg\\\\\n",
       "  & <dbl> & <dbl> & <dbl> & <dbl> & <dbl> & <dbl> & <dbl> & <dbl> & <chr> & <dbl> & <fct> & <fct>\\\\\n",
       "\\hline\n",
       "\tAlabama &  3615 & 3624 & 2.1 & 69.05 & 15.1 & 41.3 &  20 &  50708 & AL &  51609 & East South Central & South\\\\\n",
       "\tAlaska &   365 & 6315 & 1.5 & 69.31 & 11.3 & 66.7 & 152 & 566432 & AK & 589757 & Pacific            & West \\\\\n",
       "\tArizona &  2212 & 4530 & 1.8 & 70.55 &  7.8 & 58.1 &  15 & 113417 & AZ & 113909 & Mountain           & West \\\\\n",
       "\tArkansas &  2110 & 3378 & 1.9 & 70.66 & 10.1 & 39.9 &  65 &  51945 & AR &  53104 & West South Central & South\\\\\n",
       "\tCalifornia & 21198 & 5114 & 1.1 & 71.71 & 10.3 & 62.6 &  20 & 156361 & CA & 158693 & Pacific            & West \\\\\n",
       "\tColorado &  2541 & 4884 & 0.7 & 72.06 &  6.8 & 63.9 & 166 & 103766 & CO & 104247 & Mountain           & West \\\\\n",
       "\\end{tabular}\n"
      ],
      "text/markdown": [
       "\n",
       "A data.frame: 6 × 12\n",
       "\n",
       "| <!--/--> | Population &lt;dbl&gt; | Income &lt;dbl&gt; | Illiteracy &lt;dbl&gt; | Life Exp &lt;dbl&gt; | Murder &lt;dbl&gt; | HS Grad &lt;dbl&gt; | Frost &lt;dbl&gt; | Area &lt;dbl&gt; | abb &lt;chr&gt; | are &lt;dbl&gt; | div &lt;fct&gt; | reg &lt;fct&gt; |\n",
       "|---|---|---|---|---|---|---|---|---|---|---|---|---|\n",
       "| Alabama |  3615 | 3624 | 2.1 | 69.05 | 15.1 | 41.3 |  20 |  50708 | AL |  51609 | East South Central | South |\n",
       "| Alaska |   365 | 6315 | 1.5 | 69.31 | 11.3 | 66.7 | 152 | 566432 | AK | 589757 | Pacific            | West  |\n",
       "| Arizona |  2212 | 4530 | 1.8 | 70.55 |  7.8 | 58.1 |  15 | 113417 | AZ | 113909 | Mountain           | West  |\n",
       "| Arkansas |  2110 | 3378 | 1.9 | 70.66 | 10.1 | 39.9 |  65 |  51945 | AR |  53104 | West South Central | South |\n",
       "| California | 21198 | 5114 | 1.1 | 71.71 | 10.3 | 62.6 |  20 | 156361 | CA | 158693 | Pacific            | West  |\n",
       "| Colorado |  2541 | 4884 | 0.7 | 72.06 |  6.8 | 63.9 | 166 | 103766 | CO | 104247 | Mountain           | West  |\n",
       "\n"
      ],
      "text/plain": [
       "           Population Income Illiteracy Life Exp Murder HS Grad Frost Area  \n",
       "Alabama     3615      3624   2.1        69.05    15.1   41.3     20    50708\n",
       "Alaska       365      6315   1.5        69.31    11.3   66.7    152   566432\n",
       "Arizona     2212      4530   1.8        70.55     7.8   58.1     15   113417\n",
       "Arkansas    2110      3378   1.9        70.66    10.1   39.9     65    51945\n",
       "California 21198      5114   1.1        71.71    10.3   62.6     20   156361\n",
       "Colorado    2541      4884   0.7        72.06     6.8   63.9    166   103766\n",
       "           abb are    div                reg  \n",
       "Alabama    AL   51609 East South Central South\n",
       "Alaska     AK  589757 Pacific            West \n",
       "Arizona    AZ  113909 Mountain           West \n",
       "Arkansas   AR   53104 West South Central South\n",
       "California CA  158693 Pacific            West \n",
       "Colorado   CO  104247 Mountain           West "
      ]
     },
     "metadata": {},
     "output_type": "display_data"
    }
   ],
   "source": [
    "head(df_new)"
   ]
  },
  {
   "cell_type": "code",
   "execution_count": null,
   "id": "f2035f45-d826-41cb-82ad-06fdd907db4c",
   "metadata": {},
   "outputs": [],
   "source": []
  },
  {
   "cell_type": "code",
   "execution_count": 8,
   "id": "d59a60a5-d537-4569-8991-b7ff2b38d711",
   "metadata": {},
   "outputs": [],
   "source": [
    "df_new = subset(df_new, \n",
    "                select = -c(4, 6, 7, 9, 10))"
   ]
  },
  {
   "cell_type": "code",
   "execution_count": 9,
   "id": "d5841355-2cab-47a7-89bc-370911cfda0f",
   "metadata": {},
   "outputs": [
    {
     "data": {
      "text/html": [
       "<table class=\"dataframe\">\n",
       "<caption>A data.frame: 6 × 7</caption>\n",
       "<thead>\n",
       "\t<tr><th></th><th scope=col>Population</th><th scope=col>Income</th><th scope=col>Illiteracy</th><th scope=col>Murder</th><th scope=col>Area</th><th scope=col>div</th><th scope=col>reg</th></tr>\n",
       "\t<tr><th></th><th scope=col>&lt;dbl&gt;</th><th scope=col>&lt;dbl&gt;</th><th scope=col>&lt;dbl&gt;</th><th scope=col>&lt;dbl&gt;</th><th scope=col>&lt;dbl&gt;</th><th scope=col>&lt;fct&gt;</th><th scope=col>&lt;fct&gt;</th></tr>\n",
       "</thead>\n",
       "<tbody>\n",
       "\t<tr><th scope=row>Alabama</th><td> 3615</td><td>3624</td><td>2.1</td><td>15.1</td><td> 50708</td><td>East South Central</td><td>South</td></tr>\n",
       "\t<tr><th scope=row>Alaska</th><td>  365</td><td>6315</td><td>1.5</td><td>11.3</td><td>566432</td><td>Pacific           </td><td>West </td></tr>\n",
       "\t<tr><th scope=row>Arizona</th><td> 2212</td><td>4530</td><td>1.8</td><td> 7.8</td><td>113417</td><td>Mountain          </td><td>West </td></tr>\n",
       "\t<tr><th scope=row>Arkansas</th><td> 2110</td><td>3378</td><td>1.9</td><td>10.1</td><td> 51945</td><td>West South Central</td><td>South</td></tr>\n",
       "\t<tr><th scope=row>California</th><td>21198</td><td>5114</td><td>1.1</td><td>10.3</td><td>156361</td><td>Pacific           </td><td>West </td></tr>\n",
       "\t<tr><th scope=row>Colorado</th><td> 2541</td><td>4884</td><td>0.7</td><td> 6.8</td><td>103766</td><td>Mountain          </td><td>West </td></tr>\n",
       "</tbody>\n",
       "</table>\n"
      ],
      "text/latex": [
       "A data.frame: 6 × 7\n",
       "\\begin{tabular}{r|lllllll}\n",
       "  & Population & Income & Illiteracy & Murder & Area & div & reg\\\\\n",
       "  & <dbl> & <dbl> & <dbl> & <dbl> & <dbl> & <fct> & <fct>\\\\\n",
       "\\hline\n",
       "\tAlabama &  3615 & 3624 & 2.1 & 15.1 &  50708 & East South Central & South\\\\\n",
       "\tAlaska &   365 & 6315 & 1.5 & 11.3 & 566432 & Pacific            & West \\\\\n",
       "\tArizona &  2212 & 4530 & 1.8 &  7.8 & 113417 & Mountain           & West \\\\\n",
       "\tArkansas &  2110 & 3378 & 1.9 & 10.1 &  51945 & West South Central & South\\\\\n",
       "\tCalifornia & 21198 & 5114 & 1.1 & 10.3 & 156361 & Pacific            & West \\\\\n",
       "\tColorado &  2541 & 4884 & 0.7 &  6.8 & 103766 & Mountain           & West \\\\\n",
       "\\end{tabular}\n"
      ],
      "text/markdown": [
       "\n",
       "A data.frame: 6 × 7\n",
       "\n",
       "| <!--/--> | Population &lt;dbl&gt; | Income &lt;dbl&gt; | Illiteracy &lt;dbl&gt; | Murder &lt;dbl&gt; | Area &lt;dbl&gt; | div &lt;fct&gt; | reg &lt;fct&gt; |\n",
       "|---|---|---|---|---|---|---|---|\n",
       "| Alabama |  3615 | 3624 | 2.1 | 15.1 |  50708 | East South Central | South |\n",
       "| Alaska |   365 | 6315 | 1.5 | 11.3 | 566432 | Pacific            | West  |\n",
       "| Arizona |  2212 | 4530 | 1.8 |  7.8 | 113417 | Mountain           | West  |\n",
       "| Arkansas |  2110 | 3378 | 1.9 | 10.1 |  51945 | West South Central | South |\n",
       "| California | 21198 | 5114 | 1.1 | 10.3 | 156361 | Pacific            | West  |\n",
       "| Colorado |  2541 | 4884 | 0.7 |  6.8 | 103766 | Mountain           | West  |\n",
       "\n"
      ],
      "text/plain": [
       "           Population Income Illiteracy Murder Area   div                reg  \n",
       "Alabama     3615      3624   2.1        15.1    50708 East South Central South\n",
       "Alaska       365      6315   1.5        11.3   566432 Pacific            West \n",
       "Arizona     2212      4530   1.8         7.8   113417 Mountain           West \n",
       "Arkansas    2110      3378   1.9        10.1    51945 West South Central South\n",
       "California 21198      5114   1.1        10.3   156361 Pacific            West \n",
       "Colorado    2541      4884   0.7         6.8   103766 Mountain           West "
      ]
     },
     "metadata": {},
     "output_type": "display_data"
    }
   ],
   "source": [
    "head(df_new)"
   ]
  },
  {
   "cell_type": "code",
   "execution_count": null,
   "id": "6ac48cd2-747e-45e6-ac80-eb2ff7334ff1",
   "metadata": {},
   "outputs": [],
   "source": []
  },
  {
   "cell_type": "code",
   "execution_count": 10,
   "id": "00b29f14-cc68-491a-9946-c87033314514",
   "metadata": {},
   "outputs": [],
   "source": [
    "df_new$Illiteracy.Levels = ifelse(df_new$Illiteracy >= 0 & df_new$Illiteracy < 1, 'Low',\n",
    "                                 ifelse(df_new$Illiteracy >= 1 & df_new$Illiteracy < 2, 'Some',\n",
    "                                       'High'))"
   ]
  },
  {
   "cell_type": "code",
   "execution_count": 11,
   "id": "86a771ec-36da-493a-9e06-c9c3bc595f1e",
   "metadata": {},
   "outputs": [
    {
     "data": {
      "text/html": [
       "<table class=\"dataframe\">\n",
       "<caption>A data.frame: 6 × 8</caption>\n",
       "<thead>\n",
       "\t<tr><th></th><th scope=col>Population</th><th scope=col>Income</th><th scope=col>Illiteracy</th><th scope=col>Murder</th><th scope=col>Area</th><th scope=col>div</th><th scope=col>reg</th><th scope=col>Illiteracy.Levels</th></tr>\n",
       "\t<tr><th></th><th scope=col>&lt;dbl&gt;</th><th scope=col>&lt;dbl&gt;</th><th scope=col>&lt;dbl&gt;</th><th scope=col>&lt;dbl&gt;</th><th scope=col>&lt;dbl&gt;</th><th scope=col>&lt;fct&gt;</th><th scope=col>&lt;fct&gt;</th><th scope=col>&lt;chr&gt;</th></tr>\n",
       "</thead>\n",
       "<tbody>\n",
       "\t<tr><th scope=row>Alabama</th><td> 3615</td><td>3624</td><td>2.1</td><td>15.1</td><td> 50708</td><td>East South Central</td><td>South</td><td>High</td></tr>\n",
       "\t<tr><th scope=row>Alaska</th><td>  365</td><td>6315</td><td>1.5</td><td>11.3</td><td>566432</td><td>Pacific           </td><td>West </td><td>Some</td></tr>\n",
       "\t<tr><th scope=row>Arizona</th><td> 2212</td><td>4530</td><td>1.8</td><td> 7.8</td><td>113417</td><td>Mountain          </td><td>West </td><td>Some</td></tr>\n",
       "\t<tr><th scope=row>Arkansas</th><td> 2110</td><td>3378</td><td>1.9</td><td>10.1</td><td> 51945</td><td>West South Central</td><td>South</td><td>Some</td></tr>\n",
       "\t<tr><th scope=row>California</th><td>21198</td><td>5114</td><td>1.1</td><td>10.3</td><td>156361</td><td>Pacific           </td><td>West </td><td>Some</td></tr>\n",
       "\t<tr><th scope=row>Colorado</th><td> 2541</td><td>4884</td><td>0.7</td><td> 6.8</td><td>103766</td><td>Mountain          </td><td>West </td><td>Low </td></tr>\n",
       "</tbody>\n",
       "</table>\n"
      ],
      "text/latex": [
       "A data.frame: 6 × 8\n",
       "\\begin{tabular}{r|llllllll}\n",
       "  & Population & Income & Illiteracy & Murder & Area & div & reg & Illiteracy.Levels\\\\\n",
       "  & <dbl> & <dbl> & <dbl> & <dbl> & <dbl> & <fct> & <fct> & <chr>\\\\\n",
       "\\hline\n",
       "\tAlabama &  3615 & 3624 & 2.1 & 15.1 &  50708 & East South Central & South & High\\\\\n",
       "\tAlaska &   365 & 6315 & 1.5 & 11.3 & 566432 & Pacific            & West  & Some\\\\\n",
       "\tArizona &  2212 & 4530 & 1.8 &  7.8 & 113417 & Mountain           & West  & Some\\\\\n",
       "\tArkansas &  2110 & 3378 & 1.9 & 10.1 &  51945 & West South Central & South & Some\\\\\n",
       "\tCalifornia & 21198 & 5114 & 1.1 & 10.3 & 156361 & Pacific            & West  & Some\\\\\n",
       "\tColorado &  2541 & 4884 & 0.7 &  6.8 & 103766 & Mountain           & West  & Low \\\\\n",
       "\\end{tabular}\n"
      ],
      "text/markdown": [
       "\n",
       "A data.frame: 6 × 8\n",
       "\n",
       "| <!--/--> | Population &lt;dbl&gt; | Income &lt;dbl&gt; | Illiteracy &lt;dbl&gt; | Murder &lt;dbl&gt; | Area &lt;dbl&gt; | div &lt;fct&gt; | reg &lt;fct&gt; | Illiteracy.Levels &lt;chr&gt; |\n",
       "|---|---|---|---|---|---|---|---|---|\n",
       "| Alabama |  3615 | 3624 | 2.1 | 15.1 |  50708 | East South Central | South | High |\n",
       "| Alaska |   365 | 6315 | 1.5 | 11.3 | 566432 | Pacific            | West  | Some |\n",
       "| Arizona |  2212 | 4530 | 1.8 |  7.8 | 113417 | Mountain           | West  | Some |\n",
       "| Arkansas |  2110 | 3378 | 1.9 | 10.1 |  51945 | West South Central | South | Some |\n",
       "| California | 21198 | 5114 | 1.1 | 10.3 | 156361 | Pacific            | West  | Some |\n",
       "| Colorado |  2541 | 4884 | 0.7 |  6.8 | 103766 | Mountain           | West  | Low  |\n",
       "\n"
      ],
      "text/plain": [
       "           Population Income Illiteracy Murder Area   div                reg  \n",
       "Alabama     3615      3624   2.1        15.1    50708 East South Central South\n",
       "Alaska       365      6315   1.5        11.3   566432 Pacific            West \n",
       "Arizona     2212      4530   1.8         7.8   113417 Mountain           West \n",
       "Arkansas    2110      3378   1.9        10.1    51945 West South Central South\n",
       "California 21198      5114   1.1        10.3   156361 Pacific            West \n",
       "Colorado    2541      4884   0.7         6.8   103766 Mountain           West \n",
       "           Illiteracy.Levels\n",
       "Alabama    High             \n",
       "Alaska     Some             \n",
       "Arizona    Some             \n",
       "Arkansas   Some             \n",
       "California Some             \n",
       "Colorado   Low              "
      ]
     },
     "metadata": {},
     "output_type": "display_data"
    }
   ],
   "source": [
    "head(df_new)"
   ]
  },
  {
   "cell_type": "code",
   "execution_count": null,
   "id": "ac503efc-b929-415d-8f4f-4882d65b6df8",
   "metadata": {},
   "outputs": [],
   "source": []
  },
  {
   "cell_type": "code",
   "execution_count": 12,
   "id": "77286828-b818-4cf9-9f7b-a7cdcce145b3",
   "metadata": {},
   "outputs": [
    {
     "data": {
      "text/html": [
       "<style>\n",
       ".list-inline {list-style: none; margin:0; padding: 0}\n",
       ".list-inline>li {display: inline-block}\n",
       ".list-inline>li:not(:last-child)::after {content: \"\\00b7\"; padding: 0 .5ex}\n",
       "</style>\n",
       "<ol class=list-inline><li>'Northeast'</li><li>'South'</li><li>'North Central'</li><li>'West'</li></ol>\n"
      ],
      "text/latex": [
       "\\begin{enumerate*}\n",
       "\\item 'Northeast'\n",
       "\\item 'South'\n",
       "\\item 'North Central'\n",
       "\\item 'West'\n",
       "\\end{enumerate*}\n"
      ],
      "text/markdown": [
       "1. 'Northeast'\n",
       "2. 'South'\n",
       "3. 'North Central'\n",
       "4. 'West'\n",
       "\n",
       "\n"
      ],
      "text/plain": [
       "[1] \"Northeast\"     \"South\"         \"North Central\" \"West\"         "
      ]
     },
     "metadata": {},
     "output_type": "display_data"
    }
   ],
   "source": [
    "levels(df_new$reg)"
   ]
  },
  {
   "cell_type": "code",
   "execution_count": null,
   "id": "f647d39d-51ba-4bc2-823b-f71ce6efd550",
   "metadata": {},
   "outputs": [],
   "source": []
  }
 ],
 "metadata": {
  "kernelspec": {
   "display_name": "R",
   "language": "R",
   "name": "ir"
  },
  "language_info": {
   "codemirror_mode": "r",
   "file_extension": ".r",
   "mimetype": "text/x-r-source",
   "name": "R",
   "pygments_lexer": "r",
   "version": "4.1.0"
  }
 },
 "nbformat": 4,
 "nbformat_minor": 5
}
