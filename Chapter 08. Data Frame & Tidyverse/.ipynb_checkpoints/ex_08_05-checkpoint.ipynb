{
 "cells": [
  {
   "cell_type": "markdown",
   "id": "a416d12f-57fd-4075-8cad-1c5a92cab18f",
   "metadata": {},
   "source": [
    "![](images/08_05.png)\n",
    "![](images/08_06.png)"
   ]
  },
  {
   "cell_type": "code",
   "execution_count": 1,
   "id": "e1866d47-6c49-4051-a5b9-996ff12db31e",
   "metadata": {},
   "outputs": [
    {
     "name": "stderr",
     "output_type": "stream",
     "text": [
      "── \u001b[1mAttaching packages\u001b[22m ─────────────────────────────────────── tidyverse 1.3.1 ──\n",
      "\n",
      "\u001b[32m✔\u001b[39m \u001b[34mggplot2\u001b[39m 3.3.5     \u001b[32m✔\u001b[39m \u001b[34mpurrr  \u001b[39m 0.3.4\n",
      "\u001b[32m✔\u001b[39m \u001b[34mtibble \u001b[39m 3.1.2     \u001b[32m✔\u001b[39m \u001b[34mdplyr  \u001b[39m 1.0.7\n",
      "\u001b[32m✔\u001b[39m \u001b[34mtidyr  \u001b[39m 1.1.3     \u001b[32m✔\u001b[39m \u001b[34mstringr\u001b[39m 1.4.0\n",
      "\u001b[32m✔\u001b[39m \u001b[34mreadr  \u001b[39m 1.4.0     \u001b[32m✔\u001b[39m \u001b[34mforcats\u001b[39m 0.5.1\n",
      "\n",
      "── \u001b[1mConflicts\u001b[22m ────────────────────────────────────────── tidyverse_conflicts() ──\n",
      "\u001b[31m✖\u001b[39m \u001b[34mdplyr\u001b[39m::\u001b[32mfilter()\u001b[39m masks \u001b[34mstats\u001b[39m::filter()\n",
      "\u001b[31m✖\u001b[39m \u001b[34mdplyr\u001b[39m::\u001b[32mlag()\u001b[39m    masks \u001b[34mstats\u001b[39m::lag()\n",
      "\n"
     ]
    }
   ],
   "source": [
    "library(\"tidyverse\")"
   ]
  },
  {
   "cell_type": "code",
   "execution_count": 2,
   "id": "4598d158-b7b5-42ec-a640-24f011e20b90",
   "metadata": {},
   "outputs": [],
   "source": [
    "data = read.csv(\"./data/Obesity_data.csv\")"
   ]
  },
  {
   "cell_type": "code",
   "execution_count": 4,
   "id": "47be9961-2e0d-434e-94e1-98359aa5a51b",
   "metadata": {},
   "outputs": [
    {
     "data": {
      "text/html": [
       "<table class=\"dataframe\">\n",
       "<caption>A data.frame: 6 × 11</caption>\n",
       "<thead>\n",
       "\t<tr><th></th><th scope=col>id</th><th scope=col>gender</th><th scope=col>height</th><th scope=col>weight</th><th scope=col>bmi</th><th scope=col>age</th><th scope=col>bmc</th><th scope=col>bmd</th><th scope=col>fat</th><th scope=col>lean</th><th scope=col>pcfat</th></tr>\n",
       "\t<tr><th></th><th scope=col>&lt;int&gt;</th><th scope=col>&lt;chr&gt;</th><th scope=col>&lt;int&gt;</th><th scope=col>&lt;int&gt;</th><th scope=col>&lt;dbl&gt;</th><th scope=col>&lt;int&gt;</th><th scope=col>&lt;int&gt;</th><th scope=col>&lt;dbl&gt;</th><th scope=col>&lt;int&gt;</th><th scope=col>&lt;int&gt;</th><th scope=col>&lt;dbl&gt;</th></tr>\n",
       "</thead>\n",
       "<tbody>\n",
       "\t<tr><th scope=row>1</th><td>1</td><td>F</td><td>150</td><td>49</td><td>21.8</td><td>53</td><td>1312</td><td>0.88</td><td>17802</td><td>28600</td><td>37.3</td></tr>\n",
       "\t<tr><th scope=row>2</th><td>2</td><td>M</td><td>165</td><td>52</td><td>19.1</td><td>65</td><td>1309</td><td>0.84</td><td> 8381</td><td>40229</td><td>16.8</td></tr>\n",
       "\t<tr><th scope=row>3</th><td>3</td><td>F</td><td>157</td><td>57</td><td>23.1</td><td>64</td><td>1230</td><td>0.84</td><td>19221</td><td>36057</td><td>34.0</td></tr>\n",
       "\t<tr><th scope=row>4</th><td>4</td><td>F</td><td>156</td><td>53</td><td>21.8</td><td>56</td><td>1171</td><td>0.80</td><td>17472</td><td>33094</td><td>33.8</td></tr>\n",
       "\t<tr><th scope=row>5</th><td>5</td><td>M</td><td>160</td><td>51</td><td>19.9</td><td>54</td><td>1681</td><td>0.98</td><td> 7336</td><td>40621</td><td>14.8</td></tr>\n",
       "\t<tr><th scope=row>6</th><td>6</td><td>F</td><td>153</td><td>47</td><td>20.1</td><td>52</td><td>1358</td><td>0.91</td><td>14904</td><td>30068</td><td>32.2</td></tr>\n",
       "</tbody>\n",
       "</table>\n"
      ],
      "text/latex": [
       "A data.frame: 6 × 11\n",
       "\\begin{tabular}{r|lllllllllll}\n",
       "  & id & gender & height & weight & bmi & age & bmc & bmd & fat & lean & pcfat\\\\\n",
       "  & <int> & <chr> & <int> & <int> & <dbl> & <int> & <int> & <dbl> & <int> & <int> & <dbl>\\\\\n",
       "\\hline\n",
       "\t1 & 1 & F & 150 & 49 & 21.8 & 53 & 1312 & 0.88 & 17802 & 28600 & 37.3\\\\\n",
       "\t2 & 2 & M & 165 & 52 & 19.1 & 65 & 1309 & 0.84 &  8381 & 40229 & 16.8\\\\\n",
       "\t3 & 3 & F & 157 & 57 & 23.1 & 64 & 1230 & 0.84 & 19221 & 36057 & 34.0\\\\\n",
       "\t4 & 4 & F & 156 & 53 & 21.8 & 56 & 1171 & 0.80 & 17472 & 33094 & 33.8\\\\\n",
       "\t5 & 5 & M & 160 & 51 & 19.9 & 54 & 1681 & 0.98 &  7336 & 40621 & 14.8\\\\\n",
       "\t6 & 6 & F & 153 & 47 & 20.1 & 52 & 1358 & 0.91 & 14904 & 30068 & 32.2\\\\\n",
       "\\end{tabular}\n"
      ],
      "text/markdown": [
       "\n",
       "A data.frame: 6 × 11\n",
       "\n",
       "| <!--/--> | id &lt;int&gt; | gender &lt;chr&gt; | height &lt;int&gt; | weight &lt;int&gt; | bmi &lt;dbl&gt; | age &lt;int&gt; | bmc &lt;int&gt; | bmd &lt;dbl&gt; | fat &lt;int&gt; | lean &lt;int&gt; | pcfat &lt;dbl&gt; |\n",
       "|---|---|---|---|---|---|---|---|---|---|---|---|\n",
       "| 1 | 1 | F | 150 | 49 | 21.8 | 53 | 1312 | 0.88 | 17802 | 28600 | 37.3 |\n",
       "| 2 | 2 | M | 165 | 52 | 19.1 | 65 | 1309 | 0.84 |  8381 | 40229 | 16.8 |\n",
       "| 3 | 3 | F | 157 | 57 | 23.1 | 64 | 1230 | 0.84 | 19221 | 36057 | 34.0 |\n",
       "| 4 | 4 | F | 156 | 53 | 21.8 | 56 | 1171 | 0.80 | 17472 | 33094 | 33.8 |\n",
       "| 5 | 5 | M | 160 | 51 | 19.9 | 54 | 1681 | 0.98 |  7336 | 40621 | 14.8 |\n",
       "| 6 | 6 | F | 153 | 47 | 20.1 | 52 | 1358 | 0.91 | 14904 | 30068 | 32.2 |\n",
       "\n"
      ],
      "text/plain": [
       "  id gender height weight bmi  age bmc  bmd  fat   lean  pcfat\n",
       "1 1  F      150    49     21.8 53  1312 0.88 17802 28600 37.3 \n",
       "2 2  M      165    52     19.1 65  1309 0.84  8381 40229 16.8 \n",
       "3 3  F      157    57     23.1 64  1230 0.84 19221 36057 34.0 \n",
       "4 4  F      156    53     21.8 56  1171 0.80 17472 33094 33.8 \n",
       "5 5  M      160    51     19.9 54  1681 0.98  7336 40621 14.8 \n",
       "6 6  F      153    47     20.1 52  1358 0.91 14904 30068 32.2 "
      ]
     },
     "metadata": {},
     "output_type": "display_data"
    }
   ],
   "source": [
    "head(data)"
   ]
  },
  {
   "cell_type": "code",
   "execution_count": null,
   "id": "2f57a5cb-1f7c-4f6c-a7d7-8f3d82c67fed",
   "metadata": {},
   "outputs": [],
   "source": []
  },
  {
   "cell_type": "code",
   "execution_count": 5,
   "id": "e6313e54-d445-4257-9877-021d9e11e6c8",
   "metadata": {},
   "outputs": [],
   "source": [
    "data1 = data %>% select(c(2, 3, 4, 5, 6))"
   ]
  },
  {
   "cell_type": "code",
   "execution_count": 6,
   "id": "e2a051e0-81da-4d0b-bc20-b0bd4b277f49",
   "metadata": {},
   "outputs": [
    {
     "data": {
      "text/html": [
       "<table class=\"dataframe\">\n",
       "<caption>A data.frame: 6 × 5</caption>\n",
       "<thead>\n",
       "\t<tr><th></th><th scope=col>gender</th><th scope=col>height</th><th scope=col>weight</th><th scope=col>bmi</th><th scope=col>age</th></tr>\n",
       "\t<tr><th></th><th scope=col>&lt;chr&gt;</th><th scope=col>&lt;int&gt;</th><th scope=col>&lt;int&gt;</th><th scope=col>&lt;dbl&gt;</th><th scope=col>&lt;int&gt;</th></tr>\n",
       "</thead>\n",
       "<tbody>\n",
       "\t<tr><th scope=row>1</th><td>F</td><td>150</td><td>49</td><td>21.8</td><td>53</td></tr>\n",
       "\t<tr><th scope=row>2</th><td>M</td><td>165</td><td>52</td><td>19.1</td><td>65</td></tr>\n",
       "\t<tr><th scope=row>3</th><td>F</td><td>157</td><td>57</td><td>23.1</td><td>64</td></tr>\n",
       "\t<tr><th scope=row>4</th><td>F</td><td>156</td><td>53</td><td>21.8</td><td>56</td></tr>\n",
       "\t<tr><th scope=row>5</th><td>M</td><td>160</td><td>51</td><td>19.9</td><td>54</td></tr>\n",
       "\t<tr><th scope=row>6</th><td>F</td><td>153</td><td>47</td><td>20.1</td><td>52</td></tr>\n",
       "</tbody>\n",
       "</table>\n"
      ],
      "text/latex": [
       "A data.frame: 6 × 5\n",
       "\\begin{tabular}{r|lllll}\n",
       "  & gender & height & weight & bmi & age\\\\\n",
       "  & <chr> & <int> & <int> & <dbl> & <int>\\\\\n",
       "\\hline\n",
       "\t1 & F & 150 & 49 & 21.8 & 53\\\\\n",
       "\t2 & M & 165 & 52 & 19.1 & 65\\\\\n",
       "\t3 & F & 157 & 57 & 23.1 & 64\\\\\n",
       "\t4 & F & 156 & 53 & 21.8 & 56\\\\\n",
       "\t5 & M & 160 & 51 & 19.9 & 54\\\\\n",
       "\t6 & F & 153 & 47 & 20.1 & 52\\\\\n",
       "\\end{tabular}\n"
      ],
      "text/markdown": [
       "\n",
       "A data.frame: 6 × 5\n",
       "\n",
       "| <!--/--> | gender &lt;chr&gt; | height &lt;int&gt; | weight &lt;int&gt; | bmi &lt;dbl&gt; | age &lt;int&gt; |\n",
       "|---|---|---|---|---|---|\n",
       "| 1 | F | 150 | 49 | 21.8 | 53 |\n",
       "| 2 | M | 165 | 52 | 19.1 | 65 |\n",
       "| 3 | F | 157 | 57 | 23.1 | 64 |\n",
       "| 4 | F | 156 | 53 | 21.8 | 56 |\n",
       "| 5 | M | 160 | 51 | 19.9 | 54 |\n",
       "| 6 | F | 153 | 47 | 20.1 | 52 |\n",
       "\n"
      ],
      "text/plain": [
       "  gender height weight bmi  age\n",
       "1 F      150    49     21.8 53 \n",
       "2 M      165    52     19.1 65 \n",
       "3 F      157    57     23.1 64 \n",
       "4 F      156    53     21.8 56 \n",
       "5 M      160    51     19.9 54 \n",
       "6 F      153    47     20.1 52 "
      ]
     },
     "metadata": {},
     "output_type": "display_data"
    }
   ],
   "source": [
    "head(data1)"
   ]
  },
  {
   "cell_type": "code",
   "execution_count": 7,
   "id": "5db1fcbb-225a-4c9b-82cf-7cab0d86d329",
   "metadata": {},
   "outputs": [],
   "source": [
    "data1 = data %>% select(gender, height, weight, bmi, age)"
   ]
  },
  {
   "cell_type": "code",
   "execution_count": 8,
   "id": "d2ea8587-5daf-43b8-86b5-1dd5772b607a",
   "metadata": {},
   "outputs": [
    {
     "data": {
      "text/html": [
       "<table class=\"dataframe\">\n",
       "<caption>A data.frame: 6 × 5</caption>\n",
       "<thead>\n",
       "\t<tr><th></th><th scope=col>gender</th><th scope=col>height</th><th scope=col>weight</th><th scope=col>bmi</th><th scope=col>age</th></tr>\n",
       "\t<tr><th></th><th scope=col>&lt;chr&gt;</th><th scope=col>&lt;int&gt;</th><th scope=col>&lt;int&gt;</th><th scope=col>&lt;dbl&gt;</th><th scope=col>&lt;int&gt;</th></tr>\n",
       "</thead>\n",
       "<tbody>\n",
       "\t<tr><th scope=row>1</th><td>F</td><td>150</td><td>49</td><td>21.8</td><td>53</td></tr>\n",
       "\t<tr><th scope=row>2</th><td>M</td><td>165</td><td>52</td><td>19.1</td><td>65</td></tr>\n",
       "\t<tr><th scope=row>3</th><td>F</td><td>157</td><td>57</td><td>23.1</td><td>64</td></tr>\n",
       "\t<tr><th scope=row>4</th><td>F</td><td>156</td><td>53</td><td>21.8</td><td>56</td></tr>\n",
       "\t<tr><th scope=row>5</th><td>M</td><td>160</td><td>51</td><td>19.9</td><td>54</td></tr>\n",
       "\t<tr><th scope=row>6</th><td>F</td><td>153</td><td>47</td><td>20.1</td><td>52</td></tr>\n",
       "</tbody>\n",
       "</table>\n"
      ],
      "text/latex": [
       "A data.frame: 6 × 5\n",
       "\\begin{tabular}{r|lllll}\n",
       "  & gender & height & weight & bmi & age\\\\\n",
       "  & <chr> & <int> & <int> & <dbl> & <int>\\\\\n",
       "\\hline\n",
       "\t1 & F & 150 & 49 & 21.8 & 53\\\\\n",
       "\t2 & M & 165 & 52 & 19.1 & 65\\\\\n",
       "\t3 & F & 157 & 57 & 23.1 & 64\\\\\n",
       "\t4 & F & 156 & 53 & 21.8 & 56\\\\\n",
       "\t5 & M & 160 & 51 & 19.9 & 54\\\\\n",
       "\t6 & F & 153 & 47 & 20.1 & 52\\\\\n",
       "\\end{tabular}\n"
      ],
      "text/markdown": [
       "\n",
       "A data.frame: 6 × 5\n",
       "\n",
       "| <!--/--> | gender &lt;chr&gt; | height &lt;int&gt; | weight &lt;int&gt; | bmi &lt;dbl&gt; | age &lt;int&gt; |\n",
       "|---|---|---|---|---|---|\n",
       "| 1 | F | 150 | 49 | 21.8 | 53 |\n",
       "| 2 | M | 165 | 52 | 19.1 | 65 |\n",
       "| 3 | F | 157 | 57 | 23.1 | 64 |\n",
       "| 4 | F | 156 | 53 | 21.8 | 56 |\n",
       "| 5 | M | 160 | 51 | 19.9 | 54 |\n",
       "| 6 | F | 153 | 47 | 20.1 | 52 |\n",
       "\n"
      ],
      "text/plain": [
       "  gender height weight bmi  age\n",
       "1 F      150    49     21.8 53 \n",
       "2 M      165    52     19.1 65 \n",
       "3 F      157    57     23.1 64 \n",
       "4 F      156    53     21.8 56 \n",
       "5 M      160    51     19.9 54 \n",
       "6 F      153    47     20.1 52 "
      ]
     },
     "metadata": {},
     "output_type": "display_data"
    }
   ],
   "source": [
    "head(data1)"
   ]
  },
  {
   "cell_type": "code",
   "execution_count": null,
   "id": "26bf3606-1cbf-47c7-b70d-39a51a79b55c",
   "metadata": {},
   "outputs": [],
   "source": []
  },
  {
   "cell_type": "code",
   "execution_count": 9,
   "id": "9b97513f-17f3-4377-a6c1-9980e9f96fff",
   "metadata": {},
   "outputs": [],
   "source": [
    "data2 = data1 %>% filter(bmi >= 18.5, bmi <= 24.9)"
   ]
  },
  {
   "cell_type": "code",
   "execution_count": 10,
   "id": "161159b1-73d2-491d-86b8-81591dbce82f",
   "metadata": {},
   "outputs": [
    {
     "data": {
      "text/html": [
       "<table class=\"dataframe\">\n",
       "<caption>A data.frame: 6 × 5</caption>\n",
       "<thead>\n",
       "\t<tr><th></th><th scope=col>gender</th><th scope=col>height</th><th scope=col>weight</th><th scope=col>bmi</th><th scope=col>age</th></tr>\n",
       "\t<tr><th></th><th scope=col>&lt;chr&gt;</th><th scope=col>&lt;int&gt;</th><th scope=col>&lt;int&gt;</th><th scope=col>&lt;dbl&gt;</th><th scope=col>&lt;int&gt;</th></tr>\n",
       "</thead>\n",
       "<tbody>\n",
       "\t<tr><th scope=row>1</th><td>F</td><td>150</td><td>49</td><td>21.8</td><td>53</td></tr>\n",
       "\t<tr><th scope=row>2</th><td>M</td><td>165</td><td>52</td><td>19.1</td><td>65</td></tr>\n",
       "\t<tr><th scope=row>3</th><td>F</td><td>157</td><td>57</td><td>23.1</td><td>64</td></tr>\n",
       "\t<tr><th scope=row>4</th><td>F</td><td>156</td><td>53</td><td>21.8</td><td>56</td></tr>\n",
       "\t<tr><th scope=row>5</th><td>M</td><td>160</td><td>51</td><td>19.9</td><td>54</td></tr>\n",
       "\t<tr><th scope=row>6</th><td>F</td><td>153</td><td>47</td><td>20.1</td><td>52</td></tr>\n",
       "</tbody>\n",
       "</table>\n"
      ],
      "text/latex": [
       "A data.frame: 6 × 5\n",
       "\\begin{tabular}{r|lllll}\n",
       "  & gender & height & weight & bmi & age\\\\\n",
       "  & <chr> & <int> & <int> & <dbl> & <int>\\\\\n",
       "\\hline\n",
       "\t1 & F & 150 & 49 & 21.8 & 53\\\\\n",
       "\t2 & M & 165 & 52 & 19.1 & 65\\\\\n",
       "\t3 & F & 157 & 57 & 23.1 & 64\\\\\n",
       "\t4 & F & 156 & 53 & 21.8 & 56\\\\\n",
       "\t5 & M & 160 & 51 & 19.9 & 54\\\\\n",
       "\t6 & F & 153 & 47 & 20.1 & 52\\\\\n",
       "\\end{tabular}\n"
      ],
      "text/markdown": [
       "\n",
       "A data.frame: 6 × 5\n",
       "\n",
       "| <!--/--> | gender &lt;chr&gt; | height &lt;int&gt; | weight &lt;int&gt; | bmi &lt;dbl&gt; | age &lt;int&gt; |\n",
       "|---|---|---|---|---|---|\n",
       "| 1 | F | 150 | 49 | 21.8 | 53 |\n",
       "| 2 | M | 165 | 52 | 19.1 | 65 |\n",
       "| 3 | F | 157 | 57 | 23.1 | 64 |\n",
       "| 4 | F | 156 | 53 | 21.8 | 56 |\n",
       "| 5 | M | 160 | 51 | 19.9 | 54 |\n",
       "| 6 | F | 153 | 47 | 20.1 | 52 |\n",
       "\n"
      ],
      "text/plain": [
       "  gender height weight bmi  age\n",
       "1 F      150    49     21.8 53 \n",
       "2 M      165    52     19.1 65 \n",
       "3 F      157    57     23.1 64 \n",
       "4 F      156    53     21.8 56 \n",
       "5 M      160    51     19.9 54 \n",
       "6 F      153    47     20.1 52 "
      ]
     },
     "metadata": {},
     "output_type": "display_data"
    }
   ],
   "source": [
    "head(data2)"
   ]
  },
  {
   "cell_type": "code",
   "execution_count": null,
   "id": "c00b4fdc-8477-4d46-b9b8-079243356079",
   "metadata": {},
   "outputs": [],
   "source": []
  },
  {
   "cell_type": "code",
   "execution_count": 11,
   "id": "6cd305f6-c82d-4257-b215-acfe85d96a97",
   "metadata": {},
   "outputs": [],
   "source": [
    "data1 = mutate(data1, height_m = height/100)"
   ]
  },
  {
   "cell_type": "code",
   "execution_count": 12,
   "id": "fb3afe9e-4f0f-4ffc-abea-e8b6c330dd79",
   "metadata": {},
   "outputs": [
    {
     "data": {
      "text/html": [
       "<table class=\"dataframe\">\n",
       "<caption>A data.frame: 6 × 6</caption>\n",
       "<thead>\n",
       "\t<tr><th></th><th scope=col>gender</th><th scope=col>height</th><th scope=col>weight</th><th scope=col>bmi</th><th scope=col>age</th><th scope=col>height_m</th></tr>\n",
       "\t<tr><th></th><th scope=col>&lt;chr&gt;</th><th scope=col>&lt;int&gt;</th><th scope=col>&lt;int&gt;</th><th scope=col>&lt;dbl&gt;</th><th scope=col>&lt;int&gt;</th><th scope=col>&lt;dbl&gt;</th></tr>\n",
       "</thead>\n",
       "<tbody>\n",
       "\t<tr><th scope=row>1</th><td>F</td><td>150</td><td>49</td><td>21.8</td><td>53</td><td>1.50</td></tr>\n",
       "\t<tr><th scope=row>2</th><td>M</td><td>165</td><td>52</td><td>19.1</td><td>65</td><td>1.65</td></tr>\n",
       "\t<tr><th scope=row>3</th><td>F</td><td>157</td><td>57</td><td>23.1</td><td>64</td><td>1.57</td></tr>\n",
       "\t<tr><th scope=row>4</th><td>F</td><td>156</td><td>53</td><td>21.8</td><td>56</td><td>1.56</td></tr>\n",
       "\t<tr><th scope=row>5</th><td>M</td><td>160</td><td>51</td><td>19.9</td><td>54</td><td>1.60</td></tr>\n",
       "\t<tr><th scope=row>6</th><td>F</td><td>153</td><td>47</td><td>20.1</td><td>52</td><td>1.53</td></tr>\n",
       "</tbody>\n",
       "</table>\n"
      ],
      "text/latex": [
       "A data.frame: 6 × 6\n",
       "\\begin{tabular}{r|llllll}\n",
       "  & gender & height & weight & bmi & age & height\\_m\\\\\n",
       "  & <chr> & <int> & <int> & <dbl> & <int> & <dbl>\\\\\n",
       "\\hline\n",
       "\t1 & F & 150 & 49 & 21.8 & 53 & 1.50\\\\\n",
       "\t2 & M & 165 & 52 & 19.1 & 65 & 1.65\\\\\n",
       "\t3 & F & 157 & 57 & 23.1 & 64 & 1.57\\\\\n",
       "\t4 & F & 156 & 53 & 21.8 & 56 & 1.56\\\\\n",
       "\t5 & M & 160 & 51 & 19.9 & 54 & 1.60\\\\\n",
       "\t6 & F & 153 & 47 & 20.1 & 52 & 1.53\\\\\n",
       "\\end{tabular}\n"
      ],
      "text/markdown": [
       "\n",
       "A data.frame: 6 × 6\n",
       "\n",
       "| <!--/--> | gender &lt;chr&gt; | height &lt;int&gt; | weight &lt;int&gt; | bmi &lt;dbl&gt; | age &lt;int&gt; | height_m &lt;dbl&gt; |\n",
       "|---|---|---|---|---|---|---|\n",
       "| 1 | F | 150 | 49 | 21.8 | 53 | 1.50 |\n",
       "| 2 | M | 165 | 52 | 19.1 | 65 | 1.65 |\n",
       "| 3 | F | 157 | 57 | 23.1 | 64 | 1.57 |\n",
       "| 4 | F | 156 | 53 | 21.8 | 56 | 1.56 |\n",
       "| 5 | M | 160 | 51 | 19.9 | 54 | 1.60 |\n",
       "| 6 | F | 153 | 47 | 20.1 | 52 | 1.53 |\n",
       "\n"
      ],
      "text/plain": [
       "  gender height weight bmi  age height_m\n",
       "1 F      150    49     21.8 53  1.50    \n",
       "2 M      165    52     19.1 65  1.65    \n",
       "3 F      157    57     23.1 64  1.57    \n",
       "4 F      156    53     21.8 56  1.56    \n",
       "5 M      160    51     19.9 54  1.60    \n",
       "6 F      153    47     20.1 52  1.53    "
      ]
     },
     "metadata": {},
     "output_type": "display_data"
    }
   ],
   "source": [
    "head(data1)"
   ]
  },
  {
   "cell_type": "code",
   "execution_count": null,
   "id": "b1c50e03-5805-4df2-9400-24305ab5031b",
   "metadata": {},
   "outputs": [],
   "source": []
  },
  {
   "cell_type": "code",
   "execution_count": 13,
   "id": "c8fa70a0-29bb-4fb0-8a6d-7cb01785efc3",
   "metadata": {},
   "outputs": [
    {
     "data": {
      "text/html": [
       "<table class=\"dataframe\">\n",
       "<caption>A data.frame: 6 × 6</caption>\n",
       "<thead>\n",
       "\t<tr><th></th><th scope=col>gender</th><th scope=col>height</th><th scope=col>weight</th><th scope=col>bmi</th><th scope=col>age</th><th scope=col>height_m</th></tr>\n",
       "\t<tr><th></th><th scope=col>&lt;chr&gt;</th><th scope=col>&lt;int&gt;</th><th scope=col>&lt;int&gt;</th><th scope=col>&lt;dbl&gt;</th><th scope=col>&lt;int&gt;</th><th scope=col>&lt;dbl&gt;</th></tr>\n",
       "</thead>\n",
       "<tbody>\n",
       "\t<tr><th scope=row>1</th><td>M</td><td>162</td><td>38</td><td>14.5</td><td>55</td><td>1.62</td></tr>\n",
       "\t<tr><th scope=row>2</th><td>F</td><td>162</td><td>40</td><td>15.2</td><td>54</td><td>1.62</td></tr>\n",
       "\t<tr><th scope=row>3</th><td>F</td><td>151</td><td>35</td><td>15.4</td><td>33</td><td>1.51</td></tr>\n",
       "\t<tr><th scope=row>4</th><td>F</td><td>155</td><td>37</td><td>15.4</td><td>44</td><td>1.55</td></tr>\n",
       "\t<tr><th scope=row>5</th><td>F</td><td>150</td><td>35</td><td>15.6</td><td>24</td><td>1.50</td></tr>\n",
       "\t<tr><th scope=row>6</th><td>M</td><td>169</td><td>45</td><td>15.8</td><td>50</td><td>1.69</td></tr>\n",
       "</tbody>\n",
       "</table>\n"
      ],
      "text/latex": [
       "A data.frame: 6 × 6\n",
       "\\begin{tabular}{r|llllll}\n",
       "  & gender & height & weight & bmi & age & height\\_m\\\\\n",
       "  & <chr> & <int> & <int> & <dbl> & <int> & <dbl>\\\\\n",
       "\\hline\n",
       "\t1 & M & 162 & 38 & 14.5 & 55 & 1.62\\\\\n",
       "\t2 & F & 162 & 40 & 15.2 & 54 & 1.62\\\\\n",
       "\t3 & F & 151 & 35 & 15.4 & 33 & 1.51\\\\\n",
       "\t4 & F & 155 & 37 & 15.4 & 44 & 1.55\\\\\n",
       "\t5 & F & 150 & 35 & 15.6 & 24 & 1.50\\\\\n",
       "\t6 & M & 169 & 45 & 15.8 & 50 & 1.69\\\\\n",
       "\\end{tabular}\n"
      ],
      "text/markdown": [
       "\n",
       "A data.frame: 6 × 6\n",
       "\n",
       "| <!--/--> | gender &lt;chr&gt; | height &lt;int&gt; | weight &lt;int&gt; | bmi &lt;dbl&gt; | age &lt;int&gt; | height_m &lt;dbl&gt; |\n",
       "|---|---|---|---|---|---|---|\n",
       "| 1 | M | 162 | 38 | 14.5 | 55 | 1.62 |\n",
       "| 2 | F | 162 | 40 | 15.2 | 54 | 1.62 |\n",
       "| 3 | F | 151 | 35 | 15.4 | 33 | 1.51 |\n",
       "| 4 | F | 155 | 37 | 15.4 | 44 | 1.55 |\n",
       "| 5 | F | 150 | 35 | 15.6 | 24 | 1.50 |\n",
       "| 6 | M | 169 | 45 | 15.8 | 50 | 1.69 |\n",
       "\n"
      ],
      "text/plain": [
       "  gender height weight bmi  age height_m\n",
       "1 M      162    38     14.5 55  1.62    \n",
       "2 F      162    40     15.2 54  1.62    \n",
       "3 F      151    35     15.4 33  1.51    \n",
       "4 F      155    37     15.4 44  1.55    \n",
       "5 F      150    35     15.6 24  1.50    \n",
       "6 M      169    45     15.8 50  1.69    "
      ]
     },
     "metadata": {},
     "output_type": "display_data"
    }
   ],
   "source": [
    "head(arrange(data1, bmi))"
   ]
  },
  {
   "cell_type": "code",
   "execution_count": null,
   "id": "0f7a7076-bc11-4b09-aaa4-23602f07a56f",
   "metadata": {},
   "outputs": [],
   "source": []
  },
  {
   "cell_type": "code",
   "execution_count": 14,
   "id": "9cdd0b64-7be7-4db1-aed9-4e4c31a3acbf",
   "metadata": {},
   "outputs": [],
   "source": [
    "group = group_by(data1, gender)\n",
    "summary = summarise(group, count = n(),\n",
    "                   mean.height = mean(height, na.rm = T),\n",
    "                   mean.weight = mean(weight, na.rm = T))"
   ]
  },
  {
   "cell_type": "code",
   "execution_count": 15,
   "id": "ef8fab10-0367-44e4-9c4d-4f2559e94bc8",
   "metadata": {},
   "outputs": [
    {
     "data": {
      "text/html": [
       "<table class=\"dataframe\">\n",
       "<caption>A tibble: 2 × 4</caption>\n",
       "<thead>\n",
       "\t<tr><th scope=col>gender</th><th scope=col>count</th><th scope=col>mean.height</th><th scope=col>mean.weight</th></tr>\n",
       "\t<tr><th scope=col>&lt;chr&gt;</th><th scope=col>&lt;int&gt;</th><th scope=col>&lt;dbl&gt;</th><th scope=col>&lt;dbl&gt;</th></tr>\n",
       "</thead>\n",
       "<tbody>\n",
       "\t<tr><td>F</td><td>862</td><td>153.2912</td><td>52.31090</td></tr>\n",
       "\t<tr><td>M</td><td>355</td><td>165.0592</td><td>62.02254</td></tr>\n",
       "</tbody>\n",
       "</table>\n"
      ],
      "text/latex": [
       "A tibble: 2 × 4\n",
       "\\begin{tabular}{llll}\n",
       " gender & count & mean.height & mean.weight\\\\\n",
       " <chr> & <int> & <dbl> & <dbl>\\\\\n",
       "\\hline\n",
       "\t F & 862 & 153.2912 & 52.31090\\\\\n",
       "\t M & 355 & 165.0592 & 62.02254\\\\\n",
       "\\end{tabular}\n"
      ],
      "text/markdown": [
       "\n",
       "A tibble: 2 × 4\n",
       "\n",
       "| gender &lt;chr&gt; | count &lt;int&gt; | mean.height &lt;dbl&gt; | mean.weight &lt;dbl&gt; |\n",
       "|---|---|---|---|\n",
       "| F | 862 | 153.2912 | 52.31090 |\n",
       "| M | 355 | 165.0592 | 62.02254 |\n",
       "\n"
      ],
      "text/plain": [
       "  gender count mean.height mean.weight\n",
       "1 F      862   153.2912    52.31090   \n",
       "2 M      355   165.0592    62.02254   "
      ]
     },
     "metadata": {},
     "output_type": "display_data"
    }
   ],
   "source": [
    "summary"
   ]
  },
  {
   "cell_type": "code",
   "execution_count": null,
   "id": "b3b064fd-7203-4b92-bf26-eb7a731dcf3e",
   "metadata": {},
   "outputs": [],
   "source": []
  },
  {
   "cell_type": "code",
   "execution_count": 18,
   "id": "0c9a7887-37e5-4680-a7e0-af16fd3d543e",
   "metadata": {},
   "outputs": [
    {
     "data": {
      "text/html": [
       "<table class=\"dataframe\">\n",
       "<caption>A data.frame: 6 × 3</caption>\n",
       "<thead>\n",
       "\t<tr><th></th><th scope=col>gender</th><th scope=col>age</th><th scope=col>n</th></tr>\n",
       "\t<tr><th></th><th scope=col>&lt;chr&gt;</th><th scope=col>&lt;int&gt;</th><th scope=col>&lt;int&gt;</th></tr>\n",
       "</thead>\n",
       "<tbody>\n",
       "\t<tr><th scope=row>1</th><td>F</td><td>14</td><td> 4</td></tr>\n",
       "\t<tr><th scope=row>2</th><td>F</td><td>16</td><td> 2</td></tr>\n",
       "\t<tr><th scope=row>3</th><td>F</td><td>18</td><td>10</td></tr>\n",
       "\t<tr><th scope=row>4</th><td>F</td><td>19</td><td>27</td></tr>\n",
       "\t<tr><th scope=row>5</th><td>F</td><td>20</td><td>13</td></tr>\n",
       "\t<tr><th scope=row>6</th><td>F</td><td>21</td><td> 8</td></tr>\n",
       "</tbody>\n",
       "</table>\n"
      ],
      "text/latex": [
       "A data.frame: 6 × 3\n",
       "\\begin{tabular}{r|lll}\n",
       "  & gender & age & n\\\\\n",
       "  & <chr> & <int> & <int>\\\\\n",
       "\\hline\n",
       "\t1 & F & 14 &  4\\\\\n",
       "\t2 & F & 16 &  2\\\\\n",
       "\t3 & F & 18 & 10\\\\\n",
       "\t4 & F & 19 & 27\\\\\n",
       "\t5 & F & 20 & 13\\\\\n",
       "\t6 & F & 21 &  8\\\\\n",
       "\\end{tabular}\n"
      ],
      "text/markdown": [
       "\n",
       "A data.frame: 6 × 3\n",
       "\n",
       "| <!--/--> | gender &lt;chr&gt; | age &lt;int&gt; | n &lt;int&gt; |\n",
       "|---|---|---|---|\n",
       "| 1 | F | 14 |  4 |\n",
       "| 2 | F | 16 |  2 |\n",
       "| 3 | F | 18 | 10 |\n",
       "| 4 | F | 19 | 27 |\n",
       "| 5 | F | 20 | 13 |\n",
       "| 6 | F | 21 |  8 |\n",
       "\n"
      ],
      "text/plain": [
       "  gender age n \n",
       "1 F      14   4\n",
       "2 F      16   2\n",
       "3 F      18  10\n",
       "4 F      19  27\n",
       "5 F      20  13\n",
       "6 F      21   8"
      ]
     },
     "metadata": {},
     "output_type": "display_data"
    }
   ],
   "source": [
    "head(count(data1, gender, age))"
   ]
  },
  {
   "cell_type": "code",
   "execution_count": null,
   "id": "97b53d35-63f9-4706-8ffb-3c797de274e8",
   "metadata": {},
   "outputs": [],
   "source": []
  },
  {
   "cell_type": "code",
   "execution_count": 19,
   "id": "23a57bd5-3cc7-4a38-af11-e3c32e99faf5",
   "metadata": {},
   "outputs": [],
   "source": [
    "data3 = data1 %>% sample_n(10)"
   ]
  },
  {
   "cell_type": "code",
   "execution_count": 20,
   "id": "ff54bf04-e2df-49b3-8028-391cda5bc746",
   "metadata": {},
   "outputs": [
    {
     "data": {
      "text/html": [
       "<table class=\"dataframe\">\n",
       "<caption>A data.frame: 10 × 6</caption>\n",
       "<thead>\n",
       "\t<tr><th scope=col>gender</th><th scope=col>height</th><th scope=col>weight</th><th scope=col>bmi</th><th scope=col>age</th><th scope=col>height_m</th></tr>\n",
       "\t<tr><th scope=col>&lt;chr&gt;</th><th scope=col>&lt;int&gt;</th><th scope=col>&lt;int&gt;</th><th scope=col>&lt;dbl&gt;</th><th scope=col>&lt;int&gt;</th><th scope=col>&lt;dbl&gt;</th></tr>\n",
       "</thead>\n",
       "<tbody>\n",
       "\t<tr><td>F</td><td>152</td><td>46</td><td>19.9</td><td>55</td><td>1.52</td></tr>\n",
       "\t<tr><td>F</td><td>155</td><td>51</td><td>21.2</td><td>26</td><td>1.55</td></tr>\n",
       "\t<tr><td>F</td><td>151</td><td>47</td><td>20.6</td><td>77</td><td>1.51</td></tr>\n",
       "\t<tr><td>F</td><td>138</td><td>41</td><td>21.5</td><td>71</td><td>1.38</td></tr>\n",
       "\t<tr><td>F</td><td>153</td><td>44</td><td>18.8</td><td>44</td><td>1.53</td></tr>\n",
       "\t<tr><td>M</td><td>169</td><td>58</td><td>20.3</td><td>26</td><td>1.69</td></tr>\n",
       "\t<tr><td>M</td><td>164</td><td>73</td><td>27.1</td><td>50</td><td>1.64</td></tr>\n",
       "\t<tr><td>F</td><td>153</td><td>51</td><td>21.8</td><td>32</td><td>1.53</td></tr>\n",
       "\t<tr><td>F</td><td>153</td><td>60</td><td>25.6</td><td>72</td><td>1.53</td></tr>\n",
       "\t<tr><td>F</td><td>155</td><td>52</td><td>21.6</td><td>56</td><td>1.55</td></tr>\n",
       "</tbody>\n",
       "</table>\n"
      ],
      "text/latex": [
       "A data.frame: 10 × 6\n",
       "\\begin{tabular}{llllll}\n",
       " gender & height & weight & bmi & age & height\\_m\\\\\n",
       " <chr> & <int> & <int> & <dbl> & <int> & <dbl>\\\\\n",
       "\\hline\n",
       "\t F & 152 & 46 & 19.9 & 55 & 1.52\\\\\n",
       "\t F & 155 & 51 & 21.2 & 26 & 1.55\\\\\n",
       "\t F & 151 & 47 & 20.6 & 77 & 1.51\\\\\n",
       "\t F & 138 & 41 & 21.5 & 71 & 1.38\\\\\n",
       "\t F & 153 & 44 & 18.8 & 44 & 1.53\\\\\n",
       "\t M & 169 & 58 & 20.3 & 26 & 1.69\\\\\n",
       "\t M & 164 & 73 & 27.1 & 50 & 1.64\\\\\n",
       "\t F & 153 & 51 & 21.8 & 32 & 1.53\\\\\n",
       "\t F & 153 & 60 & 25.6 & 72 & 1.53\\\\\n",
       "\t F & 155 & 52 & 21.6 & 56 & 1.55\\\\\n",
       "\\end{tabular}\n"
      ],
      "text/markdown": [
       "\n",
       "A data.frame: 10 × 6\n",
       "\n",
       "| gender &lt;chr&gt; | height &lt;int&gt; | weight &lt;int&gt; | bmi &lt;dbl&gt; | age &lt;int&gt; | height_m &lt;dbl&gt; |\n",
       "|---|---|---|---|---|---|\n",
       "| F | 152 | 46 | 19.9 | 55 | 1.52 |\n",
       "| F | 155 | 51 | 21.2 | 26 | 1.55 |\n",
       "| F | 151 | 47 | 20.6 | 77 | 1.51 |\n",
       "| F | 138 | 41 | 21.5 | 71 | 1.38 |\n",
       "| F | 153 | 44 | 18.8 | 44 | 1.53 |\n",
       "| M | 169 | 58 | 20.3 | 26 | 1.69 |\n",
       "| M | 164 | 73 | 27.1 | 50 | 1.64 |\n",
       "| F | 153 | 51 | 21.8 | 32 | 1.53 |\n",
       "| F | 153 | 60 | 25.6 | 72 | 1.53 |\n",
       "| F | 155 | 52 | 21.6 | 56 | 1.55 |\n",
       "\n"
      ],
      "text/plain": [
       "   gender height weight bmi  age height_m\n",
       "1  F      152    46     19.9 55  1.52    \n",
       "2  F      155    51     21.2 26  1.55    \n",
       "3  F      151    47     20.6 77  1.51    \n",
       "4  F      138    41     21.5 71  1.38    \n",
       "5  F      153    44     18.8 44  1.53    \n",
       "6  M      169    58     20.3 26  1.69    \n",
       "7  M      164    73     27.1 50  1.64    \n",
       "8  F      153    51     21.8 32  1.53    \n",
       "9  F      153    60     25.6 72  1.53    \n",
       "10 F      155    52     21.6 56  1.55    "
      ]
     },
     "metadata": {},
     "output_type": "display_data"
    }
   ],
   "source": [
    "data3"
   ]
  },
  {
   "cell_type": "code",
   "execution_count": null,
   "id": "557d211c-2f02-4e4b-b6a3-9a76535dba2f",
   "metadata": {},
   "outputs": [],
   "source": []
  },
  {
   "cell_type": "code",
   "execution_count": 21,
   "id": "725b1cf3-8585-4f28-83d8-5772a2b36bcd",
   "metadata": {},
   "outputs": [],
   "source": [
    "data4 = data %>% sample_frac(0.01)"
   ]
  },
  {
   "cell_type": "code",
   "execution_count": 22,
   "id": "1b831027-b77f-466e-89fb-534d821dd91a",
   "metadata": {},
   "outputs": [
    {
     "data": {
      "text/html": [
       "<table class=\"dataframe\">\n",
       "<caption>A data.frame: 6 × 11</caption>\n",
       "<thead>\n",
       "\t<tr><th></th><th scope=col>id</th><th scope=col>gender</th><th scope=col>height</th><th scope=col>weight</th><th scope=col>bmi</th><th scope=col>age</th><th scope=col>bmc</th><th scope=col>bmd</th><th scope=col>fat</th><th scope=col>lean</th><th scope=col>pcfat</th></tr>\n",
       "\t<tr><th></th><th scope=col>&lt;int&gt;</th><th scope=col>&lt;chr&gt;</th><th scope=col>&lt;int&gt;</th><th scope=col>&lt;int&gt;</th><th scope=col>&lt;dbl&gt;</th><th scope=col>&lt;int&gt;</th><th scope=col>&lt;int&gt;</th><th scope=col>&lt;dbl&gt;</th><th scope=col>&lt;int&gt;</th><th scope=col>&lt;int&gt;</th><th scope=col>&lt;dbl&gt;</th></tr>\n",
       "</thead>\n",
       "<tbody>\n",
       "\t<tr><th scope=row>1</th><td>740</td><td>F</td><td>158</td><td>55</td><td>22.0</td><td>47</td><td>1805</td><td>1.04</td><td>19932</td><td>32668</td><td>36.9</td></tr>\n",
       "\t<tr><th scope=row>2</th><td>722</td><td>M</td><td>176</td><td>74</td><td>23.9</td><td>28</td><td>3019</td><td>1.27</td><td>13137</td><td>58320</td><td>17.6</td></tr>\n",
       "\t<tr><th scope=row>3</th><td>470</td><td>M</td><td>175</td><td>58</td><td>18.9</td><td>21</td><td>2244</td><td>1.11</td><td> 8883</td><td>44689</td><td>15.9</td></tr>\n",
       "\t<tr><th scope=row>4</th><td>170</td><td>F</td><td>147</td><td>47</td><td>21.8</td><td>45</td><td>1587</td><td>1.02</td><td>17713</td><td>28959</td><td>36.7</td></tr>\n",
       "\t<tr><th scope=row>5</th><td>  2</td><td>M</td><td>165</td><td>52</td><td>19.1</td><td>65</td><td>1309</td><td>0.84</td><td> 8381</td><td>40229</td><td>16.8</td></tr>\n",
       "\t<tr><th scope=row>6</th><td>924</td><td>M</td><td>168</td><td>58</td><td>20.5</td><td>18</td><td>1669</td><td>0.88</td><td>13035</td><td>43302</td><td>22.5</td></tr>\n",
       "</tbody>\n",
       "</table>\n"
      ],
      "text/latex": [
       "A data.frame: 6 × 11\n",
       "\\begin{tabular}{r|lllllllllll}\n",
       "  & id & gender & height & weight & bmi & age & bmc & bmd & fat & lean & pcfat\\\\\n",
       "  & <int> & <chr> & <int> & <int> & <dbl> & <int> & <int> & <dbl> & <int> & <int> & <dbl>\\\\\n",
       "\\hline\n",
       "\t1 & 740 & F & 158 & 55 & 22.0 & 47 & 1805 & 1.04 & 19932 & 32668 & 36.9\\\\\n",
       "\t2 & 722 & M & 176 & 74 & 23.9 & 28 & 3019 & 1.27 & 13137 & 58320 & 17.6\\\\\n",
       "\t3 & 470 & M & 175 & 58 & 18.9 & 21 & 2244 & 1.11 &  8883 & 44689 & 15.9\\\\\n",
       "\t4 & 170 & F & 147 & 47 & 21.8 & 45 & 1587 & 1.02 & 17713 & 28959 & 36.7\\\\\n",
       "\t5 &   2 & M & 165 & 52 & 19.1 & 65 & 1309 & 0.84 &  8381 & 40229 & 16.8\\\\\n",
       "\t6 & 924 & M & 168 & 58 & 20.5 & 18 & 1669 & 0.88 & 13035 & 43302 & 22.5\\\\\n",
       "\\end{tabular}\n"
      ],
      "text/markdown": [
       "\n",
       "A data.frame: 6 × 11\n",
       "\n",
       "| <!--/--> | id &lt;int&gt; | gender &lt;chr&gt; | height &lt;int&gt; | weight &lt;int&gt; | bmi &lt;dbl&gt; | age &lt;int&gt; | bmc &lt;int&gt; | bmd &lt;dbl&gt; | fat &lt;int&gt; | lean &lt;int&gt; | pcfat &lt;dbl&gt; |\n",
       "|---|---|---|---|---|---|---|---|---|---|---|---|\n",
       "| 1 | 740 | F | 158 | 55 | 22.0 | 47 | 1805 | 1.04 | 19932 | 32668 | 36.9 |\n",
       "| 2 | 722 | M | 176 | 74 | 23.9 | 28 | 3019 | 1.27 | 13137 | 58320 | 17.6 |\n",
       "| 3 | 470 | M | 175 | 58 | 18.9 | 21 | 2244 | 1.11 |  8883 | 44689 | 15.9 |\n",
       "| 4 | 170 | F | 147 | 47 | 21.8 | 45 | 1587 | 1.02 | 17713 | 28959 | 36.7 |\n",
       "| 5 |   2 | M | 165 | 52 | 19.1 | 65 | 1309 | 0.84 |  8381 | 40229 | 16.8 |\n",
       "| 6 | 924 | M | 168 | 58 | 20.5 | 18 | 1669 | 0.88 | 13035 | 43302 | 22.5 |\n",
       "\n"
      ],
      "text/plain": [
       "  id  gender height weight bmi  age bmc  bmd  fat   lean  pcfat\n",
       "1 740 F      158    55     22.0 47  1805 1.04 19932 32668 36.9 \n",
       "2 722 M      176    74     23.9 28  3019 1.27 13137 58320 17.6 \n",
       "3 470 M      175    58     18.9 21  2244 1.11  8883 44689 15.9 \n",
       "4 170 F      147    47     21.8 45  1587 1.02 17713 28959 36.7 \n",
       "5   2 M      165    52     19.1 65  1309 0.84  8381 40229 16.8 \n",
       "6 924 M      168    58     20.5 18  1669 0.88 13035 43302 22.5 "
      ]
     },
     "metadata": {},
     "output_type": "display_data"
    }
   ],
   "source": [
    "head(data4)"
   ]
  },
  {
   "cell_type": "code",
   "execution_count": null,
   "id": "4e335fe9-77a0-4c9f-81c4-3d3bd8490977",
   "metadata": {},
   "outputs": [],
   "source": []
  }
 ],
 "metadata": {
  "kernelspec": {
   "display_name": "R",
   "language": "R",
   "name": "ir"
  },
  "language_info": {
   "codemirror_mode": "r",
   "file_extension": ".r",
   "mimetype": "text/x-r-source",
   "name": "R",
   "pygments_lexer": "r",
   "version": "4.1.0"
  }
 },
 "nbformat": 4,
 "nbformat_minor": 5
}
