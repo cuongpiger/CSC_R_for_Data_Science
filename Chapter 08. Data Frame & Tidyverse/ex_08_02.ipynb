{
 "cells": [
  {
   "cell_type": "markdown",
   "id": "37cd6c42-2167-418f-b567-0cd2bbb80d36",
   "metadata": {},
   "source": [
    "![](images/08_01.png)"
   ]
  },
  {
   "cell_type": "code",
   "execution_count": 3,
   "id": "480c20c9-3cb9-4119-861f-bab6be10b34b",
   "metadata": {},
   "outputs": [],
   "source": [
    "a = floor(runif(10, -10, 10))\n",
    "b = letters[4:13]\n",
    "c = c('yes', 'no', 'no', 'no', 'no', 'yes', 'no', 'yes', 'yes', 'no')\n",
    "\n",
    "df3 = data.frame(a, b, c)"
   ]
  },
  {
   "cell_type": "code",
   "execution_count": 4,
   "id": "81eae2ab-4e02-45fe-b901-25b2d4df1efb",
   "metadata": {},
   "outputs": [
    {
     "data": {
      "text/html": [
       "<table class=\"dataframe\">\n",
       "<caption>A data.frame: 10 × 3</caption>\n",
       "<thead>\n",
       "\t<tr><th scope=col>a</th><th scope=col>b</th><th scope=col>c</th></tr>\n",
       "\t<tr><th scope=col>&lt;dbl&gt;</th><th scope=col>&lt;chr&gt;</th><th scope=col>&lt;chr&gt;</th></tr>\n",
       "</thead>\n",
       "<tbody>\n",
       "\t<tr><td>-2</td><td>d</td><td>yes</td></tr>\n",
       "\t<tr><td> 5</td><td>e</td><td>no </td></tr>\n",
       "\t<tr><td>-5</td><td>f</td><td>no </td></tr>\n",
       "\t<tr><td>-4</td><td>g</td><td>no </td></tr>\n",
       "\t<tr><td> 0</td><td>h</td><td>no </td></tr>\n",
       "\t<tr><td> 1</td><td>i</td><td>yes</td></tr>\n",
       "\t<tr><td> 3</td><td>j</td><td>no </td></tr>\n",
       "\t<tr><td> 8</td><td>k</td><td>yes</td></tr>\n",
       "\t<tr><td> 0</td><td>l</td><td>yes</td></tr>\n",
       "\t<tr><td> 6</td><td>m</td><td>no </td></tr>\n",
       "</tbody>\n",
       "</table>\n"
      ],
      "text/latex": [
       "A data.frame: 10 × 3\n",
       "\\begin{tabular}{lll}\n",
       " a & b & c\\\\\n",
       " <dbl> & <chr> & <chr>\\\\\n",
       "\\hline\n",
       "\t -2 & d & yes\\\\\n",
       "\t  5 & e & no \\\\\n",
       "\t -5 & f & no \\\\\n",
       "\t -4 & g & no \\\\\n",
       "\t  0 & h & no \\\\\n",
       "\t  1 & i & yes\\\\\n",
       "\t  3 & j & no \\\\\n",
       "\t  8 & k & yes\\\\\n",
       "\t  0 & l & yes\\\\\n",
       "\t  6 & m & no \\\\\n",
       "\\end{tabular}\n"
      ],
      "text/markdown": [
       "\n",
       "A data.frame: 10 × 3\n",
       "\n",
       "| a &lt;dbl&gt; | b &lt;chr&gt; | c &lt;chr&gt; |\n",
       "|---|---|---|\n",
       "| -2 | d | yes |\n",
       "|  5 | e | no  |\n",
       "| -5 | f | no  |\n",
       "| -4 | g | no  |\n",
       "|  0 | h | no  |\n",
       "|  1 | i | yes |\n",
       "|  3 | j | no  |\n",
       "|  8 | k | yes |\n",
       "|  0 | l | yes |\n",
       "|  6 | m | no  |\n",
       "\n"
      ],
      "text/plain": [
       "   a  b c  \n",
       "1  -2 d yes\n",
       "2   5 e no \n",
       "3  -5 f no \n",
       "4  -4 g no \n",
       "5   0 h no \n",
       "6   1 i yes\n",
       "7   3 j no \n",
       "8   8 k yes\n",
       "9   0 l yes\n",
       "10  6 m no "
      ]
     },
     "metadata": {},
     "output_type": "display_data"
    }
   ],
   "source": [
    "df3"
   ]
  },
  {
   "cell_type": "code",
   "execution_count": 8,
   "id": "188eef97-1985-4dda-87be-37a65b234bd6",
   "metadata": {},
   "outputs": [
    {
     "data": {
      "text/html": [
       "<table class=\"dataframe\">\n",
       "<caption>A data.frame: 10 × 3</caption>\n",
       "<thead>\n",
       "\t<tr><th></th><th scope=col>a</th><th scope=col>b</th><th scope=col>c</th></tr>\n",
       "\t<tr><th></th><th scope=col>&lt;dbl&gt;</th><th scope=col>&lt;chr&gt;</th><th scope=col>&lt;chr&gt;</th></tr>\n",
       "</thead>\n",
       "<tbody>\n",
       "\t<tr><th scope=row>3</th><td>-5</td><td>f</td><td>no </td></tr>\n",
       "\t<tr><th scope=row>4</th><td>-4</td><td>g</td><td>no </td></tr>\n",
       "\t<tr><th scope=row>1</th><td>-2</td><td>d</td><td>yes</td></tr>\n",
       "\t<tr><th scope=row>5</th><td> 0</td><td>h</td><td>no </td></tr>\n",
       "\t<tr><th scope=row>9</th><td> 0</td><td>l</td><td>yes</td></tr>\n",
       "\t<tr><th scope=row>6</th><td> 1</td><td>i</td><td>yes</td></tr>\n",
       "\t<tr><th scope=row>7</th><td> 3</td><td>j</td><td>no </td></tr>\n",
       "\t<tr><th scope=row>2</th><td> 5</td><td>e</td><td>no </td></tr>\n",
       "\t<tr><th scope=row>10</th><td> 6</td><td>m</td><td>no </td></tr>\n",
       "\t<tr><th scope=row>8</th><td> 8</td><td>k</td><td>yes</td></tr>\n",
       "</tbody>\n",
       "</table>\n"
      ],
      "text/latex": [
       "A data.frame: 10 × 3\n",
       "\\begin{tabular}{r|lll}\n",
       "  & a & b & c\\\\\n",
       "  & <dbl> & <chr> & <chr>\\\\\n",
       "\\hline\n",
       "\t3 & -5 & f & no \\\\\n",
       "\t4 & -4 & g & no \\\\\n",
       "\t1 & -2 & d & yes\\\\\n",
       "\t5 &  0 & h & no \\\\\n",
       "\t9 &  0 & l & yes\\\\\n",
       "\t6 &  1 & i & yes\\\\\n",
       "\t7 &  3 & j & no \\\\\n",
       "\t2 &  5 & e & no \\\\\n",
       "\t10 &  6 & m & no \\\\\n",
       "\t8 &  8 & k & yes\\\\\n",
       "\\end{tabular}\n"
      ],
      "text/markdown": [
       "\n",
       "A data.frame: 10 × 3\n",
       "\n",
       "| <!--/--> | a &lt;dbl&gt; | b &lt;chr&gt; | c &lt;chr&gt; |\n",
       "|---|---|---|---|\n",
       "| 3 | -5 | f | no  |\n",
       "| 4 | -4 | g | no  |\n",
       "| 1 | -2 | d | yes |\n",
       "| 5 |  0 | h | no  |\n",
       "| 9 |  0 | l | yes |\n",
       "| 6 |  1 | i | yes |\n",
       "| 7 |  3 | j | no  |\n",
       "| 2 |  5 | e | no  |\n",
       "| 10 |  6 | m | no  |\n",
       "| 8 |  8 | k | yes |\n",
       "\n"
      ],
      "text/plain": [
       "   a  b c  \n",
       "3  -5 f no \n",
       "4  -4 g no \n",
       "1  -2 d yes\n",
       "5   0 h no \n",
       "9   0 l yes\n",
       "6   1 i yes\n",
       "7   3 j no \n",
       "2   5 e no \n",
       "10  6 m no \n",
       "8   8 k yes"
      ]
     },
     "metadata": {},
     "output_type": "display_data"
    }
   ],
   "source": [
    "df3[with (df3, order(a)),]"
   ]
  },
  {
   "cell_type": "code",
   "execution_count": 12,
   "id": "3f13bd50-750b-44a5-acb2-81df4a4c919c",
   "metadata": {},
   "outputs": [],
   "source": [
    "matrix.data = matrix(1:40, nrow=10, ncol=4)\n",
    "df = as.data.frame(matrix.data)\n",
    "colnames(df) = sub(\" \", \"\", paste(\"variable_\", 1:ncol(df)))\n",
    "rownames(df) = sub(\" \", \"\", paste(\"id_\", 1:nrow(df)))"
   ]
  },
  {
   "cell_type": "code",
   "execution_count": 13,
   "id": "01631c66-ee55-47b1-a0e9-602f86406e34",
   "metadata": {},
   "outputs": [
    {
     "data": {
      "text/html": [
       "<table class=\"dataframe\">\n",
       "<caption>A data.frame: 10 × 4</caption>\n",
       "<thead>\n",
       "\t<tr><th></th><th scope=col>variable_1</th><th scope=col>variable_2</th><th scope=col>variable_3</th><th scope=col>variable_4</th></tr>\n",
       "\t<tr><th></th><th scope=col>&lt;int&gt;</th><th scope=col>&lt;int&gt;</th><th scope=col>&lt;int&gt;</th><th scope=col>&lt;int&gt;</th></tr>\n",
       "</thead>\n",
       "<tbody>\n",
       "\t<tr><th scope=row>id_1</th><td> 1</td><td>11</td><td>21</td><td>31</td></tr>\n",
       "\t<tr><th scope=row>id_2</th><td> 2</td><td>12</td><td>22</td><td>32</td></tr>\n",
       "\t<tr><th scope=row>id_3</th><td> 3</td><td>13</td><td>23</td><td>33</td></tr>\n",
       "\t<tr><th scope=row>id_4</th><td> 4</td><td>14</td><td>24</td><td>34</td></tr>\n",
       "\t<tr><th scope=row>id_5</th><td> 5</td><td>15</td><td>25</td><td>35</td></tr>\n",
       "\t<tr><th scope=row>id_6</th><td> 6</td><td>16</td><td>26</td><td>36</td></tr>\n",
       "\t<tr><th scope=row>id_7</th><td> 7</td><td>17</td><td>27</td><td>37</td></tr>\n",
       "\t<tr><th scope=row>id_8</th><td> 8</td><td>18</td><td>28</td><td>38</td></tr>\n",
       "\t<tr><th scope=row>id_9</th><td> 9</td><td>19</td><td>29</td><td>39</td></tr>\n",
       "\t<tr><th scope=row>id_10</th><td>10</td><td>20</td><td>30</td><td>40</td></tr>\n",
       "</tbody>\n",
       "</table>\n"
      ],
      "text/latex": [
       "A data.frame: 10 × 4\n",
       "\\begin{tabular}{r|llll}\n",
       "  & variable\\_1 & variable\\_2 & variable\\_3 & variable\\_4\\\\\n",
       "  & <int> & <int> & <int> & <int>\\\\\n",
       "\\hline\n",
       "\tid\\_1 &  1 & 11 & 21 & 31\\\\\n",
       "\tid\\_2 &  2 & 12 & 22 & 32\\\\\n",
       "\tid\\_3 &  3 & 13 & 23 & 33\\\\\n",
       "\tid\\_4 &  4 & 14 & 24 & 34\\\\\n",
       "\tid\\_5 &  5 & 15 & 25 & 35\\\\\n",
       "\tid\\_6 &  6 & 16 & 26 & 36\\\\\n",
       "\tid\\_7 &  7 & 17 & 27 & 37\\\\\n",
       "\tid\\_8 &  8 & 18 & 28 & 38\\\\\n",
       "\tid\\_9 &  9 & 19 & 29 & 39\\\\\n",
       "\tid\\_10 & 10 & 20 & 30 & 40\\\\\n",
       "\\end{tabular}\n"
      ],
      "text/markdown": [
       "\n",
       "A data.frame: 10 × 4\n",
       "\n",
       "| <!--/--> | variable_1 &lt;int&gt; | variable_2 &lt;int&gt; | variable_3 &lt;int&gt; | variable_4 &lt;int&gt; |\n",
       "|---|---|---|---|---|\n",
       "| id_1 |  1 | 11 | 21 | 31 |\n",
       "| id_2 |  2 | 12 | 22 | 32 |\n",
       "| id_3 |  3 | 13 | 23 | 33 |\n",
       "| id_4 |  4 | 14 | 24 | 34 |\n",
       "| id_5 |  5 | 15 | 25 | 35 |\n",
       "| id_6 |  6 | 16 | 26 | 36 |\n",
       "| id_7 |  7 | 17 | 27 | 37 |\n",
       "| id_8 |  8 | 18 | 28 | 38 |\n",
       "| id_9 |  9 | 19 | 29 | 39 |\n",
       "| id_10 | 10 | 20 | 30 | 40 |\n",
       "\n"
      ],
      "text/plain": [
       "      variable_1 variable_2 variable_3 variable_4\n",
       "id_1   1         11         21         31        \n",
       "id_2   2         12         22         32        \n",
       "id_3   3         13         23         33        \n",
       "id_4   4         14         24         34        \n",
       "id_5   5         15         25         35        \n",
       "id_6   6         16         26         36        \n",
       "id_7   7         17         27         37        \n",
       "id_8   8         18         28         38        \n",
       "id_9   9         19         29         39        \n",
       "id_10 10         20         30         40        "
      ]
     },
     "metadata": {},
     "output_type": "display_data"
    }
   ],
   "source": [
    "df"
   ]
  },
  {
   "cell_type": "code",
   "execution_count": null,
   "id": "68beaf35-2079-4ece-a4e2-b0f37ba24dc4",
   "metadata": {},
   "outputs": [],
   "source": []
  }
 ],
 "metadata": {
  "kernelspec": {
   "display_name": "R",
   "language": "R",
   "name": "ir"
  },
  "language_info": {
   "codemirror_mode": "r",
   "file_extension": ".r",
   "mimetype": "text/x-r-source",
   "name": "R",
   "pygments_lexer": "r",
   "version": "4.1.0"
  }
 },
 "nbformat": 4,
 "nbformat_minor": 5
}
