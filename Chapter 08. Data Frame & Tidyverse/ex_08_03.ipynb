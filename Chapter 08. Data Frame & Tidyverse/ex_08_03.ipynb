{
 "cells": [
  {
   "cell_type": "markdown",
   "id": "52cec304-c731-46ff-a664-119f92a230b3",
   "metadata": {},
   "source": [
    "![](images/08_02.png)"
   ]
  },
  {
   "cell_type": "code",
   "execution_count": 1,
   "id": "eb53920a-e6b7-4dda-a06a-1e3548c24a3a",
   "metadata": {},
   "outputs": [
    {
     "data": {
      "text/html": [
       "<table class=\"dataframe\">\n",
       "<caption>A matrix: 6 × 8 of type dbl</caption>\n",
       "<thead>\n",
       "\t<tr><th></th><th scope=col>Population</th><th scope=col>Income</th><th scope=col>Illiteracy</th><th scope=col>Life Exp</th><th scope=col>Murder</th><th scope=col>HS Grad</th><th scope=col>Frost</th><th scope=col>Area</th></tr>\n",
       "</thead>\n",
       "<tbody>\n",
       "\t<tr><th scope=row>Alabama</th><td> 3615</td><td>3624</td><td>2.1</td><td>69.05</td><td>15.1</td><td>41.3</td><td> 20</td><td> 50708</td></tr>\n",
       "\t<tr><th scope=row>Alaska</th><td>  365</td><td>6315</td><td>1.5</td><td>69.31</td><td>11.3</td><td>66.7</td><td>152</td><td>566432</td></tr>\n",
       "\t<tr><th scope=row>Arizona</th><td> 2212</td><td>4530</td><td>1.8</td><td>70.55</td><td> 7.8</td><td>58.1</td><td> 15</td><td>113417</td></tr>\n",
       "\t<tr><th scope=row>Arkansas</th><td> 2110</td><td>3378</td><td>1.9</td><td>70.66</td><td>10.1</td><td>39.9</td><td> 65</td><td> 51945</td></tr>\n",
       "\t<tr><th scope=row>California</th><td>21198</td><td>5114</td><td>1.1</td><td>71.71</td><td>10.3</td><td>62.6</td><td> 20</td><td>156361</td></tr>\n",
       "\t<tr><th scope=row>Colorado</th><td> 2541</td><td>4884</td><td>0.7</td><td>72.06</td><td> 6.8</td><td>63.9</td><td>166</td><td>103766</td></tr>\n",
       "</tbody>\n",
       "</table>\n"
      ],
      "text/latex": [
       "A matrix: 6 × 8 of type dbl\n",
       "\\begin{tabular}{r|llllllll}\n",
       "  & Population & Income & Illiteracy & Life Exp & Murder & HS Grad & Frost & Area\\\\\n",
       "\\hline\n",
       "\tAlabama &  3615 & 3624 & 2.1 & 69.05 & 15.1 & 41.3 &  20 &  50708\\\\\n",
       "\tAlaska &   365 & 6315 & 1.5 & 69.31 & 11.3 & 66.7 & 152 & 566432\\\\\n",
       "\tArizona &  2212 & 4530 & 1.8 & 70.55 &  7.8 & 58.1 &  15 & 113417\\\\\n",
       "\tArkansas &  2110 & 3378 & 1.9 & 70.66 & 10.1 & 39.9 &  65 &  51945\\\\\n",
       "\tCalifornia & 21198 & 5114 & 1.1 & 71.71 & 10.3 & 62.6 &  20 & 156361\\\\\n",
       "\tColorado &  2541 & 4884 & 0.7 & 72.06 &  6.8 & 63.9 & 166 & 103766\\\\\n",
       "\\end{tabular}\n"
      ],
      "text/markdown": [
       "\n",
       "A matrix: 6 × 8 of type dbl\n",
       "\n",
       "| <!--/--> | Population | Income | Illiteracy | Life Exp | Murder | HS Grad | Frost | Area |\n",
       "|---|---|---|---|---|---|---|---|---|\n",
       "| Alabama |  3615 | 3624 | 2.1 | 69.05 | 15.1 | 41.3 |  20 |  50708 |\n",
       "| Alaska |   365 | 6315 | 1.5 | 69.31 | 11.3 | 66.7 | 152 | 566432 |\n",
       "| Arizona |  2212 | 4530 | 1.8 | 70.55 |  7.8 | 58.1 |  15 | 113417 |\n",
       "| Arkansas |  2110 | 3378 | 1.9 | 70.66 | 10.1 | 39.9 |  65 |  51945 |\n",
       "| California | 21198 | 5114 | 1.1 | 71.71 | 10.3 | 62.6 |  20 | 156361 |\n",
       "| Colorado |  2541 | 4884 | 0.7 | 72.06 |  6.8 | 63.9 | 166 | 103766 |\n",
       "\n"
      ],
      "text/plain": [
       "           Population Income Illiteracy Life Exp Murder HS Grad Frost Area  \n",
       "Alabama     3615      3624   2.1        69.05    15.1   41.3     20    50708\n",
       "Alaska       365      6315   1.5        69.31    11.3   66.7    152   566432\n",
       "Arizona     2212      4530   1.8        70.55     7.8   58.1     15   113417\n",
       "Arkansas    2110      3378   1.9        70.66    10.1   39.9     65    51945\n",
       "California 21198      5114   1.1        71.71    10.3   62.6     20   156361\n",
       "Colorado    2541      4884   0.7        72.06     6.8   63.9    166   103766"
      ]
     },
     "metadata": {},
     "output_type": "display_data"
    }
   ],
   "source": [
    "head(state.x77)"
   ]
  },
  {
   "cell_type": "code",
   "execution_count": 2,
   "id": "43023244-af4d-475a-b535-dd27c1f7b046",
   "metadata": {},
   "outputs": [],
   "source": [
    "df = data.frame(state.x77)"
   ]
  },
  {
   "cell_type": "code",
   "execution_count": 3,
   "id": "9e404193-2cf1-4aa0-8644-27350260bc05",
   "metadata": {},
   "outputs": [
    {
     "name": "stdout",
     "output_type": "stream",
     "text": [
      "'data.frame':\t50 obs. of  8 variables:\n",
      " $ Population: num  3615 365 2212 2110 21198 ...\n",
      " $ Income    : num  3624 6315 4530 3378 5114 ...\n",
      " $ Illiteracy: num  2.1 1.5 1.8 1.9 1.1 0.7 1.1 0.9 1.3 2 ...\n",
      " $ Life.Exp  : num  69 69.3 70.5 70.7 71.7 ...\n",
      " $ Murder    : num  15.1 11.3 7.8 10.1 10.3 6.8 3.1 6.2 10.7 13.9 ...\n",
      " $ HS.Grad   : num  41.3 66.7 58.1 39.9 62.6 63.9 56 54.6 52.6 40.6 ...\n",
      " $ Frost     : num  20 152 15 65 20 166 139 103 11 60 ...\n",
      " $ Area      : num  50708 566432 113417 51945 156361 ...\n"
     ]
    }
   ],
   "source": [
    "str(df)"
   ]
  },
  {
   "cell_type": "code",
   "execution_count": 4,
   "id": "fc0600e3-9997-4344-b2a1-20602890a9c7",
   "metadata": {},
   "outputs": [
    {
     "data": {
      "text/html": [
       "TRUE"
      ],
      "text/latex": [
       "TRUE"
      ],
      "text/markdown": [
       "TRUE"
      ],
      "text/plain": [
       "[1] TRUE"
      ]
     },
     "metadata": {},
     "output_type": "display_data"
    }
   ],
   "source": [
    "is.data.frame(df)"
   ]
  },
  {
   "cell_type": "code",
   "execution_count": 8,
   "id": "7e310dee-f420-4215-af7f-90dd7ab7e35b",
   "metadata": {},
   "outputs": [
    {
     "data": {
      "text/html": [
       "<table class=\"dataframe\">\n",
       "<caption>A data.frame: 20 × 8</caption>\n",
       "<thead>\n",
       "\t<tr><th></th><th scope=col>Population</th><th scope=col>Income</th><th scope=col>Illiteracy</th><th scope=col>Life.Exp</th><th scope=col>Murder</th><th scope=col>HS.Grad</th><th scope=col>Frost</th><th scope=col>Area</th></tr>\n",
       "\t<tr><th></th><th scope=col>&lt;dbl&gt;</th><th scope=col>&lt;dbl&gt;</th><th scope=col>&lt;dbl&gt;</th><th scope=col>&lt;dbl&gt;</th><th scope=col>&lt;dbl&gt;</th><th scope=col>&lt;dbl&gt;</th><th scope=col>&lt;dbl&gt;</th><th scope=col>&lt;dbl&gt;</th></tr>\n",
       "</thead>\n",
       "<tbody>\n",
       "\t<tr><th scope=row>Alabama</th><td> 3615</td><td>3624</td><td>2.1</td><td>69.05</td><td>15.1</td><td>41.3</td><td> 20</td><td> 50708</td></tr>\n",
       "\t<tr><th scope=row>Arkansas</th><td> 2110</td><td>3378</td><td>1.9</td><td>70.66</td><td>10.1</td><td>39.9</td><td> 65</td><td> 51945</td></tr>\n",
       "\t<tr><th scope=row>Georgia</th><td> 4931</td><td>4091</td><td>2.0</td><td>68.54</td><td>13.9</td><td>40.6</td><td> 60</td><td> 58073</td></tr>\n",
       "\t<tr><th scope=row>Idaho</th><td>  813</td><td>4119</td><td>0.6</td><td>71.87</td><td> 5.3</td><td>59.5</td><td>126</td><td> 82677</td></tr>\n",
       "\t<tr><th scope=row>Kentucky</th><td> 3387</td><td>3712</td><td>1.6</td><td>70.10</td><td>10.6</td><td>38.5</td><td> 95</td><td> 39650</td></tr>\n",
       "\t<tr><th scope=row>Louisiana</th><td> 3806</td><td>3545</td><td>2.8</td><td>68.76</td><td>13.2</td><td>42.2</td><td> 12</td><td> 44930</td></tr>\n",
       "\t<tr><th scope=row>Maine</th><td> 1058</td><td>3694</td><td>0.7</td><td>70.39</td><td> 2.7</td><td>54.7</td><td>161</td><td> 30920</td></tr>\n",
       "\t<tr><th scope=row>Mississippi</th><td> 2341</td><td>3098</td><td>2.4</td><td>68.09</td><td>12.5</td><td>41.0</td><td> 50</td><td> 47296</td></tr>\n",
       "\t<tr><th scope=row>Missouri</th><td> 4767</td><td>4254</td><td>0.8</td><td>70.69</td><td> 9.3</td><td>48.8</td><td>108</td><td> 68995</td></tr>\n",
       "\t<tr><th scope=row>New Hampshire</th><td>  812</td><td>4281</td><td>0.7</td><td>71.23</td><td> 3.3</td><td>57.6</td><td>174</td><td>  9027</td></tr>\n",
       "\t<tr><th scope=row>New Mexico</th><td> 1144</td><td>3601</td><td>2.2</td><td>70.32</td><td> 9.7</td><td>55.2</td><td>120</td><td>121412</td></tr>\n",
       "\t<tr><th scope=row>North Carolina</th><td> 5441</td><td>3875</td><td>1.8</td><td>69.21</td><td>11.1</td><td>38.5</td><td> 80</td><td> 48798</td></tr>\n",
       "\t<tr><th scope=row>Oklahoma</th><td> 2715</td><td>3983</td><td>1.1</td><td>71.42</td><td> 6.4</td><td>51.6</td><td> 82</td><td> 68782</td></tr>\n",
       "\t<tr><th scope=row>South Carolina</th><td> 2816</td><td>3635</td><td>2.3</td><td>67.96</td><td>11.6</td><td>37.8</td><td> 65</td><td> 30225</td></tr>\n",
       "\t<tr><th scope=row>South Dakota</th><td>  681</td><td>4167</td><td>0.5</td><td>72.08</td><td> 1.7</td><td>53.3</td><td>172</td><td> 75955</td></tr>\n",
       "\t<tr><th scope=row>Tennessee</th><td> 4173</td><td>3821</td><td>1.7</td><td>70.11</td><td>11.0</td><td>41.8</td><td> 70</td><td> 41328</td></tr>\n",
       "\t<tr><th scope=row>Texas</th><td>12237</td><td>4188</td><td>2.2</td><td>70.90</td><td>12.2</td><td>47.4</td><td> 35</td><td>262134</td></tr>\n",
       "\t<tr><th scope=row>Utah</th><td> 1203</td><td>4022</td><td>0.6</td><td>72.90</td><td> 4.5</td><td>67.3</td><td>137</td><td> 82096</td></tr>\n",
       "\t<tr><th scope=row>Vermont</th><td>  472</td><td>3907</td><td>0.6</td><td>71.64</td><td> 5.5</td><td>57.1</td><td>168</td><td>  9267</td></tr>\n",
       "\t<tr><th scope=row>West Virginia</th><td> 1799</td><td>3617</td><td>1.4</td><td>69.48</td><td> 6.7</td><td>41.6</td><td>100</td><td> 24070</td></tr>\n",
       "</tbody>\n",
       "</table>\n"
      ],
      "text/latex": [
       "A data.frame: 20 × 8\n",
       "\\begin{tabular}{r|llllllll}\n",
       "  & Population & Income & Illiteracy & Life.Exp & Murder & HS.Grad & Frost & Area\\\\\n",
       "  & <dbl> & <dbl> & <dbl> & <dbl> & <dbl> & <dbl> & <dbl> & <dbl>\\\\\n",
       "\\hline\n",
       "\tAlabama &  3615 & 3624 & 2.1 & 69.05 & 15.1 & 41.3 &  20 &  50708\\\\\n",
       "\tArkansas &  2110 & 3378 & 1.9 & 70.66 & 10.1 & 39.9 &  65 &  51945\\\\\n",
       "\tGeorgia &  4931 & 4091 & 2.0 & 68.54 & 13.9 & 40.6 &  60 &  58073\\\\\n",
       "\tIdaho &   813 & 4119 & 0.6 & 71.87 &  5.3 & 59.5 & 126 &  82677\\\\\n",
       "\tKentucky &  3387 & 3712 & 1.6 & 70.10 & 10.6 & 38.5 &  95 &  39650\\\\\n",
       "\tLouisiana &  3806 & 3545 & 2.8 & 68.76 & 13.2 & 42.2 &  12 &  44930\\\\\n",
       "\tMaine &  1058 & 3694 & 0.7 & 70.39 &  2.7 & 54.7 & 161 &  30920\\\\\n",
       "\tMississippi &  2341 & 3098 & 2.4 & 68.09 & 12.5 & 41.0 &  50 &  47296\\\\\n",
       "\tMissouri &  4767 & 4254 & 0.8 & 70.69 &  9.3 & 48.8 & 108 &  68995\\\\\n",
       "\tNew Hampshire &   812 & 4281 & 0.7 & 71.23 &  3.3 & 57.6 & 174 &   9027\\\\\n",
       "\tNew Mexico &  1144 & 3601 & 2.2 & 70.32 &  9.7 & 55.2 & 120 & 121412\\\\\n",
       "\tNorth Carolina &  5441 & 3875 & 1.8 & 69.21 & 11.1 & 38.5 &  80 &  48798\\\\\n",
       "\tOklahoma &  2715 & 3983 & 1.1 & 71.42 &  6.4 & 51.6 &  82 &  68782\\\\\n",
       "\tSouth Carolina &  2816 & 3635 & 2.3 & 67.96 & 11.6 & 37.8 &  65 &  30225\\\\\n",
       "\tSouth Dakota &   681 & 4167 & 0.5 & 72.08 &  1.7 & 53.3 & 172 &  75955\\\\\n",
       "\tTennessee &  4173 & 3821 & 1.7 & 70.11 & 11.0 & 41.8 &  70 &  41328\\\\\n",
       "\tTexas & 12237 & 4188 & 2.2 & 70.90 & 12.2 & 47.4 &  35 & 262134\\\\\n",
       "\tUtah &  1203 & 4022 & 0.6 & 72.90 &  4.5 & 67.3 & 137 &  82096\\\\\n",
       "\tVermont &   472 & 3907 & 0.6 & 71.64 &  5.5 & 57.1 & 168 &   9267\\\\\n",
       "\tWest Virginia &  1799 & 3617 & 1.4 & 69.48 &  6.7 & 41.6 & 100 &  24070\\\\\n",
       "\\end{tabular}\n"
      ],
      "text/markdown": [
       "\n",
       "A data.frame: 20 × 8\n",
       "\n",
       "| <!--/--> | Population &lt;dbl&gt; | Income &lt;dbl&gt; | Illiteracy &lt;dbl&gt; | Life.Exp &lt;dbl&gt; | Murder &lt;dbl&gt; | HS.Grad &lt;dbl&gt; | Frost &lt;dbl&gt; | Area &lt;dbl&gt; |\n",
       "|---|---|---|---|---|---|---|---|---|\n",
       "| Alabama |  3615 | 3624 | 2.1 | 69.05 | 15.1 | 41.3 |  20 |  50708 |\n",
       "| Arkansas |  2110 | 3378 | 1.9 | 70.66 | 10.1 | 39.9 |  65 |  51945 |\n",
       "| Georgia |  4931 | 4091 | 2.0 | 68.54 | 13.9 | 40.6 |  60 |  58073 |\n",
       "| Idaho |   813 | 4119 | 0.6 | 71.87 |  5.3 | 59.5 | 126 |  82677 |\n",
       "| Kentucky |  3387 | 3712 | 1.6 | 70.10 | 10.6 | 38.5 |  95 |  39650 |\n",
       "| Louisiana |  3806 | 3545 | 2.8 | 68.76 | 13.2 | 42.2 |  12 |  44930 |\n",
       "| Maine |  1058 | 3694 | 0.7 | 70.39 |  2.7 | 54.7 | 161 |  30920 |\n",
       "| Mississippi |  2341 | 3098 | 2.4 | 68.09 | 12.5 | 41.0 |  50 |  47296 |\n",
       "| Missouri |  4767 | 4254 | 0.8 | 70.69 |  9.3 | 48.8 | 108 |  68995 |\n",
       "| New Hampshire |   812 | 4281 | 0.7 | 71.23 |  3.3 | 57.6 | 174 |   9027 |\n",
       "| New Mexico |  1144 | 3601 | 2.2 | 70.32 |  9.7 | 55.2 | 120 | 121412 |\n",
       "| North Carolina |  5441 | 3875 | 1.8 | 69.21 | 11.1 | 38.5 |  80 |  48798 |\n",
       "| Oklahoma |  2715 | 3983 | 1.1 | 71.42 |  6.4 | 51.6 |  82 |  68782 |\n",
       "| South Carolina |  2816 | 3635 | 2.3 | 67.96 | 11.6 | 37.8 |  65 |  30225 |\n",
       "| South Dakota |   681 | 4167 | 0.5 | 72.08 |  1.7 | 53.3 | 172 |  75955 |\n",
       "| Tennessee |  4173 | 3821 | 1.7 | 70.11 | 11.0 | 41.8 |  70 |  41328 |\n",
       "| Texas | 12237 | 4188 | 2.2 | 70.90 | 12.2 | 47.4 |  35 | 262134 |\n",
       "| Utah |  1203 | 4022 | 0.6 | 72.90 |  4.5 | 67.3 | 137 |  82096 |\n",
       "| Vermont |   472 | 3907 | 0.6 | 71.64 |  5.5 | 57.1 | 168 |   9267 |\n",
       "| West Virginia |  1799 | 3617 | 1.4 | 69.48 |  6.7 | 41.6 | 100 |  24070 |\n",
       "\n"
      ],
      "text/plain": [
       "               Population Income Illiteracy Life.Exp Murder HS.Grad Frost\n",
       "Alabama         3615      3624   2.1        69.05    15.1   41.3     20  \n",
       "Arkansas        2110      3378   1.9        70.66    10.1   39.9     65  \n",
       "Georgia         4931      4091   2.0        68.54    13.9   40.6     60  \n",
       "Idaho            813      4119   0.6        71.87     5.3   59.5    126  \n",
       "Kentucky        3387      3712   1.6        70.10    10.6   38.5     95  \n",
       "Louisiana       3806      3545   2.8        68.76    13.2   42.2     12  \n",
       "Maine           1058      3694   0.7        70.39     2.7   54.7    161  \n",
       "Mississippi     2341      3098   2.4        68.09    12.5   41.0     50  \n",
       "Missouri        4767      4254   0.8        70.69     9.3   48.8    108  \n",
       "New Hampshire    812      4281   0.7        71.23     3.3   57.6    174  \n",
       "New Mexico      1144      3601   2.2        70.32     9.7   55.2    120  \n",
       "North Carolina  5441      3875   1.8        69.21    11.1   38.5     80  \n",
       "Oklahoma        2715      3983   1.1        71.42     6.4   51.6     82  \n",
       "South Carolina  2816      3635   2.3        67.96    11.6   37.8     65  \n",
       "South Dakota     681      4167   0.5        72.08     1.7   53.3    172  \n",
       "Tennessee       4173      3821   1.7        70.11    11.0   41.8     70  \n",
       "Texas          12237      4188   2.2        70.90    12.2   47.4     35  \n",
       "Utah            1203      4022   0.6        72.90     4.5   67.3    137  \n",
       "Vermont          472      3907   0.6        71.64     5.5   57.1    168  \n",
       "West Virginia   1799      3617   1.4        69.48     6.7   41.6    100  \n",
       "               Area  \n",
       "Alabama         50708\n",
       "Arkansas        51945\n",
       "Georgia         58073\n",
       "Idaho           82677\n",
       "Kentucky        39650\n",
       "Louisiana       44930\n",
       "Maine           30920\n",
       "Mississippi     47296\n",
       "Missouri        68995\n",
       "New Hampshire    9027\n",
       "New Mexico     121412\n",
       "North Carolina  48798\n",
       "Oklahoma        68782\n",
       "South Carolina  30225\n",
       "South Dakota    75955\n",
       "Tennessee       41328\n",
       "Texas          262134\n",
       "Utah            82096\n",
       "Vermont          9267\n",
       "West Virginia   24070"
      ]
     },
     "metadata": {},
     "output_type": "display_data"
    }
   ],
   "source": [
    "df[df$Income <4300,]"
   ]
  },
  {
   "cell_type": "code",
   "execution_count": null,
   "id": "15dbbfb6-6857-4e71-83c1-c276e79d42a9",
   "metadata": {},
   "outputs": [],
   "source": []
  },
  {
   "cell_type": "code",
   "execution_count": 13,
   "id": "33e3d8f2-528c-4341-bbf0-df95e49ad873",
   "metadata": {},
   "outputs": [
    {
     "data": {
      "text/html": [
       "6315"
      ],
      "text/latex": [
       "6315"
      ],
      "text/markdown": [
       "6315"
      ],
      "text/plain": [
       "[1] 6315"
      ]
     },
     "metadata": {},
     "output_type": "display_data"
    }
   ],
   "source": [
    "df[which.max(df$Income), 'Income']"
   ]
  },
  {
   "cell_type": "code",
   "execution_count": 14,
   "id": "b52c4fea-3f79-41d1-8ca5-618c8e46279e",
   "metadata": {},
   "outputs": [
    {
     "data": {
      "text/html": [
       "73.6"
      ],
      "text/latex": [
       "73.6"
      ],
      "text/markdown": [
       "73.6"
      ],
      "text/plain": [
       "[1] 73.6"
      ]
     },
     "metadata": {},
     "output_type": "display_data"
    }
   ],
   "source": [
    "df[which.max(df$Life.Exp), 'Life.Exp']"
   ]
  },
  {
   "cell_type": "code",
   "execution_count": 15,
   "id": "76a29bc0-8da4-4031-b539-afcb6c2958d5",
   "metadata": {},
   "outputs": [
    {
     "data": {
      "text/html": [
       "67.96"
      ],
      "text/latex": [
       "67.96"
      ],
      "text/markdown": [
       "67.96"
      ],
      "text/plain": [
       "[1] 67.96"
      ]
     },
     "metadata": {},
     "output_type": "display_data"
    }
   ],
   "source": [
    "df[which.min(df$Life.Exp), 'Life.Exp']"
   ]
  },
  {
   "cell_type": "code",
   "execution_count": null,
   "id": "91c788da-10d7-41ca-b3d1-d379cf760e3f",
   "metadata": {},
   "outputs": [],
   "source": []
  }
 ],
 "metadata": {
  "kernelspec": {
   "display_name": "R",
   "language": "R",
   "name": "ir"
  },
  "language_info": {
   "codemirror_mode": "r",
   "file_extension": ".r",
   "mimetype": "text/x-r-source",
   "name": "R",
   "pygments_lexer": "r",
   "version": "4.1.0"
  }
 },
 "nbformat": 4,
 "nbformat_minor": 5
}
