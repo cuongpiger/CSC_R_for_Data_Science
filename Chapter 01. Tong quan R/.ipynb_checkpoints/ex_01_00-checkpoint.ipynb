{
 "cells": [
  {
   "cell_type": "markdown",
   "id": "c56d0700-55dc-47f8-beb0-bc3dbdb57b1f",
   "metadata": {},
   "source": [
    "![](./images/01_00.jpg)"
   ]
  },
  {
   "cell_type": "code",
   "execution_count": 1,
   "id": "148289df-89b9-4746-8737-79baae64ca98",
   "metadata": {},
   "outputs": [],
   "source": [
    "a = 5\n",
    "b = 7\n",
    "\n",
    "tong = a + b\n",
    "hieu = a - b\n",
    "tich = a * b\n",
    "thuong = a / b"
   ]
  },
  {
   "cell_type": "code",
   "execution_count": 3,
   "id": "55aed75f-417a-495c-98ad-ce5674fb0a16",
   "metadata": {},
   "outputs": [
    {
     "name": "stdout",
     "output_type": "stream",
     "text": [
      "[1] \"Tổng =  12\"\n",
      "[1] \"Hiệu =  -2\"\n",
      "[1] \"Tích =  35\"\n",
      "[1] \"Thương =  0.714285714285714\"\n"
     ]
    }
   ],
   "source": [
    "print(paste(\"Tổng = \", tong))\n",
    "print(paste(\"Hiệu = \", hieu))\n",
    "print(paste(\"Tích = \", tich))\n",
    "print(paste(\"Thương = \", thuong))"
   ]
  },
  {
   "cell_type": "code",
   "execution_count": null,
   "id": "175b035b-6c66-4884-8163-f152a6fba131",
   "metadata": {},
   "outputs": [],
   "source": []
  }
 ],
 "metadata": {
  "kernelspec": {
   "display_name": "R",
   "language": "R",
   "name": "ir"
  },
  "language_info": {
   "codemirror_mode": "r",
   "file_extension": ".r",
   "mimetype": "text/x-r-source",
   "name": "R",
   "pygments_lexer": "r",
   "version": "4.1.0"
  }
 },
 "nbformat": 4,
 "nbformat_minor": 5
}
