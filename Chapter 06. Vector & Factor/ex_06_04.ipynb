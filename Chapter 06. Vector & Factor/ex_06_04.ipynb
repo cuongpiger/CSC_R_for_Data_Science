{
 "cells": [
  {
   "cell_type": "markdown",
   "id": "7ef4c8a4-e9e3-4d60-8e7f-7985469844a5",
   "metadata": {},
   "source": [
    "![](images/06_03.png)"
   ]
  },
  {
   "cell_type": "code",
   "execution_count": 1,
   "id": "24649e40-8505-4fb6-b979-97867995ad12",
   "metadata": {},
   "outputs": [],
   "source": [
    "x = c(1, 2, 3, 3, 5, 3, 2, 4, NA, 11, 22, 47, 47, 11, 47, 11)\n",
    "xf = factor(x)"
   ]
  },
  {
   "cell_type": "code",
   "execution_count": 2,
   "id": "6711dd0a-45d1-4ea0-9da0-edf4e17e65dc",
   "metadata": {},
   "outputs": [
    {
     "data": {
      "text/html": [
       "<style>\n",
       ".list-inline {list-style: none; margin:0; padding: 0}\n",
       ".list-inline>li {display: inline-block}\n",
       ".list-inline>li:not(:last-child)::after {content: \"\\00b7\"; padding: 0 .5ex}\n",
       "</style>\n",
       "<ol class=list-inline><li>1</li><li>2</li><li>3</li><li>3</li><li>5</li><li>3</li><li>2</li><li>4</li><li>&lt;NA&gt;</li><li>11</li><li>22</li><li>47</li><li>47</li><li>11</li><li>47</li><li>11</li></ol>\n"
      ],
      "text/latex": [
       "\\begin{enumerate*}\n",
       "\\item 1\n",
       "\\item 2\n",
       "\\item 3\n",
       "\\item 3\n",
       "\\item 5\n",
       "\\item 3\n",
       "\\item 2\n",
       "\\item 4\n",
       "\\item <NA>\n",
       "\\item 11\n",
       "\\item 22\n",
       "\\item 47\n",
       "\\item 47\n",
       "\\item 11\n",
       "\\item 47\n",
       "\\item 11\n",
       "\\end{enumerate*}\n"
      ],
      "text/markdown": [
       "1. 1\n",
       "2. 2\n",
       "3. 3\n",
       "4. 3\n",
       "5. 5\n",
       "6. 3\n",
       "7. 2\n",
       "8. 4\n",
       "9. &lt;NA&gt;\n",
       "10. 11\n",
       "11. 22\n",
       "12. 47\n",
       "13. 47\n",
       "14. 11\n",
       "15. 47\n",
       "16. 11\n",
       "\n",
       "\n"
      ],
      "text/plain": [
       " [1]  1  2  3  3  5  3  2  4 NA 11 22 47 47 11 47 11"
      ]
     },
     "metadata": {},
     "output_type": "display_data"
    }
   ],
   "source": [
    "x"
   ]
  },
  {
   "cell_type": "code",
   "execution_count": 3,
   "id": "3c70e3fe-536c-4895-a50d-356091cb4015",
   "metadata": {},
   "outputs": [
    {
     "data": {
      "text/html": [
       "<style>\n",
       ".list-inline {list-style: none; margin:0; padding: 0}\n",
       ".list-inline>li {display: inline-block}\n",
       ".list-inline>li:not(:last-child)::after {content: \"\\00b7\"; padding: 0 .5ex}\n",
       "</style>\n",
       "<ol class=list-inline><li>1</li><li>2</li><li>3</li><li>3</li><li>5</li><li>3</li><li>2</li><li>4</li><li>&lt;NA&gt;</li><li>11</li><li>22</li><li>47</li><li>47</li><li>11</li><li>47</li><li>11</li></ol>\n",
       "\n",
       "<details>\n",
       "\t<summary style=display:list-item;cursor:pointer>\n",
       "\t\t<strong>Levels</strong>:\n",
       "\t</summary>\n",
       "\t<style>\n",
       "\t.list-inline {list-style: none; margin:0; padding: 0}\n",
       "\t.list-inline>li {display: inline-block}\n",
       "\t.list-inline>li:not(:last-child)::after {content: \"\\00b7\"; padding: 0 .5ex}\n",
       "\t</style>\n",
       "\t<ol class=list-inline><li>'1'</li><li>'2'</li><li>'3'</li><li>'4'</li><li>'5'</li><li>'11'</li><li>'22'</li><li>'47'</li></ol>\n",
       "</details>"
      ],
      "text/latex": [
       "\\begin{enumerate*}\n",
       "\\item 1\n",
       "\\item 2\n",
       "\\item 3\n",
       "\\item 3\n",
       "\\item 5\n",
       "\\item 3\n",
       "\\item 2\n",
       "\\item 4\n",
       "\\item <NA>\n",
       "\\item 11\n",
       "\\item 22\n",
       "\\item 47\n",
       "\\item 47\n",
       "\\item 11\n",
       "\\item 47\n",
       "\\item 11\n",
       "\\end{enumerate*}\n",
       "\n",
       "\\emph{Levels}: \\begin{enumerate*}\n",
       "\\item '1'\n",
       "\\item '2'\n",
       "\\item '3'\n",
       "\\item '4'\n",
       "\\item '5'\n",
       "\\item '11'\n",
       "\\item '22'\n",
       "\\item '47'\n",
       "\\end{enumerate*}\n"
      ],
      "text/markdown": [
       "1. 1\n",
       "2. 2\n",
       "3. 3\n",
       "4. 3\n",
       "5. 5\n",
       "6. 3\n",
       "7. 2\n",
       "8. 4\n",
       "9. &lt;NA&gt;\n",
       "10. 11\n",
       "11. 22\n",
       "12. 47\n",
       "13. 47\n",
       "14. 11\n",
       "15. 47\n",
       "16. 11\n",
       "\n",
       "\n",
       "\n",
       "**Levels**: 1. '1'\n",
       "2. '2'\n",
       "3. '3'\n",
       "4. '4'\n",
       "5. '5'\n",
       "6. '11'\n",
       "7. '22'\n",
       "8. '47'\n",
       "\n",
       "\n"
      ],
      "text/plain": [
       " [1] 1    2    3    3    5    3    2    4    <NA> 11   22   47   47   11   47  \n",
       "[16] 11  \n",
       "Levels: 1 2 3 4 5 11 22 47"
      ]
     },
     "metadata": {},
     "output_type": "display_data"
    }
   ],
   "source": [
    "xf"
   ]
  },
  {
   "cell_type": "code",
   "execution_count": 4,
   "id": "790d9c85-92e2-49cf-870e-37788e0b4f52",
   "metadata": {},
   "outputs": [
    {
     "data": {
      "text/html": [
       "<style>\n",
       ".list-inline {list-style: none; margin:0; padding: 0}\n",
       ".list-inline>li {display: inline-block}\n",
       ".list-inline>li:not(:last-child)::after {content: \"\\00b7\"; padding: 0 .5ex}\n",
       "</style>\n",
       "<ol class=list-inline><li>'1'</li><li>'2'</li><li>'3'</li><li>'4'</li><li>'5'</li><li>'11'</li><li>'22'</li><li>'47'</li></ol>\n"
      ],
      "text/latex": [
       "\\begin{enumerate*}\n",
       "\\item '1'\n",
       "\\item '2'\n",
       "\\item '3'\n",
       "\\item '4'\n",
       "\\item '5'\n",
       "\\item '11'\n",
       "\\item '22'\n",
       "\\item '47'\n",
       "\\end{enumerate*}\n"
      ],
      "text/markdown": [
       "1. '1'\n",
       "2. '2'\n",
       "3. '3'\n",
       "4. '4'\n",
       "5. '5'\n",
       "6. '11'\n",
       "7. '22'\n",
       "8. '47'\n",
       "\n",
       "\n"
      ],
      "text/plain": [
       "[1] \"1\"  \"2\"  \"3\"  \"4\"  \"5\"  \"11\" \"22\" \"47\""
      ]
     },
     "metadata": {},
     "output_type": "display_data"
    }
   ],
   "source": [
    "levels(xf)"
   ]
  },
  {
   "cell_type": "code",
   "execution_count": 5,
   "id": "9bd38153-1a31-41bb-882b-c891ef74b29d",
   "metadata": {},
   "outputs": [
    {
     "data": {
      "text/html": [
       "8"
      ],
      "text/latex": [
       "8"
      ],
      "text/markdown": [
       "8"
      ],
      "text/plain": [
       "[1] 8"
      ]
     },
     "metadata": {},
     "output_type": "display_data"
    }
   ],
   "source": [
    "length(levels(xf))"
   ]
  },
  {
   "cell_type": "code",
   "execution_count": null,
   "id": "a956dce9-2991-43dc-aa1a-9f35e29a0013",
   "metadata": {},
   "outputs": [],
   "source": []
  }
 ],
 "metadata": {
  "kernelspec": {
   "display_name": "R",
   "language": "R",
   "name": "ir"
  },
  "language_info": {
   "codemirror_mode": "r",
   "file_extension": ".r",
   "mimetype": "text/x-r-source",
   "name": "R",
   "pygments_lexer": "r",
   "version": "4.1.0"
  }
 },
 "nbformat": 4,
 "nbformat_minor": 5
}
