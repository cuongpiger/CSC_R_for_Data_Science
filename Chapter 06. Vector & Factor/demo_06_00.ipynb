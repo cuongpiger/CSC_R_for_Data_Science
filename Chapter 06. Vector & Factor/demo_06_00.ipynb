{
 "cells": [
  {
   "cell_type": "markdown",
   "id": "4b9e4500-65da-44c0-bc1b-bd40d8677ac0",
   "metadata": {},
   "source": [
    "# Vector"
   ]
  },
  {
   "cell_type": "code",
   "execution_count": 1,
   "id": "fd82e9e1-228a-4741-b9cb-c3597c0b1114",
   "metadata": {},
   "outputs": [
    {
     "name": "stdout",
     "output_type": "stream",
     "text": [
      "[1] \"abc\"\n"
     ]
    }
   ],
   "source": [
    "print(\"abc\")"
   ]
  },
  {
   "cell_type": "code",
   "execution_count": 2,
   "id": "e92fae99-6161-49aa-9757-158d5e38ab76",
   "metadata": {},
   "outputs": [
    {
     "name": "stdout",
     "output_type": "stream",
     "text": [
      "[1] 12.5\n"
     ]
    }
   ],
   "source": [
    "print(12.5)"
   ]
  },
  {
   "cell_type": "code",
   "execution_count": 3,
   "id": "677f5aee-1d06-44c2-bdde-7112dfa44fb9",
   "metadata": {},
   "outputs": [
    {
     "name": "stdout",
     "output_type": "stream",
     "text": [
      "[1] 63\n"
     ]
    }
   ],
   "source": [
    "print(63L)"
   ]
  },
  {
   "cell_type": "code",
   "execution_count": 4,
   "id": "82f926ff-eec5-4db4-84c8-924d52af4f67",
   "metadata": {},
   "outputs": [
    {
     "name": "stdout",
     "output_type": "stream",
     "text": [
      "[1] TRUE\n"
     ]
    }
   ],
   "source": [
    "print(TRUE)"
   ]
  },
  {
   "cell_type": "code",
   "execution_count": 5,
   "id": "646ac786-341d-4b5e-b01e-9243f7a67c4f",
   "metadata": {},
   "outputs": [
    {
     "name": "stdout",
     "output_type": "stream",
     "text": [
      "[1] 2+3i\n"
     ]
    }
   ],
   "source": [
    "print(2 + 3i)"
   ]
  },
  {
   "cell_type": "code",
   "execution_count": 6,
   "id": "b315abd3-10d4-4ec8-bdc9-e731d0cfbacb",
   "metadata": {},
   "outputs": [
    {
     "name": "stdout",
     "output_type": "stream",
     "text": [
      "[1] 68 65 6c 6c 6f\n"
     ]
    }
   ],
   "source": [
    "print(charToRaw(\"hello\"))"
   ]
  },
  {
   "cell_type": "code",
   "execution_count": 7,
   "id": "7ba7c20c-cebc-449d-bf11-b1ed3396e10a",
   "metadata": {},
   "outputs": [
    {
     "name": "stdout",
     "output_type": "stream",
     "text": [
      " [1]  1  2  3  4  5  6  7  8  9 10\n"
     ]
    }
   ],
   "source": [
    "v = 1:10\n",
    "\n",
    "print(v)"
   ]
  },
  {
   "cell_type": "code",
   "execution_count": 8,
   "id": "40465503-5e24-4f77-a20e-6e18cd607ee9",
   "metadata": {},
   "outputs": [
    {
     "name": "stdout",
     "output_type": "stream",
     "text": [
      "[1] 1.6 2.6 3.6 4.6 5.6\n"
     ]
    }
   ],
   "source": [
    "v = 1.6:5.6\n",
    "\n",
    "print(v)"
   ]
  },
  {
   "cell_type": "code",
   "execution_count": 9,
   "id": "7789acc6-4fa3-4155-be8b-266d372d9b12",
   "metadata": {},
   "outputs": [
    {
     "name": "stdout",
     "output_type": "stream",
     "text": [
      "[1]  5.8  6.8  7.8  8.8  9.8 10.8\n"
     ]
    }
   ],
   "source": [
    "v = 5.8:11.4\n",
    "\n",
    "print(v)"
   ]
  },
  {
   "cell_type": "code",
   "execution_count": 10,
   "id": "991719ca-48ed-44b6-80ce-0bbe64e45429",
   "metadata": {},
   "outputs": [
    {
     "name": "stdout",
     "output_type": "stream",
     "text": [
      " [1]  2.0  2.5  3.0  3.5  4.0  4.5  5.0  5.5  6.0  6.5  7.0  7.5  8.0  8.5  9.0\n",
      "[16]  9.5 10.0\n"
     ]
    }
   ],
   "source": [
    "v = seq(2, 10, by=0.5)\n",
    "\n",
    "print(v)"
   ]
  },
  {
   "cell_type": "code",
   "execution_count": 12,
   "id": "1584cd67-8c44-4c7f-9d23-55c8bc12c141",
   "metadata": {},
   "outputs": [
    {
     "name": "stdout",
     "output_type": "stream",
     "text": [
      "[1] \"red\"   \"green\" \"blue\"  \"white\"\n"
     ]
    }
   ],
   "source": [
    "colors = c('red', 'green', 'blue', 'white')\n",
    "\n",
    "print(colors)"
   ]
  },
  {
   "cell_type": "code",
   "execution_count": 14,
   "id": "b8a97795-3d0f-44a5-94de-7242bbc1e526",
   "metadata": {},
   "outputs": [
    {
     "name": "stdout",
     "output_type": "stream",
     "text": [
      "[1] \"red\"   \"blue\"  \"white\"\n"
     ]
    }
   ],
   "source": [
    "colors = c(\"red\", 'green', 'blue', 'black', 'white', 'yellow', 'orange')\n",
    "\n",
    "c1 = colors[c(1, 3, 5)]\n",
    "print(c1)"
   ]
  },
  {
   "cell_type": "code",
   "execution_count": 15,
   "id": "b62d9387-7afe-4e2b-a861-b6a2f8b5af65",
   "metadata": {},
   "outputs": [
    {
     "name": "stdout",
     "output_type": "stream",
     "text": [
      "[1] \"red\"    \"blue\"   \"white\"  \"yellow\" \"orange\"\n"
     ]
    }
   ],
   "source": [
    "c2 = colors[c(-2, -4)]\n",
    "\n",
    "print(c2)"
   ]
  },
  {
   "cell_type": "code",
   "execution_count": 17,
   "id": "825e0556-ee8e-4436-a460-85664294fcd2",
   "metadata": {},
   "outputs": [
    {
     "name": "stdout",
     "output_type": "stream",
     "text": [
      "[1]  9 17  6 16  1 13\n"
     ]
    }
   ],
   "source": [
    "v1 = c(5, 7, 4, 8, 0, 11)\n",
    "v2 = c(4, 10, 2, 8, 1, 2)\n",
    "\n",
    "print(v1 + v2)"
   ]
  },
  {
   "cell_type": "code",
   "execution_count": 18,
   "id": "5edde681-e913-4ff8-812c-feb500e2ccc8",
   "metadata": {},
   "outputs": [
    {
     "name": "stdout",
     "output_type": "stream",
     "text": [
      "[1]  1 -3  2  0 -1  9\n"
     ]
    }
   ],
   "source": [
    "print(v1 - v2)"
   ]
  },
  {
   "cell_type": "code",
   "execution_count": 19,
   "id": "af60e3b8-aea3-453e-91ad-a4109723b68d",
   "metadata": {},
   "outputs": [
    {
     "name": "stdout",
     "output_type": "stream",
     "text": [
      "[1] 20 70  8 64  0 22\n"
     ]
    }
   ],
   "source": [
    "print(v1 * v2)"
   ]
  },
  {
   "cell_type": "code",
   "execution_count": 20,
   "id": "5c8e4958-fd2b-45c9-b951-7352f2ee4128",
   "metadata": {},
   "outputs": [
    {
     "name": "stdout",
     "output_type": "stream",
     "text": [
      "[1] 1.25 0.70 2.00 1.00 0.00 5.50\n"
     ]
    }
   ],
   "source": [
    "print(v1 / v2)"
   ]
  },
  {
   "cell_type": "code",
   "execution_count": null,
   "id": "e4ac37ec-e593-42e4-8390-54e8d6e8a495",
   "metadata": {},
   "outputs": [],
   "source": []
  },
  {
   "cell_type": "code",
   "execution_count": 21,
   "id": "e4dcb9f3-9fc5-4bcf-a973-37744f805bb0",
   "metadata": {},
   "outputs": [
    {
     "name": "stdout",
     "output_type": "stream",
     "text": [
      "[1]  9 17  8 18  4 21\n"
     ]
    }
   ],
   "source": [
    "v1 = c(5, 7, 4, 8, 0, 11)\n",
    "v2 = c(4, 10)\n",
    "\n",
    "print(v1 + v2)"
   ]
  },
  {
   "cell_type": "code",
   "execution_count": null,
   "id": "4498acf3-e84d-4cbe-a1ad-deb814a60300",
   "metadata": {},
   "outputs": [],
   "source": []
  },
  {
   "cell_type": "code",
   "execution_count": 22,
   "id": "ca0f5547-159a-42cc-b463-4eb4c3644de2",
   "metadata": {},
   "outputs": [
    {
     "name": "stdout",
     "output_type": "stream",
     "text": [
      "[1] -10  -6   1   2   5   7   9\n"
     ]
    }
   ],
   "source": [
    "v = c(1, 2, 5, -10, 7, -6, 9)\n",
    "\n",
    "print(sort(v))"
   ]
  },
  {
   "cell_type": "code",
   "execution_count": 23,
   "id": "1d30fb77-d46a-4fbb-8f4f-99595d3fbf3a",
   "metadata": {},
   "outputs": [
    {
     "name": "stdout",
     "output_type": "stream",
     "text": [
      "[1]   9   7   5   2   1  -6 -10\n"
     ]
    }
   ],
   "source": [
    "print(sort(v, decreasing=TRUE))"
   ]
  },
  {
   "cell_type": "code",
   "execution_count": 24,
   "id": "154d16ab-f118-4635-b38b-e28ded02ae7d",
   "metadata": {},
   "outputs": [],
   "source": [
    "colors = c(\"red\", 'green', 'blue', 'black', 'white', 'yellow', 'orange')"
   ]
  },
  {
   "cell_type": "code",
   "execution_count": 25,
   "id": "a99f485a-dbe5-473a-9f44-ae73bea71d32",
   "metadata": {},
   "outputs": [
    {
     "name": "stdout",
     "output_type": "stream",
     "text": [
      "[1] \"black\"  \"blue\"   \"green\"  \"orange\" \"red\"    \"white\"  \"yellow\"\n"
     ]
    }
   ],
   "source": [
    "print(sort(colors))"
   ]
  },
  {
   "cell_type": "code",
   "execution_count": 26,
   "id": "fed7de4f-6c01-4078-92b6-c13e4d9f975c",
   "metadata": {},
   "outputs": [
    {
     "name": "stdout",
     "output_type": "stream",
     "text": [
      "[1] \"yellow\" \"white\"  \"red\"    \"orange\" \"green\"  \"blue\"   \"black\" \n"
     ]
    }
   ],
   "source": [
    "print(sort(colors, decreasing=TRUE))"
   ]
  },
  {
   "cell_type": "markdown",
   "id": "ca519b11-25f0-4205-8190-1ffaf05bba07",
   "metadata": {},
   "source": [
    "# Factor"
   ]
  },
  {
   "cell_type": "code",
   "execution_count": 27,
   "id": "e2b5302e-da60-4a14-b608-01c0641f8ac4",
   "metadata": {},
   "outputs": [
    {
     "data": {
      "text/html": [
       "FALSE"
      ],
      "text/latex": [
       "FALSE"
      ],
      "text/markdown": [
       "FALSE"
      ],
      "text/plain": [
       "[1] FALSE"
      ]
     },
     "metadata": {},
     "output_type": "display_data"
    }
   ],
   "source": [
    "gender = c(\"male\", 'female', 'female', 'male', 'female', 'male')\n",
    "\n",
    "is.factor(gender)"
   ]
  },
  {
   "cell_type": "code",
   "execution_count": 28,
   "id": "aed4bef9-dcbf-46e3-9399-fa6ec6606d03",
   "metadata": {},
   "outputs": [
    {
     "data": {
      "text/html": [
       "TRUE"
      ],
      "text/latex": [
       "TRUE"
      ],
      "text/markdown": [
       "TRUE"
      ],
      "text/plain": [
       "[1] TRUE"
      ]
     },
     "metadata": {},
     "output_type": "display_data"
    }
   ],
   "source": [
    "factor_gender = factor(gender)\n",
    "\n",
    "is.factor(factor_gender)"
   ]
  },
  {
   "cell_type": "code",
   "execution_count": 30,
   "id": "7a14374a-4d1e-4c6c-a4bb-e27f6d97817f",
   "metadata": {},
   "outputs": [
    {
     "name": "stdout",
     "output_type": "stream",
     "text": [
      "[1] male   female female male   female male  \n",
      "Levels: female male\n"
     ]
    }
   ],
   "source": [
    "print(factor_gender)"
   ]
  },
  {
   "cell_type": "code",
   "execution_count": null,
   "id": "ac454756-2674-4d46-9694-e86d07a4cc6f",
   "metadata": {},
   "outputs": [],
   "source": []
  },
  {
   "cell_type": "code",
   "execution_count": 32,
   "id": "0124a8a9-75e5-4398-bd48-8dcdcc794207",
   "metadata": {},
   "outputs": [
    {
     "name": "stdout",
     "output_type": "stream",
     "text": [
      "[1] male   female female male   female male  \n",
      "Levels: male female\n"
     ]
    }
   ],
   "source": [
    "new_order_factor = factor(factor_gender, levels=c('male', 'female'))\n",
    "print(new_order_factor)"
   ]
  },
  {
   "cell_type": "code",
   "execution_count": null,
   "id": "3cc35bfc-4374-4a1f-a96c-bdb2c5779075",
   "metadata": {},
   "outputs": [],
   "source": []
  },
  {
   "cell_type": "code",
   "execution_count": 33,
   "id": "9e363f4f-3b5e-4de3-82ed-a12222fc92b4",
   "metadata": {},
   "outputs": [
    {
     "name": "stdout",
     "output_type": "stream",
     "text": [
      " [1] red   red   red   red   red   green green green green green blue  blue \n",
      "[13] blue  blue  blue \n",
      "Levels: red green blue\n"
     ]
    }
   ],
   "source": [
    "colors_factor = gl(3, 5, labels=c('red', 'green', 'blue'))\n",
    "\n",
    "print(colors_factor)"
   ]
  },
  {
   "cell_type": "code",
   "execution_count": null,
   "id": "1e7e37df-6b49-4939-bb94-f875c75ad112",
   "metadata": {},
   "outputs": [],
   "source": []
  }
 ],
 "metadata": {
  "kernelspec": {
   "display_name": "R",
   "language": "R",
   "name": "ir"
  },
  "language_info": {
   "codemirror_mode": "r",
   "file_extension": ".r",
   "mimetype": "text/x-r-source",
   "name": "R",
   "pygments_lexer": "r",
   "version": "4.1.0"
  }
 },
 "nbformat": 4,
 "nbformat_minor": 5
}
