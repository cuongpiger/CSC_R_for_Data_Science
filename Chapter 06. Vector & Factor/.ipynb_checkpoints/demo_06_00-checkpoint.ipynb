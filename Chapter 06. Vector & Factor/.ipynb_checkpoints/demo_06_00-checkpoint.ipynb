{
 "cells": [
  {
   "cell_type": "markdown",
   "id": "4b9e4500-65da-44c0-bc1b-bd40d8677ac0",
   "metadata": {},
   "source": [
    "# Vector"
   ]
  },
  {
   "cell_type": "code",
   "execution_count": 1,
   "id": "fd82e9e1-228a-4741-b9cb-c3597c0b1114",
   "metadata": {},
   "outputs": [
    {
     "name": "stdout",
     "output_type": "stream",
     "text": [
      "[1] \"abc\"\n"
     ]
    }
   ],
   "source": [
    "print(\"abc\")"
   ]
  },
  {
   "cell_type": "code",
   "execution_count": 2,
   "id": "e92fae99-6161-49aa-9757-158d5e38ab76",
   "metadata": {},
   "outputs": [
    {
     "name": "stdout",
     "output_type": "stream",
     "text": [
      "[1] 12.5\n"
     ]
    }
   ],
   "source": [
    "print(12.5)"
   ]
  },
  {
   "cell_type": "code",
   "execution_count": 3,
   "id": "677f5aee-1d06-44c2-bdde-7112dfa44fb9",
   "metadata": {},
   "outputs": [
    {
     "name": "stdout",
     "output_type": "stream",
     "text": [
      "[1] 63\n"
     ]
    }
   ],
   "source": [
    "print(63L)"
   ]
  },
  {
   "cell_type": "code",
   "execution_count": 4,
   "id": "82f926ff-eec5-4db4-84c8-924d52af4f67",
   "metadata": {},
   "outputs": [
    {
     "name": "stdout",
     "output_type": "stream",
     "text": [
      "[1] TRUE\n"
     ]
    }
   ],
   "source": [
    "print(TRUE)"
   ]
  },
  {
   "cell_type": "code",
   "execution_count": 5,
   "id": "646ac786-341d-4b5e-b01e-9243f7a67c4f",
   "metadata": {},
   "outputs": [
    {
     "name": "stdout",
     "output_type": "stream",
     "text": [
      "[1] 2+3i\n"
     ]
    }
   ],
   "source": [
    "print(2 + 3i)"
   ]
  },
  {
   "cell_type": "code",
   "execution_count": 6,
   "id": "b315abd3-10d4-4ec8-bdc9-e731d0cfbacb",
   "metadata": {},
   "outputs": [
    {
     "name": "stdout",
     "output_type": "stream",
     "text": [
      "[1] 68 65 6c 6c 6f\n"
     ]
    }
   ],
   "source": [
    "print(charToRaw(\"hello\"))"
   ]
  },
  {
   "cell_type": "code",
   "execution_count": 7,
   "id": "7ba7c20c-cebc-449d-bf11-b1ed3396e10a",
   "metadata": {},
   "outputs": [
    {
     "name": "stdout",
     "output_type": "stream",
     "text": [
      " [1]  1  2  3  4  5  6  7  8  9 10\n"
     ]
    }
   ],
   "source": [
    "v = 1:10\n",
    "\n",
    "print(v)"
   ]
  },
  {
   "cell_type": "code",
   "execution_count": 8,
   "id": "40465503-5e24-4f77-a20e-6e18cd607ee9",
   "metadata": {},
   "outputs": [
    {
     "name": "stdout",
     "output_type": "stream",
     "text": [
      "[1] 1.6 2.6 3.6 4.6 5.6\n"
     ]
    }
   ],
   "source": [
    "v = 1.6:5.6\n",
    "\n",
    "print(v)"
   ]
  },
  {
   "cell_type": "code",
   "execution_count": 9,
   "id": "7789acc6-4fa3-4155-be8b-266d372d9b12",
   "metadata": {},
   "outputs": [
    {
     "name": "stdout",
     "output_type": "stream",
     "text": [
      "[1]  5.8  6.8  7.8  8.8  9.8 10.8\n"
     ]
    }
   ],
   "source": [
    "v = 5.8:11.4\n",
    "\n",
    "print(v)"
   ]
  },
  {
   "cell_type": "code",
   "execution_count": 10,
   "id": "991719ca-48ed-44b6-80ce-0bbe64e45429",
   "metadata": {},
   "outputs": [
    {
     "name": "stdout",
     "output_type": "stream",
     "text": [
      " [1]  2.0  2.5  3.0  3.5  4.0  4.5  5.0  5.5  6.0  6.5  7.0  7.5  8.0  8.5  9.0\n",
      "[16]  9.5 10.0\n"
     ]
    }
   ],
   "source": [
    "v = seq(2, 10, by=0.5)\n",
    "\n",
    "print(v)"
   ]
  },
  {
   "cell_type": "code",
   "execution_count": 12,
   "id": "1584cd67-8c44-4c7f-9d23-55c8bc12c141",
   "metadata": {},
   "outputs": [
    {
     "name": "stdout",
     "output_type": "stream",
     "text": [
      "[1] \"red\"   \"green\" \"blue\"  \"white\"\n"
     ]
    }
   ],
   "source": [
    "colors = c('red', 'green', 'blue', 'white')\n",
    "\n",
    "print(colors)"
   ]
  },
  {
   "cell_type": "code",
   "execution_count": null,
   "id": "b8a97795-3d0f-44a5-94de-7242bbc1e526",
   "metadata": {},
   "outputs": [],
   "source": []
  }
 ],
 "metadata": {
  "kernelspec": {
   "display_name": "R",
   "language": "R",
   "name": "ir"
  },
  "language_info": {
   "codemirror_mode": "r",
   "file_extension": ".r",
   "mimetype": "text/x-r-source",
   "name": "R",
   "pygments_lexer": "r",
   "version": "4.1.0"
  }
 },
 "nbformat": 4,
 "nbformat_minor": 5
}
