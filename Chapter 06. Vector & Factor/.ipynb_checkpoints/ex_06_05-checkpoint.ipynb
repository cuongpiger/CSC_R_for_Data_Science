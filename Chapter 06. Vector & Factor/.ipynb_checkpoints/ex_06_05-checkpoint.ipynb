{
 "cells": [
  {
   "cell_type": "markdown",
   "id": "e7035ba2-f9b3-438e-97c6-6a5aee9077ba",
   "metadata": {},
   "source": [
    "# Chapter 05. Factor Strings <br>\n",
    "![](images/06_04.png)"
   ]
  },
  {
   "cell_type": "code",
   "execution_count": 1,
   "id": "32a9429f-7fbe-4f0c-b938-2be189569a30",
   "metadata": {},
   "outputs": [],
   "source": [
    "v1 = c('low', 'high', 'medium', 'high', 'low', 'medium', 'high')\n",
    "v1f = factor(v1)"
   ]
  },
  {
   "cell_type": "code",
   "execution_count": 2,
   "id": "770b993d-5318-40ab-a19c-290b46eebe26",
   "metadata": {},
   "outputs": [
    {
     "data": {
      "text/html": [
       "<style>\n",
       ".list-inline {list-style: none; margin:0; padding: 0}\n",
       ".list-inline>li {display: inline-block}\n",
       ".list-inline>li:not(:last-child)::after {content: \"\\00b7\"; padding: 0 .5ex}\n",
       "</style>\n",
       "<ol class=list-inline><li>'high'</li><li>'low'</li><li>'medium'</li></ol>\n"
      ],
      "text/latex": [
       "\\begin{enumerate*}\n",
       "\\item 'high'\n",
       "\\item 'low'\n",
       "\\item 'medium'\n",
       "\\end{enumerate*}\n"
      ],
      "text/markdown": [
       "1. 'high'\n",
       "2. 'low'\n",
       "3. 'medium'\n",
       "\n",
       "\n"
      ],
      "text/plain": [
       "[1] \"high\"   \"low\"    \"medium\""
      ]
     },
     "metadata": {},
     "output_type": "display_data"
    }
   ],
   "source": [
    "levels(v1f)"
   ]
  },
  {
   "cell_type": "code",
   "execution_count": 3,
   "id": "344d2e6b-048d-4232-87a9-88df396c6f7e",
   "metadata": {},
   "outputs": [
    {
     "data": {
      "text/html": [
       "3"
      ],
      "text/latex": [
       "3"
      ],
      "text/markdown": [
       "3"
      ],
      "text/plain": [
       "[1] 3"
      ]
     },
     "metadata": {},
     "output_type": "display_data"
    }
   ],
   "source": [
    "length(levels(v1f))"
   ]
  },
  {
   "cell_type": "code",
   "execution_count": 5,
   "id": "dbbb2cba-3138-4c73-8cbd-289acc8cffd2",
   "metadata": {},
   "outputs": [
    {
     "data": {
      "text/html": [
       "<style>\n",
       ".list-inline {list-style: none; margin:0; padding: 0}\n",
       ".list-inline>li {display: inline-block}\n",
       ".list-inline>li:not(:last-child)::after {content: \"\\00b7\"; padding: 0 .5ex}\n",
       "</style>\n",
       "<ol class=list-inline><li>'high'</li><li>'low'</li><li>'medium'</li><li>'medium high'</li></ol>\n"
      ],
      "text/latex": [
       "\\begin{enumerate*}\n",
       "\\item 'high'\n",
       "\\item 'low'\n",
       "\\item 'medium'\n",
       "\\item 'medium high'\n",
       "\\end{enumerate*}\n"
      ],
      "text/markdown": [
       "1. 'high'\n",
       "2. 'low'\n",
       "3. 'medium'\n",
       "4. 'medium high'\n",
       "\n",
       "\n"
      ],
      "text/plain": [
       "[1] \"high\"        \"low\"         \"medium\"      \"medium high\""
      ]
     },
     "metadata": {},
     "output_type": "display_data"
    }
   ],
   "source": [
    "levels(v1f) = c(levels(v1f), 'medium high')\n",
    "\n",
    "levels(v1f)"
   ]
  },
  {
   "cell_type": "code",
   "execution_count": 6,
   "id": "a6566d03-9d8b-4556-a05c-191b64ddc3a6",
   "metadata": {},
   "outputs": [
    {
     "data": {
      "text/html": [
       "4"
      ],
      "text/latex": [
       "4"
      ],
      "text/markdown": [
       "4"
      ],
      "text/plain": [
       "[1] 4"
      ]
     },
     "metadata": {},
     "output_type": "display_data"
    }
   ],
   "source": [
    "length(levels(v1f))"
   ]
  },
  {
   "cell_type": "markdown",
   "id": "e12ab6a5-f42e-4153-9e4d-e567c7c9c8e5",
   "metadata": {},
   "source": [
    "Xem thêm các cách thống kê số lượng các phần tử theo level tại đây: [https://statisticsglobe.com/count-observations-by-factor-level-in-r](https://statisticsglobe.com/count-observations-by-factor-level-in-r)"
   ]
  },
  {
   "cell_type": "code",
   "execution_count": 7,
   "id": "59e201c5-78e7-4b4a-8dae-5ff62ebe6393",
   "metadata": {},
   "outputs": [
    {
     "data": {
      "text/plain": [
       "v1f\n",
       "       high         low      medium medium high \n",
       "          3           2           2           0 "
      ]
     },
     "metadata": {},
     "output_type": "display_data"
    }
   ],
   "source": [
    "table(v1f)"
   ]
  },
  {
   "cell_type": "code",
   "execution_count": null,
   "id": "88b16a64-30c7-49c4-bf39-b83d03613e24",
   "metadata": {},
   "outputs": [],
   "source": []
  }
 ],
 "metadata": {
  "kernelspec": {
   "display_name": "R",
   "language": "R",
   "name": "ir"
  },
  "language_info": {
   "codemirror_mode": "r",
   "file_extension": ".r",
   "mimetype": "text/x-r-source",
   "name": "R",
   "pygments_lexer": "r",
   "version": "4.1.0"
  }
 },
 "nbformat": 4,
 "nbformat_minor": 5
}
