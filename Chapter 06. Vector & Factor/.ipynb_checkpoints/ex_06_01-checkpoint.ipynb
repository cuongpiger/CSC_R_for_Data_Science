{
 "cells": [
  {
   "cell_type": "markdown",
   "id": "fb1c437f-8858-404f-bc0d-a2dff83c4b6a",
   "metadata": {},
   "source": [
    "![](images/06_00.png)"
   ]
  },
  {
   "cell_type": "code",
   "execution_count": 1,
   "id": "7a0aeb36-2e96-4663-a572-b9d12ff2b482",
   "metadata": {},
   "outputs": [
    {
     "data": {
      "text/html": [
       "<style>\n",
       ".list-inline {list-style: none; margin:0; padding: 0}\n",
       ".list-inline>li {display: inline-block}\n",
       ".list-inline>li:not(:last-child)::after {content: \"\\00b7\"; padding: 0 .5ex}\n",
       "</style>\n",
       "<ol class=list-inline><li>'Sasuke'</li><li>'Naruto'</li><li>'Sakura'</li></ol>\n"
      ],
      "text/latex": [
       "\\begin{enumerate*}\n",
       "\\item 'Sasuke'\n",
       "\\item 'Naruto'\n",
       "\\item 'Sakura'\n",
       "\\end{enumerate*}\n"
      ],
      "text/markdown": [
       "1. 'Sasuke'\n",
       "2. 'Naruto'\n",
       "3. 'Sakura'\n",
       "\n",
       "\n"
      ],
      "text/plain": [
       "[1] \"Sasuke\" \"Naruto\" \"Sakura\""
      ]
     },
     "metadata": {},
     "output_type": "display_data"
    }
   ],
   "source": [
    "names = c(\"Sasuke\", \"Naruto\", \"Sakura\")\n",
    "\n",
    "names"
   ]
  },
  {
   "cell_type": "code",
   "execution_count": null,
   "id": "3e1eb2aa-0e0d-4325-979e-c85f4451a757",
   "metadata": {},
   "outputs": [],
   "source": []
  },
  {
   "cell_type": "code",
   "execution_count": 2,
   "id": "92169dde-9252-42af-9e27-482a0e5b29e6",
   "metadata": {},
   "outputs": [
    {
     "name": "stdin",
     "output_type": "stream",
     "text": [
      "Nhập tên (rỗng nếu muốn dừng): Conan\n",
      "Nhập tên (rỗng nếu muốn dừng): Tất Đạt Đa\n",
      "Nhập tên (rỗng nếu muốn dừng): \n"
     ]
    },
    {
     "name": "stdout",
     "output_type": "stream",
     "text": [
      "[1] \"Sasuke\"     \"Naruto\"     \"Sakura\"     \"Conan\"      \"Tất Đạt Đa\"\n"
     ]
    }
   ],
   "source": [
    "repeat {\n",
    "    flush.console()\n",
    "    new_name = readline(prompt = \"Nhập tên (rỗng nếu muốn dừng):\")\n",
    "    \n",
    "    if (new_name != \"\") {\n",
    "        names = append(names, new_name)\n",
    "    }\n",
    "    else {\n",
    "        print(names)\n",
    "        break;\n",
    "    }\n",
    "}"
   ]
  },
  {
   "cell_type": "code",
   "execution_count": null,
   "id": "df749dc0-bad7-46fe-821f-f2505cbfd9d4",
   "metadata": {},
   "outputs": [],
   "source": []
  },
  {
   "cell_type": "code",
   "execution_count": 3,
   "id": "f1021cb7-e078-41d7-9258-a24b14c7565d",
   "metadata": {},
   "outputs": [
    {
     "data": {
      "text/html": [
       "5"
      ],
      "text/latex": [
       "5"
      ],
      "text/markdown": [
       "5"
      ],
      "text/plain": [
       "[1] 5"
      ]
     },
     "metadata": {},
     "output_type": "display_data"
    }
   ],
   "source": [
    "length(names)"
   ]
  },
  {
   "cell_type": "code",
   "execution_count": 4,
   "id": "083521ab-687b-442c-b7ca-0170098fb058",
   "metadata": {},
   "outputs": [
    {
     "data": {
      "text/html": [
       "<style>\n",
       ".list-inline {list-style: none; margin:0; padding: 0}\n",
       ".list-inline>li {display: inline-block}\n",
       ".list-inline>li:not(:last-child)::after {content: \"\\00b7\"; padding: 0 .5ex}\n",
       "</style>\n",
       "<ol class=list-inline><li>'Sasuke'</li><li>'Naruto'</li><li>'Sakura'</li><li>'Conan'</li><li>'Tất Đạt Đa'</li></ol>\n"
      ],
      "text/latex": [
       "\\begin{enumerate*}\n",
       "\\item 'Sasuke'\n",
       "\\item 'Naruto'\n",
       "\\item 'Sakura'\n",
       "\\item 'Conan'\n",
       "\\item 'Tất Đạt Đa'\n",
       "\\end{enumerate*}\n"
      ],
      "text/markdown": [
       "1. 'Sasuke'\n",
       "2. 'Naruto'\n",
       "3. 'Sakura'\n",
       "4. 'Conan'\n",
       "5. 'Tất Đạt Đa'\n",
       "\n",
       "\n"
      ],
      "text/plain": [
       "[1] \"Sasuke\"     \"Naruto\"     \"Sakura\"     \"Conan\"      \"Tất Đạt Đa\""
      ]
     },
     "metadata": {},
     "output_type": "display_data"
    }
   ],
   "source": [
    "names"
   ]
  },
  {
   "cell_type": "code",
   "execution_count": null,
   "id": "70bb02eb-6ead-4951-b634-9658cb1fbd0e",
   "metadata": {},
   "outputs": [],
   "source": []
  },
  {
   "cell_type": "code",
   "execution_count": 6,
   "id": "ef9f6c1b-8c65-4fa1-9e55-da6ce0e66230",
   "metadata": {},
   "outputs": [
    {
     "data": {
      "text/html": [
       "<style>\n",
       ".list-inline {list-style: none; margin:0; padding: 0}\n",
       ".list-inline>li {display: inline-block}\n",
       ".list-inline>li:not(:last-child)::after {content: \"\\00b7\"; padding: 0 .5ex}\n",
       "</style>\n",
       "<ol class=list-inline><li>'Sasuke'</li><li>'Naruto'</li></ol>\n"
      ],
      "text/latex": [
       "\\begin{enumerate*}\n",
       "\\item 'Sasuke'\n",
       "\\item 'Naruto'\n",
       "\\end{enumerate*}\n"
      ],
      "text/markdown": [
       "1. 'Sasuke'\n",
       "2. 'Naruto'\n",
       "\n",
       "\n"
      ],
      "text/plain": [
       "[1] \"Sasuke\" \"Naruto\""
      ]
     },
     "metadata": {},
     "output_type": "display_data"
    }
   ],
   "source": [
    "head(names, 2)"
   ]
  },
  {
   "cell_type": "code",
   "execution_count": null,
   "id": "aebb5b90-0709-40a1-bcfc-576cee90fab1",
   "metadata": {},
   "outputs": [],
   "source": []
  },
  {
   "cell_type": "code",
   "execution_count": 8,
   "id": "aea9d48a-65b0-4354-af8b-fb765f0560fa",
   "metadata": {},
   "outputs": [
    {
     "data": {
      "text/html": [
       "<style>\n",
       ".list-inline {list-style: none; margin:0; padding: 0}\n",
       ".list-inline>li {display: inline-block}\n",
       ".list-inline>li:not(:last-child)::after {content: \"\\00b7\"; padding: 0 .5ex}\n",
       "</style>\n",
       "<ol class=list-inline><li>'Naruto'</li><li>'Sakura'</li></ol>\n"
      ],
      "text/latex": [
       "\\begin{enumerate*}\n",
       "\\item 'Naruto'\n",
       "\\item 'Sakura'\n",
       "\\end{enumerate*}\n"
      ],
      "text/markdown": [
       "1. 'Naruto'\n",
       "2. 'Sakura'\n",
       "\n",
       "\n"
      ],
      "text/plain": [
       "[1] \"Naruto\" \"Sakura\""
      ]
     },
     "metadata": {},
     "output_type": "display_data"
    }
   ],
   "source": [
    "names[c(2, 3)]"
   ]
  },
  {
   "cell_type": "code",
   "execution_count": null,
   "id": "6ace9669-0c65-4d72-8ac9-c11c3a4afd6e",
   "metadata": {},
   "outputs": [],
   "source": []
  },
  {
   "cell_type": "code",
   "execution_count": 7,
   "id": "5ff1003e-df27-4565-bba1-733c607c565f",
   "metadata": {},
   "outputs": [
    {
     "data": {
      "text/html": [
       "<style>\n",
       ".list-inline {list-style: none; margin:0; padding: 0}\n",
       ".list-inline>li {display: inline-block}\n",
       ".list-inline>li:not(:last-child)::after {content: \"\\00b7\"; padding: 0 .5ex}\n",
       "</style>\n",
       "<ol class=list-inline><li>'Conan'</li><li>'Tất Đạt Đa'</li></ol>\n"
      ],
      "text/latex": [
       "\\begin{enumerate*}\n",
       "\\item 'Conan'\n",
       "\\item 'Tất Đạt Đa'\n",
       "\\end{enumerate*}\n"
      ],
      "text/markdown": [
       "1. 'Conan'\n",
       "2. 'Tất Đạt Đa'\n",
       "\n",
       "\n"
      ],
      "text/plain": [
       "[1] \"Conan\"      \"Tất Đạt Đa\""
      ]
     },
     "metadata": {},
     "output_type": "display_data"
    }
   ],
   "source": [
    "tail(names, 2)"
   ]
  },
  {
   "cell_type": "code",
   "execution_count": null,
   "id": "3d0b1adc-a238-4b05-83e5-5c5cd87b695b",
   "metadata": {},
   "outputs": [],
   "source": []
  },
  {
   "cell_type": "code",
   "execution_count": 9,
   "id": "e45cbeff-4426-49e5-933d-328e5023dae9",
   "metadata": {},
   "outputs": [
    {
     "data": {
      "text/html": [
       "<style>\n",
       ".list-inline {list-style: none; margin:0; padding: 0}\n",
       ".list-inline>li {display: inline-block}\n",
       ".list-inline>li:not(:last-child)::after {content: \"\\00b7\"; padding: 0 .5ex}\n",
       "</style>\n",
       "<ol class=list-inline><li>'Conan'</li><li>'Naruto'</li><li>'Sakura'</li><li>'Sasuke'</li><li>'Tất Đạt Đa'</li></ol>\n"
      ],
      "text/latex": [
       "\\begin{enumerate*}\n",
       "\\item 'Conan'\n",
       "\\item 'Naruto'\n",
       "\\item 'Sakura'\n",
       "\\item 'Sasuke'\n",
       "\\item 'Tất Đạt Đa'\n",
       "\\end{enumerate*}\n"
      ],
      "text/markdown": [
       "1. 'Conan'\n",
       "2. 'Naruto'\n",
       "3. 'Sakura'\n",
       "4. 'Sasuke'\n",
       "5. 'Tất Đạt Đa'\n",
       "\n",
       "\n"
      ],
      "text/plain": [
       "[1] \"Conan\"      \"Naruto\"     \"Sakura\"     \"Sasuke\"     \"Tất Đạt Đa\""
      ]
     },
     "metadata": {},
     "output_type": "display_data"
    }
   ],
   "source": [
    "sort(names)"
   ]
  },
  {
   "cell_type": "code",
   "execution_count": null,
   "id": "d4974851-0255-4064-b9f2-5e3da2e5de55",
   "metadata": {},
   "outputs": [],
   "source": []
  },
  {
   "cell_type": "code",
   "execution_count": 10,
   "id": "4560629f-92bb-4d95-b89c-4ddca1afd23a",
   "metadata": {},
   "outputs": [
    {
     "data": {
      "text/html": [
       "<style>\n",
       ".list-inline {list-style: none; margin:0; padding: 0}\n",
       ".list-inline>li {display: inline-block}\n",
       ".list-inline>li:not(:last-child)::after {content: \"\\00b7\"; padding: 0 .5ex}\n",
       "</style>\n",
       "<ol class=list-inline><li>'Tất Đạt Đa'</li><li>'Sasuke'</li><li>'Sakura'</li><li>'Naruto'</li><li>'Conan'</li></ol>\n"
      ],
      "text/latex": [
       "\\begin{enumerate*}\n",
       "\\item 'Tất Đạt Đa'\n",
       "\\item 'Sasuke'\n",
       "\\item 'Sakura'\n",
       "\\item 'Naruto'\n",
       "\\item 'Conan'\n",
       "\\end{enumerate*}\n"
      ],
      "text/markdown": [
       "1. 'Tất Đạt Đa'\n",
       "2. 'Sasuke'\n",
       "3. 'Sakura'\n",
       "4. 'Naruto'\n",
       "5. 'Conan'\n",
       "\n",
       "\n"
      ],
      "text/plain": [
       "[1] \"Tất Đạt Đa\" \"Sasuke\"     \"Sakura\"     \"Naruto\"     \"Conan\"     "
      ]
     },
     "metadata": {},
     "output_type": "display_data"
    }
   ],
   "source": [
    "sort(names, TRUE)"
   ]
  },
  {
   "cell_type": "code",
   "execution_count": null,
   "id": "c7dd95a1-9761-449c-91aa-9af2b5308d74",
   "metadata": {},
   "outputs": [],
   "source": []
  }
 ],
 "metadata": {
  "kernelspec": {
   "display_name": "R",
   "language": "R",
   "name": "ir"
  },
  "language_info": {
   "codemirror_mode": "r",
   "file_extension": ".r",
   "mimetype": "text/x-r-source",
   "name": "R",
   "pygments_lexer": "r",
   "version": "4.1.0"
  }
 },
 "nbformat": 4,
 "nbformat_minor": 5
}
