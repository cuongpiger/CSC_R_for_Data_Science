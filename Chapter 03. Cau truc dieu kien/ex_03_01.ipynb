{
 "cells": [
  {
   "cell_type": "markdown",
   "id": "6a7660b7-bbdf-4f60-98ed-bea7a9444fe5",
   "metadata": {},
   "source": [
    "![](images/03_02.png)"
   ]
  },
  {
   "cell_type": "code",
   "execution_count": 5,
   "id": "c09d46d7-ed2c-4478-8fa9-fdb684a5f3a9",
   "metadata": {},
   "outputs": [
    {
     "name": "stdin",
     "output_type": "stream",
     "text": [
      "Enter a number: 20.0\n"
     ]
    },
    {
     "data": {
      "text/html": [
       "'20.000000 is an even number.'"
      ],
      "text/latex": [
       "'20.000000 is an even number.'"
      ],
      "text/markdown": [
       "'20.000000 is an even number.'"
      ],
      "text/plain": [
       "[1] \"20.000000 is an even number.\""
      ]
     },
     "metadata": {},
     "output_type": "display_data"
    }
   ],
   "source": [
    "number = as.numeric(readline(prompt=\"Enter a number:\"))\n",
    "\n",
    "if (number %% 2) {\n",
    "    sprintf(\"%f is an odd number.\", number)\n",
    "} else {\n",
    "    sprintf(\"%f is an even number.\", number)\n",
    "}"
   ]
  },
  {
   "cell_type": "code",
   "execution_count": null,
   "id": "bfe5923a-d77b-45a4-89a5-4e26882e882d",
   "metadata": {},
   "outputs": [],
   "source": []
  }
 ],
 "metadata": {
  "kernelspec": {
   "display_name": "R",
   "language": "R",
   "name": "ir"
  },
  "language_info": {
   "codemirror_mode": "r",
   "file_extension": ".r",
   "mimetype": "text/x-r-source",
   "name": "R",
   "pygments_lexer": "r",
   "version": "4.1.0"
  }
 },
 "nbformat": 4,
 "nbformat_minor": 5
}
