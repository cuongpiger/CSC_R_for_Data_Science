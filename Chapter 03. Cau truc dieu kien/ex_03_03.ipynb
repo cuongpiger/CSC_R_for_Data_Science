{
 "cells": [
  {
   "cell_type": "markdown",
   "id": "332e34a2-ae8f-4110-af05-9abc65965f8e",
   "metadata": {},
   "source": [
    "![](images/03_00.jpg)<br>\n",
    "![](images/03_01.jpg)"
   ]
  },
  {
   "cell_type": "code",
   "execution_count": 9,
   "id": "8b90f403-dac2-4e90-a163-09bb08cc3e10",
   "metadata": {},
   "outputs": [
    {
     "name": "stdin",
     "output_type": "stream",
     "text": [
      "Enter room's type: 3\n",
      "Enter amount of stayed days: 5\n"
     ]
    },
    {
     "name": "stdout",
     "output_type": "stream",
     "text": [
      "[1] \"Renting cost: 3825000\"\n"
     ]
    }
   ],
   "source": [
    "room_type = as.integer(readline(prompt=\"Enter room's type:\"))\n",
    "stay_days = as.integer(readline(prompt=\"Enter amount of stayed days:\"))\n",
    "\n",
    "room_cost = switch(room_type, 10^6, 900000, 850000, 700000, 550000, 0)\n",
    "discount = 0\n",
    "if (stay_days < 3) {\n",
    "    discount = 1\n",
    "} else if (stay_days <= 6) {\n",
    "    discount = 0.9\n",
    "} else {\n",
    "    discount = 0.8\n",
    "}\n",
    "\n",
    "total_cost = room_cost * discount * stay_days\n",
    "\n",
    "if (total_cost) {\n",
    "    print(paste(\"Renting cost:\", total_cost))\n",
    "} else {\n",
    "    print(\"Occur error!\")\n",
    "}"
   ]
  },
  {
   "cell_type": "code",
   "execution_count": null,
   "id": "875bcada-a830-4b09-952d-bf4d480cdcae",
   "metadata": {},
   "outputs": [],
   "source": []
  }
 ],
 "metadata": {
  "kernelspec": {
   "display_name": "R",
   "language": "R",
   "name": "ir"
  },
  "language_info": {
   "codemirror_mode": "r",
   "file_extension": ".r",
   "mimetype": "text/x-r-source",
   "name": "R",
   "pygments_lexer": "r",
   "version": "4.1.0"
  }
 },
 "nbformat": 4,
 "nbformat_minor": 5
}
