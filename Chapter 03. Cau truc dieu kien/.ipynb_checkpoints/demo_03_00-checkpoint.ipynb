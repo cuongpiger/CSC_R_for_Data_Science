{
 "cells": [
  {
   "cell_type": "markdown",
   "id": "05461407-a532-4faf-ab20-cda65c34d62a",
   "metadata": {},
   "source": [
    "# 1. `if`\n",
    "## 1.1. `if`"
   ]
  },
  {
   "cell_type": "code",
   "execution_count": 1,
   "id": "2ddaec71-de1a-44e0-bc13-49f255680cf2",
   "metadata": {},
   "outputs": [
    {
     "name": "stdin",
     "output_type": "stream",
     "text": [
      "Input mark: 10\n"
     ]
    },
    {
     "name": "stdout",
     "output_type": "stream",
     "text": [
      "[1] \"pass\"\n"
     ]
    }
   ],
   "source": [
    "mark = readline(prompt=\"Input mark:\")\n",
    "mark = as.numeric(mark)\n",
    "\n",
    "if (mark >= 5) {\n",
    "    print('pass')\n",
    "}"
   ]
  },
  {
   "cell_type": "markdown",
   "id": "c39a75e8-cbcb-4c70-a808-d80e3211e7e8",
   "metadata": {},
   "source": [
    "## 1.2. `if ... else`"
   ]
  },
  {
   "cell_type": "code",
   "execution_count": 2,
   "id": "fe8d5cce-50d2-4f81-b580-87acf06e7b57",
   "metadata": {},
   "outputs": [
    {
     "name": "stdin",
     "output_type": "stream",
     "text": [
      "Input mark: 3\n"
     ]
    },
    {
     "name": "stdout",
     "output_type": "stream",
     "text": [
      "[1] \"fail\"\n"
     ]
    }
   ],
   "source": [
    "mark = readline(prompt=\"Input mark:\")\n",
    "mark = as.numeric(mark)\n",
    "\n",
    "if (mark >= 5) {\n",
    "    print('pass')\n",
    "} else {\n",
    "    print('fail')\n",
    "}"
   ]
  },
  {
   "cell_type": "markdown",
   "id": "f0ac3230-4bc0-4d65-b96e-9fd876c32ac2",
   "metadata": {},
   "source": [
    "## 1.3. `if ... else if ... else`"
   ]
  },
  {
   "cell_type": "code",
   "execution_count": 3,
   "id": "7a1da0fc-3578-44ca-b71a-6f36f0f19ca5",
   "metadata": {},
   "outputs": [
    {
     "name": "stdin",
     "output_type": "stream",
     "text": [
      "Input mark: 9\n"
     ]
    },
    {
     "name": "stdout",
     "output_type": "stream",
     "text": [
      "[1] \"excellent\"\n"
     ]
    }
   ],
   "source": [
    "mark = readline(prompt=\"Input mark:\")\n",
    "mark = as.numeric(mark)\n",
    "\n",
    "if (mark < 5) {\n",
    "    print('weak')\n",
    "} else if (mark < 7) {\n",
    "    print('average')\n",
    "} else if (mark < 8) {\n",
    "    print('good')\n",
    "} else if (mark < 9) {\n",
    "    print('very good')\n",
    "} else {\n",
    "    print('excellent')\n",
    "}"
   ]
  },
  {
   "cell_type": "markdown",
   "id": "9bda9749-e612-4ddc-b495-8add49d3517e",
   "metadata": {},
   "source": [
    "# 2. `switch`\n",
    "## 2.1. Trường hợp 1"
   ]
  },
  {
   "cell_type": "code",
   "execution_count": 4,
   "id": "a206fb8b-afc2-41b9-83d0-727c0747eefe",
   "metadata": {},
   "outputs": [
    {
     "name": "stdout",
     "output_type": "stream",
     "text": [
      "[1] \"cat\"\n"
     ]
    }
   ],
   "source": [
    "x = switch(2, 'dog', 'cat', 'goat')\n",
    "\n",
    "print(x)"
   ]
  },
  {
   "cell_type": "code",
   "execution_count": 5,
   "id": "41a6f4bd-5042-4e1a-bc50-d3a1ad46875c",
   "metadata": {},
   "outputs": [
    {
     "name": "stdout",
     "output_type": "stream",
     "text": [
      "NULL\n"
     ]
    }
   ],
   "source": [
    "x = switch(4, 'dog', 'cat', 'goat')\n",
    "\n",
    "print(x)"
   ]
  },
  {
   "cell_type": "markdown",
   "id": "7729c3d4-f9be-4298-8c27-cbdfc72c39ec",
   "metadata": {},
   "source": [
    "## 2.2. Trường hợp 2"
   ]
  },
  {
   "cell_type": "code",
   "execution_count": 6,
   "id": "64d2de17-95d5-4377-b0d4-64cc1372fad5",
   "metadata": {},
   "outputs": [
    {
     "name": "stdout",
     "output_type": "stream",
     "text": [
      "[1] \"black\"\n"
     ]
    }
   ],
   "source": [
    "y = switch('color', 'color'='black', 'shape'='straight', 'length'=20)\n",
    "\n",
    "print(y)"
   ]
  },
  {
   "cell_type": "code",
   "execution_count": 7,
   "id": "a69fcf06-5381-423e-bcd3-e7da16726f2d",
   "metadata": {},
   "outputs": [
    {
     "name": "stdout",
     "output_type": "stream",
     "text": [
      "NULL\n"
     ]
    }
   ],
   "source": [
    "y = switch('from', 'color'='black', 'shape'='straight', 'length'=20)\n",
    "\n",
    "print(y)"
   ]
  },
  {
   "cell_type": "code",
   "execution_count": 8,
   "id": "d6834257-07e6-404e-b23f-263c98f9eec8",
   "metadata": {},
   "outputs": [
    {
     "name": "stdin",
     "output_type": "stream",
     "text": [
      "Input number 1: 10\n",
      "Input number 2: 5\n",
      "Input one arithmetic operator: %\n"
     ]
    },
    {
     "name": "stdout",
     "output_type": "stream",
     "text": [
      "[1] \"Nothing\"\n"
     ]
    }
   ],
   "source": [
    "number1 = as.integer(readline(prompt=\"Input number 1:\"))\n",
    "number2 = as.integer(readline(prompt=\"Input number 2:\"))\n",
    "operator = readline(prompt=\"Input one arithmetic operator:\")\n",
    "\n",
    "switch(operator,\n",
    "      '+'=print(paste(\"sum:\", number1 + number2)),\n",
    "      '-'=print(paste(\"sub:\", number1 - number2)),\n",
    "      '*'=print(paste(\"mul:\", number1 * number2)),\n",
    "      '/'=print(paste(\"div:\", number1 / number2)),\n",
    "      print(\"Nothing\"))"
   ]
  },
  {
   "cell_type": "code",
   "execution_count": 10,
   "id": "9e169ccf-51b6-4d34-81b9-36c5160532f0",
   "metadata": {},
   "outputs": [
    {
     "name": "stdin",
     "output_type": "stream",
     "text": [
      "Input number 1: 6\n",
      "Input number 2: 9\n",
      "Input one arithmetic operator: +\n"
     ]
    },
    {
     "name": "stdout",
     "output_type": "stream",
     "text": [
      "[1] \"sum: 15\"\n"
     ]
    }
   ],
   "source": [
    "number1 = as.integer(readline(prompt=\"Input number 1:\"))\n",
    "number2 = as.integer(readline(prompt=\"Input number 2:\"))\n",
    "operator = readline(prompt=\"Input one arithmetic operator:\")\n",
    "\n",
    "switch(operator,\n",
    "      '+'=print(paste(\"sum:\", number1 + number2)),\n",
    "      '-'=print(paste(\"sub:\", number1 - number2)),\n",
    "      '*'=print(paste(\"mul:\", number1 * number2)),\n",
    "      '/'=print(paste(\"div:\", number1 / number2)),\n",
    "      print(\"Nothing\"))"
   ]
  },
  {
   "cell_type": "code",
   "execution_count": null,
   "id": "49fbc767-0a97-4b04-b4c6-7eb864204297",
   "metadata": {},
   "outputs": [],
   "source": []
  }
 ],
 "metadata": {
  "kernelspec": {
   "display_name": "R",
   "language": "R",
   "name": "ir"
  },
  "language_info": {
   "codemirror_mode": "r",
   "file_extension": ".r",
   "mimetype": "text/x-r-source",
   "name": "R",
   "pygments_lexer": "r",
   "version": "4.1.0"
  }
 },
 "nbformat": 4,
 "nbformat_minor": 5
}
