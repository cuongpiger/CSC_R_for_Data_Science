{
 "cells": [
  {
   "cell_type": "markdown",
   "id": "7bde3678-fc04-4c57-bd28-54dbeb593d93",
   "metadata": {},
   "source": [
    "![](images/03_05.png)<br>\n",
    "![](images/03_06.png)"
   ]
  },
  {
   "cell_type": "code",
   "execution_count": 1,
   "id": "e40007b2-0144-4e28-bbf2-a0f176be6d7f",
   "metadata": {},
   "outputs": [
    {
     "name": "stdin",
     "output_type": "stream",
     "text": [
      "Nhập dịch vụ 1: GO-BIKE, 2: GO-SEND: 1\n",
      "Số km: 5\n"
     ]
    },
    {
     "data": {
      "text/html": [
       "'Tổng tiền: 30800.000000'"
      ],
      "text/latex": [
       "'Tổng tiền: 30800.000000'"
      ],
      "text/markdown": [
       "'Tổng tiền: 30800.000000'"
      ],
      "text/plain": [
       "[1] \"Tổng tiền: 30800.000000\""
      ]
     },
     "metadata": {},
     "output_type": "display_data"
    }
   ],
   "source": [
    "service = as.integer(readline(\"Nhập dịch vụ 1: GO-BIKE, 2: GO-SEND:\"))\n",
    "km = as.numeric(readline(\"Số km:\"))\n",
    "cost_a = 0\n",
    "cost_b = 0\n",
    "cost = 0\n",
    "\n",
    "if (service == 1) {\n",
    "    cost_a = 10000\n",
    "    cost_b = 3600\n",
    "} else {\n",
    "    cost_a = 15000\n",
    "    cost_b = 4000\n",
    "}\n",
    "\n",
    "if (km <= 2) {\n",
    "    cost = cost_a * km\n",
    "} else {\n",
    "    cost = cost_a * 2 + (km - 2) * cost_b\n",
    "}\n",
    "\n",
    "sprintf(\"Tổng tiền: %f\", cost)"
   ]
  },
  {
   "cell_type": "code",
   "execution_count": null,
   "id": "c34cf9eb-2ee1-4316-b6a5-2cd7a68fe519",
   "metadata": {},
   "outputs": [],
   "source": []
  }
 ],
 "metadata": {
  "kernelspec": {
   "display_name": "R",
   "language": "R",
   "name": "ir"
  },
  "language_info": {
   "codemirror_mode": "r",
   "file_extension": ".r",
   "mimetype": "text/x-r-source",
   "name": "R",
   "pygments_lexer": "r",
   "version": "4.1.0"
  }
 },
 "nbformat": 4,
 "nbformat_minor": 5
}
