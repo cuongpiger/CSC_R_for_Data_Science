{
 "cells": [
  {
   "cell_type": "markdown",
   "id": "cadbf5e0-cbb8-4512-9aaf-898a5acb67d3",
   "metadata": {},
   "source": [
    "![](images/03_03.png)"
   ]
  },
  {
   "cell_type": "code",
   "execution_count": 1,
   "id": "3d7cfccb-e9fb-4e34-bcc6-a0d46aaa676a",
   "metadata": {},
   "outputs": [
    {
     "name": "stdin",
     "output_type": "stream",
     "text": [
      "Enter amount of kWh: 117\n"
     ]
    },
    {
     "data": {
      "text/html": [
       "'Cost of electricity: 235.638000'"
      ],
      "text/latex": [
       "'Cost of electricity: 235.638000'"
      ],
      "text/markdown": [
       "'Cost of electricity: 235.638000'"
      ],
      "text/plain": [
       "[1] \"Cost of electricity: 235.638000\""
      ]
     },
     "metadata": {},
     "output_type": "display_data"
    }
   ],
   "source": [
    "kwh = as.numeric(readline(prompt=\"Enter amount of kWh:\"))\n",
    "cost = 0\n",
    "\n",
    "if (kwh <= 50) {\n",
    "    cost = kwh * 1.678\n",
    "} else if (kwh <= 100) {\n",
    "    cost = kwh * 1.734\n",
    "} else if (kwh <= 200) {\n",
    "    cost = kwh * 2.014\n",
    "} else if (kwh <= 300) {\n",
    "    cost = kwh * 2.536\n",
    "} else if (kwh <= 400) {\n",
    "    cost = kwh * 2.834\n",
    "} else {\n",
    "    cost = kwh * 2.927\n",
    "}\n",
    "\n",
    "sprintf(\"Cost of electricity: %f\", cost)"
   ]
  },
  {
   "cell_type": "code",
   "execution_count": null,
   "id": "ef404f45-1a27-4f56-b12a-8a76774df0d7",
   "metadata": {},
   "outputs": [],
   "source": []
  }
 ],
 "metadata": {
  "kernelspec": {
   "display_name": "R",
   "language": "R",
   "name": "ir"
  },
  "language_info": {
   "codemirror_mode": "r",
   "file_extension": ".r",
   "mimetype": "text/x-r-source",
   "name": "R",
   "pygments_lexer": "r",
   "version": "4.1.0"
  }
 },
 "nbformat": 4,
 "nbformat_minor": 5
}
