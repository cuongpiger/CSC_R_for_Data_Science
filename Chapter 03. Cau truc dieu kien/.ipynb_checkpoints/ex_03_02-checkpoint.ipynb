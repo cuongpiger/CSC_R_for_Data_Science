{
 "cells": [
  {
   "cell_type": "markdown",
   "id": "cadbf5e0-cbb8-4512-9aaf-898a5acb67d3",
   "metadata": {},
   "source": [
    "![](images/03_03.png)"
   ]
  },
  {
   "cell_type": "code",
   "execution_count": 9,
   "id": "debcbb0f-304a-4419-95a3-f21da92ab06f",
   "metadata": {},
   "outputs": [
    {
     "name": "stdin",
     "output_type": "stream",
     "text": [
      "Nhập vào kWh: 201\n"
     ]
    },
    {
     "data": {
      "text/html": [
       "'Tiền điện là: 360.014000'"
      ],
      "text/latex": [
       "'Tiền điện là: 360.014000'"
      ],
      "text/markdown": [
       "'Tiền điện là: 360.014000'"
      ],
      "text/plain": [
       "[1] \"Tiền điện là: 360.014000\""
      ]
     },
     "metadata": {},
     "output_type": "display_data"
    }
   ],
   "source": [
    "kwh = as.numeric(readline(prompt=\"Nhập vào kWh:\"))\n",
    "cost = 0\n",
    "\n",
    "levels = c(50, 100, 200, 300, 400)\n",
    "prices = c(1.678, 1.734, 2.014, 2.536, 2.834, 2.927)\n",
    "\n",
    "for (i in 1:length(tmp1)) {\n",
    "    tmp = 0\n",
    "    \n",
    "    if (kwh < levels[[i]]) {\n",
    "        tmp = kwh * prices[[i]]\n",
    "        cost = cost + tmp\n",
    "        \n",
    "        break\n",
    "    } else {\n",
    "        tmp = levels[[i]] * prices[[i]]\n",
    "        kwh = kwh - levels[[i]]\n",
    "        \n",
    "        cost = cost + tmp\n",
    "    }\n",
    "}\n",
    "\n",
    "\n",
    "sprintf(\"Tiền điện là: %f\", cost)"
   ]
  }
 ],
 "metadata": {
  "kernelspec": {
   "display_name": "R",
   "language": "R",
   "name": "ir"
  },
  "language_info": {
   "codemirror_mode": "r",
   "file_extension": ".r",
   "mimetype": "text/x-r-source",
   "name": "R",
   "pygments_lexer": "r",
   "version": "4.1.0"
  }
 },
 "nbformat": 4,
 "nbformat_minor": 5
}
