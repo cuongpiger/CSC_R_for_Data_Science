{
 "cells": [
  {
   "cell_type": "markdown",
   "id": "b6314a33-8cd5-4713-9bd4-07dc197c580f",
   "metadata": {},
   "source": [
    "![](images/03_04.png)"
   ]
  },
  {
   "cell_type": "code",
   "execution_count": 8,
   "id": "9650feb3-d89d-4b47-9df3-1a134877b08e",
   "metadata": {},
   "outputs": [
    {
     "name": "stdin",
     "output_type": "stream",
     "text": [
      "Người A: 1: Kéo, 2: Búa, 3: Bao 3\n",
      "Người B: 1: Kéo, 2: Búa, 3: Bao 1\n"
     ]
    },
    {
     "name": "stdout",
     "output_type": "stream",
     "text": [
      "[1] \"B thắng\"\n"
     ]
    }
   ],
   "source": [
    "per1 = as.integer(readline(prompt=\"Người A: 1: Kéo, 2: Búa, 3: Bao\"))\n",
    "per2 = as.integer(readline(prompt=\"Người B: 1: Kéo, 2: Búa, 3: Bao\"))\n",
    "\n",
    "if (abs(per1 - per2) == 1) {\n",
    "    winner = if (per1 > per2) \"A thắng\" else \"B thắng\"\n",
    "    print(winner)\n",
    "} else if (abs(per1 - per2) == 0) {\n",
    "    print(\"Hòa\")\n",
    "} else {\n",
    "    winner = if (per1 > per2) \"B thắng\" else \"A thắng\"\n",
    "    print(winner)\n",
    "}"
   ]
  },
  {
   "cell_type": "code",
   "execution_count": null,
   "id": "b494658b-3374-4abf-8216-c4ae633822b2",
   "metadata": {},
   "outputs": [],
   "source": []
  }
 ],
 "metadata": {
  "kernelspec": {
   "display_name": "R",
   "language": "R",
   "name": "ir"
  },
  "language_info": {
   "codemirror_mode": "r",
   "file_extension": ".r",
   "mimetype": "text/x-r-source",
   "name": "R",
   "pygments_lexer": "r",
   "version": "4.1.0"
  }
 },
 "nbformat": 4,
 "nbformat_minor": 5
}
