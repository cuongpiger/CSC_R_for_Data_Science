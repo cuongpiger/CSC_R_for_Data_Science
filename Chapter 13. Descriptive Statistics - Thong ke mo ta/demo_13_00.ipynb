{
 "cells": [
  {
   "cell_type": "markdown",
   "id": "7ed0406e-26a8-4fe4-8221-b946b9409539",
   "metadata": {},
   "source": [
    "# 1. Centrality measures\n",
    "## 1.1. Mean\n",
    "$$\\mu = \\dfrac{1}{n}\\sum_{i} {x_i}$$"
   ]
  },
  {
   "cell_type": "code",
   "execution_count": 1,
   "id": "92fdb9f7-171e-4072-90c6-fd820eaef6a9",
   "metadata": {},
   "outputs": [
    {
     "data": {
      "text/html": [
       "17.5714285714286"
      ],
      "text/latex": [
       "17.5714285714286"
      ],
      "text/markdown": [
       "17.5714285714286"
      ],
      "text/plain": [
       "[1] 17.57143"
      ]
     },
     "metadata": {},
     "output_type": "display_data"
    }
   ],
   "source": [
    "age = c(15, 16, 15, 15, 16, 25, 19, 18, 15, 24, 17, 18, 18, 15)\n",
    "mean(age)"
   ]
  },
  {
   "cell_type": "markdown",
   "id": "83d0bd7f-0d0e-4501-9ed8-4b54719dde2a",
   "metadata": {},
   "source": [
    "## 1.2. Median"
   ]
  },
  {
   "cell_type": "code",
   "execution_count": 2,
   "id": "03dd536d-f4ff-487e-81b4-db59ed3e2dc1",
   "metadata": {},
   "outputs": [
    {
     "data": {
      "text/html": [
       "16.5"
      ],
      "text/latex": [
       "16.5"
      ],
      "text/markdown": [
       "16.5"
      ],
      "text/plain": [
       "[1] 16.5"
      ]
     },
     "metadata": {},
     "output_type": "display_data"
    }
   ],
   "source": [
    "age = c(15, 16, 15, 15, 16, 25, 19, 18, 15, 24, 17, 18, 18, 15)\n",
    "median(age)"
   ]
  },
  {
   "cell_type": "markdown",
   "id": "503e12ad-d466-4d9e-98ee-b2d9c4d583a9",
   "metadata": {},
   "source": [
    "## 1.3. Mode"
   ]
  },
  {
   "cell_type": "code",
   "execution_count": 3,
   "id": "f5383cc0-9fcc-483b-95fc-3294321fd9ce",
   "metadata": {},
   "outputs": [],
   "source": [
    "getMode = function(values) {\n",
    "    uniqv = unique(values)\n",
    "    return (uniqv[which.max(tabulate(match(values, uniqv)))])\n",
    "}"
   ]
  },
  {
   "cell_type": "code",
   "execution_count": 6,
   "id": "aba462ef-f815-40a6-8542-7b2aa1b65ecf",
   "metadata": {},
   "outputs": [
    {
     "data": {
      "text/html": [
       "15"
      ],
      "text/latex": [
       "15"
      ],
      "text/markdown": [
       "15"
      ],
      "text/plain": [
       "[1] 15"
      ]
     },
     "metadata": {},
     "output_type": "display_data"
    }
   ],
   "source": [
    "age = c(15, 16, 15, 15, 16, 25, 19, 18, 15, 24, 17, 18, 18, 15)\n",
    "\n",
    "getMode(age)"
   ]
  },
  {
   "cell_type": "markdown",
   "id": "890a26c6-f715-4726-89fc-d65209f0e1cf",
   "metadata": {},
   "source": [
    "# 2. Measures of dispersion\n",
    "## 2.1. Range"
   ]
  },
  {
   "cell_type": "code",
   "execution_count": 8,
   "id": "5bde0429-074a-4a2b-b689-0e441e34251c",
   "metadata": {},
   "outputs": [],
   "source": [
    "a = c(7, 9.5, 10, 11, 14, 15, 19)\n",
    "\n",
    "ptp = range(a)"
   ]
  },
  {
   "cell_type": "code",
   "execution_count": 9,
   "id": "99e741ed-0aa3-43f0-b122-b8420092f2ed",
   "metadata": {},
   "outputs": [
    {
     "data": {
      "text/html": [
       "<style>\n",
       ".list-inline {list-style: none; margin:0; padding: 0}\n",
       ".list-inline>li {display: inline-block}\n",
       ".list-inline>li:not(:last-child)::after {content: \"\\00b7\"; padding: 0 .5ex}\n",
       "</style>\n",
       "<ol class=list-inline><li>7</li><li>19</li></ol>\n"
      ],
      "text/latex": [
       "\\begin{enumerate*}\n",
       "\\item 7\n",
       "\\item 19\n",
       "\\end{enumerate*}\n"
      ],
      "text/markdown": [
       "1. 7\n",
       "2. 19\n",
       "\n",
       "\n"
      ],
      "text/plain": [
       "[1]  7 19"
      ]
     },
     "metadata": {},
     "output_type": "display_data"
    }
   ],
   "source": [
    "ptp"
   ]
  },
  {
   "cell_type": "code",
   "execution_count": 10,
   "id": "dd09ac9a-c052-45e4-8ecd-bcbdb56f57d0",
   "metadata": {},
   "outputs": [
    {
     "data": {
      "text/html": [
       "12"
      ],
      "text/latex": [
       "12"
      ],
      "text/markdown": [
       "12"
      ],
      "text/plain": [
       "[1] 12"
      ]
     },
     "metadata": {},
     "output_type": "display_data"
    }
   ],
   "source": [
    "ptp[2] - ptp[1]"
   ]
  },
  {
   "cell_type": "markdown",
   "id": "87fba2f6-1a3c-416c-a629-11f9f790264d",
   "metadata": {},
   "source": [
    "# 3. Percentile, IQR\n",
    "## 3.1. Percentile"
   ]
  },
  {
   "cell_type": "code",
   "execution_count": 14,
   "id": "6ead21ca-6d6e-4822-ad58-c645b491a23c",
   "metadata": {},
   "outputs": [
    {
     "name": "stdout",
     "output_type": "stream",
     "text": [
      "  35%   50%   98% \n",
      "15.55 16.50 24.74 \n"
     ]
    }
   ],
   "source": [
    "age = c(15, 16, 15, 15, 16, 25, 19, 18, 15, 24, 17, 18, 18, 15)\n",
    "\n",
    "print(quantile(age, c(0.35, 0.5, 0.98)))"
   ]
  },
  {
   "cell_type": "markdown",
   "id": "26fa3003-e71d-43e2-9930-0b85041493db",
   "metadata": {},
   "source": [
    "## 3.2. Quartile - IQR"
   ]
  },
  {
   "cell_type": "code",
   "execution_count": 13,
   "id": "280d2db8-2d52-4234-bddb-f9fca669d97f",
   "metadata": {},
   "outputs": [
    {
     "name": "stdout",
     "output_type": "stream",
     "text": [
      "  0%  25%  50%  75% 100% \n",
      "15.0 15.0 16.5 18.0 25.0 \n"
     ]
    }
   ],
   "source": [
    "age = c(15, 16, 15, 15, 16, 25, 19, 18, 15, 24, 17, 18, 18, 15)\n",
    "\n",
    "print(quantile(age))"
   ]
  },
  {
   "cell_type": "markdown",
   "id": "7d4a55e7-72f9-419c-9367-80022dc11786",
   "metadata": {},
   "source": [
    "# 4. Variance, Standard Deviation, Skewness, Kurtosis\n",
    "## 4.1. Variance\n",
    "\n",
    "$$Var(X) = \\dfrac{1}{n}\\sum_{i = 1}^n (x_i - \\bar{x})^2$$"
   ]
  },
  {
   "cell_type": "code",
   "execution_count": 15,
   "id": "cc746a71-869c-4351-a19b-a21e132f058d",
   "metadata": {},
   "outputs": [
    {
     "data": {
      "text/html": [
       "10.5714285714286"
      ],
      "text/latex": [
       "10.5714285714286"
      ],
      "text/markdown": [
       "10.5714285714286"
      ],
      "text/plain": [
       "[1] 10.57143"
      ]
     },
     "metadata": {},
     "output_type": "display_data"
    }
   ],
   "source": [
    "age = c(15, 16, 15, 15, 16, 25, 19, 18, 15, 24, 17, 18, 18, 15)\n",
    "\n",
    "var(age)"
   ]
  },
  {
   "cell_type": "markdown",
   "id": "79f73e59-680b-4cb9-b8e9-36fdb9cb70db",
   "metadata": {},
   "source": [
    "## 4.2. Standard Deviation\n",
    "$$\\sigma = \\sqrt{\\dfrac{\\sum (x - \\bar{x})^2}{n}}$$"
   ]
  },
  {
   "cell_type": "code",
   "execution_count": 16,
   "id": "f48972f4-06f9-405c-8d90-b64d263dc070",
   "metadata": {},
   "outputs": [
    {
     "data": {
      "text/html": [
       "3.25137333621173"
      ],
      "text/latex": [
       "3.25137333621173"
      ],
      "text/markdown": [
       "3.25137333621173"
      ],
      "text/plain": [
       "[1] 3.251373"
      ]
     },
     "metadata": {},
     "output_type": "display_data"
    }
   ],
   "source": [
    "age = c(15, 16, 15, 15, 16, 25, 19, 18, 15, 24, 17, 18, 18, 15)\n",
    "\n",
    "sd(age)"
   ]
  },
  {
   "cell_type": "markdown",
   "id": "75b1d67b-7c98-499d-85b9-73b6da012952",
   "metadata": {},
   "source": [
    "## 4.3. Skewness\n",
    "$$skew = \\dfrac{1}{n} \\dfrac{\\sum_{i = 1}^n (X_i - \\bar{X})^3}{\\sigma^3}$$"
   ]
  },
  {
   "cell_type": "code",
   "execution_count": 25,
   "id": "25afe928-1384-47b3-bbe3-1c2b29cd8de1",
   "metadata": {},
   "outputs": [
    {
     "name": "stderr",
     "output_type": "stream",
     "text": [
      "Installing package into ‘/home/manhcuong/R/x86_64-pc-linux-gnu-library/4.1’\n",
      "(as ‘lib’ is unspecified)\n",
      "\n"
     ]
    }
   ],
   "source": [
    "install.packages('moments')\n",
    "library(moments)"
   ]
  },
  {
   "cell_type": "code",
   "execution_count": 29,
   "id": "25b2f3a5-87a8-4952-bda6-1940fa647fc1",
   "metadata": {},
   "outputs": [
    {
     "data": {
      "text/html": [
       "1.36048829961259"
      ],
      "text/latex": [
       "1.36048829961259"
      ],
      "text/markdown": [
       "1.36048829961259"
      ],
      "text/plain": [
       "[1] 1.360488"
      ]
     },
     "metadata": {},
     "output_type": "display_data"
    }
   ],
   "source": [
    "age = c(15, 16, 15, 15, 16, 25, 19, 18, 15, 24, 17, 18, 18, 15)\n",
    "\n",
    "skewness(age)"
   ]
  },
  {
   "cell_type": "markdown",
   "id": "5f121e58-c8d5-4bde-9b4e-2d14ade9a889",
   "metadata": {},
   "source": [
    "## 4.4. Kurtosis\n",
    "$$kurtosis = \\dfrac{1}{n}\\dfrac{\\sum_{i = 1}^{n} (X_i - \\bar{X})^4}{\\sigma^4}$$"
   ]
  },
  {
   "cell_type": "code",
   "execution_count": 30,
   "id": "cccfcb84-e7d5-496b-a024-9e5b062b0338",
   "metadata": {},
   "outputs": [
    {
     "data": {
      "text/html": [
       "3.69765431511793"
      ],
      "text/latex": [
       "3.69765431511793"
      ],
      "text/markdown": [
       "3.69765431511793"
      ],
      "text/plain": [
       "[1] 3.697654"
      ]
     },
     "metadata": {},
     "output_type": "display_data"
    }
   ],
   "source": [
    "age = c(15, 16, 15, 15, 16, 25, 19, 18, 15, 24, 17, 18, 18, 15)\n",
    "\n",
    "kurtosis(age)"
   ]
  },
  {
   "cell_type": "markdown",
   "id": "439611da-7afb-4113-a13b-4b7e8afc110f",
   "metadata": {},
   "source": [
    "# 5. Covariance, Correlation\n",
    "## 5.1. Covariance\n",
    "$$cov(X, Y) = \\dfrac{1}{n}\\sum_{i = 1}^n (X - \\bar{X}) (Y - \\bar{Y})$$"
   ]
  },
  {
   "cell_type": "code",
   "execution_count": 31,
   "id": "09962521-9eb8-4da0-b3e2-09b138da1357",
   "metadata": {},
   "outputs": [
    {
     "data": {
      "text/html": [
       "135894.071428571"
      ],
      "text/latex": [
       "135894.071428571"
      ],
      "text/markdown": [
       "135894.071428571"
      ],
      "text/plain": [
       "[1] 135894.1"
      ]
     },
     "metadata": {},
     "output_type": "display_data"
    }
   ],
   "source": [
    "years = c(7, 28, 23, 18, 19, 15, 24, 13, 2, 8, 20, 21, 18, 7, 2)\n",
    "salary = c(26075, 79370, 65726, 41983, 62308, 41154, 53610, 33697,\n",
    "           22444, 32562, 43076, 56000, 58667, 22210, 20521)\n",
    "\n",
    "cov(years, salary)"
   ]
  },
  {
   "cell_type": "markdown",
   "id": "523aac4e-49e0-42fe-8760-316bbd97221f",
   "metadata": {},
   "source": [
    "## 5.2. Correlation\n",
    "$$corr = \\dfrac{1}{n - 1} \\sum \\left(\\dfrac{X - \\bar{X}}{\\sigma_X} \\right) \\left(\\dfrac{Y - \\bar{Y}}{\\sigma_Y} \\right)$$"
   ]
  },
  {
   "cell_type": "code",
   "execution_count": 32,
   "id": "69ca6a45-3c1b-4239-874f-4c4bf09971ca",
   "metadata": {},
   "outputs": [
    {
     "data": {
      "text/html": [
       "0.923665165962887"
      ],
      "text/latex": [
       "0.923665165962887"
      ],
      "text/markdown": [
       "0.923665165962887"
      ],
      "text/plain": [
       "[1] 0.9236652"
      ]
     },
     "metadata": {},
     "output_type": "display_data"
    }
   ],
   "source": [
    "years = c(7, 28, 23, 18, 19, 15, 24, 13, 2, 8, 20, 21, 18, 7, 2)\n",
    "salary = c(26075, 79370, 65726, 41983, 62308, 41154, 53610, 33697,\n",
    "           22444, 32562, 43076, 56000, 58667, 22210, 20521)\n",
    "\n",
    "cor(years, salary)"
   ]
  },
  {
   "cell_type": "code",
   "execution_count": null,
   "id": "0188ee32-0137-4c3b-b591-abd9d7eeeb59",
   "metadata": {},
   "outputs": [],
   "source": []
  },
  {
   "cell_type": "code",
   "execution_count": null,
   "id": "aaae9d1a-db49-4aa9-97cb-2c2b69d86c09",
   "metadata": {},
   "outputs": [],
   "source": []
  }
 ],
 "metadata": {
  "kernelspec": {
   "display_name": "R",
   "language": "R",
   "name": "ir"
  },
  "language_info": {
   "codemirror_mode": "r",
   "file_extension": ".r",
   "mimetype": "text/x-r-source",
   "name": "R",
   "pygments_lexer": "r",
   "version": "4.1.0"
  }
 },
 "nbformat": 4,
 "nbformat_minor": 5
}
