{
 "cells": [
  {
   "cell_type": "markdown",
   "id": "19ac197c-bd39-4f96-8870-8ff7be9108ba",
   "metadata": {},
   "source": [
    "![](images/13_01.png)"
   ]
  },
  {
   "cell_type": "code",
   "execution_count": 1,
   "id": "feeb5574-bb08-4796-94fc-d67bfc2abafd",
   "metadata": {},
   "outputs": [
    {
     "name": "stderr",
     "output_type": "stream",
     "text": [
      "── \u001b[1mAttaching packages\u001b[22m ─────────────────────────────────────── tidyverse 1.3.1 ──\n",
      "\n",
      "\u001b[32m✔\u001b[39m \u001b[34mtibble \u001b[39m 3.1.2     \u001b[32m✔\u001b[39m \u001b[34mdplyr  \u001b[39m 1.0.7\n",
      "\u001b[32m✔\u001b[39m \u001b[34mtidyr  \u001b[39m 1.1.3     \u001b[32m✔\u001b[39m \u001b[34mstringr\u001b[39m 1.4.0\n",
      "\u001b[32m✔\u001b[39m \u001b[34mreadr  \u001b[39m 1.4.0     \u001b[32m✔\u001b[39m \u001b[34mforcats\u001b[39m 0.5.1\n",
      "\u001b[32m✔\u001b[39m \u001b[34mpurrr  \u001b[39m 0.3.4     \n",
      "\n",
      "── \u001b[1mConflicts\u001b[22m ────────────────────────────────────────── tidyverse_conflicts() ──\n",
      "\u001b[31m✖\u001b[39m \u001b[34mdplyr\u001b[39m::\u001b[32mcombine()\u001b[39m masks \u001b[34mgridExtra\u001b[39m::combine()\n",
      "\u001b[31m✖\u001b[39m \u001b[34mdplyr\u001b[39m::\u001b[32mfilter()\u001b[39m  masks \u001b[34mstats\u001b[39m::filter()\n",
      "\u001b[31m✖\u001b[39m \u001b[34mdplyr\u001b[39m::\u001b[32mlag()\u001b[39m     masks \u001b[34mstats\u001b[39m::lag()\n",
      "\n"
     ]
    }
   ],
   "source": [
    "library(mlbench)\n",
    "library(moments)\n",
    "library(ggplot2)\n",
    "library(gridExtra)\n",
    "library(ggExtra)\n",
    "library(tidyverse)"
   ]
  },
  {
   "cell_type": "markdown",
   "id": "6308ad5a-8084-4533-a25c-d516924d86ae",
   "metadata": {},
   "source": [
    "# Bài toán 1"
   ]
  },
  {
   "cell_type": "code",
   "execution_count": 2,
   "id": "20cd2b6a-3987-4372-bb87-b7651f4dc032",
   "metadata": {},
   "outputs": [],
   "source": [
    "df = read.csv(\"./data/life_batteries.txt\", sep='\\t', header = FALSE)"
   ]
  },
  {
   "cell_type": "code",
   "execution_count": 3,
   "id": "b23fe3d5-789b-4f1f-a84e-f515f6ee9e76",
   "metadata": {},
   "outputs": [
    {
     "data": {
      "text/html": [
       "<table class=\"dataframe\">\n",
       "<caption>A data.frame: 10 × 4</caption>\n",
       "<thead>\n",
       "\t<tr><th scope=col>V1</th><th scope=col>V2</th><th scope=col>V3</th><th scope=col>V4</th></tr>\n",
       "\t<tr><th scope=col>&lt;int&gt;</th><th scope=col>&lt;int&gt;</th><th scope=col>&lt;int&gt;</th><th scope=col>&lt;int&gt;</th></tr>\n",
       "</thead>\n",
       "<tbody>\n",
       "\t<tr><td>130</td><td>145</td><td>126</td><td>146</td></tr>\n",
       "\t<tr><td>164</td><td>130</td><td>132</td><td>152</td></tr>\n",
       "\t<tr><td>145</td><td>129</td><td>133</td><td>155</td></tr>\n",
       "\t<tr><td>140</td><td>127</td><td>139</td><td>137</td></tr>\n",
       "\t<tr><td>131</td><td>126</td><td>145</td><td>148</td></tr>\n",
       "\t<tr><td>125</td><td>132</td><td>126</td><td>126</td></tr>\n",
       "\t<tr><td>126</td><td>135</td><td>131</td><td>129</td></tr>\n",
       "\t<tr><td>147</td><td>136</td><td>129</td><td>136</td></tr>\n",
       "\t<tr><td>156</td><td>146</td><td>130</td><td>146</td></tr>\n",
       "\t<tr><td>132</td><td>142</td><td>132</td><td>132</td></tr>\n",
       "</tbody>\n",
       "</table>\n"
      ],
      "text/latex": [
       "A data.frame: 10 × 4\n",
       "\\begin{tabular}{llll}\n",
       " V1 & V2 & V3 & V4\\\\\n",
       " <int> & <int> & <int> & <int>\\\\\n",
       "\\hline\n",
       "\t 130 & 145 & 126 & 146\\\\\n",
       "\t 164 & 130 & 132 & 152\\\\\n",
       "\t 145 & 129 & 133 & 155\\\\\n",
       "\t 140 & 127 & 139 & 137\\\\\n",
       "\t 131 & 126 & 145 & 148\\\\\n",
       "\t 125 & 132 & 126 & 126\\\\\n",
       "\t 126 & 135 & 131 & 129\\\\\n",
       "\t 147 & 136 & 129 & 136\\\\\n",
       "\t 156 & 146 & 130 & 146\\\\\n",
       "\t 132 & 142 & 132 & 132\\\\\n",
       "\\end{tabular}\n"
      ],
      "text/markdown": [
       "\n",
       "A data.frame: 10 × 4\n",
       "\n",
       "| V1 &lt;int&gt; | V2 &lt;int&gt; | V3 &lt;int&gt; | V4 &lt;int&gt; |\n",
       "|---|---|---|---|\n",
       "| 130 | 145 | 126 | 146 |\n",
       "| 164 | 130 | 132 | 152 |\n",
       "| 145 | 129 | 133 | 155 |\n",
       "| 140 | 127 | 139 | 137 |\n",
       "| 131 | 126 | 145 | 148 |\n",
       "| 125 | 132 | 126 | 126 |\n",
       "| 126 | 135 | 131 | 129 |\n",
       "| 147 | 136 | 129 | 136 |\n",
       "| 156 | 146 | 130 | 146 |\n",
       "| 132 | 142 | 132 | 132 |\n",
       "\n"
      ],
      "text/plain": [
       "   V1  V2  V3  V4 \n",
       "1  130 145 126 146\n",
       "2  164 130 132 152\n",
       "3  145 129 133 155\n",
       "4  140 127 139 137\n",
       "5  131 126 145 148\n",
       "6  125 132 126 126\n",
       "7  126 135 131 129\n",
       "8  147 136 129 136\n",
       "9  156 146 130 146\n",
       "10 132 142 132 132"
      ]
     },
     "metadata": {},
     "output_type": "display_data"
    }
   ],
   "source": [
    "df"
   ]
  },
  {
   "cell_type": "code",
   "execution_count": 4,
   "id": "a1d01707-4c7d-417f-be5c-70a2088a2090",
   "metadata": {},
   "outputs": [],
   "source": [
    "data = c(df$V1, df$V2, df$V3, df$V4)"
   ]
  },
  {
   "cell_type": "code",
   "execution_count": 5,
   "id": "201313fd-d3fc-4775-9b17-35c68b64c56a",
   "metadata": {},
   "outputs": [
    {
     "data": {
      "text/html": [
       "<style>\n",
       ".list-inline {list-style: none; margin:0; padding: 0}\n",
       ".list-inline>li {display: inline-block}\n",
       ".list-inline>li:not(:last-child)::after {content: \"\\00b7\"; padding: 0 .5ex}\n",
       "</style>\n",
       "<ol class=list-inline><li>130</li><li>164</li><li>145</li><li>140</li><li>131</li><li>125</li><li>126</li><li>147</li><li>156</li><li>132</li><li>145</li><li>130</li><li>129</li><li>127</li><li>126</li><li>132</li><li>135</li><li>136</li><li>146</li><li>142</li><li>126</li><li>132</li><li>133</li><li>139</li><li>145</li><li>126</li><li>131</li><li>129</li><li>130</li><li>132</li><li>146</li><li>152</li><li>155</li><li>137</li><li>148</li><li>126</li><li>129</li><li>136</li><li>146</li><li>132</li></ol>\n"
      ],
      "text/latex": [
       "\\begin{enumerate*}\n",
       "\\item 130\n",
       "\\item 164\n",
       "\\item 145\n",
       "\\item 140\n",
       "\\item 131\n",
       "\\item 125\n",
       "\\item 126\n",
       "\\item 147\n",
       "\\item 156\n",
       "\\item 132\n",
       "\\item 145\n",
       "\\item 130\n",
       "\\item 129\n",
       "\\item 127\n",
       "\\item 126\n",
       "\\item 132\n",
       "\\item 135\n",
       "\\item 136\n",
       "\\item 146\n",
       "\\item 142\n",
       "\\item 126\n",
       "\\item 132\n",
       "\\item 133\n",
       "\\item 139\n",
       "\\item 145\n",
       "\\item 126\n",
       "\\item 131\n",
       "\\item 129\n",
       "\\item 130\n",
       "\\item 132\n",
       "\\item 146\n",
       "\\item 152\n",
       "\\item 155\n",
       "\\item 137\n",
       "\\item 148\n",
       "\\item 126\n",
       "\\item 129\n",
       "\\item 136\n",
       "\\item 146\n",
       "\\item 132\n",
       "\\end{enumerate*}\n"
      ],
      "text/markdown": [
       "1. 130\n",
       "2. 164\n",
       "3. 145\n",
       "4. 140\n",
       "5. 131\n",
       "6. 125\n",
       "7. 126\n",
       "8. 147\n",
       "9. 156\n",
       "10. 132\n",
       "11. 145\n",
       "12. 130\n",
       "13. 129\n",
       "14. 127\n",
       "15. 126\n",
       "16. 132\n",
       "17. 135\n",
       "18. 136\n",
       "19. 146\n",
       "20. 142\n",
       "21. 126\n",
       "22. 132\n",
       "23. 133\n",
       "24. 139\n",
       "25. 145\n",
       "26. 126\n",
       "27. 131\n",
       "28. 129\n",
       "29. 130\n",
       "30. 132\n",
       "31. 146\n",
       "32. 152\n",
       "33. 155\n",
       "34. 137\n",
       "35. 148\n",
       "36. 126\n",
       "37. 129\n",
       "38. 136\n",
       "39. 146\n",
       "40. 132\n",
       "\n",
       "\n"
      ],
      "text/plain": [
       " [1] 130 164 145 140 131 125 126 147 156 132 145 130 129 127 126 132 135 136 146\n",
       "[20] 142 126 132 133 139 145 126 131 129 130 132 146 152 155 137 148 126 129 136\n",
       "[39] 146 132"
      ]
     },
     "metadata": {},
     "output_type": "display_data"
    }
   ],
   "source": [
    "data"
   ]
  },
  {
   "cell_type": "code",
   "execution_count": null,
   "id": "38baae95-f79e-4da3-820a-64f2d3d51034",
   "metadata": {},
   "outputs": [],
   "source": []
  },
  {
   "cell_type": "code",
   "execution_count": 6,
   "id": "245c3212-91e2-45fb-a5d3-1ad6b6568de8",
   "metadata": {},
   "outputs": [
    {
     "data": {
      "image/png": "[encoded data removed]",
      "text/plain": [
       "Plot with title “Life Batteries”"
      ]
     },
     "metadata": {
      "image/png": {
       "height": 420,
       "width": 420
      }
     },
     "output_type": "display_data"
    }
   ],
   "source": [
    "par(mfrow=c(1, 2))\n",
    "hist(data, main='Life Batteries', xlab='Hours', xlim=c(110, max(data) + 10),\n",
    "           ylim=c(0, 20), col='orange', border='blue', breaks=5)\n",
    "\n",
    "hist(data, main='Life Batteries', xlab='Hours', xlim=c(110, max(data) + 10),\n",
    "           col='orange', breaks=10, border='blue', las=1, freq=FALSE)\n",
    "lines(density(data))"
   ]
  },
  {
   "cell_type": "markdown",
   "id": "1d34b77b-d02e-4780-a644-665460c1b104",
   "metadata": {},
   "source": [
    "> *Nhận xét**\n",
    "> * Biểu đồ này cho thấy hầu hết các dữ liệu dc tập trung trong khoảng 130, với một vài điểm dữ liệu vượt quá 150. Có thể kết luận rằng trung tâm của dữ liệu là một nơi nào đó trong khoảng 130-139.\n",
    "> * Từ hai biểu đồ trên, có thể xác định nhiều biện pháp phân tán và xu hướng trung tâm."
   ]
  },
  {
   "cell_type": "code",
   "execution_count": null,
   "id": "91d13ae0-1d94-409f-8f23-26af31f7268f",
   "metadata": {},
   "outputs": [],
   "source": []
  },
  {
   "cell_type": "code",
   "execution_count": 7,
   "id": "a5bc5754-1929-43fa-992b-77ec45bbe9f8",
   "metadata": {},
   "outputs": [
    {
     "data": {
      "text/plain": [
       "   Min. 1st Qu.  Median    Mean 3rd Qu.    Max. \n",
       "  125.0   129.8   132.5   136.8   145.0   164.0 "
      ]
     },
     "metadata": {},
     "output_type": "display_data"
    }
   ],
   "source": [
    "summary(data)"
   ]
  },
  {
   "cell_type": "code",
   "execution_count": 8,
   "id": "64e5b04a-76bc-4d08-997f-a8be27de9ccc",
   "metadata": {},
   "outputs": [
    {
     "data": {
      "text/html": [
       "95.874358974359"
      ],
      "text/latex": [
       "95.874358974359"
      ],
      "text/markdown": [
       "95.874358974359"
      ],
      "text/plain": [
       "[1] 95.87436"
      ]
     },
     "metadata": {},
     "output_type": "display_data"
    }
   ],
   "source": [
    "var(data)"
   ]
  },
  {
   "cell_type": "code",
   "execution_count": 9,
   "id": "d0839eaa-1ced-4eca-8bd3-d63e68b58871",
   "metadata": {},
   "outputs": [
    {
     "data": {
      "text/html": [
       "9.79154528020777"
      ],
      "text/latex": [
       "9.79154528020777"
      ],
      "text/markdown": [
       "9.79154528020777"
      ],
      "text/plain": [
       "[1] 9.791545"
      ]
     },
     "metadata": {},
     "output_type": "display_data"
    }
   ],
   "source": [
    "sd(data)"
   ]
  },
  {
   "cell_type": "code",
   "execution_count": 10,
   "id": "0146158b-9a63-4dd9-9dec-32a3ab2bade0",
   "metadata": {},
   "outputs": [
    {
     "data": {
      "text/html": [
       "0.845528704908616"
      ],
      "text/latex": [
       "0.845528704908616"
      ],
      "text/markdown": [
       "0.845528704908616"
      ],
      "text/plain": [
       "[1] 0.8455287"
      ]
     },
     "metadata": {},
     "output_type": "display_data"
    }
   ],
   "source": [
    "skewness(data)"
   ]
  },
  {
   "cell_type": "code",
   "execution_count": 11,
   "id": "482a4389-a6eb-44d1-b8dc-137ac0c77236",
   "metadata": {},
   "outputs": [
    {
     "data": {
      "text/html": [
       "2.92386761692244"
      ],
      "text/latex": [
       "2.92386761692244"
      ],
      "text/markdown": [
       "2.92386761692244"
      ],
      "text/plain": [
       "[1] 2.923868"
      ]
     },
     "metadata": {},
     "output_type": "display_data"
    }
   ],
   "source": [
    "kurtosis(data)"
   ]
  },
  {
   "cell_type": "markdown",
   "id": "fe091e35-a99a-402e-9299-cd54ebc9d583",
   "metadata": {},
   "source": [
    "# Bài toán 2"
   ]
  },
  {
   "cell_type": "code",
   "execution_count": 12,
   "id": "93b02faa-0d85-452b-908c-fe256c29e260",
   "metadata": {},
   "outputs": [],
   "source": [
    "df2 = read.csv(\"./data/life_batteries_2.txt\", sep='\\t', header=FALSE)"
   ]
  },
  {
   "cell_type": "code",
   "execution_count": 13,
   "id": "0fcd0b2f-ef15-449e-a441-53a74977fab7",
   "metadata": {},
   "outputs": [
    {
     "data": {
      "text/html": [
       "<table class=\"dataframe\">\n",
       "<caption>A data.frame: 10 × 4</caption>\n",
       "<thead>\n",
       "\t<tr><th scope=col>V1</th><th scope=col>V2</th><th scope=col>V3</th><th scope=col>V4</th></tr>\n",
       "\t<tr><th scope=col>&lt;int&gt;</th><th scope=col>&lt;int&gt;</th><th scope=col>&lt;int&gt;</th><th scope=col>&lt;int&gt;</th></tr>\n",
       "</thead>\n",
       "<tbody>\n",
       "\t<tr><td>134</td><td>130</td><td>140</td><td>151</td></tr>\n",
       "\t<tr><td>143</td><td>134</td><td>136</td><td>144</td></tr>\n",
       "\t<tr><td>150</td><td>135</td><td>160</td><td>141</td></tr>\n",
       "\t<tr><td>143</td><td>140</td><td>138</td><td>141</td></tr>\n",
       "\t<tr><td>148</td><td>146</td><td>140</td><td>146</td></tr>\n",
       "\t<tr><td>151</td><td>138</td><td>151</td><td>139</td></tr>\n",
       "\t<tr><td>151</td><td>128</td><td>146</td><td>147</td></tr>\n",
       "\t<tr><td>152</td><td>142</td><td>144</td><td>134</td></tr>\n",
       "\t<tr><td>142</td><td>146</td><td>142</td><td>136</td></tr>\n",
       "\t<tr><td>122</td><td>134</td><td>145</td><td>147</td></tr>\n",
       "</tbody>\n",
       "</table>\n"
      ],
      "text/latex": [
       "A data.frame: 10 × 4\n",
       "\\begin{tabular}{llll}\n",
       " V1 & V2 & V3 & V4\\\\\n",
       " <int> & <int> & <int> & <int>\\\\\n",
       "\\hline\n",
       "\t 134 & 130 & 140 & 151\\\\\n",
       "\t 143 & 134 & 136 & 144\\\\\n",
       "\t 150 & 135 & 160 & 141\\\\\n",
       "\t 143 & 140 & 138 & 141\\\\\n",
       "\t 148 & 146 & 140 & 146\\\\\n",
       "\t 151 & 138 & 151 & 139\\\\\n",
       "\t 151 & 128 & 146 & 147\\\\\n",
       "\t 152 & 142 & 144 & 134\\\\\n",
       "\t 142 & 146 & 142 & 136\\\\\n",
       "\t 122 & 134 & 145 & 147\\\\\n",
       "\\end{tabular}\n"
      ],
      "text/markdown": [
       "\n",
       "A data.frame: 10 × 4\n",
       "\n",
       "| V1 &lt;int&gt; | V2 &lt;int&gt; | V3 &lt;int&gt; | V4 &lt;int&gt; |\n",
       "|---|---|---|---|\n",
       "| 134 | 130 | 140 | 151 |\n",
       "| 143 | 134 | 136 | 144 |\n",
       "| 150 | 135 | 160 | 141 |\n",
       "| 143 | 140 | 138 | 141 |\n",
       "| 148 | 146 | 140 | 146 |\n",
       "| 151 | 138 | 151 | 139 |\n",
       "| 151 | 128 | 146 | 147 |\n",
       "| 152 | 142 | 144 | 134 |\n",
       "| 142 | 146 | 142 | 136 |\n",
       "| 122 | 134 | 145 | 147 |\n",
       "\n"
      ],
      "text/plain": [
       "   V1  V2  V3  V4 \n",
       "1  134 130 140 151\n",
       "2  143 134 136 144\n",
       "3  150 135 160 141\n",
       "4  143 140 138 141\n",
       "5  148 146 140 146\n",
       "6  151 138 151 139\n",
       "7  151 128 146 147\n",
       "8  152 142 144 134\n",
       "9  142 146 142 136\n",
       "10 122 134 145 147"
      ]
     },
     "metadata": {},
     "output_type": "display_data"
    }
   ],
   "source": [
    "df2"
   ]
  },
  {
   "cell_type": "code",
   "execution_count": 14,
   "id": "9206af61-68a1-4b2d-bc4a-856cfb927883",
   "metadata": {},
   "outputs": [
    {
     "data": {
      "text/html": [
       "<style>\n",
       ".list-inline {list-style: none; margin:0; padding: 0}\n",
       ".list-inline>li {display: inline-block}\n",
       ".list-inline>li:not(:last-child)::after {content: \"\\00b7\"; padding: 0 .5ex}\n",
       "</style>\n",
       "<ol class=list-inline><li>134</li><li>143</li><li>150</li><li>143</li><li>148</li><li>151</li><li>151</li><li>152</li><li>142</li><li>122</li><li>130</li><li>134</li><li>135</li><li>140</li><li>146</li><li>138</li><li>128</li><li>142</li><li>146</li><li>134</li><li>140</li><li>136</li><li>160</li><li>138</li><li>140</li><li>151</li><li>146</li><li>144</li><li>142</li><li>145</li><li>151</li><li>144</li><li>141</li><li>141</li><li>146</li><li>139</li><li>147</li><li>134</li><li>136</li><li>147</li></ol>\n"
      ],
      "text/latex": [
       "\\begin{enumerate*}\n",
       "\\item 134\n",
       "\\item 143\n",
       "\\item 150\n",
       "\\item 143\n",
       "\\item 148\n",
       "\\item 151\n",
       "\\item 151\n",
       "\\item 152\n",
       "\\item 142\n",
       "\\item 122\n",
       "\\item 130\n",
       "\\item 134\n",
       "\\item 135\n",
       "\\item 140\n",
       "\\item 146\n",
       "\\item 138\n",
       "\\item 128\n",
       "\\item 142\n",
       "\\item 146\n",
       "\\item 134\n",
       "\\item 140\n",
       "\\item 136\n",
       "\\item 160\n",
       "\\item 138\n",
       "\\item 140\n",
       "\\item 151\n",
       "\\item 146\n",
       "\\item 144\n",
       "\\item 142\n",
       "\\item 145\n",
       "\\item 151\n",
       "\\item 144\n",
       "\\item 141\n",
       "\\item 141\n",
       "\\item 146\n",
       "\\item 139\n",
       "\\item 147\n",
       "\\item 134\n",
       "\\item 136\n",
       "\\item 147\n",
       "\\end{enumerate*}\n"
      ],
      "text/markdown": [
       "1. 134\n",
       "2. 143\n",
       "3. 150\n",
       "4. 143\n",
       "5. 148\n",
       "6. 151\n",
       "7. 151\n",
       "8. 152\n",
       "9. 142\n",
       "10. 122\n",
       "11. 130\n",
       "12. 134\n",
       "13. 135\n",
       "14. 140\n",
       "15. 146\n",
       "16. 138\n",
       "17. 128\n",
       "18. 142\n",
       "19. 146\n",
       "20. 134\n",
       "21. 140\n",
       "22. 136\n",
       "23. 160\n",
       "24. 138\n",
       "25. 140\n",
       "26. 151\n",
       "27. 146\n",
       "28. 144\n",
       "29. 142\n",
       "30. 145\n",
       "31. 151\n",
       "32. 144\n",
       "33. 141\n",
       "34. 141\n",
       "35. 146\n",
       "36. 139\n",
       "37. 147\n",
       "38. 134\n",
       "39. 136\n",
       "40. 147\n",
       "\n",
       "\n"
      ],
      "text/plain": [
       " [1] 134 143 150 143 148 151 151 152 142 122 130 134 135 140 146 138 128 142 146\n",
       "[20] 134 140 136 160 138 140 151 146 144 142 145 151 144 141 141 146 139 147 134\n",
       "[39] 136 147"
      ]
     },
     "metadata": {},
     "output_type": "display_data"
    }
   ],
   "source": [
    "data2 = c(df2$V1, df2$V2, df2$V3, df2$V4)\n",
    "data2"
   ]
  },
  {
   "cell_type": "code",
   "execution_count": 15,
   "id": "d3e5201a-455d-46fe-b895-c262e1bfdbc0",
   "metadata": {},
   "outputs": [
    {
     "data": {
      "image/png": "[encoded data removed]",
      "text/plain": [
       "Plot with title “Life Batteries”"
      ]
     },
     "metadata": {
      "image/png": {
       "height": 420,
       "width": 420
      }
     },
     "output_type": "display_data"
    }
   ],
   "source": [
    "par(mfrow=c(1, 2))\n",
    "hist(data2, main='Life Batteries', xlab='Hours', xlim=c(110, max(data) + 10),\n",
    "            ylim=c(0, 20), col='orange', border='blue', breaks=5)\n",
    "\n",
    "hist(data2, main='Life Batteries', xlab='Hours', xlim=c(110, max(data) + 10),\n",
    "            col='orange', breaks=10, border='blue', las=1, freq=FALSE)\n",
    "lines(density(data2))"
   ]
  },
  {
   "cell_type": "markdown",
   "id": "a7a9f9bd-7c1f-4bf5-90f5-7b82ffa76ba4",
   "metadata": {},
   "source": [
    "> **Nhận xét**\n",
    "> * Biểu đồ trên cho thấy rằng có nhiều dữ liệu hơn cho Battery 2 trong khoảng 140 so với Battery 1 trong khoảng 130. Ngoài ra, mức độ biến thiên của Battery 2 ít hơn so với Battery 1.\n",
    "> * Dựa trên các kết quả này, có thể kết luận rằng Battery 2 là một nhãn hiệu tốt hơn (trung bình cao hơn và biến thiên thấp hơn). Tuy nhiên, tính hộp lệ của kết luận này còn phụ thuộc vào cách thu thập dữ liệu."
   ]
  },
  {
   "cell_type": "code",
   "execution_count": 16,
   "id": "31238a1a-c1f6-4412-a99a-5af8d5696f0c",
   "metadata": {},
   "outputs": [
    {
     "data": {
      "text/plain": [
       "   Min. 1st Qu.  Median    Mean 3rd Qu.    Max. \n",
       "  122.0   137.5   142.0   141.9   146.2   160.0 "
      ]
     },
     "metadata": {},
     "output_type": "display_data"
    }
   ],
   "source": [
    "summary(data2)"
   ]
  },
  {
   "cell_type": "code",
   "execution_count": 17,
   "id": "9811203c-1433-4ca2-a099-3ed65f90db0f",
   "metadata": {},
   "outputs": [
    {
     "data": {
      "text/html": [
       "55.199358974359"
      ],
      "text/latex": [
       "55.199358974359"
      ],
      "text/markdown": [
       "55.199358974359"
      ],
      "text/plain": [
       "[1] 55.19936"
      ]
     },
     "metadata": {},
     "output_type": "display_data"
    }
   ],
   "source": [
    "var(data2)"
   ]
  },
  {
   "cell_type": "code",
   "execution_count": 18,
   "id": "1966341e-6c46-4c06-9dd4-97bbb45317f8",
   "metadata": {},
   "outputs": [
    {
     "data": {
      "text/html": [
       "7.42962710870195"
      ],
      "text/latex": [
       "7.42962710870195"
      ],
      "text/markdown": [
       "7.42962710870195"
      ],
      "text/plain": [
       "[1] 7.429627"
      ]
     },
     "metadata": {},
     "output_type": "display_data"
    }
   ],
   "source": [
    "sd(data2)"
   ]
  },
  {
   "cell_type": "code",
   "execution_count": 19,
   "id": "7d53df0e-a35b-4646-b7b7-fff50a7771e1",
   "metadata": {},
   "outputs": [
    {
     "data": {
      "text/html": [
       "-0.251033897416653"
      ],
      "text/latex": [
       "-0.251033897416653"
      ],
      "text/markdown": [
       "-0.251033897416653"
      ],
      "text/plain": [
       "[1] -0.2510339"
      ]
     },
     "metadata": {},
     "output_type": "display_data"
    }
   ],
   "source": [
    "skewness(data2)"
   ]
  },
  {
   "cell_type": "code",
   "execution_count": 20,
   "id": "2ad4f052-800b-475a-9dd9-4fd9ce97b75f",
   "metadata": {},
   "outputs": [
    {
     "data": {
      "text/html": [
       "3.35670280005492"
      ],
      "text/latex": [
       "3.35670280005492"
      ],
      "text/markdown": [
       "3.35670280005492"
      ],
      "text/plain": [
       "[1] 3.356703"
      ]
     },
     "metadata": {},
     "output_type": "display_data"
    }
   ],
   "source": [
    "kurtosis(data2)"
   ]
  },
  {
   "cell_type": "code",
   "execution_count": null,
   "id": "9f2e5477-aa8e-4841-bf7a-bd67847182c0",
   "metadata": {},
   "outputs": [],
   "source": []
  },
  {
   "cell_type": "code",
   "execution_count": 22,
   "id": "333901e8-1f15-49ae-94d2-711ec5f45cc3",
   "metadata": {},
   "outputs": [
    {
     "data": {
      "image/png": "[encoded data removed]",
      "text/plain": [
       "Plot with title “Pin 2”"
      ]
     },
     "metadata": {
      "image/png": {
       "height": 420,
       "width": 420
      }
     },
     "output_type": "display_data"
    }
   ],
   "source": [
    "par(mfrow=c(1, 2))\n",
    "boxplot(data, main='Pin 1')\n",
    "boxplot(data2, main='Pin 2')"
   ]
  },
  {
   "cell_type": "markdown",
   "id": "cb2a7227-c4ee-4799-ab6a-88334af0dfb5",
   "metadata": {},
   "source": [
    "> **Nhận xét**\n",
    "> * Nhóm Pin 1 ko có outlier, nhóm Pin2 có outlier"
   ]
  },
  {
   "cell_type": "code",
   "execution_count": null,
   "id": "02b07188-76ad-4473-af9e-d4565dc638ec",
   "metadata": {},
   "outputs": [],
   "source": []
  }
 ],
 "metadata": {
  "kernelspec": {
   "display_name": "R",
   "language": "R",
   "name": "ir"
  },
  "language_info": {
   "codemirror_mode": "r",
   "file_extension": ".r",
   "mimetype": "text/x-r-source",
   "name": "R",
   "pygments_lexer": "r",
   "version": "4.1.0"
  }
 },
 "nbformat": 4,
 "nbformat_minor": 5
}
