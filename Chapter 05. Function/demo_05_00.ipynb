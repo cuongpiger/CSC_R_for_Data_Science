{
 "cells": [
  {
   "cell_type": "markdown",
   "id": "b8da468d-f5f2-45c6-95ea-b1b005b72137",
   "metadata": {},
   "source": [
    "# 1. Build-in Function"
   ]
  },
  {
   "cell_type": "code",
   "execution_count": 1,
   "id": "f0c060a4-6363-4f4a-97a7-8f77560cccd6",
   "metadata": {},
   "outputs": [
    {
     "data": {
      "text/plain": [
       "   Min. 1st Qu.  Median    Mean 3rd Qu.    Max. \n",
       "   1.00   25.75   50.50   50.50   75.25  100.00 "
      ]
     },
     "metadata": {},
     "output_type": "display_data"
    }
   ],
   "source": [
    "v = c(1:100)\n",
    "summary(v)"
   ]
  },
  {
   "cell_type": "code",
   "execution_count": 2,
   "id": "7e4a6c0f-9651-4b29-841c-cc935a131fce",
   "metadata": {},
   "outputs": [
    {
     "data": {
      "text/html": [
       "5050"
      ],
      "text/latex": [
       "5050"
      ],
      "text/markdown": [
       "5050"
      ],
      "text/plain": [
       "[1] 5050"
      ]
     },
     "metadata": {},
     "output_type": "display_data"
    }
   ],
   "source": [
    "sum(v)"
   ]
  },
  {
   "cell_type": "markdown",
   "id": "7709aeeb-76b8-4dc9-8a53-e0672dd9240b",
   "metadata": {},
   "source": [
    "## 1.1. Packages"
   ]
  },
  {
   "cell_type": "markdown",
   "id": "03055b54-fa93-4950-aae9-628b701e1b47",
   "metadata": {},
   "source": [
    "* Cài đặt package"
   ]
  },
  {
   "cell_type": "code",
   "execution_count": 3,
   "id": "6c9e6283-308c-417f-a4eb-954fc2f0689f",
   "metadata": {},
   "outputs": [
    {
     "name": "stderr",
     "output_type": "stream",
     "text": [
      "Installing package into ‘/home/manhcuong/R/x86_64-pc-linux-gnu-library/4.1’\n",
      "(as ‘lib’ is unspecified)\n",
      "\n",
      "also installing the dependencies ‘cli’, ‘curl’, ‘gargle’, ‘ids’, ‘openssl’, ‘googledrive’, ‘googlesheets4’, ‘httr’, ‘rvest’, ‘xml2’\n",
      "\n",
      "\n"
     ]
    }
   ],
   "source": [
    "install.packages(\"tidyverse\")"
   ]
  },
  {
   "cell_type": "markdown",
   "id": "efa3c984-22bf-49c1-8d27-769fce66ec51",
   "metadata": {},
   "source": [
    "* Xem danh sách các packafe đã cài trên máy"
   ]
  },
  {
   "cell_type": "code",
   "execution_count": 4,
   "id": "4c9ea0b6-133c-47ec-9558-31569a9193bc",
   "metadata": {},
   "outputs": [
    {
     "name": "stderr",
     "output_type": "stream",
     "text": [
      "Warning message in library():\n",
      "“library ‘/usr/lib/R/site-library’ contains no packages”\n"
     ]
    },
    {
     "data": {
      "text/plain": [
       "R packages available\n",
       "\n",
       "Packages in library ‘/home/manhcuong/R/x86_64-pc-linux-gnu-library/4.1’:\n",
       "\n",
       "abind                   Combine Multidimensional Arrays\n",
       "askpass                 Safe Password Entry for R, Git, and SSH\n",
       "assertthat              Easy Pre and Post Assertions\n",
       "backports               Reimplementations of Functions Introduced Since\n",
       "                        R-3.0.0\n",
       "base64enc               Tools for base64 encoding\n",
       "BH                      Boost C++ Header Files\n",
       "blob                    A Simple S3 Class for Representing Vectors of\n",
       "                        Binary Data ('BLOBS')\n",
       "BMA                     Bayesian Model Averaging\n",
       "brew                    Templating Framework for Report Generation\n",
       "brio                    Basic R Input Output\n",
       "broom                   Convert Statistical Objects into Tidy Tibbles\n",
       "bslib                   Custom 'Bootstrap' 'Sass' Themes for 'shiny'\n",
       "                        and 'rmarkdown'\n",
       "cachem                  Cache R Objects with Automatic Pruning\n",
       "callr                   Call R from R\n",
       "carData                 Companion to Applied Regression Data Sets\n",
       "cellranger              Translate Spreadsheet Cell Ranges to Rows and\n",
       "                        Columns\n",
       "chron                   Chronological Objects which can Handle Dates\n",
       "                        and Times\n",
       "cli                     Helpers for Developing Command Line Interfaces\n",
       "clipr                   Read and Write from the System Clipboard\n",
       "cluster                 \"Finding Groups in Data\": Cluster Analysis\n",
       "                        Extended Rousseeuw et al.\n",
       "colorspace              A Toolbox for Manipulating and Assessing Colors\n",
       "                        and Palettes\n",
       "colourpicker            A Colour Picker Tool for Shiny and for\n",
       "                        Selecting Colours in Plots\n",
       "commonmark              High Performance CommonMark and Github Markdown\n",
       "                        Rendering in R\n",
       "conquer                 Convolution-Type Smoothed Quantile Regression\n",
       "corpcor                 Efficient Estimation of Covariance and\n",
       "                        (Partial) Correlation\n",
       "corrplot                Visualization of a Correlation Matrix\n",
       "cowplot                 Streamlined Plot Theme and Plot Annotations for\n",
       "                        'ggplot2'\n",
       "cpp11                   A C++11 Interface for R's C Interface\n",
       "crayon                  Colored Terminal Output\n",
       "crosstalk               Inter-Widget Interactivity for HTML Widgets\n",
       "curl                    A Modern and Flexible Web Client for R\n",
       "data.table              Extension of `data.frame`\n",
       "DBI                     R Database Interface\n",
       "dbplyr                  A 'dplyr' Back End for Databases\n",
       "dendextend              Extending 'dendrogram' Functionality in R\n",
       "DEoptimR                Differential Evolution Optimization in Pure R\n",
       "desc                    Manipulate DESCRIPTION Files\n",
       "DescTools               Tools for Descriptive Statistics\n",
       "diffobj                 Diffs for R Objects\n",
       "digest                  Create Compact Hash Digests of R Objects\n",
       "dplyr                   A Grammar of Data Manipulation\n",
       "DT                      A Wrapper of the JavaScript Library\n",
       "                        'DataTables'\n",
       "dtplyr                  Data Table Back-End for 'dplyr'\n",
       "e1071                   Misc Functions of the Department of Statistics,\n",
       "                        Probability Theory Group (Formerly: E1071), TU\n",
       "                        Wien\n",
       "ellipse                 Functions for Drawing Ellipses and Ellipse-Like\n",
       "                        Confidence Regions\n",
       "ellipsis                Tools for Working with ...\n",
       "evaluate                Parsing and Evaluation Tools that Provide More\n",
       "                        Details than the Default\n",
       "Exact                   Unconditional Exact Test\n",
       "expm                    Matrix Exponential, Log, 'etc'\n",
       "fansi                   ANSI Control Sequence Aware String Functions\n",
       "farver                  High Performance Colour Space Manipulation\n",
       "fastmap                 Fast Data Structures\n",
       "flashClust              Implementation of optimal hierarchical\n",
       "                        clustering\n",
       "forcats                 Tools for Working with Categorical Variables\n",
       "                        (Factors)\n",
       "Formula                 Extended Model Formulas\n",
       "fracdiff                Fractionally Differenced ARIMA aka\n",
       "                        ARFIMA(P,d,q) Models\n",
       "fs                      Cross-Platform File System Operations Based on\n",
       "                        'libuv'\n",
       "gargle                  Utilities for Working with Google APIs\n",
       "generics                Common S3 Generics not Provided by Base R\n",
       "                        Methods Related to Model Fitting\n",
       "GGally                  Extension to 'ggplot2'\n",
       "ggExtra                 Add Marginal Histograms to 'ggplot2', and More\n",
       "                        'ggplot2' Enhancements\n",
       "ggplot2                 Create Elegant Data Visualisations Using the\n",
       "                        Grammar of Graphics\n",
       "ggrepel                 Automatically Position Non-Overlapping Text\n",
       "                        Labels with 'ggplot2'\n",
       "ggsci                   Scientific Journal and Sci-Fi Themed Color\n",
       "                        Palettes for 'ggplot2'\n",
       "ggsignif                Significance Brackets for 'ggplot2'\n",
       "gitcreds                Query 'git' Credentials from 'R'\n",
       "gld                     Estimation and Use of the Generalised (Tukey)\n",
       "                        Lambda Distribution\n",
       "glue                    Interpreted String Literals\n",
       "googledrive             An Interface to Google Drive\n",
       "googlesheets4           Access Google Sheets using the Sheets API V4\n",
       "gridExtra               Miscellaneous Functions for \"Grid\" Graphics\n",
       "gtable                  Arrange 'Grobs' in Tables\n",
       "HardyWeinberg           Statistical Tests and Graphics for\n",
       "                        Hardy-Weinberg Equilibrium\n",
       "haven                   Import and Export 'SPSS', 'Stata' and 'SAS'\n",
       "                        Files\n",
       "highr                   Syntax Highlighting for R Source Code\n",
       "hms                     Pretty Time of Day\n",
       "htmltools               Tools for HTML\n",
       "htmlwidgets             HTML Widgets for R\n",
       "httpuv                  HTTP and WebSocket Server Library\n",
       "httr                    Tools for Working with URLs and HTTP\n",
       "ids                     Generate Random Identifiers\n",
       "ini                     Read and Write '.ini' Files\n",
       "inline                  Functions to Inline C, C++, Fortran Function\n",
       "                        Calls from R\n",
       "installr                Using R to Install Stuff on Windows OS (Such\n",
       "                        As: R, 'Rtools', 'RStudio', 'Git', and More!)\n",
       "IRdisplay               'Jupyter' Display Machinery\n",
       "IRkernel                Native R Kernel for the 'Jupyter Notebook'\n",
       "isoband                 Generate Isolines and Isobands from Regularly\n",
       "                        Spaced Elevation Grids\n",
       "jquerylib               Obtain 'jQuery' as an HTML Dependency Object\n",
       "jsonlite                A Simple and Robust JSON Parser and Generator\n",
       "                        for R\n",
       "knitr                   A General-Purpose Package for Dynamic Report\n",
       "                        Generation in R\n",
       "labeling                Axis Labeling\n",
       "later                   Utilities for Scheduling Functions to Execute\n",
       "                        Later with Event Loops\n",
       "lazyeval                Lazy (Non-Standard) Evaluation\n",
       "leaps                   Regression Subset Selection\n",
       "lifecycle               Manage the Life Cycle of your Package Functions\n",
       "lme4                    Linear Mixed-Effects Models using 'Eigen' and\n",
       "                        S4\n",
       "lmom                    L-Moments\n",
       "lmtest                  Testing Linear Regression Models\n",
       "lubridate               Make Dealing with Dates a Little Easier\n",
       "magrittr                A Forward-Pipe Operator for R\n",
       "maptools                Tools for Handling Spatial Objects\n",
       "markdown                Render Markdown with the C Library 'Sundown'\n",
       "MatrixModels            Modelling with Sparse and Dense Matrices\n",
       "matrixStats             Functions that Apply to Rows and Columns of\n",
       "                        Matrices (and to Vectors)\n",
       "memoise                 Memoisation of Functions\n",
       "mice                    Multivariate Imputation by Chained Equations\n",
       "mime                    Map Filenames to MIME Types\n",
       "miniUI                  Shiny UI Widgets for Small Screens\n",
       "minqa                   Derivative-free optimization algorithms by\n",
       "                        quadratic approximation\n",
       "mitools                 Tools for Multiple Imputation of Missing Data\n",
       "mlbench                 Machine Learning Benchmark Problems\n",
       "modelr                  Modelling Functions that Work with the Pipe\n",
       "moments                 Moments, cumulants, skewness, kurtosis and\n",
       "                        related tests\n",
       "munsell                 Utilities for Using Munsell Colours\n",
       "mvtnorm                 Multivariate Normal and t Distributions\n",
       "nloptr                  R Interface to NLopt\n",
       "numDeriv                Accurate Numerical Derivatives\n",
       "openssl                 Toolkit for Encryption, Signatures and\n",
       "                        Certificates Based on OpenSSL\n",
       "openxlsx                Read, Write and Edit xlsx Files\n",
       "pbdZMQ                  Programming with Big Data -- Interface to\n",
       "                        'ZeroMQ'\n",
       "pbkrtest                Parametric Bootstrap, Kenward-Roger and\n",
       "                        Satterthwaite Based Methods for Test in Mixed\n",
       "                        Models\n",
       "pcaPP                   Robust PCA by Projection Pursuit\n",
       "pillar                  Coloured Formatting for Columns\n",
       "pkgbuild                Find Tools Needed to Build R Packages\n",
       "pkgconfig               Private Configuration for 'R' Packages\n",
       "pkgload                 Simulate Package Installation and Attach\n",
       "plotrix                 Various Plotting Functions\n",
       "plyr                    Tools for Splitting, Applying and Combining\n",
       "                        Data\n",
       "polynom                 A Collection of Functions to Implement a Class\n",
       "                        for Univariate Polynomial Manipulations\n",
       "praise                  Praise Users\n",
       "prettyunits             Pretty, Human Readable Formatting of Quantities\n",
       "processx                Execute and Control System Processes\n",
       "progress                Terminal Progress Bars\n",
       "promises                Abstractions for Promise-Based Asynchronous\n",
       "                        Programming\n",
       "proxy                   Distance and Similarity Measures\n",
       "ps                      List, Query, Manipulate System Processes\n",
       "purrr                   Functional Programming Tools\n",
       "quadprog                Functions to Solve Quadratic Programming\n",
       "                        Problems\n",
       "quantreg                Quantile Regression\n",
       "R6                      Encapsulated Classes with Reference Semantics\n",
       "rappdirs                Application Directories: Determine Where to\n",
       "                        Save Data, Caches, and Logs\n",
       "rcmdcheck               Run 'R CMD check' from 'R' and Capture Results\n",
       "RColorBrewer            ColorBrewer Palettes\n",
       "Rcpp                    Seamless R and C++ Integration\n",
       "RcppArmadillo           'Rcpp' Integration for the 'Armadillo'\n",
       "                        Templated Linear Algebra Library\n",
       "RcppEigen               'Rcpp' Integration for the 'Eigen' Templated\n",
       "                        Linear Algebra Library\n",
       "readr                   Read Rectangular Text Data\n",
       "readxl                  Read Excel Files\n",
       "relaimpo                Relative Importance of Regressors in Linear\n",
       "                        Models\n",
       "rematch                 Match Regular Expressions with a Nicer 'API'\n",
       "rematch2                Tidy Output from Regular Expression Matching\n",
       "remotes                 R Package Installation from Remote\n",
       "                        Repositories, Including 'GitHub'\n",
       "repr                    Serializable Representations\n",
       "reprex                  Prepare Reproducible Example Code via the\n",
       "                        Clipboard\n",
       "reshape                 Flexibly Reshape Data\n",
       "reshape2                Flexibly Reshape Data: A Reboot of the Reshape\n",
       "                        Package\n",
       "rlang                   Functions for Base Types and Core R and\n",
       "                        'Tidyverse' Features\n",
       "rmarkdown               Dynamic Documents for R\n",
       "robustbase              Basic Robust Statistics\n",
       "rootSolve               Nonlinear Root Finding, Equilibrium and\n",
       "                        Steady-State Analysis of Ordinary Differential\n",
       "                        Equations\n",
       "rpart                   Recursive Partitioning and Regression Trees\n",
       "rpart.plot              Plot 'rpart' Models: An Enhanced Version of\n",
       "                        'plot.rpart'\n",
       "rprojroot               Finding Files in Project Subdirectories\n",
       "rrcov                   Scalable Robust Estimators with High Breakdown\n",
       "                        Point\n",
       "Rsolnp                  General Non-Linear Optimization\n",
       "rstudioapi              Safely Access the RStudio API\n",
       "rvest                   Easily Harvest (Scrape) Web Pages\n",
       "sass                    Syntactically Awesome Style Sheets ('Sass')\n",
       "scales                  Scale Functions for Visualization\n",
       "scatterplot3d           3D Scatter Plot\n",
       "selectr                 Translate CSS Selectors to XPath Expressions\n",
       "sessioninfo             R Session Information\n",
       "shiny                   Web Application Framework for R\n",
       "shinyjs                 Easily Improve the User Experience of Your\n",
       "                        Shiny Apps in Seconds\n",
       "sourcetools             Tools for Reading, Tokenizing and Parsing R\n",
       "                        Code\n",
       "sp                      Classes and Methods for Spatial Data\n",
       "SparseM                 Sparse Linear Algebra\n",
       "stringi                 Character String Processing Facilities\n",
       "stringr                 Simple, Consistent Wrappers for Common String\n",
       "                        Operations\n",
       "survey                  Analysis of Complex Survey Samples\n",
       "sys                     Powerful and Reliable Tools for Running System\n",
       "                        Commands in R\n",
       "table1                  Tables of Descriptive Statistics in HTML\n",
       "testthat                Unit Testing for R\n",
       "tibble                  Simple Data Frames\n",
       "tidyr                   Tidy Messy Data\n",
       "tidyselect              Select from a Set of Strings\n",
       "tidyverse               Easily Install and Load the 'Tidyverse'\n",
       "timeDate                Rmetrics - Chronological and Calendar Objects\n",
       "tinytex                 Helper Functions to Install and Maintain TeX\n",
       "                        Live, and Compile LaTeX Documents\n",
       "truncnorm               Truncated Normal Distribution\n",
       "urca                    Unit Root and Cointegration Tests for Time\n",
       "                        Series Data\n",
       "utf8                    Unicode Text Processing\n",
       "uuid                    Tools for Generating and Handling of UUIDs\n",
       "vctrs                   Vector Helpers\n",
       "viridis                 Colorblind-Friendly Color Maps for R\n",
       "viridisLite             Colorblind-Friendly Color Maps (Lite Version)\n",
       "waldo                   Find Differences Between R Objects\n",
       "webshot                 Take Screenshots of Web Pages\n",
       "whisker                 {{mustache}} for R, Logicless Templating\n",
       "withr                   Run Code 'With' Temporarily Modified Global\n",
       "                        State\n",
       "writexl                 Export Data Frames to Excel 'xlsx' Format\n",
       "xfun                    Supporting Functions for Packages Maintained by\n",
       "                        'Yihui Xie'\n",
       "xml2                    Parse XML\n",
       "xopen                   Open System Files, 'URLs', Anything\n",
       "xtable                  Export Tables to LaTeX or HTML\n",
       "xts                     eXtensible Time Series\n",
       "yaml                    Methods to Convert R Data to YAML and Back\n",
       "zip                     Cross-Platform 'zip' Compression\n",
       "zoo                     S3 Infrastructure for Regular and Irregular\n",
       "                        Time Series (Z's Ordered Observations)\n",
       "\n",
       "Packages in library ‘/usr/lib/R/library’:\n",
       "\n",
       "base                    The R Base Package\n",
       "boot                    Bootstrap Functions (Originally by Angelo Canty\n",
       "                        for S)\n",
       "class                   Functions for Classification\n",
       "cluster                 \"Finding Groups in Data\": Cluster Analysis\n",
       "                        Extended Rousseeuw et al.\n",
       "codetools               Code Analysis Tools for R\n",
       "compiler                The R Compiler Package\n",
       "datasets                The R Datasets Package\n",
       "foreign                 Read Data Stored by 'Minitab', 'S', 'SAS',\n",
       "                        'SPSS', 'Stata', 'Systat', 'Weka', 'dBase', ...\n",
       "graphics                The R Graphics Package\n",
       "grDevices               The R Graphics Devices and Support for Colours\n",
       "                        and Fonts\n",
       "grid                    The Grid Graphics Package\n",
       "KernSmooth              Functions for Kernel Smoothing Supporting Wand\n",
       "                        & Jones (1995)\n",
       "lattice                 Trellis Graphics for R\n",
       "MASS                    Support Functions and Datasets for Venables and\n",
       "                        Ripley's MASS\n",
       "Matrix                  Sparse and Dense Matrix Classes and Methods\n",
       "methods                 Formal Methods and Classes\n",
       "mgcv                    Mixed GAM Computation Vehicle with Automatic\n",
       "                        Smoothness Estimation\n",
       "nlme                    Linear and Nonlinear Mixed Effects Models\n",
       "nnet                    Feed-Forward Neural Networks and Multinomial\n",
       "                        Log-Linear Models\n",
       "parallel                Support for Parallel computation in R\n",
       "rpart                   Recursive Partitioning and Regression Trees\n",
       "spatial                 Functions for Kriging and Point Pattern\n",
       "                        Analysis\n",
       "splines                 Regression Spline Functions and Classes\n",
       "stats                   The R Stats Package\n",
       "stats4                  Statistical Functions using S4 Classes\n",
       "survival                Survival Analysis\n",
       "tcltk                   Tcl/Tk Interface\n",
       "tools                   Tools for Package Development\n",
       "utils                   The R Utils Package"
      ]
     },
     "metadata": {},
     "output_type": "display_data"
    }
   ],
   "source": [
    "library()"
   ]
  },
  {
   "cell_type": "code",
   "execution_count": 5,
   "id": "adc9f5a7-8dbb-40da-b7c7-8b77e794c1d3",
   "metadata": {},
   "outputs": [
    {
     "data": {
      "text/html": [
       "\n",
       "<table width=\"100%\" summary=\"page for mean {base}\"><tr><td>mean {base}</td><td style=\"text-align: right;\">R Documentation</td></tr></table>\n",
       "\n",
       "<h2>Arithmetic Mean</h2>\n",
       "\n",
       "<h3>Description</h3>\n",
       "\n",
       "<p>Generic function for the (trimmed) arithmetic mean.\n",
       "</p>\n",
       "\n",
       "\n",
       "<h3>Usage</h3>\n",
       "\n",
       "<pre>\n",
       "mean(x, ...)\n",
       "\n",
       "## Default S3 method:\n",
       "mean(x, trim = 0, na.rm = FALSE, ...)\n",
       "</pre>\n",
       "\n",
       "\n",
       "<h3>Arguments</h3>\n",
       "\n",
       "<table summary=\"R argblock\">\n",
       "<tr valign=\"top\"><td><code>x</code></td>\n",
       "<td>\n",
       "<p>An <span style=\"font-family: Courier New, Courier; color: #666666;\"><b>R</b></span> object.  Currently there are methods for\n",
       "numeric/logical vectors and date,\n",
       "date-time and time interval objects.  Complex vectors\n",
       "are allowed for <code>trim = 0</code>, only.</p>\n",
       "</td></tr>\n",
       "<tr valign=\"top\"><td><code>trim</code></td>\n",
       "<td>\n",
       "<p>the fraction (0 to 0.5) of observations to be\n",
       "trimmed from each end of <code>x</code> before the mean is computed.\n",
       "Values of trim outside that range are taken as the nearest endpoint.\n",
       "</p>\n",
       "</td></tr>\n",
       "<tr valign=\"top\"><td><code>na.rm</code></td>\n",
       "<td>\n",
       "<p>a logical value indicating whether <code>NA</code>\n",
       "values should be stripped before the computation proceeds.</p>\n",
       "</td></tr>\n",
       "<tr valign=\"top\"><td><code>...</code></td>\n",
       "<td>\n",
       "<p>further arguments passed to or from other methods.</p>\n",
       "</td></tr>\n",
       "</table>\n",
       "\n",
       "\n",
       "<h3>Value</h3>\n",
       "\n",
       "<p>If <code>trim</code> is zero (the default), the arithmetic mean of the\n",
       "values in <code>x</code> is computed, as a numeric or complex vector of\n",
       "length one.  If <code>x</code> is not logical (coerced to numeric), numeric\n",
       "(including integer) or complex, <code>NA_real_</code> is returned, with a warning.\n",
       "</p>\n",
       "<p>If <code>trim</code> is non-zero, a symmetrically trimmed mean is computed\n",
       "with a fraction of <code>trim</code> observations deleted from each end\n",
       "before the mean is computed.\n",
       "</p>\n",
       "\n",
       "\n",
       "<h3>References</h3>\n",
       "\n",
       "<p>Becker, R. A., Chambers, J. M. and Wilks, A. R. (1988)\n",
       "<em>The New S Language</em>.\n",
       "Wadsworth &amp; Brooks/Cole.\n",
       "</p>\n",
       "\n",
       "\n",
       "<h3>See Also</h3>\n",
       "\n",
       "<p><code>weighted.mean</code>, <code>mean.POSIXct</code>,\n",
       "<code>colMeans</code> for row and column means.\n",
       "</p>\n",
       "\n",
       "\n",
       "<h3>Examples</h3>\n",
       "\n",
       "<pre>\n",
       "x &lt;- c(0:10, 50)\n",
       "xm &lt;- mean(x)\n",
       "c(xm, mean(x, trim = 0.10))\n",
       "</pre>\n",
       "\n",
       "<hr /><div style=\"text-align: center;\">[Package <em>base</em> version 4.1.0 ]</div>"
      ],
      "text/latex": [
       "\\inputencoding{utf8}\n",
       "\\HeaderA{mean}{Arithmetic Mean}{mean}\n",
       "\\methaliasA{mean.default}{mean}{mean.default}\n",
       "\\keyword{univar}{mean}\n",
       "%\n",
       "\\begin{Description}\\relax\n",
       "Generic function for the (trimmed) arithmetic mean.\n",
       "\\end{Description}\n",
       "%\n",
       "\\begin{Usage}\n",
       "\\begin{verbatim}\n",
       "mean(x, ...)\n",
       "\n",
       "## Default S3 method:\n",
       "mean(x, trim = 0, na.rm = FALSE, ...)\n",
       "\\end{verbatim}\n",
       "\\end{Usage}\n",
       "%\n",
       "\\begin{Arguments}\n",
       "\\begin{ldescription}\n",
       "\\item[\\code{x}] An \\R{} object.  Currently there are methods for\n",
       "numeric/logical vectors and \\LinkA{date}{Dates},\n",
       "\\LinkA{date-time}{date.Rdash.time} and \\LinkA{time interval}{time interval} objects.  Complex vectors\n",
       "are allowed for \\code{trim = 0}, only.\n",
       "\\item[\\code{trim}] the fraction (0 to 0.5) of observations to be\n",
       "trimmed from each end of \\code{x} before the mean is computed.\n",
       "Values of trim outside that range are taken as the nearest endpoint.\n",
       "\n",
       "\\item[\\code{na.rm}] a logical value indicating whether \\code{NA}\n",
       "values should be stripped before the computation proceeds.\n",
       "\\item[\\code{...}] further arguments passed to or from other methods.\n",
       "\\end{ldescription}\n",
       "\\end{Arguments}\n",
       "%\n",
       "\\begin{Value}\n",
       "If \\code{trim} is zero (the default), the arithmetic mean of the\n",
       "values in \\code{x} is computed, as a numeric or complex vector of\n",
       "length one.  If \\code{x} is not logical (coerced to numeric), numeric\n",
       "(including integer) or complex, \\code{NA\\_real\\_} is returned, with a warning.\n",
       "\n",
       "If \\code{trim} is non-zero, a symmetrically trimmed mean is computed\n",
       "with a fraction of \\code{trim} observations deleted from each end\n",
       "before the mean is computed.\n",
       "\\end{Value}\n",
       "%\n",
       "\\begin{References}\\relax\n",
       "Becker, R. A., Chambers, J. M. and Wilks, A. R. (1988)\n",
       "\\emph{The New S Language}.\n",
       "Wadsworth \\& Brooks/Cole.\n",
       "\\end{References}\n",
       "%\n",
       "\\begin{SeeAlso}\\relax\n",
       "\\code{\\LinkA{weighted.mean}{weighted.mean}}, \\code{\\LinkA{mean.POSIXct}{mean.POSIXct}},\n",
       "\\code{\\LinkA{colMeans}{colMeans}} for row and column means.\n",
       "\\end{SeeAlso}\n",
       "%\n",
       "\\begin{Examples}\n",
       "\\begin{ExampleCode}\n",
       "x <- c(0:10, 50)\n",
       "xm <- mean(x)\n",
       "c(xm, mean(x, trim = 0.10))\n",
       "\\end{ExampleCode}\n",
       "\\end{Examples}"
      ],
      "text/plain": [
       "mean                   package:base                    R Documentation\n",
       "\n",
       "_\bA_\br_\bi_\bt_\bh_\bm_\be_\bt_\bi_\bc _\bM_\be_\ba_\bn\n",
       "\n",
       "_\bD_\be_\bs_\bc_\br_\bi_\bp_\bt_\bi_\bo_\bn:\n",
       "\n",
       "     Generic function for the (trimmed) arithmetic mean.\n",
       "\n",
       "_\bU_\bs_\ba_\bg_\be:\n",
       "\n",
       "     mean(x, ...)\n",
       "     \n",
       "     ## Default S3 method:\n",
       "     mean(x, trim = 0, na.rm = FALSE, ...)\n",
       "     \n",
       "_\bA_\br_\bg_\bu_\bm_\be_\bn_\bt_\bs:\n",
       "\n",
       "       x: An R object.  Currently there are methods for numeric/logical\n",
       "          vectors and date, date-time and time interval objects.\n",
       "          Complex vectors are allowed for ‘trim = 0’, only.\n",
       "\n",
       "    trim: the fraction (0 to 0.5) of observations to be trimmed from\n",
       "          each end of ‘x’ before the mean is computed.  Values of trim\n",
       "          outside that range are taken as the nearest endpoint.\n",
       "\n",
       "   na.rm: a logical value indicating whether ‘NA’ values should be\n",
       "          stripped before the computation proceeds.\n",
       "\n",
       "     ...: further arguments passed to or from other methods.\n",
       "\n",
       "_\bV_\ba_\bl_\bu_\be:\n",
       "\n",
       "     If ‘trim’ is zero (the default), the arithmetic mean of the values\n",
       "     in ‘x’ is computed, as a numeric or complex vector of length one.\n",
       "     If ‘x’ is not logical (coerced to numeric), numeric (including\n",
       "     integer) or complex, ‘NA_real_’ is returned, with a warning.\n",
       "\n",
       "     If ‘trim’ is non-zero, a symmetrically trimmed mean is computed\n",
       "     with a fraction of ‘trim’ observations deleted from each end\n",
       "     before the mean is computed.\n",
       "\n",
       "_\bR_\be_\bf_\be_\br_\be_\bn_\bc_\be_\bs:\n",
       "\n",
       "     Becker, R. A., Chambers, J. M. and Wilks, A. R. (1988) _The New S\n",
       "     Language_.  Wadsworth & Brooks/Cole.\n",
       "\n",
       "_\bS_\be_\be _\bA_\bl_\bs_\bo:\n",
       "\n",
       "     ‘weighted.mean’, ‘mean.POSIXct’, ‘colMeans’ for row and column\n",
       "     means.\n",
       "\n",
       "_\bE_\bx_\ba_\bm_\bp_\bl_\be_\bs:\n",
       "\n",
       "     x <- c(0:10, 50)\n",
       "     xm <- mean(x)\n",
       "     c(xm, mean(x, trim = 0.10))\n",
       "     "
      ]
     },
     "metadata": {},
     "output_type": "display_data"
    }
   ],
   "source": [
    "help(mean)"
   ]
  },
  {
   "cell_type": "code",
   "execution_count": 6,
   "id": "3fa5d868-3d8f-45f6-9837-b14b8669bd28",
   "metadata": {},
   "outputs": [
    {
     "name": "stdout",
     "output_type": "stream",
     "text": [
      "\n",
      "mean> x <- c(0:10, 50)\n",
      "\n",
      "mean> xm <- mean(x)\n",
      "\n",
      "mean> c(xm, mean(x, trim = 0.10))\n",
      "[1] 8.75 5.50\n"
     ]
    }
   ],
   "source": [
    "example(mean)"
   ]
  },
  {
   "cell_type": "code",
   "execution_count": 7,
   "id": "39691281-1bf1-4be5-b037-eea54b624ef3",
   "metadata": {},
   "outputs": [
    {
     "name": "stdout",
     "output_type": "stream",
     "text": [
      "\n",
      "sum> ## Pass a vector to sum, and it will add the elements together.\n",
      "sum> sum(1:5)\n",
      "[1] 15\n",
      "\n",
      "sum> ## Pass several numbers to sum, and it also adds the elements.\n",
      "sum> sum(1, 2, 3, 4, 5)\n",
      "[1] 15\n",
      "\n",
      "sum> ## In fact, you can pass vectors into several arguments, and everything gets added.\n",
      "sum> sum(1:2, 3:5)\n",
      "[1] 15\n",
      "\n",
      "sum> ## If there are missing values, the sum is unknown, i.e., also missing, ....\n",
      "sum> sum(1:5, NA)\n",
      "[1] NA\n",
      "\n",
      "sum> ## ... unless  we exclude missing values explicitly:\n",
      "sum> sum(1:5, NA, na.rm = TRUE)\n",
      "[1] 15\n"
     ]
    }
   ],
   "source": [
    "example(sum)"
   ]
  },
  {
   "cell_type": "markdown",
   "id": "2aead513-1b10-47cc-894c-732769b0a799",
   "metadata": {},
   "source": [
    "# 2. User-defined function"
   ]
  },
  {
   "cell_type": "code",
   "execution_count": 9,
   "id": "a5d9d085-b21e-47a7-bd7c-f76025ef5fe4",
   "metadata": {},
   "outputs": [],
   "source": [
    "sum_even.function = function(start, end) {\n",
    "    sum_even = 0\n",
    "    \n",
    "    for (i in start:end) {\n",
    "        if (i %% 2 == 0) {\n",
    "            sum_even = sum_even + i\n",
    "        }\n",
    "    }\n",
    "    \n",
    "    return (sum_even)\n",
    "}"
   ]
  },
  {
   "cell_type": "code",
   "execution_count": 10,
   "id": "5f099dd9-7886-4976-8aff-670860d5cd3e",
   "metadata": {},
   "outputs": [],
   "source": [
    "tmp1 = sum_even.function(1, 10)"
   ]
  },
  {
   "cell_type": "code",
   "execution_count": 11,
   "id": "82a6fcec-2500-433c-b0f0-c9a4165bb95b",
   "metadata": {},
   "outputs": [
    {
     "data": {
      "text/html": [
       "30"
      ],
      "text/latex": [
       "30"
      ],
      "text/markdown": [
       "30"
      ],
      "text/plain": [
       "[1] 30"
      ]
     },
     "metadata": {},
     "output_type": "display_data"
    }
   ],
   "source": [
    "tmp1"
   ]
  },
  {
   "cell_type": "code",
   "execution_count": 13,
   "id": "0a3b5331-bacd-409a-9a85-83bf695b7c64",
   "metadata": {},
   "outputs": [
    {
     "data": {
      "text/html": [
       "30"
      ],
      "text/latex": [
       "30"
      ],
      "text/markdown": [
       "30"
      ],
      "text/plain": [
       "[1] 30"
      ]
     },
     "metadata": {},
     "output_type": "display_data"
    }
   ],
   "source": [
    "tmp2 = sum_even.function(end=10, start=1)\n",
    "\n",
    "tmp2"
   ]
  },
  {
   "cell_type": "code",
   "execution_count": null,
   "id": "68c1f97e-e566-47b2-8c8e-bb641290983f",
   "metadata": {},
   "outputs": [],
   "source": []
  },
  {
   "cell_type": "code",
   "execution_count": 16,
   "id": "8fbe267e-3aad-4ed7-834f-6845e3d2e267",
   "metadata": {},
   "outputs": [],
   "source": [
    "drink.function = function(price, type='Tea') {\n",
    "    sprintf(\"With %d, you can drink %s\", price, type)\n",
    "}"
   ]
  },
  {
   "cell_type": "code",
   "execution_count": 17,
   "id": "2c154f4a-3d6c-4e1f-a9e8-4d872a3005de",
   "metadata": {},
   "outputs": [
    {
     "data": {
      "text/html": [
       "'With 10000, you can drink Coffee'"
      ],
      "text/latex": [
       "'With 10000, you can drink Coffee'"
      ],
      "text/markdown": [
       "'With 10000, you can drink Coffee'"
      ],
      "text/plain": [
       "[1] \"With 10000, you can drink Coffee\""
      ]
     },
     "metadata": {},
     "output_type": "display_data"
    }
   ],
   "source": [
    "drink.function(10000, \"Coffee\")"
   ]
  },
  {
   "cell_type": "code",
   "execution_count": 18,
   "id": "88a8c73a-d94e-42ed-9d29-1e1fddd8e3f1",
   "metadata": {},
   "outputs": [
    {
     "data": {
      "text/html": [
       "'With 3000, you can drink Tea'"
      ],
      "text/latex": [
       "'With 3000, you can drink Tea'"
      ],
      "text/markdown": [
       "'With 3000, you can drink Tea'"
      ],
      "text/plain": [
       "[1] \"With 3000, you can drink Tea\""
      ]
     },
     "metadata": {},
     "output_type": "display_data"
    }
   ],
   "source": [
    "drink.function(3000)"
   ]
  },
  {
   "cell_type": "code",
   "execution_count": null,
   "id": "1c2948ae-60f7-4d48-bf45-66d59e09205d",
   "metadata": {},
   "outputs": [],
   "source": []
  }
 ],
 "metadata": {
  "kernelspec": {
   "display_name": "R",
   "language": "R",
   "name": "ir"
  },
  "language_info": {
   "codemirror_mode": "r",
   "file_extension": ".r",
   "mimetype": "text/x-r-source",
   "name": "R",
   "pygments_lexer": "r",
   "version": "4.1.0"
  }
 },
 "nbformat": 4,
 "nbformat_minor": 5
}
