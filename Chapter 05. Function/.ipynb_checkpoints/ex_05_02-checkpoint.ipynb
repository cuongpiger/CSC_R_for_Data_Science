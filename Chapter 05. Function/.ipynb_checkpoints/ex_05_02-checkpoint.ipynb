{
 "cells": [
  {
   "cell_type": "markdown",
   "id": "12d85716-e9dd-461d-98ff-39c3db91665b",
   "metadata": {},
   "source": [
    "![](images/05_01.png)"
   ]
  },
  {
   "cell_type": "markdown",
   "id": "264407ab-4332-4e4e-aaf4-1338b14b65ae",
   "metadata": {},
   "source": [
    "# Task 1"
   ]
  },
  {
   "cell_type": "code",
   "execution_count": 1,
   "id": "ed3dfbe2-4391-47f6-a5d6-1b94ab5c331e",
   "metadata": {},
   "outputs": [],
   "source": [
    "equationLevel1 = function(a, b) {\n",
    "    if (a == 0) {\n",
    "        return (b == 0)\n",
    "    } else {\n",
    "        return (-b/a)\n",
    "    }\n",
    "}"
   ]
  },
  {
   "cell_type": "code",
   "execution_count": 15,
   "id": "69f70000-81df-476c-a9bb-ff9c9ec58a15",
   "metadata": {},
   "outputs": [
    {
     "name": "stdin",
     "output_type": "stream",
     "text": [
      "Nhập a: 5\n",
      "Nhập b: 10\n"
     ]
    },
    {
     "name": "stdout",
     "output_type": "stream",
     "text": [
      "Nghiệm của phương trình là: -2.000\n"
     ]
    }
   ],
   "source": [
    "a = as.numeric(readline(prompt=\"Nhập a:\"))\n",
    "b = as.numeric(readline(prompt=\"Nhập b:\"))\n",
    "res = equationLevel1(a, b)\n",
    "\n",
    "if (mode(res) == 'numeric') {\n",
    "    writeLines(sprintf(\"Nghiệm của phương trình là: %.3f\", res))\n",
    "} else {\n",
    "    if (res == TRUE) {\n",
    "        writeLines(\"Phương trình có vô số nghiệm\")\n",
    "    } else {\n",
    "        writeLines(\"Phương trình vô nghiệm\")\n",
    "    }\n",
    "}"
   ]
  },
  {
   "cell_type": "markdown",
   "id": "42fd119f-4369-4ea3-a063-08b14f1444b4",
   "metadata": {},
   "source": [
    "# Task 2"
   ]
  },
  {
   "cell_type": "code",
   "execution_count": 5,
   "id": "8ec1f03f-7015-40a5-88cd-0ad1053a6f80",
   "metadata": {},
   "outputs": [],
   "source": [
    "equationLevel2 = function(a, b, c) {\n",
    "    if (a == 0) {\n",
    "        return (equationLevel1(b, c))\n",
    "    }\n",
    "    \n",
    "    delta = b^2 - 4*a*c\n",
    "    \n",
    "    if (delta < 0) {\n",
    "        return (FALSE)\n",
    "    } else if (delta == 0) {\n",
    "        return (-b/(2*a))\n",
    "    } else {\n",
    "        return (c((-b - sqrt(delta)/(2*a)), (-b + sqrt(delta)/(2*a))))\n",
    "    }\n",
    "}"
   ]
  },
  {
   "cell_type": "code",
   "execution_count": 15,
   "id": "269799b9-a06e-477b-871a-d27626e3836c",
   "metadata": {},
   "outputs": [
    {
     "name": "stdin",
     "output_type": "stream",
     "text": [
      "Nhập a: 0\n",
      "Nhập b: 0\n",
      "Nhập c: 0\n"
     ]
    },
    {
     "name": "stdout",
     "output_type": "stream",
     "text": [
      "[1] \"Phương trình có vô số nghiệm\"\n"
     ]
    }
   ],
   "source": [
    "a = as.numeric(readline(prompt=\"Nhập a:\"))\n",
    "b = as.numeric(readline(prompt=\"Nhập b:\"))\n",
    "c = as.numeric(readline(prompt=\"Nhập c:\"))\n",
    "res = equationLevel2(a, b, c)\n",
    "\n",
    "if (mode(res) == 'numeric') {\n",
    "    print(res)\n",
    "} else {\n",
    "    if (res == TRUE) {\n",
    "        print(\"Phương trình có vô số nghiệm\")\n",
    "    } else {\n",
    "        print(\"Phương trình vô nghiệm\")\n",
    "    }\n",
    "}"
   ]
  },
  {
   "cell_type": "code",
   "execution_count": null,
   "id": "ac5ce275-8f2a-40d0-ab42-1fd755ddb4d6",
   "metadata": {},
   "outputs": [],
   "source": []
  }
 ],
 "metadata": {
  "kernelspec": {
   "display_name": "R",
   "language": "R",
   "name": "ir"
  },
  "language_info": {
   "codemirror_mode": "r",
   "file_extension": ".r",
   "mimetype": "text/x-r-source",
   "name": "R",
   "pygments_lexer": "r",
   "version": "4.1.0"
  }
 },
 "nbformat": 4,
 "nbformat_minor": 5
}
