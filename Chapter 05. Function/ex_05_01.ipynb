{
 "cells": [
  {
   "cell_type": "markdown",
   "id": "c03f2dce-880e-433b-9bb5-a56d25483da3",
   "metadata": {},
   "source": [
    "![](images/05_00.png)"
   ]
  },
  {
   "cell_type": "code",
   "execution_count": 1,
   "id": "81081bc6-fd85-423c-9e1c-6444a14c6884",
   "metadata": {},
   "outputs": [],
   "source": [
    "calc_bmi.function = function(pHeight, pWeight) {\n",
    "    return (pWeight / (pWeight * pHeight))\n",
    "}"
   ]
  },
  {
   "cell_type": "code",
   "execution_count": 4,
   "id": "40371fe4-9fc6-4191-a6c0-4b33b9a3f59f",
   "metadata": {},
   "outputs": [],
   "source": [
    "bmi_evaluation.function = function(bmi) {\n",
    "    res_Str = \"\"\n",
    "    \n",
    "    if (bmi < 18.5) \n",
    "        res_Str = \"Gầy\"\n",
    "    else if (bmi < 25)\n",
    "        res_Str = \"Bình thường\"\n",
    "    else\n",
    "        res_Str = \"Thừa cân\"\n",
    "    \n",
    "    return (res_Str)\n",
    "}"
   ]
  },
  {
   "cell_type": "code",
   "execution_count": 6,
   "id": "9f15368f-b892-46a6-9277-2182ece46450",
   "metadata": {},
   "outputs": [
    {
     "name": "stdin",
     "output_type": "stream",
     "text": [
      "Enter your height: 1.68\n",
      "Enter your weight: 59\n"
     ]
    },
    {
     "data": {
      "text/html": [
       "'Your BMI: 0.60 =&gt; Gầy'"
      ],
      "text/latex": [
       "'Your BMI: 0.60 => Gầy'"
      ],
      "text/markdown": [
       "'Your BMI: 0.60 =&gt; Gầy'"
      ],
      "text/plain": [
       "[1] \"Your BMI: 0.60 => Gầy\""
      ]
     },
     "metadata": {},
     "output_type": "display_data"
    }
   ],
   "source": [
    "height = as.numeric(readline(prompt=\"Enter your height:\"))\n",
    "weight = as.numeric(readline(prompt=\"Enter your weight:\"))\n",
    "\n",
    "bmi = calc_bmi.function(height, weight)\n",
    "screen_Str = bmi_evaluation.function(bmi)\n",
    "\n",
    "sprintf(\"Your BMI: %.2f => %s\", bmi, screen_Str)"
   ]
  },
  {
   "cell_type": "markdown",
   "id": "6fd0bdcd-27f0-4bd6-bae8-ca4e63d83e37",
   "metadata": {},
   "source": [
    "#### Sử dụng file chứa function bên ngoài"
   ]
  },
  {
   "cell_type": "code",
   "execution_count": 9,
   "id": "c094d93f-704c-411a-b8ee-a6eb9909220d",
   "metadata": {},
   "outputs": [],
   "source": [
    "outerFunctions = new.env()\n",
    "sys.source(file=\"./modules/functions.r\", envir=outerFunctions, toplevel.env=outerFunctions)"
   ]
  },
  {
   "cell_type": "code",
   "execution_count": 10,
   "id": "443845f4-e1fc-46af-aab7-c10f93ce0243",
   "metadata": {},
   "outputs": [
    {
     "data": {
      "text/html": [
       "'Your BMI: 0.60 =&gt; Gầy'"
      ],
      "text/latex": [
       "'Your BMI: 0.60 => Gầy'"
      ],
      "text/markdown": [
       "'Your BMI: 0.60 =&gt; Gầy'"
      ],
      "text/plain": [
       "[1] \"Your BMI: 0.60 => Gầy\""
      ]
     },
     "metadata": {},
     "output_type": "display_data"
    }
   ],
   "source": [
    "new_bmi = outerFunctions$calc_bmi.function(height, weight)\n",
    "new_screen_Str = outerFunctions$bmi_evaluation.function(bmi)\n",
    "\n",
    "sprintf(\"Your BMI: %.2f => %s\", new_bmi, new_screen_Str)"
   ]
  },
  {
   "cell_type": "code",
   "execution_count": null,
   "id": "cf7c12f3-3a35-4ff1-bdb9-f3f77a2493e8",
   "metadata": {},
   "outputs": [],
   "source": []
  }
 ],
 "metadata": {
  "kernelspec": {
   "display_name": "R",
   "language": "R",
   "name": "ir"
  },
  "language_info": {
   "codemirror_mode": "r",
   "file_extension": ".r",
   "mimetype": "text/x-r-source",
   "name": "R",
   "pygments_lexer": "r",
   "version": "4.1.0"
  }
 },
 "nbformat": 4,
 "nbformat_minor": 5
}
