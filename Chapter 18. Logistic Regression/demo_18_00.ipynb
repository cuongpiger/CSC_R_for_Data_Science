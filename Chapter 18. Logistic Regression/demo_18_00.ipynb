{
 "cells": [
  {
   "cell_type": "markdown",
   "id": "0c1d4a20-f984-4d99-8ac5-8b8df1fb1270",
   "metadata": {},
   "source": [
    "# 1. Logistic Regression"
   ]
  },
  {
   "cell_type": "code",
   "execution_count": 1,
   "id": "d4d945ac-caee-47f9-8657-3d1f46b23f10",
   "metadata": {},
   "outputs": [
    {
     "name": "stderr",
     "output_type": "stream",
     "text": [
      "corrplot 0.90 loaded\n",
      "\n"
     ]
    }
   ],
   "source": [
    "library(corrplot)"
   ]
  },
  {
   "cell_type": "code",
   "execution_count": 2,
   "id": "e54a4d9f-6391-49f5-8fe7-60a2e3b2423b",
   "metadata": {},
   "outputs": [],
   "source": [
    "mydata = read.csv(\"./data/binary.csv\")"
   ]
  },
  {
   "cell_type": "code",
   "execution_count": 3,
   "id": "d7756043-d189-4909-868c-d27ebdb85c4c",
   "metadata": {},
   "outputs": [
    {
     "data": {
      "text/html": [
       "<table class=\"dataframe\">\n",
       "<caption>A data.frame: 6 × 4</caption>\n",
       "<thead>\n",
       "\t<tr><th></th><th scope=col>admit</th><th scope=col>gre</th><th scope=col>gpa</th><th scope=col>rank</th></tr>\n",
       "\t<tr><th></th><th scope=col>&lt;int&gt;</th><th scope=col>&lt;int&gt;</th><th scope=col>&lt;dbl&gt;</th><th scope=col>&lt;int&gt;</th></tr>\n",
       "</thead>\n",
       "<tbody>\n",
       "\t<tr><th scope=row>1</th><td>0</td><td>380</td><td>3.61</td><td>3</td></tr>\n",
       "\t<tr><th scope=row>2</th><td>1</td><td>660</td><td>3.67</td><td>3</td></tr>\n",
       "\t<tr><th scope=row>3</th><td>1</td><td>800</td><td>4.00</td><td>1</td></tr>\n",
       "\t<tr><th scope=row>4</th><td>1</td><td>640</td><td>3.19</td><td>4</td></tr>\n",
       "\t<tr><th scope=row>5</th><td>0</td><td>520</td><td>2.93</td><td>4</td></tr>\n",
       "\t<tr><th scope=row>6</th><td>1</td><td>760</td><td>3.00</td><td>2</td></tr>\n",
       "</tbody>\n",
       "</table>\n"
      ],
      "text/latex": [
       "A data.frame: 6 × 4\n",
       "\\begin{tabular}{r|llll}\n",
       "  & admit & gre & gpa & rank\\\\\n",
       "  & <int> & <int> & <dbl> & <int>\\\\\n",
       "\\hline\n",
       "\t1 & 0 & 380 & 3.61 & 3\\\\\n",
       "\t2 & 1 & 660 & 3.67 & 3\\\\\n",
       "\t3 & 1 & 800 & 4.00 & 1\\\\\n",
       "\t4 & 1 & 640 & 3.19 & 4\\\\\n",
       "\t5 & 0 & 520 & 2.93 & 4\\\\\n",
       "\t6 & 1 & 760 & 3.00 & 2\\\\\n",
       "\\end{tabular}\n"
      ],
      "text/markdown": [
       "\n",
       "A data.frame: 6 × 4\n",
       "\n",
       "| <!--/--> | admit &lt;int&gt; | gre &lt;int&gt; | gpa &lt;dbl&gt; | rank &lt;int&gt; |\n",
       "|---|---|---|---|---|\n",
       "| 1 | 0 | 380 | 3.61 | 3 |\n",
       "| 2 | 1 | 660 | 3.67 | 3 |\n",
       "| 3 | 1 | 800 | 4.00 | 1 |\n",
       "| 4 | 1 | 640 | 3.19 | 4 |\n",
       "| 5 | 0 | 520 | 2.93 | 4 |\n",
       "| 6 | 1 | 760 | 3.00 | 2 |\n",
       "\n"
      ],
      "text/plain": [
       "  admit gre gpa  rank\n",
       "1 0     380 3.61 3   \n",
       "2 1     660 3.67 3   \n",
       "3 1     800 4.00 1   \n",
       "4 1     640 3.19 4   \n",
       "5 0     520 2.93 4   \n",
       "6 1     760 3.00 2   "
      ]
     },
     "metadata": {},
     "output_type": "display_data"
    }
   ],
   "source": [
    "head(mydata)"
   ]
  },
  {
   "cell_type": "code",
   "execution_count": 4,
   "id": "ebadee8b-6e05-49b6-8b58-a83cf715e6ca",
   "metadata": {},
   "outputs": [
    {
     "data": {
      "text/html": [
       "<table class=\"dataframe\">\n",
       "<caption>A data.frame: 6 × 4</caption>\n",
       "<thead>\n",
       "\t<tr><th></th><th scope=col>admit</th><th scope=col>gre</th><th scope=col>gpa</th><th scope=col>rank</th></tr>\n",
       "\t<tr><th></th><th scope=col>&lt;int&gt;</th><th scope=col>&lt;int&gt;</th><th scope=col>&lt;dbl&gt;</th><th scope=col>&lt;int&gt;</th></tr>\n",
       "</thead>\n",
       "<tbody>\n",
       "\t<tr><th scope=row>395</th><td>1</td><td>460</td><td>3.99</td><td>3</td></tr>\n",
       "\t<tr><th scope=row>396</th><td>0</td><td>620</td><td>4.00</td><td>2</td></tr>\n",
       "\t<tr><th scope=row>397</th><td>0</td><td>560</td><td>3.04</td><td>3</td></tr>\n",
       "\t<tr><th scope=row>398</th><td>0</td><td>460</td><td>2.63</td><td>2</td></tr>\n",
       "\t<tr><th scope=row>399</th><td>0</td><td>700</td><td>3.65</td><td>2</td></tr>\n",
       "\t<tr><th scope=row>400</th><td>0</td><td>600</td><td>3.89</td><td>3</td></tr>\n",
       "</tbody>\n",
       "</table>\n"
      ],
      "text/latex": [
       "A data.frame: 6 × 4\n",
       "\\begin{tabular}{r|llll}\n",
       "  & admit & gre & gpa & rank\\\\\n",
       "  & <int> & <int> & <dbl> & <int>\\\\\n",
       "\\hline\n",
       "\t395 & 1 & 460 & 3.99 & 3\\\\\n",
       "\t396 & 0 & 620 & 4.00 & 2\\\\\n",
       "\t397 & 0 & 560 & 3.04 & 3\\\\\n",
       "\t398 & 0 & 460 & 2.63 & 2\\\\\n",
       "\t399 & 0 & 700 & 3.65 & 2\\\\\n",
       "\t400 & 0 & 600 & 3.89 & 3\\\\\n",
       "\\end{tabular}\n"
      ],
      "text/markdown": [
       "\n",
       "A data.frame: 6 × 4\n",
       "\n",
       "| <!--/--> | admit &lt;int&gt; | gre &lt;int&gt; | gpa &lt;dbl&gt; | rank &lt;int&gt; |\n",
       "|---|---|---|---|---|\n",
       "| 395 | 1 | 460 | 3.99 | 3 |\n",
       "| 396 | 0 | 620 | 4.00 | 2 |\n",
       "| 397 | 0 | 560 | 3.04 | 3 |\n",
       "| 398 | 0 | 460 | 2.63 | 2 |\n",
       "| 399 | 0 | 700 | 3.65 | 2 |\n",
       "| 400 | 0 | 600 | 3.89 | 3 |\n",
       "\n"
      ],
      "text/plain": [
       "    admit gre gpa  rank\n",
       "395 1     460 3.99 3   \n",
       "396 0     620 4.00 2   \n",
       "397 0     560 3.04 3   \n",
       "398 0     460 2.63 2   \n",
       "399 0     700 3.65 2   \n",
       "400 0     600 3.89 3   "
      ]
     },
     "metadata": {},
     "output_type": "display_data"
    }
   ],
   "source": [
    "tail(mydata)"
   ]
  },
  {
   "cell_type": "code",
   "execution_count": 5,
   "id": "5eb63036-647b-4876-8a4c-00683ab1ad72",
   "metadata": {},
   "outputs": [
    {
     "data": {
      "text/plain": [
       "     admit             gre             gpa             rank      \n",
       " Min.   :0.0000   Min.   :220.0   Min.   :2.260   Min.   :1.000  \n",
       " 1st Qu.:0.0000   1st Qu.:520.0   1st Qu.:3.130   1st Qu.:2.000  \n",
       " Median :0.0000   Median :580.0   Median :3.395   Median :2.000  \n",
       " Mean   :0.3175   Mean   :587.7   Mean   :3.390   Mean   :2.485  \n",
       " 3rd Qu.:1.0000   3rd Qu.:660.0   3rd Qu.:3.670   3rd Qu.:3.000  \n",
       " Max.   :1.0000   Max.   :800.0   Max.   :4.000   Max.   :4.000  "
      ]
     },
     "metadata": {},
     "output_type": "display_data"
    }
   ],
   "source": [
    "summary(mydata)"
   ]
  },
  {
   "cell_type": "markdown",
   "id": "8801c085-067e-4e05-9295-4d638e932d3b",
   "metadata": {},
   "source": [
    "## 1.1. Trực quan hóa"
   ]
  },
  {
   "cell_type": "code",
   "execution_count": 6,
   "id": "f48fb62c-1148-494e-8e86-a871d5f27693",
   "metadata": {},
   "outputs": [
    {
     "name": "stderr",
     "output_type": "stream",
     "text": [
      "Installing package into ‘/home/manhcuong/R/x86_64-pc-linux-gnu-library/4.1’\n",
      "(as ‘lib’ is unspecified)\n",
      "\n"
     ]
    }
   ],
   "source": [
    "install.packages(\"Amelia\")"
   ]
  },
  {
   "cell_type": "code",
   "execution_count": 7,
   "id": "186af85a-f355-414a-88ea-a8b233798f6c",
   "metadata": {},
   "outputs": [
    {
     "name": "stderr",
     "output_type": "stream",
     "text": [
      "Loading required package: Rcpp\n",
      "\n",
      "## \n",
      "## Amelia II: Multiple Imputation\n",
      "## (Version 1.8.0, built: 2021-05-26)\n",
      "## Copyright (C) 2005-2021 James Honaker, Gary King and Matthew Blackwell\n",
      "## Refer to http://gking.harvard.edu/amelia/ for more information\n",
      "## \n",
      "\n"
     ]
    }
   ],
   "source": [
    "library(Amelia)"
   ]
  },
  {
   "cell_type": "code",
   "execution_count": 8,
   "id": "d1ff04c8-5a9b-4abc-92d3-b67e2f9f33b2",
   "metadata": {},
   "outputs": [
    {
     "data": {
      "image/png": "[encoded data removed]",
      "text/plain": [
       "Plot with title “Missing values vs Observed”"
      ]
     },
     "metadata": {
      "image/png": {
       "height": 420,
       "width": 420
      }
     },
     "output_type": "display_data"
    }
   ],
   "source": [
    "missmap(mydata, main = \"Missing values vs Observed\")"
   ]
  },
  {
   "cell_type": "markdown",
   "id": "737119bf-da8c-4007-ad55-1915e46965e3",
   "metadata": {},
   "source": [
    "> **Nhận xét**\n",
    "> * Ko có missing value"
   ]
  },
  {
   "cell_type": "code",
   "execution_count": 9,
   "id": "4379c0f9-7d20-4d14-a5f4-3c852dcc00d9",
   "metadata": {},
   "outputs": [
    {
     "name": "stdout",
     "output_type": "stream",
     "text": [
      "\n",
      "  0   1 \n",
      "273 127 \n"
     ]
    }
   ],
   "source": [
    "print(table(mydata$admit))"
   ]
  },
  {
   "cell_type": "markdown",
   "id": "a35f0ff6-973d-47c3-a504-432587601cc1",
   "metadata": {},
   "source": [
    "> **Nhận xét**\n",
    "> * Các class ko lệch nhiều"
   ]
  },
  {
   "cell_type": "markdown",
   "id": "99d679f5-0ebf-4ff6-96fb-acb4387cc067",
   "metadata": {},
   "source": [
    "## 1.2. Kiểm tra outlier"
   ]
  },
  {
   "cell_type": "code",
   "execution_count": 10,
   "id": "69d544ca-07a8-4d04-8f2c-e8a73b954e70",
   "metadata": {},
   "outputs": [
    {
     "data": {
      "image/png": "[encoded data removed]",
      "text/plain": [
       "Plot with title “rank”"
      ]
     },
     "metadata": {
      "image/png": {
       "height": 420,
       "width": 420
      }
     },
     "output_type": "display_data"
    }
   ],
   "source": [
    "par(mfrow = c(1, 3))\n",
    "boxplot(mydata$gre, main = 'gre',\n",
    "        sub = paste(\"Outlier rows: \", boxplot.stats(mydata$gre)$out))\n",
    "boxplot(mydata$gpa, main = 'gpa',\n",
    "        sub = paste(\"Outlier rows: \", boxplot.stats(mydata$gpa)$out))\n",
    "boxplot(mydata$rank, main = 'rank',\n",
    "        sub = paste(\"Outlier rows: \", boxplot.stats(mydata$rank)$out))"
   ]
  },
  {
   "cell_type": "code",
   "execution_count": null,
   "id": "d221437a-830d-4f85-886e-4ac277c0a7ed",
   "metadata": {},
   "outputs": [],
   "source": []
  },
  {
   "cell_type": "code",
   "execution_count": 11,
   "id": "677c2f59-14e9-4713-b214-daf0d12c25cc",
   "metadata": {},
   "outputs": [],
   "source": [
    "gre_outliers = boxplot.stats(mydata$gre)$out\n",
    "gpa_outliers = boxplot.stats(mydata$gpa)$out\n",
    "\n",
    "mydata = mydata[!(mydata$gre %in% gre_outliers) & !(mydata$gpa %in% gpa_outliers),] "
   ]
  },
  {
   "cell_type": "code",
   "execution_count": 12,
   "id": "0eb886d5-c947-41be-af5f-15c086c229e4",
   "metadata": {},
   "outputs": [
    {
     "data": {
      "text/html": [
       "395"
      ],
      "text/latex": [
       "395"
      ],
      "text/markdown": [
       "395"
      ],
      "text/plain": [
       "[1] 395"
      ]
     },
     "metadata": {},
     "output_type": "display_data"
    }
   ],
   "source": [
    "nrow(mydata)"
   ]
  },
  {
   "cell_type": "code",
   "execution_count": null,
   "id": "b4160718-5f6f-4fcf-ab96-c36ec3fbc3df",
   "metadata": {},
   "outputs": [],
   "source": []
  },
  {
   "cell_type": "markdown",
   "id": "049fac39-c3e6-44e8-9845-b9801b2bc1cd",
   "metadata": {},
   "source": [
    "## 1.3. Tính correlation"
   ]
  },
  {
   "cell_type": "code",
   "execution_count": 13,
   "id": "146f0d50-cd52-44da-8c8d-dc965ef1f8c2",
   "metadata": {},
   "outputs": [
    {
     "name": "stdout",
     "output_type": "stream",
     "text": [
      "            gre         gpa        rank\n",
      "gre   1.0000000  0.35937135 -0.10785090\n",
      "gpa   0.3593714  1.00000000 -0.03994452\n",
      "rank -0.1078509 -0.03994452  1.00000000\n"
     ]
    }
   ],
   "source": [
    "correlations = cor(mydata[, 2:4])\n",
    "\n",
    "print(correlations)"
   ]
  },
  {
   "cell_type": "code",
   "execution_count": 14,
   "id": "fb945fcc-b344-4b14-8c43-91154bd64ea2",
   "metadata": {},
   "outputs": [
    {
     "data": {
      "image/png": "[encoded data removed]",
      "text/plain": [
       "Plot with title “”"
      ]
     },
     "metadata": {
      "image/png": {
       "height": 420,
       "width": 420
      }
     },
     "output_type": "display_data"
    }
   ],
   "source": [
    "corrplot(correlations, method = 'circle')"
   ]
  },
  {
   "cell_type": "markdown",
   "id": "306513e2-9b3c-46d7-a48b-4b97d9284b0b",
   "metadata": {},
   "source": [
    "## 1.4. Tạo training data và test data"
   ]
  },
  {
   "cell_type": "code",
   "execution_count": 15,
   "id": "a5b568d4-634c-4a76-adf1-add167bc457d",
   "metadata": {},
   "outputs": [],
   "source": [
    "n = nrow(mydata)\n",
    "trainIndex = sample(1:n, size = round(0.7 * n), replace = FALSE)\n",
    "train = mydata[trainIndex, ]\n",
    "test = mydata[-trainIndex, ]"
   ]
  },
  {
   "cell_type": "code",
   "execution_count": 16,
   "id": "dd1687f8-54a0-4a97-a092-662037c94220",
   "metadata": {},
   "outputs": [
    {
     "data": {
      "text/html": [
       "276"
      ],
      "text/latex": [
       "276"
      ],
      "text/markdown": [
       "276"
      ],
      "text/plain": [
       "[1] 276"
      ]
     },
     "metadata": {},
     "output_type": "display_data"
    }
   ],
   "source": [
    "nrow(train)"
   ]
  },
  {
   "cell_type": "code",
   "execution_count": 17,
   "id": "7081b8fc-6790-4b09-b24e-1af2a91d2eb5",
   "metadata": {},
   "outputs": [
    {
     "data": {
      "text/html": [
       "119"
      ],
      "text/latex": [
       "119"
      ],
      "text/markdown": [
       "119"
      ],
      "text/plain": [
       "[1] 119"
      ]
     },
     "metadata": {},
     "output_type": "display_data"
    }
   ],
   "source": [
    "nrow(test)"
   ]
  },
  {
   "cell_type": "markdown",
   "id": "4c4b53f6-421b-4567-9514-b2318ae4c140",
   "metadata": {},
   "source": [
    "## 1.5. Build model"
   ]
  },
  {
   "cell_type": "code",
   "execution_count": 18,
   "id": "4de6dcf8-756c-4cd5-bb46-aca1e3d7a959",
   "metadata": {},
   "outputs": [
    {
     "name": "stdout",
     "output_type": "stream",
     "text": [
      "\n",
      "Call:\n",
      "glm(formula = admit ~ gre + gpa + rank, family = \"binomial\", \n",
      "    data = train)\n",
      "\n",
      "Deviance Residuals: \n",
      "    Min       1Q   Median       3Q      Max  \n",
      "-1.5826  -0.8709  -0.5931   1.0918   2.3062  \n",
      "\n",
      "Coefficients:\n",
      "             Estimate Std. Error z value Pr(>|z|)    \n",
      "(Intercept) -2.341271   1.339950  -1.747   0.0806 .  \n",
      "gre          0.002584   0.001336   1.934   0.0531 .  \n",
      "gpa          0.516415   0.378869   1.363   0.1729    \n",
      "rank        -0.736793   0.160265  -4.597 4.28e-06 ***\n",
      "---\n",
      "Signif. codes:  0 ‘***’ 0.001 ‘**’ 0.01 ‘*’ 0.05 ‘.’ 0.1 ‘ ’ 1\n",
      "\n",
      "(Dispersion parameter for binomial family taken to be 1)\n",
      "\n",
      "    Null deviance: 344.01  on 275  degrees of freedom\n",
      "Residual deviance: 311.32  on 272  degrees of freedom\n",
      "AIC: 319.32\n",
      "\n",
      "Number of Fisher Scoring iterations: 4\n",
      "\n"
     ]
    }
   ],
   "source": [
    "mylogit = glm(admit ~ gre + gpa + rank, data = train, family = 'binomial')\n",
    "\n",
    "print(summary(mylogit))"
   ]
  },
  {
   "cell_type": "markdown",
   "id": "3eceab0f-bbfe-4e81-9bbe-c110cdef5bcb",
   "metadata": {},
   "source": [
    "## 1.6. Predict"
   ]
  },
  {
   "cell_type": "code",
   "execution_count": 19,
   "id": "a04f6534-26a6-4e09-bd8e-d23ea85785c6",
   "metadata": {},
   "outputs": [
    {
     "data": {
      "text/html": [
       "<table class=\"dataframe\">\n",
       "<caption>A data.frame: 11 × 2</caption>\n",
       "<thead>\n",
       "\t<tr><th></th><th scope=col>testAdmit</th><th scope=col>pred_value.30.40.</th></tr>\n",
       "\t<tr><th></th><th scope=col>&lt;int&gt;</th><th scope=col>&lt;dbl&gt;</th></tr>\n",
       "</thead>\n",
       "<tbody>\n",
       "\t<tr><th scope=row>100</th><td>0</td><td>0</td></tr>\n",
       "\t<tr><th scope=row>101</th><td>0</td><td>0</td></tr>\n",
       "\t<tr><th scope=row>112</th><td>0</td><td>0</td></tr>\n",
       "\t<tr><th scope=row>113</th><td>0</td><td>0</td></tr>\n",
       "\t<tr><th scope=row>114</th><td>0</td><td>1</td></tr>\n",
       "\t<tr><th scope=row>115</th><td>0</td><td>0</td></tr>\n",
       "\t<tr><th scope=row>117</th><td>1</td><td>0</td></tr>\n",
       "\t<tr><th scope=row>119</th><td>1</td><td>1</td></tr>\n",
       "\t<tr><th scope=row>121</th><td>1</td><td>0</td></tr>\n",
       "\t<tr><th scope=row>125</th><td>0</td><td>0</td></tr>\n",
       "\t<tr><th scope=row>128</th><td>0</td><td>0</td></tr>\n",
       "</tbody>\n",
       "</table>\n"
      ],
      "text/latex": [
       "A data.frame: 11 × 2\n",
       "\\begin{tabular}{r|ll}\n",
       "  & testAdmit & pred\\_value.30.40.\\\\\n",
       "  & <int> & <dbl>\\\\\n",
       "\\hline\n",
       "\t100 & 0 & 0\\\\\n",
       "\t101 & 0 & 0\\\\\n",
       "\t112 & 0 & 0\\\\\n",
       "\t113 & 0 & 0\\\\\n",
       "\t114 & 0 & 1\\\\\n",
       "\t115 & 0 & 0\\\\\n",
       "\t117 & 1 & 0\\\\\n",
       "\t119 & 1 & 1\\\\\n",
       "\t121 & 1 & 0\\\\\n",
       "\t125 & 0 & 0\\\\\n",
       "\t128 & 0 & 0\\\\\n",
       "\\end{tabular}\n"
      ],
      "text/markdown": [
       "\n",
       "A data.frame: 11 × 2\n",
       "\n",
       "| <!--/--> | testAdmit &lt;int&gt; | pred_value.30.40. &lt;dbl&gt; |\n",
       "|---|---|---|\n",
       "| 100 | 0 | 0 |\n",
       "| 101 | 0 | 0 |\n",
       "| 112 | 0 | 0 |\n",
       "| 113 | 0 | 0 |\n",
       "| 114 | 0 | 1 |\n",
       "| 115 | 0 | 0 |\n",
       "| 117 | 1 | 0 |\n",
       "| 119 | 1 | 1 |\n",
       "| 121 | 1 | 0 |\n",
       "| 125 | 0 | 0 |\n",
       "| 128 | 0 | 0 |\n",
       "\n"
      ],
      "text/plain": [
       "    testAdmit pred_value.30.40.\n",
       "100 0         0                \n",
       "101 0         0                \n",
       "112 0         0                \n",
       "113 0         0                \n",
       "114 0         1                \n",
       "115 0         0                \n",
       "117 1         0                \n",
       "119 1         1                \n",
       "121 1         0                \n",
       "125 0         0                \n",
       "128 0         0                "
      ]
     },
     "metadata": {},
     "output_type": "display_data"
    }
   ],
   "source": [
    "pred = predict(mylogit, newdata = test, type = 'response')\n",
    "pred_value = ifelse(pred > 0.5, 1, 0)\n",
    "\n",
    "result = data.frame(testAdmit = test$admit[30:40], pred_value[30:40])\n",
    "\n",
    "result"
   ]
  },
  {
   "cell_type": "markdown",
   "id": "65a4ea5c-bb8b-4b7f-9654-2ce895d214a0",
   "metadata": {},
   "source": [
    "## 1.7. Evaluation"
   ]
  },
  {
   "cell_type": "code",
   "execution_count": 20,
   "id": "b1920c3c-0036-4971-a6c1-091fd18b079c",
   "metadata": {},
   "outputs": [
    {
     "data": {
      "text/html": [
       "0.65546218487395"
      ],
      "text/latex": [
       "0.65546218487395"
      ],
      "text/markdown": [
       "0.65546218487395"
      ],
      "text/plain": [
       "[1] 0.6554622"
      ]
     },
     "metadata": {},
     "output_type": "display_data"
    }
   ],
   "source": [
    "# Solution 1\n",
    "accuracy = table(pred_value, test[, 'admit'])\n",
    "accuracy = sum(diag(accuracy))/sum(accuracy)\n",
    "\n",
    "accuracy"
   ]
  },
  {
   "cell_type": "code",
   "execution_count": null,
   "id": "71c1eac7-6e5d-4732-ac8d-2d36a6674380",
   "metadata": {},
   "outputs": [],
   "source": []
  },
  {
   "cell_type": "code",
   "execution_count": 21,
   "id": "7104b990-a97a-40dc-ae5a-a6ac40c571c4",
   "metadata": {},
   "outputs": [
    {
     "name": "stderr",
     "output_type": "stream",
     "text": [
      "Installing package into ‘/home/manhcuong/R/x86_64-pc-linux-gnu-library/4.1’\n",
      "(as ‘lib’ is unspecified)\n",
      "\n"
     ]
    }
   ],
   "source": [
    "# Solution 2\n",
    "install.packages(\"caret\")"
   ]
  },
  {
   "cell_type": "code",
   "execution_count": 22,
   "id": "02863616-a0a8-4676-912f-005e9e4052b1",
   "metadata": {},
   "outputs": [
    {
     "name": "stderr",
     "output_type": "stream",
     "text": [
      "Loading required package: lattice\n",
      "\n",
      "Loading required package: ggplot2\n",
      "\n"
     ]
    }
   ],
   "source": [
    "library(caret)"
   ]
  },
  {
   "cell_type": "code",
   "execution_count": 23,
   "id": "bed0c74d-0727-476a-8aa2-a37a08a75ddf",
   "metadata": {},
   "outputs": [
    {
     "data": {
      "text/plain": [
       "Confusion Matrix and Statistics\n",
       "\n",
       "          Reference\n",
       "Prediction  0  1\n",
       "         0 69 30\n",
       "         1 11  9\n",
       "                                          \n",
       "               Accuracy : 0.6555          \n",
       "                 95% CI : (0.5628, 0.7402)\n",
       "    No Information Rate : 0.6723          \n",
       "    P-Value [Acc > NIR] : 0.690245        \n",
       "                                          \n",
       "                  Kappa : 0.1066          \n",
       "                                          \n",
       " Mcnemar's Test P-Value : 0.004937        \n",
       "                                          \n",
       "            Sensitivity : 0.8625          \n",
       "            Specificity : 0.2308          \n",
       "         Pos Pred Value : 0.6970          \n",
       "         Neg Pred Value : 0.4500          \n",
       "             Prevalence : 0.6723          \n",
       "         Detection Rate : 0.5798          \n",
       "   Detection Prevalence : 0.8319          \n",
       "      Balanced Accuracy : 0.5466          \n",
       "                                          \n",
       "       'Positive' Class : 0               \n",
       "                                          "
      ]
     },
     "metadata": {},
     "output_type": "display_data"
    }
   ],
   "source": [
    "confusionMatrix(factor(pred_value), factor(test$admit))"
   ]
  },
  {
   "cell_type": "markdown",
   "id": "b4a23dbd-20ec-4cdf-b2b7-098be0f73da6",
   "metadata": {},
   "source": [
    "## 1.8. Dự đoán cho sample mới"
   ]
  },
  {
   "cell_type": "code",
   "execution_count": 24,
   "id": "0c7d2a91-b583-4433-8483-2bdc9db1ce67",
   "metadata": {},
   "outputs": [
    {
     "data": {
      "text/html": [
       "<style>\n",
       ".dl-inline {width: auto; margin:0; padding: 0}\n",
       ".dl-inline>dt, .dl-inline>dd {float: none; width: auto; display: inline-block}\n",
       ".dl-inline>dt::after {content: \":\\0020\"; padding-right: .5ex}\n",
       ".dl-inline>dt:not(:first-of-type) {padding-left: .5ex}\n",
       "</style><dl class=dl-inline><dt>1</dt><dd>0.214685394026748</dd><dt>2</dt><dd>0.741749520922651</dd></dl>\n"
      ],
      "text/latex": [
       "\\begin{description*}\n",
       "\\item[1] 0.214685394026748\n",
       "\\item[2] 0.741749520922651\n",
       "\\end{description*}\n"
      ],
      "text/markdown": [
       "1\n",
       ":   0.2146853940267482\n",
       ":   0.741749520922651\n",
       "\n"
      ],
      "text/plain": [
       "        1         2 \n",
       "0.2146854 0.7417495 "
      ]
     },
     "metadata": {},
     "output_type": "display_data"
    }
   ],
   "source": [
    "y1 = predict(mylogit, newdata = data.frame(gre = c(580, 800),\n",
    "                                           gpa = c(3.4, 4),\n",
    "                                           rank = c(3, 1)), type = 'response')\n",
    "\n",
    "y1"
   ]
  },
  {
   "cell_type": "code",
   "execution_count": 25,
   "id": "40b80c4e-bbe9-4045-8c8f-7436d370056b",
   "metadata": {},
   "outputs": [
    {
     "data": {
      "text/html": [
       "<style>\n",
       ".dl-inline {width: auto; margin:0; padding: 0}\n",
       ".dl-inline>dt, .dl-inline>dd {float: none; width: auto; display: inline-block}\n",
       ".dl-inline>dt::after {content: \":\\0020\"; padding-right: .5ex}\n",
       ".dl-inline>dt:not(:first-of-type) {padding-left: .5ex}\n",
       "</style><dl class=dl-inline><dt>1</dt><dd>0</dd><dt>2</dt><dd>1</dd></dl>\n"
      ],
      "text/latex": [
       "\\begin{description*}\n",
       "\\item[1] 0\n",
       "\\item[2] 1\n",
       "\\end{description*}\n"
      ],
      "text/markdown": [
       "1\n",
       ":   02\n",
       ":   1\n",
       "\n"
      ],
      "text/plain": [
       "1 2 \n",
       "0 1 "
      ]
     },
     "metadata": {},
     "output_type": "display_data"
    }
   ],
   "source": [
    "y1 = ifelse(y1 > 0.5, 1, 0)\n",
    "\n",
    "y1"
   ]
  },
  {
   "cell_type": "code",
   "execution_count": null,
   "id": "20e84d61-0f42-4fea-933e-6099b3c67d87",
   "metadata": {},
   "outputs": [],
   "source": []
  }
 ],
 "metadata": {
  "kernelspec": {
   "display_name": "R",
   "language": "R",
   "name": "ir"
  },
  "language_info": {
   "codemirror_mode": "r",
   "file_extension": ".r",
   "mimetype": "text/x-r-source",
   "name": "R",
   "pygments_lexer": "r",
   "version": "4.1.0"
  }
 },
 "nbformat": 4,
 "nbformat_minor": 5
}
