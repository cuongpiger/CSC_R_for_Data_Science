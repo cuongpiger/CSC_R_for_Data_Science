{
 "cells": [
  {
   "cell_type": "markdown",
   "id": "7ab4d30d-fb82-4b19-91ed-300cd026e0ac",
   "metadata": {},
   "source": [
    "![](images/02_04.png)"
   ]
  },
  {
   "cell_type": "code",
   "execution_count": 1,
   "id": "f0f88b5d-edf8-4499-aac4-d0d746b85b89",
   "metadata": {},
   "outputs": [
    {
     "name": "stdin",
     "output_type": "stream",
     "text": [
      "Enter first string: Duong Manh Cuong\n",
      "Enter second string: dep trai\n",
      "Enter third string: vo sich sieu cap vu tru\n",
      "Enter cutting index: 7\n",
      "Enter searching string: uong\n",
      "Enter replacing string: UONG\n"
     ]
    },
    {
     "name": "stdout",
     "output_type": "stream",
     "text": [
      "[1] \"First string's length: 16\"\n",
      "[1] \"Second string's length: 8\"\n",
      "[1] \"Third string's length: 23\"\n",
      "[1] \"Fourth string: Manh Cuong\"\n",
      "[1] \"Fifth string: Duong M\"\n",
      "[1] \"New string: DUONG Manh CUONG\"\n"
     ]
    }
   ],
   "source": [
    "str1 = readline(\"Enter first string:\")\n",
    "str2 = readline(\"Enter second string:\")\n",
    "str3 = readline(\"Enter third string:\")\n",
    "index = as.integer(readline(\"Enter cutting index:\"))\n",
    "search_str = readline(\"Enter searching string:\")\n",
    "replace_str = readline(\"Enter replacing string:\")\n",
    "\n",
    "print(paste(\"First string's length:\", nchar(str1)))\n",
    "print(paste(\"Second string's length:\", nchar(str2)))\n",
    "print(paste(\"Third string's length:\", nchar(str3)))\n",
    "print(paste(\"Fourth string:\", substring(str1, index)))\n",
    "print(paste(\"Fifth string:\", substring(str1, 1, index)))\n",
    "print(paste(\"New string:\", gsub(search_str, replace_str, str1)))"
   ]
  },
  {
   "cell_type": "code",
   "execution_count": null,
   "id": "baaf60d1-b5e0-42d1-acfc-4ae36257ebf6",
   "metadata": {},
   "outputs": [],
   "source": []
  }
 ],
 "metadata": {
  "kernelspec": {
   "display_name": "R",
   "language": "R",
   "name": "ir"
  },
  "language_info": {
   "codemirror_mode": "r",
   "file_extension": ".r",
   "mimetype": "text/x-r-source",
   "name": "R",
   "pygments_lexer": "r",
   "version": "4.1.0"
  }
 },
 "nbformat": 4,
 "nbformat_minor": 5
}
