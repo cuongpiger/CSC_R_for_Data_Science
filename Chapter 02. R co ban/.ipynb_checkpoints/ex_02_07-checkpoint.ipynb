{
 "cells": [
  {
   "cell_type": "markdown",
   "id": "a3a9f575-619a-439b-b0b8-ab2aa7b787a7",
   "metadata": {},
   "source": [
    "![](images/02_06.png)"
   ]
  },
  {
   "cell_type": "code",
   "execution_count": 2,
   "id": "fdea7b55-4365-41cd-b708-9b5a378e2f77",
   "metadata": {},
   "outputs": [
    {
     "name": "stdin",
     "output_type": "stream",
     "text": [
      "Enter your date: 08-04-1999\n"
     ]
    },
    {
     "name": "stdout",
     "output_type": "stream",
     "text": [
      "[1] \"1999-04-08 is Thursday\"\n",
      "[1] \"7 next days: 1999-04-08, 1999-04-09, 1999-04-10, 1999-04-11, 1999-04-12, 1999-04-13, 1999-04-14\"\n"
     ]
    }
   ],
   "source": [
    "date_str = readline(prompt=\"Enter your date:\")\n",
    "date_date = as.Date(date_str, format(\"%d-%m-%Y\"))\n",
    "\n",
    "if (is.na(date_date)) {\n",
    "    print(paste(\"Occur error!\"))\n",
    "} else {\n",
    "    print(paste(date_date, 'is', weekdays.Date(date_date)))\n",
    "    seven_7_next_days = seq(date_date, length=7, by=1)\n",
    "    print(paste(\"7 next days:\", toString(seven_7_next_days)))\n",
    "}"
   ]
  },
  {
   "cell_type": "code",
   "execution_count": null,
   "id": "8aba79ca-6f50-4a26-8871-2cd0f4b97103",
   "metadata": {},
   "outputs": [],
   "source": []
  }
 ],
 "metadata": {
  "kernelspec": {
   "display_name": "R",
   "language": "R",
   "name": "ir"
  },
  "language_info": {
   "codemirror_mode": "r",
   "file_extension": ".r",
   "mimetype": "text/x-r-source",
   "name": "R",
   "pygments_lexer": "r",
   "version": "4.1.0"
  }
 },
 "nbformat": 4,
 "nbformat_minor": 5
}
