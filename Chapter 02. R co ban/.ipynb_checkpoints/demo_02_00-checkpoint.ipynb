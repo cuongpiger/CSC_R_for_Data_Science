{
 "cells": [
  {
   "cell_type": "markdown",
   "id": "e1f9f40e-3a41-4848-8d47-7b8116f38fdc",
   "metadata": {},
   "source": [
    "# 1. Kiểu dữ liệu"
   ]
  },
  {
   "cell_type": "markdown",
   "id": "6e72a83c-272f-4ed1-b2e6-5e3b75a35a8c",
   "metadata": {},
   "source": [
    "## 1.1. Vector"
   ]
  },
  {
   "cell_type": "code",
   "execution_count": 2,
   "id": "7a698f0f-7b4a-43c1-8ce7-f6582a004db8",
   "metadata": {},
   "outputs": [
    {
     "name": "stdout",
     "output_type": "stream",
     "text": [
      "[1] \"logical\"\n"
     ]
    }
   ],
   "source": [
    "pass = TRUE\n",
    "\n",
    "print(class(pass))"
   ]
  },
  {
   "cell_type": "code",
   "execution_count": 3,
   "id": "159b6485-d776-4a5a-b269-09b85e4c0f5f",
   "metadata": {},
   "outputs": [
    {
     "name": "stdout",
     "output_type": "stream",
     "text": [
      "[1] \"numeric\"\n"
     ]
    }
   ],
   "source": [
    "a = 12.3\n",
    "b = 150\n",
    "\n",
    "print(class(a))"
   ]
  },
  {
   "cell_type": "code",
   "execution_count": 4,
   "id": "0e9dbb72-33fe-4a95-b371-0c5b5a3e5515",
   "metadata": {},
   "outputs": [
    {
     "name": "stdout",
     "output_type": "stream",
     "text": [
      "[1] \"integer\"\n"
     ]
    }
   ],
   "source": [
    "c = 2L\n",
    "\n",
    "print(class(c))"
   ]
  },
  {
   "cell_type": "code",
   "execution_count": 5,
   "id": "2f9ab56b-1309-41df-b17a-a6c17d5e2602",
   "metadata": {},
   "outputs": [
    {
     "name": "stdout",
     "output_type": "stream",
     "text": [
      "[1] \"character\"\n"
     ]
    }
   ],
   "source": [
    "ki_tu = 'a'\n",
    "\n",
    "print(class(ki_tu))"
   ]
  },
  {
   "cell_type": "code",
   "execution_count": 12,
   "id": "8fc73a99-251b-419f-b029-ef9aed20c0b9",
   "metadata": {},
   "outputs": [
    {
     "name": "stdout",
     "output_type": "stream",
     "text": [
      "[1] \"character\"\n"
     ]
    }
   ],
   "source": [
    "ki_tu_1 = \"Dương Mạnh Cường\"\n",
    "\n",
    "print(class(ki_tu_1))"
   ]
  },
  {
   "cell_type": "code",
   "execution_count": null,
   "id": "1c6986de-93a6-4eaf-a1f3-ad341c086834",
   "metadata": {},
   "outputs": [],
   "source": []
  },
  {
   "cell_type": "code",
   "execution_count": 14,
   "id": "4eebb926-d667-4011-9454-15cbfbb1bc25",
   "metadata": {},
   "outputs": [
    {
     "name": "stdout",
     "output_type": "stream",
     "text": [
      "[1] \"character\"\n"
     ]
    }
   ],
   "source": [
    "fruits = c(\"apple\", \"pear\", \"orange\", \"banana\")\n",
    "\n",
    "print(class(fruits))"
   ]
  },
  {
   "cell_type": "markdown",
   "id": "d3699271-07f0-469c-a7c4-044d5d74cb86",
   "metadata": {},
   "source": [
    "## 1.2. Factor\n",
    "* Giống với `set()` của python"
   ]
  },
  {
   "cell_type": "code",
   "execution_count": 17,
   "id": "3bd09742-9d1e-4d4b-884b-7bfc2edcd8f5",
   "metadata": {},
   "outputs": [
    {
     "name": "stdout",
     "output_type": "stream",
     "text": [
      "[1] green  green  yellow red    red    red    green  white \n",
      "Levels: green red white yellow\n",
      "[1] \"_____________________\"\n",
      "[1] 4\n"
     ]
    }
   ],
   "source": [
    "# create a vector\n",
    "apple_colors = c(\"green\", \"green\", \"yellow\", \"red\", \"red\", \"red\", \"green\", \"white\")\n",
    "# create a factor\n",
    "factor_apple = factor(apple_colors)\n",
    "\n",
    "print(factor_apple)\n",
    "print(\"_____________________\")\n",
    "print(nlevels(factor_apple))"
   ]
  },
  {
   "cell_type": "markdown",
   "id": "035ff7fa-1f9d-49b9-9a9c-b08b1e213457",
   "metadata": {},
   "source": [
    "## 1.3. List"
   ]
  },
  {
   "cell_type": "code",
   "execution_count": 21,
   "id": "a3a151c0-3da3-486f-87d3-decd2f20dd44",
   "metadata": {},
   "outputs": [
    {
     "name": "stdout",
     "output_type": "stream",
     "text": [
      "[[1]]\n",
      "[1] 2 5 3\n",
      "\n",
      "[[2]]\n",
      "[1] 21.3\n",
      "\n",
      "[[3]]\n",
      "[1] \"spring\"\n",
      "\n"
     ]
    }
   ],
   "source": [
    "list1 = list(c(2, 5, 3), 21.3, \"spring\")\n",
    "\n",
    "print(list1)"
   ]
  },
  {
   "cell_type": "markdown",
   "id": "3194de18-a03d-47d1-8978-a361d8129fe1",
   "metadata": {},
   "source": [
    "## 1.4. Matrix"
   ]
  },
  {
   "cell_type": "code",
   "execution_count": 23,
   "id": "8b46c0a4-7e2c-4fd5-aef2-28ec3dfadc10",
   "metadata": {},
   "outputs": [
    {
     "name": "stdout",
     "output_type": "stream",
     "text": [
      "     [,1] [,2] [,3] [,4]\n",
      "[1,]    1    2    3    4\n",
      "[2,]    5    6    7    8\n"
     ]
    }
   ],
   "source": [
    "M = matrix(c(1, 2, 3, 4, 5, 6, 7, 8), nrow=2, ncol=4, byrow=TRUE)\n",
    "\n",
    "print(M)"
   ]
  },
  {
   "cell_type": "code",
   "execution_count": 24,
   "id": "ee6c31ea-85e9-41f2-a5fe-659a77b947f2",
   "metadata": {},
   "outputs": [
    {
     "name": "stdout",
     "output_type": "stream",
     "text": [
      "     [,1] [,2] [,3]\n",
      "[1,]    1    4    7\n",
      "[2,]    2    5    8\n",
      "[3,]    3    6    9\n"
     ]
    }
   ],
   "source": [
    "M2 = matrix(c(1, 2, 3, 4, 5, 6, 7, 8, 9), nrow=3)\n",
    "\n",
    "print(M2)"
   ]
  },
  {
   "cell_type": "markdown",
   "id": "2160f015-c023-40ef-9ee2-f986e9ac1fda",
   "metadata": {},
   "source": [
    "## 1.5. Array"
   ]
  },
  {
   "cell_type": "code",
   "execution_count": 25,
   "id": "bf5faf03-a643-4171-844c-8ef632be71dc",
   "metadata": {},
   "outputs": [
    {
     "name": "stdout",
     "output_type": "stream",
     "text": [
      ", , 1\n",
      "\n",
      "     [,1]     [,2]     [,3]    \n",
      "[1,] \"red\"    \"red\"    \"red\"   \n",
      "[2,] \"green\"  \"green\"  \"green\" \n",
      "[3,] \"yellow\" \"yellow\" \"yellow\"\n",
      "\n",
      ", , 2\n",
      "\n",
      "     [,1]     [,2]     [,3]    \n",
      "[1,] \"red\"    \"red\"    \"red\"   \n",
      "[2,] \"green\"  \"green\"  \"green\" \n",
      "[3,] \"yellow\" \"yellow\" \"yellow\"\n",
      "\n"
     ]
    }
   ],
   "source": [
    "a = array(c(\"red\", \"green\", \"yellow\"), dim=c(3, 3, 2))\n",
    "\n",
    "print(a)"
   ]
  },
  {
   "cell_type": "markdown",
   "id": "7ebe3b6b-684f-41ff-9656-61276e62454d",
   "metadata": {},
   "source": [
    "## 1.6. Dataframe"
   ]
  },
  {
   "cell_type": "code",
   "execution_count": 26,
   "id": "37d9a77f-c694-4170-b831-35fa6e2e838c",
   "metadata": {},
   "outputs": [
    {
     "name": "stdout",
     "output_type": "stream",
     "text": [
      "  gender height weight age\n",
      "1   Male  152.0     81  42\n",
      "2   Male  171.5     93  38\n",
      "3 Female  165.0     78  26\n"
     ]
    }
   ],
   "source": [
    "BMI = data.frame(gender=c(\"Male\", \"Male\", \"Female\"),\n",
    "                height=c(152, 171.5, 165),\n",
    "                weight=c(81, 93, 78),\n",
    "                age=c(42, 38, 26))\n",
    "\n",
    "print(BMI)"
   ]
  },
  {
   "cell_type": "markdown",
   "id": "490a8888-2c03-490f-86ac-279fb6f3f451",
   "metadata": {},
   "source": [
    "# 2. Biến"
   ]
  },
  {
   "cell_type": "code",
   "execution_count": 27,
   "id": "99243545-c9b4-43a3-bdb0-d266c07feed7",
   "metadata": {},
   "outputs": [
    {
     "name": "stdout",
     "output_type": "stream",
     "text": [
      "[1] \"red\"   \"green\" \"blue\" \n"
     ]
    }
   ],
   "source": [
    "# cách 1\n",
    "colors = c(\"red\", \"green\", \"blue\")\n",
    "\n",
    "print(colors)"
   ]
  },
  {
   "cell_type": "code",
   "execution_count": 28,
   "id": "d65fe52d-fda8-47e1-a21c-d78f3e070eab",
   "metadata": {},
   "outputs": [
    {
     "name": "stdout",
     "output_type": "stream",
     "text": [
      "[1] 10.0 15.5  7.0\n"
     ]
    }
   ],
   "source": [
    "# cách 2\n",
    "numbers = c(10, 15.5, 7)\n",
    "\n",
    "print(numbers)"
   ]
  },
  {
   "cell_type": "code",
   "execution_count": 29,
   "id": "51e78541-67b3-4218-98ce-9a752fd63d13",
   "metadata": {},
   "outputs": [
    {
     "name": "stdout",
     "output_type": "stream",
     "text": [
      "[1]  TRUE FALSE  TRUE  TRUE\n"
     ]
    }
   ],
   "source": [
    "c(TRUE, FALSE, TRUE, TRUE) -> pass\n",
    "\n",
    "print(pass)"
   ]
  },
  {
   "cell_type": "code",
   "execution_count": null,
   "id": "1406a6f9-0b56-4fb1-97a3-310897c0f8ab",
   "metadata": {},
   "outputs": [],
   "source": []
  },
  {
   "cell_type": "code",
   "execution_count": 30,
   "id": "238524b8-5de2-4619-a555-9455ee691b76",
   "metadata": {},
   "outputs": [
    {
     "data": {
      "text/html": [
       "\n",
       "<table width=\"100%\" summary=\"page for Reserved {base}\"><tr><td>Reserved {base}</td><td style=\"text-align: right;\">R Documentation</td></tr></table>\n",
       "\n",
       "<h2>Reserved Words in R</h2>\n",
       "\n",
       "<h3>Description</h3>\n",
       "\n",
       "<p>The reserved words in <span style=\"font-family: Courier New, Courier; color: #666666;\"><b>R</b></span>'s parser are\n",
       "</p>\n",
       "<p><code>if</code> <code>else</code> <code>repeat</code> <code>while</code>\n",
       "<code>function</code> <code>for</code> <code>in</code>\n",
       "<code>next</code> <code>break</code>\n",
       "</p>\n",
       "<p><code>TRUE</code> <code>FALSE</code> <code>NULL</code>\n",
       "<code>Inf</code> <code>NaN</code>\n",
       "<code>NA</code> <code>NA_integer_</code> <code>NA_real_</code>\n",
       "<code>NA_complex_</code> <code>NA_character_</code>\n",
       "</p>\n",
       "<p><code>...</code> and <code>..1</code>, <code>..2</code> etc, which are used to refer to\n",
       "arguments passed down from a calling function, see <code>...</code>.\n",
       "</p>\n",
       "\n",
       "\n",
       "<h3>Details</h3>\n",
       "\n",
       "<p>Reserved words outside quotes are always parsed to be\n",
       "references to the objects linked to in the &lsquo;Description&rsquo;, and\n",
       "hence they are not allowed as syntactic names (see\n",
       "<code>make.names</code>).  They <b>are</b> allowed as non-syntactic\n",
       "names, e.g. inside backtick quotes.\n",
       "</p>\n",
       "\n",
       "<hr /><div style=\"text-align: center;\">[Package <em>base</em> version 4.1.0 ]</div>"
      ],
      "text/latex": [
       "\\inputencoding{utf8}\n",
       "\\HeaderA{Reserved}{Reserved Words in R}{Reserved}\n",
       "\\aliasA{reserved}{Reserved}{reserved}\n",
       "\\keyword{programming}{Reserved}\n",
       "\\keyword{documentation}{Reserved}\n",
       "%\n",
       "\\begin{Description}\\relax\n",
       "The reserved words in \\R{}'s parser are\n",
       "\n",
       "\\code{\\LinkA{if}{if}} \\code{\\LinkA{else}{else}} \\code{\\LinkA{repeat}{repeat}} \\code{\\LinkA{while}{while}}\n",
       "\\code{\\LinkA{function}{function}} \\code{\\LinkA{for}{for}} \\code{in}\n",
       "\\code{\\LinkA{next}{next}} \\code{\\LinkA{break}{break}}\n",
       "\n",
       "\\code{\\LinkA{TRUE}{TRUE}} \\code{\\LinkA{FALSE}{FALSE}} \\code{\\LinkA{NULL}{NULL}}\n",
       "\\code{\\LinkA{Inf}{Inf}} \\code{\\LinkA{NaN}{NaN}}\n",
       "\\code{\\LinkA{NA}{NA}} \\code{\\LinkA{NA\\_integer\\_}{NA.Rul.integer.Rul.}} \\code{\\LinkA{NA\\_real\\_}{NA.Rul.real.Rul.}}\n",
       "\\code{\\LinkA{NA\\_complex\\_}{NA.Rul.complex.Rul.}} \\code{\\LinkA{NA\\_character\\_}{NA.Rul.character.Rul.}}\n",
       "\n",
       "\\code{...} and \\code{..1}, \\code{..2} etc, which are used to refer to\n",
       "arguments passed down from a calling function, see \\code{\\LinkA{...}{...}}.\n",
       "\\end{Description}\n",
       "%\n",
       "\\begin{Details}\\relax\n",
       "Reserved words outside \\LinkA{quotes}{Quotes} are always parsed to be\n",
       "references to the objects linked to in the `Description', and\n",
       "hence they are not allowed as syntactic names (see\n",
       "\\code{\\LinkA{make.names}{make.names}}).  They \\bold{are} allowed as non-syntactic\n",
       "names, e.g.~inside \\LinkA{backtick}{backtick} quotes.\n",
       "\\end{Details}"
      ],
      "text/plain": [
       "Reserved                 package:base                  R Documentation\n",
       "\n",
       "_\bR_\be_\bs_\be_\br_\bv_\be_\bd _\bW_\bo_\br_\bd_\bs _\bi_\bn _\bR\n",
       "\n",
       "_\bD_\be_\bs_\bc_\br_\bi_\bp_\bt_\bi_\bo_\bn:\n",
       "\n",
       "     The reserved words in R's parser are\n",
       "\n",
       "     ‘if’ ‘else’ ‘repeat’ ‘while’ ‘function’ ‘for’ ‘in’ ‘next’ ‘break’\n",
       "\n",
       "     ‘TRUE’ ‘FALSE’ ‘NULL’ ‘Inf’ ‘NaN’ ‘NA’ ‘NA_integer_’ ‘NA_real_’\n",
       "     ‘NA_complex_’ ‘NA_character_’\n",
       "\n",
       "     ‘...’ and ‘..1’, ‘..2’ etc, which are used to refer to arguments\n",
       "     passed down from a calling function, see ‘...’.\n",
       "\n",
       "_\bD_\be_\bt_\ba_\bi_\bl_\bs:\n",
       "\n",
       "     Reserved words outside quotes are always parsed to be references\n",
       "     to the objects linked to in the ‘Description’, and hence they are\n",
       "     not allowed as syntactic names (see ‘make.names’).  They *are*\n",
       "     allowed as non-syntactic names, e.g. inside backtick quotes.\n"
      ]
     },
     "metadata": {},
     "output_type": "display_data"
    }
   ],
   "source": [
    "?reserved"
   ]
  },
  {
   "cell_type": "markdown",
   "id": "274d7377-365c-474d-9b0e-3a75a4bd98f1",
   "metadata": {},
   "source": [
    "🐣 In ra danh sách tất cả các biến đã khai báo"
   ]
  },
  {
   "cell_type": "code",
   "execution_count": 31,
   "id": "47da4f51-bc53-4d71-a522-d156b127d584",
   "metadata": {},
   "outputs": [
    {
     "data": {
      "text/html": [
       "<style>\n",
       ".list-inline {list-style: none; margin:0; padding: 0}\n",
       ".list-inline>li {display: inline-block}\n",
       ".list-inline>li:not(:last-child)::after {content: \"\\00b7\"; padding: 0 .5ex}\n",
       "</style>\n",
       "<ol class=list-inline><li>'a'</li><li>'apple_colors'</li><li>'b'</li><li>'BMI'</li><li>'c'</li><li>'colors'</li><li>'factor_apple'</li><li>'fruits'</li><li>'ki_tu'</li><li>'ki_tu_1'</li><li>'list1'</li><li>'M'</li><li>'M2'</li><li>'numbers'</li><li>'pass'</li></ol>\n"
      ],
      "text/latex": [
       "\\begin{enumerate*}\n",
       "\\item 'a'\n",
       "\\item 'apple\\_colors'\n",
       "\\item 'b'\n",
       "\\item 'BMI'\n",
       "\\item 'c'\n",
       "\\item 'colors'\n",
       "\\item 'factor\\_apple'\n",
       "\\item 'fruits'\n",
       "\\item 'ki\\_tu'\n",
       "\\item 'ki\\_tu\\_1'\n",
       "\\item 'list1'\n",
       "\\item 'M'\n",
       "\\item 'M2'\n",
       "\\item 'numbers'\n",
       "\\item 'pass'\n",
       "\\end{enumerate*}\n"
      ],
      "text/markdown": [
       "1. 'a'\n",
       "2. 'apple_colors'\n",
       "3. 'b'\n",
       "4. 'BMI'\n",
       "5. 'c'\n",
       "6. 'colors'\n",
       "7. 'factor_apple'\n",
       "8. 'fruits'\n",
       "9. 'ki_tu'\n",
       "10. 'ki_tu_1'\n",
       "11. 'list1'\n",
       "12. 'M'\n",
       "13. 'M2'\n",
       "14. 'numbers'\n",
       "15. 'pass'\n",
       "\n",
       "\n"
      ],
      "text/plain": [
       " [1] \"a\"            \"apple_colors\" \"b\"            \"BMI\"          \"c\"           \n",
       " [6] \"colors\"       \"factor_apple\" \"fruits\"       \"ki_tu\"        \"ki_tu_1\"     \n",
       "[11] \"list1\"        \"M\"            \"M2\"           \"numbers\"      \"pass\"        "
      ]
     },
     "metadata": {},
     "output_type": "display_data"
    }
   ],
   "source": [
    "ls()"
   ]
  },
  {
   "cell_type": "code",
   "execution_count": 33,
   "id": "f705077e-a6e6-4571-9af0-8785afe57606",
   "metadata": {},
   "outputs": [
    {
     "name": "stdout",
     "output_type": "stream",
     "text": [
      " [1] \"a\"            \"apple_colors\" \"b\"            \"BMI\"          \"c\"           \n",
      " [6] \"colors\"       \"factor_apple\" \"fruits\"       \"ki_tu\"        \"ki_tu_1\"     \n",
      "[11] \"list1\"        \"M\"            \"M2\"           \"numbers\"      \"pass\"        \n"
     ]
    }
   ],
   "source": [
    "print(ls())"
   ]
  },
  {
   "cell_type": "markdown",
   "id": "fec7cdd8-5f43-49e2-8649-87440e80b4c5",
   "metadata": {},
   "source": [
    "# 3. Toán tử"
   ]
  },
  {
   "cell_type": "markdown",
   "id": "177b9360-2b60-4cc6-939d-6e1e0f295e48",
   "metadata": {},
   "source": [
    "### Toán tử cộng"
   ]
  },
  {
   "cell_type": "code",
   "execution_count": 34,
   "id": "4b5d84c7-40ba-453b-bcd3-e0094ff9bf5b",
   "metadata": {},
   "outputs": [
    {
     "name": "stdout",
     "output_type": "stream",
     "text": [
      "[1] 10.0  8.5 10.0\n"
     ]
    }
   ],
   "source": [
    "v = c(2, 5.5, 6)\n",
    "t = c(8, 3, 4)\n",
    "\n",
    "print(v + t)"
   ]
  },
  {
   "cell_type": "markdown",
   "id": "e06828e8-45f2-4873-a5d7-a7a3796bed9e",
   "metadata": {},
   "source": [
    "### Toán tử trừ"
   ]
  },
  {
   "cell_type": "code",
   "execution_count": 35,
   "id": "94fb5109-c455-4920-9766-ceb2b7bac10a",
   "metadata": {},
   "outputs": [
    {
     "name": "stdout",
     "output_type": "stream",
     "text": [
      "[1] -6.0  2.5  2.0\n"
     ]
    }
   ],
   "source": [
    "print(v - t)"
   ]
  },
  {
   "cell_type": "markdown",
   "id": "755c3f1a-f260-4ff9-8ca7-92b76d82a83a",
   "metadata": {},
   "source": [
    "### Toán tử nhân"
   ]
  },
  {
   "cell_type": "code",
   "execution_count": 36,
   "id": "9e82e3f6-2396-493f-9b09-a28960512d66",
   "metadata": {},
   "outputs": [
    {
     "name": "stdout",
     "output_type": "stream",
     "text": [
      "[1] 16.0 16.5 24.0\n"
     ]
    }
   ],
   "source": [
    "print(v * t)"
   ]
  },
  {
   "cell_type": "markdown",
   "id": "a6d5b85c-d2cb-4ba1-98eb-0dbb4b431ca3",
   "metadata": {},
   "source": [
    "### Toán tử chia"
   ]
  },
  {
   "cell_type": "code",
   "execution_count": 37,
   "id": "14aa502d-d6fa-4074-adf4-d1ead287677f",
   "metadata": {},
   "outputs": [
    {
     "name": "stdout",
     "output_type": "stream",
     "text": [
      "[1] 0.250000 1.833333 1.500000\n"
     ]
    }
   ],
   "source": [
    "print( v / t)"
   ]
  },
  {
   "cell_type": "markdown",
   "id": "3f4916e4-c83d-4df7-ab66-cc071f2c74e8",
   "metadata": {},
   "source": [
    "### Toán tử chia lấy dư"
   ]
  },
  {
   "cell_type": "code",
   "execution_count": 38,
   "id": "4817fe3c-1b32-41c8-b828-615fc42b4fff",
   "metadata": {},
   "outputs": [
    {
     "name": "stdout",
     "output_type": "stream",
     "text": [
      "[1] 2.0 2.5 2.0\n"
     ]
    }
   ],
   "source": [
    "print(v %% t)"
   ]
  },
  {
   "cell_type": "markdown",
   "id": "f3149bbf-7680-40d9-bfbb-8e78e03cb744",
   "metadata": {},
   "source": [
    "### Toán tử chia lấy nguyên"
   ]
  },
  {
   "cell_type": "code",
   "execution_count": 39,
   "id": "e8d3959c-a95a-4d6a-b6fa-69770f0f9753",
   "metadata": {},
   "outputs": [
    {
     "name": "stdout",
     "output_type": "stream",
     "text": [
      "[1] 0 1 1\n"
     ]
    }
   ],
   "source": [
    "print(v %/% t)"
   ]
  },
  {
   "cell_type": "markdown",
   "id": "8d441740-cec5-43f8-928b-8f014174de5f",
   "metadata": {},
   "source": [
    "### Toán tử mũ"
   ]
  },
  {
   "cell_type": "code",
   "execution_count": 40,
   "id": "008ab057-e2ce-41fd-9cb7-2e2105f38db4",
   "metadata": {},
   "outputs": [
    {
     "name": "stdout",
     "output_type": "stream",
     "text": [
      "[1]  256.000  166.375 1296.000\n"
     ]
    }
   ],
   "source": [
    "print(v^t)"
   ]
  },
  {
   "cell_type": "markdown",
   "id": "6f1517cd-c9a3-49e0-a162-9fc4764c1bdd",
   "metadata": {},
   "source": [
    "### Toán tử quan hệ"
   ]
  },
  {
   "cell_type": "code",
   "execution_count": 41,
   "id": "da792c1b-52f7-4515-b256-880e43e2ae1e",
   "metadata": {},
   "outputs": [],
   "source": [
    "v = c(2, 5.5, 6, 7)\n",
    "t = c(8, 3, 4, 7)"
   ]
  },
  {
   "cell_type": "code",
   "execution_count": 43,
   "id": "0ae846b6-ca96-4977-ac76-c6923eb2001f",
   "metadata": {},
   "outputs": [
    {
     "name": "stdout",
     "output_type": "stream",
     "text": [
      "[1] FALSE  TRUE  TRUE FALSE\n"
     ]
    }
   ],
   "source": [
    "print(v > t)"
   ]
  },
  {
   "cell_type": "code",
   "execution_count": 44,
   "id": "e0a75d58-aa8a-4a10-ab3e-e6f2d13c6b0f",
   "metadata": {},
   "outputs": [
    {
     "name": "stdout",
     "output_type": "stream",
     "text": [
      "[1]  TRUE FALSE FALSE FALSE\n"
     ]
    }
   ],
   "source": [
    "print(v < t)"
   ]
  },
  {
   "cell_type": "code",
   "execution_count": 45,
   "id": "b762386c-7334-49cc-8454-dbaa995ca07d",
   "metadata": {},
   "outputs": [
    {
     "name": "stdout",
     "output_type": "stream",
     "text": [
      "[1] FALSE FALSE FALSE  TRUE\n"
     ]
    }
   ],
   "source": [
    "print(v == t)"
   ]
  },
  {
   "cell_type": "code",
   "execution_count": 46,
   "id": "51ae84e4-734a-4494-af11-e1610588f737",
   "metadata": {},
   "outputs": [
    {
     "name": "stdout",
     "output_type": "stream",
     "text": [
      "[1] FALSE  TRUE  TRUE  TRUE\n"
     ]
    }
   ],
   "source": [
    "print(v >= t)"
   ]
  },
  {
   "cell_type": "code",
   "execution_count": 47,
   "id": "92161795-e509-4674-8d3d-325c18d69030",
   "metadata": {},
   "outputs": [
    {
     "name": "stdout",
     "output_type": "stream",
     "text": [
      "[1]  TRUE FALSE FALSE  TRUE\n"
     ]
    }
   ],
   "source": [
    "print(v <= t)"
   ]
  },
  {
   "cell_type": "code",
   "execution_count": 48,
   "id": "9336f61f-f412-485b-af38-840f288862cf",
   "metadata": {},
   "outputs": [
    {
     "name": "stdout",
     "output_type": "stream",
     "text": [
      "[1]  TRUE  TRUE  TRUE FALSE\n"
     ]
    }
   ],
   "source": [
    "print(v != t)"
   ]
  },
  {
   "cell_type": "markdown",
   "id": "45088b20-4bb2-47e0-835b-e32af3811584",
   "metadata": {},
   "source": [
    "### Toán tử logic"
   ]
  },
  {
   "cell_type": "code",
   "execution_count": 49,
   "id": "16dfc376-f79f-4135-9369-27b844d04d55",
   "metadata": {},
   "outputs": [],
   "source": [
    "v = c(3, 1, TRUE, 0)\n",
    "t = c(4, 1, FALSE, 2)"
   ]
  },
  {
   "cell_type": "code",
   "execution_count": 50,
   "id": "7d367a71-e2fc-446f-bee5-31e77901ace5",
   "metadata": {},
   "outputs": [
    {
     "name": "stdout",
     "output_type": "stream",
     "text": [
      "[1]  TRUE  TRUE FALSE FALSE\n"
     ]
    }
   ],
   "source": [
    "print(v & t)"
   ]
  },
  {
   "cell_type": "code",
   "execution_count": 52,
   "id": "c3db28be-cb42-46dc-8a0b-6dd81b82f285",
   "metadata": {},
   "outputs": [
    {
     "name": "stdout",
     "output_type": "stream",
     "text": [
      "[1] TRUE TRUE TRUE TRUE\n"
     ]
    }
   ],
   "source": [
    "print(v | t)"
   ]
  },
  {
   "cell_type": "code",
   "execution_count": 53,
   "id": "9780abef-6d83-4ecc-a12b-e7c7669b4119",
   "metadata": {},
   "outputs": [
    {
     "name": "stdout",
     "output_type": "stream",
     "text": [
      "[1] FALSE FALSE FALSE  TRUE\n"
     ]
    }
   ],
   "source": [
    "print(!v)"
   ]
  },
  {
   "cell_type": "code",
   "execution_count": 54,
   "id": "2aad9c2c-2b2d-4eec-b76a-fd9ddae3ff3a",
   "metadata": {},
   "outputs": [
    {
     "name": "stdout",
     "output_type": "stream",
     "text": [
      "[1]  TRUE  TRUE  TRUE FALSE\n"
     ]
    }
   ],
   "source": [
    "print(!!v)"
   ]
  },
  {
   "cell_type": "code",
   "execution_count": null,
   "id": "fdc6ae23-39f8-446d-96d7-73aac32aa8f7",
   "metadata": {},
   "outputs": [],
   "source": []
  },
  {
   "cell_type": "code",
   "execution_count": 57,
   "id": "f71a6578-b5a6-458f-9082-465c84fc8b5d",
   "metadata": {},
   "outputs": [],
   "source": [
    "v = c(FALSE, 1, TRUE, 0)\n",
    "t = c(4, 1, FALSE, 2)"
   ]
  },
  {
   "cell_type": "code",
   "execution_count": 58,
   "id": "964058bf-34c3-42d7-9dfb-5c1e233263d1",
   "metadata": {},
   "outputs": [
    {
     "name": "stdout",
     "output_type": "stream",
     "text": [
      "[1] FALSE\n"
     ]
    }
   ],
   "source": [
    "print(v && t)"
   ]
  },
  {
   "cell_type": "code",
   "execution_count": 59,
   "id": "191a8653-f5e2-4b82-be08-e8f62173dddf",
   "metadata": {},
   "outputs": [
    {
     "name": "stdout",
     "output_type": "stream",
     "text": [
      "[1] TRUE\n"
     ]
    }
   ],
   "source": [
    "print(v || t)"
   ]
  },
  {
   "cell_type": "markdown",
   "id": "c872818b-a9f4-4cf3-a3b8-78d5c33a097f",
   "metadata": {},
   "source": [
    "### Các toán tử khác"
   ]
  },
  {
   "cell_type": "code",
   "execution_count": 60,
   "id": "fa0ab872-94d6-4052-ba16-379405f2b8a9",
   "metadata": {},
   "outputs": [
    {
     "name": "stdout",
     "output_type": "stream",
     "text": [
      " [1]  1  2  3  4  5  6  7  8  9 10\n"
     ]
    }
   ],
   "source": [
    "v = 1:10\n",
    "\n",
    "print(v)"
   ]
  },
  {
   "cell_type": "code",
   "execution_count": 61,
   "id": "b82f361f-35f0-49d7-aea4-4037b68b8eee",
   "metadata": {},
   "outputs": [
    {
     "name": "stdout",
     "output_type": "stream",
     "text": [
      "[1] TRUE\n"
     ]
    }
   ],
   "source": [
    "v1 = 8\n",
    "v2 = 12\n",
    "v = c(2, 4, 3, 8, 9, 11)\n",
    "\n",
    "print(v1 %in% v)"
   ]
  },
  {
   "cell_type": "code",
   "execution_count": 62,
   "id": "ae72c7ed-0d4e-42fa-b476-bd6c6f8a1051",
   "metadata": {},
   "outputs": [
    {
     "name": "stdout",
     "output_type": "stream",
     "text": [
      "[1] FALSE\n"
     ]
    }
   ],
   "source": [
    "print(v2 %in% v)"
   ]
  },
  {
   "cell_type": "markdown",
   "id": "2b50bd72-f733-4e0d-b104-23c1432b1998",
   "metadata": {},
   "source": [
    "### Tích vô hướng"
   ]
  },
  {
   "cell_type": "code",
   "execution_count": 64,
   "id": "4293ac8e-eb36-4636-831e-02cee5a4bb0a",
   "metadata": {},
   "outputs": [
    {
     "name": "stdout",
     "output_type": "stream",
     "text": [
      "     [,1] [,2] [,3]\n",
      "[1,]    1    1    1\n",
      "[2,]    2    2    2\n"
     ]
    }
   ],
   "source": [
    "M = matrix(c(1, 1, 1, 2, 2, 2), nrow=2, ncol=3, byrow=TRUE)\n",
    "print(M)"
   ]
  },
  {
   "cell_type": "markdown",
   "id": "4f077429-bc91-43f9-b8c1-7bb54e69ba75",
   "metadata": {},
   "source": [
    "🐣 Chuyển vị"
   ]
  },
  {
   "cell_type": "code",
   "execution_count": 65,
   "id": "eb730b95-f4ce-42c1-a074-4933655f7a3d",
   "metadata": {},
   "outputs": [
    {
     "name": "stdout",
     "output_type": "stream",
     "text": [
      "     [,1] [,2]\n",
      "[1,]    1    2\n",
      "[2,]    1    2\n",
      "[3,]    1    2\n"
     ]
    }
   ],
   "source": [
    "print(t(M))"
   ]
  },
  {
   "cell_type": "code",
   "execution_count": 66,
   "id": "3114c64f-ab71-4f52-8777-bd0998380b5f",
   "metadata": {},
   "outputs": [
    {
     "name": "stdout",
     "output_type": "stream",
     "text": [
      "     [,1] [,2]\n",
      "[1,]    3    6\n",
      "[2,]    6   12\n"
     ]
    }
   ],
   "source": [
    "t = M %*% t(M)\n",
    "\n",
    "print(t)"
   ]
  },
  {
   "cell_type": "markdown",
   "id": "ce19beb8-19ff-4f29-be0f-56c6d105f32f",
   "metadata": {},
   "source": [
    "# 4. Nhập xuất trong R"
   ]
  },
  {
   "cell_type": "markdown",
   "id": "9aa72328-10d1-4774-b4fe-28c10d6e8ed2",
   "metadata": {},
   "source": [
    "## 4.1. Nhập"
   ]
  },
  {
   "cell_type": "code",
   "execution_count": 67,
   "id": "088cbc65-cc0e-45d9-8966-2382027d6281",
   "metadata": {},
   "outputs": [
    {
     "name": "stdin",
     "output_type": "stream",
     "text": [
      "Enter name:  Dương Mạnh Cường\n"
     ]
    }
   ],
   "source": [
    "name = readline(prompt=\"Enter name: \")"
   ]
  },
  {
   "cell_type": "code",
   "execution_count": 68,
   "id": "d2f78a53-cab5-4d0d-b9b0-bb7276c8bd57",
   "metadata": {},
   "outputs": [
    {
     "name": "stdin",
     "output_type": "stream",
     "text": [
      "Enter age:  22\n"
     ]
    }
   ],
   "source": [
    "age = readline(prompt=\"Enter age: \")"
   ]
  },
  {
   "cell_type": "code",
   "execution_count": 69,
   "id": "849547fe-d3f2-4794-8e48-db0cdd5841a2",
   "metadata": {},
   "outputs": [],
   "source": [
    "age = as.integer(age)"
   ]
  },
  {
   "cell_type": "markdown",
   "id": "64dc065a-9971-4a58-a809-c619b1b8f601",
   "metadata": {},
   "source": [
    "## 4.2. Xuất"
   ]
  },
  {
   "cell_type": "code",
   "execution_count": 70,
   "id": "0ebe83e4-25b8-460f-93b0-8582385c57f7",
   "metadata": {},
   "outputs": [
    {
     "name": "stdout",
     "output_type": "stream",
     "text": [
      "[1] \"Dương Mạnh Cường\"\n"
     ]
    }
   ],
   "source": [
    "print(name)"
   ]
  },
  {
   "cell_type": "code",
   "execution_count": 71,
   "id": "084016ca-169b-41fc-afb3-286fa93c08b0",
   "metadata": {},
   "outputs": [
    {
     "name": "stdout",
     "output_type": "stream",
     "text": [
      "[1] 22\n"
     ]
    }
   ],
   "source": [
    "print(age)"
   ]
  },
  {
   "cell_type": "markdown",
   "id": "9901c8b4-6c8d-48e4-8f44-79d816d70acd",
   "metadata": {},
   "source": [
    "🐣 Ráp chuổi"
   ]
  },
  {
   "cell_type": "code",
   "execution_count": 72,
   "id": "a73b38ff-2639-44eb-ac51-d2269099a30a",
   "metadata": {},
   "outputs": [
    {
     "name": "stdout",
     "output_type": "stream",
     "text": [
      "[1] \"Hi  Dương Mạnh Cường  next year you will be  23  years old.\"\n"
     ]
    }
   ],
   "source": [
    "print(paste(\"Hi \", name, \" next year you will be \", age + 1, \" years old.\"))"
   ]
  },
  {
   "cell_type": "code",
   "execution_count": 73,
   "id": "ad019594-ae87-42f6-a034-0197062bacdb",
   "metadata": {},
   "outputs": [
    {
     "name": "stdout",
     "output_type": "stream",
     "text": [
      "colors are:  red green blue \n"
     ]
    }
   ],
   "source": [
    "colors = c(\"red\", \"green\", \"blue\")\n",
    "cat(\"colors are: \", colors, \"\\n\")"
   ]
  },
  {
   "cell_type": "markdown",
   "id": "de8d3a07-79dc-47f7-b8ba-295640b3b82c",
   "metadata": {},
   "source": [
    "# 5. String"
   ]
  },
  {
   "cell_type": "markdown",
   "id": "671cf573-f7c2-466d-a08c-3d9243859c03",
   "metadata": {},
   "source": [
    "## 5.1. `parse()`: tạo một chuỗi từ nh chuổi khác"
   ]
  },
  {
   "cell_type": "code",
   "execution_count": 75,
   "id": "92d1b868-c905-4f55-8fef-4f6b25d33946",
   "metadata": {},
   "outputs": [],
   "source": [
    "a = \"one\"\n",
    "b = \"two\"\n",
    "c = \"three\""
   ]
  },
  {
   "cell_type": "code",
   "execution_count": 76,
   "id": "b0169cd5-0a66-4caf-b881-b73543cc83a9",
   "metadata": {},
   "outputs": [
    {
     "name": "stdout",
     "output_type": "stream",
     "text": [
      "[1] \"one two three\"\n"
     ]
    }
   ],
   "source": [
    "print(paste(a,b,c))"
   ]
  },
  {
   "cell_type": "code",
   "execution_count": 77,
   "id": "1e033915-4082-4021-92db-cb731582b941",
   "metadata": {},
   "outputs": [
    {
     "name": "stdout",
     "output_type": "stream",
     "text": [
      "[1] \"one-two-three\"\n"
     ]
    }
   ],
   "source": [
    "print(paste(a,b,c, sep=\"-\"))"
   ]
  },
  {
   "cell_type": "code",
   "execution_count": 78,
   "id": "09c1a694-e8f8-4201-bab9-c27c0b100983",
   "metadata": {},
   "outputs": [
    {
     "name": "stdout",
     "output_type": "stream",
     "text": [
      "[1] \"onetwothree\"\n"
     ]
    }
   ],
   "source": [
    "print(paste(a,b,c, sep=\"\"))"
   ]
  },
  {
   "cell_type": "markdown",
   "id": "2085f8ab-71f3-4ee7-bf41-f2bdf9d9c78f",
   "metadata": {},
   "source": [
    "## 5.2. `nchar()`: đếm số kí tự trong chuổi"
   ]
  },
  {
   "cell_type": "code",
   "execution_count": 79,
   "id": "47107576-70c3-45a8-a3ec-caf0d43f3a32",
   "metadata": {},
   "outputs": [
    {
     "name": "stdout",
     "output_type": "stream",
     "text": [
      "[1] 16\n"
     ]
    }
   ],
   "source": [
    "s = \"This is a string\"\n",
    "print(nchar(s))"
   ]
  },
  {
   "cell_type": "markdown",
   "id": "c9452262-b4f2-4460-9d44-fd41b0a6daeb",
   "metadata": {},
   "source": [
    "## 5.3. `toupper()` và `tolower()`"
   ]
  },
  {
   "cell_type": "code",
   "execution_count": 80,
   "id": "ce599ea2-5dad-4298-8c7b-a2a92473f543",
   "metadata": {},
   "outputs": [
    {
     "name": "stdout",
     "output_type": "stream",
     "text": [
      "[1] \"this is a string\"\n"
     ]
    }
   ],
   "source": [
    "s = \"This is a string\"\n",
    "print(tolower(s))"
   ]
  },
  {
   "cell_type": "code",
   "execution_count": 81,
   "id": "f09c88ef-0e5c-4572-abec-e6caa7292b77",
   "metadata": {},
   "outputs": [
    {
     "name": "stdout",
     "output_type": "stream",
     "text": [
      "[1] \"THIS IS A STRING\"\n"
     ]
    }
   ],
   "source": [
    "print(toupper(s))"
   ]
  },
  {
   "cell_type": "markdown",
   "id": "a2134d31-1403-465d-b799-bc7751853c0e",
   "metadata": {},
   "source": [
    "## 5.4. `substring(s, first, last)`"
   ]
  },
  {
   "cell_type": "code",
   "execution_count": 1,
   "id": "147c6ef3-d4a1-4247-a196-e8e6955eb447",
   "metadata": {},
   "outputs": [
    {
     "name": "stdout",
     "output_type": "stream",
     "text": [
      "[1] \" is big \"\n"
     ]
    }
   ],
   "source": [
    "s = \"This is big string\"\n",
    "s_sub = substring(s, 5, 12)\n",
    "\n",
    "print(s_sub)"
   ]
  },
  {
   "cell_type": "markdown",
   "id": "72f320dd-0bcc-4e11-ad29-571e68c0fe30",
   "metadata": {},
   "source": [
    "## 5.5. `chartr(old, new, string_name)`\n",
    "* Tìm kiếm và thay thế kí tự trong chuổi"
   ]
  },
  {
   "cell_type": "code",
   "execution_count": 2,
   "id": "aac48d80-88ca-42d5-84c4-fa9d3d87ca43",
   "metadata": {},
   "outputs": [
    {
     "name": "stdout",
     "output_type": "stream",
     "text": [
      "[1] \"Today-is-new-year-day\"\n"
     ]
    }
   ],
   "source": [
    "s1 = \"Today is new year day\"\n",
    "s1 = chartr(\" \", \"-\", s1)\n",
    "\n",
    "print(s1)"
   ]
  },
  {
   "cell_type": "markdown",
   "id": "f76580fd-ec10-478c-bc75-a6bfbf4b3077",
   "metadata": {},
   "source": [
    "## 5.6. `strsplit(string_name, delimiter)`"
   ]
  },
  {
   "cell_type": "code",
   "execution_count": 3,
   "id": "e7a6af28-f11c-493f-8cdc-8b8aae9884e3",
   "metadata": {},
   "outputs": [
    {
     "data": {
      "text/html": [
       "<ol>\n",
       "\t<li><style>\n",
       ".list-inline {list-style: none; margin:0; padding: 0}\n",
       ".list-inline>li {display: inline-block}\n",
       ".list-inline>li:not(:last-child)::after {content: \"\\00b7\"; padding: 0 .5ex}\n",
       "</style>\n",
       "<ol class=list-inline><li>'Today'</li><li>'is'</li><li>'new'</li><li>'year'</li><li>'day'</li></ol>\n",
       "</li>\n",
       "</ol>\n"
      ],
      "text/latex": [
       "\\begin{enumerate}\n",
       "\\item \\begin{enumerate*}\n",
       "\\item 'Today'\n",
       "\\item 'is'\n",
       "\\item 'new'\n",
       "\\item 'year'\n",
       "\\item 'day'\n",
       "\\end{enumerate*}\n",
       "\n",
       "\\end{enumerate}\n"
      ],
      "text/markdown": [
       "1. 1. 'Today'\n",
       "2. 'is'\n",
       "3. 'new'\n",
       "4. 'year'\n",
       "5. 'day'\n",
       "\n",
       "\n",
       "\n",
       "\n",
       "\n"
      ],
      "text/plain": [
       "[[1]]\n",
       "[1] \"Today\" \"is\"    \"new\"   \"year\"  \"day\"  \n"
      ]
     },
     "metadata": {},
     "output_type": "display_data"
    }
   ],
   "source": [
    "s1 = \"Today is new year day\"\n",
    "character_list = strsplit(s1, \" \")\n",
    "\n",
    "character_list"
   ]
  },
  {
   "cell_type": "code",
   "execution_count": 4,
   "id": "9ae38e05-5091-44f9-b26e-cddbd3cebafa",
   "metadata": {},
   "outputs": [
    {
     "data": {
      "text/html": [
       "'list'"
      ],
      "text/latex": [
       "'list'"
      ],
      "text/markdown": [
       "'list'"
      ],
      "text/plain": [
       "[1] \"list\""
      ]
     },
     "metadata": {},
     "output_type": "display_data"
    }
   ],
   "source": [
    "mode(character_list)"
   ]
  },
  {
   "cell_type": "code",
   "execution_count": 5,
   "id": "53a1c49e-a478-4383-9842-c4c4e22321a8",
   "metadata": {},
   "outputs": [
    {
     "data": {
      "text/html": [
       "<style>\n",
       ".list-inline {list-style: none; margin:0; padding: 0}\n",
       ".list-inline>li {display: inline-block}\n",
       ".list-inline>li:not(:last-child)::after {content: \"\\00b7\"; padding: 0 .5ex}\n",
       "</style>\n",
       "<ol class=list-inline><li>'Today'</li><li>'is'</li><li>'new'</li><li>'year'</li><li>'day'</li></ol>\n"
      ],
      "text/latex": [
       "\\begin{enumerate*}\n",
       "\\item 'Today'\n",
       "\\item 'is'\n",
       "\\item 'new'\n",
       "\\item 'year'\n",
       "\\item 'day'\n",
       "\\end{enumerate*}\n"
      ],
      "text/markdown": [
       "1. 'Today'\n",
       "2. 'is'\n",
       "3. 'new'\n",
       "4. 'year'\n",
       "5. 'day'\n",
       "\n",
       "\n"
      ],
      "text/plain": [
       "[1] \"Today\" \"is\"    \"new\"   \"year\"  \"day\"  "
      ]
     },
     "metadata": {},
     "output_type": "display_data"
    }
   ],
   "source": [
    "word_list = unlist(character_list)\n",
    "\n",
    "word_list"
   ]
  },
  {
   "cell_type": "code",
   "execution_count": 6,
   "id": "113a12e1-231e-4dc8-bc3a-3c9e83e52edd",
   "metadata": {},
   "outputs": [
    {
     "data": {
      "text/html": [
       "'character'"
      ],
      "text/latex": [
       "'character'"
      ],
      "text/markdown": [
       "'character'"
      ],
      "text/plain": [
       "[1] \"character\""
      ]
     },
     "metadata": {},
     "output_type": "display_data"
    }
   ],
   "source": [
    "mode(word_list)"
   ]
  },
  {
   "cell_type": "code",
   "execution_count": 7,
   "id": "267db432-b4f3-4ded-ac71-c3789472d0c0",
   "metadata": {},
   "outputs": [
    {
     "name": "stdout",
     "output_type": "stream",
     "text": [
      "[[1]]\n",
      "[1] \"Today\" \"is\"    \"new\"   \"year\"  \"day\"  \n",
      "\n"
     ]
    }
   ],
   "source": [
    "print(character_list)"
   ]
  },
  {
   "cell_type": "code",
   "execution_count": 10,
   "id": "dd4bf0f8-dcf1-4e06-9ce2-e4d773ad2523",
   "metadata": {},
   "outputs": [
    {
     "name": "stdout",
     "output_type": "stream",
     "text": [
      "[1] \"Today\" \"is\"    \"new\"   \"year\"  \"day\"  \n"
     ]
    }
   ],
   "source": [
    "print(word_list)"
   ]
  },
  {
   "cell_type": "markdown",
   "id": "d025d62d-a3d2-42eb-bea9-1e06fa3bd66a",
   "metadata": {},
   "source": [
    "## 5.7. `sort()`"
   ]
  },
  {
   "cell_type": "code",
   "execution_count": 11,
   "id": "f3833cd0-779b-4015-a040-d19ae442ee7d",
   "metadata": {},
   "outputs": [
    {
     "name": "stdout",
     "output_type": "stream",
     "text": [
      "[1] \"day\"   \"is\"    \"new\"   \"Today\" \"year\" \n"
     ]
    }
   ],
   "source": [
    "s1 = \"Today is new year day\"\n",
    "character_list = strsplit(s1, \" \")\n",
    "word_list = unlist(character_list)\n",
    "\n",
    "sorted_list = sort(word_list)\n",
    "\n",
    "print(sorted_list)"
   ]
  },
  {
   "cell_type": "markdown",
   "id": "9fa112a1-6277-4e66-b5b7-f8f8e59d07d1",
   "metadata": {},
   "source": [
    "# 6. Date"
   ]
  },
  {
   "cell_type": "markdown",
   "id": "8c3d08d5-d480-4cc0-9225-1694d4bccc65",
   "metadata": {},
   "source": [
    "## 6.1. `date()`\n",
    "* Lấy ngày hiện tại của hệ thống"
   ]
  },
  {
   "cell_type": "code",
   "execution_count": 12,
   "id": "e7c52e67-12fd-41b4-9475-36b65bd8d25c",
   "metadata": {},
   "outputs": [
    {
     "name": "stdout",
     "output_type": "stream",
     "text": [
      "[1] \"Thu Jul  1 14:22:02 2021\"\n"
     ]
    }
   ],
   "source": [
    "print(date())"
   ]
  },
  {
   "cell_type": "code",
   "execution_count": 13,
   "id": "226702ef-d47f-40bb-843b-b9f37ea564fe",
   "metadata": {},
   "outputs": [
    {
     "name": "stdout",
     "output_type": "stream",
     "text": [
      "[1] \"2021-07-01\"\n"
     ]
    }
   ],
   "source": [
    "print(Sys.Date())"
   ]
  },
  {
   "cell_type": "markdown",
   "id": "9f25e192-8d7c-4e89-a892-de7269a851ed",
   "metadata": {},
   "source": [
    "## 6.2. `as.Date()`\n",
    "* Tạo ngày từ chuổi ngày\n",
    "\n",
    "|Symbol|Meaning|Example|\n",
    "|-|-|-|\n",
    "|`%d`|Ngày trong tháng từ 1 đến 31|07|\n",
    "|`%a`, `%A`| Thứ trong tuần| Mon, Monday|\n",
    "|`%m`|Tháng|07|\n",
    "|`%b`, `%B`|Tháng|Jan, January|\n",
    "|`%y`, `%Y`|Năm|21, 2021|"
   ]
  },
  {
   "cell_type": "code",
   "execution_count": 16,
   "id": "76b51e04-3e45-48de-8796-8ae5be9da869",
   "metadata": {},
   "outputs": [
    {
     "name": "stdout",
     "output_type": "stream",
     "text": [
      "[1] \"1999-04-08\"\n"
     ]
    }
   ],
   "source": [
    "d1 = \"08-04-1999\"\n",
    "d1 = as.Date(d1, format(\"%d-%m-%Y\"))\n",
    "\n",
    "print(d1)"
   ]
  },
  {
   "cell_type": "markdown",
   "id": "8ed37489-5a0f-4baf-a35a-68dc8ed7ad5a",
   "metadata": {},
   "source": [
    "## 6.3. Khoảng cách giữa 2 ngày"
   ]
  },
  {
   "cell_type": "code",
   "execution_count": 17,
   "id": "275bc906-fb13-4921-9aa5-e2516a562e7b",
   "metadata": {},
   "outputs": [
    {
     "name": "stdout",
     "output_type": "stream",
     "text": [
      "Time difference of 8120 days\n"
     ]
    }
   ],
   "source": [
    "distance = Sys.Date() - as.Date(\"1999-04-08\")\n",
    "\n",
    "print(distance)"
   ]
  },
  {
   "cell_type": "code",
   "execution_count": 18,
   "id": "ecd4ef32-ec5e-476f-96c6-06a78b8f59cf",
   "metadata": {},
   "outputs": [
    {
     "name": "stdout",
     "output_type": "stream",
     "text": [
      "Time difference of 1160 weeks\n"
     ]
    }
   ],
   "source": [
    "distance_weeks = difftime(Sys.Date(), as.Date(\"1999/04/08\", format(\"%Y/%m/%d\")), units=\"weeks\")\n",
    "\n",
    "print(distance_weeks)"
   ]
  },
  {
   "cell_type": "code",
   "execution_count": null,
   "id": "339dd33a-1436-41b0-8f03-8d2bca8d5f20",
   "metadata": {},
   "outputs": [],
   "source": []
  }
 ],
 "metadata": {
  "kernelspec": {
   "display_name": "R",
   "language": "R",
   "name": "ir"
  },
  "language_info": {
   "codemirror_mode": "r",
   "file_extension": ".r",
   "mimetype": "text/x-r-source",
   "name": "R",
   "pygments_lexer": "r",
   "version": "4.1.0"
  }
 },
 "nbformat": 4,
 "nbformat_minor": 5
}
