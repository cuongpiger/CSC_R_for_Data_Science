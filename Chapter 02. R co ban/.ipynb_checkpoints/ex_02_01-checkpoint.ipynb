{
 "cells": [
  {
   "cell_type": "code",
   "execution_count": 3,
   "id": "8588bb11-db89-42de-8331-b6d9eedd7733",
   "metadata": {},
   "outputs": [
    {
     "name": "stdin",
     "output_type": "stream",
     "text": [
      "Enter your name:  Dương Mạnh Cường\n",
      "Enter your year of birth:  1999\n",
      "Enter your weight:  58\n",
      "Enter your height (kg):  1.68\n"
     ]
    },
    {
     "name": "stdout",
     "output_type": "stream",
     "text": [
      "[1] \"Name:  Dương Mạnh Cường , Year of birth:  1999 , Height:  1.68 , Weight:  58 , BMI:  20.5498866213152\"\n"
     ]
    }
   ],
   "source": [
    "name = readline(\"Enter your name: \")\n",
    "yob = as.integer(readline(\"Enter your year of birth: \"))\n",
    "weight = as.double(readline(\"Enter your weight: \"))\n",
    "height = as.double(readline(\"Enter your height (kg): \"))\n",
    "\n",
    "bmi = weight / (height^2)\n",
    "\n",
    "print(paste(\"Name: \",name,\", Year of birth: \",yob,\", Height: \",height,\", Weight: \",weight,\", BMI: \",bmi))"
   ]
  },
  {
   "cell_type": "code",
   "execution_count": null,
   "id": "283e8b62-8717-421c-980c-823790db8222",
   "metadata": {},
   "outputs": [],
   "source": []
  }
 ],
 "metadata": {
  "kernelspec": {
   "display_name": "R",
   "language": "R",
   "name": "ir"
  },
  "language_info": {
   "codemirror_mode": "r",
   "file_extension": ".r",
   "mimetype": "text/x-r-source",
   "name": "R",
   "pygments_lexer": "r",
   "version": "4.1.0"
  }
 },
 "nbformat": 4,
 "nbformat_minor": 5
}
