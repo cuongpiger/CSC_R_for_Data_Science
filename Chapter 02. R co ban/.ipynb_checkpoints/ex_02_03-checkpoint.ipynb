{
 "cells": [
  {
   "cell_type": "markdown",
   "id": "70da7c80-319d-4932-adba-745d4fdf1961",
   "metadata": {},
   "source": [
    "![](images/02_02.png)"
   ]
  },
  {
   "cell_type": "code",
   "execution_count": 2,
   "id": "55d2f5c1-38e2-408f-882c-6c9d64388208",
   "metadata": {},
   "outputs": [
    {
     "name": "stdin",
     "output_type": "stream",
     "text": [
      "Enter interest: 10\n",
      "Enter deposits: 500000\n",
      "Enter number of days: 30\n"
     ]
    },
    {
     "name": "stdout",
     "output_type": "stream",
     "text": [
      "[1] \"Interest: 4109.58904109589\"\n",
      "[1] \"Total: 504109.589041096\"\n"
     ]
    }
   ],
   "source": [
    "interest = as.numeric(readline(\"Enter interest:\"))\n",
    "deposits = as.numeric(readline(\"Enter deposits:\"))\n",
    "no_days = as.integer(readline(\"Enter number of days:\"))\n",
    "\n",
    "day_interest = interest / 365 / 100\n",
    "interest_2 = (deposits * no_days) * day_interest\n",
    "total = deposits + interest_2\n",
    "\n",
    "print(paste(\"Interest:\",interest_2))\n",
    "print(paste(\"Total:\", total))"
   ]
  },
  {
   "cell_type": "code",
   "execution_count": null,
   "id": "a28f5bcc-fe4f-4721-b574-51505ae7d579",
   "metadata": {},
   "outputs": [],
   "source": []
  }
 ],
 "metadata": {
  "kernelspec": {
   "display_name": "R",
   "language": "R",
   "name": "ir"
  },
  "language_info": {
   "codemirror_mode": "r",
   "file_extension": ".r",
   "mimetype": "text/x-r-source",
   "name": "R",
   "pygments_lexer": "r",
   "version": "4.1.0"
  }
 },
 "nbformat": 4,
 "nbformat_minor": 5
}
