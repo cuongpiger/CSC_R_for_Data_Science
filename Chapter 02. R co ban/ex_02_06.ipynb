{
 "cells": [
  {
   "cell_type": "markdown",
   "id": "ea2df550-2333-4e83-9f20-019166406b0d",
   "metadata": {},
   "source": [
    "![](images/02_05.png)"
   ]
  },
  {
   "cell_type": "code",
   "execution_count": 3,
   "id": "1804bfd4-3e9b-4f2a-9f5a-053ced58d839",
   "metadata": {},
   "outputs": [
    {
     "name": "stdin",
     "output_type": "stream",
     "text": [
      "Enter date: 1999-04-08\n"
     ]
    },
    {
     "name": "stdout",
     "output_type": "stream",
     "text": [
      "[1] \"Your date: 1999-04-08\"\n",
      "[1] \"Distance: 8121 days\"\n"
     ]
    }
   ],
   "source": [
    "str_date = readline(prompt=\"Enter date:\")\n",
    "\n",
    "distance = Sys.Date() - as.Date(str_date)\n",
    "\n",
    "print(paste(\"Your date:\",str_date))\n",
    "print(paste(\"Distance:\", distance,\"days\"))"
   ]
  },
  {
   "cell_type": "code",
   "execution_count": null,
   "id": "adff1255-7fe2-40d4-9813-7c0a0f28ff19",
   "metadata": {},
   "outputs": [],
   "source": []
  }
 ],
 "metadata": {
  "kernelspec": {
   "display_name": "R",
   "language": "R",
   "name": "ir"
  },
  "language_info": {
   "codemirror_mode": "r",
   "file_extension": ".r",
   "mimetype": "text/x-r-source",
   "name": "R",
   "pygments_lexer": "r",
   "version": "4.1.0"
  }
 },
 "nbformat": 4,
 "nbformat_minor": 5
}
