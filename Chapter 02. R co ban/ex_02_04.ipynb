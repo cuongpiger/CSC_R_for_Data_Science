{
 "cells": [
  {
   "cell_type": "markdown",
   "id": "79a7be10-fc42-447f-aa9f-b9f8f3c19d16",
   "metadata": {},
   "source": [
    "![](images/02_03.png)"
   ]
  },
  {
   "cell_type": "code",
   "execution_count": 1,
   "id": "ba1163de-7b1b-4cfe-98d7-a4289586e56d",
   "metadata": {},
   "outputs": [
    {
     "name": "stdin",
     "output_type": "stream",
     "text": [
      "Enter area: 56\n"
     ]
    },
    {
     "name": "stdout",
     "output_type": "stream",
     "text": [
      "[1] \"Radius: 4.22200824564475\"\n",
      "[1] \"Perimeter: 26.5276601758262\"\n"
     ]
    }
   ],
   "source": [
    "area = as.numeric(readline(\"Enter area:\"))\n",
    "r = sqrt(area / pi)\n",
    "perimeter = 2 * pi * r\n",
    "\n",
    "print(paste(\"Radius:\",r))\n",
    "print(paste(\"Perimeter:\",perimeter))"
   ]
  },
  {
   "cell_type": "code",
   "execution_count": null,
   "id": "ee782cac-0a99-4b4d-9600-006bc7017457",
   "metadata": {},
   "outputs": [],
   "source": []
  }
 ],
 "metadata": {
  "kernelspec": {
   "display_name": "R",
   "language": "R",
   "name": "ir"
  },
  "language_info": {
   "codemirror_mode": "r",
   "file_extension": ".r",
   "mimetype": "text/x-r-source",
   "name": "R",
   "pygments_lexer": "r",
   "version": "4.1.0"
  }
 },
 "nbformat": 4,
 "nbformat_minor": 5
}
