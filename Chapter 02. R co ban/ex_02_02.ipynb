{
 "cells": [
  {
   "cell_type": "markdown",
   "id": "aedf7f4d-9142-4d1c-8b53-516626426df3",
   "metadata": {},
   "source": [
    "![](images/02_01.png)"
   ]
  },
  {
   "cell_type": "code",
   "execution_count": 4,
   "id": "9dc5f7b8-e3f9-4290-b4a7-ac240d85c9f3",
   "metadata": {},
   "outputs": [
    {
     "name": "stdin",
     "output_type": "stream",
     "text": [
      "Enter total money: 500000\n",
      "Enter tax (%): 10\n",
      "Enter tip (%): 5\n"
     ]
    },
    {
     "name": "stdout",
     "output_type": "stream",
     "text": [
      "[1] \"Tax: 10 %\"\n",
      "[1] \"Tip: 5 %\"\n",
      "[1] \"Paid: 575000\"\n"
     ]
    }
   ],
   "source": [
    "total_money = as.numeric(readline(\"Enter total money:\"))\n",
    "tax = as.numeric(readline(\"Enter tax (%):\"))\n",
    "tip = as.numeric(readline(\"Enter tip (%):\"))\n",
    "\n",
    "paid = (tax / 100 * total_money) + (tip / 100 * total_money) + total_money\n",
    "\n",
    "print(paste(\"Tax:\",tax,\"%\"))\n",
    "print(paste(\"Tip:\",tip,\"%\"))\n",
    "print(paste(\"Paid:\",paid))"
   ]
  },
  {
   "cell_type": "code",
   "execution_count": null,
   "id": "16d20d12-fd3c-4f84-b40e-de81dfb06f69",
   "metadata": {},
   "outputs": [],
   "source": []
  }
 ],
 "metadata": {
  "kernelspec": {
   "display_name": "R",
   "language": "R",
   "name": "ir"
  },
  "language_info": {
   "codemirror_mode": "r",
   "file_extension": ".r",
   "mimetype": "text/x-r-source",
   "name": "R",
   "pygments_lexer": "r",
   "version": "4.1.0"
  }
 },
 "nbformat": 4,
 "nbformat_minor": 5
}
