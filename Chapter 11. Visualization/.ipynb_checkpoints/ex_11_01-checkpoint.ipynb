{
 "cells": [
  {
   "cell_type": "markdown",
   "id": "c3519efd-50c7-417b-9035-7db4bba9003a",
   "metadata": {},
   "source": [
    "![](images/11_05.png)"
   ]
  },
  {
   "cell_type": "code",
   "execution_count": 1,
   "id": "1f90956e-facf-4e1c-916d-a82519c88d7f",
   "metadata": {},
   "outputs": [],
   "source": [
    "library('MASS')"
   ]
  },
  {
   "cell_type": "code",
   "execution_count": 2,
   "id": "6248812c-1a06-4ee4-b2af-1480db9a0819",
   "metadata": {},
   "outputs": [
    {
     "data": {
      "text/html": [
       "<style>\n",
       ".list-inline {list-style: none; margin:0; padding: 0}\n",
       ".list-inline>li {display: inline-block}\n",
       ".list-inline>li:not(:last-child)::after {content: \"\\00b7\"; padding: 0 .5ex}\n",
       "</style>\n",
       "<ol class=list-inline><li>54</li><li>5</li></ol>\n"
      ],
      "text/latex": [
       "\\begin{enumerate*}\n",
       "\\item 54\n",
       "\\item 5\n",
       "\\end{enumerate*}\n"
      ],
      "text/markdown": [
       "1. 54\n",
       "2. 5\n",
       "\n",
       "\n"
      ],
      "text/plain": [
       "[1] 54  5"
      ]
     },
     "metadata": {},
     "output_type": "display_data"
    }
   ],
   "source": [
    "dim(painters)"
   ]
  },
  {
   "cell_type": "code",
   "execution_count": 3,
   "id": "e3906997-8b65-4f31-a953-a6a58ab9543f",
   "metadata": {},
   "outputs": [
    {
     "data": {
      "text/html": [
       "'data.frame'"
      ],
      "text/latex": [
       "'data.frame'"
      ],
      "text/markdown": [
       "'data.frame'"
      ],
      "text/plain": [
       "[1] \"data.frame\""
      ]
     },
     "metadata": {},
     "output_type": "display_data"
    }
   ],
   "source": [
    "class(painters)"
   ]
  },
  {
   "cell_type": "code",
   "execution_count": 4,
   "id": "fb9bca7a-3444-4db3-9fbe-1da84a3fc240",
   "metadata": {},
   "outputs": [],
   "source": [
    "school = painters$School"
   ]
  },
  {
   "cell_type": "code",
   "execution_count": 5,
   "id": "5ba73498-f7c6-497f-9fef-bc560f16c410",
   "metadata": {},
   "outputs": [
    {
     "data": {
      "text/html": [
       "<style>\n",
       ".list-inline {list-style: none; margin:0; padding: 0}\n",
       ".list-inline>li {display: inline-block}\n",
       ".list-inline>li:not(:last-child)::after {content: \"\\00b7\"; padding: 0 .5ex}\n",
       "</style>\n",
       "<ol class=list-inline><li>A</li><li>A</li><li>A</li><li>A</li><li>A</li><li>A</li><li>A</li><li>A</li><li>A</li><li>A</li><li>B</li><li>B</li><li>B</li><li>B</li><li>B</li><li>B</li><li>C</li><li>C</li><li>C</li><li>C</li><li>C</li><li>C</li><li>D</li><li>D</li><li>D</li><li>D</li><li>D</li><li>D</li><li>D</li><li>D</li><li>D</li><li>D</li><li>E</li><li>E</li><li>E</li><li>E</li><li>E</li><li>E</li><li>E</li><li>F</li><li>F</li><li>F</li><li>F</li><li>G</li><li>G</li><li>G</li><li>G</li><li>G</li><li>G</li><li>G</li><li>H</li><li>H</li><li>H</li><li>H</li></ol>\n",
       "\n",
       "<details>\n",
       "\t<summary style=display:list-item;cursor:pointer>\n",
       "\t\t<strong>Levels</strong>:\n",
       "\t</summary>\n",
       "\t<style>\n",
       "\t.list-inline {list-style: none; margin:0; padding: 0}\n",
       "\t.list-inline>li {display: inline-block}\n",
       "\t.list-inline>li:not(:last-child)::after {content: \"\\00b7\"; padding: 0 .5ex}\n",
       "\t</style>\n",
       "\t<ol class=list-inline><li>'A'</li><li>'B'</li><li>'C'</li><li>'D'</li><li>'E'</li><li>'F'</li><li>'G'</li><li>'H'</li></ol>\n",
       "</details>"
      ],
      "text/latex": [
       "\\begin{enumerate*}\n",
       "\\item A\n",
       "\\item A\n",
       "\\item A\n",
       "\\item A\n",
       "\\item A\n",
       "\\item A\n",
       "\\item A\n",
       "\\item A\n",
       "\\item A\n",
       "\\item A\n",
       "\\item B\n",
       "\\item B\n",
       "\\item B\n",
       "\\item B\n",
       "\\item B\n",
       "\\item B\n",
       "\\item C\n",
       "\\item C\n",
       "\\item C\n",
       "\\item C\n",
       "\\item C\n",
       "\\item C\n",
       "\\item D\n",
       "\\item D\n",
       "\\item D\n",
       "\\item D\n",
       "\\item D\n",
       "\\item D\n",
       "\\item D\n",
       "\\item D\n",
       "\\item D\n",
       "\\item D\n",
       "\\item E\n",
       "\\item E\n",
       "\\item E\n",
       "\\item E\n",
       "\\item E\n",
       "\\item E\n",
       "\\item E\n",
       "\\item F\n",
       "\\item F\n",
       "\\item F\n",
       "\\item F\n",
       "\\item G\n",
       "\\item G\n",
       "\\item G\n",
       "\\item G\n",
       "\\item G\n",
       "\\item G\n",
       "\\item G\n",
       "\\item H\n",
       "\\item H\n",
       "\\item H\n",
       "\\item H\n",
       "\\end{enumerate*}\n",
       "\n",
       "\\emph{Levels}: \\begin{enumerate*}\n",
       "\\item 'A'\n",
       "\\item 'B'\n",
       "\\item 'C'\n",
       "\\item 'D'\n",
       "\\item 'E'\n",
       "\\item 'F'\n",
       "\\item 'G'\n",
       "\\item 'H'\n",
       "\\end{enumerate*}\n"
      ],
      "text/markdown": [
       "1. A\n",
       "2. A\n",
       "3. A\n",
       "4. A\n",
       "5. A\n",
       "6. A\n",
       "7. A\n",
       "8. A\n",
       "9. A\n",
       "10. A\n",
       "11. B\n",
       "12. B\n",
       "13. B\n",
       "14. B\n",
       "15. B\n",
       "16. B\n",
       "17. C\n",
       "18. C\n",
       "19. C\n",
       "20. C\n",
       "21. C\n",
       "22. C\n",
       "23. D\n",
       "24. D\n",
       "25. D\n",
       "26. D\n",
       "27. D\n",
       "28. D\n",
       "29. D\n",
       "30. D\n",
       "31. D\n",
       "32. D\n",
       "33. E\n",
       "34. E\n",
       "35. E\n",
       "36. E\n",
       "37. E\n",
       "38. E\n",
       "39. E\n",
       "40. F\n",
       "41. F\n",
       "42. F\n",
       "43. F\n",
       "44. G\n",
       "45. G\n",
       "46. G\n",
       "47. G\n",
       "48. G\n",
       "49. G\n",
       "50. G\n",
       "51. H\n",
       "52. H\n",
       "53. H\n",
       "54. H\n",
       "\n",
       "\n",
       "\n",
       "**Levels**: 1. 'A'\n",
       "2. 'B'\n",
       "3. 'C'\n",
       "4. 'D'\n",
       "5. 'E'\n",
       "6. 'F'\n",
       "7. 'G'\n",
       "8. 'H'\n",
       "\n",
       "\n"
      ],
      "text/plain": [
       " [1] A A A A A A A A A A B B B B B B C C C C C C D D D D D D D D D D E E E E E E\n",
       "[39] E F F F F G G G G G G G H H H H\n",
       "Levels: A B C D E F G H"
      ]
     },
     "metadata": {},
     "output_type": "display_data"
    }
   ],
   "source": [
    "school"
   ]
  },
  {
   "cell_type": "code",
   "execution_count": 6,
   "id": "ac46db92-b001-4044-aaa3-7b259659f045",
   "metadata": {},
   "outputs": [],
   "source": [
    "school.freq = table(school)"
   ]
  },
  {
   "cell_type": "code",
   "execution_count": 8,
   "id": "e5aa678e-8a6d-4748-ba0f-cdeba5bbab6e",
   "metadata": {},
   "outputs": [
    {
     "data": {
      "text/plain": [
       "school\n",
       " A  B  C  D  E  F  G  H \n",
       "10  6  6 10  7  4  7  4 "
      ]
     },
     "metadata": {},
     "output_type": "display_data"
    }
   ],
   "source": [
    "school.freq"
   ]
  },
  {
   "cell_type": "code",
   "execution_count": 9,
   "id": "9c0437aa-5abe-4cf1-ae99-b78e9501d116",
   "metadata": {},
   "outputs": [],
   "source": [
    "school_names = names(school.freq)"
   ]
  },
  {
   "cell_type": "code",
   "execution_count": 10,
   "id": "db496a89-165c-4b6c-9496-ed477dcf3a01",
   "metadata": {},
   "outputs": [
    {
     "data": {
      "text/html": [
       "<style>\n",
       ".list-inline {list-style: none; margin:0; padding: 0}\n",
       ".list-inline>li {display: inline-block}\n",
       ".list-inline>li:not(:last-child)::after {content: \"\\00b7\"; padding: 0 .5ex}\n",
       "</style>\n",
       "<ol class=list-inline><li>'A'</li><li>'B'</li><li>'C'</li><li>'D'</li><li>'E'</li><li>'F'</li><li>'G'</li><li>'H'</li></ol>\n"
      ],
      "text/latex": [
       "\\begin{enumerate*}\n",
       "\\item 'A'\n",
       "\\item 'B'\n",
       "\\item 'C'\n",
       "\\item 'D'\n",
       "\\item 'E'\n",
       "\\item 'F'\n",
       "\\item 'G'\n",
       "\\item 'H'\n",
       "\\end{enumerate*}\n"
      ],
      "text/markdown": [
       "1. 'A'\n",
       "2. 'B'\n",
       "3. 'C'\n",
       "4. 'D'\n",
       "5. 'E'\n",
       "6. 'F'\n",
       "7. 'G'\n",
       "8. 'H'\n",
       "\n",
       "\n"
      ],
      "text/plain": [
       "[1] \"A\" \"B\" \"C\" \"D\" \"E\" \"F\" \"G\" \"H\""
      ]
     },
     "metadata": {},
     "output_type": "display_data"
    }
   ],
   "source": [
    "school_names"
   ]
  },
  {
   "cell_type": "code",
   "execution_count": 19,
   "id": "7e07fa77-691c-43f2-8203-e455496e1f55",
   "metadata": {},
   "outputs": [
    {
     "data": {
      "image/png": "[encoded data removed]",
      "text/plain": [
       "Plot with title “Pie chart demo”"
      ]
     },
     "metadata": {
      "image/png": {
       "height": 420,
       "width": 420
      }
     },
     "output_type": "display_data"
    }
   ],
   "source": [
    "piepercent = round(100 * school.freq/sum(school.freq), 1)\n",
    "\n",
    "pie(school.freq, labels = paste(piepercent, \"%\"), \n",
    "    main = \"Pie chart demo\",\n",
    "   col = rainbow(length(school.freq)),\n",
    "   clockwise = TRUE)\n",
    "legend(\"topright\", school_names, cex = 0.9,\n",
    "       fill = rainbow(length(school.freq)), y.intersp = 1)"
   ]
  },
  {
   "cell_type": "code",
   "execution_count": null,
   "id": "496bcf12-ffc9-465f-b6a3-3fde276099ba",
   "metadata": {},
   "outputs": [],
   "source": []
  }
 ],
 "metadata": {
  "kernelspec": {
   "display_name": "R",
   "language": "R",
   "name": "ir"
  },
  "language_info": {
   "codemirror_mode": "r",
   "file_extension": ".r",
   "mimetype": "text/x-r-source",
   "name": "R",
   "pygments_lexer": "r",
   "version": "4.1.0"
  }
 },
 "nbformat": 4,
 "nbformat_minor": 5
}
