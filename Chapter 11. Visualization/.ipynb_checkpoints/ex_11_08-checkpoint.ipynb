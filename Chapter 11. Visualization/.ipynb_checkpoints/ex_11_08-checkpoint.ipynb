{
 "cells": [
  {
   "cell_type": "markdown",
   "id": "85e32bc4-e229-489f-b042-3ae6863eadf8",
   "metadata": {},
   "source": [
    "# Exercise 8: Tech_com - line graph\n",
    "![](images/11_12.png)"
   ]
  },
  {
   "cell_type": "code",
   "execution_count": 1,
   "id": "ce1cd78d-44fe-42e5-be71-f8c21e8922e7",
   "metadata": {},
   "outputs": [],
   "source": [
    "data = read.csv(\"./data/Tech_comp.csv\")"
   ]
  },
  {
   "cell_type": "code",
   "execution_count": 2,
   "id": "55e3121c-20e1-494f-aafc-7d306cf1b9d9",
   "metadata": {},
   "outputs": [
    {
     "data": {
      "text/html": [
       "<table class=\"dataframe\">\n",
       "<caption>A data.frame: 4 × 5</caption>\n",
       "<thead>\n",
       "\t<tr><th scope=col>Company</th><th scope=col>Women..all</th><th scope=col>Women..tech.</th><th scope=col>Men..all.</th><th scope=col>Men..tech.</th></tr>\n",
       "\t<tr><th scope=col>&lt;chr&gt;</th><th scope=col>&lt;int&gt;</th><th scope=col>&lt;int&gt;</th><th scope=col>&lt;int&gt;</th><th scope=col>&lt;int&gt;</th></tr>\n",
       "</thead>\n",
       "<tbody>\n",
       "\t<tr><td>Facebook</td><td>32</td><td>16</td><td>84</td><td>68</td></tr>\n",
       "\t<tr><td>Google  </td><td>30</td><td>18</td><td>82</td><td>70</td></tr>\n",
       "\t<tr><td>Apple   </td><td>30</td><td>20</td><td>80</td><td>70</td></tr>\n",
       "\t<tr><td>Yahoo   </td><td>37</td><td>15</td><td>85</td><td>62</td></tr>\n",
       "</tbody>\n",
       "</table>\n"
      ],
      "text/latex": [
       "A data.frame: 4 × 5\n",
       "\\begin{tabular}{lllll}\n",
       " Company & Women..all & Women..tech. & Men..all. & Men..tech.\\\\\n",
       " <chr> & <int> & <int> & <int> & <int>\\\\\n",
       "\\hline\n",
       "\t Facebook & 32 & 16 & 84 & 68\\\\\n",
       "\t Google   & 30 & 18 & 82 & 70\\\\\n",
       "\t Apple    & 30 & 20 & 80 & 70\\\\\n",
       "\t Yahoo    & 37 & 15 & 85 & 62\\\\\n",
       "\\end{tabular}\n"
      ],
      "text/markdown": [
       "\n",
       "A data.frame: 4 × 5\n",
       "\n",
       "| Company &lt;chr&gt; | Women..all &lt;int&gt; | Women..tech. &lt;int&gt; | Men..all. &lt;int&gt; | Men..tech. &lt;int&gt; |\n",
       "|---|---|---|---|---|\n",
       "| Facebook | 32 | 16 | 84 | 68 |\n",
       "| Google   | 30 | 18 | 82 | 70 |\n",
       "| Apple    | 30 | 20 | 80 | 70 |\n",
       "| Yahoo    | 37 | 15 | 85 | 62 |\n",
       "\n"
      ],
      "text/plain": [
       "  Company  Women..all Women..tech. Men..all. Men..tech.\n",
       "1 Facebook 32         16           84        68        \n",
       "2 Google   30         18           82        70        \n",
       "3 Apple    30         20           80        70        \n",
       "4 Yahoo    37         15           85        62        "
      ]
     },
     "metadata": {},
     "output_type": "display_data"
    }
   ],
   "source": [
    "data"
   ]
  },
  {
   "cell_type": "code",
   "execution_count": null,
   "id": "e7b780ae-4072-41c9-9ecb-8ec2ebfcb7ca",
   "metadata": {},
   "outputs": [],
   "source": []
  }
 ],
 "metadata": {
  "kernelspec": {
   "display_name": "R",
   "language": "R",
   "name": "ir"
  },
  "language_info": {
   "codemirror_mode": "r",
   "file_extension": ".r",
   "mimetype": "text/x-r-source",
   "name": "R",
   "pygments_lexer": "r",
   "version": "4.1.0"
  }
 },
 "nbformat": 4,
 "nbformat_minor": 5
}
