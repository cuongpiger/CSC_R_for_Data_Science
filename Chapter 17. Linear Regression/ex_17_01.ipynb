{
 "cells": [
  {
   "cell_type": "markdown",
   "id": "501582b2-1e2f-4485-91a2-3d59abb85a3a",
   "metadata": {},
   "source": [
    "![](images/17_00.png)"
   ]
  },
  {
   "cell_type": "code",
   "execution_count": 1,
   "id": "916c37c8-48d4-4f78-87dd-f57f387e081f",
   "metadata": {},
   "outputs": [],
   "source": [
    "data = read.csv(\"./data/baseball.csv\")"
   ]
  },
  {
   "cell_type": "code",
   "execution_count": null,
   "id": "0b891bc0-6d55-40b1-a02c-abd9f64d0d79",
   "metadata": {},
   "outputs": [],
   "source": []
  },
  {
   "cell_type": "code",
   "execution_count": 2,
   "id": "9d3a7d13-5a7b-44ab-b384-fa6e80e7c754",
   "metadata": {},
   "outputs": [
    {
     "data": {
      "text/html": [
       "<table class=\"dataframe\">\n",
       "<caption>A data.frame: 6 × 7</caption>\n",
       "<thead>\n",
       "\t<tr><th></th><th scope=col>Name</th><th scope=col>Team</th><th scope=col>Position</th><th scope=col>Height</th><th scope=col>Weight</th><th scope=col>Age</th><th scope=col>PosCategory</th></tr>\n",
       "\t<tr><th></th><th scope=col>&lt;chr&gt;</th><th scope=col>&lt;chr&gt;</th><th scope=col>&lt;chr&gt;</th><th scope=col>&lt;int&gt;</th><th scope=col>&lt;int&gt;</th><th scope=col>&lt;dbl&gt;</th><th scope=col>&lt;chr&gt;</th></tr>\n",
       "</thead>\n",
       "<tbody>\n",
       "\t<tr><th scope=row>1</th><td>Adam_Donachie  </td><td>BAL</td><td>Catcher       </td><td>74</td><td>180</td><td>22.99</td><td>Catcher  </td></tr>\n",
       "\t<tr><th scope=row>2</th><td>Paul_Bako      </td><td>BAL</td><td>Catcher       </td><td>74</td><td>215</td><td>34.69</td><td>Catcher  </td></tr>\n",
       "\t<tr><th scope=row>3</th><td>Ramon_Hernandez</td><td>BAL</td><td>Catcher       </td><td>72</td><td>210</td><td>30.78</td><td>Catcher  </td></tr>\n",
       "\t<tr><th scope=row>4</th><td>Kevin_Millar   </td><td>BAL</td><td>First_Baseman </td><td>72</td><td>210</td><td>35.43</td><td>Infielder</td></tr>\n",
       "\t<tr><th scope=row>5</th><td>Chris_Gomez    </td><td>BAL</td><td>First_Baseman </td><td>73</td><td>188</td><td>35.71</td><td>Infielder</td></tr>\n",
       "\t<tr><th scope=row>6</th><td>Brian_Roberts  </td><td>BAL</td><td>Second_Baseman</td><td>69</td><td>176</td><td>29.39</td><td>Infielder</td></tr>\n",
       "</tbody>\n",
       "</table>\n"
      ],
      "text/latex": [
       "A data.frame: 6 × 7\n",
       "\\begin{tabular}{r|lllllll}\n",
       "  & Name & Team & Position & Height & Weight & Age & PosCategory\\\\\n",
       "  & <chr> & <chr> & <chr> & <int> & <int> & <dbl> & <chr>\\\\\n",
       "\\hline\n",
       "\t1 & Adam\\_Donachie   & BAL & Catcher        & 74 & 180 & 22.99 & Catcher  \\\\\n",
       "\t2 & Paul\\_Bako       & BAL & Catcher        & 74 & 215 & 34.69 & Catcher  \\\\\n",
       "\t3 & Ramon\\_Hernandez & BAL & Catcher        & 72 & 210 & 30.78 & Catcher  \\\\\n",
       "\t4 & Kevin\\_Millar    & BAL & First\\_Baseman  & 72 & 210 & 35.43 & Infielder\\\\\n",
       "\t5 & Chris\\_Gomez     & BAL & First\\_Baseman  & 73 & 188 & 35.71 & Infielder\\\\\n",
       "\t6 & Brian\\_Roberts   & BAL & Second\\_Baseman & 69 & 176 & 29.39 & Infielder\\\\\n",
       "\\end{tabular}\n"
      ],
      "text/markdown": [
       "\n",
       "A data.frame: 6 × 7\n",
       "\n",
       "| <!--/--> | Name &lt;chr&gt; | Team &lt;chr&gt; | Position &lt;chr&gt; | Height &lt;int&gt; | Weight &lt;int&gt; | Age &lt;dbl&gt; | PosCategory &lt;chr&gt; |\n",
       "|---|---|---|---|---|---|---|---|\n",
       "| 1 | Adam_Donachie   | BAL | Catcher        | 74 | 180 | 22.99 | Catcher   |\n",
       "| 2 | Paul_Bako       | BAL | Catcher        | 74 | 215 | 34.69 | Catcher   |\n",
       "| 3 | Ramon_Hernandez | BAL | Catcher        | 72 | 210 | 30.78 | Catcher   |\n",
       "| 4 | Kevin_Millar    | BAL | First_Baseman  | 72 | 210 | 35.43 | Infielder |\n",
       "| 5 | Chris_Gomez     | BAL | First_Baseman  | 73 | 188 | 35.71 | Infielder |\n",
       "| 6 | Brian_Roberts   | BAL | Second_Baseman | 69 | 176 | 29.39 | Infielder |\n",
       "\n"
      ],
      "text/plain": [
       "  Name            Team Position       Height Weight Age   PosCategory\n",
       "1 Adam_Donachie   BAL  Catcher        74     180    22.99 Catcher    \n",
       "2 Paul_Bako       BAL  Catcher        74     215    34.69 Catcher    \n",
       "3 Ramon_Hernandez BAL  Catcher        72     210    30.78 Catcher    \n",
       "4 Kevin_Millar    BAL  First_Baseman  72     210    35.43 Infielder  \n",
       "5 Chris_Gomez     BAL  First_Baseman  73     188    35.71 Infielder  \n",
       "6 Brian_Roberts   BAL  Second_Baseman 69     176    29.39 Infielder  "
      ]
     },
     "metadata": {},
     "output_type": "display_data"
    }
   ],
   "source": [
    "head(data)"
   ]
  },
  {
   "cell_type": "code",
   "execution_count": 3,
   "id": "86288936-09f3-4669-a022-eefaf5552f89",
   "metadata": {},
   "outputs": [
    {
     "data": {
      "text/html": [
       "1015"
      ],
      "text/latex": [
       "1015"
      ],
      "text/markdown": [
       "1015"
      ],
      "text/plain": [
       "[1] 1015"
      ]
     },
     "metadata": {},
     "output_type": "display_data"
    }
   ],
   "source": [
    "nrow(data)"
   ]
  },
  {
   "cell_type": "code",
   "execution_count": 4,
   "id": "38071294-5f2b-4ef0-bf88-04ba47767561",
   "metadata": {},
   "outputs": [
    {
     "data": {
      "text/html": [
       "7"
      ],
      "text/latex": [
       "7"
      ],
      "text/markdown": [
       "7"
      ],
      "text/plain": [
       "[1] 7"
      ]
     },
     "metadata": {},
     "output_type": "display_data"
    }
   ],
   "source": [
    "ncol(data)"
   ]
  },
  {
   "cell_type": "code",
   "execution_count": 5,
   "id": "71aec590-78cb-4d7f-b67b-e978330bcd2a",
   "metadata": {},
   "outputs": [
    {
     "name": "stdout",
     "output_type": "stream",
     "text": [
      "'data.frame':\t1015 obs. of  7 variables:\n",
      " $ Name       : chr  \"Adam_Donachie\" \"Paul_Bako\" \"Ramon_Hernandez\" \"Kevin_Millar\" ...\n",
      " $ Team       : chr  \"BAL\" \"BAL\" \"BAL\" \"BAL\" ...\n",
      " $ Position   : chr  \"Catcher\" \"Catcher\" \"Catcher\" \"First_Baseman\" ...\n",
      " $ Height     : int  74 74 72 72 73 69 69 71 76 71 ...\n",
      " $ Weight     : int  180 215 210 210 188 176 209 200 231 180 ...\n",
      " $ Age        : num  23 34.7 30.8 35.4 35.7 ...\n",
      " $ PosCategory: chr  \"Catcher\" \"Catcher\" \"Catcher\" \"Infielder\" ...\n"
     ]
    }
   ],
   "source": [
    "str(data)"
   ]
  },
  {
   "cell_type": "code",
   "execution_count": 7,
   "id": "9c776077-6fe4-4560-ac8e-ecd8516ef8ed",
   "metadata": {},
   "outputs": [
    {
     "data": {
      "text/plain": [
       "     Name               Team             Position             Height     \n",
       " Length:1015        Length:1015        Length:1015        Min.   :67.00  \n",
       " Class :character   Class :character   Class :character   1st Qu.:72.00  \n",
       " Mode  :character   Mode  :character   Mode  :character   Median :74.00  \n",
       "                                                          Mean   :73.69  \n",
       "                                                          3rd Qu.:75.00  \n",
       "                                                          Max.   :83.00  \n",
       "     Weight           Age        PosCategory       \n",
       " Min.   :150.0   Min.   :20.90   Length:1015       \n",
       " 1st Qu.:186.0   1st Qu.:25.41   Class :character  \n",
       " Median :200.0   Median :27.90   Mode  :character  \n",
       " Mean   :201.3   Mean   :28.71                     \n",
       " 3rd Qu.:215.0   3rd Qu.:31.19                     \n",
       " Max.   :290.0   Max.   :48.52                     "
      ]
     },
     "metadata": {},
     "output_type": "display_data"
    }
   ],
   "source": [
    "summary(data)"
   ]
  },
  {
   "cell_type": "code",
   "execution_count": null,
   "id": "ea8b42d1-b13a-4aea-9cb5-65b9d874f838",
   "metadata": {},
   "outputs": [],
   "source": []
  },
  {
   "cell_type": "code",
   "execution_count": 8,
   "id": "0710724b-adda-46c6-8ff0-d15642701d8b",
   "metadata": {},
   "outputs": [],
   "source": [
    "baseball = data[c('Height', 'Weight')]\n",
    "baseball['Height'] = baseball['Height'] * 0.0254\n",
    "baseball['Weight'] = baseball['Weight'] * 0.453592"
   ]
  },
  {
   "cell_type": "code",
   "execution_count": 9,
   "id": "cfc6a49f-a769-4a9a-884d-48590c2575d7",
   "metadata": {},
   "outputs": [
    {
     "data": {
      "text/html": [
       "<table class=\"dataframe\">\n",
       "<caption>A data.frame: 6 × 2</caption>\n",
       "<thead>\n",
       "\t<tr><th></th><th scope=col>Height</th><th scope=col>Weight</th></tr>\n",
       "\t<tr><th></th><th scope=col>&lt;dbl&gt;</th><th scope=col>&lt;dbl&gt;</th></tr>\n",
       "</thead>\n",
       "<tbody>\n",
       "\t<tr><th scope=row>1</th><td>1.8796</td><td>81.64656</td></tr>\n",
       "\t<tr><th scope=row>2</th><td>1.8796</td><td>97.52228</td></tr>\n",
       "\t<tr><th scope=row>3</th><td>1.8288</td><td>95.25432</td></tr>\n",
       "\t<tr><th scope=row>4</th><td>1.8288</td><td>95.25432</td></tr>\n",
       "\t<tr><th scope=row>5</th><td>1.8542</td><td>85.27530</td></tr>\n",
       "\t<tr><th scope=row>6</th><td>1.7526</td><td>79.83219</td></tr>\n",
       "</tbody>\n",
       "</table>\n"
      ],
      "text/latex": [
       "A data.frame: 6 × 2\n",
       "\\begin{tabular}{r|ll}\n",
       "  & Height & Weight\\\\\n",
       "  & <dbl> & <dbl>\\\\\n",
       "\\hline\n",
       "\t1 & 1.8796 & 81.64656\\\\\n",
       "\t2 & 1.8796 & 97.52228\\\\\n",
       "\t3 & 1.8288 & 95.25432\\\\\n",
       "\t4 & 1.8288 & 95.25432\\\\\n",
       "\t5 & 1.8542 & 85.27530\\\\\n",
       "\t6 & 1.7526 & 79.83219\\\\\n",
       "\\end{tabular}\n"
      ],
      "text/markdown": [
       "\n",
       "A data.frame: 6 × 2\n",
       "\n",
       "| <!--/--> | Height &lt;dbl&gt; | Weight &lt;dbl&gt; |\n",
       "|---|---|---|\n",
       "| 1 | 1.8796 | 81.64656 |\n",
       "| 2 | 1.8796 | 97.52228 |\n",
       "| 3 | 1.8288 | 95.25432 |\n",
       "| 4 | 1.8288 | 95.25432 |\n",
       "| 5 | 1.8542 | 85.27530 |\n",
       "| 6 | 1.7526 | 79.83219 |\n",
       "\n"
      ],
      "text/plain": [
       "  Height Weight  \n",
       "1 1.8796 81.64656\n",
       "2 1.8796 97.52228\n",
       "3 1.8288 95.25432\n",
       "4 1.8288 95.25432\n",
       "5 1.8542 85.27530\n",
       "6 1.7526 79.83219"
      ]
     },
     "metadata": {},
     "output_type": "display_data"
    }
   ],
   "source": [
    "head(baseball)"
   ]
  },
  {
   "cell_type": "code",
   "execution_count": null,
   "id": "f02143e1-2357-4893-b5dd-91d66ba89805",
   "metadata": {},
   "outputs": [],
   "source": []
  },
  {
   "cell_type": "code",
   "execution_count": 10,
   "id": "2185bca4-0a7f-487e-9e6d-ba1c3fa3aa7e",
   "metadata": {},
   "outputs": [
    {
     "data": {
      "image/png": "[encoded data removed]",
      "text/plain": [
       "Plot with title “Height vs Weight”"
      ]
     },
     "metadata": {
      "image/png": {
       "height": 420,
       "width": 420
      }
     },
     "output_type": "display_data"
    }
   ],
   "source": [
    "scatter.smooth(x = baseball$Height, y = baseball$Weight,\n",
    "               main = 'Height vs Weight')"
   ]
  },
  {
   "cell_type": "code",
   "execution_count": null,
   "id": "fbabad2d-da76-4b53-bf33-a0d929d6f1aa",
   "metadata": {},
   "outputs": [],
   "source": []
  },
  {
   "cell_type": "code",
   "execution_count": 11,
   "id": "d44e2688-c8b4-48fe-968e-52b0d41813fc",
   "metadata": {},
   "outputs": [
    {
     "data": {
      "image/png": "[encoded data removed]",
      "text/plain": [
       "Plot with title “Weight”"
      ]
     },
     "metadata": {
      "image/png": {
       "height": 420,
       "width": 420
      }
     },
     "output_type": "display_data"
    }
   ],
   "source": [
    "par(mfrow = c(1, 2))\n",
    "boxplot(baseball$Height, main = 'Height',\n",
    "        sub = paste('Outlier rows: ', boxplot.stats(baseball$Height)$out))\n",
    "boxplot(baseball$Weight, main = 'Weight',\n",
    "        sub = paste('Outlier rows: ', boxplot.stats(baseball$Weight)$out))"
   ]
  },
  {
   "cell_type": "code",
   "execution_count": 12,
   "id": "fa203507-8839-4d43-93e0-64f8e77ffbe2",
   "metadata": {},
   "outputs": [
    {
     "data": {
      "text/html": [
       "0.531539322614609"
      ],
      "text/latex": [
       "0.531539322614609"
      ],
      "text/markdown": [
       "0.531539322614609"
      ],
      "text/plain": [
       "[1] 0.5315393"
      ]
     },
     "metadata": {},
     "output_type": "display_data"
    }
   ],
   "source": [
    "cor(baseball$Height, baseball$Weight)"
   ]
  },
  {
   "cell_type": "code",
   "execution_count": 13,
   "id": "95ef2545-b528-404d-bdde-f244f80364aa",
   "metadata": {},
   "outputs": [
    {
     "data": {
      "text/html": [
       "<style>\n",
       ".list-inline {list-style: none; margin:0; padding: 0}\n",
       ".list-inline>li {display: inline-block}\n",
       ".list-inline>li:not(:last-child)::after {content: \"\\00b7\"; padding: 0 .5ex}\n",
       "</style>\n",
       "<ol class=list-inline><li>117.93392</li><li>122.46984</li><li>131.54168</li><li>126.098576</li><li>117.93392</li><li>117.93392</li><li>117.93392</li></ol>\n"
      ],
      "text/latex": [
       "\\begin{enumerate*}\n",
       "\\item 117.93392\n",
       "\\item 122.46984\n",
       "\\item 131.54168\n",
       "\\item 126.098576\n",
       "\\item 117.93392\n",
       "\\item 117.93392\n",
       "\\item 117.93392\n",
       "\\end{enumerate*}\n"
      ],
      "text/markdown": [
       "1. 117.93392\n",
       "2. 122.46984\n",
       "3. 131.54168\n",
       "4. 126.098576\n",
       "5. 117.93392\n",
       "6. 117.93392\n",
       "7. 117.93392\n",
       "\n",
       "\n"
      ],
      "text/plain": [
       "[1] 117.9339 122.4698 131.5417 126.0986 117.9339 117.9339 117.9339"
      ]
     },
     "metadata": {},
     "output_type": "display_data"
    }
   ],
   "source": [
    "wt_outliers = boxplot.stats(baseball$Weight)$out\n",
    "\n",
    "wt_outliers"
   ]
  },
  {
   "cell_type": "code",
   "execution_count": 14,
   "id": "af11b847-dc23-4243-a28c-58d14eebec1f",
   "metadata": {},
   "outputs": [
    {
     "data": {
      "text/html": [
       "<style>\n",
       ".list-inline {list-style: none; margin:0; padding: 0}\n",
       ".list-inline>li {display: inline-block}\n",
       ".list-inline>li:not(:last-child)::after {content: \"\\00b7\"; padding: 0 .5ex}\n",
       "</style>\n",
       "<ol class=list-inline><li>2.0574</li><li>2.032</li><li>2.032</li><li>2.032</li><li>2.032</li><li>2.0828</li><li>2.032</li><li>2.0574</li><li>2.0828</li><li>2.1082</li><li>1.7018</li><li>1.7018</li></ol>\n"
      ],
      "text/latex": [
       "\\begin{enumerate*}\n",
       "\\item 2.0574\n",
       "\\item 2.032\n",
       "\\item 2.032\n",
       "\\item 2.032\n",
       "\\item 2.032\n",
       "\\item 2.0828\n",
       "\\item 2.032\n",
       "\\item 2.0574\n",
       "\\item 2.0828\n",
       "\\item 2.1082\n",
       "\\item 1.7018\n",
       "\\item 1.7018\n",
       "\\end{enumerate*}\n"
      ],
      "text/markdown": [
       "1. 2.0574\n",
       "2. 2.032\n",
       "3. 2.032\n",
       "4. 2.032\n",
       "5. 2.032\n",
       "6. 2.0828\n",
       "7. 2.032\n",
       "8. 2.0574\n",
       "9. 2.0828\n",
       "10. 2.1082\n",
       "11. 1.7018\n",
       "12. 1.7018\n",
       "\n",
       "\n"
      ],
      "text/plain": [
       " [1] 2.0574 2.0320 2.0320 2.0320 2.0320 2.0828 2.0320 2.0574 2.0828 2.1082\n",
       "[11] 1.7018 1.7018"
      ]
     },
     "metadata": {},
     "output_type": "display_data"
    }
   ],
   "source": [
    "ht_outliers = boxplot.stats(baseball$Height)$out\n",
    "\n",
    "ht_outliers"
   ]
  },
  {
   "cell_type": "code",
   "execution_count": 17,
   "id": "46da9297-b300-48fc-81a4-37e9ae9d6356",
   "metadata": {},
   "outputs": [
    {
     "data": {
      "text/html": [
       "<table class=\"dataframe\">\n",
       "<caption>A data.frame: 6 × 2</caption>\n",
       "<thead>\n",
       "\t<tr><th></th><th scope=col>Height</th><th scope=col>Weight</th></tr>\n",
       "\t<tr><th></th><th scope=col>&lt;dbl&gt;</th><th scope=col>&lt;dbl&gt;</th></tr>\n",
       "</thead>\n",
       "<tbody>\n",
       "\t<tr><th scope=row>1</th><td>1.8796</td><td>81.64656</td></tr>\n",
       "\t<tr><th scope=row>2</th><td>1.8796</td><td>97.52228</td></tr>\n",
       "\t<tr><th scope=row>3</th><td>1.8288</td><td>95.25432</td></tr>\n",
       "\t<tr><th scope=row>4</th><td>1.8288</td><td>95.25432</td></tr>\n",
       "\t<tr><th scope=row>5</th><td>1.8542</td><td>85.27530</td></tr>\n",
       "\t<tr><th scope=row>6</th><td>1.7526</td><td>79.83219</td></tr>\n",
       "</tbody>\n",
       "</table>\n"
      ],
      "text/latex": [
       "A data.frame: 6 × 2\n",
       "\\begin{tabular}{r|ll}\n",
       "  & Height & Weight\\\\\n",
       "  & <dbl> & <dbl>\\\\\n",
       "\\hline\n",
       "\t1 & 1.8796 & 81.64656\\\\\n",
       "\t2 & 1.8796 & 97.52228\\\\\n",
       "\t3 & 1.8288 & 95.25432\\\\\n",
       "\t4 & 1.8288 & 95.25432\\\\\n",
       "\t5 & 1.8542 & 85.27530\\\\\n",
       "\t6 & 1.7526 & 79.83219\\\\\n",
       "\\end{tabular}\n"
      ],
      "text/markdown": [
       "\n",
       "A data.frame: 6 × 2\n",
       "\n",
       "| <!--/--> | Height &lt;dbl&gt; | Weight &lt;dbl&gt; |\n",
       "|---|---|---|\n",
       "| 1 | 1.8796 | 81.64656 |\n",
       "| 2 | 1.8796 | 97.52228 |\n",
       "| 3 | 1.8288 | 95.25432 |\n",
       "| 4 | 1.8288 | 95.25432 |\n",
       "| 5 | 1.8542 | 85.27530 |\n",
       "| 6 | 1.7526 | 79.83219 |\n",
       "\n"
      ],
      "text/plain": [
       "  Height Weight  \n",
       "1 1.8796 81.64656\n",
       "2 1.8796 97.52228\n",
       "3 1.8288 95.25432\n",
       "4 1.8288 95.25432\n",
       "5 1.8542 85.27530\n",
       "6 1.7526 79.83219"
      ]
     },
     "metadata": {},
     "output_type": "display_data"
    }
   ],
   "source": [
    "baseball = baseball[!(baseball$Height %in% ht_outliers),]\n",
    "baseball = baseball[!(baseball$Weight %in% wt_outliers),]\n",
    "\n",
    "head(baseball)"
   ]
  },
  {
   "cell_type": "code",
   "execution_count": null,
   "id": "aec71589-9eb8-4450-b2bc-a3625d51fa54",
   "metadata": {},
   "outputs": [],
   "source": []
  },
  {
   "cell_type": "code",
   "execution_count": 19,
   "id": "389480e1-5993-4244-93e2-a3a2dd02413b",
   "metadata": {},
   "outputs": [],
   "source": [
    "set.seed(42)\n",
    "\n",
    "trainingRowIndex = sample(1:nrow(baseball), 0.7*nrow(baseball))\n",
    "trainingData = baseball[trainingRowIndex,]\n",
    "testData = baseball[-trainingRowIndex,]"
   ]
  },
  {
   "cell_type": "code",
   "execution_count": null,
   "id": "38542a6a-94ef-43d8-bf64-e510f9be1456",
   "metadata": {},
   "outputs": [],
   "source": []
  },
  {
   "cell_type": "code",
   "execution_count": 20,
   "id": "cb769487-5b76-45f8-acb9-f1e9c4789977",
   "metadata": {},
   "outputs": [],
   "source": [
    "lmMod = lm(Weight ~ Height, data = trainingData)"
   ]
  },
  {
   "cell_type": "code",
   "execution_count": null,
   "id": "8751a355-4577-43b7-aed1-45c3eb35db35",
   "metadata": {},
   "outputs": [],
   "source": []
  },
  {
   "cell_type": "code",
   "execution_count": 21,
   "id": "cac336f5-17ed-45a7-b46d-78ba49bfe3b5",
   "metadata": {},
   "outputs": [
    {
     "data": {
      "text/html": [
       "62.1665992405895"
      ],
      "text/latex": [
       "62.1665992405895"
      ],
      "text/markdown": [
       "62.1665992405895"
      ],
      "text/plain": [
       "[1] 62.1666"
      ]
     },
     "metadata": {},
     "output_type": "display_data"
    }
   ],
   "source": [
    "mse = mean(lmMod$residuals^2)\n",
    "\n",
    "mse"
   ]
  },
  {
   "cell_type": "code",
   "execution_count": null,
   "id": "8c4609a8-8863-4bf2-9052-0b636e6a3ef9",
   "metadata": {},
   "outputs": [],
   "source": []
  },
  {
   "cell_type": "code",
   "execution_count": 23,
   "id": "2be1565c-e4a4-4fc0-a64f-5bc819fd0c23",
   "metadata": {},
   "outputs": [],
   "source": [
    "iPred = predict(lmMod, testData)"
   ]
  },
  {
   "cell_type": "code",
   "execution_count": 24,
   "id": "d2ad2f19-3f8a-493b-a726-88af74b46a79",
   "metadata": {},
   "outputs": [
    {
     "data": {
      "text/html": [
       "57.1830374137476"
      ],
      "text/latex": [
       "57.1830374137476"
      ],
      "text/markdown": [
       "57.1830374137476"
      ],
      "text/plain": [
       "[1] 57.18304"
      ]
     },
     "metadata": {},
     "output_type": "display_data"
    }
   ],
   "source": [
    "mse_test = mean((testData$Weight - iPred)^2)\n",
    "\n",
    "mse_test"
   ]
  },
  {
   "cell_type": "code",
   "execution_count": null,
   "id": "e28d6dfa-a817-47b6-a3b2-f1dab4369636",
   "metadata": {},
   "outputs": [],
   "source": []
  },
  {
   "cell_type": "code",
   "execution_count": 25,
   "id": "179f7f13-cf55-47cc-81a9-f5b4e4ab9c7c",
   "metadata": {},
   "outputs": [
    {
     "data": {
      "text/plain": [
       "\n",
       "Call:\n",
       "lm(formula = Weight ~ Height, data = trainingData)\n",
       "\n",
       "Residuals:\n",
       "     Min       1Q   Median       3Q      Max \n",
       "-22.8230  -5.6531  -0.1704   5.1062  27.6049 \n",
       "\n",
       "Coefficients:\n",
       "            Estimate Std. Error t value Pr(>|t|)    \n",
       "(Intercept)  -52.482     10.113   -5.19 2.76e-07 ***\n",
       "Height        76.675      5.408   14.18  < 2e-16 ***\n",
       "---\n",
       "Signif. codes:  0 ‘***’ 0.001 ‘**’ 0.01 ‘*’ 0.05 ‘.’ 0.1 ‘ ’ 1\n",
       "\n",
       "Residual standard error: 7.896 on 696 degrees of freedom\n",
       "Multiple R-squared:  0.2241,\tAdjusted R-squared:  0.223 \n",
       "F-statistic:   201 on 1 and 696 DF,  p-value: < 2.2e-16\n"
      ]
     },
     "metadata": {},
     "output_type": "display_data"
    }
   ],
   "source": [
    "summary(lmMod)"
   ]
  },
  {
   "cell_type": "code",
   "execution_count": null,
   "id": "fa1cc8dd-7d11-42e5-ad07-5ebf8dfddc62",
   "metadata": {},
   "outputs": [],
   "source": []
  },
  {
   "cell_type": "code",
   "execution_count": 26,
   "id": "d22e2fac-ddd7-456d-a722-180622ff43ee",
   "metadata": {},
   "outputs": [
    {
     "data": {
      "text/html": [
       "<strong>Height:</strong> 76.6748792521467"
      ],
      "text/latex": [
       "\\textbf{Height:} 76.6748792521467"
      ],
      "text/markdown": [
       "**Height:** 76.6748792521467"
      ],
      "text/plain": [
       "  Height \n",
       "76.67488 "
      ]
     },
     "metadata": {},
     "output_type": "display_data"
    }
   ],
   "source": [
    "beta_height = coef(lmMod)['Height']\n",
    "\n",
    "beta_height"
   ]
  },
  {
   "cell_type": "code",
   "execution_count": 27,
   "id": "725c50d1-2149-41a1-b40e-220f9b09319e",
   "metadata": {},
   "outputs": [
    {
     "data": {
      "text/html": [
       "<strong>(Intercept):</strong> -52.4823323447618"
      ],
      "text/latex": [
       "\\textbf{(Intercept):} -52.4823323447618"
      ],
      "text/markdown": [
       "**(Intercept):** -52.4823323447618"
      ],
      "text/plain": [
       "(Intercept) \n",
       "  -52.48233 "
      ]
     },
     "metadata": {},
     "output_type": "display_data"
    }
   ],
   "source": [
    "intercept = coef(lmMod)['(Intercept)']\n",
    "\n",
    "intercept"
   ]
  },
  {
   "cell_type": "code",
   "execution_count": null,
   "id": "ebabf5d0-0fdf-4ce9-8066-9abe916f01e0",
   "metadata": {},
   "outputs": [],
   "source": []
  },
  {
   "cell_type": "code",
   "execution_count": 28,
   "id": "84a957d0-cebd-493a-ba0e-d4cf8eb296ab",
   "metadata": {},
   "outputs": [
    {
     "data": {
      "text/html": [
       "<style>\n",
       ".list-inline {list-style: none; margin:0; padding: 0}\n",
       ".list-inline>li {display: inline-block}\n",
       ".list-inline>li:not(:last-child)::after {content: \"\\00b7\"; padding: 0 .5ex}\n",
       "</style>\n",
       "<ol class=list-inline><li>83.6155783277986</li><li>87.449322290406</li><li>95.1168102156206</li></ol>\n"
      ],
      "text/latex": [
       "\\begin{enumerate*}\n",
       "\\item 83.6155783277986\n",
       "\\item 87.449322290406\n",
       "\\item 95.1168102156206\n",
       "\\end{enumerate*}\n"
      ],
      "text/markdown": [
       "1. 83.6155783277986\n",
       "2. 87.449322290406\n",
       "3. 95.1168102156206\n",
       "\n",
       "\n"
      ],
      "text/plain": [
       "[1] 83.61558 87.44932 95.11681"
      ]
     },
     "metadata": {},
     "output_type": "display_data"
    }
   ],
   "source": [
    "# cách 1\n",
    "x = c(1.775, 1.825, 1.925)\n",
    "y = intercept + beta_height * x\n",
    "\n",
    "y"
   ]
  },
  {
   "cell_type": "code",
   "execution_count": 30,
   "id": "0631d10a-eb21-4af3-9f5d-85e92facf8ba",
   "metadata": {},
   "outputs": [
    {
     "data": {
      "text/html": [
       "<style>\n",
       ".dl-inline {width: auto; margin:0; padding: 0}\n",
       ".dl-inline>dt, .dl-inline>dd {float: none; width: auto; display: inline-block}\n",
       ".dl-inline>dt::after {content: \":\\0020\"; padding-right: .5ex}\n",
       ".dl-inline>dt:not(:first-of-type) {padding-left: .5ex}\n",
       "</style><dl class=dl-inline><dt>1</dt><dd>83.6155783277986</dd><dt>2</dt><dd>87.449322290406</dd><dt>3</dt><dd>95.1168102156206</dd></dl>\n"
      ],
      "text/latex": [
       "\\begin{description*}\n",
       "\\item[1] 83.6155783277986\n",
       "\\item[2] 87.449322290406\n",
       "\\item[3] 95.1168102156206\n",
       "\\end{description*}\n"
      ],
      "text/markdown": [
       "1\n",
       ":   83.61557832779862\n",
       ":   87.4493222904063\n",
       ":   95.1168102156206\n",
       "\n"
      ],
      "text/plain": [
       "       1        2        3 \n",
       "83.61558 87.44932 95.11681 "
      ]
     },
     "metadata": {},
     "output_type": "display_data"
    }
   ],
   "source": [
    "# cách 2\n",
    "y = predict(lmMod, data.frame(Height = x))\n",
    "\n",
    "y"
   ]
  },
  {
   "cell_type": "code",
   "execution_count": null,
   "id": "34f9ee18-fffc-406d-9fd5-73e461b53d53",
   "metadata": {},
   "outputs": [],
   "source": []
  },
  {
   "cell_type": "code",
   "execution_count": 31,
   "id": "e0e8e3b8-e269-4ce5-b87f-5556e77de7ac",
   "metadata": {},
   "outputs": [
    {
     "data": {
      "image/png": "[encoded data removed]",
      "text/plain": [
       "Plot with title “Baseball regression”"
      ]
     },
     "metadata": {
      "image/png": {
       "height": 420,
       "width": 420
      }
     },
     "output_type": "display_data"
    }
   ],
   "source": [
    "plot(baseball$Height, baseball$Weight, main = 'Baseball regression',\n",
    "     xlab = 'Height', ylab = 'Weight', pch = 19, frame = F, col = 'blue')\n",
    "lines(x, y, col = 'red', type = 'p')\n",
    "abline(lmMod, baseball, col = 'green')\n",
    "legend('topleft', c('dataset', 'predict'), cex = 0.8, fill = c('blue', 'red'))"
   ]
  },
  {
   "cell_type": "code",
   "execution_count": null,
   "id": "d1b18826-8593-46b4-9c02-2e049458742f",
   "metadata": {},
   "outputs": [],
   "source": []
  }
 ],
 "metadata": {
  "kernelspec": {
   "display_name": "R",
   "language": "R",
   "name": "ir"
  },
  "language_info": {
   "codemirror_mode": "r",
   "file_extension": ".r",
   "mimetype": "text/x-r-source",
   "name": "R",
   "pygments_lexer": "r",
   "version": "4.1.0"
  }
 },
 "nbformat": 4,
 "nbformat_minor": 5
}
