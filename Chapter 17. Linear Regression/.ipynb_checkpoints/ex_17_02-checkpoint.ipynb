{
 "cells": [
  {
   "cell_type": "markdown",
   "id": "1eaf52e5-85ee-45cf-b71c-21f0f7d474e3",
   "metadata": {},
   "source": [
    "![](images/17_01.png)<br>\n",
    "![](images/17_02.png)\n",
    "\n",
    "# Yêu cầu 1"
   ]
  },
  {
   "cell_type": "code",
   "execution_count": 29,
   "id": "52e96b1b-e1e0-4d7f-87df-23161772162b",
   "metadata": {},
   "outputs": [],
   "source": [
    "data = read.csv(\"./data/petrol_consumption.csv\")"
   ]
  },
  {
   "cell_type": "code",
   "execution_count": null,
   "id": "d3eded56-8ef1-451c-a61c-979cebd51988",
   "metadata": {},
   "outputs": [],
   "source": []
  },
  {
   "cell_type": "code",
   "execution_count": 2,
   "id": "84650af8-d3b9-4103-9146-d13124316c77",
   "metadata": {},
   "outputs": [
    {
     "data": {
      "text/html": [
       "<table class=\"dataframe\">\n",
       "<caption>A data.frame: 6 × 5</caption>\n",
       "<thead>\n",
       "\t<tr><th></th><th scope=col>Petrol_tax</th><th scope=col>Average_income</th><th scope=col>Paved_Highways</th><th scope=col>Population_Driver_licence...</th><th scope=col>Petrol_Consumption</th></tr>\n",
       "\t<tr><th></th><th scope=col>&lt;dbl&gt;</th><th scope=col>&lt;int&gt;</th><th scope=col>&lt;int&gt;</th><th scope=col>&lt;dbl&gt;</th><th scope=col>&lt;int&gt;</th></tr>\n",
       "</thead>\n",
       "<tbody>\n",
       "\t<tr><th scope=row>1</th><td> 9.0</td><td>3571</td><td>1976</td><td>0.525</td><td>541</td></tr>\n",
       "\t<tr><th scope=row>2</th><td> 9.0</td><td>4092</td><td>1250</td><td>0.572</td><td>524</td></tr>\n",
       "\t<tr><th scope=row>3</th><td> 9.0</td><td>3865</td><td>1586</td><td>0.580</td><td>561</td></tr>\n",
       "\t<tr><th scope=row>4</th><td> 7.5</td><td>4870</td><td>2351</td><td>0.529</td><td>414</td></tr>\n",
       "\t<tr><th scope=row>5</th><td> 8.0</td><td>4399</td><td> 431</td><td>0.544</td><td>410</td></tr>\n",
       "\t<tr><th scope=row>6</th><td>10.0</td><td>5342</td><td>1333</td><td>0.571</td><td>457</td></tr>\n",
       "</tbody>\n",
       "</table>\n"
      ],
      "text/latex": [
       "A data.frame: 6 × 5\n",
       "\\begin{tabular}{r|lllll}\n",
       "  & Petrol\\_tax & Average\\_income & Paved\\_Highways & Population\\_Driver\\_licence... & Petrol\\_Consumption\\\\\n",
       "  & <dbl> & <int> & <int> & <dbl> & <int>\\\\\n",
       "\\hline\n",
       "\t1 &  9.0 & 3571 & 1976 & 0.525 & 541\\\\\n",
       "\t2 &  9.0 & 4092 & 1250 & 0.572 & 524\\\\\n",
       "\t3 &  9.0 & 3865 & 1586 & 0.580 & 561\\\\\n",
       "\t4 &  7.5 & 4870 & 2351 & 0.529 & 414\\\\\n",
       "\t5 &  8.0 & 4399 &  431 & 0.544 & 410\\\\\n",
       "\t6 & 10.0 & 5342 & 1333 & 0.571 & 457\\\\\n",
       "\\end{tabular}\n"
      ],
      "text/markdown": [
       "\n",
       "A data.frame: 6 × 5\n",
       "\n",
       "| <!--/--> | Petrol_tax &lt;dbl&gt; | Average_income &lt;int&gt; | Paved_Highways &lt;int&gt; | Population_Driver_licence... &lt;dbl&gt; | Petrol_Consumption &lt;int&gt; |\n",
       "|---|---|---|---|---|---|\n",
       "| 1 |  9.0 | 3571 | 1976 | 0.525 | 541 |\n",
       "| 2 |  9.0 | 4092 | 1250 | 0.572 | 524 |\n",
       "| 3 |  9.0 | 3865 | 1586 | 0.580 | 561 |\n",
       "| 4 |  7.5 | 4870 | 2351 | 0.529 | 414 |\n",
       "| 5 |  8.0 | 4399 |  431 | 0.544 | 410 |\n",
       "| 6 | 10.0 | 5342 | 1333 | 0.571 | 457 |\n",
       "\n"
      ],
      "text/plain": [
       "  Petrol_tax Average_income Paved_Highways Population_Driver_licence...\n",
       "1  9.0       3571           1976           0.525                       \n",
       "2  9.0       4092           1250           0.572                       \n",
       "3  9.0       3865           1586           0.580                       \n",
       "4  7.5       4870           2351           0.529                       \n",
       "5  8.0       4399            431           0.544                       \n",
       "6 10.0       5342           1333           0.571                       \n",
       "  Petrol_Consumption\n",
       "1 541               \n",
       "2 524               \n",
       "3 561               \n",
       "4 414               \n",
       "5 410               \n",
       "6 457               "
      ]
     },
     "metadata": {},
     "output_type": "display_data"
    }
   ],
   "source": [
    "head(data)"
   ]
  },
  {
   "cell_type": "code",
   "execution_count": 3,
   "id": "6bf5e721-5d7d-4a36-8f99-fe73ef69697b",
   "metadata": {},
   "outputs": [
    {
     "data": {
      "text/html": [
       "48"
      ],
      "text/latex": [
       "48"
      ],
      "text/markdown": [
       "48"
      ],
      "text/plain": [
       "[1] 48"
      ]
     },
     "metadata": {},
     "output_type": "display_data"
    }
   ],
   "source": [
    "nrow(data)"
   ]
  },
  {
   "cell_type": "code",
   "execution_count": 4,
   "id": "d0d0e3b6-b214-46b3-ad01-b2bfe3077301",
   "metadata": {},
   "outputs": [
    {
     "data": {
      "text/html": [
       "5"
      ],
      "text/latex": [
       "5"
      ],
      "text/markdown": [
       "5"
      ],
      "text/plain": [
       "[1] 5"
      ]
     },
     "metadata": {},
     "output_type": "display_data"
    }
   ],
   "source": [
    "ncol(data)"
   ]
  },
  {
   "cell_type": "code",
   "execution_count": 5,
   "id": "0b3e60bb-6ae2-41a4-9d7b-f81ba822295b",
   "metadata": {},
   "outputs": [
    {
     "name": "stdout",
     "output_type": "stream",
     "text": [
      "'data.frame':\t48 obs. of  5 variables:\n",
      " $ Petrol_tax                  : num  9 9 9 7.5 8 10 8 8 8 7 ...\n",
      " $ Average_income              : int  3571 4092 3865 4870 4399 5342 5319 5126 4447 4512 ...\n",
      " $ Paved_Highways              : int  1976 1250 1586 2351 431 1333 11868 2138 8577 8507 ...\n",
      " $ Population_Driver_licence...: num  0.525 0.572 0.58 0.529 0.544 0.571 0.451 0.553 0.529 0.552 ...\n",
      " $ Petrol_Consumption          : int  541 524 561 414 410 457 344 467 464 498 ...\n"
     ]
    }
   ],
   "source": [
    "str(data)"
   ]
  },
  {
   "cell_type": "code",
   "execution_count": 6,
   "id": "6af1baa2-672f-4a7b-83c8-7d2d88cad9d2",
   "metadata": {},
   "outputs": [
    {
     "data": {
      "text/plain": [
       "   Petrol_tax     Average_income Paved_Highways  Population_Driver_licence...\n",
       " Min.   : 5.000   Min.   :3063   Min.   :  431   Min.   :0.4510              \n",
       " 1st Qu.: 7.000   1st Qu.:3739   1st Qu.: 3110   1st Qu.:0.5298              \n",
       " Median : 7.500   Median :4298   Median : 4736   Median :0.5645              \n",
       " Mean   : 7.668   Mean   :4242   Mean   : 5565   Mean   :0.5703              \n",
       " 3rd Qu.: 8.125   3rd Qu.:4579   3rd Qu.: 7156   3rd Qu.:0.5952              \n",
       " Max.   :10.000   Max.   :5342   Max.   :17782   Max.   :0.7240              \n",
       " Petrol_Consumption\n",
       " Min.   :344.0     \n",
       " 1st Qu.:509.5     \n",
       " Median :568.5     \n",
       " Mean   :576.8     \n",
       " 3rd Qu.:632.8     \n",
       " Max.   :968.0     "
      ]
     },
     "metadata": {},
     "output_type": "display_data"
    }
   ],
   "source": [
    "summary(data)"
   ]
  },
  {
   "cell_type": "code",
   "execution_count": null,
   "id": "083f888c-d02a-47c9-b703-0eef1e1846f8",
   "metadata": {},
   "outputs": [],
   "source": []
  },
  {
   "cell_type": "code",
   "execution_count": 7,
   "id": "d934a5f2-3248-4c2c-85e7-e15d665ce1b2",
   "metadata": {},
   "outputs": [
    {
     "data": {
      "image/png": "[encoded data removed]",
      "text/plain": [
       "plot without title"
      ]
     },
     "metadata": {
      "image/png": {
       "height": 420,
       "width": 420
      }
     },
     "output_type": "display_data"
    }
   ],
   "source": [
    "pairs(~Petrol_Consumption + Petrol_tax + Average_income +\n",
    "       Paved_Highways + Population_Driver_licence...,\n",
    "      data = data)"
   ]
  },
  {
   "cell_type": "code",
   "execution_count": null,
   "id": "6a86627a-28a6-4f75-8604-1bcec462e843",
   "metadata": {},
   "outputs": [],
   "source": []
  },
  {
   "cell_type": "code",
   "execution_count": 8,
   "id": "1bf02916-6ea4-4f1b-b90b-799fd550874d",
   "metadata": {},
   "outputs": [],
   "source": [
    "input = data[, c('Petrol_tax', 'Population_Driver_licence...', 'Petrol_Consumption')]"
   ]
  },
  {
   "cell_type": "code",
   "execution_count": 10,
   "id": "2415edb7-bd9e-435d-b7bf-c589fdfe4f0a",
   "metadata": {},
   "outputs": [
    {
     "data": {
      "text/html": [
       "<table class=\"dataframe\">\n",
       "<caption>A data.frame: 6 × 3</caption>\n",
       "<thead>\n",
       "\t<tr><th></th><th scope=col>Petrol_tax</th><th scope=col>Population_Driver_licence...</th><th scope=col>Petrol_Consumption</th></tr>\n",
       "\t<tr><th></th><th scope=col>&lt;dbl&gt;</th><th scope=col>&lt;dbl&gt;</th><th scope=col>&lt;int&gt;</th></tr>\n",
       "</thead>\n",
       "<tbody>\n",
       "\t<tr><th scope=row>1</th><td> 9.0</td><td>0.525</td><td>541</td></tr>\n",
       "\t<tr><th scope=row>2</th><td> 9.0</td><td>0.572</td><td>524</td></tr>\n",
       "\t<tr><th scope=row>3</th><td> 9.0</td><td>0.580</td><td>561</td></tr>\n",
       "\t<tr><th scope=row>4</th><td> 7.5</td><td>0.529</td><td>414</td></tr>\n",
       "\t<tr><th scope=row>5</th><td> 8.0</td><td>0.544</td><td>410</td></tr>\n",
       "\t<tr><th scope=row>6</th><td>10.0</td><td>0.571</td><td>457</td></tr>\n",
       "</tbody>\n",
       "</table>\n"
      ],
      "text/latex": [
       "A data.frame: 6 × 3\n",
       "\\begin{tabular}{r|lll}\n",
       "  & Petrol\\_tax & Population\\_Driver\\_licence... & Petrol\\_Consumption\\\\\n",
       "  & <dbl> & <dbl> & <int>\\\\\n",
       "\\hline\n",
       "\t1 &  9.0 & 0.525 & 541\\\\\n",
       "\t2 &  9.0 & 0.572 & 524\\\\\n",
       "\t3 &  9.0 & 0.580 & 561\\\\\n",
       "\t4 &  7.5 & 0.529 & 414\\\\\n",
       "\t5 &  8.0 & 0.544 & 410\\\\\n",
       "\t6 & 10.0 & 0.571 & 457\\\\\n",
       "\\end{tabular}\n"
      ],
      "text/markdown": [
       "\n",
       "A data.frame: 6 × 3\n",
       "\n",
       "| <!--/--> | Petrol_tax &lt;dbl&gt; | Population_Driver_licence... &lt;dbl&gt; | Petrol_Consumption &lt;int&gt; |\n",
       "|---|---|---|---|\n",
       "| 1 |  9.0 | 0.525 | 541 |\n",
       "| 2 |  9.0 | 0.572 | 524 |\n",
       "| 3 |  9.0 | 0.580 | 561 |\n",
       "| 4 |  7.5 | 0.529 | 414 |\n",
       "| 5 |  8.0 | 0.544 | 410 |\n",
       "| 6 | 10.0 | 0.571 | 457 |\n",
       "\n"
      ],
      "text/plain": [
       "  Petrol_tax Population_Driver_licence... Petrol_Consumption\n",
       "1  9.0       0.525                        541               \n",
       "2  9.0       0.572                        524               \n",
       "3  9.0       0.580                        561               \n",
       "4  7.5       0.529                        414               \n",
       "5  8.0       0.544                        410               \n",
       "6 10.0       0.571                        457               "
      ]
     },
     "metadata": {},
     "output_type": "display_data"
    }
   ],
   "source": [
    "head(input)"
   ]
  },
  {
   "cell_type": "code",
   "execution_count": 11,
   "id": "c0e2cba6-6045-46e6-a21e-1a6870404447",
   "metadata": {},
   "outputs": [
    {
     "data": {
      "image/png": "[encoded data removed]",
      "text/plain": [
       "Plot with title “Population Driver licence”"
      ]
     },
     "metadata": {
      "image/png": {
       "height": 420,
       "width": 420
      }
     },
     "output_type": "display_data"
    }
   ],
   "source": [
    "par(mfrow = c(1, 3))\n",
    "boxplot(input$Petrol_Consumption, main = 'Petrol Consumption',\n",
    "        sub = paste('Outlier rows: ', boxplot.stats(input$Petrol_Consumption)$out))\n",
    "boxplot(input$Petrol_tax, main = 'Petrol Tax',\n",
    "        sub = paste('Outlier rows: ', boxplot.stats(input$Petrol_tax)$out))\n",
    "boxplot(input$Population_Driver_licence..., main = 'Population Driver licence',\n",
    "        sub = paste('Outlier rows: ', boxplot.stats(input$Population_Driver_licence...)$out))"
   ]
  },
  {
   "cell_type": "code",
   "execution_count": 12,
   "id": "a9e5f984-b47e-4f5c-b7d3-be10cb47ad4b",
   "metadata": {},
   "outputs": [
    {
     "data": {
      "text/html": [
       "<style>\n",
       ".list-inline {list-style: none; margin:0; padding: 0}\n",
       ".list-inline>li {display: inline-block}\n",
       ".list-inline>li:not(:last-child)::after {content: \"\\00b7\"; padding: 0 .5ex}\n",
       "</style>\n",
       "<ol class=list-inline><li>865</li><li>968</li></ol>\n"
      ],
      "text/latex": [
       "\\begin{enumerate*}\n",
       "\\item 865\n",
       "\\item 968\n",
       "\\end{enumerate*}\n"
      ],
      "text/markdown": [
       "1. 865\n",
       "2. 968\n",
       "\n",
       "\n"
      ],
      "text/plain": [
       "[1] 865 968"
      ]
     },
     "metadata": {},
     "output_type": "display_data"
    }
   ],
   "source": [
    "pc_outliers = boxplot.stats(input$Petrol_Consumption)$out\n",
    "pc_outliers"
   ]
  },
  {
   "cell_type": "code",
   "execution_count": 13,
   "id": "a8eb22e4-1985-40c2-b9c7-3eb7d8d54bec",
   "metadata": {},
   "outputs": [
    {
     "data": {
      "text/html": [
       "5"
      ],
      "text/latex": [
       "5"
      ],
      "text/markdown": [
       "5"
      ],
      "text/plain": [
       "[1] 5"
      ]
     },
     "metadata": {},
     "output_type": "display_data"
    }
   ],
   "source": [
    "pt_outliers = boxplot.stats(input$Petrol_tax)$out\n",
    "pt_outliers"
   ]
  },
  {
   "cell_type": "code",
   "execution_count": 14,
   "id": "2e75164e-4310-43ea-9ad2-fd9990b4ab10",
   "metadata": {},
   "outputs": [
    {
     "data": {
      "text/html": [
       "0.724"
      ],
      "text/latex": [
       "0.724"
      ],
      "text/markdown": [
       "0.724"
      ],
      "text/plain": [
       "[1] 0.724"
      ]
     },
     "metadata": {},
     "output_type": "display_data"
    }
   ],
   "source": [
    "pd_outliers = boxplot.stats(input$Population_Driver_licence...)$out\n",
    "pd_outliers"
   ]
  },
  {
   "cell_type": "code",
   "execution_count": 15,
   "id": "7cb9012b-a63f-40fb-aeea-c9f45f0ea754",
   "metadata": {},
   "outputs": [
    {
     "data": {
      "text/html": [
       "<table class=\"dataframe\">\n",
       "<caption>A data.frame: 6 × 3</caption>\n",
       "<thead>\n",
       "\t<tr><th></th><th scope=col>Petrol_tax</th><th scope=col>Population_Driver_licence...</th><th scope=col>Petrol_Consumption</th></tr>\n",
       "\t<tr><th></th><th scope=col>&lt;dbl&gt;</th><th scope=col>&lt;dbl&gt;</th><th scope=col>&lt;int&gt;</th></tr>\n",
       "</thead>\n",
       "<tbody>\n",
       "\t<tr><th scope=row>1</th><td> 9.0</td><td>0.525</td><td>541</td></tr>\n",
       "\t<tr><th scope=row>2</th><td> 9.0</td><td>0.572</td><td>524</td></tr>\n",
       "\t<tr><th scope=row>3</th><td> 9.0</td><td>0.580</td><td>561</td></tr>\n",
       "\t<tr><th scope=row>4</th><td> 7.5</td><td>0.529</td><td>414</td></tr>\n",
       "\t<tr><th scope=row>5</th><td> 8.0</td><td>0.544</td><td>410</td></tr>\n",
       "\t<tr><th scope=row>6</th><td>10.0</td><td>0.571</td><td>457</td></tr>\n",
       "</tbody>\n",
       "</table>\n"
      ],
      "text/latex": [
       "A data.frame: 6 × 3\n",
       "\\begin{tabular}{r|lll}\n",
       "  & Petrol\\_tax & Population\\_Driver\\_licence... & Petrol\\_Consumption\\\\\n",
       "  & <dbl> & <dbl> & <int>\\\\\n",
       "\\hline\n",
       "\t1 &  9.0 & 0.525 & 541\\\\\n",
       "\t2 &  9.0 & 0.572 & 524\\\\\n",
       "\t3 &  9.0 & 0.580 & 561\\\\\n",
       "\t4 &  7.5 & 0.529 & 414\\\\\n",
       "\t5 &  8.0 & 0.544 & 410\\\\\n",
       "\t6 & 10.0 & 0.571 & 457\\\\\n",
       "\\end{tabular}\n"
      ],
      "text/markdown": [
       "\n",
       "A data.frame: 6 × 3\n",
       "\n",
       "| <!--/--> | Petrol_tax &lt;dbl&gt; | Population_Driver_licence... &lt;dbl&gt; | Petrol_Consumption &lt;int&gt; |\n",
       "|---|---|---|---|\n",
       "| 1 |  9.0 | 0.525 | 541 |\n",
       "| 2 |  9.0 | 0.572 | 524 |\n",
       "| 3 |  9.0 | 0.580 | 561 |\n",
       "| 4 |  7.5 | 0.529 | 414 |\n",
       "| 5 |  8.0 | 0.544 | 410 |\n",
       "| 6 | 10.0 | 0.571 | 457 |\n",
       "\n"
      ],
      "text/plain": [
       "  Petrol_tax Population_Driver_licence... Petrol_Consumption\n",
       "1  9.0       0.525                        541               \n",
       "2  9.0       0.572                        524               \n",
       "3  9.0       0.580                        561               \n",
       "4  7.5       0.529                        414               \n",
       "5  8.0       0.544                        410               \n",
       "6 10.0       0.571                        457               "
      ]
     },
     "metadata": {},
     "output_type": "display_data"
    }
   ],
   "source": [
    "input = input[!(input$Petrol_Consumption %in% pc_outliers),]\n",
    "input = input[!(input$Petrol_tax %in% pt_outliers),]\n",
    "input = input[!(input$Population_Driver_licence... %in% pd_outliers),]\n",
    "\n",
    "head(input)"
   ]
  },
  {
   "cell_type": "code",
   "execution_count": 16,
   "id": "63f6079f-818f-4798-a75f-3ad8649f0aaa",
   "metadata": {},
   "outputs": [
    {
     "data": {
      "text/html": [
       "45"
      ],
      "text/latex": [
       "45"
      ],
      "text/markdown": [
       "45"
      ],
      "text/plain": [
       "[1] 45"
      ]
     },
     "metadata": {},
     "output_type": "display_data"
    }
   ],
   "source": [
    "nrow(input)"
   ]
  },
  {
   "cell_type": "code",
   "execution_count": null,
   "id": "5b0ce6c4-d766-4e1e-9cb8-6e47c826b983",
   "metadata": {},
   "outputs": [],
   "source": []
  },
  {
   "cell_type": "code",
   "execution_count": 17,
   "id": "570db908-f207-45e3-b64e-72546a5d39e5",
   "metadata": {},
   "outputs": [],
   "source": [
    "set.seed(42)\n",
    "\n",
    "trainingRowIndex = sample(1:nrow(input), 0.8*nrow(input))\n",
    "trainingData = input[trainingRowIndex,]\n",
    "testData = input[-trainingRowIndex,]"
   ]
  },
  {
   "cell_type": "code",
   "execution_count": null,
   "id": "4d43f7f0-4d5f-4f64-9993-509ed30d1681",
   "metadata": {},
   "outputs": [],
   "source": []
  },
  {
   "cell_type": "code",
   "execution_count": 18,
   "id": "3382e3f2-40ab-45c9-94a4-aa46a48ad640",
   "metadata": {},
   "outputs": [],
   "source": [
    "lmMod = lm(Petrol_Consumption ~ Petrol_tax + Population_Driver_licence...,\n",
    "           data = trainingData)"
   ]
  },
  {
   "cell_type": "code",
   "execution_count": null,
   "id": "727599e4-83dc-424d-a396-0563c1682001",
   "metadata": {},
   "outputs": [],
   "source": []
  },
  {
   "cell_type": "code",
   "execution_count": 20,
   "id": "3491d094-f1ba-4125-97a9-346e804fe0ac",
   "metadata": {},
   "outputs": [
    {
     "data": {
      "text/plain": [
       "\n",
       "Call:\n",
       "lm(formula = Petrol_Consumption ~ Petrol_tax + Population_Driver_licence..., \n",
       "    data = trainingData)\n",
       "\n",
       "Residuals:\n",
       "    Min      1Q  Median      3Q     Max \n",
       "-125.16  -61.70    7.70   58.74  151.40 \n",
       "\n",
       "Coefficients:\n",
       "                             Estimate Std. Error t value Pr(>|t|)   \n",
       "(Intercept)                    256.26     221.90   1.155  0.25647   \n",
       "Petrol_tax                     -31.34      14.47  -2.166  0.03762 * \n",
       "Population_Driver_licence...   973.59     270.33   3.602  0.00103 **\n",
       "---\n",
       "Signif. codes:  0 ‘***’ 0.001 ‘**’ 0.01 ‘*’ 0.05 ‘.’ 0.1 ‘ ’ 1\n",
       "\n",
       "Residual standard error: 71.9 on 33 degrees of freedom\n",
       "Multiple R-squared:  0.457,\tAdjusted R-squared:  0.4241 \n",
       "F-statistic: 13.89 on 2 and 33 DF,  p-value: 4.205e-05\n"
      ]
     },
     "metadata": {},
     "output_type": "display_data"
    }
   ],
   "source": [
    "summary(lmMod)"
   ]
  },
  {
   "cell_type": "code",
   "execution_count": null,
   "id": "dd774fd4-435f-4184-9f7d-87d39b8177b5",
   "metadata": {},
   "outputs": [],
   "source": []
  },
  {
   "cell_type": "code",
   "execution_count": 19,
   "id": "2226fd4c-dba7-4d1a-b775-e6b3f52a34f7",
   "metadata": {},
   "outputs": [],
   "source": [
    "cPred = predict(lmMod, testData)"
   ]
  },
  {
   "cell_type": "code",
   "execution_count": null,
   "id": "f58eeaec-5121-4f90-a2d7-25cc3be98a95",
   "metadata": {},
   "outputs": [],
   "source": []
  },
  {
   "cell_type": "code",
   "execution_count": 21,
   "id": "e44d0614-1ded-4cb7-b0bd-131b67b05a35",
   "metadata": {},
   "outputs": [
    {
     "data": {
      "text/html": [
       "4739.38834330754"
      ],
      "text/latex": [
       "4739.38834330754"
      ],
      "text/markdown": [
       "4739.38834330754"
      ],
      "text/plain": [
       "[1] 4739.388"
      ]
     },
     "metadata": {},
     "output_type": "display_data"
    }
   ],
   "source": [
    "mse = mean(lmMod$residuals^2)\n",
    "\n",
    "mse"
   ]
  },
  {
   "cell_type": "code",
   "execution_count": 22,
   "id": "cc17ca65-9055-47f3-ac7d-e7fb14191161",
   "metadata": {},
   "outputs": [
    {
     "data": {
      "text/html": [
       "1247.25293774595"
      ],
      "text/latex": [
       "1247.25293774595"
      ],
      "text/markdown": [
       "1247.25293774595"
      ],
      "text/plain": [
       "[1] 1247.253"
      ]
     },
     "metadata": {},
     "output_type": "display_data"
    }
   ],
   "source": [
    "mse_test = mean((testData$Petrol_Consumption - cPred)^2)\n",
    "\n",
    "mse_test"
   ]
  },
  {
   "cell_type": "code",
   "execution_count": null,
   "id": "fde65df2-3305-4d5d-ab58-059fab779141",
   "metadata": {},
   "outputs": [],
   "source": []
  },
  {
   "cell_type": "code",
   "execution_count": 23,
   "id": "7e669391-0334-4de9-8263-6638e2a8ca0c",
   "metadata": {},
   "outputs": [
    {
     "data": {
      "text/html": [
       "<strong>(Intercept):</strong> 256.255062418024"
      ],
      "text/latex": [
       "\\textbf{(Intercept):} 256.255062418024"
      ],
      "text/markdown": [
       "**(Intercept):** 256.255062418024"
      ],
      "text/plain": [
       "(Intercept) \n",
       "   256.2551 "
      ]
     },
     "metadata": {},
     "output_type": "display_data"
    }
   ],
   "source": [
    "b = coef(lmMod)[1]\n",
    "\n",
    "b"
   ]
  },
  {
   "cell_type": "code",
   "execution_count": 24,
   "id": "d2a76043-962e-4ac7-b8dc-48661b1fd964",
   "metadata": {},
   "outputs": [
    {
     "data": {
      "text/html": [
       "<strong>Petrol_tax:</strong> -31.3415479167603"
      ],
      "text/latex": [
       "\\textbf{Petrol\\textbackslash{}\\_tax:} -31.3415479167603"
      ],
      "text/markdown": [
       "**Petrol_tax:** -31.3415479167603"
      ],
      "text/plain": [
       "Petrol_tax \n",
       " -31.34155 "
      ]
     },
     "metadata": {},
     "output_type": "display_data"
    }
   ],
   "source": [
    "mph = coef(lmMod)[2]\n",
    "\n",
    "mph"
   ]
  },
  {
   "cell_type": "code",
   "execution_count": 25,
   "id": "447c24c8-082d-4f65-bb20-2f2d8d8c27ac",
   "metadata": {},
   "outputs": [
    {
     "data": {
      "text/html": [
       "<strong>Population_Driver_licence...:</strong> 973.590630793002"
      ],
      "text/latex": [
       "\\textbf{Population\\textbackslash{}\\_Driver\\textbackslash{}\\_licence...:} 973.590630793002"
      ],
      "text/markdown": [
       "**Population_Driver_licence...:** 973.590630793002"
      ],
      "text/plain": [
       "Population_Driver_licence... \n",
       "                    973.5906 "
      ]
     },
     "metadata": {},
     "output_type": "display_data"
    }
   ],
   "source": [
    "mpd = coef(lmMod)[3]\n",
    "\n",
    "mpd"
   ]
  },
  {
   "cell_type": "code",
   "execution_count": null,
   "id": "5f8ffc28-4ff4-4267-9375-7bb9dee65fa9",
   "metadata": {},
   "outputs": [],
   "source": []
  },
  {
   "cell_type": "code",
   "execution_count": 26,
   "id": "77d89a23-4f7a-4c95-a4c6-a011d1cb13b3",
   "metadata": {},
   "outputs": [
    {
     "data": {
      "text/html": [
       "<strong>Petrol_tax:</strong> 538.863697027123"
      ],
      "text/latex": [
       "\\textbf{Petrol\\textbackslash{}\\_tax:} 538.863697027123"
      ],
      "text/markdown": [
       "**Petrol_tax:** 538.863697027123"
      ],
      "text/plain": [
       "Petrol_tax \n",
       "  538.8637 "
      ]
     },
     "metadata": {},
     "output_type": "display_data"
    }
   ],
   "source": [
    "x1 = 9\n",
    "x2 = .58\n",
    "\n",
    "y = mph * x1 + mpd * x2 + b\n",
    "\n",
    "y"
   ]
  },
  {
   "cell_type": "code",
   "execution_count": 28,
   "id": "76f211b1-f83c-421b-9506-ef935441afce",
   "metadata": {},
   "outputs": [
    {
     "data": {
      "text/html": [
       "<strong>1:</strong> 538.863697027123"
      ],
      "text/latex": [
       "\\textbf{1:} 538.863697027123"
      ],
      "text/markdown": [
       "**1:** 538.863697027123"
      ],
      "text/plain": [
       "       1 \n",
       "538.8637 "
      ]
     },
     "metadata": {},
     "output_type": "display_data"
    }
   ],
   "source": [
    "y = predict(lmMod, data.frame(Petrol_tax = x1, Population_Driver_licence... = x2))\n",
    "\n",
    "y"
   ]
  },
  {
   "cell_type": "markdown",
   "id": "9427db09-c66d-48fd-bd8f-05c9a757a9ac",
   "metadata": {},
   "source": [
    "# Yêu cầu 2"
   ]
  },
  {
   "cell_type": "code",
   "execution_count": 31,
   "id": "d431c621-81e3-418a-ba47-9b01f2fb2d73",
   "metadata": {},
   "outputs": [],
   "source": [
    "library(BMA)"
   ]
  },
  {
   "cell_type": "code",
   "execution_count": 32,
   "id": "da73a7a6-6ba2-426a-a458-8b8301dd1285",
   "metadata": {},
   "outputs": [],
   "source": [
    "yvar = data[, 'Petrol_Consumption']\n",
    "xvars = data[, -5]\n",
    "bma = bicreg(xvars, yvar, strict = F, OR = 2)"
   ]
  },
  {
   "cell_type": "code",
   "execution_count": 33,
   "id": "63eac9b5-b8f4-422d-8d47-99e082d29282",
   "metadata": {},
   "outputs": [
    {
     "name": "stdout",
     "output_type": "stream",
     "text": [
      "\n",
      "Call:\n",
      "bicreg(x = xvars, y = yvar, strict = F, OR = 2)\n",
      "\n",
      "\n",
      "  1  models were selected\n",
      " Best  1  models (cumulative posterior probability =  1 ): \n",
      "\n",
      "                              p!=0   EV         SD         model 1   \n",
      "Intercept                     100    307.32790  156.83067   307.32790\n",
      "Petrol_tax                    100    -29.48381   10.58358   -29.48381\n",
      "Average_income                100     -0.06802    0.01701    -0.06802\n",
      "Paved_Highways                  0      0.00000    0.00000       .    \n",
      "Population_Driver_licence...  100   1374.76841  183.66954  1374.76841\n",
      "                                                                     \n",
      "nVar                                                            3    \n",
      "r2                                                            0.675  \n",
      "BIC                                                         -42.31437\n",
      "post prob                                                     1      \n"
     ]
    }
   ],
   "source": [
    "summary(bma)"
   ]
  },
  {
   "cell_type": "code",
   "execution_count": 34,
   "id": "ae5b7b32-2911-4be0-a7a6-7edd988ec9a6",
   "metadata": {},
   "outputs": [
    {
     "data": {
      "image/png": "[encoded data removed]",
      "text/plain": [
       "Plot with title “Models selected by BMA”"
      ]
     },
     "metadata": {
      "image/png": {
       "height": 420,
       "width": 420
      }
     },
     "output_type": "display_data"
    }
   ],
   "source": [
    "imageplot.bma(bma)"
   ]
  },
  {
   "cell_type": "code",
   "execution_count": null,
   "id": "f9109520-ce9a-450a-b2c8-021f2788964a",
   "metadata": {},
   "outputs": [],
   "source": []
  }
 ],
 "metadata": {
  "kernelspec": {
   "display_name": "R",
   "language": "R",
   "name": "ir"
  },
  "language_info": {
   "codemirror_mode": "r",
   "file_extension": ".r",
   "mimetype": "text/x-r-source",
   "name": "R",
   "pygments_lexer": "r",
   "version": "4.1.0"
  }
 },
 "nbformat": 4,
 "nbformat_minor": 5
}
